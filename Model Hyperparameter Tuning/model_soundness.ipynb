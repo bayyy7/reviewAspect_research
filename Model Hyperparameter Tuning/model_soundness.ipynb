{
 "cells": [
  {
   "cell_type": "code",
   "execution_count": 102,
   "metadata": {},
   "outputs": [
    {
     "data": {
      "text/html": [
       "<div>\n",
       "<style scoped>\n",
       "    .dataframe tbody tr th:only-of-type {\n",
       "        vertical-align: middle;\n",
       "    }\n",
       "\n",
       "    .dataframe tbody tr th {\n",
       "        vertical-align: top;\n",
       "    }\n",
       "\n",
       "    .dataframe thead th {\n",
       "        text-align: right;\n",
       "    }\n",
       "</style>\n",
       "<table border=\"1\" class=\"dataframe\">\n",
       "  <thead>\n",
       "    <tr style=\"text-align: right;\">\n",
       "      <th></th>\n",
       "      <th>soundness</th>\n",
       "      <th>year</th>\n",
       "      <th>title</th>\n",
       "      <th>num_ref</th>\n",
       "      <th>num_ref_3years</th>\n",
       "      <th>arxiv</th>\n",
       "      <th>neurips</th>\n",
       "      <th>iclr</th>\n",
       "      <th>icml</th>\n",
       "      <th>aaai</th>\n",
       "      <th>...</th>\n",
       "      <th>atr37</th>\n",
       "      <th>atr38</th>\n",
       "      <th>atr39</th>\n",
       "      <th>citation_count</th>\n",
       "      <th>citedIn2018</th>\n",
       "      <th>citedIn2019</th>\n",
       "      <th>citedIn2020</th>\n",
       "      <th>citedIn2021</th>\n",
       "      <th>citedIn2022</th>\n",
       "      <th>citedIn2023</th>\n",
       "    </tr>\n",
       "  </thead>\n",
       "  <tbody>\n",
       "    <tr>\n",
       "      <th>0</th>\n",
       "      <td>1</td>\n",
       "      <td>2018</td>\n",
       "      <td>A PAC-Bayesian Approach to Spectrally-Normaliz...</td>\n",
       "      <td>19</td>\n",
       "      <td>7</td>\n",
       "      <td>6</td>\n",
       "      <td>1</td>\n",
       "      <td>4</td>\n",
       "      <td>0</td>\n",
       "      <td>0</td>\n",
       "      <td>...</td>\n",
       "      <td>1</td>\n",
       "      <td>59</td>\n",
       "      <td>108</td>\n",
       "      <td>444</td>\n",
       "      <td>65.0</td>\n",
       "      <td>107.0</td>\n",
       "      <td>96.0</td>\n",
       "      <td>83.0</td>\n",
       "      <td>84.0</td>\n",
       "      <td>32.0</td>\n",
       "    </tr>\n",
       "    <tr>\n",
       "      <th>1</th>\n",
       "      <td>1</td>\n",
       "      <td>2020</td>\n",
       "      <td>Hamiltonian Generative Networks</td>\n",
       "      <td>31</td>\n",
       "      <td>12</td>\n",
       "      <td>4</td>\n",
       "      <td>1</td>\n",
       "      <td>6</td>\n",
       "      <td>1</td>\n",
       "      <td>0</td>\n",
       "      <td>...</td>\n",
       "      <td>5</td>\n",
       "      <td>63</td>\n",
       "      <td>186</td>\n",
       "      <td>133</td>\n",
       "      <td>0.0</td>\n",
       "      <td>8.0</td>\n",
       "      <td>52.0</td>\n",
       "      <td>47.0</td>\n",
       "      <td>30.0</td>\n",
       "      <td>9.0</td>\n",
       "    </tr>\n",
       "    <tr>\n",
       "      <th>2</th>\n",
       "      <td>0</td>\n",
       "      <td>2020</td>\n",
       "      <td>CM3: Cooperative Multi-goal Multi-stage Multi-...</td>\n",
       "      <td>55</td>\n",
       "      <td>23</td>\n",
       "      <td>3</td>\n",
       "      <td>6</td>\n",
       "      <td>7</td>\n",
       "      <td>9</td>\n",
       "      <td>4</td>\n",
       "      <td>...</td>\n",
       "      <td>0</td>\n",
       "      <td>111</td>\n",
       "      <td>224</td>\n",
       "      <td>188</td>\n",
       "      <td>2.0</td>\n",
       "      <td>7.0</td>\n",
       "      <td>7.0</td>\n",
       "      <td>14.0</td>\n",
       "      <td>15.0</td>\n",
       "      <td>6.0</td>\n",
       "    </tr>\n",
       "    <tr>\n",
       "      <th>3</th>\n",
       "      <td>0</td>\n",
       "      <td>2020</td>\n",
       "      <td>Deep Batch Active Learning by Diverse Uncertai...</td>\n",
       "      <td>48</td>\n",
       "      <td>10</td>\n",
       "      <td>8</td>\n",
       "      <td>1</td>\n",
       "      <td>7</td>\n",
       "      <td>6</td>\n",
       "      <td>2</td>\n",
       "      <td>...</td>\n",
       "      <td>1</td>\n",
       "      <td>42</td>\n",
       "      <td>150</td>\n",
       "      <td>302</td>\n",
       "      <td>1.0</td>\n",
       "      <td>6.0</td>\n",
       "      <td>55.0</td>\n",
       "      <td>116.0</td>\n",
       "      <td>142.0</td>\n",
       "      <td>67.0</td>\n",
       "    </tr>\n",
       "    <tr>\n",
       "      <th>4</th>\n",
       "      <td>1</td>\n",
       "      <td>2020</td>\n",
       "      <td>Robust Reinforcement Learning for Continuous C...</td>\n",
       "      <td>41</td>\n",
       "      <td>15</td>\n",
       "      <td>7</td>\n",
       "      <td>0</td>\n",
       "      <td>3</td>\n",
       "      <td>3</td>\n",
       "      <td>1</td>\n",
       "      <td>...</td>\n",
       "      <td>1</td>\n",
       "      <td>80</td>\n",
       "      <td>225</td>\n",
       "      <td>72</td>\n",
       "      <td>0.0</td>\n",
       "      <td>3.0</td>\n",
       "      <td>18.0</td>\n",
       "      <td>25.0</td>\n",
       "      <td>27.0</td>\n",
       "      <td>9.0</td>\n",
       "    </tr>\n",
       "    <tr>\n",
       "      <th>...</th>\n",
       "      <td>...</td>\n",
       "      <td>...</td>\n",
       "      <td>...</td>\n",
       "      <td>...</td>\n",
       "      <td>...</td>\n",
       "      <td>...</td>\n",
       "      <td>...</td>\n",
       "      <td>...</td>\n",
       "      <td>...</td>\n",
       "      <td>...</td>\n",
       "      <td>...</td>\n",
       "      <td>...</td>\n",
       "      <td>...</td>\n",
       "      <td>...</td>\n",
       "      <td>...</td>\n",
       "      <td>...</td>\n",
       "      <td>...</td>\n",
       "      <td>...</td>\n",
       "      <td>...</td>\n",
       "      <td>...</td>\n",
       "      <td>...</td>\n",
       "    </tr>\n",
       "    <tr>\n",
       "      <th>3160</th>\n",
       "      <td>1</td>\n",
       "      <td>2019</td>\n",
       "      <td>Selfless Sequential Learning</td>\n",
       "      <td>48</td>\n",
       "      <td>12</td>\n",
       "      <td>12</td>\n",
       "      <td>0</td>\n",
       "      <td>6</td>\n",
       "      <td>1</td>\n",
       "      <td>0</td>\n",
       "      <td>...</td>\n",
       "      <td>1</td>\n",
       "      <td>34</td>\n",
       "      <td>167</td>\n",
       "      <td>86</td>\n",
       "      <td>3.0</td>\n",
       "      <td>17.0</td>\n",
       "      <td>23.0</td>\n",
       "      <td>24.0</td>\n",
       "      <td>22.0</td>\n",
       "      <td>6.0</td>\n",
       "    </tr>\n",
       "    <tr>\n",
       "      <th>3161</th>\n",
       "      <td>0</td>\n",
       "      <td>2019</td>\n",
       "      <td>Model-Predictive Policy Learning with Uncertai...</td>\n",
       "      <td>47</td>\n",
       "      <td>13</td>\n",
       "      <td>0</td>\n",
       "      <td>0</td>\n",
       "      <td>2</td>\n",
       "      <td>5</td>\n",
       "      <td>0</td>\n",
       "      <td>...</td>\n",
       "      <td>1</td>\n",
       "      <td>85</td>\n",
       "      <td>200</td>\n",
       "      <td>88</td>\n",
       "      <td>0.0</td>\n",
       "      <td>22.0</td>\n",
       "      <td>25.0</td>\n",
       "      <td>18.0</td>\n",
       "      <td>24.0</td>\n",
       "      <td>8.0</td>\n",
       "    </tr>\n",
       "    <tr>\n",
       "      <th>3162</th>\n",
       "      <td>0</td>\n",
       "      <td>2019</td>\n",
       "      <td>CBOW Is Not All You Need: Combining CBOW with ...</td>\n",
       "      <td>32</td>\n",
       "      <td>19</td>\n",
       "      <td>4</td>\n",
       "      <td>7</td>\n",
       "      <td>3</td>\n",
       "      <td>0</td>\n",
       "      <td>0</td>\n",
       "      <td>...</td>\n",
       "      <td>2</td>\n",
       "      <td>41</td>\n",
       "      <td>152</td>\n",
       "      <td>11</td>\n",
       "      <td>0.0</td>\n",
       "      <td>2.0</td>\n",
       "      <td>2.0</td>\n",
       "      <td>6.0</td>\n",
       "      <td>1.0</td>\n",
       "      <td>0.0</td>\n",
       "    </tr>\n",
       "    <tr>\n",
       "      <th>3163</th>\n",
       "      <td>0</td>\n",
       "      <td>2018</td>\n",
       "      <td>Deep Bayesian Bandits Showdown:  An Empirical ...</td>\n",
       "      <td>47</td>\n",
       "      <td>12</td>\n",
       "      <td>4</td>\n",
       "      <td>1</td>\n",
       "      <td>8</td>\n",
       "      <td>7</td>\n",
       "      <td>1</td>\n",
       "      <td>...</td>\n",
       "      <td>3</td>\n",
       "      <td>76</td>\n",
       "      <td>266</td>\n",
       "      <td>253</td>\n",
       "      <td>15.0</td>\n",
       "      <td>45.0</td>\n",
       "      <td>70.0</td>\n",
       "      <td>80.0</td>\n",
       "      <td>47.0</td>\n",
       "      <td>21.0</td>\n",
       "    </tr>\n",
       "    <tr>\n",
       "      <th>3164</th>\n",
       "      <td>1</td>\n",
       "      <td>2017</td>\n",
       "      <td>Adversarial Training Methods for Semi-Supervis...</td>\n",
       "      <td>38</td>\n",
       "      <td>14</td>\n",
       "      <td>2</td>\n",
       "      <td>4</td>\n",
       "      <td>6</td>\n",
       "      <td>5</td>\n",
       "      <td>0</td>\n",
       "      <td>...</td>\n",
       "      <td>2</td>\n",
       "      <td>20</td>\n",
       "      <td>119</td>\n",
       "      <td>89</td>\n",
       "      <td>66.0</td>\n",
       "      <td>106.0</td>\n",
       "      <td>169.0</td>\n",
       "      <td>170.0</td>\n",
       "      <td>186.0</td>\n",
       "      <td>56.0</td>\n",
       "    </tr>\n",
       "  </tbody>\n",
       "</table>\n",
       "<p>3165 rows × 82 columns</p>\n",
       "</div>"
      ],
      "text/plain": [
       "      soundness  year                                              title  \\\n",
       "0             1  2018  A PAC-Bayesian Approach to Spectrally-Normaliz...   \n",
       "1             1  2020                    Hamiltonian Generative Networks   \n",
       "2             0  2020  CM3: Cooperative Multi-goal Multi-stage Multi-...   \n",
       "3             0  2020  Deep Batch Active Learning by Diverse Uncertai...   \n",
       "4             1  2020  Robust Reinforcement Learning for Continuous C...   \n",
       "...         ...   ...                                                ...   \n",
       "3160          1  2019                       Selfless Sequential Learning   \n",
       "3161          0  2019  Model-Predictive Policy Learning with Uncertai...   \n",
       "3162          0  2019  CBOW Is Not All You Need: Combining CBOW with ...   \n",
       "3163          0  2018  Deep Bayesian Bandits Showdown:  An Empirical ...   \n",
       "3164          1  2017  Adversarial Training Methods for Semi-Supervis...   \n",
       "\n",
       "      num_ref  num_ref_3years  arxiv  neurips  iclr  icml  aaai  ...  atr37  \\\n",
       "0          19               7      6        1     4     0     0  ...      1   \n",
       "1          31              12      4        1     6     1     0  ...      5   \n",
       "2          55              23      3        6     7     9     4  ...      0   \n",
       "3          48              10      8        1     7     6     2  ...      1   \n",
       "4          41              15      7        0     3     3     1  ...      1   \n",
       "...       ...             ...    ...      ...   ...   ...   ...  ...    ...   \n",
       "3160       48              12     12        0     6     1     0  ...      1   \n",
       "3161       47              13      0        0     2     5     0  ...      1   \n",
       "3162       32              19      4        7     3     0     0  ...      2   \n",
       "3163       47              12      4        1     8     7     1  ...      3   \n",
       "3164       38              14      2        4     6     5     0  ...      2   \n",
       "\n",
       "      atr38  atr39  citation_count  citedIn2018  citedIn2019  citedIn2020  \\\n",
       "0        59    108             444         65.0        107.0         96.0   \n",
       "1        63    186             133          0.0          8.0         52.0   \n",
       "2       111    224             188          2.0          7.0          7.0   \n",
       "3        42    150             302          1.0          6.0         55.0   \n",
       "4        80    225              72          0.0          3.0         18.0   \n",
       "...     ...    ...             ...          ...          ...          ...   \n",
       "3160     34    167              86          3.0         17.0         23.0   \n",
       "3161     85    200              88          0.0         22.0         25.0   \n",
       "3162     41    152              11          0.0          2.0          2.0   \n",
       "3163     76    266             253         15.0         45.0         70.0   \n",
       "3164     20    119              89         66.0        106.0        169.0   \n",
       "\n",
       "      citedIn2021  citedIn2022  citedIn2023  \n",
       "0            83.0         84.0         32.0  \n",
       "1            47.0         30.0          9.0  \n",
       "2            14.0         15.0          6.0  \n",
       "3           116.0        142.0         67.0  \n",
       "4            25.0         27.0          9.0  \n",
       "...           ...          ...          ...  \n",
       "3160         24.0         22.0          6.0  \n",
       "3161         18.0         24.0          8.0  \n",
       "3162          6.0          1.0          0.0  \n",
       "3163         80.0         47.0         21.0  \n",
       "3164        170.0        186.0         56.0  \n",
       "\n",
       "[3165 rows x 82 columns]"
      ]
     },
     "execution_count": 102,
     "metadata": {},
     "output_type": "execute_result"
    }
   ],
   "source": [
    "import pandas as pd \n",
    "\n",
    "data = pd.read_csv('../Dataset/soundness.csv')\n",
    "data"
   ]
  },
  {
   "cell_type": "code",
   "execution_count": 103,
   "metadata": {},
   "outputs": [],
   "source": [
    "label_counts = data.groupby(['title', 'soundness']).size().unstack(fill_value=0)\n",
    "dominant_labels = label_counts.idxmax(axis=1)\n",
    "data = data.merge(dominant_labels.rename('dominant_label'), left_on='title', right_index=True)\n",
    "df_filtered = data[data['soundness'] == data['dominant_label']]\n",
    "\n",
    "label_counts_0 = data[data['soundness'] == 0].groupby('title').size().rename('count_0')\n",
    "label_counts_1 = data[data['soundness'] == 1].groupby('title').size().rename('count_1')\n",
    "\n",
    "df_filtered = df_filtered.merge(label_counts_0, left_on='title', right_index=True, how='left')\n",
    "df_filtered = df_filtered.merge(label_counts_1, left_on='title', right_index=True, how='left')\n",
    "\n",
    "df_filtered = df_filtered[df_filtered['count_0'] != df_filtered['count_1']]\n",
    "df_filtered = df_filtered.drop(['dominant_label', 'count_0', 'count_1'], axis=1)"
   ]
  },
  {
   "cell_type": "code",
   "execution_count": 104,
   "metadata": {},
   "outputs": [
    {
     "name": "stdout",
     "output_type": "stream",
     "text": [
      "<class 'pandas.core.frame.DataFrame'>\n",
      "Int64Index: 1241 entries, 0 to 3159\n",
      "Data columns (total 82 columns):\n",
      " #   Column          Non-Null Count  Dtype  \n",
      "---  ------          --------------  -----  \n",
      " 0   soundness       1241 non-null   int64  \n",
      " 1   year            1241 non-null   int64  \n",
      " 2   title           1241 non-null   object \n",
      " 3   num_ref         1241 non-null   int64  \n",
      " 4   num_ref_3years  1241 non-null   int64  \n",
      " 5   arxiv           1241 non-null   int64  \n",
      " 6   neurips         1241 non-null   int64  \n",
      " 7   iclr            1241 non-null   int64  \n",
      " 8   icml            1241 non-null   int64  \n",
      " 9   aaai            1241 non-null   int64  \n",
      " 10  iccv            1241 non-null   int64  \n",
      " 11  cvpr            1241 non-null   int64  \n",
      " 12  emnlp           1241 non-null   int64  \n",
      " 13  acl             1241 non-null   int64  \n",
      " 14  naacl           1241 non-null   int64  \n",
      " 15  eccv            1241 non-null   int64  \n",
      " 16  icra            1241 non-null   int64  \n",
      " 17  icassp          1241 non-null   int64  \n",
      " 18  ijcai           1241 non-null   int64  \n",
      " 19  aistats         1241 non-null   int64  \n",
      " 20  sigkdd          1241 non-null   int64  \n",
      " 21  neuralcom       1241 non-null   int64  \n",
      " 22  ieee_tran       1241 non-null   int64  \n",
      " 23  acm_tran        1241 non-null   int64  \n",
      " 24  mit_press       1241 non-null   int64  \n",
      " 25  nature          1241 non-null   int64  \n",
      " 26  jmlr            1241 non-null   int64  \n",
      " 27  decision_ori    1241 non-null   object \n",
      " 28  decision_final  1241 non-null   object \n",
      " 29  rating1         1241 non-null   int64  \n",
      " 30  rating2         1241 non-null   int64  \n",
      " 31  rating3         1211 non-null   float64\n",
      " 32  mean            1241 non-null   float64\n",
      " 33  class_label     1241 non-null   object \n",
      " 34  filetype2       1241 non-null   object \n",
      " 35  atr0            1241 non-null   int64  \n",
      " 36  atr1            1241 non-null   int64  \n",
      " 37  atr2            1241 non-null   int64  \n",
      " 38  atr3            1241 non-null   int64  \n",
      " 39  atr4            1241 non-null   int64  \n",
      " 40  atr5            1241 non-null   int64  \n",
      " 41  atr6            1241 non-null   int64  \n",
      " 42  atr7            1241 non-null   int64  \n",
      " 43  atr8            1241 non-null   int64  \n",
      " 44  atr9            1241 non-null   int64  \n",
      " 45  atr10           1241 non-null   int64  \n",
      " 46  atr11           1241 non-null   int64  \n",
      " 47  atr12           1241 non-null   int64  \n",
      " 48  atr13           1241 non-null   int64  \n",
      " 49  atr14           1241 non-null   int64  \n",
      " 50  atr15           1241 non-null   int64  \n",
      " 51  atr16           1241 non-null   int64  \n",
      " 52  atr17           1241 non-null   int64  \n",
      " 53  atr18           1241 non-null   int64  \n",
      " 54  atr19           1241 non-null   int64  \n",
      " 55  atr20           1241 non-null   int64  \n",
      " 56  atr21           1241 non-null   int64  \n",
      " 57  atr22           1241 non-null   int64  \n",
      " 58  atr23           1241 non-null   int64  \n",
      " 59  atr24           1241 non-null   int64  \n",
      " 60  atr25           1241 non-null   int64  \n",
      " 61  atr26           1241 non-null   int64  \n",
      " 62  atr27           1241 non-null   int64  \n",
      " 63  atr28           1241 non-null   int64  \n",
      " 64  atr29           1241 non-null   int64  \n",
      " 65  atr30           1241 non-null   int64  \n",
      " 66  atr31           1241 non-null   int64  \n",
      " 67  atr32           1241 non-null   int64  \n",
      " 68  atr33           1241 non-null   int64  \n",
      " 69  atr34           1241 non-null   int64  \n",
      " 70  atr35           1241 non-null   int64  \n",
      " 71  atr36           1241 non-null   int64  \n",
      " 72  atr37           1241 non-null   int64  \n",
      " 73  atr38           1241 non-null   int64  \n",
      " 74  atr39           1241 non-null   int64  \n",
      " 75  citation_count  1241 non-null   int64  \n",
      " 76  citedIn2018     1239 non-null   float64\n",
      " 77  citedIn2019     1239 non-null   float64\n",
      " 78  citedIn2020     1239 non-null   float64\n",
      " 79  citedIn2021     1239 non-null   float64\n",
      " 80  citedIn2022     1238 non-null   float64\n",
      " 81  citedIn2023     1238 non-null   float64\n",
      "dtypes: float64(8), int64(69), object(5)\n",
      "memory usage: 804.7+ KB\n"
     ]
    }
   ],
   "source": [
    "data = df_filtered.drop_duplicates()\n",
    "data.info()"
   ]
  },
  {
   "cell_type": "code",
   "execution_count": 105,
   "metadata": {},
   "outputs": [
    {
     "data": {
      "image/png": "[encoded data removed]",
      "text/plain": [
       "<Figure size 640x480 with 1 Axes>"
      ]
     },
     "metadata": {},
     "output_type": "display_data"
    }
   ],
   "source": [
    "import seaborn as sns\n",
    "import matplotlib.pyplot as plt\n",
    "\n",
    "sns.countplot(x=data['soundness'])\n",
    "plt.ylabel('Distribution')\n",
    "plt.show()"
   ]
  },
  {
   "cell_type": "code",
   "execution_count": 106,
   "metadata": {},
   "outputs": [],
   "source": [
    "import plotly.graph_objects as go\n",
    "import numpy as np\n",
    "\n",
    "def correlation_matrix(dataframe):\n",
    "    df_corr = dataframe.corr()\n",
    "    fig = go.Figure()\n",
    "    fig.add_trace(\n",
    "        go.Heatmap(\n",
    "            x = df_corr.columns,\n",
    "            y = df_corr.index,\n",
    "            z = np.array(df_corr),\n",
    "            text=df_corr.values,\n",
    "            texttemplate='%{text:.2f}'\n",
    "        )\n",
    "    )\n",
    "    fig.show()"
   ]
  },
  {
   "cell_type": "markdown",
   "metadata": {},
   "source": [
    "## Citing Sentence Predictor"
   ]
  },
  {
   "cell_type": "code",
   "execution_count": 107,
   "metadata": {},
   "outputs": [],
   "source": [
    "citing_sentence = data[['atr0', 'atr1', 'atr2', 'atr3', 'atr4', 'atr5', 'atr6', 'atr7', 'atr8', 'atr9', 'atr10', 'atr11', 'atr12', 'atr13', 'atr14', 'atr15', 'atr16', 'atr17', 'atr18', 'atr19']]\n",
    "y = data['soundness']"
   ]
  },
  {
   "cell_type": "code",
   "execution_count": 108,
   "metadata": {},
   "outputs": [
    {
     "data": {
      "application/vnd.plotly.v1+json": {
       "config": {
        "plotlyServerURL": "https://plot.ly"
       },
       "data": [
        {
         "text": [
          [
           1,
           0.011202429000958245,
           0.15060871144083673,
           0.1572612062878075,
           0.11150227493969325,
           0.0816669336902315,
           0.087735649950745,
           0.11264658141205962,
           0.009716263490586461,
           0.022048321402253972,
           -0.004108434555615904,
           0.06705332036933853,
           0.011721864859622046,
           0.02919411783246747,
           0.006433484822536823,
           0.002249618201520127,
           0.025070228779723643,
           0.02718335542541668,
           0.11166545510789454,
           0.3051194511597917,
           -0.03972782477868095
          ],
          [
           0.011202429000958245,
           1,
           0.05791641138628994,
           0.03795245594111312,
           0.05190821334785723,
           0.13917935190441086,
           0.053920814229899444,
           0.04259819389737101,
           0.061754316330145206,
           -0.0069684377656215575,
           0.09350433059167422,
           -0.00839696134077692,
           -0.00909413933528184,
           0.045789507076438564,
           0.07952006023246298,
           0.01713549999950241,
           0.06034422553723528,
           0.03623514452934213,
           0.09869334335970005,
           0.17804102830780785,
           -0.008358497619232255
          ],
          [
           0.15060871144083673,
           0.05791641138628994,
           1,
           0.21074559897001216,
           0.11098344383306091,
           0.2450015059302106,
           0.12094670267131108,
           0.08562675654945662,
           0.02979004386102538,
           0.09903701460583345,
           0.04030140998202599,
           -0.04101956074548866,
           0.08904921491491942,
           0.054081265563411356,
           0.1935027965781356,
           0.04204395931684463,
           0.021780464388485698,
           0.05313268727741779,
           0.17985129545620673,
           0.47776421623056037,
           -0.06007371320840436
          ],
          [
           0.1572612062878075,
           0.03795245594111312,
           0.21074559897001216,
           1,
           0.07143806048032302,
           0.11386866193472814,
           0.11612205132331603,
           0.15756507087951135,
           0.11191291022174565,
           0.041870619784792784,
           0.0017555974550451557,
           0.10560380531591344,
           0.017528646538031333,
           0.02940880438570563,
           -0.06339277908734985,
           0.07855048377037749,
           0.10111579171558958,
           0.05282329841592155,
           0.2121334264695551,
           0.42362187580965516,
           0.014598003089201415
          ],
          [
           0.11150227493969325,
           0.05190821334785723,
           0.11098344383306091,
           0.07143806048032302,
           1,
           0.10410388112138709,
           0.07339290449578781,
           0.06132964420452393,
           0.048288172696720054,
           0.024703131694294063,
           -0.0075687884931445555,
           0.0883849094277567,
           0.05013866050919388,
           0.0590732081598645,
           0.005175263035288983,
           0.056874858907768916,
           0.04374387752691958,
           -0.0030469771073100087,
           0.0691038832623122,
           0.284104072884067,
           -0.021865234424751075
          ],
          [
           0.0816669336902315,
           0.13917935190441086,
           0.2450015059302106,
           0.11386866193472814,
           0.10410388112138709,
           1,
           0.20851758502801399,
           0.18151676375891115,
           0.14812604290466266,
           0.11697456344227072,
           0.08482172489267678,
           0.03324416641804653,
           0.029514906614328065,
           0.018229052724551508,
           0.16030394687984856,
           0.016507939012557975,
           0.06457563528635991,
           0.13327067863324388,
           0.18841315850206355,
           0.4687516391919733,
           -0.011463982988276484
          ],
          [
           0.087735649950745,
           0.053920814229899444,
           0.12094670267131108,
           0.11612205132331603,
           0.07339290449578781,
           0.20851758502801399,
           1,
           0.3146970183013885,
           0.11020757209006489,
           0.1950701456086752,
           0.04725267005252521,
           0.19542133246135399,
           0.06523120382707705,
           0.008056408769720719,
           0.058455192696404534,
           0.05928210687279753,
           0.15301831911220404,
           0.08094151272063954,
           0.14858043481009225,
           0.49614398517157837,
           -0.05623806575979781
          ],
          [
           0.11264658141205962,
           0.04259819389737101,
           0.08562675654945662,
           0.15756507087951135,
           0.06132964420452393,
           0.18151676375891115,
           0.3146970183013885,
           1,
           0.12045759269271966,
           0.24541594116083024,
           0.04024005011444299,
           0.21078749162246818,
           0.06473231051271104,
           0.05897900112273181,
           -0.04419158642438025,
           0.06864212708232774,
           0.18452312537352408,
           0.12124924162586727,
           0.10210750394412255,
           0.5613178296526632,
           0.06318341762989745
          ],
          [
           0.009716263490586461,
           0.061754316330145206,
           0.02979004386102538,
           0.11191291022174565,
           0.048288172696720054,
           0.14812604290466266,
           0.11020757209006489,
           0.12045759269271966,
           1,
           0.13977533404271464,
           0.08508097883213832,
           0.05539131944574994,
           0.024974291496649054,
           0.04280258365458316,
           0.06495219826194897,
           0.07995577850299708,
           0.11123567433277932,
           0.14158253419870792,
           0.18217572046921868,
           0.3010951902252152,
           0.03362614513244451
          ],
          [
           0.022048321402253972,
           -0.0069684377656215575,
           0.09903701460583345,
           0.041870619784792784,
           0.024703131694294063,
           0.11697456344227072,
           0.1950701456086752,
           0.24541594116083024,
           0.13977533404271464,
           1,
           0.013266414138571724,
           0.07897964093283638,
           0.1413781587099231,
           0.09939143593724865,
           0.05638801393249997,
           0.08405195439764519,
           0.12331129391424485,
           0.13424383128084724,
           0.09163621034961901,
           0.35633729410117276,
           0.05748236738016276
          ],
          [
           -0.004108434555615904,
           0.09350433059167422,
           0.04030140998202599,
           0.0017555974550451557,
           -0.0075687884931445555,
           0.08482172489267678,
           0.04725267005252521,
           0.04024005011444299,
           0.08508097883213832,
           0.013266414138571724,
           1,
           -0.0059402324568399445,
           -0.010406843397139574,
           0.011412726962613926,
           0.03858000592627093,
           -0.013551099610870442,
           0.08960336583794674,
           0.0520028003130859,
           0.06703062127344372,
           0.11899886581594592,
           -0.004122336197838916
          ],
          [
           0.06705332036933853,
           -0.00839696134077692,
           -0.04101956074548866,
           0.10560380531591344,
           0.0883849094277567,
           0.03324416641804653,
           0.19542133246135399,
           0.21078749162246818,
           0.05539131944574994,
           0.07897964093283638,
           -0.0059402324568399445,
           1,
           0.12134661911369447,
           0.05829554223950718,
           0.05835592211217169,
           0.05794880965765811,
           0.10329252235973027,
           0.09513502899096354,
           0.08687513436851257,
           0.4492098404540455,
           0.014269669486122157
          ],
          [
           0.011721864859622046,
           -0.00909413933528184,
           0.08904921491491942,
           0.017528646538031333,
           0.05013866050919388,
           0.029514906614328065,
           0.06523120382707705,
           0.06473231051271104,
           0.024974291496649054,
           0.1413781587099231,
           -0.010406843397139574,
           0.12134661911369447,
           1,
           0.06942281364853577,
           0.1253125111195082,
           0.16169674708573548,
           -0.0024870220925602847,
           0.054498257072525445,
           0.05421853969065343,
           0.24397261769720713,
           0.09348331209247839
          ],
          [
           0.02919411783246747,
           0.045789507076438564,
           0.054081265563411356,
           0.02940880438570563,
           0.0590732081598645,
           0.018229052724551508,
           0.008056408769720719,
           0.05897900112273181,
           0.04280258365458316,
           0.09939143593724865,
           0.011412726962613926,
           0.05829554223950718,
           0.06942281364853577,
           1,
           0.1050491907772984,
           0.018522399969448176,
           0.05414209587755387,
           0.06397937503654542,
           0.07975910050808001,
           0.17690818958860668,
           -0.010300704711376113
          ],
          [
           0.006433484822536823,
           0.07952006023246298,
           0.1935027965781356,
           -0.06339277908734985,
           0.005175263035288983,
           0.16030394687984856,
           0.058455192696404534,
           -0.04419158642438025,
           0.06495219826194897,
           0.05638801393249997,
           0.03858000592627093,
           0.05835592211217169,
           0.1253125111195082,
           0.1050491907772984,
           1,
           0.07905011610924675,
           -0.015857306637813918,
           0.040085261156263916,
           0.16844542361630782,
           0.2864331870833668,
           -0.09619119378552238
          ],
          [
           0.002249618201520127,
           0.01713549999950241,
           0.04204395931684463,
           0.07855048377037749,
           0.056874858907768916,
           0.016507939012557975,
           0.05928210687279753,
           0.06864212708232774,
           0.07995577850299708,
           0.08405195439764519,
           -0.013551099610870442,
           0.05794880965765811,
           0.16169674708573548,
           0.018522399969448176,
           0.07905011610924675,
           1,
           0.04548202785797044,
           0.05766245339988511,
           0.07311584410718532,
           0.17164658571426883,
           0.009189228235832637
          ],
          [
           0.025070228779723643,
           0.06034422553723528,
           0.021780464388485698,
           0.10111579171558958,
           0.04374387752691958,
           0.06457563528635991,
           0.15301831911220404,
           0.18452312537352408,
           0.11123567433277932,
           0.12331129391424485,
           0.08960336583794674,
           0.10329252235973027,
           -0.0024870220925602847,
           0.05414209587755387,
           -0.015857306637813918,
           0.04548202785797044,
           1,
           0.16147545464116198,
           0.07380854686371785,
           0.3177731882154683,
           0.05027548177687665
          ],
          [
           0.02718335542541668,
           0.03623514452934213,
           0.05313268727741779,
           0.05282329841592155,
           -0.0030469771073100087,
           0.13327067863324388,
           0.08094151272063954,
           0.12124924162586727,
           0.14158253419870792,
           0.13424383128084724,
           0.0520028003130859,
           0.09513502899096354,
           0.054498257072525445,
           0.06397937503654542,
           0.040085261156263916,
           0.05766245339988511,
           0.16147545464116198,
           1,
           0.07665330500725226,
           0.2695190068955459,
           0.009440749873544811
          ],
          [
           0.11166545510789454,
           0.09869334335970005,
           0.17985129545620673,
           0.2121334264695551,
           0.0691038832623122,
           0.18841315850206355,
           0.14858043481009225,
           0.10210750394412255,
           0.18217572046921868,
           0.09163621034961901,
           0.06703062127344372,
           0.08687513436851257,
           0.05421853969065343,
           0.07975910050808001,
           0.16844542361630782,
           0.07311584410718532,
           0.07380854686371785,
           0.07665330500725226,
           1,
           0.5220652222558192,
           -0.007384129522374689
          ],
          [
           0.3051194511597917,
           0.17804102830780785,
           0.47776421623056037,
           0.42362187580965516,
           0.284104072884067,
           0.4687516391919733,
           0.49614398517157837,
           0.5613178296526632,
           0.3010951902252152,
           0.35633729410117276,
           0.11899886581594592,
           0.4492098404540455,
           0.24397261769720713,
           0.17690818958860668,
           0.2864331870833668,
           0.17164658571426883,
           0.3177731882154683,
           0.2695190068955459,
           0.5220652222558192,
           1,
           -0.0010980511033362205
          ],
          [
           -0.03972782477868095,
           -0.008358497619232255,
           -0.06007371320840436,
           0.014598003089201415,
           -0.021865234424751075,
           -0.011463982988276484,
           -0.05623806575979781,
           0.06318341762989745,
           0.03362614513244451,
           0.05748236738016276,
           -0.004122336197838916,
           0.014269669486122157,
           0.09348331209247839,
           -0.010300704711376113,
           -0.09619119378552238,
           0.009189228235832637,
           0.05027548177687665,
           0.009440749873544811,
           -0.007384129522374689,
           -0.0010980511033362205,
           1
          ]
         ],
         "texttemplate": "%{text:.2f}",
         "type": "heatmap",
         "x": [
          "atr0",
          "atr1",
          "atr2",
          "atr3",
          "atr4",
          "atr5",
          "atr6",
          "atr7",
          "atr8",
          "atr9",
          "atr10",
          "atr11",
          "atr12",
          "atr13",
          "atr14",
          "atr15",
          "atr16",
          "atr17",
          "atr18",
          "atr19",
          "soundness"
         ],
         "y": [
          "atr0",
          "atr1",
          "atr2",
          "atr3",
          "atr4",
          "atr5",
          "atr6",
          "atr7",
          "atr8",
          "atr9",
          "atr10",
          "atr11",
          "atr12",
          "atr13",
          "atr14",
          "atr15",
          "atr16",
          "atr17",
          "atr18",
          "atr19",
          "soundness"
         ],
         "z": [
          [
           1,
           0.011202429000958245,
           0.15060871144083673,
           0.1572612062878075,
           0.11150227493969325,
           0.0816669336902315,
           0.087735649950745,
           0.11264658141205962,
           0.009716263490586461,
           0.022048321402253972,
           -0.004108434555615904,
           0.06705332036933853,
           0.011721864859622046,
           0.02919411783246747,
           0.006433484822536823,
           0.002249618201520127,
           0.025070228779723643,
           0.02718335542541668,
           0.11166545510789454,
           0.3051194511597917,
           -0.03972782477868095
          ],
          [
           0.011202429000958245,
           1,
           0.05791641138628994,
           0.03795245594111312,
           0.05190821334785723,
           0.13917935190441086,
           0.053920814229899444,
           0.04259819389737101,
           0.061754316330145206,
           -0.0069684377656215575,
           0.09350433059167422,
           -0.00839696134077692,
           -0.00909413933528184,
           0.045789507076438564,
           0.07952006023246298,
           0.01713549999950241,
           0.06034422553723528,
           0.03623514452934213,
           0.09869334335970005,
           0.17804102830780785,
           -0.008358497619232255
          ],
          [
           0.15060871144083673,
           0.05791641138628994,
           1,
           0.21074559897001216,
           0.11098344383306091,
           0.2450015059302106,
           0.12094670267131108,
           0.08562675654945662,
           0.02979004386102538,
           0.09903701460583345,
           0.04030140998202599,
           -0.04101956074548866,
           0.08904921491491942,
           0.054081265563411356,
           0.1935027965781356,
           0.04204395931684463,
           0.021780464388485698,
           0.05313268727741779,
           0.17985129545620673,
           0.47776421623056037,
           -0.06007371320840436
          ],
          [
           0.1572612062878075,
           0.03795245594111312,
           0.21074559897001216,
           1,
           0.07143806048032302,
           0.11386866193472814,
           0.11612205132331603,
           0.15756507087951135,
           0.11191291022174565,
           0.041870619784792784,
           0.0017555974550451557,
           0.10560380531591344,
           0.017528646538031333,
           0.02940880438570563,
           -0.06339277908734985,
           0.07855048377037749,
           0.10111579171558958,
           0.05282329841592155,
           0.2121334264695551,
           0.42362187580965516,
           0.014598003089201415
          ],
          [
           0.11150227493969325,
           0.05190821334785723,
           0.11098344383306091,
           0.07143806048032302,
           1,
           0.10410388112138709,
           0.07339290449578781,
           0.06132964420452393,
           0.048288172696720054,
           0.024703131694294063,
           -0.0075687884931445555,
           0.0883849094277567,
           0.05013866050919388,
           0.0590732081598645,
           0.005175263035288983,
           0.056874858907768916,
           0.04374387752691958,
           -0.0030469771073100087,
           0.0691038832623122,
           0.284104072884067,
           -0.021865234424751075
          ],
          [
           0.0816669336902315,
           0.13917935190441086,
           0.2450015059302106,
           0.11386866193472814,
           0.10410388112138709,
           1,
           0.20851758502801399,
           0.18151676375891115,
           0.14812604290466266,
           0.11697456344227072,
           0.08482172489267678,
           0.03324416641804653,
           0.029514906614328065,
           0.018229052724551508,
           0.16030394687984856,
           0.016507939012557975,
           0.06457563528635991,
           0.13327067863324388,
           0.18841315850206355,
           0.4687516391919733,
           -0.011463982988276484
          ],
          [
           0.087735649950745,
           0.053920814229899444,
           0.12094670267131108,
           0.11612205132331603,
           0.07339290449578781,
           0.20851758502801399,
           1,
           0.3146970183013885,
           0.11020757209006489,
           0.1950701456086752,
           0.04725267005252521,
           0.19542133246135399,
           0.06523120382707705,
           0.008056408769720719,
           0.058455192696404534,
           0.05928210687279753,
           0.15301831911220404,
           0.08094151272063954,
           0.14858043481009225,
           0.49614398517157837,
           -0.05623806575979781
          ],
          [
           0.11264658141205962,
           0.04259819389737101,
           0.08562675654945662,
           0.15756507087951135,
           0.06132964420452393,
           0.18151676375891115,
           0.3146970183013885,
           1,
           0.12045759269271966,
           0.24541594116083024,
           0.04024005011444299,
           0.21078749162246818,
           0.06473231051271104,
           0.05897900112273181,
           -0.04419158642438025,
           0.06864212708232774,
           0.18452312537352408,
           0.12124924162586727,
           0.10210750394412255,
           0.5613178296526632,
           0.06318341762989745
          ],
          [
           0.009716263490586461,
           0.061754316330145206,
           0.02979004386102538,
           0.11191291022174565,
           0.048288172696720054,
           0.14812604290466266,
           0.11020757209006489,
           0.12045759269271966,
           1,
           0.13977533404271464,
           0.08508097883213832,
           0.05539131944574994,
           0.024974291496649054,
           0.04280258365458316,
           0.06495219826194897,
           0.07995577850299708,
           0.11123567433277932,
           0.14158253419870792,
           0.18217572046921868,
           0.3010951902252152,
           0.03362614513244451
          ],
          [
           0.022048321402253972,
           -0.0069684377656215575,
           0.09903701460583345,
           0.041870619784792784,
           0.024703131694294063,
           0.11697456344227072,
           0.1950701456086752,
           0.24541594116083024,
           0.13977533404271464,
           1,
           0.013266414138571724,
           0.07897964093283638,
           0.1413781587099231,
           0.09939143593724865,
           0.05638801393249997,
           0.08405195439764519,
           0.12331129391424485,
           0.13424383128084724,
           0.09163621034961901,
           0.35633729410117276,
           0.05748236738016276
          ],
          [
           -0.004108434555615904,
           0.09350433059167422,
           0.04030140998202599,
           0.0017555974550451557,
           -0.0075687884931445555,
           0.08482172489267678,
           0.04725267005252521,
           0.04024005011444299,
           0.08508097883213832,
           0.013266414138571724,
           1,
           -0.0059402324568399445,
           -0.010406843397139574,
           0.011412726962613926,
           0.03858000592627093,
           -0.013551099610870442,
           0.08960336583794674,
           0.0520028003130859,
           0.06703062127344372,
           0.11899886581594592,
           -0.004122336197838916
          ],
          [
           0.06705332036933853,
           -0.00839696134077692,
           -0.04101956074548866,
           0.10560380531591344,
           0.0883849094277567,
           0.03324416641804653,
           0.19542133246135399,
           0.21078749162246818,
           0.05539131944574994,
           0.07897964093283638,
           -0.0059402324568399445,
           1,
           0.12134661911369447,
           0.05829554223950718,
           0.05835592211217169,
           0.05794880965765811,
           0.10329252235973027,
           0.09513502899096354,
           0.08687513436851257,
           0.4492098404540455,
           0.014269669486122157
          ],
          [
           0.011721864859622046,
           -0.00909413933528184,
           0.08904921491491942,
           0.017528646538031333,
           0.05013866050919388,
           0.029514906614328065,
           0.06523120382707705,
           0.06473231051271104,
           0.024974291496649054,
           0.1413781587099231,
           -0.010406843397139574,
           0.12134661911369447,
           1,
           0.06942281364853577,
           0.1253125111195082,
           0.16169674708573548,
           -0.0024870220925602847,
           0.054498257072525445,
           0.05421853969065343,
           0.24397261769720713,
           0.09348331209247839
          ],
          [
           0.02919411783246747,
           0.045789507076438564,
           0.054081265563411356,
           0.02940880438570563,
           0.0590732081598645,
           0.018229052724551508,
           0.008056408769720719,
           0.05897900112273181,
           0.04280258365458316,
           0.09939143593724865,
           0.011412726962613926,
           0.05829554223950718,
           0.06942281364853577,
           1,
           0.1050491907772984,
           0.018522399969448176,
           0.05414209587755387,
           0.06397937503654542,
           0.07975910050808001,
           0.17690818958860668,
           -0.010300704711376113
          ],
          [
           0.006433484822536823,
           0.07952006023246298,
           0.1935027965781356,
           -0.06339277908734985,
           0.005175263035288983,
           0.16030394687984856,
           0.058455192696404534,
           -0.04419158642438025,
           0.06495219826194897,
           0.05638801393249997,
           0.03858000592627093,
           0.05835592211217169,
           0.1253125111195082,
           0.1050491907772984,
           1,
           0.07905011610924675,
           -0.015857306637813918,
           0.040085261156263916,
           0.16844542361630782,
           0.2864331870833668,
           -0.09619119378552238
          ],
          [
           0.002249618201520127,
           0.01713549999950241,
           0.04204395931684463,
           0.07855048377037749,
           0.056874858907768916,
           0.016507939012557975,
           0.05928210687279753,
           0.06864212708232774,
           0.07995577850299708,
           0.08405195439764519,
           -0.013551099610870442,
           0.05794880965765811,
           0.16169674708573548,
           0.018522399969448176,
           0.07905011610924675,
           1,
           0.04548202785797044,
           0.05766245339988511,
           0.07311584410718532,
           0.17164658571426883,
           0.009189228235832637
          ],
          [
           0.025070228779723643,
           0.06034422553723528,
           0.021780464388485698,
           0.10111579171558958,
           0.04374387752691958,
           0.06457563528635991,
           0.15301831911220404,
           0.18452312537352408,
           0.11123567433277932,
           0.12331129391424485,
           0.08960336583794674,
           0.10329252235973027,
           -0.0024870220925602847,
           0.05414209587755387,
           -0.015857306637813918,
           0.04548202785797044,
           1,
           0.16147545464116198,
           0.07380854686371785,
           0.3177731882154683,
           0.05027548177687665
          ],
          [
           0.02718335542541668,
           0.03623514452934213,
           0.05313268727741779,
           0.05282329841592155,
           -0.0030469771073100087,
           0.13327067863324388,
           0.08094151272063954,
           0.12124924162586727,
           0.14158253419870792,
           0.13424383128084724,
           0.0520028003130859,
           0.09513502899096354,
           0.054498257072525445,
           0.06397937503654542,
           0.040085261156263916,
           0.05766245339988511,
           0.16147545464116198,
           1,
           0.07665330500725226,
           0.2695190068955459,
           0.009440749873544811
          ],
          [
           0.11166545510789454,
           0.09869334335970005,
           0.17985129545620673,
           0.2121334264695551,
           0.0691038832623122,
           0.18841315850206355,
           0.14858043481009225,
           0.10210750394412255,
           0.18217572046921868,
           0.09163621034961901,
           0.06703062127344372,
           0.08687513436851257,
           0.05421853969065343,
           0.07975910050808001,
           0.16844542361630782,
           0.07311584410718532,
           0.07380854686371785,
           0.07665330500725226,
           1,
           0.5220652222558192,
           -0.007384129522374689
          ],
          [
           0.3051194511597917,
           0.17804102830780785,
           0.47776421623056037,
           0.42362187580965516,
           0.284104072884067,
           0.4687516391919733,
           0.49614398517157837,
           0.5613178296526632,
           0.3010951902252152,
           0.35633729410117276,
           0.11899886581594592,
           0.4492098404540455,
           0.24397261769720713,
           0.17690818958860668,
           0.2864331870833668,
           0.17164658571426883,
           0.3177731882154683,
           0.2695190068955459,
           0.5220652222558192,
           1,
           -0.0010980511033362205
          ],
          [
           -0.03972782477868095,
           -0.008358497619232255,
           -0.06007371320840436,
           0.014598003089201415,
           -0.021865234424751075,
           -0.011463982988276484,
           -0.05623806575979781,
           0.06318341762989745,
           0.03362614513244451,
           0.05748236738016276,
           -0.004122336197838916,
           0.014269669486122157,
           0.09348331209247839,
           -0.010300704711376113,
           -0.09619119378552238,
           0.009189228235832637,
           0.05027548177687665,
           0.009440749873544811,
           -0.007384129522374689,
           -0.0010980511033362205,
           1
          ]
         ]
        }
       ],
       "layout": {
        "template": {
         "data": {
          "bar": [
           {
            "error_x": {
             "color": "#2a3f5f"
            },
            "error_y": {
             "color": "#2a3f5f"
            },
            "marker": {
             "line": {
              "color": "#E5ECF6",
              "width": 0.5
             },
             "pattern": {
              "fillmode": "overlay",
              "size": 10,
              "solidity": 0.2
             }
            },
            "type": "bar"
           }
          ],
          "barpolar": [
           {
            "marker": {
             "line": {
              "color": "#E5ECF6",
              "width": 0.5
             },
             "pattern": {
              "fillmode": "overlay",
              "size": 10,
              "solidity": 0.2
             }
            },
            "type": "barpolar"
           }
          ],
          "carpet": [
           {
            "aaxis": {
             "endlinecolor": "#2a3f5f",
             "gridcolor": "white",
             "linecolor": "white",
             "minorgridcolor": "white",
             "startlinecolor": "#2a3f5f"
            },
            "baxis": {
             "endlinecolor": "#2a3f5f",
             "gridcolor": "white",
             "linecolor": "white",
             "minorgridcolor": "white",
             "startlinecolor": "#2a3f5f"
            },
            "type": "carpet"
           }
          ],
          "choropleth": [
           {
            "colorbar": {
             "outlinewidth": 0,
             "ticks": ""
            },
            "type": "choropleth"
           }
          ],
          "contour": [
           {
            "colorbar": {
             "outlinewidth": 0,
             "ticks": ""
            },
            "colorscale": [
             [
              0,
              "#0d0887"
             ],
             [
              0.1111111111111111,
              "#46039f"
             ],
             [
              0.2222222222222222,
              "#7201a8"
             ],
             [
              0.3333333333333333,
              "#9c179e"
             ],
             [
              0.4444444444444444,
              "#bd3786"
             ],
             [
              0.5555555555555556,
              "#d8576b"
             ],
             [
              0.6666666666666666,
              "#ed7953"
             ],
             [
              0.7777777777777778,
              "#fb9f3a"
             ],
             [
              0.8888888888888888,
              "#fdca26"
             ],
             [
              1,
              "#f0f921"
             ]
            ],
            "type": "contour"
           }
          ],
          "contourcarpet": [
           {
            "colorbar": {
             "outlinewidth": 0,
             "ticks": ""
            },
            "type": "contourcarpet"
           }
          ],
          "heatmap": [
           {
            "colorbar": {
             "outlinewidth": 0,
             "ticks": ""
            },
            "colorscale": [
             [
              0,
              "#0d0887"
             ],
             [
              0.1111111111111111,
              "#46039f"
             ],
             [
              0.2222222222222222,
              "#7201a8"
             ],
             [
              0.3333333333333333,
              "#9c179e"
             ],
             [
              0.4444444444444444,
              "#bd3786"
             ],
             [
              0.5555555555555556,
              "#d8576b"
             ],
             [
              0.6666666666666666,
              "#ed7953"
             ],
             [
              0.7777777777777778,
              "#fb9f3a"
             ],
             [
              0.8888888888888888,
              "#fdca26"
             ],
             [
              1,
              "#f0f921"
             ]
            ],
            "type": "heatmap"
           }
          ],
          "heatmapgl": [
           {
            "colorbar": {
             "outlinewidth": 0,
             "ticks": ""
            },
            "colorscale": [
             [
              0,
              "#0d0887"
             ],
             [
              0.1111111111111111,
              "#46039f"
             ],
             [
              0.2222222222222222,
              "#7201a8"
             ],
             [
              0.3333333333333333,
              "#9c179e"
             ],
             [
              0.4444444444444444,
              "#bd3786"
             ],
             [
              0.5555555555555556,
              "#d8576b"
             ],
             [
              0.6666666666666666,
              "#ed7953"
             ],
             [
              0.7777777777777778,
              "#fb9f3a"
             ],
             [
              0.8888888888888888,
              "#fdca26"
             ],
             [
              1,
              "#f0f921"
             ]
            ],
            "type": "heatmapgl"
           }
          ],
          "histogram": [
           {
            "marker": {
             "pattern": {
              "fillmode": "overlay",
              "size": 10,
              "solidity": 0.2
             }
            },
            "type": "histogram"
           }
          ],
          "histogram2d": [
           {
            "colorbar": {
             "outlinewidth": 0,
             "ticks": ""
            },
            "colorscale": [
             [
              0,
              "#0d0887"
             ],
             [
              0.1111111111111111,
              "#46039f"
             ],
             [
              0.2222222222222222,
              "#7201a8"
             ],
             [
              0.3333333333333333,
              "#9c179e"
             ],
             [
              0.4444444444444444,
              "#bd3786"
             ],
             [
              0.5555555555555556,
              "#d8576b"
             ],
             [
              0.6666666666666666,
              "#ed7953"
             ],
             [
              0.7777777777777778,
              "#fb9f3a"
             ],
             [
              0.8888888888888888,
              "#fdca26"
             ],
             [
              1,
              "#f0f921"
             ]
            ],
            "type": "histogram2d"
           }
          ],
          "histogram2dcontour": [
           {
            "colorbar": {
             "outlinewidth": 0,
             "ticks": ""
            },
            "colorscale": [
             [
              0,
              "#0d0887"
             ],
             [
              0.1111111111111111,
              "#46039f"
             ],
             [
              0.2222222222222222,
              "#7201a8"
             ],
             [
              0.3333333333333333,
              "#9c179e"
             ],
             [
              0.4444444444444444,
              "#bd3786"
             ],
             [
              0.5555555555555556,
              "#d8576b"
             ],
             [
              0.6666666666666666,
              "#ed7953"
             ],
             [
              0.7777777777777778,
              "#fb9f3a"
             ],
             [
              0.8888888888888888,
              "#fdca26"
             ],
             [
              1,
              "#f0f921"
             ]
            ],
            "type": "histogram2dcontour"
           }
          ],
          "mesh3d": [
           {
            "colorbar": {
             "outlinewidth": 0,
             "ticks": ""
            },
            "type": "mesh3d"
           }
          ],
          "parcoords": [
           {
            "line": {
             "colorbar": {
              "outlinewidth": 0,
              "ticks": ""
             }
            },
            "type": "parcoords"
           }
          ],
          "pie": [
           {
            "automargin": true,
            "type": "pie"
           }
          ],
          "scatter": [
           {
            "fillpattern": {
             "fillmode": "overlay",
             "size": 10,
             "solidity": 0.2
            },
            "type": "scatter"
           }
          ],
          "scatter3d": [
           {
            "line": {
             "colorbar": {
              "outlinewidth": 0,
              "ticks": ""
             }
            },
            "marker": {
             "colorbar": {
              "outlinewidth": 0,
              "ticks": ""
             }
            },
            "type": "scatter3d"
           }
          ],
          "scattercarpet": [
           {
            "marker": {
             "colorbar": {
              "outlinewidth": 0,
              "ticks": ""
             }
            },
            "type": "scattercarpet"
           }
          ],
          "scattergeo": [
           {
            "marker": {
             "colorbar": {
              "outlinewidth": 0,
              "ticks": ""
             }
            },
            "type": "scattergeo"
           }
          ],
          "scattergl": [
           {
            "marker": {
             "colorbar": {
              "outlinewidth": 0,
              "ticks": ""
             }
            },
            "type": "scattergl"
           }
          ],
          "scattermapbox": [
           {
            "marker": {
             "colorbar": {
              "outlinewidth": 0,
              "ticks": ""
             }
            },
            "type": "scattermapbox"
           }
          ],
          "scatterpolar": [
           {
            "marker": {
             "colorbar": {
              "outlinewidth": 0,
              "ticks": ""
             }
            },
            "type": "scatterpolar"
           }
          ],
          "scatterpolargl": [
           {
            "marker": {
             "colorbar": {
              "outlinewidth": 0,
              "ticks": ""
             }
            },
            "type": "scatterpolargl"
           }
          ],
          "scatterternary": [
           {
            "marker": {
             "colorbar": {
              "outlinewidth": 0,
              "ticks": ""
             }
            },
            "type": "scatterternary"
           }
          ],
          "surface": [
           {
            "colorbar": {
             "outlinewidth": 0,
             "ticks": ""
            },
            "colorscale": [
             [
              0,
              "#0d0887"
             ],
             [
              0.1111111111111111,
              "#46039f"
             ],
             [
              0.2222222222222222,
              "#7201a8"
             ],
             [
              0.3333333333333333,
              "#9c179e"
             ],
             [
              0.4444444444444444,
              "#bd3786"
             ],
             [
              0.5555555555555556,
              "#d8576b"
             ],
             [
              0.6666666666666666,
              "#ed7953"
             ],
             [
              0.7777777777777778,
              "#fb9f3a"
             ],
             [
              0.8888888888888888,
              "#fdca26"
             ],
             [
              1,
              "#f0f921"
             ]
            ],
            "type": "surface"
           }
          ],
          "table": [
           {
            "cells": {
             "fill": {
              "color": "#EBF0F8"
             },
             "line": {
              "color": "white"
             }
            },
            "header": {
             "fill": {
              "color": "#C8D4E3"
             },
             "line": {
              "color": "white"
             }
            },
            "type": "table"
           }
          ]
         },
         "layout": {
          "annotationdefaults": {
           "arrowcolor": "#2a3f5f",
           "arrowhead": 0,
           "arrowwidth": 1
          },
          "autotypenumbers": "strict",
          "coloraxis": {
           "colorbar": {
            "outlinewidth": 0,
            "ticks": ""
           }
          },
          "colorscale": {
           "diverging": [
            [
             0,
             "#8e0152"
            ],
            [
             0.1,
             "#c51b7d"
            ],
            [
             0.2,
             "#de77ae"
            ],
            [
             0.3,
             "#f1b6da"
            ],
            [
             0.4,
             "#fde0ef"
            ],
            [
             0.5,
             "#f7f7f7"
            ],
            [
             0.6,
             "#e6f5d0"
            ],
            [
             0.7,
             "#b8e186"
            ],
            [
             0.8,
             "#7fbc41"
            ],
            [
             0.9,
             "#4d9221"
            ],
            [
             1,
             "#276419"
            ]
           ],
           "sequential": [
            [
             0,
             "#0d0887"
            ],
            [
             0.1111111111111111,
             "#46039f"
            ],
            [
             0.2222222222222222,
             "#7201a8"
            ],
            [
             0.3333333333333333,
             "#9c179e"
            ],
            [
             0.4444444444444444,
             "#bd3786"
            ],
            [
             0.5555555555555556,
             "#d8576b"
            ],
            [
             0.6666666666666666,
             "#ed7953"
            ],
            [
             0.7777777777777778,
             "#fb9f3a"
            ],
            [
             0.8888888888888888,
             "#fdca26"
            ],
            [
             1,
             "#f0f921"
            ]
           ],
           "sequentialminus": [
            [
             0,
             "#0d0887"
            ],
            [
             0.1111111111111111,
             "#46039f"
            ],
            [
             0.2222222222222222,
             "#7201a8"
            ],
            [
             0.3333333333333333,
             "#9c179e"
            ],
            [
             0.4444444444444444,
             "#bd3786"
            ],
            [
             0.5555555555555556,
             "#d8576b"
            ],
            [
             0.6666666666666666,
             "#ed7953"
            ],
            [
             0.7777777777777778,
             "#fb9f3a"
            ],
            [
             0.8888888888888888,
             "#fdca26"
            ],
            [
             1,
             "#f0f921"
            ]
           ]
          },
          "colorway": [
           "#636efa",
           "#EF553B",
           "#00cc96",
           "#ab63fa",
           "#FFA15A",
           "#19d3f3",
           "#FF6692",
           "#B6E880",
           "#FF97FF",
           "#FECB52"
          ],
          "font": {
           "color": "#2a3f5f"
          },
          "geo": {
           "bgcolor": "white",
           "lakecolor": "white",
           "landcolor": "#E5ECF6",
           "showlakes": true,
           "showland": true,
           "subunitcolor": "white"
          },
          "hoverlabel": {
           "align": "left"
          },
          "hovermode": "closest",
          "mapbox": {
           "style": "light"
          },
          "paper_bgcolor": "white",
          "plot_bgcolor": "#E5ECF6",
          "polar": {
           "angularaxis": {
            "gridcolor": "white",
            "linecolor": "white",
            "ticks": ""
           },
           "bgcolor": "#E5ECF6",
           "radialaxis": {
            "gridcolor": "white",
            "linecolor": "white",
            "ticks": ""
           }
          },
          "scene": {
           "xaxis": {
            "backgroundcolor": "#E5ECF6",
            "gridcolor": "white",
            "gridwidth": 2,
            "linecolor": "white",
            "showbackground": true,
            "ticks": "",
            "zerolinecolor": "white"
           },
           "yaxis": {
            "backgroundcolor": "#E5ECF6",
            "gridcolor": "white",
            "gridwidth": 2,
            "linecolor": "white",
            "showbackground": true,
            "ticks": "",
            "zerolinecolor": "white"
           },
           "zaxis": {
            "backgroundcolor": "#E5ECF6",
            "gridcolor": "white",
            "gridwidth": 2,
            "linecolor": "white",
            "showbackground": true,
            "ticks": "",
            "zerolinecolor": "white"
           }
          },
          "shapedefaults": {
           "line": {
            "color": "#2a3f5f"
           }
          },
          "ternary": {
           "aaxis": {
            "gridcolor": "white",
            "linecolor": "white",
            "ticks": ""
           },
           "baxis": {
            "gridcolor": "white",
            "linecolor": "white",
            "ticks": ""
           },
           "bgcolor": "#E5ECF6",
           "caxis": {
            "gridcolor": "white",
            "linecolor": "white",
            "ticks": ""
           }
          },
          "title": {
           "x": 0.05
          },
          "xaxis": {
           "automargin": true,
           "gridcolor": "white",
           "linecolor": "white",
           "ticks": "",
           "title": {
            "standoff": 15
           },
           "zerolinecolor": "white",
           "zerolinewidth": 2
          },
          "yaxis": {
           "automargin": true,
           "gridcolor": "white",
           "linecolor": "white",
           "ticks": "",
           "title": {
            "standoff": 15
           },
           "zerolinecolor": "white",
           "zerolinewidth": 2
          }
         }
        }
       }
      }
     },
     "metadata": {},
     "output_type": "display_data"
    }
   ],
   "source": [
    "dataframe = citing_sentence.join([y])\n",
    "correlation_matrix(dataframe)"
   ]
  },
  {
   "cell_type": "code",
   "execution_count": 109,
   "metadata": {},
   "outputs": [],
   "source": [
    "from sklearn.feature_selection import chi2, SelectKBest\n",
    "from sklearn.preprocessing import MinMaxScaler\n",
    "\n",
    "def find_chi(features, y, k):\n",
    "    chi_square = SelectKBest(score_func=chi2, k=k)\n",
    "    fit = chi_square.fit(features, y)\n",
    "    \n",
    "    selected_feature_indices = chi_square.get_support(indices=True)\n",
    "    feature_names = features.columns\n",
    "    chi2_scores = fit.scores_\n",
    "    feature_score_dict = dict(zip(feature_names, chi2_scores))\n",
    "    sorted_features = sorted(feature_score_dict.items(), key=lambda x: x[1], reverse=True)\n",
    "    selected_feature_names = [feature[0] for feature in sorted_features[:k]]\n",
    "    \n",
    "    print(\"Selected Feature Names:\", selected_feature_names)\n",
    "    x_chi = chi_square.fit_transform(features, y)\n",
    "    \n",
    "    scaler = MinMaxScaler()\n",
    "    x = scaler.fit_transform(x_chi)\n",
    "    \n",
    "    x_res, y_res = oversampling(x, y)\n",
    "    x_train, x_test, y_train, y_test = feature_selection(x_res, y_res)\n",
    "    return x_train, x_test, y_train, y_test, selected_feature_names"
   ]
  },
  {
   "cell_type": "code",
   "execution_count": 110,
   "metadata": {},
   "outputs": [],
   "source": [
    "from imblearn.over_sampling import SMOTE\n",
    "\n",
    "def oversampling(x, y):\n",
    "    sm = SMOTE(random_state=123)\n",
    "    x_res, y_res = sm.fit_resample(x, y)\n",
    "    return x_res, y_res"
   ]
  },
  {
   "cell_type": "code",
   "execution_count": 111,
   "metadata": {},
   "outputs": [],
   "source": [
    "from sklearn.model_selection import train_test_split\n",
    "\n",
    "def feature_selection(x, y):\n",
    "    x_train, x_test, y_train, y_test = train_test_split(x, y, test_size=0.2, random_state=123)\n",
    "    return x_train, x_test, y_train, y_test"
   ]
  },
  {
   "cell_type": "code",
   "execution_count": 112,
   "metadata": {},
   "outputs": [],
   "source": [
    "test = pd.DataFrame(columns=['Features', 'Accuracy'])"
   ]
  },
  {
   "cell_type": "code",
   "execution_count": 113,
   "metadata": {},
   "outputs": [
    {
     "name": "stdout",
     "output_type": "stream",
     "text": [
      "Selected Feature Names: ['atr14', 'atr12']\n",
      "Accuracy: 54.76%\n"
     ]
    }
   ],
   "source": [
    "from xgboost import XGBClassifier\n",
    "from sklearn.metrics import accuracy_score\n",
    "\n",
    "def model(features, y, i):\n",
    "    model = XGBClassifier(learning_rate=0.3, n_estimators=30, max_depth=7)\n",
    "    x_train, x_test, y_train, y_test, selected_feature_names = find_chi(features, y, i)\n",
    "    model.fit(x_train, y_train)\n",
    "    \n",
    "    y_pred = model.predict(x_test)\n",
    "    predictions = [round(value) for value in y_pred]\n",
    "    \n",
    "    accuracy = accuracy_score(y_test, predictions)\n",
    "    new_data = pd.DataFrame({'Features': [selected_feature_names], 'Accuracy': [\"%.2f%%\" % (accuracy * 100.0)]})\n",
    "    global test\n",
    "    test = pd.concat([test, new_data], ignore_index=True)\n",
    "    return accuracy\n",
    "\n",
    "accuracy = model(citing_sentence, y, 2)\n",
    "print(\"Accuracy: %.2f%%\" % (accuracy * 100.0))"
   ]
  },
  {
   "cell_type": "code",
   "execution_count": 114,
   "metadata": {},
   "outputs": [
    {
     "name": "stdout",
     "output_type": "stream",
     "text": [
      "Selected Feature Names: ['atr14']\n",
      "Accuracy: 53.17%\n",
      "Selected Feature Names: ['atr14', 'atr12']\n",
      "Accuracy: 54.76%\n",
      "Selected Feature Names: ['atr14', 'atr12', 'atr7']\n",
      "Accuracy: 51.59%\n",
      "Selected Feature Names: ['atr14', 'atr12', 'atr7', 'atr2']\n",
      "Accuracy: 52.38%\n",
      "Selected Feature Names: ['atr14', 'atr12', 'atr7', 'atr2', 'atr6']\n",
      "Accuracy: 49.60%\n",
      "Selected Feature Names: ['atr14', 'atr12', 'atr7', 'atr2', 'atr6', 'atr9']\n",
      "Accuracy: 49.21%\n",
      "Selected Feature Names: ['atr14', 'atr12', 'atr7', 'atr2', 'atr6', 'atr9', 'atr16']\n",
      "Accuracy: 51.59%\n",
      "Selected Feature Names: ['atr14', 'atr12', 'atr7', 'atr2', 'atr6', 'atr9', 'atr16', 'atr0']\n",
      "Accuracy: 50.00%\n",
      "Selected Feature Names: ['atr14', 'atr12', 'atr7', 'atr2', 'atr6', 'atr9', 'atr16', 'atr0', 'atr8']\n",
      "Accuracy: 54.76%\n",
      "Selected Feature Names: ['atr14', 'atr12', 'atr7', 'atr2', 'atr6', 'atr9', 'atr16', 'atr0', 'atr8', 'atr4']\n",
      "Accuracy: 50.79%\n",
      "Selected Feature Names: ['atr14', 'atr12', 'atr7', 'atr2', 'atr6', 'atr9', 'atr16', 'atr0', 'atr8', 'atr4', 'atr11']\n",
      "Accuracy: 53.17%\n",
      "Selected Feature Names: ['atr14', 'atr12', 'atr7', 'atr2', 'atr6', 'atr9', 'atr16', 'atr0', 'atr8', 'atr4', 'atr11', 'atr3']\n",
      "Accuracy: 52.38%\n",
      "Selected Feature Names: ['atr14', 'atr12', 'atr7', 'atr2', 'atr6', 'atr9', 'atr16', 'atr0', 'atr8', 'atr4', 'atr11', 'atr3', 'atr5']\n",
      "Accuracy: 50.79%\n",
      "Selected Feature Names: ['atr14', 'atr12', 'atr7', 'atr2', 'atr6', 'atr9', 'atr16', 'atr0', 'atr8', 'atr4', 'atr11', 'atr3', 'atr5', 'atr13']\n",
      "Accuracy: 49.21%\n",
      "Selected Feature Names: ['atr14', 'atr12', 'atr7', 'atr2', 'atr6', 'atr9', 'atr16', 'atr0', 'atr8', 'atr4', 'atr11', 'atr3', 'atr5', 'atr13', 'atr17']\n",
      "Accuracy: 53.57%\n",
      "Selected Feature Names: ['atr14', 'atr12', 'atr7', 'atr2', 'atr6', 'atr9', 'atr16', 'atr0', 'atr8', 'atr4', 'atr11', 'atr3', 'atr5', 'atr13', 'atr17', 'atr18']\n",
      "Accuracy: 51.98%\n",
      "Selected Feature Names: ['atr14', 'atr12', 'atr7', 'atr2', 'atr6', 'atr9', 'atr16', 'atr0', 'atr8', 'atr4', 'atr11', 'atr3', 'atr5', 'atr13', 'atr17', 'atr18', 'atr15']\n",
      "Accuracy: 49.21%\n",
      "Selected Feature Names: ['atr14', 'atr12', 'atr7', 'atr2', 'atr6', 'atr9', 'atr16', 'atr0', 'atr8', 'atr4', 'atr11', 'atr3', 'atr5', 'atr13', 'atr17', 'atr18', 'atr15', 'atr1']\n",
      "Accuracy: 50.79%\n",
      "Selected Feature Names: ['atr14', 'atr12', 'atr7', 'atr2', 'atr6', 'atr9', 'atr16', 'atr0', 'atr8', 'atr4', 'atr11', 'atr3', 'atr5', 'atr13', 'atr17', 'atr18', 'atr15', 'atr1', 'atr10']\n",
      "Accuracy: 53.57%\n",
      "Selected Feature Names: ['atr14', 'atr12', 'atr7', 'atr2', 'atr6', 'atr9', 'atr16', 'atr0', 'atr8', 'atr4', 'atr11', 'atr3', 'atr5', 'atr13', 'atr17', 'atr18', 'atr15', 'atr1', 'atr10', 'atr19']\n",
      "Accuracy: 54.76%\n"
     ]
    }
   ],
   "source": [
    "for i in dict(enumerate(citing_sentence)):\n",
    "    accuracy = model(citing_sentence, y, i+1)\n",
    "    print(\"Accuracy: %.2f%%\" % (accuracy * 100.0))"
   ]
  },
  {
   "cell_type": "markdown",
   "metadata": {},
   "source": [
    "## Regular Sentences Predictor"
   ]
  },
  {
   "cell_type": "code",
   "execution_count": 115,
   "metadata": {},
   "outputs": [],
   "source": [
    "regular_sentences = data[['atr20', 'atr21', 'atr22', 'atr23', 'atr24', 'atr25', 'atr26', 'atr27', 'atr28', 'atr29', 'atr30', 'atr31', 'atr32', 'atr33', 'atr34', 'atr35', 'atr36', 'atr37', 'atr38', 'atr39']]"
   ]
  },
  {
   "cell_type": "code",
   "execution_count": 116,
   "metadata": {},
   "outputs": [
    {
     "data": {
      "application/vnd.plotly.v1+json": {
       "config": {
        "plotlyServerURL": "https://plot.ly"
       },
       "data": [
        {
         "text": [
          [
           1,
           0.16375123960995616,
           0.21410249869069442,
           0.20660906743786941,
           0.22685571532128881,
           0.2148982817289253,
           0.10065420145052516,
           0.0921314674954842,
           0.027073819568105607,
           -0.04001241403141752,
           0.023207292345576322,
           0.0945216363057433,
           0.009809552568804955,
           0.035145271777926396,
           0.13455422015798013,
           0.0028581587307247754,
           0.06029648418157154,
           0.017170966141985686,
           0.37460482213905355,
           0.40121965660089853,
           -0.001520949263402563
          ],
          [
           0.16375123960995616,
           1,
           0.20484152480435197,
           0.13482712215266315,
           0.08782977894717887,
           0.21543260699632485,
           0.13933220207475588,
           0.1665864804678614,
           0.054917329624476395,
           0.08989731724295003,
           0.05813915646692105,
           0.06814185902371372,
           0.10213326712015963,
           0.08941582224157822,
           0.1838171906198604,
           0.07435801097567268,
           0.12010332388389498,
           0.021173588687462948,
           0.22898818989620048,
           0.31775585630153647,
           -0.009500144399155705
          ],
          [
           0.21410249869069442,
           0.20484152480435197,
           1,
           0.24449868831098495,
           0.12890602957618003,
           0.2469553702958233,
           0.1530125402171163,
           0.10588992495240344,
           0.11200499599529376,
           0.05419900868365695,
           0.1487209436706667,
           0.11788525253752807,
           0.13983415103507266,
           0.18325430946997662,
           0.20086882765213648,
           0.15176688239211902,
           0.16816026714423746,
           0.025100310347259507,
           0.28660880061362937,
           0.4796027158319719,
           -0.067254336713287
          ],
          [
           0.20660906743786941,
           0.13482712215266315,
           0.24449868831098495,
           1,
           0.012697783664188295,
           0.048507145637040436,
           0.11891697768237784,
           0.20180549332200057,
           0.09054351679681903,
           0.020759149886990385,
           0.08372330696147057,
           0.15840767361779823,
           0.14363840178995033,
           0.09246140419329188,
           0.15564598894252124,
           0.07214355889916803,
           0.04264380986393615,
           0.1150837512883804,
           0.22281555802631406,
           0.32521467428449985,
           0.022539069761112602
          ],
          [
           0.22685571532128881,
           0.08782977894717887,
           0.12890602957618003,
           0.012697783664188295,
           1,
           0.05934462303602948,
           0.09549447882132116,
           0.10068149993523894,
           0.032965824825711545,
           0.08923497891125416,
           0.008472394561320262,
           0.12948141440863567,
           0.08842685943059997,
           0.00004297222059111073,
           0.18554096766373776,
           0.011299239951725253,
           0.04893217126488305,
           0.031054764409212798,
           0.0815916871829254,
           0.14905630714470838,
           0.00326729466306257
          ],
          [
           0.2148982817289253,
           0.21543260699632485,
           0.2469553702958233,
           0.048507145637040436,
           0.05934462303602948,
           1,
           0.35586688642882924,
           0.3493362458312661,
           0.22334681742624213,
           0.174600145693518,
           0.10938980204645662,
           -0.02222960240345459,
           -0.0748690345668409,
           0.0794617066218519,
           0.028333823786908786,
           -0.03649557938766888,
           0.39873384967319253,
           0.1202352893877596,
           0.650313958300259,
           0.8355348515125786,
           -0.02050652984173723
          ],
          [
           0.10065420145052516,
           0.13933220207475588,
           0.1530125402171163,
           0.11891697768237784,
           0.09549447882132116,
           0.35586688642882924,
           1,
           0.2736952663804901,
           0.1289627748027584,
           0.18847696345447296,
           0.058190168260668335,
           0.05105311658297362,
           0.02532192541386005,
           0.049906028197059686,
           0.06852201454929939,
           0.07329620040070639,
           0.21343111174925808,
           0.07568019920546518,
           0.24755165431458856,
           0.3871455272530401,
           -0.0028904773295403965
          ],
          [
           0.0921314674954842,
           0.1665864804678614,
           0.10588992495240344,
           0.20180549332200057,
           0.10068149993523894,
           0.3493362458312661,
           0.2736952663804901,
           1,
           0.28069343004406283,
           0.42112660141690705,
           0.140821626280431,
           0.0900572239080338,
           0.13462243759576034,
           0.17138441551299496,
           0.08210854019568753,
           0.14973992572878464,
           0.31630113732882326,
           0.24623870071773127,
           0.1262976296894055,
           0.4095549645185149,
           0.024300573255547398
          ],
          [
           0.027073819568105607,
           0.054917329624476395,
           0.11200499599529376,
           0.09054351679681903,
           0.032965824825711545,
           0.22334681742624213,
           0.1289627748027584,
           0.28069343004406283,
           1,
           0.22530735244892924,
           0.08643775387212796,
           0.08564847928136105,
           0.04818025514210257,
           0.060101011638692727,
           0.024541487743393327,
           0.07444472369102144,
           0.21686989608626045,
           0.11917546751702492,
           0.12005070339063778,
           0.2633712237622991,
           0.02854212012311432
          ],
          [
           -0.04001241403141752,
           0.08989731724295003,
           0.05419900868365695,
           0.020759149886990385,
           0.08923497891125416,
           0.174600145693518,
           0.18847696345447296,
           0.42112660141690705,
           0.22530735244892924,
           1,
           0.06861766026079456,
           0.057738500364380094,
           0.134203767471209,
           0.15759089200957882,
           0.05697548156840788,
           0.11085969439349919,
           0.19786029281867334,
           0.21519997025965257,
           -0.09610455060528504,
           0.17105149251111154,
           0.04254422650372414
          ],
          [
           0.023207292345576322,
           0.05813915646692105,
           0.1487209436706667,
           0.08372330696147057,
           0.008472394561320262,
           0.10938980204645662,
           0.058190168260668335,
           0.140821626280431,
           0.08643775387212796,
           0.06861766026079456,
           1,
           0.056676916147680154,
           -0.012468882021692293,
           0.0959841811662731,
           0.03798510057069662,
           -0.0014568978601766768,
           0.12103478097515666,
           0.09890178878184358,
           0.022843227702234334,
           0.13807600049060118,
           -0.009383361519345977
          ],
          [
           0.0945216363057433,
           0.06814185902371372,
           0.11788525253752807,
           0.15840767361779823,
           0.12948141440863567,
           -0.02222960240345459,
           0.05105311658297362,
           0.0900572239080338,
           0.08564847928136105,
           0.057738500364380094,
           0.056676916147680154,
           1,
           0.10841427399115594,
           0.12469754767683233,
           0.1136397880709693,
           0.08935484311358054,
           0.008040407946716562,
           0.053992123531470766,
           -0.012640491464229863,
           0.07192280543962142,
           -0.03344505700445705
          ],
          [
           0.009809552568804955,
           0.10213326712015963,
           0.13983415103507266,
           0.14363840178995033,
           0.08842685943059997,
           -0.0748690345668409,
           0.02532192541386005,
           0.13462243759576034,
           0.04818025514210257,
           0.134203767471209,
           -0.012468882021692293,
           0.10841427399115594,
           1,
           0.08780527585543918,
           0.18116486773463386,
           0.10655585031947795,
           0.004425631965731544,
           0.009275422326469772,
           -0.030113224704432052,
           0.052951623068655036,
           0.005962514199791174
          ],
          [
           0.035145271777926396,
           0.08941582224157822,
           0.18325430946997662,
           0.09246140419329188,
           0.00004297222059111073,
           0.0794617066218519,
           0.049906028197059686,
           0.17138441551299496,
           0.060101011638692727,
           0.15759089200957882,
           0.0959841811662731,
           0.12469754767683233,
           0.08780527585543918,
           1,
           0.06635694572191005,
           0.14998518658453436,
           0.0894974137505359,
           0.19333091592035573,
           -0.007899892417230952,
           0.13209958421966028,
           -0.056298175012808094
          ],
          [
           0.13455422015798013,
           0.1838171906198604,
           0.20086882765213648,
           0.15564598894252124,
           0.18554096766373776,
           0.028333823786908786,
           0.06852201454929939,
           0.08210854019568753,
           0.024541487743393327,
           0.05697548156840788,
           0.03798510057069662,
           0.1136397880709693,
           0.18116486773463386,
           0.06635694572191005,
           1,
           0.10633616955051484,
           0.07690379293683763,
           -0.0019684940116109213,
           0.1571768784639121,
           0.20602336428281323,
           -0.05175093116967392
          ],
          [
           0.0028581587307247754,
           0.07435801097567268,
           0.15176688239211902,
           0.07214355889916803,
           0.011299239951725253,
           -0.03649557938766888,
           0.07329620040070639,
           0.14973992572878464,
           0.07444472369102144,
           0.11085969439349919,
           -0.0014568978601766768,
           0.08935484311358054,
           0.10655585031947795,
           0.14998518658453436,
           0.10633616955051484,
           1,
           0.0703426764840291,
           0.10333850805309135,
           -0.02622582290880763,
           0.061047353590132504,
           0.0011797791157460444
          ],
          [
           0.06029648418157154,
           0.12010332388389498,
           0.16816026714423746,
           0.04264380986393615,
           0.04893217126488305,
           0.39873384967319253,
           0.21343111174925808,
           0.31630113732882326,
           0.21686989608626045,
           0.19786029281867334,
           0.12103478097515666,
           0.008040407946716562,
           0.004425631965731544,
           0.0894974137505359,
           0.07690379293683763,
           0.0703426764840291,
           1,
           0.17781897846598402,
           0.2521293280713511,
           0.40765058838373336,
           -0.027950945614263048
          ],
          [
           0.017170966141985686,
           0.021173588687462948,
           0.025100310347259507,
           0.1150837512883804,
           0.031054764409212798,
           0.1202352893877596,
           0.07568019920546518,
           0.24623870071773127,
           0.11917546751702492,
           0.21519997025965257,
           0.09890178878184358,
           0.053992123531470766,
           0.009275422326469772,
           0.19333091592035573,
           -0.0019684940116109213,
           0.10333850805309135,
           0.17781897846598402,
           1,
           0.008853216640009732,
           0.14785068911211974,
           0.023163127198004962
          ],
          [
           0.37460482213905355,
           0.22898818989620048,
           0.28660880061362937,
           0.22281555802631406,
           0.0815916871829254,
           0.650313958300259,
           0.24755165431458856,
           0.1262976296894055,
           0.12005070339063778,
           -0.09610455060528504,
           0.022843227702234334,
           -0.012640491464229863,
           -0.030113224704432052,
           -0.007899892417230952,
           0.1571768784639121,
           -0.02622582290880763,
           0.2521293280713511,
           0.008853216640009732,
           1,
           0.8825130402801501,
           -0.03454107107412613
          ],
          [
           0.40121965660089853,
           0.31775585630153647,
           0.4796027158319719,
           0.32521467428449985,
           0.14905630714470838,
           0.8355348515125786,
           0.3871455272530401,
           0.4095549645185149,
           0.2633712237622991,
           0.17105149251111154,
           0.13807600049060118,
           0.07192280543962142,
           0.052951623068655036,
           0.13209958421966028,
           0.20602336428281323,
           0.061047353590132504,
           0.40765058838373336,
           0.14785068911211974,
           0.8825130402801501,
           1,
           -0.031195255793289734
          ],
          [
           -0.001520949263402563,
           -0.009500144399155705,
           -0.067254336713287,
           0.022539069761112602,
           0.00326729466306257,
           -0.02050652984173723,
           -0.0028904773295403965,
           0.024300573255547398,
           0.02854212012311432,
           0.04254422650372414,
           -0.009383361519345977,
           -0.03344505700445705,
           0.005962514199791174,
           -0.056298175012808094,
           -0.05175093116967392,
           0.0011797791157460444,
           -0.027950945614263048,
           0.023163127198004962,
           -0.03454107107412613,
           -0.031195255793289734,
           1
          ]
         ],
         "texttemplate": "%{text:.2f}",
         "type": "heatmap",
         "x": [
          "atr20",
          "atr21",
          "atr22",
          "atr23",
          "atr24",
          "atr25",
          "atr26",
          "atr27",
          "atr28",
          "atr29",
          "atr30",
          "atr31",
          "atr32",
          "atr33",
          "atr34",
          "atr35",
          "atr36",
          "atr37",
          "atr38",
          "atr39",
          "soundness"
         ],
         "y": [
          "atr20",
          "atr21",
          "atr22",
          "atr23",
          "atr24",
          "atr25",
          "atr26",
          "atr27",
          "atr28",
          "atr29",
          "atr30",
          "atr31",
          "atr32",
          "atr33",
          "atr34",
          "atr35",
          "atr36",
          "atr37",
          "atr38",
          "atr39",
          "soundness"
         ],
         "z": [
          [
           1,
           0.16375123960995616,
           0.21410249869069442,
           0.20660906743786941,
           0.22685571532128881,
           0.2148982817289253,
           0.10065420145052516,
           0.0921314674954842,
           0.027073819568105607,
           -0.04001241403141752,
           0.023207292345576322,
           0.0945216363057433,
           0.009809552568804955,
           0.035145271777926396,
           0.13455422015798013,
           0.0028581587307247754,
           0.06029648418157154,
           0.017170966141985686,
           0.37460482213905355,
           0.40121965660089853,
           -0.001520949263402563
          ],
          [
           0.16375123960995616,
           1,
           0.20484152480435197,
           0.13482712215266315,
           0.08782977894717887,
           0.21543260699632485,
           0.13933220207475588,
           0.1665864804678614,
           0.054917329624476395,
           0.08989731724295003,
           0.05813915646692105,
           0.06814185902371372,
           0.10213326712015963,
           0.08941582224157822,
           0.1838171906198604,
           0.07435801097567268,
           0.12010332388389498,
           0.021173588687462948,
           0.22898818989620048,
           0.31775585630153647,
           -0.009500144399155705
          ],
          [
           0.21410249869069442,
           0.20484152480435197,
           1,
           0.24449868831098495,
           0.12890602957618003,
           0.2469553702958233,
           0.1530125402171163,
           0.10588992495240344,
           0.11200499599529376,
           0.05419900868365695,
           0.1487209436706667,
           0.11788525253752807,
           0.13983415103507266,
           0.18325430946997662,
           0.20086882765213648,
           0.15176688239211902,
           0.16816026714423746,
           0.025100310347259507,
           0.28660880061362937,
           0.4796027158319719,
           -0.067254336713287
          ],
          [
           0.20660906743786941,
           0.13482712215266315,
           0.24449868831098495,
           1,
           0.012697783664188295,
           0.048507145637040436,
           0.11891697768237784,
           0.20180549332200057,
           0.09054351679681903,
           0.020759149886990385,
           0.08372330696147057,
           0.15840767361779823,
           0.14363840178995033,
           0.09246140419329188,
           0.15564598894252124,
           0.07214355889916803,
           0.04264380986393615,
           0.1150837512883804,
           0.22281555802631406,
           0.32521467428449985,
           0.022539069761112602
          ],
          [
           0.22685571532128881,
           0.08782977894717887,
           0.12890602957618003,
           0.012697783664188295,
           1,
           0.05934462303602948,
           0.09549447882132116,
           0.10068149993523894,
           0.032965824825711545,
           0.08923497891125416,
           0.008472394561320262,
           0.12948141440863567,
           0.08842685943059997,
           0.00004297222059111073,
           0.18554096766373776,
           0.011299239951725253,
           0.04893217126488305,
           0.031054764409212798,
           0.0815916871829254,
           0.14905630714470838,
           0.00326729466306257
          ],
          [
           0.2148982817289253,
           0.21543260699632485,
           0.2469553702958233,
           0.048507145637040436,
           0.05934462303602948,
           1,
           0.35586688642882924,
           0.3493362458312661,
           0.22334681742624213,
           0.174600145693518,
           0.10938980204645662,
           -0.02222960240345459,
           -0.0748690345668409,
           0.0794617066218519,
           0.028333823786908786,
           -0.03649557938766888,
           0.39873384967319253,
           0.1202352893877596,
           0.650313958300259,
           0.8355348515125786,
           -0.02050652984173723
          ],
          [
           0.10065420145052516,
           0.13933220207475588,
           0.1530125402171163,
           0.11891697768237784,
           0.09549447882132116,
           0.35586688642882924,
           1,
           0.2736952663804901,
           0.1289627748027584,
           0.18847696345447296,
           0.058190168260668335,
           0.05105311658297362,
           0.02532192541386005,
           0.049906028197059686,
           0.06852201454929939,
           0.07329620040070639,
           0.21343111174925808,
           0.07568019920546518,
           0.24755165431458856,
           0.3871455272530401,
           -0.0028904773295403965
          ],
          [
           0.0921314674954842,
           0.1665864804678614,
           0.10588992495240344,
           0.20180549332200057,
           0.10068149993523894,
           0.3493362458312661,
           0.2736952663804901,
           1,
           0.28069343004406283,
           0.42112660141690705,
           0.140821626280431,
           0.0900572239080338,
           0.13462243759576034,
           0.17138441551299496,
           0.08210854019568753,
           0.14973992572878464,
           0.31630113732882326,
           0.24623870071773127,
           0.1262976296894055,
           0.4095549645185149,
           0.024300573255547398
          ],
          [
           0.027073819568105607,
           0.054917329624476395,
           0.11200499599529376,
           0.09054351679681903,
           0.032965824825711545,
           0.22334681742624213,
           0.1289627748027584,
           0.28069343004406283,
           1,
           0.22530735244892924,
           0.08643775387212796,
           0.08564847928136105,
           0.04818025514210257,
           0.060101011638692727,
           0.024541487743393327,
           0.07444472369102144,
           0.21686989608626045,
           0.11917546751702492,
           0.12005070339063778,
           0.2633712237622991,
           0.02854212012311432
          ],
          [
           -0.04001241403141752,
           0.08989731724295003,
           0.05419900868365695,
           0.020759149886990385,
           0.08923497891125416,
           0.174600145693518,
           0.18847696345447296,
           0.42112660141690705,
           0.22530735244892924,
           1,
           0.06861766026079456,
           0.057738500364380094,
           0.134203767471209,
           0.15759089200957882,
           0.05697548156840788,
           0.11085969439349919,
           0.19786029281867334,
           0.21519997025965257,
           -0.09610455060528504,
           0.17105149251111154,
           0.04254422650372414
          ],
          [
           0.023207292345576322,
           0.05813915646692105,
           0.1487209436706667,
           0.08372330696147057,
           0.008472394561320262,
           0.10938980204645662,
           0.058190168260668335,
           0.140821626280431,
           0.08643775387212796,
           0.06861766026079456,
           1,
           0.056676916147680154,
           -0.012468882021692293,
           0.0959841811662731,
           0.03798510057069662,
           -0.0014568978601766768,
           0.12103478097515666,
           0.09890178878184358,
           0.022843227702234334,
           0.13807600049060118,
           -0.009383361519345977
          ],
          [
           0.0945216363057433,
           0.06814185902371372,
           0.11788525253752807,
           0.15840767361779823,
           0.12948141440863567,
           -0.02222960240345459,
           0.05105311658297362,
           0.0900572239080338,
           0.08564847928136105,
           0.057738500364380094,
           0.056676916147680154,
           1,
           0.10841427399115594,
           0.12469754767683233,
           0.1136397880709693,
           0.08935484311358054,
           0.008040407946716562,
           0.053992123531470766,
           -0.012640491464229863,
           0.07192280543962142,
           -0.03344505700445705
          ],
          [
           0.009809552568804955,
           0.10213326712015963,
           0.13983415103507266,
           0.14363840178995033,
           0.08842685943059997,
           -0.0748690345668409,
           0.02532192541386005,
           0.13462243759576034,
           0.04818025514210257,
           0.134203767471209,
           -0.012468882021692293,
           0.10841427399115594,
           1,
           0.08780527585543918,
           0.18116486773463386,
           0.10655585031947795,
           0.004425631965731544,
           0.009275422326469772,
           -0.030113224704432052,
           0.052951623068655036,
           0.005962514199791174
          ],
          [
           0.035145271777926396,
           0.08941582224157822,
           0.18325430946997662,
           0.09246140419329188,
           0.00004297222059111073,
           0.0794617066218519,
           0.049906028197059686,
           0.17138441551299496,
           0.060101011638692727,
           0.15759089200957882,
           0.0959841811662731,
           0.12469754767683233,
           0.08780527585543918,
           1,
           0.06635694572191005,
           0.14998518658453436,
           0.0894974137505359,
           0.19333091592035573,
           -0.007899892417230952,
           0.13209958421966028,
           -0.056298175012808094
          ],
          [
           0.13455422015798013,
           0.1838171906198604,
           0.20086882765213648,
           0.15564598894252124,
           0.18554096766373776,
           0.028333823786908786,
           0.06852201454929939,
           0.08210854019568753,
           0.024541487743393327,
           0.05697548156840788,
           0.03798510057069662,
           0.1136397880709693,
           0.18116486773463386,
           0.06635694572191005,
           1,
           0.10633616955051484,
           0.07690379293683763,
           -0.0019684940116109213,
           0.1571768784639121,
           0.20602336428281323,
           -0.05175093116967392
          ],
          [
           0.0028581587307247754,
           0.07435801097567268,
           0.15176688239211902,
           0.07214355889916803,
           0.011299239951725253,
           -0.03649557938766888,
           0.07329620040070639,
           0.14973992572878464,
           0.07444472369102144,
           0.11085969439349919,
           -0.0014568978601766768,
           0.08935484311358054,
           0.10655585031947795,
           0.14998518658453436,
           0.10633616955051484,
           1,
           0.0703426764840291,
           0.10333850805309135,
           -0.02622582290880763,
           0.061047353590132504,
           0.0011797791157460444
          ],
          [
           0.06029648418157154,
           0.12010332388389498,
           0.16816026714423746,
           0.04264380986393615,
           0.04893217126488305,
           0.39873384967319253,
           0.21343111174925808,
           0.31630113732882326,
           0.21686989608626045,
           0.19786029281867334,
           0.12103478097515666,
           0.008040407946716562,
           0.004425631965731544,
           0.0894974137505359,
           0.07690379293683763,
           0.0703426764840291,
           1,
           0.17781897846598402,
           0.2521293280713511,
           0.40765058838373336,
           -0.027950945614263048
          ],
          [
           0.017170966141985686,
           0.021173588687462948,
           0.025100310347259507,
           0.1150837512883804,
           0.031054764409212798,
           0.1202352893877596,
           0.07568019920546518,
           0.24623870071773127,
           0.11917546751702492,
           0.21519997025965257,
           0.09890178878184358,
           0.053992123531470766,
           0.009275422326469772,
           0.19333091592035573,
           -0.0019684940116109213,
           0.10333850805309135,
           0.17781897846598402,
           1,
           0.008853216640009732,
           0.14785068911211974,
           0.023163127198004962
          ],
          [
           0.37460482213905355,
           0.22898818989620048,
           0.28660880061362937,
           0.22281555802631406,
           0.0815916871829254,
           0.650313958300259,
           0.24755165431458856,
           0.1262976296894055,
           0.12005070339063778,
           -0.09610455060528504,
           0.022843227702234334,
           -0.012640491464229863,
           -0.030113224704432052,
           -0.007899892417230952,
           0.1571768784639121,
           -0.02622582290880763,
           0.2521293280713511,
           0.008853216640009732,
           1,
           0.8825130402801501,
           -0.03454107107412613
          ],
          [
           0.40121965660089853,
           0.31775585630153647,
           0.4796027158319719,
           0.32521467428449985,
           0.14905630714470838,
           0.8355348515125786,
           0.3871455272530401,
           0.4095549645185149,
           0.2633712237622991,
           0.17105149251111154,
           0.13807600049060118,
           0.07192280543962142,
           0.052951623068655036,
           0.13209958421966028,
           0.20602336428281323,
           0.061047353590132504,
           0.40765058838373336,
           0.14785068911211974,
           0.8825130402801501,
           1,
           -0.031195255793289734
          ],
          [
           -0.001520949263402563,
           -0.009500144399155705,
           -0.067254336713287,
           0.022539069761112602,
           0.00326729466306257,
           -0.02050652984173723,
           -0.0028904773295403965,
           0.024300573255547398,
           0.02854212012311432,
           0.04254422650372414,
           -0.009383361519345977,
           -0.03344505700445705,
           0.005962514199791174,
           -0.056298175012808094,
           -0.05175093116967392,
           0.0011797791157460444,
           -0.027950945614263048,
           0.023163127198004962,
           -0.03454107107412613,
           -0.031195255793289734,
           1
          ]
         ]
        }
       ],
       "layout": {
        "template": {
         "data": {
          "bar": [
           {
            "error_x": {
             "color": "#2a3f5f"
            },
            "error_y": {
             "color": "#2a3f5f"
            },
            "marker": {
             "line": {
              "color": "#E5ECF6",
              "width": 0.5
             },
             "pattern": {
              "fillmode": "overlay",
              "size": 10,
              "solidity": 0.2
             }
            },
            "type": "bar"
           }
          ],
          "barpolar": [
           {
            "marker": {
             "line": {
              "color": "#E5ECF6",
              "width": 0.5
             },
             "pattern": {
              "fillmode": "overlay",
              "size": 10,
              "solidity": 0.2
             }
            },
            "type": "barpolar"
           }
          ],
          "carpet": [
           {
            "aaxis": {
             "endlinecolor": "#2a3f5f",
             "gridcolor": "white",
             "linecolor": "white",
             "minorgridcolor": "white",
             "startlinecolor": "#2a3f5f"
            },
            "baxis": {
             "endlinecolor": "#2a3f5f",
             "gridcolor": "white",
             "linecolor": "white",
             "minorgridcolor": "white",
             "startlinecolor": "#2a3f5f"
            },
            "type": "carpet"
           }
          ],
          "choropleth": [
           {
            "colorbar": {
             "outlinewidth": 0,
             "ticks": ""
            },
            "type": "choropleth"
           }
          ],
          "contour": [
           {
            "colorbar": {
             "outlinewidth": 0,
             "ticks": ""
            },
            "colorscale": [
             [
              0,
              "#0d0887"
             ],
             [
              0.1111111111111111,
              "#46039f"
             ],
             [
              0.2222222222222222,
              "#7201a8"
             ],
             [
              0.3333333333333333,
              "#9c179e"
             ],
             [
              0.4444444444444444,
              "#bd3786"
             ],
             [
              0.5555555555555556,
              "#d8576b"
             ],
             [
              0.6666666666666666,
              "#ed7953"
             ],
             [
              0.7777777777777778,
              "#fb9f3a"
             ],
             [
              0.8888888888888888,
              "#fdca26"
             ],
             [
              1,
              "#f0f921"
             ]
            ],
            "type": "contour"
           }
          ],
          "contourcarpet": [
           {
            "colorbar": {
             "outlinewidth": 0,
             "ticks": ""
            },
            "type": "contourcarpet"
           }
          ],
          "heatmap": [
           {
            "colorbar": {
             "outlinewidth": 0,
             "ticks": ""
            },
            "colorscale": [
             [
              0,
              "#0d0887"
             ],
             [
              0.1111111111111111,
              "#46039f"
             ],
             [
              0.2222222222222222,
              "#7201a8"
             ],
             [
              0.3333333333333333,
              "#9c179e"
             ],
             [
              0.4444444444444444,
              "#bd3786"
             ],
             [
              0.5555555555555556,
              "#d8576b"
             ],
             [
              0.6666666666666666,
              "#ed7953"
             ],
             [
              0.7777777777777778,
              "#fb9f3a"
             ],
             [
              0.8888888888888888,
              "#fdca26"
             ],
             [
              1,
              "#f0f921"
             ]
            ],
            "type": "heatmap"
           }
          ],
          "heatmapgl": [
           {
            "colorbar": {
             "outlinewidth": 0,
             "ticks": ""
            },
            "colorscale": [
             [
              0,
              "#0d0887"
             ],
             [
              0.1111111111111111,
              "#46039f"
             ],
             [
              0.2222222222222222,
              "#7201a8"
             ],
             [
              0.3333333333333333,
              "#9c179e"
             ],
             [
              0.4444444444444444,
              "#bd3786"
             ],
             [
              0.5555555555555556,
              "#d8576b"
             ],
             [
              0.6666666666666666,
              "#ed7953"
             ],
             [
              0.7777777777777778,
              "#fb9f3a"
             ],
             [
              0.8888888888888888,
              "#fdca26"
             ],
             [
              1,
              "#f0f921"
             ]
            ],
            "type": "heatmapgl"
           }
          ],
          "histogram": [
           {
            "marker": {
             "pattern": {
              "fillmode": "overlay",
              "size": 10,
              "solidity": 0.2
             }
            },
            "type": "histogram"
           }
          ],
          "histogram2d": [
           {
            "colorbar": {
             "outlinewidth": 0,
             "ticks": ""
            },
            "colorscale": [
             [
              0,
              "#0d0887"
             ],
             [
              0.1111111111111111,
              "#46039f"
             ],
             [
              0.2222222222222222,
              "#7201a8"
             ],
             [
              0.3333333333333333,
              "#9c179e"
             ],
             [
              0.4444444444444444,
              "#bd3786"
             ],
             [
              0.5555555555555556,
              "#d8576b"
             ],
             [
              0.6666666666666666,
              "#ed7953"
             ],
             [
              0.7777777777777778,
              "#fb9f3a"
             ],
             [
              0.8888888888888888,
              "#fdca26"
             ],
             [
              1,
              "#f0f921"
             ]
            ],
            "type": "histogram2d"
           }
          ],
          "histogram2dcontour": [
           {
            "colorbar": {
             "outlinewidth": 0,
             "ticks": ""
            },
            "colorscale": [
             [
              0,
              "#0d0887"
             ],
             [
              0.1111111111111111,
              "#46039f"
             ],
             [
              0.2222222222222222,
              "#7201a8"
             ],
             [
              0.3333333333333333,
              "#9c179e"
             ],
             [
              0.4444444444444444,
              "#bd3786"
             ],
             [
              0.5555555555555556,
              "#d8576b"
             ],
             [
              0.6666666666666666,
              "#ed7953"
             ],
             [
              0.7777777777777778,
              "#fb9f3a"
             ],
             [
              0.8888888888888888,
              "#fdca26"
             ],
             [
              1,
              "#f0f921"
             ]
            ],
            "type": "histogram2dcontour"
           }
          ],
          "mesh3d": [
           {
            "colorbar": {
             "outlinewidth": 0,
             "ticks": ""
            },
            "type": "mesh3d"
           }
          ],
          "parcoords": [
           {
            "line": {
             "colorbar": {
              "outlinewidth": 0,
              "ticks": ""
             }
            },
            "type": "parcoords"
           }
          ],
          "pie": [
           {
            "automargin": true,
            "type": "pie"
           }
          ],
          "scatter": [
           {
            "fillpattern": {
             "fillmode": "overlay",
             "size": 10,
             "solidity": 0.2
            },
            "type": "scatter"
           }
          ],
          "scatter3d": [
           {
            "line": {
             "colorbar": {
              "outlinewidth": 0,
              "ticks": ""
             }
            },
            "marker": {
             "colorbar": {
              "outlinewidth": 0,
              "ticks": ""
             }
            },
            "type": "scatter3d"
           }
          ],
          "scattercarpet": [
           {
            "marker": {
             "colorbar": {
              "outlinewidth": 0,
              "ticks": ""
             }
            },
            "type": "scattercarpet"
           }
          ],
          "scattergeo": [
           {
            "marker": {
             "colorbar": {
              "outlinewidth": 0,
              "ticks": ""
             }
            },
            "type": "scattergeo"
           }
          ],
          "scattergl": [
           {
            "marker": {
             "colorbar": {
              "outlinewidth": 0,
              "ticks": ""
             }
            },
            "type": "scattergl"
           }
          ],
          "scattermapbox": [
           {
            "marker": {
             "colorbar": {
              "outlinewidth": 0,
              "ticks": ""
             }
            },
            "type": "scattermapbox"
           }
          ],
          "scatterpolar": [
           {
            "marker": {
             "colorbar": {
              "outlinewidth": 0,
              "ticks": ""
             }
            },
            "type": "scatterpolar"
           }
          ],
          "scatterpolargl": [
           {
            "marker": {
             "colorbar": {
              "outlinewidth": 0,
              "ticks": ""
             }
            },
            "type": "scatterpolargl"
           }
          ],
          "scatterternary": [
           {
            "marker": {
             "colorbar": {
              "outlinewidth": 0,
              "ticks": ""
             }
            },
            "type": "scatterternary"
           }
          ],
          "surface": [
           {
            "colorbar": {
             "outlinewidth": 0,
             "ticks": ""
            },
            "colorscale": [
             [
              0,
              "#0d0887"
             ],
             [
              0.1111111111111111,
              "#46039f"
             ],
             [
              0.2222222222222222,
              "#7201a8"
             ],
             [
              0.3333333333333333,
              "#9c179e"
             ],
             [
              0.4444444444444444,
              "#bd3786"
             ],
             [
              0.5555555555555556,
              "#d8576b"
             ],
             [
              0.6666666666666666,
              "#ed7953"
             ],
             [
              0.7777777777777778,
              "#fb9f3a"
             ],
             [
              0.8888888888888888,
              "#fdca26"
             ],
             [
              1,
              "#f0f921"
             ]
            ],
            "type": "surface"
           }
          ],
          "table": [
           {
            "cells": {
             "fill": {
              "color": "#EBF0F8"
             },
             "line": {
              "color": "white"
             }
            },
            "header": {
             "fill": {
              "color": "#C8D4E3"
             },
             "line": {
              "color": "white"
             }
            },
            "type": "table"
           }
          ]
         },
         "layout": {
          "annotationdefaults": {
           "arrowcolor": "#2a3f5f",
           "arrowhead": 0,
           "arrowwidth": 1
          },
          "autotypenumbers": "strict",
          "coloraxis": {
           "colorbar": {
            "outlinewidth": 0,
            "ticks": ""
           }
          },
          "colorscale": {
           "diverging": [
            [
             0,
             "#8e0152"
            ],
            [
             0.1,
             "#c51b7d"
            ],
            [
             0.2,
             "#de77ae"
            ],
            [
             0.3,
             "#f1b6da"
            ],
            [
             0.4,
             "#fde0ef"
            ],
            [
             0.5,
             "#f7f7f7"
            ],
            [
             0.6,
             "#e6f5d0"
            ],
            [
             0.7,
             "#b8e186"
            ],
            [
             0.8,
             "#7fbc41"
            ],
            [
             0.9,
             "#4d9221"
            ],
            [
             1,
             "#276419"
            ]
           ],
           "sequential": [
            [
             0,
             "#0d0887"
            ],
            [
             0.1111111111111111,
             "#46039f"
            ],
            [
             0.2222222222222222,
             "#7201a8"
            ],
            [
             0.3333333333333333,
             "#9c179e"
            ],
            [
             0.4444444444444444,
             "#bd3786"
            ],
            [
             0.5555555555555556,
             "#d8576b"
            ],
            [
             0.6666666666666666,
             "#ed7953"
            ],
            [
             0.7777777777777778,
             "#fb9f3a"
            ],
            [
             0.8888888888888888,
             "#fdca26"
            ],
            [
             1,
             "#f0f921"
            ]
           ],
           "sequentialminus": [
            [
             0,
             "#0d0887"
            ],
            [
             0.1111111111111111,
             "#46039f"
            ],
            [
             0.2222222222222222,
             "#7201a8"
            ],
            [
             0.3333333333333333,
             "#9c179e"
            ],
            [
             0.4444444444444444,
             "#bd3786"
            ],
            [
             0.5555555555555556,
             "#d8576b"
            ],
            [
             0.6666666666666666,
             "#ed7953"
            ],
            [
             0.7777777777777778,
             "#fb9f3a"
            ],
            [
             0.8888888888888888,
             "#fdca26"
            ],
            [
             1,
             "#f0f921"
            ]
           ]
          },
          "colorway": [
           "#636efa",
           "#EF553B",
           "#00cc96",
           "#ab63fa",
           "#FFA15A",
           "#19d3f3",
           "#FF6692",
           "#B6E880",
           "#FF97FF",
           "#FECB52"
          ],
          "font": {
           "color": "#2a3f5f"
          },
          "geo": {
           "bgcolor": "white",
           "lakecolor": "white",
           "landcolor": "#E5ECF6",
           "showlakes": true,
           "showland": true,
           "subunitcolor": "white"
          },
          "hoverlabel": {
           "align": "left"
          },
          "hovermode": "closest",
          "mapbox": {
           "style": "light"
          },
          "paper_bgcolor": "white",
          "plot_bgcolor": "#E5ECF6",
          "polar": {
           "angularaxis": {
            "gridcolor": "white",
            "linecolor": "white",
            "ticks": ""
           },
           "bgcolor": "#E5ECF6",
           "radialaxis": {
            "gridcolor": "white",
            "linecolor": "white",
            "ticks": ""
           }
          },
          "scene": {
           "xaxis": {
            "backgroundcolor": "#E5ECF6",
            "gridcolor": "white",
            "gridwidth": 2,
            "linecolor": "white",
            "showbackground": true,
            "ticks": "",
            "zerolinecolor": "white"
           },
           "yaxis": {
            "backgroundcolor": "#E5ECF6",
            "gridcolor": "white",
            "gridwidth": 2,
            "linecolor": "white",
            "showbackground": true,
            "ticks": "",
            "zerolinecolor": "white"
           },
           "zaxis": {
            "backgroundcolor": "#E5ECF6",
            "gridcolor": "white",
            "gridwidth": 2,
            "linecolor": "white",
            "showbackground": true,
            "ticks": "",
            "zerolinecolor": "white"
           }
          },
          "shapedefaults": {
           "line": {
            "color": "#2a3f5f"
           }
          },
          "ternary": {
           "aaxis": {
            "gridcolor": "white",
            "linecolor": "white",
            "ticks": ""
           },
           "baxis": {
            "gridcolor": "white",
            "linecolor": "white",
            "ticks": ""
           },
           "bgcolor": "#E5ECF6",
           "caxis": {
            "gridcolor": "white",
            "linecolor": "white",
            "ticks": ""
           }
          },
          "title": {
           "x": 0.05
          },
          "xaxis": {
           "automargin": true,
           "gridcolor": "white",
           "linecolor": "white",
           "ticks": "",
           "title": {
            "standoff": 15
           },
           "zerolinecolor": "white",
           "zerolinewidth": 2
          },
          "yaxis": {
           "automargin": true,
           "gridcolor": "white",
           "linecolor": "white",
           "ticks": "",
           "title": {
            "standoff": 15
           },
           "zerolinecolor": "white",
           "zerolinewidth": 2
          }
         }
        }
       }
      }
     },
     "metadata": {},
     "output_type": "display_data"
    }
   ],
   "source": [
    "dataframe = regular_sentences.join([y])\n",
    "correlation_matrix(dataframe)"
   ]
  },
  {
   "cell_type": "code",
   "execution_count": 117,
   "metadata": {},
   "outputs": [
    {
     "name": "stdout",
     "output_type": "stream",
     "text": [
      "Selected Feature Names: ['atr38']\n",
      "Accuracy: 46.43%\n",
      "Selected Feature Names: ['atr38', 'atr39']\n",
      "Accuracy: 45.63%\n",
      "Selected Feature Names: ['atr38', 'atr39', 'atr22']\n",
      "Accuracy: 47.22%\n",
      "Selected Feature Names: ['atr38', 'atr39', 'atr22', 'atr34']\n",
      "Accuracy: 46.43%\n",
      "Selected Feature Names: ['atr38', 'atr39', 'atr22', 'atr34', 'atr29']\n",
      "Accuracy: 46.83%\n",
      "Selected Feature Names: ['atr38', 'atr39', 'atr22', 'atr34', 'atr29', 'atr25']\n",
      "Accuracy: 46.83%\n",
      "Selected Feature Names: ['atr38', 'atr39', 'atr22', 'atr34', 'atr29', 'atr25', 'atr33']\n",
      "Accuracy: 45.63%\n",
      "Selected Feature Names: ['atr38', 'atr39', 'atr22', 'atr34', 'atr29', 'atr25', 'atr33', 'atr27']\n",
      "Accuracy: 45.63%\n",
      "Selected Feature Names: ['atr38', 'atr39', 'atr22', 'atr34', 'atr29', 'atr25', 'atr33', 'atr27', 'atr23']\n",
      "Accuracy: 50.00%\n",
      "Selected Feature Names: ['atr38', 'atr39', 'atr22', 'atr34', 'atr29', 'atr25', 'atr33', 'atr27', 'atr23', 'atr31']\n",
      "Accuracy: 48.02%\n",
      "Selected Feature Names: ['atr38', 'atr39', 'atr22', 'atr34', 'atr29', 'atr25', 'atr33', 'atr27', 'atr23', 'atr31', 'atr28']\n",
      "Accuracy: 46.03%\n",
      "Selected Feature Names: ['atr38', 'atr39', 'atr22', 'atr34', 'atr29', 'atr25', 'atr33', 'atr27', 'atr23', 'atr31', 'atr28', 'atr36']\n",
      "Accuracy: 44.84%\n",
      "Selected Feature Names: ['atr38', 'atr39', 'atr22', 'atr34', 'atr29', 'atr25', 'atr33', 'atr27', 'atr23', 'atr31', 'atr28', 'atr36', 'atr37']\n",
      "Accuracy: 48.02%\n",
      "Selected Feature Names: ['atr38', 'atr39', 'atr22', 'atr34', 'atr29', 'atr25', 'atr33', 'atr27', 'atr23', 'atr31', 'atr28', 'atr36', 'atr37', 'atr30']\n",
      "Accuracy: 48.41%\n",
      "Selected Feature Names: ['atr38', 'atr39', 'atr22', 'atr34', 'atr29', 'atr25', 'atr33', 'atr27', 'atr23', 'atr31', 'atr28', 'atr36', 'atr37', 'atr30', 'atr21']\n",
      "Accuracy: 48.41%\n",
      "Selected Feature Names: ['atr38', 'atr39', 'atr22', 'atr34', 'atr29', 'atr25', 'atr33', 'atr27', 'atr23', 'atr31', 'atr28', 'atr36', 'atr37', 'atr30', 'atr21', 'atr32']\n",
      "Accuracy: 51.19%\n",
      "Selected Feature Names: ['atr38', 'atr39', 'atr22', 'atr34', 'atr29', 'atr25', 'atr33', 'atr27', 'atr23', 'atr31', 'atr28', 'atr36', 'atr37', 'atr30', 'atr21', 'atr32', 'atr24']\n",
      "Accuracy: 48.81%\n",
      "Selected Feature Names: ['atr38', 'atr39', 'atr22', 'atr34', 'atr29', 'atr25', 'atr33', 'atr27', 'atr23', 'atr31', 'atr28', 'atr36', 'atr37', 'atr30', 'atr21', 'atr32', 'atr24', 'atr26']\n",
      "Accuracy: 46.03%\n",
      "Selected Feature Names: ['atr38', 'atr39', 'atr22', 'atr34', 'atr29', 'atr25', 'atr33', 'atr27', 'atr23', 'atr31', 'atr28', 'atr36', 'atr37', 'atr30', 'atr21', 'atr32', 'atr24', 'atr26', 'atr20']\n",
      "Accuracy: 48.02%\n",
      "Selected Feature Names: ['atr38', 'atr39', 'atr22', 'atr34', 'atr29', 'atr25', 'atr33', 'atr27', 'atr23', 'atr31', 'atr28', 'atr36', 'atr37', 'atr30', 'atr21', 'atr32', 'atr24', 'atr26', 'atr20', 'atr35']\n",
      "Accuracy: 51.59%\n"
     ]
    }
   ],
   "source": [
    "for i in dict(enumerate(regular_sentences)):\n",
    "    accuracy = model(regular_sentences, y, i+1)\n",
    "    print(\"Accuracy: %.2f%%\" % (accuracy * 100.0))"
   ]
  },
  {
   "cell_type": "markdown",
   "metadata": {},
   "source": [
    "## Reference-Based Predictor"
   ]
  },
  {
   "cell_type": "code",
   "execution_count": 118,
   "metadata": {},
   "outputs": [],
   "source": [
    "reference_based = data[['num_ref', 'num_ref_3years', 'arxiv', 'neurips', 'iclr', 'icml', 'aaai', 'iccv', 'cvpr', 'emnlp', 'acl', 'naacl', 'eccv', 'icra', 'icassp', 'ijcai', 'aistats', 'sigkdd', 'neuralcom', 'ieee_tran', 'acm_tran', 'mit_press', 'nature', 'jmlr']]"
   ]
  },
  {
   "cell_type": "code",
   "execution_count": 119,
   "metadata": {},
   "outputs": [
    {
     "data": {
      "application/vnd.plotly.v1+json": {
       "config": {
        "plotlyServerURL": "https://plot.ly"
       },
       "data": [
        {
         "text": [
          [
           1,
           0.6242933451371078,
           0.3233423442789414,
           0.2828688171514668,
           0.5360712921991635,
           0.37980342183837024,
           0.2162565849096315,
           0.22841431492564387,
           0.22901078632819682,
           0.06565313917865852,
           0.13955646520101425,
           0.09380092123961016,
           0.17709108928251743,
           0.1336958280954927,
           0.07594193042548544,
           0.16835248312724507,
           0.12425970664075363,
           0.11363606849547281,
           0.14456726473208786,
           0.24611445223064826,
           0.08656819361916031,
           0.1376701879376707,
           0.1046322731638257,
           0.21032386570715542,
           -0.014784860292213344
          ],
          [
           0.6242933451371078,
           1,
           0.37559317991223923,
           0.4130097589508875,
           0.33149754838837037,
           0.20909790458423944,
           0.10400861314812639,
           0.163898621178977,
           0.17389762437742928,
           0.12552356280387336,
           0.14889640577586183,
           0.12844198065965265,
           0.15832840378596277,
           0.047218951105114405,
           0.04573017421819743,
           0.08422585873168306,
           -0.04248010103006527,
           -0.0033034575442115327,
           0.029324202176370495,
           -0.0257114213581154,
           -0.00353486789013951,
           -0.02946064432572491,
           -0.014841098896645125,
           -0.06920937285225366,
           -0.012791508918516053
          ],
          [
           0.3233423442789414,
           0.37559317991223923,
           1,
           -0.16600900066573393,
           0.12706528925667954,
           -0.0175107018096191,
           0.008248321188082957,
           -0.05514953576107694,
           -0.03239020168920507,
           -0.04103168045276089,
           -0.035471924266229776,
           -0.04648296079220408,
           -0.029964544442458867,
           0.005839855660910486,
           -0.05852982284395629,
           -0.041867860445307666,
           -0.035884668309215,
           0.009930501222429984,
           0.08392272818964182,
           -0.047466791981796486,
           -0.05846061993944001,
           0.09008864499342492,
           -0.002840478104392177,
           0.009256267720416916,
           0.01357641312252504
          ],
          [
           0.2828688171514668,
           0.4130097589508875,
           -0.16600900066573393,
           1,
           0.3149440583529786,
           0.3259348094627701,
           0.08482975082064091,
           0.08814165221931534,
           0.06590350801965018,
           0.05607367610411779,
           0.08047579369043714,
           0.07229267759120031,
           0.0696476621475771,
           -0.03999999521563546,
           0.027990815816382658,
           0.09227884110995216,
           0.05064289944298672,
           -0.00184349980195162,
           0.02268813185214541,
           -0.08592776928255852,
           -0.07294156881411361,
           -0.05164627754634409,
           -0.06401626690572496,
           -0.03870139042387907,
           -0.0008057255365155162
          ],
          [
           0.5360712921991635,
           0.33149754838837037,
           0.12706528925667954,
           0.3149440583529786,
           1,
           0.44743752446569346,
           0.146011321764577,
           0.14359839291441895,
           0.07146413021390487,
           -0.05272130282316727,
           -0.07681962824556451,
           -0.06267148331192136,
           0.04457892914525031,
           0.02633501178453203,
           -0.009915635904940896,
           0.12212790979165988,
           0.17732402188162266,
           0.034907979799897605,
           0.11766005876015903,
           0.04856651718885109,
           -0.019603257531338954,
           0.08628400226191249,
           -0.03913614073313905,
           0.2065657941026892,
           -0.0323648396976995
          ],
          [
           0.37980342183837024,
           0.20909790458423944,
           -0.0175107018096191,
           0.3259348094627701,
           0.44743752446569346,
           1,
           0.19163881425367915,
           0.00982820871003561,
           -0.05829077537932401,
           -0.1125231751862287,
           -0.08554040092861512,
           -0.06715530403694732,
           -0.07491627554594224,
           0.057588588329519144,
           -0.03380417654530391,
           0.1839739025002743,
           0.22343833915786296,
           0.04499622972699015,
           0.14034979992024116,
           -0.0032353161323898307,
           -0.044631876549791984,
           0.08746266627396958,
           0.009274347756425468,
           0.24619110289642235,
           -0.031129012116096165
          ],
          [
           0.2162565849096315,
           0.10400861314812639,
           0.008248321188082957,
           0.08482975082064091,
           0.146011321764577,
           0.19163881425367915,
           1,
           0.02014221911726758,
           0.010524187665678255,
           0.10443179870261064,
           0.1375396997707311,
           0.09361765901373303,
           0.004216016802579359,
           0.09831587378552409,
           -0.05425159458220863,
           0.19078461350785728,
           0.06452368983631616,
           0.11542249781883637,
           -0.0257244328255423,
           -0.02092089286431599,
           -0.0301043619951985,
           0.06702788128442838,
           -0.0034095853562973477,
           0.0775316009340193,
           -0.031201094944561265
          ],
          [
           0.22841431492564387,
           0.163898621178977,
           -0.05514953576107694,
           0.08814165221931534,
           0.14359839291441895,
           0.00982820871003561,
           0.02014221911726758,
           1,
           0.5520282037587072,
           -0.019531863140588933,
           -0.06216878161550039,
           -0.0508145466854372,
           0.5188740495427352,
           0.040832076668455605,
           0.009629715806699964,
           0.003659753243594869,
           -0.030624015281161127,
           0.006329027256689294,
           -0.006266863341161814,
           0.17069265524301774,
           0.1013264771517789,
           -0.06849731370508015,
           -0.08401078394009769,
           -0.041282969811539574,
           0.03987602601517359
          ],
          [
           0.22901078632819682,
           0.17389762437742928,
           -0.03239020168920507,
           0.06590350801965018,
           0.07146413021390487,
           -0.05829077537932401,
           0.010524187665678255,
           0.5520282037587072,
           1,
           -0.06174982393663676,
           -0.09205867090401439,
           -0.07294615911883633,
           0.6381430520507062,
           0.06359886857622496,
           0.0006236524455413898,
           -0.03892462671990637,
           -0.09149544346604598,
           -0.01869213947732071,
           -0.059685906513281886,
           0.14010606597877986,
           0.10753176771216091,
           -0.07062669596549837,
           -0.09198996756847677,
           -0.06701241596390208,
           0.02602756490359406
          ],
          [
           0.06565313917865852,
           0.12552356280387336,
           -0.04103168045276089,
           0.05607367610411779,
           -0.05272130282316727,
           -0.1125231751862287,
           0.10443179870261064,
           -0.019531863140588933,
           -0.06174982393663676,
           1,
           0.5875305518591585,
           0.5192275383485884,
           -0.027011907922317554,
           -0.04960494368294301,
           0.0154384944566693,
           0.006411422649152023,
           -0.027307813714978195,
           -0.0023743007216382402,
           0.0049060313290835225,
           -0.06620052643738644,
           -0.032595332541494014,
           -0.040348453378570195,
           -0.08098584009940774,
           -0.07041762456342708,
           0.0527888922680453
          ],
          [
           0.13955646520101425,
           0.14889640577586183,
           -0.035471924266229776,
           0.08047579369043714,
           -0.07681962824556451,
           -0.08554040092861512,
           0.1375396997707311,
           -0.06216878161550039,
           -0.09205867090401439,
           0.5875305518591585,
           1,
           0.7925075141400713,
           -0.07324681800102739,
           -0.06655522312032111,
           0.07130957019542992,
           0.0380688116830097,
           -0.05033964113686465,
           -0.007591211273990612,
           -0.020150055140795514,
           -0.08973302783858647,
           -0.03500499938111525,
           -0.04173693510531283,
           -0.08640957104750811,
           -0.0664886766486575,
           0.0331070541992052
          ],
          [
           0.09380092123961016,
           0.12844198065965265,
           -0.04648296079220408,
           0.07229267759120031,
           -0.06267148331192136,
           -0.06715530403694732,
           0.09361765901373303,
           -0.0508145466854372,
           -0.07294615911883633,
           0.5192275383485884,
           0.7925075141400713,
           1,
           -0.05725759709098347,
           -0.05281027810476329,
           0.03511960710607998,
           0.04404107209436443,
           -0.01734005096557744,
           -0.0022009078629993653,
           -0.01613385611681562,
           -0.08921023383054583,
           -0.03488168760748145,
           -0.05963848152671426,
           -0.09017199117876405,
           -0.059216287028667096,
           0.047392515981568045
          ],
          [
           0.17709108928251743,
           0.15832840378596277,
           -0.029964544442458867,
           0.0696476621475771,
           0.04457892914525031,
           -0.07491627554594224,
           0.004216016802579359,
           0.5188740495427352,
           0.6381430520507062,
           -0.027011907922317554,
           -0.07324681800102739,
           -0.05725759709098347,
           1,
           0.06756475031736597,
           0.01787842586302194,
           -0.062031436564852695,
           -0.10588135680498541,
           -0.03603905675211786,
           -0.06868887612082426,
           0.037623047570335855,
           0.09507707138251534,
           -0.06905921393922408,
           -0.08000272437940618,
           -0.07241588527047366,
           0.08659648676563754
          ],
          [
           0.1336958280954927,
           0.047218951105114405,
           0.005839855660910486,
           -0.03999999521563546,
           0.02633501178453203,
           0.057588588329519144,
           0.09831587378552409,
           0.040832076668455605,
           0.06359886857622496,
           -0.04960494368294301,
           -0.06655522312032111,
           -0.05281027810476329,
           0.06756475031736597,
           1,
           -0.050249580019460574,
           0.07180794378621856,
           0.010117856603751661,
           -0.05195225225270339,
           -0.013010628295427713,
           0.0808668557059324,
           0.03819237462221354,
           0.11415813308540776,
           0.03404096806018761,
           0.012259527661700442,
           -0.03521263856800241
          ],
          [
           0.07594193042548544,
           0.04573017421819743,
           -0.05852982284395629,
           0.027990815816382658,
           -0.009915635904940896,
           -0.03380417654530391,
           -0.05425159458220863,
           0.009629715806699964,
           0.0006236524455413898,
           0.0154384944566693,
           0.07130957019542992,
           0.03511960710607998,
           0.01787842586302194,
           -0.050249580019460574,
           1,
           -0.01344825258851978,
           -0.008546840065263737,
           -0.0015847854267903344,
           0.02129899579966478,
           0.17091484936303106,
           -0.007968039792098017,
           -0.041387901718789956,
           -0.017237310472221802,
           -0.01907476266590917,
           0.07720228336141755
          ],
          [
           0.16835248312724507,
           0.08422585873168306,
           -0.041867860445307666,
           0.09227884110995216,
           0.12212790979165988,
           0.1839739025002743,
           0.19078461350785728,
           0.003659753243594869,
           -0.03892462671990637,
           0.006411422649152023,
           0.0380688116830097,
           0.04404107209436443,
           -0.062031436564852695,
           0.07180794378621856,
           -0.01344825258851978,
           1,
           0.009648951952496581,
           0.0778247154318252,
           -0.03245548069862439,
           0.0587368026095568,
           -0.010719130467008389,
           0.07542520814016508,
           0.013283919375935937,
           0.06307762510949222,
           0.03614427246751809
          ],
          [
           0.12425970664075363,
           -0.04248010103006527,
           -0.035884668309215,
           0.05064289944298672,
           0.17732402188162266,
           0.22343833915786296,
           0.06452368983631616,
           -0.030624015281161127,
           -0.09149544346604598,
           -0.027307813714978195,
           -0.05033964113686465,
           -0.01734005096557744,
           -0.10588135680498541,
           0.010117856603751661,
           -0.008546840065263737,
           0.009648951952496581,
           1,
           0.011971565558461583,
           0.10308087431983082,
           0.03744762203928611,
           -0.01429726740445068,
           0.05597013689152313,
           -0.023168084244311528,
           0.2154139104263229,
           -0.01992332181541569
          ],
          [
           0.11363606849547281,
           -0.0033034575442115327,
           0.009930501222429984,
           -0.00184349980195162,
           0.034907979799897605,
           0.04499622972699015,
           0.11542249781883637,
           0.006329027256689294,
           -0.01869213947732071,
           -0.0023743007216382402,
           -0.007591211273990612,
           -0.0022009078629993653,
           -0.03603905675211786,
           -0.05195225225270339,
           -0.0015847854267903344,
           0.0778247154318252,
           0.011971565558461583,
           1,
           -0.04277253595483357,
           0.05364886398395508,
           0.009252535804445197,
           0.008842812051106338,
           -0.02028056624106494,
           0.09018442426350592,
           -0.021820286315773988
          ],
          [
           0.14456726473208786,
           0.029324202176370495,
           0.08392272818964182,
           0.02268813185214541,
           0.11766005876015903,
           0.14034979992024116,
           -0.0257244328255423,
           -0.006266863341161814,
           -0.059685906513281886,
           0.0049060313290835225,
           -0.020150055140795514,
           -0.01613385611681562,
           -0.06868887612082426,
           -0.013010628295427713,
           0.02129899579966478,
           -0.03245548069862439,
           0.10308087431983082,
           -0.04277253595483357,
           1,
           0.015754740955651176,
           -0.05171701542639325,
           0.015918296545403665,
           0.050091083306239306,
           0.10238351970212317,
           0.0009913572653879267
          ],
          [
           0.24611445223064826,
           -0.0257114213581154,
           -0.047466791981796486,
           -0.08592776928255852,
           0.04856651718885109,
           -0.0032353161323898307,
           -0.02092089286431599,
           0.17069265524301774,
           0.14010606597877986,
           -0.06620052643738644,
           -0.08973302783858647,
           -0.08921023383054583,
           0.037623047570335855,
           0.0808668557059324,
           0.17091484936303106,
           0.0587368026095568,
           0.03744762203928611,
           0.05364886398395508,
           0.015754740955651176,
           1,
           0.07006866645304824,
           0.017646986557052834,
           0.040786461641476965,
           0.1383158218766879,
           0.017641644039006133
          ],
          [
           0.08656819361916031,
           -0.00353486789013951,
           -0.05846061993944001,
           -0.07294156881411361,
           -0.019603257531338954,
           -0.044631876549791984,
           -0.0301043619951985,
           0.1013264771517789,
           0.10753176771216091,
           -0.032595332541494014,
           -0.03500499938111525,
           -0.03488168760748145,
           0.09507707138251534,
           0.03819237462221354,
           -0.007968039792098017,
           -0.010719130467008389,
           -0.01429726740445068,
           0.009252535804445197,
           -0.05171701542639325,
           0.07006866645304824,
           1,
           -0.009295207369017197,
           -0.005470417697958434,
           -0.0391895474613773,
           -0.004798665676318395
          ],
          [
           0.1376701879376707,
           -0.02946064432572491,
           0.09008864499342492,
           -0.05164627754634409,
           0.08628400226191249,
           0.08746266627396958,
           0.06702788128442838,
           -0.06849731370508015,
           -0.07062669596549837,
           -0.040348453378570195,
           -0.04173693510531283,
           -0.05963848152671426,
           -0.06905921393922408,
           0.11415813308540776,
           -0.041387901718789956,
           0.07542520814016508,
           0.05597013689152313,
           0.008842812051106338,
           0.015918296545403665,
           0.017646986557052834,
           -0.009295207369017197,
           1,
           0.13994528517821764,
           0.08470151240221244,
           -0.036553952510889894
          ],
          [
           0.1046322731638257,
           -0.014841098896645125,
           -0.002840478104392177,
           -0.06401626690572496,
           -0.03913614073313905,
           0.009274347756425468,
           -0.0034095853562973477,
           -0.08401078394009769,
           -0.09198996756847677,
           -0.08098584009940774,
           -0.08640957104750811,
           -0.09017199117876405,
           -0.08000272437940618,
           0.03404096806018761,
           -0.017237310472221802,
           0.013283919375935937,
           -0.023168084244311528,
           -0.02028056624106494,
           0.050091083306239306,
           0.040786461641476965,
           -0.005470417697958434,
           0.13994528517821764,
           1,
           0.04268219566147186,
           -0.05132772893013851
          ],
          [
           0.21032386570715542,
           -0.06920937285225366,
           0.009256267720416916,
           -0.03870139042387907,
           0.2065657941026892,
           0.24619110289642235,
           0.0775316009340193,
           -0.041282969811539574,
           -0.06701241596390208,
           -0.07041762456342708,
           -0.0664886766486575,
           -0.059216287028667096,
           -0.07241588527047366,
           0.012259527661700442,
           -0.01907476266590917,
           0.06307762510949222,
           0.2154139104263229,
           0.09018442426350592,
           0.10238351970212317,
           0.1383158218766879,
           -0.0391895474613773,
           0.08470151240221244,
           0.04268219566147186,
           1,
           -0.015717456860096332
          ],
          [
           -0.014784860292213344,
           -0.012791508918516053,
           0.01357641312252504,
           -0.0008057255365155162,
           -0.0323648396976995,
           -0.031129012116096165,
           -0.031201094944561265,
           0.03987602601517359,
           0.02602756490359406,
           0.0527888922680453,
           0.0331070541992052,
           0.047392515981568045,
           0.08659648676563754,
           -0.03521263856800241,
           0.07720228336141755,
           0.03614427246751809,
           -0.01992332181541569,
           -0.021820286315773988,
           0.0009913572653879267,
           0.017641644039006133,
           -0.004798665676318395,
           -0.036553952510889894,
           -0.05132772893013851,
           -0.015717456860096332,
           1
          ]
         ],
         "texttemplate": "%{text:.2f}",
         "type": "heatmap",
         "x": [
          "num_ref",
          "num_ref_3years",
          "arxiv",
          "neurips",
          "iclr",
          "icml",
          "aaai",
          "iccv",
          "cvpr",
          "emnlp",
          "acl",
          "naacl",
          "eccv",
          "icra",
          "icassp",
          "ijcai",
          "aistats",
          "sigkdd",
          "neuralcom",
          "ieee_tran",
          "acm_tran",
          "mit_press",
          "nature",
          "jmlr",
          "soundness"
         ],
         "y": [
          "num_ref",
          "num_ref_3years",
          "arxiv",
          "neurips",
          "iclr",
          "icml",
          "aaai",
          "iccv",
          "cvpr",
          "emnlp",
          "acl",
          "naacl",
          "eccv",
          "icra",
          "icassp",
          "ijcai",
          "aistats",
          "sigkdd",
          "neuralcom",
          "ieee_tran",
          "acm_tran",
          "mit_press",
          "nature",
          "jmlr",
          "soundness"
         ],
         "z": [
          [
           1,
           0.6242933451371078,
           0.3233423442789414,
           0.2828688171514668,
           0.5360712921991635,
           0.37980342183837024,
           0.2162565849096315,
           0.22841431492564387,
           0.22901078632819682,
           0.06565313917865852,
           0.13955646520101425,
           0.09380092123961016,
           0.17709108928251743,
           0.1336958280954927,
           0.07594193042548544,
           0.16835248312724507,
           0.12425970664075363,
           0.11363606849547281,
           0.14456726473208786,
           0.24611445223064826,
           0.08656819361916031,
           0.1376701879376707,
           0.1046322731638257,
           0.21032386570715542,
           -0.014784860292213344
          ],
          [
           0.6242933451371078,
           1,
           0.37559317991223923,
           0.4130097589508875,
           0.33149754838837037,
           0.20909790458423944,
           0.10400861314812639,
           0.163898621178977,
           0.17389762437742928,
           0.12552356280387336,
           0.14889640577586183,
           0.12844198065965265,
           0.15832840378596277,
           0.047218951105114405,
           0.04573017421819743,
           0.08422585873168306,
           -0.04248010103006527,
           -0.0033034575442115327,
           0.029324202176370495,
           -0.0257114213581154,
           -0.00353486789013951,
           -0.02946064432572491,
           -0.014841098896645125,
           -0.06920937285225366,
           -0.012791508918516053
          ],
          [
           0.3233423442789414,
           0.37559317991223923,
           1,
           -0.16600900066573393,
           0.12706528925667954,
           -0.0175107018096191,
           0.008248321188082957,
           -0.05514953576107694,
           -0.03239020168920507,
           -0.04103168045276089,
           -0.035471924266229776,
           -0.04648296079220408,
           -0.029964544442458867,
           0.005839855660910486,
           -0.05852982284395629,
           -0.041867860445307666,
           -0.035884668309215,
           0.009930501222429984,
           0.08392272818964182,
           -0.047466791981796486,
           -0.05846061993944001,
           0.09008864499342492,
           -0.002840478104392177,
           0.009256267720416916,
           0.01357641312252504
          ],
          [
           0.2828688171514668,
           0.4130097589508875,
           -0.16600900066573393,
           1,
           0.3149440583529786,
           0.3259348094627701,
           0.08482975082064091,
           0.08814165221931534,
           0.06590350801965018,
           0.05607367610411779,
           0.08047579369043714,
           0.07229267759120031,
           0.0696476621475771,
           -0.03999999521563546,
           0.027990815816382658,
           0.09227884110995216,
           0.05064289944298672,
           -0.00184349980195162,
           0.02268813185214541,
           -0.08592776928255852,
           -0.07294156881411361,
           -0.05164627754634409,
           -0.06401626690572496,
           -0.03870139042387907,
           -0.0008057255365155162
          ],
          [
           0.5360712921991635,
           0.33149754838837037,
           0.12706528925667954,
           0.3149440583529786,
           1,
           0.44743752446569346,
           0.146011321764577,
           0.14359839291441895,
           0.07146413021390487,
           -0.05272130282316727,
           -0.07681962824556451,
           -0.06267148331192136,
           0.04457892914525031,
           0.02633501178453203,
           -0.009915635904940896,
           0.12212790979165988,
           0.17732402188162266,
           0.034907979799897605,
           0.11766005876015903,
           0.04856651718885109,
           -0.019603257531338954,
           0.08628400226191249,
           -0.03913614073313905,
           0.2065657941026892,
           -0.0323648396976995
          ],
          [
           0.37980342183837024,
           0.20909790458423944,
           -0.0175107018096191,
           0.3259348094627701,
           0.44743752446569346,
           1,
           0.19163881425367915,
           0.00982820871003561,
           -0.05829077537932401,
           -0.1125231751862287,
           -0.08554040092861512,
           -0.06715530403694732,
           -0.07491627554594224,
           0.057588588329519144,
           -0.03380417654530391,
           0.1839739025002743,
           0.22343833915786296,
           0.04499622972699015,
           0.14034979992024116,
           -0.0032353161323898307,
           -0.044631876549791984,
           0.08746266627396958,
           0.009274347756425468,
           0.24619110289642235,
           -0.031129012116096165
          ],
          [
           0.2162565849096315,
           0.10400861314812639,
           0.008248321188082957,
           0.08482975082064091,
           0.146011321764577,
           0.19163881425367915,
           1,
           0.02014221911726758,
           0.010524187665678255,
           0.10443179870261064,
           0.1375396997707311,
           0.09361765901373303,
           0.004216016802579359,
           0.09831587378552409,
           -0.05425159458220863,
           0.19078461350785728,
           0.06452368983631616,
           0.11542249781883637,
           -0.0257244328255423,
           -0.02092089286431599,
           -0.0301043619951985,
           0.06702788128442838,
           -0.0034095853562973477,
           0.0775316009340193,
           -0.031201094944561265
          ],
          [
           0.22841431492564387,
           0.163898621178977,
           -0.05514953576107694,
           0.08814165221931534,
           0.14359839291441895,
           0.00982820871003561,
           0.02014221911726758,
           1,
           0.5520282037587072,
           -0.019531863140588933,
           -0.06216878161550039,
           -0.0508145466854372,
           0.5188740495427352,
           0.040832076668455605,
           0.009629715806699964,
           0.003659753243594869,
           -0.030624015281161127,
           0.006329027256689294,
           -0.006266863341161814,
           0.17069265524301774,
           0.1013264771517789,
           -0.06849731370508015,
           -0.08401078394009769,
           -0.041282969811539574,
           0.03987602601517359
          ],
          [
           0.22901078632819682,
           0.17389762437742928,
           -0.03239020168920507,
           0.06590350801965018,
           0.07146413021390487,
           -0.05829077537932401,
           0.010524187665678255,
           0.5520282037587072,
           1,
           -0.06174982393663676,
           -0.09205867090401439,
           -0.07294615911883633,
           0.6381430520507062,
           0.06359886857622496,
           0.0006236524455413898,
           -0.03892462671990637,
           -0.09149544346604598,
           -0.01869213947732071,
           -0.059685906513281886,
           0.14010606597877986,
           0.10753176771216091,
           -0.07062669596549837,
           -0.09198996756847677,
           -0.06701241596390208,
           0.02602756490359406
          ],
          [
           0.06565313917865852,
           0.12552356280387336,
           -0.04103168045276089,
           0.05607367610411779,
           -0.05272130282316727,
           -0.1125231751862287,
           0.10443179870261064,
           -0.019531863140588933,
           -0.06174982393663676,
           1,
           0.5875305518591585,
           0.5192275383485884,
           -0.027011907922317554,
           -0.04960494368294301,
           0.0154384944566693,
           0.006411422649152023,
           -0.027307813714978195,
           -0.0023743007216382402,
           0.0049060313290835225,
           -0.06620052643738644,
           -0.032595332541494014,
           -0.040348453378570195,
           -0.08098584009940774,
           -0.07041762456342708,
           0.0527888922680453
          ],
          [
           0.13955646520101425,
           0.14889640577586183,
           -0.035471924266229776,
           0.08047579369043714,
           -0.07681962824556451,
           -0.08554040092861512,
           0.1375396997707311,
           -0.06216878161550039,
           -0.09205867090401439,
           0.5875305518591585,
           1,
           0.7925075141400713,
           -0.07324681800102739,
           -0.06655522312032111,
           0.07130957019542992,
           0.0380688116830097,
           -0.05033964113686465,
           -0.007591211273990612,
           -0.020150055140795514,
           -0.08973302783858647,
           -0.03500499938111525,
           -0.04173693510531283,
           -0.08640957104750811,
           -0.0664886766486575,
           0.0331070541992052
          ],
          [
           0.09380092123961016,
           0.12844198065965265,
           -0.04648296079220408,
           0.07229267759120031,
           -0.06267148331192136,
           -0.06715530403694732,
           0.09361765901373303,
           -0.0508145466854372,
           -0.07294615911883633,
           0.5192275383485884,
           0.7925075141400713,
           1,
           -0.05725759709098347,
           -0.05281027810476329,
           0.03511960710607998,
           0.04404107209436443,
           -0.01734005096557744,
           -0.0022009078629993653,
           -0.01613385611681562,
           -0.08921023383054583,
           -0.03488168760748145,
           -0.05963848152671426,
           -0.09017199117876405,
           -0.059216287028667096,
           0.047392515981568045
          ],
          [
           0.17709108928251743,
           0.15832840378596277,
           -0.029964544442458867,
           0.0696476621475771,
           0.04457892914525031,
           -0.07491627554594224,
           0.004216016802579359,
           0.5188740495427352,
           0.6381430520507062,
           -0.027011907922317554,
           -0.07324681800102739,
           -0.05725759709098347,
           1,
           0.06756475031736597,
           0.01787842586302194,
           -0.062031436564852695,
           -0.10588135680498541,
           -0.03603905675211786,
           -0.06868887612082426,
           0.037623047570335855,
           0.09507707138251534,
           -0.06905921393922408,
           -0.08000272437940618,
           -0.07241588527047366,
           0.08659648676563754
          ],
          [
           0.1336958280954927,
           0.047218951105114405,
           0.005839855660910486,
           -0.03999999521563546,
           0.02633501178453203,
           0.057588588329519144,
           0.09831587378552409,
           0.040832076668455605,
           0.06359886857622496,
           -0.04960494368294301,
           -0.06655522312032111,
           -0.05281027810476329,
           0.06756475031736597,
           1,
           -0.050249580019460574,
           0.07180794378621856,
           0.010117856603751661,
           -0.05195225225270339,
           -0.013010628295427713,
           0.0808668557059324,
           0.03819237462221354,
           0.11415813308540776,
           0.03404096806018761,
           0.012259527661700442,
           -0.03521263856800241
          ],
          [
           0.07594193042548544,
           0.04573017421819743,
           -0.05852982284395629,
           0.027990815816382658,
           -0.009915635904940896,
           -0.03380417654530391,
           -0.05425159458220863,
           0.009629715806699964,
           0.0006236524455413898,
           0.0154384944566693,
           0.07130957019542992,
           0.03511960710607998,
           0.01787842586302194,
           -0.050249580019460574,
           1,
           -0.01344825258851978,
           -0.008546840065263737,
           -0.0015847854267903344,
           0.02129899579966478,
           0.17091484936303106,
           -0.007968039792098017,
           -0.041387901718789956,
           -0.017237310472221802,
           -0.01907476266590917,
           0.07720228336141755
          ],
          [
           0.16835248312724507,
           0.08422585873168306,
           -0.041867860445307666,
           0.09227884110995216,
           0.12212790979165988,
           0.1839739025002743,
           0.19078461350785728,
           0.003659753243594869,
           -0.03892462671990637,
           0.006411422649152023,
           0.0380688116830097,
           0.04404107209436443,
           -0.062031436564852695,
           0.07180794378621856,
           -0.01344825258851978,
           1,
           0.009648951952496581,
           0.0778247154318252,
           -0.03245548069862439,
           0.0587368026095568,
           -0.010719130467008389,
           0.07542520814016508,
           0.013283919375935937,
           0.06307762510949222,
           0.03614427246751809
          ],
          [
           0.12425970664075363,
           -0.04248010103006527,
           -0.035884668309215,
           0.05064289944298672,
           0.17732402188162266,
           0.22343833915786296,
           0.06452368983631616,
           -0.030624015281161127,
           -0.09149544346604598,
           -0.027307813714978195,
           -0.05033964113686465,
           -0.01734005096557744,
           -0.10588135680498541,
           0.010117856603751661,
           -0.008546840065263737,
           0.009648951952496581,
           1,
           0.011971565558461583,
           0.10308087431983082,
           0.03744762203928611,
           -0.01429726740445068,
           0.05597013689152313,
           -0.023168084244311528,
           0.2154139104263229,
           -0.01992332181541569
          ],
          [
           0.11363606849547281,
           -0.0033034575442115327,
           0.009930501222429984,
           -0.00184349980195162,
           0.034907979799897605,
           0.04499622972699015,
           0.11542249781883637,
           0.006329027256689294,
           -0.01869213947732071,
           -0.0023743007216382402,
           -0.007591211273990612,
           -0.0022009078629993653,
           -0.03603905675211786,
           -0.05195225225270339,
           -0.0015847854267903344,
           0.0778247154318252,
           0.011971565558461583,
           1,
           -0.04277253595483357,
           0.05364886398395508,
           0.009252535804445197,
           0.008842812051106338,
           -0.02028056624106494,
           0.09018442426350592,
           -0.021820286315773988
          ],
          [
           0.14456726473208786,
           0.029324202176370495,
           0.08392272818964182,
           0.02268813185214541,
           0.11766005876015903,
           0.14034979992024116,
           -0.0257244328255423,
           -0.006266863341161814,
           -0.059685906513281886,
           0.0049060313290835225,
           -0.020150055140795514,
           -0.01613385611681562,
           -0.06868887612082426,
           -0.013010628295427713,
           0.02129899579966478,
           -0.03245548069862439,
           0.10308087431983082,
           -0.04277253595483357,
           1,
           0.015754740955651176,
           -0.05171701542639325,
           0.015918296545403665,
           0.050091083306239306,
           0.10238351970212317,
           0.0009913572653879267
          ],
          [
           0.24611445223064826,
           -0.0257114213581154,
           -0.047466791981796486,
           -0.08592776928255852,
           0.04856651718885109,
           -0.0032353161323898307,
           -0.02092089286431599,
           0.17069265524301774,
           0.14010606597877986,
           -0.06620052643738644,
           -0.08973302783858647,
           -0.08921023383054583,
           0.037623047570335855,
           0.0808668557059324,
           0.17091484936303106,
           0.0587368026095568,
           0.03744762203928611,
           0.05364886398395508,
           0.015754740955651176,
           1,
           0.07006866645304824,
           0.017646986557052834,
           0.040786461641476965,
           0.1383158218766879,
           0.017641644039006133
          ],
          [
           0.08656819361916031,
           -0.00353486789013951,
           -0.05846061993944001,
           -0.07294156881411361,
           -0.019603257531338954,
           -0.044631876549791984,
           -0.0301043619951985,
           0.1013264771517789,
           0.10753176771216091,
           -0.032595332541494014,
           -0.03500499938111525,
           -0.03488168760748145,
           0.09507707138251534,
           0.03819237462221354,
           -0.007968039792098017,
           -0.010719130467008389,
           -0.01429726740445068,
           0.009252535804445197,
           -0.05171701542639325,
           0.07006866645304824,
           1,
           -0.009295207369017197,
           -0.005470417697958434,
           -0.0391895474613773,
           -0.004798665676318395
          ],
          [
           0.1376701879376707,
           -0.02946064432572491,
           0.09008864499342492,
           -0.05164627754634409,
           0.08628400226191249,
           0.08746266627396958,
           0.06702788128442838,
           -0.06849731370508015,
           -0.07062669596549837,
           -0.040348453378570195,
           -0.04173693510531283,
           -0.05963848152671426,
           -0.06905921393922408,
           0.11415813308540776,
           -0.041387901718789956,
           0.07542520814016508,
           0.05597013689152313,
           0.008842812051106338,
           0.015918296545403665,
           0.017646986557052834,
           -0.009295207369017197,
           1,
           0.13994528517821764,
           0.08470151240221244,
           -0.036553952510889894
          ],
          [
           0.1046322731638257,
           -0.014841098896645125,
           -0.002840478104392177,
           -0.06401626690572496,
           -0.03913614073313905,
           0.009274347756425468,
           -0.0034095853562973477,
           -0.08401078394009769,
           -0.09198996756847677,
           -0.08098584009940774,
           -0.08640957104750811,
           -0.09017199117876405,
           -0.08000272437940618,
           0.03404096806018761,
           -0.017237310472221802,
           0.013283919375935937,
           -0.023168084244311528,
           -0.02028056624106494,
           0.050091083306239306,
           0.040786461641476965,
           -0.005470417697958434,
           0.13994528517821764,
           1,
           0.04268219566147186,
           -0.05132772893013851
          ],
          [
           0.21032386570715542,
           -0.06920937285225366,
           0.009256267720416916,
           -0.03870139042387907,
           0.2065657941026892,
           0.24619110289642235,
           0.0775316009340193,
           -0.041282969811539574,
           -0.06701241596390208,
           -0.07041762456342708,
           -0.0664886766486575,
           -0.059216287028667096,
           -0.07241588527047366,
           0.012259527661700442,
           -0.01907476266590917,
           0.06307762510949222,
           0.2154139104263229,
           0.09018442426350592,
           0.10238351970212317,
           0.1383158218766879,
           -0.0391895474613773,
           0.08470151240221244,
           0.04268219566147186,
           1,
           -0.015717456860096332
          ],
          [
           -0.014784860292213344,
           -0.012791508918516053,
           0.01357641312252504,
           -0.0008057255365155162,
           -0.0323648396976995,
           -0.031129012116096165,
           -0.031201094944561265,
           0.03987602601517359,
           0.02602756490359406,
           0.0527888922680453,
           0.0331070541992052,
           0.047392515981568045,
           0.08659648676563754,
           -0.03521263856800241,
           0.07720228336141755,
           0.03614427246751809,
           -0.01992332181541569,
           -0.021820286315773988,
           0.0009913572653879267,
           0.017641644039006133,
           -0.004798665676318395,
           -0.036553952510889894,
           -0.05132772893013851,
           -0.015717456860096332,
           1
          ]
         ]
        }
       ],
       "layout": {
        "template": {
         "data": {
          "bar": [
           {
            "error_x": {
             "color": "#2a3f5f"
            },
            "error_y": {
             "color": "#2a3f5f"
            },
            "marker": {
             "line": {
              "color": "#E5ECF6",
              "width": 0.5
             },
             "pattern": {
              "fillmode": "overlay",
              "size": 10,
              "solidity": 0.2
             }
            },
            "type": "bar"
           }
          ],
          "barpolar": [
           {
            "marker": {
             "line": {
              "color": "#E5ECF6",
              "width": 0.5
             },
             "pattern": {
              "fillmode": "overlay",
              "size": 10,
              "solidity": 0.2
             }
            },
            "type": "barpolar"
           }
          ],
          "carpet": [
           {
            "aaxis": {
             "endlinecolor": "#2a3f5f",
             "gridcolor": "white",
             "linecolor": "white",
             "minorgridcolor": "white",
             "startlinecolor": "#2a3f5f"
            },
            "baxis": {
             "endlinecolor": "#2a3f5f",
             "gridcolor": "white",
             "linecolor": "white",
             "minorgridcolor": "white",
             "startlinecolor": "#2a3f5f"
            },
            "type": "carpet"
           }
          ],
          "choropleth": [
           {
            "colorbar": {
             "outlinewidth": 0,
             "ticks": ""
            },
            "type": "choropleth"
           }
          ],
          "contour": [
           {
            "colorbar": {
             "outlinewidth": 0,
             "ticks": ""
            },
            "colorscale": [
             [
              0,
              "#0d0887"
             ],
             [
              0.1111111111111111,
              "#46039f"
             ],
             [
              0.2222222222222222,
              "#7201a8"
             ],
             [
              0.3333333333333333,
              "#9c179e"
             ],
             [
              0.4444444444444444,
              "#bd3786"
             ],
             [
              0.5555555555555556,
              "#d8576b"
             ],
             [
              0.6666666666666666,
              "#ed7953"
             ],
             [
              0.7777777777777778,
              "#fb9f3a"
             ],
             [
              0.8888888888888888,
              "#fdca26"
             ],
             [
              1,
              "#f0f921"
             ]
            ],
            "type": "contour"
           }
          ],
          "contourcarpet": [
           {
            "colorbar": {
             "outlinewidth": 0,
             "ticks": ""
            },
            "type": "contourcarpet"
           }
          ],
          "heatmap": [
           {
            "colorbar": {
             "outlinewidth": 0,
             "ticks": ""
            },
            "colorscale": [
             [
              0,
              "#0d0887"
             ],
             [
              0.1111111111111111,
              "#46039f"
             ],
             [
              0.2222222222222222,
              "#7201a8"
             ],
             [
              0.3333333333333333,
              "#9c179e"
             ],
             [
              0.4444444444444444,
              "#bd3786"
             ],
             [
              0.5555555555555556,
              "#d8576b"
             ],
             [
              0.6666666666666666,
              "#ed7953"
             ],
             [
              0.7777777777777778,
              "#fb9f3a"
             ],
             [
              0.8888888888888888,
              "#fdca26"
             ],
             [
              1,
              "#f0f921"
             ]
            ],
            "type": "heatmap"
           }
          ],
          "heatmapgl": [
           {
            "colorbar": {
             "outlinewidth": 0,
             "ticks": ""
            },
            "colorscale": [
             [
              0,
              "#0d0887"
             ],
             [
              0.1111111111111111,
              "#46039f"
             ],
             [
              0.2222222222222222,
              "#7201a8"
             ],
             [
              0.3333333333333333,
              "#9c179e"
             ],
             [
              0.4444444444444444,
              "#bd3786"
             ],
             [
              0.5555555555555556,
              "#d8576b"
             ],
             [
              0.6666666666666666,
              "#ed7953"
             ],
             [
              0.7777777777777778,
              "#fb9f3a"
             ],
             [
              0.8888888888888888,
              "#fdca26"
             ],
             [
              1,
              "#f0f921"
             ]
            ],
            "type": "heatmapgl"
           }
          ],
          "histogram": [
           {
            "marker": {
             "pattern": {
              "fillmode": "overlay",
              "size": 10,
              "solidity": 0.2
             }
            },
            "type": "histogram"
           }
          ],
          "histogram2d": [
           {
            "colorbar": {
             "outlinewidth": 0,
             "ticks": ""
            },
            "colorscale": [
             [
              0,
              "#0d0887"
             ],
             [
              0.1111111111111111,
              "#46039f"
             ],
             [
              0.2222222222222222,
              "#7201a8"
             ],
             [
              0.3333333333333333,
              "#9c179e"
             ],
             [
              0.4444444444444444,
              "#bd3786"
             ],
             [
              0.5555555555555556,
              "#d8576b"
             ],
             [
              0.6666666666666666,
              "#ed7953"
             ],
             [
              0.7777777777777778,
              "#fb9f3a"
             ],
             [
              0.8888888888888888,
              "#fdca26"
             ],
             [
              1,
              "#f0f921"
             ]
            ],
            "type": "histogram2d"
           }
          ],
          "histogram2dcontour": [
           {
            "colorbar": {
             "outlinewidth": 0,
             "ticks": ""
            },
            "colorscale": [
             [
              0,
              "#0d0887"
             ],
             [
              0.1111111111111111,
              "#46039f"
             ],
             [
              0.2222222222222222,
              "#7201a8"
             ],
             [
              0.3333333333333333,
              "#9c179e"
             ],
             [
              0.4444444444444444,
              "#bd3786"
             ],
             [
              0.5555555555555556,
              "#d8576b"
             ],
             [
              0.6666666666666666,
              "#ed7953"
             ],
             [
              0.7777777777777778,
              "#fb9f3a"
             ],
             [
              0.8888888888888888,
              "#fdca26"
             ],
             [
              1,
              "#f0f921"
             ]
            ],
            "type": "histogram2dcontour"
           }
          ],
          "mesh3d": [
           {
            "colorbar": {
             "outlinewidth": 0,
             "ticks": ""
            },
            "type": "mesh3d"
           }
          ],
          "parcoords": [
           {
            "line": {
             "colorbar": {
              "outlinewidth": 0,
              "ticks": ""
             }
            },
            "type": "parcoords"
           }
          ],
          "pie": [
           {
            "automargin": true,
            "type": "pie"
           }
          ],
          "scatter": [
           {
            "fillpattern": {
             "fillmode": "overlay",
             "size": 10,
             "solidity": 0.2
            },
            "type": "scatter"
           }
          ],
          "scatter3d": [
           {
            "line": {
             "colorbar": {
              "outlinewidth": 0,
              "ticks": ""
             }
            },
            "marker": {
             "colorbar": {
              "outlinewidth": 0,
              "ticks": ""
             }
            },
            "type": "scatter3d"
           }
          ],
          "scattercarpet": [
           {
            "marker": {
             "colorbar": {
              "outlinewidth": 0,
              "ticks": ""
             }
            },
            "type": "scattercarpet"
           }
          ],
          "scattergeo": [
           {
            "marker": {
             "colorbar": {
              "outlinewidth": 0,
              "ticks": ""
             }
            },
            "type": "scattergeo"
           }
          ],
          "scattergl": [
           {
            "marker": {
             "colorbar": {
              "outlinewidth": 0,
              "ticks": ""
             }
            },
            "type": "scattergl"
           }
          ],
          "scattermapbox": [
           {
            "marker": {
             "colorbar": {
              "outlinewidth": 0,
              "ticks": ""
             }
            },
            "type": "scattermapbox"
           }
          ],
          "scatterpolar": [
           {
            "marker": {
             "colorbar": {
              "outlinewidth": 0,
              "ticks": ""
             }
            },
            "type": "scatterpolar"
           }
          ],
          "scatterpolargl": [
           {
            "marker": {
             "colorbar": {
              "outlinewidth": 0,
              "ticks": ""
             }
            },
            "type": "scatterpolargl"
           }
          ],
          "scatterternary": [
           {
            "marker": {
             "colorbar": {
              "outlinewidth": 0,
              "ticks": ""
             }
            },
            "type": "scatterternary"
           }
          ],
          "surface": [
           {
            "colorbar": {
             "outlinewidth": 0,
             "ticks": ""
            },
            "colorscale": [
             [
              0,
              "#0d0887"
             ],
             [
              0.1111111111111111,
              "#46039f"
             ],
             [
              0.2222222222222222,
              "#7201a8"
             ],
             [
              0.3333333333333333,
              "#9c179e"
             ],
             [
              0.4444444444444444,
              "#bd3786"
             ],
             [
              0.5555555555555556,
              "#d8576b"
             ],
             [
              0.6666666666666666,
              "#ed7953"
             ],
             [
              0.7777777777777778,
              "#fb9f3a"
             ],
             [
              0.8888888888888888,
              "#fdca26"
             ],
             [
              1,
              "#f0f921"
             ]
            ],
            "type": "surface"
           }
          ],
          "table": [
           {
            "cells": {
             "fill": {
              "color": "#EBF0F8"
             },
             "line": {
              "color": "white"
             }
            },
            "header": {
             "fill": {
              "color": "#C8D4E3"
             },
             "line": {
              "color": "white"
             }
            },
            "type": "table"
           }
          ]
         },
         "layout": {
          "annotationdefaults": {
           "arrowcolor": "#2a3f5f",
           "arrowhead": 0,
           "arrowwidth": 1
          },
          "autotypenumbers": "strict",
          "coloraxis": {
           "colorbar": {
            "outlinewidth": 0,
            "ticks": ""
           }
          },
          "colorscale": {
           "diverging": [
            [
             0,
             "#8e0152"
            ],
            [
             0.1,
             "#c51b7d"
            ],
            [
             0.2,
             "#de77ae"
            ],
            [
             0.3,
             "#f1b6da"
            ],
            [
             0.4,
             "#fde0ef"
            ],
            [
             0.5,
             "#f7f7f7"
            ],
            [
             0.6,
             "#e6f5d0"
            ],
            [
             0.7,
             "#b8e186"
            ],
            [
             0.8,
             "#7fbc41"
            ],
            [
             0.9,
             "#4d9221"
            ],
            [
             1,
             "#276419"
            ]
           ],
           "sequential": [
            [
             0,
             "#0d0887"
            ],
            [
             0.1111111111111111,
             "#46039f"
            ],
            [
             0.2222222222222222,
             "#7201a8"
            ],
            [
             0.3333333333333333,
             "#9c179e"
            ],
            [
             0.4444444444444444,
             "#bd3786"
            ],
            [
             0.5555555555555556,
             "#d8576b"
            ],
            [
             0.6666666666666666,
             "#ed7953"
            ],
            [
             0.7777777777777778,
             "#fb9f3a"
            ],
            [
             0.8888888888888888,
             "#fdca26"
            ],
            [
             1,
             "#f0f921"
            ]
           ],
           "sequentialminus": [
            [
             0,
             "#0d0887"
            ],
            [
             0.1111111111111111,
             "#46039f"
            ],
            [
             0.2222222222222222,
             "#7201a8"
            ],
            [
             0.3333333333333333,
             "#9c179e"
            ],
            [
             0.4444444444444444,
             "#bd3786"
            ],
            [
             0.5555555555555556,
             "#d8576b"
            ],
            [
             0.6666666666666666,
             "#ed7953"
            ],
            [
             0.7777777777777778,
             "#fb9f3a"
            ],
            [
             0.8888888888888888,
             "#fdca26"
            ],
            [
             1,
             "#f0f921"
            ]
           ]
          },
          "colorway": [
           "#636efa",
           "#EF553B",
           "#00cc96",
           "#ab63fa",
           "#FFA15A",
           "#19d3f3",
           "#FF6692",
           "#B6E880",
           "#FF97FF",
           "#FECB52"
          ],
          "font": {
           "color": "#2a3f5f"
          },
          "geo": {
           "bgcolor": "white",
           "lakecolor": "white",
           "landcolor": "#E5ECF6",
           "showlakes": true,
           "showland": true,
           "subunitcolor": "white"
          },
          "hoverlabel": {
           "align": "left"
          },
          "hovermode": "closest",
          "mapbox": {
           "style": "light"
          },
          "paper_bgcolor": "white",
          "plot_bgcolor": "#E5ECF6",
          "polar": {
           "angularaxis": {
            "gridcolor": "white",
            "linecolor": "white",
            "ticks": ""
           },
           "bgcolor": "#E5ECF6",
           "radialaxis": {
            "gridcolor": "white",
            "linecolor": "white",
            "ticks": ""
           }
          },
          "scene": {
           "xaxis": {
            "backgroundcolor": "#E5ECF6",
            "gridcolor": "white",
            "gridwidth": 2,
            "linecolor": "white",
            "showbackground": true,
            "ticks": "",
            "zerolinecolor": "white"
           },
           "yaxis": {
            "backgroundcolor": "#E5ECF6",
            "gridcolor": "white",
            "gridwidth": 2,
            "linecolor": "white",
            "showbackground": true,
            "ticks": "",
            "zerolinecolor": "white"
           },
           "zaxis": {
            "backgroundcolor": "#E5ECF6",
            "gridcolor": "white",
            "gridwidth": 2,
            "linecolor": "white",
            "showbackground": true,
            "ticks": "",
            "zerolinecolor": "white"
           }
          },
          "shapedefaults": {
           "line": {
            "color": "#2a3f5f"
           }
          },
          "ternary": {
           "aaxis": {
            "gridcolor": "white",
            "linecolor": "white",
            "ticks": ""
           },
           "baxis": {
            "gridcolor": "white",
            "linecolor": "white",
            "ticks": ""
           },
           "bgcolor": "#E5ECF6",
           "caxis": {
            "gridcolor": "white",
            "linecolor": "white",
            "ticks": ""
           }
          },
          "title": {
           "x": 0.05
          },
          "xaxis": {
           "automargin": true,
           "gridcolor": "white",
           "linecolor": "white",
           "ticks": "",
           "title": {
            "standoff": 15
           },
           "zerolinecolor": "white",
           "zerolinewidth": 2
          },
          "yaxis": {
           "automargin": true,
           "gridcolor": "white",
           "linecolor": "white",
           "ticks": "",
           "title": {
            "standoff": 15
           },
           "zerolinecolor": "white",
           "zerolinewidth": 2
          }
         }
        }
       }
      }
     },
     "metadata": {},
     "output_type": "display_data"
    }
   ],
   "source": [
    "dataframe = reference_based.join([y])\n",
    "correlation_matrix(dataframe)"
   ]
  },
  {
   "cell_type": "code",
   "execution_count": 120,
   "metadata": {},
   "outputs": [
    {
     "name": "stdout",
     "output_type": "stream",
     "text": [
      "Selected Feature Names: ['eccv']\n",
      "Accuracy: 53.57%\n",
      "Selected Feature Names: ['eccv', 'icassp']\n",
      "Accuracy: 54.37%\n",
      "Selected Feature Names: ['eccv', 'icassp', 'emnlp']\n",
      "Accuracy: 57.14%\n",
      "Selected Feature Names: ['eccv', 'icassp', 'emnlp', 'acl']\n",
      "Accuracy: 57.54%\n",
      "Selected Feature Names: ['eccv', 'icassp', 'emnlp', 'acl', 'nature']\n",
      "Accuracy: 56.35%\n",
      "Selected Feature Names: ['eccv', 'icassp', 'emnlp', 'acl', 'nature', 'naacl']\n",
      "Accuracy: 53.17%\n",
      "Selected Feature Names: ['eccv', 'icassp', 'emnlp', 'acl', 'nature', 'naacl', 'iccv']\n",
      "Accuracy: 53.57%\n",
      "Selected Feature Names: ['eccv', 'icassp', 'emnlp', 'acl', 'nature', 'naacl', 'iccv', 'cvpr']\n",
      "Accuracy: 54.76%\n",
      "Selected Feature Names: ['eccv', 'icassp', 'emnlp', 'acl', 'nature', 'naacl', 'iccv', 'cvpr', 'icra']\n",
      "Accuracy: 56.35%\n",
      "Selected Feature Names: ['eccv', 'icassp', 'emnlp', 'acl', 'nature', 'naacl', 'iccv', 'cvpr', 'icra', 'icml']\n",
      "Accuracy: 52.78%\n",
      "Selected Feature Names: ['eccv', 'icassp', 'emnlp', 'acl', 'nature', 'naacl', 'iccv', 'cvpr', 'icra', 'icml', 'iclr']\n",
      "Accuracy: 55.95%\n",
      "Selected Feature Names: ['eccv', 'icassp', 'emnlp', 'acl', 'nature', 'naacl', 'iccv', 'cvpr', 'icra', 'icml', 'iclr', 'ijcai']\n",
      "Accuracy: 56.35%\n",
      "Selected Feature Names: ['eccv', 'icassp', 'emnlp', 'acl', 'nature', 'naacl', 'iccv', 'cvpr', 'icra', 'icml', 'iclr', 'ijcai', 'aaai']\n",
      "Accuracy: 57.14%\n",
      "Selected Feature Names: ['eccv', 'icassp', 'emnlp', 'acl', 'nature', 'naacl', 'iccv', 'cvpr', 'icra', 'icml', 'iclr', 'ijcai', 'aaai', 'mit_press']\n",
      "Accuracy: 56.75%\n",
      "Selected Feature Names: ['eccv', 'icassp', 'emnlp', 'acl', 'nature', 'naacl', 'iccv', 'cvpr', 'icra', 'icml', 'iclr', 'ijcai', 'aaai', 'mit_press', 'num_ref']\n",
      "Accuracy: 57.54%\n",
      "Selected Feature Names: ['eccv', 'icassp', 'emnlp', 'acl', 'nature', 'naacl', 'iccv', 'cvpr', 'icra', 'icml', 'iclr', 'ijcai', 'aaai', 'mit_press', 'num_ref', 'sigkdd']\n",
      "Accuracy: 61.11%\n",
      "Selected Feature Names: ['eccv', 'icassp', 'emnlp', 'acl', 'nature', 'naacl', 'iccv', 'cvpr', 'icra', 'icml', 'iclr', 'ijcai', 'aaai', 'mit_press', 'num_ref', 'sigkdd', 'arxiv']\n",
      "Accuracy: 55.16%\n",
      "Selected Feature Names: ['eccv', 'icassp', 'emnlp', 'acl', 'nature', 'naacl', 'iccv', 'cvpr', 'icra', 'icml', 'iclr', 'ijcai', 'aaai', 'mit_press', 'num_ref', 'sigkdd', 'arxiv', 'num_ref_3years']\n",
      "Accuracy: 54.76%\n",
      "Selected Feature Names: ['eccv', 'icassp', 'emnlp', 'acl', 'nature', 'naacl', 'iccv', 'cvpr', 'icra', 'icml', 'iclr', 'ijcai', 'aaai', 'mit_press', 'num_ref', 'sigkdd', 'arxiv', 'num_ref_3years', 'ieee_tran']\n",
      "Accuracy: 48.41%\n",
      "Selected Feature Names: ['eccv', 'icassp', 'emnlp', 'acl', 'nature', 'naacl', 'iccv', 'cvpr', 'icra', 'icml', 'iclr', 'ijcai', 'aaai', 'mit_press', 'num_ref', 'sigkdd', 'arxiv', 'num_ref_3years', 'ieee_tran', 'aistats']\n",
      "Accuracy: 49.60%\n",
      "Selected Feature Names: ['eccv', 'icassp', 'emnlp', 'acl', 'nature', 'naacl', 'iccv', 'cvpr', 'icra', 'icml', 'iclr', 'ijcai', 'aaai', 'mit_press', 'num_ref', 'sigkdd', 'arxiv', 'num_ref_3years', 'ieee_tran', 'aistats', 'jmlr']\n",
      "Accuracy: 49.60%\n",
      "Selected Feature Names: ['eccv', 'icassp', 'emnlp', 'acl', 'nature', 'naacl', 'iccv', 'cvpr', 'icra', 'icml', 'iclr', 'ijcai', 'aaai', 'mit_press', 'num_ref', 'sigkdd', 'arxiv', 'num_ref_3years', 'ieee_tran', 'aistats', 'jmlr', 'acm_tran']\n",
      "Accuracy: 51.59%\n",
      "Selected Feature Names: ['eccv', 'icassp', 'emnlp', 'acl', 'nature', 'naacl', 'iccv', 'cvpr', 'icra', 'icml', 'iclr', 'ijcai', 'aaai', 'mit_press', 'num_ref', 'sigkdd', 'arxiv', 'num_ref_3years', 'ieee_tran', 'aistats', 'jmlr', 'acm_tran', 'neurips']\n",
      "Accuracy: 53.97%\n",
      "Selected Feature Names: ['eccv', 'icassp', 'emnlp', 'acl', 'nature', 'naacl', 'iccv', 'cvpr', 'icra', 'icml', 'iclr', 'ijcai', 'aaai', 'mit_press', 'num_ref', 'sigkdd', 'arxiv', 'num_ref_3years', 'ieee_tran', 'aistats', 'jmlr', 'acm_tran', 'neurips', 'neuralcom']\n",
      "Accuracy: 51.98%\n"
     ]
    }
   ],
   "source": [
    "for i in dict(enumerate(reference_based)):\n",
    "    accuracy = model(reference_based, y, i+1)\n",
    "    print(\"Accuracy: %.2f%%\" % (accuracy * 100.0))"
   ]
  },
  {
   "cell_type": "markdown",
   "metadata": {},
   "source": [
    "## Combination Predictor"
   ]
  },
  {
   "cell_type": "code",
   "execution_count": 121,
   "metadata": {},
   "outputs": [],
   "source": [
    "combination = citing_sentence.join([regular_sentences, reference_based])"
   ]
  },
  {
   "cell_type": "code",
   "execution_count": 122,
   "metadata": {},
   "outputs": [
    {
     "name": "stdout",
     "output_type": "stream",
     "text": [
      "Selected Feature Names: ['atr38']\n",
      "Accuracy: 46.43%\n",
      "Selected Feature Names: ['atr38', 'atr39']\n",
      "Accuracy: 45.63%\n",
      "Selected Feature Names: ['atr38', 'atr39', 'atr22']\n",
      "Accuracy: 47.22%\n",
      "Selected Feature Names: ['atr38', 'atr39', 'atr22', 'eccv']\n",
      "Accuracy: 48.81%\n",
      "Selected Feature Names: ['atr38', 'atr39', 'atr22', 'eccv', 'atr14']\n",
      "Accuracy: 44.05%\n",
      "Selected Feature Names: ['atr38', 'atr39', 'atr22', 'eccv', 'atr14', 'icassp']\n",
      "Accuracy: 51.98%\n",
      "Selected Feature Names: ['atr38', 'atr39', 'atr22', 'eccv', 'atr14', 'icassp', 'atr12']\n",
      "Accuracy: 49.21%\n",
      "Selected Feature Names: ['atr38', 'atr39', 'atr22', 'eccv', 'atr14', 'icassp', 'atr12', 'emnlp']\n",
      "Accuracy: 49.21%\n",
      "Selected Feature Names: ['atr38', 'atr39', 'atr22', 'eccv', 'atr14', 'icassp', 'atr12', 'emnlp', 'atr7']\n",
      "Accuracy: 51.59%\n",
      "Selected Feature Names: ['atr38', 'atr39', 'atr22', 'eccv', 'atr14', 'icassp', 'atr12', 'emnlp', 'atr7', 'atr2']\n",
      "Accuracy: 51.59%\n",
      "Selected Feature Names: ['atr38', 'atr39', 'atr22', 'eccv', 'atr14', 'icassp', 'atr12', 'emnlp', 'atr7', 'atr2', 'acl']\n",
      "Accuracy: 51.59%\n",
      "Selected Feature Names: ['atr38', 'atr39', 'atr22', 'eccv', 'atr14', 'icassp', 'atr12', 'emnlp', 'atr7', 'atr2', 'acl', 'nature']\n",
      "Accuracy: 52.38%\n",
      "Selected Feature Names: ['atr38', 'atr39', 'atr22', 'eccv', 'atr14', 'icassp', 'atr12', 'emnlp', 'atr7', 'atr2', 'acl', 'nature', 'atr34']\n",
      "Accuracy: 50.40%\n",
      "Selected Feature Names: ['atr38', 'atr39', 'atr22', 'eccv', 'atr14', 'icassp', 'atr12', 'emnlp', 'atr7', 'atr2', 'acl', 'nature', 'atr34', 'atr29']\n",
      "Accuracy: 48.81%\n",
      "Selected Feature Names: ['atr38', 'atr39', 'atr22', 'eccv', 'atr14', 'icassp', 'atr12', 'emnlp', 'atr7', 'atr2', 'acl', 'nature', 'atr34', 'atr29', 'atr6']\n",
      "Accuracy: 50.00%\n",
      "Selected Feature Names: ['atr38', 'atr39', 'atr22', 'eccv', 'atr14', 'icassp', 'atr12', 'emnlp', 'atr7', 'atr2', 'acl', 'nature', 'atr34', 'atr29', 'atr6', 'atr9']\n",
      "Accuracy: 52.78%\n",
      "Selected Feature Names: ['atr38', 'atr39', 'atr22', 'eccv', 'atr14', 'icassp', 'atr12', 'emnlp', 'atr7', 'atr2', 'acl', 'nature', 'atr34', 'atr29', 'atr6', 'atr9', 'atr25']\n",
      "Accuracy: 51.59%\n",
      "Selected Feature Names: ['atr38', 'atr39', 'atr22', 'eccv', 'atr14', 'icassp', 'atr12', 'emnlp', 'atr7', 'atr2', 'acl', 'nature', 'atr34', 'atr29', 'atr6', 'atr9', 'atr25', 'atr33']\n",
      "Accuracy: 53.97%\n",
      "Selected Feature Names: ['atr38', 'atr39', 'atr22', 'eccv', 'atr14', 'icassp', 'atr12', 'emnlp', 'atr7', 'atr2', 'acl', 'nature', 'atr34', 'atr29', 'atr6', 'atr9', 'atr25', 'atr33', 'naacl']\n",
      "Accuracy: 50.00%\n",
      "Selected Feature Names: ['atr38', 'atr39', 'atr22', 'eccv', 'atr14', 'icassp', 'atr12', 'emnlp', 'atr7', 'atr2', 'acl', 'nature', 'atr34', 'atr29', 'atr6', 'atr9', 'atr25', 'atr33', 'naacl', 'atr16']\n",
      "Accuracy: 54.76%\n",
      "Selected Feature Names: ['atr38', 'atr39', 'atr22', 'eccv', 'atr14', 'icassp', 'atr12', 'emnlp', 'atr7', 'atr2', 'acl', 'nature', 'atr34', 'atr29', 'atr6', 'atr9', 'atr25', 'atr33', 'naacl', 'atr16', 'iccv']\n",
      "Accuracy: 53.57%\n",
      "Selected Feature Names: ['atr38', 'atr39', 'atr22', 'eccv', 'atr14', 'icassp', 'atr12', 'emnlp', 'atr7', 'atr2', 'acl', 'nature', 'atr34', 'atr29', 'atr6', 'atr9', 'atr25', 'atr33', 'naacl', 'atr16', 'iccv', 'cvpr']\n",
      "Accuracy: 53.57%\n",
      "Selected Feature Names: ['atr38', 'atr39', 'atr22', 'eccv', 'atr14', 'icassp', 'atr12', 'emnlp', 'atr7', 'atr2', 'acl', 'nature', 'atr34', 'atr29', 'atr6', 'atr9', 'atr25', 'atr33', 'naacl', 'atr16', 'iccv', 'cvpr', 'icra']\n",
      "Accuracy: 49.21%\n",
      "Selected Feature Names: ['atr38', 'atr39', 'atr22', 'eccv', 'atr14', 'icassp', 'atr12', 'emnlp', 'atr7', 'atr2', 'acl', 'nature', 'atr34', 'atr29', 'atr6', 'atr9', 'atr25', 'atr33', 'naacl', 'atr16', 'iccv', 'cvpr', 'icra', 'atr0']\n",
      "Accuracy: 48.81%\n",
      "Selected Feature Names: ['atr38', 'atr39', 'atr22', 'eccv', 'atr14', 'icassp', 'atr12', 'emnlp', 'atr7', 'atr2', 'acl', 'nature', 'atr34', 'atr29', 'atr6', 'atr9', 'atr25', 'atr33', 'naacl', 'atr16', 'iccv', 'cvpr', 'icra', 'atr0', 'icml']\n",
      "Accuracy: 52.78%\n",
      "Selected Feature Names: ['atr38', 'atr39', 'atr22', 'eccv', 'atr14', 'icassp', 'atr12', 'emnlp', 'atr7', 'atr2', 'acl', 'nature', 'atr34', 'atr29', 'atr6', 'atr9', 'atr25', 'atr33', 'naacl', 'atr16', 'iccv', 'cvpr', 'icra', 'atr0', 'icml', 'atr27']\n",
      "Accuracy: 47.62%\n",
      "Selected Feature Names: ['atr38', 'atr39', 'atr22', 'eccv', 'atr14', 'icassp', 'atr12', 'emnlp', 'atr7', 'atr2', 'acl', 'nature', 'atr34', 'atr29', 'atr6', 'atr9', 'atr25', 'atr33', 'naacl', 'atr16', 'iccv', 'cvpr', 'icra', 'atr0', 'icml', 'atr27', 'iclr']\n",
      "Accuracy: 46.43%\n",
      "Selected Feature Names: ['atr38', 'atr39', 'atr22', 'eccv', 'atr14', 'icassp', 'atr12', 'emnlp', 'atr7', 'atr2', 'acl', 'nature', 'atr34', 'atr29', 'atr6', 'atr9', 'atr25', 'atr33', 'naacl', 'atr16', 'iccv', 'cvpr', 'icra', 'atr0', 'icml', 'atr27', 'iclr', 'atr23']\n",
      "Accuracy: 50.00%\n",
      "Selected Feature Names: ['atr38', 'atr39', 'atr22', 'eccv', 'atr14', 'icassp', 'atr12', 'emnlp', 'atr7', 'atr2', 'acl', 'nature', 'atr34', 'atr29', 'atr6', 'atr9', 'atr25', 'atr33', 'naacl', 'atr16', 'iccv', 'cvpr', 'icra', 'atr0', 'icml', 'atr27', 'iclr', 'atr23', 'atr8']\n",
      "Accuracy: 52.78%\n",
      "Selected Feature Names: ['atr38', 'atr39', 'atr22', 'eccv', 'atr14', 'icassp', 'atr12', 'emnlp', 'atr7', 'atr2', 'acl', 'nature', 'atr34', 'atr29', 'atr6', 'atr9', 'atr25', 'atr33', 'naacl', 'atr16', 'iccv', 'cvpr', 'icra', 'atr0', 'icml', 'atr27', 'iclr', 'atr23', 'atr8', 'atr31']\n",
      "Accuracy: 48.81%\n",
      "Selected Feature Names: ['atr38', 'atr39', 'atr22', 'eccv', 'atr14', 'icassp', 'atr12', 'emnlp', 'atr7', 'atr2', 'acl', 'nature', 'atr34', 'atr29', 'atr6', 'atr9', 'atr25', 'atr33', 'naacl', 'atr16', 'iccv', 'cvpr', 'icra', 'atr0', 'icml', 'atr27', 'iclr', 'atr23', 'atr8', 'atr31', 'ijcai']\n",
      "Accuracy: 49.60%\n",
      "Selected Feature Names: ['atr38', 'atr39', 'atr22', 'eccv', 'atr14', 'icassp', 'atr12', 'emnlp', 'atr7', 'atr2', 'acl', 'nature', 'atr34', 'atr29', 'atr6', 'atr9', 'atr25', 'atr33', 'naacl', 'atr16', 'iccv', 'cvpr', 'icra', 'atr0', 'icml', 'atr27', 'iclr', 'atr23', 'atr8', 'atr31', 'ijcai', 'aaai']\n",
      "Accuracy: 51.19%\n",
      "Selected Feature Names: ['atr38', 'atr39', 'atr22', 'eccv', 'atr14', 'icassp', 'atr12', 'emnlp', 'atr7', 'atr2', 'acl', 'nature', 'atr34', 'atr29', 'atr6', 'atr9', 'atr25', 'atr33', 'naacl', 'atr16', 'iccv', 'cvpr', 'icra', 'atr0', 'icml', 'atr27', 'iclr', 'atr23', 'atr8', 'atr31', 'ijcai', 'aaai', 'atr28']\n",
      "Accuracy: 47.62%\n",
      "Selected Feature Names: ['atr38', 'atr39', 'atr22', 'eccv', 'atr14', 'icassp', 'atr12', 'emnlp', 'atr7', 'atr2', 'acl', 'nature', 'atr34', 'atr29', 'atr6', 'atr9', 'atr25', 'atr33', 'naacl', 'atr16', 'iccv', 'cvpr', 'icra', 'atr0', 'icml', 'atr27', 'iclr', 'atr23', 'atr8', 'atr31', 'ijcai', 'aaai', 'atr28', 'mit_press']\n",
      "Accuracy: 51.59%\n",
      "Selected Feature Names: ['atr38', 'atr39', 'atr22', 'eccv', 'atr14', 'icassp', 'atr12', 'emnlp', 'atr7', 'atr2', 'acl', 'nature', 'atr34', 'atr29', 'atr6', 'atr9', 'atr25', 'atr33', 'naacl', 'atr16', 'iccv', 'cvpr', 'icra', 'atr0', 'icml', 'atr27', 'iclr', 'atr23', 'atr8', 'atr31', 'ijcai', 'aaai', 'atr28', 'mit_press', 'atr36']\n",
      "Accuracy: 48.02%\n",
      "Selected Feature Names: ['atr38', 'atr39', 'atr22', 'eccv', 'atr14', 'icassp', 'atr12', 'emnlp', 'atr7', 'atr2', 'acl', 'nature', 'atr34', 'atr29', 'atr6', 'atr9', 'atr25', 'atr33', 'naacl', 'atr16', 'iccv', 'cvpr', 'icra', 'atr0', 'icml', 'atr27', 'iclr', 'atr23', 'atr8', 'atr31', 'ijcai', 'aaai', 'atr28', 'mit_press', 'atr36', 'num_ref']\n",
      "Accuracy: 53.17%\n",
      "Selected Feature Names: ['atr38', 'atr39', 'atr22', 'eccv', 'atr14', 'icassp', 'atr12', 'emnlp', 'atr7', 'atr2', 'acl', 'nature', 'atr34', 'atr29', 'atr6', 'atr9', 'atr25', 'atr33', 'naacl', 'atr16', 'iccv', 'cvpr', 'icra', 'atr0', 'icml', 'atr27', 'iclr', 'atr23', 'atr8', 'atr31', 'ijcai', 'aaai', 'atr28', 'mit_press', 'atr36', 'num_ref', 'sigkdd']\n",
      "Accuracy: 52.38%\n",
      "Selected Feature Names: ['atr38', 'atr39', 'atr22', 'eccv', 'atr14', 'icassp', 'atr12', 'emnlp', 'atr7', 'atr2', 'acl', 'nature', 'atr34', 'atr29', 'atr6', 'atr9', 'atr25', 'atr33', 'naacl', 'atr16', 'iccv', 'cvpr', 'icra', 'atr0', 'icml', 'atr27', 'iclr', 'atr23', 'atr8', 'atr31', 'ijcai', 'aaai', 'atr28', 'mit_press', 'atr36', 'num_ref', 'sigkdd', 'arxiv']\n",
      "Accuracy: 57.54%\n",
      "Selected Feature Names: ['atr38', 'atr39', 'atr22', 'eccv', 'atr14', 'icassp', 'atr12', 'emnlp', 'atr7', 'atr2', 'acl', 'nature', 'atr34', 'atr29', 'atr6', 'atr9', 'atr25', 'atr33', 'naacl', 'atr16', 'iccv', 'cvpr', 'icra', 'atr0', 'icml', 'atr27', 'iclr', 'atr23', 'atr8', 'atr31', 'ijcai', 'aaai', 'atr28', 'mit_press', 'atr36', 'num_ref', 'sigkdd', 'arxiv', 'atr37']\n",
      "Accuracy: 50.40%\n",
      "Selected Feature Names: ['atr38', 'atr39', 'atr22', 'eccv', 'atr14', 'icassp', 'atr12', 'emnlp', 'atr7', 'atr2', 'acl', 'nature', 'atr34', 'atr29', 'atr6', 'atr9', 'atr25', 'atr33', 'naacl', 'atr16', 'iccv', 'cvpr', 'icra', 'atr0', 'icml', 'atr27', 'iclr', 'atr23', 'atr8', 'atr31', 'ijcai', 'aaai', 'atr28', 'mit_press', 'atr36', 'num_ref', 'sigkdd', 'arxiv', 'atr37', 'num_ref_3years']\n",
      "Accuracy: 51.59%\n",
      "Selected Feature Names: ['atr38', 'atr39', 'atr22', 'eccv', 'atr14', 'icassp', 'atr12', 'emnlp', 'atr7', 'atr2', 'acl', 'nature', 'atr34', 'atr29', 'atr6', 'atr9', 'atr25', 'atr33', 'naacl', 'atr16', 'iccv', 'cvpr', 'icra', 'atr0', 'icml', 'atr27', 'iclr', 'atr23', 'atr8', 'atr31', 'ijcai', 'aaai', 'atr28', 'mit_press', 'atr36', 'num_ref', 'sigkdd', 'arxiv', 'atr37', 'num_ref_3years', 'ieee_tran']\n",
      "Accuracy: 52.38%\n",
      "Selected Feature Names: ['atr38', 'atr39', 'atr22', 'eccv', 'atr14', 'icassp', 'atr12', 'emnlp', 'atr7', 'atr2', 'acl', 'nature', 'atr34', 'atr29', 'atr6', 'atr9', 'atr25', 'atr33', 'naacl', 'atr16', 'iccv', 'cvpr', 'icra', 'atr0', 'icml', 'atr27', 'iclr', 'atr23', 'atr8', 'atr31', 'ijcai', 'aaai', 'atr28', 'mit_press', 'atr36', 'num_ref', 'sigkdd', 'arxiv', 'atr37', 'num_ref_3years', 'ieee_tran', 'atr4']\n",
      "Accuracy: 50.79%\n",
      "Selected Feature Names: ['atr38', 'atr39', 'atr22', 'eccv', 'atr14', 'icassp', 'atr12', 'emnlp', 'atr7', 'atr2', 'acl', 'nature', 'atr34', 'atr29', 'atr6', 'atr9', 'atr25', 'atr33', 'naacl', 'atr16', 'iccv', 'cvpr', 'icra', 'atr0', 'icml', 'atr27', 'iclr', 'atr23', 'atr8', 'atr31', 'ijcai', 'aaai', 'atr28', 'mit_press', 'atr36', 'num_ref', 'sigkdd', 'arxiv', 'atr37', 'num_ref_3years', 'ieee_tran', 'atr4', 'aistats']\n",
      "Accuracy: 51.59%\n",
      "Selected Feature Names: ['atr38', 'atr39', 'atr22', 'eccv', 'atr14', 'icassp', 'atr12', 'emnlp', 'atr7', 'atr2', 'acl', 'nature', 'atr34', 'atr29', 'atr6', 'atr9', 'atr25', 'atr33', 'naacl', 'atr16', 'iccv', 'cvpr', 'icra', 'atr0', 'icml', 'atr27', 'iclr', 'atr23', 'atr8', 'atr31', 'ijcai', 'aaai', 'atr28', 'mit_press', 'atr36', 'num_ref', 'sigkdd', 'arxiv', 'atr37', 'num_ref_3years', 'ieee_tran', 'atr4', 'aistats', 'atr11']\n",
      "Accuracy: 50.40%\n",
      "Selected Feature Names: ['atr38', 'atr39', 'atr22', 'eccv', 'atr14', 'icassp', 'atr12', 'emnlp', 'atr7', 'atr2', 'acl', 'nature', 'atr34', 'atr29', 'atr6', 'atr9', 'atr25', 'atr33', 'naacl', 'atr16', 'iccv', 'cvpr', 'icra', 'atr0', 'icml', 'atr27', 'iclr', 'atr23', 'atr8', 'atr31', 'ijcai', 'aaai', 'atr28', 'mit_press', 'atr36', 'num_ref', 'sigkdd', 'arxiv', 'atr37', 'num_ref_3years', 'ieee_tran', 'atr4', 'aistats', 'atr11', 'jmlr']\n",
      "Accuracy: 46.83%\n",
      "Selected Feature Names: ['atr38', 'atr39', 'atr22', 'eccv', 'atr14', 'icassp', 'atr12', 'emnlp', 'atr7', 'atr2', 'acl', 'nature', 'atr34', 'atr29', 'atr6', 'atr9', 'atr25', 'atr33', 'naacl', 'atr16', 'iccv', 'cvpr', 'icra', 'atr0', 'icml', 'atr27', 'iclr', 'atr23', 'atr8', 'atr31', 'ijcai', 'aaai', 'atr28', 'mit_press', 'atr36', 'num_ref', 'sigkdd', 'arxiv', 'atr37', 'num_ref_3years', 'ieee_tran', 'atr4', 'aistats', 'atr11', 'jmlr', 'atr3']\n",
      "Accuracy: 53.17%\n",
      "Selected Feature Names: ['atr38', 'atr39', 'atr22', 'eccv', 'atr14', 'icassp', 'atr12', 'emnlp', 'atr7', 'atr2', 'acl', 'nature', 'atr34', 'atr29', 'atr6', 'atr9', 'atr25', 'atr33', 'naacl', 'atr16', 'iccv', 'cvpr', 'icra', 'atr0', 'icml', 'atr27', 'iclr', 'atr23', 'atr8', 'atr31', 'ijcai', 'aaai', 'atr28', 'mit_press', 'atr36', 'num_ref', 'sigkdd', 'arxiv', 'atr37', 'num_ref_3years', 'ieee_tran', 'atr4', 'aistats', 'atr11', 'jmlr', 'atr3', 'atr5']\n",
      "Accuracy: 51.59%\n",
      "Selected Feature Names: ['atr38', 'atr39', 'atr22', 'eccv', 'atr14', 'icassp', 'atr12', 'emnlp', 'atr7', 'atr2', 'acl', 'nature', 'atr34', 'atr29', 'atr6', 'atr9', 'atr25', 'atr33', 'naacl', 'atr16', 'iccv', 'cvpr', 'icra', 'atr0', 'icml', 'atr27', 'iclr', 'atr23', 'atr8', 'atr31', 'ijcai', 'aaai', 'atr28', 'mit_press', 'atr36', 'num_ref', 'sigkdd', 'arxiv', 'atr37', 'num_ref_3years', 'ieee_tran', 'atr4', 'aistats', 'atr11', 'jmlr', 'atr3', 'atr5', 'atr30']\n",
      "Accuracy: 51.98%\n",
      "Selected Feature Names: ['atr38', 'atr39', 'atr22', 'eccv', 'atr14', 'icassp', 'atr12', 'emnlp', 'atr7', 'atr2', 'acl', 'nature', 'atr34', 'atr29', 'atr6', 'atr9', 'atr25', 'atr33', 'naacl', 'atr16', 'iccv', 'cvpr', 'icra', 'atr0', 'icml', 'atr27', 'iclr', 'atr23', 'atr8', 'atr31', 'ijcai', 'aaai', 'atr28', 'mit_press', 'atr36', 'num_ref', 'sigkdd', 'arxiv', 'atr37', 'num_ref_3years', 'ieee_tran', 'atr4', 'aistats', 'atr11', 'jmlr', 'atr3', 'atr5', 'atr30', 'atr21']\n",
      "Accuracy: 49.60%\n",
      "Selected Feature Names: ['atr38', 'atr39', 'atr22', 'eccv', 'atr14', 'icassp', 'atr12', 'emnlp', 'atr7', 'atr2', 'acl', 'nature', 'atr34', 'atr29', 'atr6', 'atr9', 'atr25', 'atr33', 'naacl', 'atr16', 'iccv', 'cvpr', 'icra', 'atr0', 'icml', 'atr27', 'iclr', 'atr23', 'atr8', 'atr31', 'ijcai', 'aaai', 'atr28', 'mit_press', 'atr36', 'num_ref', 'sigkdd', 'arxiv', 'atr37', 'num_ref_3years', 'ieee_tran', 'atr4', 'aistats', 'atr11', 'jmlr', 'atr3', 'atr5', 'atr30', 'atr21', 'atr13']\n",
      "Accuracy: 48.81%\n",
      "Selected Feature Names: ['atr38', 'atr39', 'atr22', 'eccv', 'atr14', 'icassp', 'atr12', 'emnlp', 'atr7', 'atr2', 'acl', 'nature', 'atr34', 'atr29', 'atr6', 'atr9', 'atr25', 'atr33', 'naacl', 'atr16', 'iccv', 'cvpr', 'icra', 'atr0', 'icml', 'atr27', 'iclr', 'atr23', 'atr8', 'atr31', 'ijcai', 'aaai', 'atr28', 'mit_press', 'atr36', 'num_ref', 'sigkdd', 'arxiv', 'atr37', 'num_ref_3years', 'ieee_tran', 'atr4', 'aistats', 'atr11', 'jmlr', 'atr3', 'atr5', 'atr30', 'atr21', 'atr13', 'acm_tran']\n",
      "Accuracy: 48.41%\n",
      "Selected Feature Names: ['atr38', 'atr39', 'atr22', 'eccv', 'atr14', 'icassp', 'atr12', 'emnlp', 'atr7', 'atr2', 'acl', 'nature', 'atr34', 'atr29', 'atr6', 'atr9', 'atr25', 'atr33', 'naacl', 'atr16', 'iccv', 'cvpr', 'icra', 'atr0', 'icml', 'atr27', 'iclr', 'atr23', 'atr8', 'atr31', 'ijcai', 'aaai', 'atr28', 'mit_press', 'atr36', 'num_ref', 'sigkdd', 'arxiv', 'atr37', 'num_ref_3years', 'ieee_tran', 'atr4', 'aistats', 'atr11', 'jmlr', 'atr3', 'atr5', 'atr30', 'atr21', 'atr13', 'acm_tran', 'atr17']\n",
      "Accuracy: 48.81%\n",
      "Selected Feature Names: ['atr38', 'atr39', 'atr22', 'eccv', 'atr14', 'icassp', 'atr12', 'emnlp', 'atr7', 'atr2', 'acl', 'nature', 'atr34', 'atr29', 'atr6', 'atr9', 'atr25', 'atr33', 'naacl', 'atr16', 'iccv', 'cvpr', 'icra', 'atr0', 'icml', 'atr27', 'iclr', 'atr23', 'atr8', 'atr31', 'ijcai', 'aaai', 'atr28', 'mit_press', 'atr36', 'num_ref', 'sigkdd', 'arxiv', 'atr37', 'num_ref_3years', 'ieee_tran', 'atr4', 'aistats', 'atr11', 'jmlr', 'atr3', 'atr5', 'atr30', 'atr21', 'atr13', 'acm_tran', 'atr17', 'atr18']\n",
      "Accuracy: 51.59%\n",
      "Selected Feature Names: ['atr38', 'atr39', 'atr22', 'eccv', 'atr14', 'icassp', 'atr12', 'emnlp', 'atr7', 'atr2', 'acl', 'nature', 'atr34', 'atr29', 'atr6', 'atr9', 'atr25', 'atr33', 'naacl', 'atr16', 'iccv', 'cvpr', 'icra', 'atr0', 'icml', 'atr27', 'iclr', 'atr23', 'atr8', 'atr31', 'ijcai', 'aaai', 'atr28', 'mit_press', 'atr36', 'num_ref', 'sigkdd', 'arxiv', 'atr37', 'num_ref_3years', 'ieee_tran', 'atr4', 'aistats', 'atr11', 'jmlr', 'atr3', 'atr5', 'atr30', 'atr21', 'atr13', 'acm_tran', 'atr17', 'atr18', 'atr15']\n",
      "Accuracy: 51.19%\n",
      "Selected Feature Names: ['atr38', 'atr39', 'atr22', 'eccv', 'atr14', 'icassp', 'atr12', 'emnlp', 'atr7', 'atr2', 'acl', 'nature', 'atr34', 'atr29', 'atr6', 'atr9', 'atr25', 'atr33', 'naacl', 'atr16', 'iccv', 'cvpr', 'icra', 'atr0', 'icml', 'atr27', 'iclr', 'atr23', 'atr8', 'atr31', 'ijcai', 'aaai', 'atr28', 'mit_press', 'atr36', 'num_ref', 'sigkdd', 'arxiv', 'atr37', 'num_ref_3years', 'ieee_tran', 'atr4', 'aistats', 'atr11', 'jmlr', 'atr3', 'atr5', 'atr30', 'atr21', 'atr13', 'acm_tran', 'atr17', 'atr18', 'atr15', 'atr1']\n",
      "Accuracy: 46.83%\n",
      "Selected Feature Names: ['atr38', 'atr39', 'atr22', 'eccv', 'atr14', 'icassp', 'atr12', 'emnlp', 'atr7', 'atr2', 'acl', 'nature', 'atr34', 'atr29', 'atr6', 'atr9', 'atr25', 'atr33', 'naacl', 'atr16', 'iccv', 'cvpr', 'icra', 'atr0', 'icml', 'atr27', 'iclr', 'atr23', 'atr8', 'atr31', 'ijcai', 'aaai', 'atr28', 'mit_press', 'atr36', 'num_ref', 'sigkdd', 'arxiv', 'atr37', 'num_ref_3years', 'ieee_tran', 'atr4', 'aistats', 'atr11', 'jmlr', 'atr3', 'atr5', 'atr30', 'atr21', 'atr13', 'acm_tran', 'atr17', 'atr18', 'atr15', 'atr1', 'atr32']\n",
      "Accuracy: 51.59%\n",
      "Selected Feature Names: ['atr38', 'atr39', 'atr22', 'eccv', 'atr14', 'icassp', 'atr12', 'emnlp', 'atr7', 'atr2', 'acl', 'nature', 'atr34', 'atr29', 'atr6', 'atr9', 'atr25', 'atr33', 'naacl', 'atr16', 'iccv', 'cvpr', 'icra', 'atr0', 'icml', 'atr27', 'iclr', 'atr23', 'atr8', 'atr31', 'ijcai', 'aaai', 'atr28', 'mit_press', 'atr36', 'num_ref', 'sigkdd', 'arxiv', 'atr37', 'num_ref_3years', 'ieee_tran', 'atr4', 'aistats', 'atr11', 'jmlr', 'atr3', 'atr5', 'atr30', 'atr21', 'atr13', 'acm_tran', 'atr17', 'atr18', 'atr15', 'atr1', 'atr32', 'atr10']\n",
      "Accuracy: 49.21%\n",
      "Selected Feature Names: ['atr38', 'atr39', 'atr22', 'eccv', 'atr14', 'icassp', 'atr12', 'emnlp', 'atr7', 'atr2', 'acl', 'nature', 'atr34', 'atr29', 'atr6', 'atr9', 'atr25', 'atr33', 'naacl', 'atr16', 'iccv', 'cvpr', 'icra', 'atr0', 'icml', 'atr27', 'iclr', 'atr23', 'atr8', 'atr31', 'ijcai', 'aaai', 'atr28', 'mit_press', 'atr36', 'num_ref', 'sigkdd', 'arxiv', 'atr37', 'num_ref_3years', 'ieee_tran', 'atr4', 'aistats', 'atr11', 'jmlr', 'atr3', 'atr5', 'atr30', 'atr21', 'atr13', 'acm_tran', 'atr17', 'atr18', 'atr15', 'atr1', 'atr32', 'atr10', 'atr24']\n",
      "Accuracy: 48.41%\n",
      "Selected Feature Names: ['atr38', 'atr39', 'atr22', 'eccv', 'atr14', 'icassp', 'atr12', 'emnlp', 'atr7', 'atr2', 'acl', 'nature', 'atr34', 'atr29', 'atr6', 'atr9', 'atr25', 'atr33', 'naacl', 'atr16', 'iccv', 'cvpr', 'icra', 'atr0', 'icml', 'atr27', 'iclr', 'atr23', 'atr8', 'atr31', 'ijcai', 'aaai', 'atr28', 'mit_press', 'atr36', 'num_ref', 'sigkdd', 'arxiv', 'atr37', 'num_ref_3years', 'ieee_tran', 'atr4', 'aistats', 'atr11', 'jmlr', 'atr3', 'atr5', 'atr30', 'atr21', 'atr13', 'acm_tran', 'atr17', 'atr18', 'atr15', 'atr1', 'atr32', 'atr10', 'atr24', 'atr26']\n",
      "Accuracy: 53.57%\n",
      "Selected Feature Names: ['atr38', 'atr39', 'atr22', 'eccv', 'atr14', 'icassp', 'atr12', 'emnlp', 'atr7', 'atr2', 'acl', 'nature', 'atr34', 'atr29', 'atr6', 'atr9', 'atr25', 'atr33', 'naacl', 'atr16', 'iccv', 'cvpr', 'icra', 'atr0', 'icml', 'atr27', 'iclr', 'atr23', 'atr8', 'atr31', 'ijcai', 'aaai', 'atr28', 'mit_press', 'atr36', 'num_ref', 'sigkdd', 'arxiv', 'atr37', 'num_ref_3years', 'ieee_tran', 'atr4', 'aistats', 'atr11', 'jmlr', 'atr3', 'atr5', 'atr30', 'atr21', 'atr13', 'acm_tran', 'atr17', 'atr18', 'atr15', 'atr1', 'atr32', 'atr10', 'atr24', 'atr26', 'atr20']\n",
      "Accuracy: 49.60%\n",
      "Selected Feature Names: ['atr38', 'atr39', 'atr22', 'eccv', 'atr14', 'icassp', 'atr12', 'emnlp', 'atr7', 'atr2', 'acl', 'nature', 'atr34', 'atr29', 'atr6', 'atr9', 'atr25', 'atr33', 'naacl', 'atr16', 'iccv', 'cvpr', 'icra', 'atr0', 'icml', 'atr27', 'iclr', 'atr23', 'atr8', 'atr31', 'ijcai', 'aaai', 'atr28', 'mit_press', 'atr36', 'num_ref', 'sigkdd', 'arxiv', 'atr37', 'num_ref_3years', 'ieee_tran', 'atr4', 'aistats', 'atr11', 'jmlr', 'atr3', 'atr5', 'atr30', 'atr21', 'atr13', 'acm_tran', 'atr17', 'atr18', 'atr15', 'atr1', 'atr32', 'atr10', 'atr24', 'atr26', 'atr20', 'atr19']\n",
      "Accuracy: 51.19%\n",
      "Selected Feature Names: ['atr38', 'atr39', 'atr22', 'eccv', 'atr14', 'icassp', 'atr12', 'emnlp', 'atr7', 'atr2', 'acl', 'nature', 'atr34', 'atr29', 'atr6', 'atr9', 'atr25', 'atr33', 'naacl', 'atr16', 'iccv', 'cvpr', 'icra', 'atr0', 'icml', 'atr27', 'iclr', 'atr23', 'atr8', 'atr31', 'ijcai', 'aaai', 'atr28', 'mit_press', 'atr36', 'num_ref', 'sigkdd', 'arxiv', 'atr37', 'num_ref_3years', 'ieee_tran', 'atr4', 'aistats', 'atr11', 'jmlr', 'atr3', 'atr5', 'atr30', 'atr21', 'atr13', 'acm_tran', 'atr17', 'atr18', 'atr15', 'atr1', 'atr32', 'atr10', 'atr24', 'atr26', 'atr20', 'atr19', 'neurips']\n",
      "Accuracy: 50.79%\n",
      "Selected Feature Names: ['atr38', 'atr39', 'atr22', 'eccv', 'atr14', 'icassp', 'atr12', 'emnlp', 'atr7', 'atr2', 'acl', 'nature', 'atr34', 'atr29', 'atr6', 'atr9', 'atr25', 'atr33', 'naacl', 'atr16', 'iccv', 'cvpr', 'icra', 'atr0', 'icml', 'atr27', 'iclr', 'atr23', 'atr8', 'atr31', 'ijcai', 'aaai', 'atr28', 'mit_press', 'atr36', 'num_ref', 'sigkdd', 'arxiv', 'atr37', 'num_ref_3years', 'ieee_tran', 'atr4', 'aistats', 'atr11', 'jmlr', 'atr3', 'atr5', 'atr30', 'atr21', 'atr13', 'acm_tran', 'atr17', 'atr18', 'atr15', 'atr1', 'atr32', 'atr10', 'atr24', 'atr26', 'atr20', 'atr19', 'neurips', 'atr35']\n",
      "Accuracy: 52.78%\n",
      "Selected Feature Names: ['atr38', 'atr39', 'atr22', 'eccv', 'atr14', 'icassp', 'atr12', 'emnlp', 'atr7', 'atr2', 'acl', 'nature', 'atr34', 'atr29', 'atr6', 'atr9', 'atr25', 'atr33', 'naacl', 'atr16', 'iccv', 'cvpr', 'icra', 'atr0', 'icml', 'atr27', 'iclr', 'atr23', 'atr8', 'atr31', 'ijcai', 'aaai', 'atr28', 'mit_press', 'atr36', 'num_ref', 'sigkdd', 'arxiv', 'atr37', 'num_ref_3years', 'ieee_tran', 'atr4', 'aistats', 'atr11', 'jmlr', 'atr3', 'atr5', 'atr30', 'atr21', 'atr13', 'acm_tran', 'atr17', 'atr18', 'atr15', 'atr1', 'atr32', 'atr10', 'atr24', 'atr26', 'atr20', 'atr19', 'neurips', 'atr35', 'neuralcom']\n",
      "Accuracy: 51.19%\n"
     ]
    }
   ],
   "source": [
    "for i in dict(enumerate(combination)):\n",
    "    accuracy = model(combination, y, i+1)\n",
    "    print(\"Accuracy: %.2f%%\" % (accuracy * 100.0))"
   ]
  },
  {
   "cell_type": "code",
   "execution_count": 123,
   "metadata": {},
   "outputs": [],
   "source": [
    "test.to_excel('soundness.xlsx', index=False)"
   ]
  }
 ],
 "metadata": {
  "kernelspec": {
   "display_name": "Python 3",
   "language": "python",
   "name": "python3"
  },
  "language_info": {
   "codemirror_mode": {
    "name": "ipython",
    "version": 3
   },
   "file_extension": ".py",
   "mimetype": "text/x-python",
   "name": "python",
   "nbconvert_exporter": "python",
   "pygments_lexer": "ipython3",
   "version": "3.10.9"
  }
 },
 "nbformat": 4,
 "nbformat_minor": 2
}
