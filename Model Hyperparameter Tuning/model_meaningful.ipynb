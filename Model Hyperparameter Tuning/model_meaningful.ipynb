{
 "cells": [
  {
   "cell_type": "code",
   "execution_count": 135,
   "metadata": {},
   "outputs": [
    {
     "data": {
      "text/html": [
       "<div>\n",
       "<style scoped>\n",
       "    .dataframe tbody tr th:only-of-type {\n",
       "        vertical-align: middle;\n",
       "    }\n",
       "\n",
       "    .dataframe tbody tr th {\n",
       "        vertical-align: top;\n",
       "    }\n",
       "\n",
       "    .dataframe thead th {\n",
       "        text-align: right;\n",
       "    }\n",
       "</style>\n",
       "<table border=\"1\" class=\"dataframe\">\n",
       "  <thead>\n",
       "    <tr style=\"text-align: right;\">\n",
       "      <th></th>\n",
       "      <th>meaningful_comparison</th>\n",
       "      <th>year</th>\n",
       "      <th>title</th>\n",
       "      <th>num_ref</th>\n",
       "      <th>num_ref_3years</th>\n",
       "      <th>arxiv</th>\n",
       "      <th>neurips</th>\n",
       "      <th>iclr</th>\n",
       "      <th>icml</th>\n",
       "      <th>aaai</th>\n",
       "      <th>...</th>\n",
       "      <th>atr37</th>\n",
       "      <th>atr38</th>\n",
       "      <th>atr39</th>\n",
       "      <th>citation_count</th>\n",
       "      <th>citedIn2018</th>\n",
       "      <th>citedIn2019</th>\n",
       "      <th>citedIn2020</th>\n",
       "      <th>citedIn2021</th>\n",
       "      <th>citedIn2022</th>\n",
       "      <th>citedIn2023</th>\n",
       "    </tr>\n",
       "  </thead>\n",
       "  <tbody>\n",
       "    <tr>\n",
       "      <th>0</th>\n",
       "      <td>0</td>\n",
       "      <td>2019</td>\n",
       "      <td>Discriminator Rejection Sampling</td>\n",
       "      <td>29</td>\n",
       "      <td>21</td>\n",
       "      <td>10</td>\n",
       "      <td>1</td>\n",
       "      <td>2</td>\n",
       "      <td>0</td>\n",
       "      <td>0</td>\n",
       "      <td>...</td>\n",
       "      <td>0</td>\n",
       "      <td>20</td>\n",
       "      <td>122</td>\n",
       "      <td>100</td>\n",
       "      <td>7.0</td>\n",
       "      <td>26.0</td>\n",
       "      <td>29.0</td>\n",
       "      <td>24.0</td>\n",
       "      <td>16.0</td>\n",
       "      <td>3.0</td>\n",
       "    </tr>\n",
       "    <tr>\n",
       "      <th>1</th>\n",
       "      <td>1</td>\n",
       "      <td>2019</td>\n",
       "      <td>KnockoffGAN: Generating Knockoffs for Feature ...</td>\n",
       "      <td>36</td>\n",
       "      <td>8</td>\n",
       "      <td>7</td>\n",
       "      <td>0</td>\n",
       "      <td>2</td>\n",
       "      <td>1</td>\n",
       "      <td>0</td>\n",
       "      <td>...</td>\n",
       "      <td>2</td>\n",
       "      <td>52</td>\n",
       "      <td>226</td>\n",
       "      <td>41</td>\n",
       "      <td>2.0</td>\n",
       "      <td>11.0</td>\n",
       "      <td>8.0</td>\n",
       "      <td>11.0</td>\n",
       "      <td>12.0</td>\n",
       "      <td>1.0</td>\n",
       "    </tr>\n",
       "    <tr>\n",
       "      <th>2</th>\n",
       "      <td>0</td>\n",
       "      <td>2017</td>\n",
       "      <td>Towards the Limit of Network Quantization</td>\n",
       "      <td>41</td>\n",
       "      <td>18</td>\n",
       "      <td>14</td>\n",
       "      <td>0</td>\n",
       "      <td>8</td>\n",
       "      <td>1</td>\n",
       "      <td>0</td>\n",
       "      <td>...</td>\n",
       "      <td>2</td>\n",
       "      <td>33</td>\n",
       "      <td>154</td>\n",
       "      <td>147</td>\n",
       "      <td>26.0</td>\n",
       "      <td>30.0</td>\n",
       "      <td>30.0</td>\n",
       "      <td>32.0</td>\n",
       "      <td>26.0</td>\n",
       "      <td>6.0</td>\n",
       "    </tr>\n",
       "    <tr>\n",
       "      <th>3</th>\n",
       "      <td>0</td>\n",
       "      <td>2019</td>\n",
       "      <td>Unsupervised Speech Recognition via Segmental ...</td>\n",
       "      <td>42</td>\n",
       "      <td>10</td>\n",
       "      <td>6</td>\n",
       "      <td>2</td>\n",
       "      <td>1</td>\n",
       "      <td>1</td>\n",
       "      <td>0</td>\n",
       "      <td>...</td>\n",
       "      <td>8</td>\n",
       "      <td>42</td>\n",
       "      <td>161</td>\n",
       "      <td>31</td>\n",
       "      <td>0.0</td>\n",
       "      <td>6.0</td>\n",
       "      <td>6.0</td>\n",
       "      <td>6.0</td>\n",
       "      <td>14.0</td>\n",
       "      <td>0.0</td>\n",
       "    </tr>\n",
       "    <tr>\n",
       "      <th>4</th>\n",
       "      <td>0</td>\n",
       "      <td>2017</td>\n",
       "      <td>Lie-Access Neural Turing Machines</td>\n",
       "      <td>19</td>\n",
       "      <td>11</td>\n",
       "      <td>1</td>\n",
       "      <td>0</td>\n",
       "      <td>0</td>\n",
       "      <td>0</td>\n",
       "      <td>0</td>\n",
       "      <td>...</td>\n",
       "      <td>1</td>\n",
       "      <td>59</td>\n",
       "      <td>136</td>\n",
       "      <td>19</td>\n",
       "      <td>1.0</td>\n",
       "      <td>1.0</td>\n",
       "      <td>0.0</td>\n",
       "      <td>1.0</td>\n",
       "      <td>1.0</td>\n",
       "      <td>0.0</td>\n",
       "    </tr>\n",
       "    <tr>\n",
       "      <th>...</th>\n",
       "      <td>...</td>\n",
       "      <td>...</td>\n",
       "      <td>...</td>\n",
       "      <td>...</td>\n",
       "      <td>...</td>\n",
       "      <td>...</td>\n",
       "      <td>...</td>\n",
       "      <td>...</td>\n",
       "      <td>...</td>\n",
       "      <td>...</td>\n",
       "      <td>...</td>\n",
       "      <td>...</td>\n",
       "      <td>...</td>\n",
       "      <td>...</td>\n",
       "      <td>...</td>\n",
       "      <td>...</td>\n",
       "      <td>...</td>\n",
       "      <td>...</td>\n",
       "      <td>...</td>\n",
       "      <td>...</td>\n",
       "      <td>...</td>\n",
       "    </tr>\n",
       "    <tr>\n",
       "      <th>1351</th>\n",
       "      <td>0</td>\n",
       "      <td>2019</td>\n",
       "      <td>Guiding Policies with Language via Meta-Learning</td>\n",
       "      <td>45</td>\n",
       "      <td>20</td>\n",
       "      <td>1</td>\n",
       "      <td>0</td>\n",
       "      <td>1</td>\n",
       "      <td>3</td>\n",
       "      <td>4</td>\n",
       "      <td>...</td>\n",
       "      <td>3</td>\n",
       "      <td>83</td>\n",
       "      <td>214</td>\n",
       "      <td>44</td>\n",
       "      <td>1.0</td>\n",
       "      <td>10.0</td>\n",
       "      <td>10.0</td>\n",
       "      <td>9.0</td>\n",
       "      <td>15.0</td>\n",
       "      <td>4.0</td>\n",
       "    </tr>\n",
       "    <tr>\n",
       "      <th>1352</th>\n",
       "      <td>0</td>\n",
       "      <td>2018</td>\n",
       "      <td>Graph Attention Networks</td>\n",
       "      <td>42</td>\n",
       "      <td>19</td>\n",
       "      <td>9</td>\n",
       "      <td>5</td>\n",
       "      <td>5</td>\n",
       "      <td>4</td>\n",
       "      <td>0</td>\n",
       "      <td>...</td>\n",
       "      <td>2</td>\n",
       "      <td>35</td>\n",
       "      <td>104</td>\n",
       "      <td>7414</td>\n",
       "      <td>0.0</td>\n",
       "      <td>0.0</td>\n",
       "      <td>0.0</td>\n",
       "      <td>0.0</td>\n",
       "      <td>0.0</td>\n",
       "      <td>1000.0</td>\n",
       "    </tr>\n",
       "    <tr>\n",
       "      <th>1353</th>\n",
       "      <td>0</td>\n",
       "      <td>2020</td>\n",
       "      <td>Training individually fair ML models with sens...</td>\n",
       "      <td>46</td>\n",
       "      <td>12</td>\n",
       "      <td>4</td>\n",
       "      <td>0</td>\n",
       "      <td>2</td>\n",
       "      <td>0</td>\n",
       "      <td>1</td>\n",
       "      <td>...</td>\n",
       "      <td>4</td>\n",
       "      <td>63</td>\n",
       "      <td>220</td>\n",
       "      <td>75</td>\n",
       "      <td>0.0</td>\n",
       "      <td>1.0</td>\n",
       "      <td>14.0</td>\n",
       "      <td>20.0</td>\n",
       "      <td>42.0</td>\n",
       "      <td>9.0</td>\n",
       "    </tr>\n",
       "    <tr>\n",
       "      <th>1354</th>\n",
       "      <td>0</td>\n",
       "      <td>2019</td>\n",
       "      <td>Selfless Sequential Learning</td>\n",
       "      <td>48</td>\n",
       "      <td>12</td>\n",
       "      <td>12</td>\n",
       "      <td>0</td>\n",
       "      <td>6</td>\n",
       "      <td>1</td>\n",
       "      <td>0</td>\n",
       "      <td>...</td>\n",
       "      <td>1</td>\n",
       "      <td>34</td>\n",
       "      <td>167</td>\n",
       "      <td>86</td>\n",
       "      <td>3.0</td>\n",
       "      <td>17.0</td>\n",
       "      <td>23.0</td>\n",
       "      <td>24.0</td>\n",
       "      <td>22.0</td>\n",
       "      <td>6.0</td>\n",
       "    </tr>\n",
       "    <tr>\n",
       "      <th>1355</th>\n",
       "      <td>0</td>\n",
       "      <td>2018</td>\n",
       "      <td>Deep Bayesian Bandits Showdown:  An Empirical ...</td>\n",
       "      <td>47</td>\n",
       "      <td>12</td>\n",
       "      <td>4</td>\n",
       "      <td>1</td>\n",
       "      <td>8</td>\n",
       "      <td>7</td>\n",
       "      <td>1</td>\n",
       "      <td>...</td>\n",
       "      <td>3</td>\n",
       "      <td>76</td>\n",
       "      <td>266</td>\n",
       "      <td>253</td>\n",
       "      <td>15.0</td>\n",
       "      <td>45.0</td>\n",
       "      <td>70.0</td>\n",
       "      <td>80.0</td>\n",
       "      <td>47.0</td>\n",
       "      <td>21.0</td>\n",
       "    </tr>\n",
       "  </tbody>\n",
       "</table>\n",
       "<p>1356 rows × 82 columns</p>\n",
       "</div>"
      ],
      "text/plain": [
       "      meaningful_comparison  year  \\\n",
       "0                         0  2019   \n",
       "1                         1  2019   \n",
       "2                         0  2017   \n",
       "3                         0  2019   \n",
       "4                         0  2017   \n",
       "...                     ...   ...   \n",
       "1351                      0  2019   \n",
       "1352                      0  2018   \n",
       "1353                      0  2020   \n",
       "1354                      0  2019   \n",
       "1355                      0  2018   \n",
       "\n",
       "                                                  title  num_ref  \\\n",
       "0                      Discriminator Rejection Sampling       29   \n",
       "1     KnockoffGAN: Generating Knockoffs for Feature ...       36   \n",
       "2             Towards the Limit of Network Quantization       41   \n",
       "3     Unsupervised Speech Recognition via Segmental ...       42   \n",
       "4                     Lie-Access Neural Turing Machines       19   \n",
       "...                                                 ...      ...   \n",
       "1351   Guiding Policies with Language via Meta-Learning       45   \n",
       "1352                           Graph Attention Networks       42   \n",
       "1353  Training individually fair ML models with sens...       46   \n",
       "1354                       Selfless Sequential Learning       48   \n",
       "1355  Deep Bayesian Bandits Showdown:  An Empirical ...       47   \n",
       "\n",
       "      num_ref_3years  arxiv  neurips  iclr  icml  aaai  ...  atr37  atr38  \\\n",
       "0                 21     10        1     2     0     0  ...      0     20   \n",
       "1                  8      7        0     2     1     0  ...      2     52   \n",
       "2                 18     14        0     8     1     0  ...      2     33   \n",
       "3                 10      6        2     1     1     0  ...      8     42   \n",
       "4                 11      1        0     0     0     0  ...      1     59   \n",
       "...              ...    ...      ...   ...   ...   ...  ...    ...    ...   \n",
       "1351              20      1        0     1     3     4  ...      3     83   \n",
       "1352              19      9        5     5     4     0  ...      2     35   \n",
       "1353              12      4        0     2     0     1  ...      4     63   \n",
       "1354              12     12        0     6     1     0  ...      1     34   \n",
       "1355              12      4        1     8     7     1  ...      3     76   \n",
       "\n",
       "      atr39  citation_count  citedIn2018  citedIn2019  citedIn2020  \\\n",
       "0       122             100          7.0         26.0         29.0   \n",
       "1       226              41          2.0         11.0          8.0   \n",
       "2       154             147         26.0         30.0         30.0   \n",
       "3       161              31          0.0          6.0          6.0   \n",
       "4       136              19          1.0          1.0          0.0   \n",
       "...     ...             ...          ...          ...          ...   \n",
       "1351    214              44          1.0         10.0         10.0   \n",
       "1352    104            7414          0.0          0.0          0.0   \n",
       "1353    220              75          0.0          1.0         14.0   \n",
       "1354    167              86          3.0         17.0         23.0   \n",
       "1355    266             253         15.0         45.0         70.0   \n",
       "\n",
       "      citedIn2021  citedIn2022  citedIn2023  \n",
       "0            24.0         16.0          3.0  \n",
       "1            11.0         12.0          1.0  \n",
       "2            32.0         26.0          6.0  \n",
       "3             6.0         14.0          0.0  \n",
       "4             1.0          1.0          0.0  \n",
       "...           ...          ...          ...  \n",
       "1351          9.0         15.0          4.0  \n",
       "1352          0.0          0.0       1000.0  \n",
       "1353         20.0         42.0          9.0  \n",
       "1354         24.0         22.0          6.0  \n",
       "1355         80.0         47.0         21.0  \n",
       "\n",
       "[1356 rows x 82 columns]"
      ]
     },
     "execution_count": 135,
     "metadata": {},
     "output_type": "execute_result"
    }
   ],
   "source": [
    "import pandas as pd \n",
    "\n",
    "data = pd.read_csv('../Dataset/meaningful_comparison.csv')\n",
    "data"
   ]
  },
  {
   "cell_type": "code",
   "execution_count": 136,
   "metadata": {},
   "outputs": [],
   "source": [
    "label_counts = data.groupby(['title', 'meaningful_comparison']).size().unstack(fill_value=0)\n",
    "dominant_labels = label_counts.idxmax(axis=1)\n",
    "data = data.merge(dominant_labels.rename('dominant_label'), left_on='title', right_index=True)\n",
    "df_filtered = data[data['meaningful_comparison'] == data['dominant_label']]\n",
    "\n",
    "label_counts_0 = data[data['meaningful_comparison'] == 0].groupby('title').size().rename('count_0')\n",
    "label_counts_1 = data[data['meaningful_comparison'] == 1].groupby('title').size().rename('count_1')\n",
    "\n",
    "df_filtered = df_filtered.merge(label_counts_0, left_on='title', right_index=True, how='left')\n",
    "df_filtered = df_filtered.merge(label_counts_1, left_on='title', right_index=True, how='left')\n",
    "\n",
    "df_filtered = df_filtered[df_filtered['count_0'] != df_filtered['count_1']]\n",
    "df_filtered = df_filtered.drop(['dominant_label', 'count_0', 'count_1'], axis=1)"
   ]
  },
  {
   "cell_type": "code",
   "execution_count": 137,
   "metadata": {},
   "outputs": [
    {
     "name": "stdout",
     "output_type": "stream",
     "text": [
      "<class 'pandas.core.frame.DataFrame'>\n",
      "Int64Index: 913 entries, 0 to 1355\n",
      "Data columns (total 82 columns):\n",
      " #   Column                 Non-Null Count  Dtype  \n",
      "---  ------                 --------------  -----  \n",
      " 0   meaningful_comparison  913 non-null    int64  \n",
      " 1   year                   913 non-null    int64  \n",
      " 2   title                  913 non-null    object \n",
      " 3   num_ref                913 non-null    int64  \n",
      " 4   num_ref_3years         913 non-null    int64  \n",
      " 5   arxiv                  913 non-null    int64  \n",
      " 6   neurips                913 non-null    int64  \n",
      " 7   iclr                   913 non-null    int64  \n",
      " 8   icml                   913 non-null    int64  \n",
      " 9   aaai                   913 non-null    int64  \n",
      " 10  iccv                   913 non-null    int64  \n",
      " 11  cvpr                   913 non-null    int64  \n",
      " 12  emnlp                  913 non-null    int64  \n",
      " 13  acl                    913 non-null    int64  \n",
      " 14  naacl                  913 non-null    int64  \n",
      " 15  eccv                   913 non-null    int64  \n",
      " 16  icra                   913 non-null    int64  \n",
      " 17  icassp                 913 non-null    int64  \n",
      " 18  ijcai                  913 non-null    int64  \n",
      " 19  aistats                913 non-null    int64  \n",
      " 20  sigkdd                 913 non-null    int64  \n",
      " 21  neuralcom              913 non-null    int64  \n",
      " 22  ieee_tran              913 non-null    int64  \n",
      " 23  acm_tran               913 non-null    int64  \n",
      " 24  mit_press              913 non-null    int64  \n",
      " 25  nature                 913 non-null    int64  \n",
      " 26  jmlr                   913 non-null    int64  \n",
      " 27  decision_ori           913 non-null    object \n",
      " 28  decision_final         913 non-null    object \n",
      " 29  rating1                913 non-null    int64  \n",
      " 30  rating2                913 non-null    int64  \n",
      " 31  rating3                895 non-null    float64\n",
      " 32  mean                   913 non-null    float64\n",
      " 33  class_label            913 non-null    object \n",
      " 34  filetype2              913 non-null    object \n",
      " 35  atr0                   913 non-null    int64  \n",
      " 36  atr1                   913 non-null    int64  \n",
      " 37  atr2                   913 non-null    int64  \n",
      " 38  atr3                   913 non-null    int64  \n",
      " 39  atr4                   913 non-null    int64  \n",
      " 40  atr5                   913 non-null    int64  \n",
      " 41  atr6                   913 non-null    int64  \n",
      " 42  atr7                   913 non-null    int64  \n",
      " 43  atr8                   913 non-null    int64  \n",
      " 44  atr9                   913 non-null    int64  \n",
      " 45  atr10                  913 non-null    int64  \n",
      " 46  atr11                  913 non-null    int64  \n",
      " 47  atr12                  913 non-null    int64  \n",
      " 48  atr13                  913 non-null    int64  \n",
      " 49  atr14                  913 non-null    int64  \n",
      " 50  atr15                  913 non-null    int64  \n",
      " 51  atr16                  913 non-null    int64  \n",
      " 52  atr17                  913 non-null    int64  \n",
      " 53  atr18                  913 non-null    int64  \n",
      " 54  atr19                  913 non-null    int64  \n",
      " 55  atr20                  913 non-null    int64  \n",
      " 56  atr21                  913 non-null    int64  \n",
      " 57  atr22                  913 non-null    int64  \n",
      " 58  atr23                  913 non-null    int64  \n",
      " 59  atr24                  913 non-null    int64  \n",
      " 60  atr25                  913 non-null    int64  \n",
      " 61  atr26                  913 non-null    int64  \n",
      " 62  atr27                  913 non-null    int64  \n",
      " 63  atr28                  913 non-null    int64  \n",
      " 64  atr29                  913 non-null    int64  \n",
      " 65  atr30                  913 non-null    int64  \n",
      " 66  atr31                  913 non-null    int64  \n",
      " 67  atr32                  913 non-null    int64  \n",
      " 68  atr33                  913 non-null    int64  \n",
      " 69  atr34                  913 non-null    int64  \n",
      " 70  atr35                  913 non-null    int64  \n",
      " 71  atr36                  913 non-null    int64  \n",
      " 72  atr37                  913 non-null    int64  \n",
      " 73  atr38                  913 non-null    int64  \n",
      " 74  atr39                  913 non-null    int64  \n",
      " 75  citation_count         913 non-null    int64  \n",
      " 76  citedIn2018            912 non-null    float64\n",
      " 77  citedIn2019            912 non-null    float64\n",
      " 78  citedIn2020            912 non-null    float64\n",
      " 79  citedIn2021            912 non-null    float64\n",
      " 80  citedIn2022            912 non-null    float64\n",
      " 81  citedIn2023            912 non-null    float64\n",
      "dtypes: float64(8), int64(69), object(5)\n",
      "memory usage: 592.0+ KB\n"
     ]
    }
   ],
   "source": [
    "data = df_filtered.drop_duplicates()\n",
    "data.info()"
   ]
  },
  {
   "cell_type": "code",
   "execution_count": 138,
   "metadata": {},
   "outputs": [
    {
     "data": {
      "image/png": "[encoded data removed]",
      "text/plain": [
       "<Figure size 640x480 with 1 Axes>"
      ]
     },
     "metadata": {},
     "output_type": "display_data"
    }
   ],
   "source": [
    "import seaborn as sns\n",
    "import matplotlib.pyplot as plt\n",
    "\n",
    "sns.countplot(x=data['meaningful_comparison'])\n",
    "plt.ylabel('Distribution')\n",
    "plt.show()"
   ]
  },
  {
   "cell_type": "code",
   "execution_count": 139,
   "metadata": {},
   "outputs": [],
   "source": [
    "import plotly.graph_objects as go\n",
    "import numpy as np\n",
    "\n",
    "def correlation_matrix(dataframe):\n",
    "    df_corr = dataframe.corr()\n",
    "    fig = go.Figure()\n",
    "    fig.add_trace(\n",
    "        go.Heatmap(\n",
    "            x = df_corr.columns,\n",
    "            y = df_corr.index,\n",
    "            z = np.array(df_corr),\n",
    "            text=df_corr.values,\n",
    "            texttemplate='%{text:.2f}'\n",
    "        )\n",
    "    )\n",
    "    fig.show()"
   ]
  },
  {
   "cell_type": "markdown",
   "metadata": {},
   "source": [
    "## Citing Sentence Predictor"
   ]
  },
  {
   "cell_type": "code",
   "execution_count": 140,
   "metadata": {},
   "outputs": [],
   "source": [
    "citing_sentence = data[['atr0', 'atr1', 'atr2', 'atr3', 'atr4', 'atr5', 'atr6', 'atr7', 'atr8', 'atr9', 'atr10', 'atr11', 'atr12', 'atr13', 'atr14', 'atr15', 'atr16', 'atr17', 'atr18', 'atr19']]\n",
    "y = data['meaningful_comparison']"
   ]
  },
  {
   "cell_type": "code",
   "execution_count": 141,
   "metadata": {},
   "outputs": [
    {
     "data": {
      "application/vnd.plotly.v1+json": {
       "config": {
        "plotlyServerURL": "https://plot.ly"
       },
       "data": [
        {
         "text": [
          [
           1,
           -0.029033596581634832,
           0.1537310337403747,
           0.17114263763544638,
           0.044832646192386,
           0.04130657156065276,
           0.06590842388672567,
           0.13376140469251105,
           -0.04240581955271797,
           0.004256421401819222,
           0.010670040391679477,
           0.053810909377388826,
           0.028081213571529342,
           0.06645563545891849,
           -0.017176493130062146,
           -0.009501425113829527,
           0.03825930267091635,
           0.0501502794579839,
           0.0420115856745338,
           0.277805467060383,
           -0.007951503900741366
          ],
          [
           -0.029033596581634832,
           1,
           0.042941764149866085,
           0.02285548947967778,
           0.01756574186296272,
           0.09550222701202034,
           0.05063536446626367,
           0.027700173673406617,
           0.024544931094356022,
           0.009723167502654723,
           0.13453038224892483,
           -0.003392771367573151,
           0.001969155034921138,
           0.05747671816363235,
           0.05907873769089794,
           0.0205255693973275,
           0.05247247240708829,
           0.08028327133252773,
           0.1272285251141627,
           0.1660276303627826,
           0.006141399207901876
          ],
          [
           0.1537310337403747,
           0.042941764149866085,
           1,
           0.2159131341856729,
           0.08424271105687389,
           0.1883483859822728,
           0.08392576829697308,
           0.06934779328992428,
           0.052262544288306664,
           0.10541226154854773,
           0.03583069312961921,
           -0.051687656542350746,
           0.09915439095412552,
           0.05564283946668944,
           0.14000011474786478,
           0.043373658627657116,
           -0.0024461593769156084,
           0.05622975632023553,
           0.17596168825959313,
           0.4547214825550655,
           0.01321809857391456
          ],
          [
           0.17114263763544638,
           0.02285548947967778,
           0.2159131341856729,
           1,
           0.06272533326616235,
           0.11922784873071991,
           0.1641178444149478,
           0.20237920095993775,
           0.0877821962573195,
           0.09474545983572707,
           -0.02648132931144466,
           0.13515257374855166,
           0.03343809678903848,
           0.0004372697512961443,
           -0.08651338764840678,
           0.04438887765840414,
           0.10069160435044679,
           0.019567532070291428,
           0.1579326656238532,
           0.4443135392795232,
           -0.02281688163094638
          ],
          [
           0.044832646192386,
           0.01756574186296272,
           0.08424271105687389,
           0.06272533326616235,
           1,
           0.060691889480993494,
           0.10627047110525349,
           0.02023580951135972,
           0.03744327925510515,
           0.017151001045133393,
           -0.0072021368308833504,
           0.11371732238872363,
           0.01843268540592204,
           0.04612379877278117,
           -0.008628926294863736,
           0.05071093041540161,
           0.010347760288037038,
           0.015169821397756442,
           0.05376783647312181,
           0.2520389849981889,
           -0.005202542710122755
          ],
          [
           0.04130657156065276,
           0.09550222701202034,
           0.1883483859822728,
           0.11922784873071991,
           0.060691889480993494,
           1,
           0.17041941167222302,
           0.173086419763897,
           0.11219062342332371,
           0.09456997455555023,
           0.0488484230813672,
           0.03712166604026278,
           0.04816651100756298,
           0.0780489277931661,
           0.16559791767990642,
           0.00033882046527031347,
           0.03995977576522904,
           0.16447738369340856,
           0.17130989589758844,
           0.43856303911261046,
           -0.024650602863133916
          ],
          [
           0.06590842388672567,
           0.05063536446626367,
           0.08392576829697308,
           0.1641178444149478,
           0.10627047110525349,
           0.17041941167222302,
           1,
           0.2923626097771733,
           0.11999426658755394,
           0.1917028465321458,
           0.04482358547947557,
           0.17346293834925852,
           0.05072472727226837,
           0.015645163120085074,
           0.06897776667362847,
           0.018345916611714436,
           0.17939178940476583,
           0.07075979383241573,
           0.1206742879961492,
           0.489496971268017,
           0.035447213579127786
          ],
          [
           0.13376140469251105,
           0.027700173673406617,
           0.06934779328992428,
           0.20237920095993775,
           0.02023580951135972,
           0.173086419763897,
           0.2923626097771733,
           1,
           0.106139446522875,
           0.2883451591365421,
           0.043716638056979465,
           0.16405230528653791,
           0.04598773114068698,
           0.02739610792427728,
           -0.07241987082183306,
           0.056049310710469986,
           0.169789041343782,
           0.10253681193620602,
           0.1277082110490138,
           0.568429340338929,
           -0.05402757762366965
          ],
          [
           -0.04240581955271797,
           0.024544931094356022,
           0.052262544288306664,
           0.0877821962573195,
           0.03744327925510515,
           0.11219062342332371,
           0.11999426658755394,
           0.106139446522875,
           1,
           0.09813189919415748,
           0.02291942110728982,
           0.05100321605155363,
           0.029637924171462753,
           0.03214423045168283,
           0.07805783344205387,
           0.06163848284086135,
           0.07742674565594035,
           0.04924535009781718,
           0.09706673413088625,
           0.25729170802530804,
           -0.013999306088584703
          ],
          [
           0.004256421401819222,
           0.009723167502654723,
           0.10541226154854773,
           0.09474545983572707,
           0.017151001045133393,
           0.09456997455555023,
           0.1917028465321458,
           0.2883451591365421,
           0.09813189919415748,
           1,
           -0.02419444862002639,
           0.07140318181646421,
           0.1438045331074776,
           0.10041688652500208,
           0.022163970287808775,
           0.09599481938752252,
           0.10464488071866146,
           0.12383440088149936,
           0.08432493659029679,
           0.3783288705559561,
           -0.04079918120210026
          ],
          [
           0.010670040391679477,
           0.13453038224892483,
           0.03583069312961921,
           -0.02648132931144466,
           -0.0072021368308833504,
           0.0488484230813672,
           0.04482358547947557,
           0.043716638056979465,
           0.02291942110728982,
           -0.02419444862002639,
           1,
           -0.05002495679665841,
           -0.0095627666909588,
           0.009086515226914674,
           0.013322299773836433,
           -0.011328761668117238,
           0.07398972627324608,
           0.02722716992407061,
           0.07637329563272376,
           0.08952737960878569,
           -0.012783173657781845
          ],
          [
           0.053810909377388826,
           -0.003392771367573151,
           -0.051687656542350746,
           0.13515257374855166,
           0.11371732238872363,
           0.03712166604026278,
           0.17346293834925852,
           0.16405230528653791,
           0.05100321605155363,
           0.07140318181646421,
           -0.05002495679665841,
           1,
           0.11249066340815078,
           0.05325156876856364,
           0.03636858458753098,
           0.06301813174391795,
           0.05384085481242364,
           0.1064364963280059,
           0.07636019697065664,
           0.4352692771190057,
           -0.0023569965807846973
          ],
          [
           0.028081213571529342,
           0.001969155034921138,
           0.09915439095412552,
           0.03343809678903848,
           0.01843268540592204,
           0.04816651100756298,
           0.05072472727226837,
           0.04598773114068698,
           0.029637924171462753,
           0.1438045331074776,
           -0.0095627666909588,
           0.11249066340815078,
           1,
           0.09648342523363668,
           0.10650802970979843,
           0.12862783521759372,
           -0.0021946400108482514,
           0.07703289607696572,
           0.04912726789993271,
           0.2491653457658077,
           -0.011321579398987992
          ],
          [
           0.06645563545891849,
           0.05747671816363235,
           0.05564283946668944,
           0.0004372697512961443,
           0.04612379877278117,
           0.0780489277931661,
           0.015645163120085074,
           0.02739610792427728,
           0.03214423045168283,
           0.10041688652500208,
           0.009086515226914674,
           0.05325156876856364,
           0.09648342523363668,
           1,
           0.11877434614506183,
           0.0016793924842591972,
           0.07071416317473428,
           0.09402938943636331,
           0.08934734384099971,
           0.1951669697452993,
           -0.03550640578021502
          ],
          [
           -0.017176493130062146,
           0.05907873769089794,
           0.14000011474786478,
           -0.08651338764840678,
           -0.008628926294863736,
           0.16559791767990642,
           0.06897776667362847,
           -0.07241987082183306,
           0.07805783344205387,
           0.022163970287808775,
           0.013322299773836433,
           0.03636858458753098,
           0.10650802970979843,
           0.11877434614506183,
           1,
           0.06103127690324285,
           -0.014120597944538451,
           0.03958807010717624,
           0.15225076898588324,
           0.256964245423353,
           0.0636076435487767
          ],
          [
           -0.009501425113829527,
           0.0205255693973275,
           0.043373658627657116,
           0.04438887765840414,
           0.05071093041540161,
           0.00033882046527031347,
           0.018345916611714436,
           0.056049310710469986,
           0.06163848284086135,
           0.09599481938752252,
           -0.011328761668117238,
           0.06301813174391795,
           0.12862783521759372,
           0.0016793924842591972,
           0.06103127690324285,
           1,
           -0.011680232536564507,
           0.10309999504954027,
           0.06204307548589641,
           0.1477919028214562,
           -0.011948891988558849
          ],
          [
           0.03825930267091635,
           0.05247247240708829,
           -0.0024461593769156084,
           0.10069160435044679,
           0.010347760288037038,
           0.03995977576522904,
           0.17939178940476583,
           0.169789041343782,
           0.07742674565594035,
           0.10464488071866146,
           0.07398972627324608,
           0.05384085481242364,
           -0.0021946400108482514,
           0.07071416317473428,
           -0.014120597944538451,
           -0.011680232536564507,
           1,
           0.11521749749205157,
           0.05627760294214049,
           0.293934669064692,
           0.03993625075743235
          ],
          [
           0.0501502794579839,
           0.08028327133252773,
           0.05622975632023553,
           0.019567532070291428,
           0.015169821397756442,
           0.16447738369340856,
           0.07075979383241573,
           0.10253681193620602,
           0.04924535009781718,
           0.12383440088149936,
           0.02722716992407061,
           0.1064364963280059,
           0.07703289607696572,
           0.09402938943636331,
           0.03958807010717624,
           0.10309999504954027,
           0.11521749749205157,
           1,
           0.07486815384282877,
           0.27168016150273394,
           -0.03214991939242724
          ],
          [
           0.0420115856745338,
           0.1272285251141627,
           0.17596168825959313,
           0.1579326656238532,
           0.05376783647312181,
           0.17130989589758844,
           0.1206742879961492,
           0.1277082110490138,
           0.09706673413088625,
           0.08432493659029679,
           0.07637329563272376,
           0.07636019697065664,
           0.04912726789993271,
           0.08934734384099971,
           0.15225076898588324,
           0.06204307548589641,
           0.05627760294214049,
           0.07486815384282877,
           1,
           0.5000774303735381,
           0.024180908114465466
          ],
          [
           0.277805467060383,
           0.1660276303627826,
           0.4547214825550655,
           0.4443135392795232,
           0.2520389849981889,
           0.43856303911261046,
           0.489496971268017,
           0.568429340338929,
           0.25729170802530804,
           0.3783288705559561,
           0.08952737960878569,
           0.4352692771190057,
           0.2491653457658077,
           0.1951669697452993,
           0.256964245423353,
           0.1477919028214562,
           0.293934669064692,
           0.27168016150273394,
           0.5000774303735381,
           1,
           -0.007504472411763533
          ],
          [
           -0.007951503900741366,
           0.006141399207901876,
           0.01321809857391456,
           -0.02281688163094638,
           -0.005202542710122755,
           -0.024650602863133916,
           0.035447213579127786,
           -0.05402757762366965,
           -0.013999306088584703,
           -0.04079918120210026,
           -0.012783173657781845,
           -0.0023569965807846973,
           -0.011321579398987992,
           -0.03550640578021502,
           0.0636076435487767,
           -0.011948891988558849,
           0.03993625075743235,
           -0.03214991939242724,
           0.024180908114465466,
           -0.007504472411763533,
           1
          ]
         ],
         "texttemplate": "%{text:.2f}",
         "type": "heatmap",
         "x": [
          "atr0",
          "atr1",
          "atr2",
          "atr3",
          "atr4",
          "atr5",
          "atr6",
          "atr7",
          "atr8",
          "atr9",
          "atr10",
          "atr11",
          "atr12",
          "atr13",
          "atr14",
          "atr15",
          "atr16",
          "atr17",
          "atr18",
          "atr19",
          "meaningful_comparison"
         ],
         "y": [
          "atr0",
          "atr1",
          "atr2",
          "atr3",
          "atr4",
          "atr5",
          "atr6",
          "atr7",
          "atr8",
          "atr9",
          "atr10",
          "atr11",
          "atr12",
          "atr13",
          "atr14",
          "atr15",
          "atr16",
          "atr17",
          "atr18",
          "atr19",
          "meaningful_comparison"
         ],
         "z": [
          [
           1,
           -0.029033596581634832,
           0.1537310337403747,
           0.17114263763544638,
           0.044832646192386,
           0.04130657156065276,
           0.06590842388672567,
           0.13376140469251105,
           -0.04240581955271797,
           0.004256421401819222,
           0.010670040391679477,
           0.053810909377388826,
           0.028081213571529342,
           0.06645563545891849,
           -0.017176493130062146,
           -0.009501425113829527,
           0.03825930267091635,
           0.0501502794579839,
           0.0420115856745338,
           0.277805467060383,
           -0.007951503900741366
          ],
          [
           -0.029033596581634832,
           1,
           0.042941764149866085,
           0.02285548947967778,
           0.01756574186296272,
           0.09550222701202034,
           0.05063536446626367,
           0.027700173673406617,
           0.024544931094356022,
           0.009723167502654723,
           0.13453038224892483,
           -0.003392771367573151,
           0.001969155034921138,
           0.05747671816363235,
           0.05907873769089794,
           0.0205255693973275,
           0.05247247240708829,
           0.08028327133252773,
           0.1272285251141627,
           0.1660276303627826,
           0.006141399207901876
          ],
          [
           0.1537310337403747,
           0.042941764149866085,
           1,
           0.2159131341856729,
           0.08424271105687389,
           0.1883483859822728,
           0.08392576829697308,
           0.06934779328992428,
           0.052262544288306664,
           0.10541226154854773,
           0.03583069312961921,
           -0.051687656542350746,
           0.09915439095412552,
           0.05564283946668944,
           0.14000011474786478,
           0.043373658627657116,
           -0.0024461593769156084,
           0.05622975632023553,
           0.17596168825959313,
           0.4547214825550655,
           0.01321809857391456
          ],
          [
           0.17114263763544638,
           0.02285548947967778,
           0.2159131341856729,
           1,
           0.06272533326616235,
           0.11922784873071991,
           0.1641178444149478,
           0.20237920095993775,
           0.0877821962573195,
           0.09474545983572707,
           -0.02648132931144466,
           0.13515257374855166,
           0.03343809678903848,
           0.0004372697512961443,
           -0.08651338764840678,
           0.04438887765840414,
           0.10069160435044679,
           0.019567532070291428,
           0.1579326656238532,
           0.4443135392795232,
           -0.02281688163094638
          ],
          [
           0.044832646192386,
           0.01756574186296272,
           0.08424271105687389,
           0.06272533326616235,
           1,
           0.060691889480993494,
           0.10627047110525349,
           0.02023580951135972,
           0.03744327925510515,
           0.017151001045133393,
           -0.0072021368308833504,
           0.11371732238872363,
           0.01843268540592204,
           0.04612379877278117,
           -0.008628926294863736,
           0.05071093041540161,
           0.010347760288037038,
           0.015169821397756442,
           0.05376783647312181,
           0.2520389849981889,
           -0.005202542710122755
          ],
          [
           0.04130657156065276,
           0.09550222701202034,
           0.1883483859822728,
           0.11922784873071991,
           0.060691889480993494,
           1,
           0.17041941167222302,
           0.173086419763897,
           0.11219062342332371,
           0.09456997455555023,
           0.0488484230813672,
           0.03712166604026278,
           0.04816651100756298,
           0.0780489277931661,
           0.16559791767990642,
           0.00033882046527031347,
           0.03995977576522904,
           0.16447738369340856,
           0.17130989589758844,
           0.43856303911261046,
           -0.024650602863133916
          ],
          [
           0.06590842388672567,
           0.05063536446626367,
           0.08392576829697308,
           0.1641178444149478,
           0.10627047110525349,
           0.17041941167222302,
           1,
           0.2923626097771733,
           0.11999426658755394,
           0.1917028465321458,
           0.04482358547947557,
           0.17346293834925852,
           0.05072472727226837,
           0.015645163120085074,
           0.06897776667362847,
           0.018345916611714436,
           0.17939178940476583,
           0.07075979383241573,
           0.1206742879961492,
           0.489496971268017,
           0.035447213579127786
          ],
          [
           0.13376140469251105,
           0.027700173673406617,
           0.06934779328992428,
           0.20237920095993775,
           0.02023580951135972,
           0.173086419763897,
           0.2923626097771733,
           1,
           0.106139446522875,
           0.2883451591365421,
           0.043716638056979465,
           0.16405230528653791,
           0.04598773114068698,
           0.02739610792427728,
           -0.07241987082183306,
           0.056049310710469986,
           0.169789041343782,
           0.10253681193620602,
           0.1277082110490138,
           0.568429340338929,
           -0.05402757762366965
          ],
          [
           -0.04240581955271797,
           0.024544931094356022,
           0.052262544288306664,
           0.0877821962573195,
           0.03744327925510515,
           0.11219062342332371,
           0.11999426658755394,
           0.106139446522875,
           1,
           0.09813189919415748,
           0.02291942110728982,
           0.05100321605155363,
           0.029637924171462753,
           0.03214423045168283,
           0.07805783344205387,
           0.06163848284086135,
           0.07742674565594035,
           0.04924535009781718,
           0.09706673413088625,
           0.25729170802530804,
           -0.013999306088584703
          ],
          [
           0.004256421401819222,
           0.009723167502654723,
           0.10541226154854773,
           0.09474545983572707,
           0.017151001045133393,
           0.09456997455555023,
           0.1917028465321458,
           0.2883451591365421,
           0.09813189919415748,
           1,
           -0.02419444862002639,
           0.07140318181646421,
           0.1438045331074776,
           0.10041688652500208,
           0.022163970287808775,
           0.09599481938752252,
           0.10464488071866146,
           0.12383440088149936,
           0.08432493659029679,
           0.3783288705559561,
           -0.04079918120210026
          ],
          [
           0.010670040391679477,
           0.13453038224892483,
           0.03583069312961921,
           -0.02648132931144466,
           -0.0072021368308833504,
           0.0488484230813672,
           0.04482358547947557,
           0.043716638056979465,
           0.02291942110728982,
           -0.02419444862002639,
           1,
           -0.05002495679665841,
           -0.0095627666909588,
           0.009086515226914674,
           0.013322299773836433,
           -0.011328761668117238,
           0.07398972627324608,
           0.02722716992407061,
           0.07637329563272376,
           0.08952737960878569,
           -0.012783173657781845
          ],
          [
           0.053810909377388826,
           -0.003392771367573151,
           -0.051687656542350746,
           0.13515257374855166,
           0.11371732238872363,
           0.03712166604026278,
           0.17346293834925852,
           0.16405230528653791,
           0.05100321605155363,
           0.07140318181646421,
           -0.05002495679665841,
           1,
           0.11249066340815078,
           0.05325156876856364,
           0.03636858458753098,
           0.06301813174391795,
           0.05384085481242364,
           0.1064364963280059,
           0.07636019697065664,
           0.4352692771190057,
           -0.0023569965807846973
          ],
          [
           0.028081213571529342,
           0.001969155034921138,
           0.09915439095412552,
           0.03343809678903848,
           0.01843268540592204,
           0.04816651100756298,
           0.05072472727226837,
           0.04598773114068698,
           0.029637924171462753,
           0.1438045331074776,
           -0.0095627666909588,
           0.11249066340815078,
           1,
           0.09648342523363668,
           0.10650802970979843,
           0.12862783521759372,
           -0.0021946400108482514,
           0.07703289607696572,
           0.04912726789993271,
           0.2491653457658077,
           -0.011321579398987992
          ],
          [
           0.06645563545891849,
           0.05747671816363235,
           0.05564283946668944,
           0.0004372697512961443,
           0.04612379877278117,
           0.0780489277931661,
           0.015645163120085074,
           0.02739610792427728,
           0.03214423045168283,
           0.10041688652500208,
           0.009086515226914674,
           0.05325156876856364,
           0.09648342523363668,
           1,
           0.11877434614506183,
           0.0016793924842591972,
           0.07071416317473428,
           0.09402938943636331,
           0.08934734384099971,
           0.1951669697452993,
           -0.03550640578021502
          ],
          [
           -0.017176493130062146,
           0.05907873769089794,
           0.14000011474786478,
           -0.08651338764840678,
           -0.008628926294863736,
           0.16559791767990642,
           0.06897776667362847,
           -0.07241987082183306,
           0.07805783344205387,
           0.022163970287808775,
           0.013322299773836433,
           0.03636858458753098,
           0.10650802970979843,
           0.11877434614506183,
           1,
           0.06103127690324285,
           -0.014120597944538451,
           0.03958807010717624,
           0.15225076898588324,
           0.256964245423353,
           0.0636076435487767
          ],
          [
           -0.009501425113829527,
           0.0205255693973275,
           0.043373658627657116,
           0.04438887765840414,
           0.05071093041540161,
           0.00033882046527031347,
           0.018345916611714436,
           0.056049310710469986,
           0.06163848284086135,
           0.09599481938752252,
           -0.011328761668117238,
           0.06301813174391795,
           0.12862783521759372,
           0.0016793924842591972,
           0.06103127690324285,
           1,
           -0.011680232536564507,
           0.10309999504954027,
           0.06204307548589641,
           0.1477919028214562,
           -0.011948891988558849
          ],
          [
           0.03825930267091635,
           0.05247247240708829,
           -0.0024461593769156084,
           0.10069160435044679,
           0.010347760288037038,
           0.03995977576522904,
           0.17939178940476583,
           0.169789041343782,
           0.07742674565594035,
           0.10464488071866146,
           0.07398972627324608,
           0.05384085481242364,
           -0.0021946400108482514,
           0.07071416317473428,
           -0.014120597944538451,
           -0.011680232536564507,
           1,
           0.11521749749205157,
           0.05627760294214049,
           0.293934669064692,
           0.03993625075743235
          ],
          [
           0.0501502794579839,
           0.08028327133252773,
           0.05622975632023553,
           0.019567532070291428,
           0.015169821397756442,
           0.16447738369340856,
           0.07075979383241573,
           0.10253681193620602,
           0.04924535009781718,
           0.12383440088149936,
           0.02722716992407061,
           0.1064364963280059,
           0.07703289607696572,
           0.09402938943636331,
           0.03958807010717624,
           0.10309999504954027,
           0.11521749749205157,
           1,
           0.07486815384282877,
           0.27168016150273394,
           -0.03214991939242724
          ],
          [
           0.0420115856745338,
           0.1272285251141627,
           0.17596168825959313,
           0.1579326656238532,
           0.05376783647312181,
           0.17130989589758844,
           0.1206742879961492,
           0.1277082110490138,
           0.09706673413088625,
           0.08432493659029679,
           0.07637329563272376,
           0.07636019697065664,
           0.04912726789993271,
           0.08934734384099971,
           0.15225076898588324,
           0.06204307548589641,
           0.05627760294214049,
           0.07486815384282877,
           1,
           0.5000774303735381,
           0.024180908114465466
          ],
          [
           0.277805467060383,
           0.1660276303627826,
           0.4547214825550655,
           0.4443135392795232,
           0.2520389849981889,
           0.43856303911261046,
           0.489496971268017,
           0.568429340338929,
           0.25729170802530804,
           0.3783288705559561,
           0.08952737960878569,
           0.4352692771190057,
           0.2491653457658077,
           0.1951669697452993,
           0.256964245423353,
           0.1477919028214562,
           0.293934669064692,
           0.27168016150273394,
           0.5000774303735381,
           1,
           -0.007504472411763533
          ],
          [
           -0.007951503900741366,
           0.006141399207901876,
           0.01321809857391456,
           -0.02281688163094638,
           -0.005202542710122755,
           -0.024650602863133916,
           0.035447213579127786,
           -0.05402757762366965,
           -0.013999306088584703,
           -0.04079918120210026,
           -0.012783173657781845,
           -0.0023569965807846973,
           -0.011321579398987992,
           -0.03550640578021502,
           0.0636076435487767,
           -0.011948891988558849,
           0.03993625075743235,
           -0.03214991939242724,
           0.024180908114465466,
           -0.007504472411763533,
           1
          ]
         ]
        }
       ],
       "layout": {
        "template": {
         "data": {
          "bar": [
           {
            "error_x": {
             "color": "#2a3f5f"
            },
            "error_y": {
             "color": "#2a3f5f"
            },
            "marker": {
             "line": {
              "color": "#E5ECF6",
              "width": 0.5
             },
             "pattern": {
              "fillmode": "overlay",
              "size": 10,
              "solidity": 0.2
             }
            },
            "type": "bar"
           }
          ],
          "barpolar": [
           {
            "marker": {
             "line": {
              "color": "#E5ECF6",
              "width": 0.5
             },
             "pattern": {
              "fillmode": "overlay",
              "size": 10,
              "solidity": 0.2
             }
            },
            "type": "barpolar"
           }
          ],
          "carpet": [
           {
            "aaxis": {
             "endlinecolor": "#2a3f5f",
             "gridcolor": "white",
             "linecolor": "white",
             "minorgridcolor": "white",
             "startlinecolor": "#2a3f5f"
            },
            "baxis": {
             "endlinecolor": "#2a3f5f",
             "gridcolor": "white",
             "linecolor": "white",
             "minorgridcolor": "white",
             "startlinecolor": "#2a3f5f"
            },
            "type": "carpet"
           }
          ],
          "choropleth": [
           {
            "colorbar": {
             "outlinewidth": 0,
             "ticks": ""
            },
            "type": "choropleth"
           }
          ],
          "contour": [
           {
            "colorbar": {
             "outlinewidth": 0,
             "ticks": ""
            },
            "colorscale": [
             [
              0,
              "#0d0887"
             ],
             [
              0.1111111111111111,
              "#46039f"
             ],
             [
              0.2222222222222222,
              "#7201a8"
             ],
             [
              0.3333333333333333,
              "#9c179e"
             ],
             [
              0.4444444444444444,
              "#bd3786"
             ],
             [
              0.5555555555555556,
              "#d8576b"
             ],
             [
              0.6666666666666666,
              "#ed7953"
             ],
             [
              0.7777777777777778,
              "#fb9f3a"
             ],
             [
              0.8888888888888888,
              "#fdca26"
             ],
             [
              1,
              "#f0f921"
             ]
            ],
            "type": "contour"
           }
          ],
          "contourcarpet": [
           {
            "colorbar": {
             "outlinewidth": 0,
             "ticks": ""
            },
            "type": "contourcarpet"
           }
          ],
          "heatmap": [
           {
            "colorbar": {
             "outlinewidth": 0,
             "ticks": ""
            },
            "colorscale": [
             [
              0,
              "#0d0887"
             ],
             [
              0.1111111111111111,
              "#46039f"
             ],
             [
              0.2222222222222222,
              "#7201a8"
             ],
             [
              0.3333333333333333,
              "#9c179e"
             ],
             [
              0.4444444444444444,
              "#bd3786"
             ],
             [
              0.5555555555555556,
              "#d8576b"
             ],
             [
              0.6666666666666666,
              "#ed7953"
             ],
             [
              0.7777777777777778,
              "#fb9f3a"
             ],
             [
              0.8888888888888888,
              "#fdca26"
             ],
             [
              1,
              "#f0f921"
             ]
            ],
            "type": "heatmap"
           }
          ],
          "heatmapgl": [
           {
            "colorbar": {
             "outlinewidth": 0,
             "ticks": ""
            },
            "colorscale": [
             [
              0,
              "#0d0887"
             ],
             [
              0.1111111111111111,
              "#46039f"
             ],
             [
              0.2222222222222222,
              "#7201a8"
             ],
             [
              0.3333333333333333,
              "#9c179e"
             ],
             [
              0.4444444444444444,
              "#bd3786"
             ],
             [
              0.5555555555555556,
              "#d8576b"
             ],
             [
              0.6666666666666666,
              "#ed7953"
             ],
             [
              0.7777777777777778,
              "#fb9f3a"
             ],
             [
              0.8888888888888888,
              "#fdca26"
             ],
             [
              1,
              "#f0f921"
             ]
            ],
            "type": "heatmapgl"
           }
          ],
          "histogram": [
           {
            "marker": {
             "pattern": {
              "fillmode": "overlay",
              "size": 10,
              "solidity": 0.2
             }
            },
            "type": "histogram"
           }
          ],
          "histogram2d": [
           {
            "colorbar": {
             "outlinewidth": 0,
             "ticks": ""
            },
            "colorscale": [
             [
              0,
              "#0d0887"
             ],
             [
              0.1111111111111111,
              "#46039f"
             ],
             [
              0.2222222222222222,
              "#7201a8"
             ],
             [
              0.3333333333333333,
              "#9c179e"
             ],
             [
              0.4444444444444444,
              "#bd3786"
             ],
             [
              0.5555555555555556,
              "#d8576b"
             ],
             [
              0.6666666666666666,
              "#ed7953"
             ],
             [
              0.7777777777777778,
              "#fb9f3a"
             ],
             [
              0.8888888888888888,
              "#fdca26"
             ],
             [
              1,
              "#f0f921"
             ]
            ],
            "type": "histogram2d"
           }
          ],
          "histogram2dcontour": [
           {
            "colorbar": {
             "outlinewidth": 0,
             "ticks": ""
            },
            "colorscale": [
             [
              0,
              "#0d0887"
             ],
             [
              0.1111111111111111,
              "#46039f"
             ],
             [
              0.2222222222222222,
              "#7201a8"
             ],
             [
              0.3333333333333333,
              "#9c179e"
             ],
             [
              0.4444444444444444,
              "#bd3786"
             ],
             [
              0.5555555555555556,
              "#d8576b"
             ],
             [
              0.6666666666666666,
              "#ed7953"
             ],
             [
              0.7777777777777778,
              "#fb9f3a"
             ],
             [
              0.8888888888888888,
              "#fdca26"
             ],
             [
              1,
              "#f0f921"
             ]
            ],
            "type": "histogram2dcontour"
           }
          ],
          "mesh3d": [
           {
            "colorbar": {
             "outlinewidth": 0,
             "ticks": ""
            },
            "type": "mesh3d"
           }
          ],
          "parcoords": [
           {
            "line": {
             "colorbar": {
              "outlinewidth": 0,
              "ticks": ""
             }
            },
            "type": "parcoords"
           }
          ],
          "pie": [
           {
            "automargin": true,
            "type": "pie"
           }
          ],
          "scatter": [
           {
            "fillpattern": {
             "fillmode": "overlay",
             "size": 10,
             "solidity": 0.2
            },
            "type": "scatter"
           }
          ],
          "scatter3d": [
           {
            "line": {
             "colorbar": {
              "outlinewidth": 0,
              "ticks": ""
             }
            },
            "marker": {
             "colorbar": {
              "outlinewidth": 0,
              "ticks": ""
             }
            },
            "type": "scatter3d"
           }
          ],
          "scattercarpet": [
           {
            "marker": {
             "colorbar": {
              "outlinewidth": 0,
              "ticks": ""
             }
            },
            "type": "scattercarpet"
           }
          ],
          "scattergeo": [
           {
            "marker": {
             "colorbar": {
              "outlinewidth": 0,
              "ticks": ""
             }
            },
            "type": "scattergeo"
           }
          ],
          "scattergl": [
           {
            "marker": {
             "colorbar": {
              "outlinewidth": 0,
              "ticks": ""
             }
            },
            "type": "scattergl"
           }
          ],
          "scattermapbox": [
           {
            "marker": {
             "colorbar": {
              "outlinewidth": 0,
              "ticks": ""
             }
            },
            "type": "scattermapbox"
           }
          ],
          "scatterpolar": [
           {
            "marker": {
             "colorbar": {
              "outlinewidth": 0,
              "ticks": ""
             }
            },
            "type": "scatterpolar"
           }
          ],
          "scatterpolargl": [
           {
            "marker": {
             "colorbar": {
              "outlinewidth": 0,
              "ticks": ""
             }
            },
            "type": "scatterpolargl"
           }
          ],
          "scatterternary": [
           {
            "marker": {
             "colorbar": {
              "outlinewidth": 0,
              "ticks": ""
             }
            },
            "type": "scatterternary"
           }
          ],
          "surface": [
           {
            "colorbar": {
             "outlinewidth": 0,
             "ticks": ""
            },
            "colorscale": [
             [
              0,
              "#0d0887"
             ],
             [
              0.1111111111111111,
              "#46039f"
             ],
             [
              0.2222222222222222,
              "#7201a8"
             ],
             [
              0.3333333333333333,
              "#9c179e"
             ],
             [
              0.4444444444444444,
              "#bd3786"
             ],
             [
              0.5555555555555556,
              "#d8576b"
             ],
             [
              0.6666666666666666,
              "#ed7953"
             ],
             [
              0.7777777777777778,
              "#fb9f3a"
             ],
             [
              0.8888888888888888,
              "#fdca26"
             ],
             [
              1,
              "#f0f921"
             ]
            ],
            "type": "surface"
           }
          ],
          "table": [
           {
            "cells": {
             "fill": {
              "color": "#EBF0F8"
             },
             "line": {
              "color": "white"
             }
            },
            "header": {
             "fill": {
              "color": "#C8D4E3"
             },
             "line": {
              "color": "white"
             }
            },
            "type": "table"
           }
          ]
         },
         "layout": {
          "annotationdefaults": {
           "arrowcolor": "#2a3f5f",
           "arrowhead": 0,
           "arrowwidth": 1
          },
          "autotypenumbers": "strict",
          "coloraxis": {
           "colorbar": {
            "outlinewidth": 0,
            "ticks": ""
           }
          },
          "colorscale": {
           "diverging": [
            [
             0,
             "#8e0152"
            ],
            [
             0.1,
             "#c51b7d"
            ],
            [
             0.2,
             "#de77ae"
            ],
            [
             0.3,
             "#f1b6da"
            ],
            [
             0.4,
             "#fde0ef"
            ],
            [
             0.5,
             "#f7f7f7"
            ],
            [
             0.6,
             "#e6f5d0"
            ],
            [
             0.7,
             "#b8e186"
            ],
            [
             0.8,
             "#7fbc41"
            ],
            [
             0.9,
             "#4d9221"
            ],
            [
             1,
             "#276419"
            ]
           ],
           "sequential": [
            [
             0,
             "#0d0887"
            ],
            [
             0.1111111111111111,
             "#46039f"
            ],
            [
             0.2222222222222222,
             "#7201a8"
            ],
            [
             0.3333333333333333,
             "#9c179e"
            ],
            [
             0.4444444444444444,
             "#bd3786"
            ],
            [
             0.5555555555555556,
             "#d8576b"
            ],
            [
             0.6666666666666666,
             "#ed7953"
            ],
            [
             0.7777777777777778,
             "#fb9f3a"
            ],
            [
             0.8888888888888888,
             "#fdca26"
            ],
            [
             1,
             "#f0f921"
            ]
           ],
           "sequentialminus": [
            [
             0,
             "#0d0887"
            ],
            [
             0.1111111111111111,
             "#46039f"
            ],
            [
             0.2222222222222222,
             "#7201a8"
            ],
            [
             0.3333333333333333,
             "#9c179e"
            ],
            [
             0.4444444444444444,
             "#bd3786"
            ],
            [
             0.5555555555555556,
             "#d8576b"
            ],
            [
             0.6666666666666666,
             "#ed7953"
            ],
            [
             0.7777777777777778,
             "#fb9f3a"
            ],
            [
             0.8888888888888888,
             "#fdca26"
            ],
            [
             1,
             "#f0f921"
            ]
           ]
          },
          "colorway": [
           "#636efa",
           "#EF553B",
           "#00cc96",
           "#ab63fa",
           "#FFA15A",
           "#19d3f3",
           "#FF6692",
           "#B6E880",
           "#FF97FF",
           "#FECB52"
          ],
          "font": {
           "color": "#2a3f5f"
          },
          "geo": {
           "bgcolor": "white",
           "lakecolor": "white",
           "landcolor": "#E5ECF6",
           "showlakes": true,
           "showland": true,
           "subunitcolor": "white"
          },
          "hoverlabel": {
           "align": "left"
          },
          "hovermode": "closest",
          "mapbox": {
           "style": "light"
          },
          "paper_bgcolor": "white",
          "plot_bgcolor": "#E5ECF6",
          "polar": {
           "angularaxis": {
            "gridcolor": "white",
            "linecolor": "white",
            "ticks": ""
           },
           "bgcolor": "#E5ECF6",
           "radialaxis": {
            "gridcolor": "white",
            "linecolor": "white",
            "ticks": ""
           }
          },
          "scene": {
           "xaxis": {
            "backgroundcolor": "#E5ECF6",
            "gridcolor": "white",
            "gridwidth": 2,
            "linecolor": "white",
            "showbackground": true,
            "ticks": "",
            "zerolinecolor": "white"
           },
           "yaxis": {
            "backgroundcolor": "#E5ECF6",
            "gridcolor": "white",
            "gridwidth": 2,
            "linecolor": "white",
            "showbackground": true,
            "ticks": "",
            "zerolinecolor": "white"
           },
           "zaxis": {
            "backgroundcolor": "#E5ECF6",
            "gridcolor": "white",
            "gridwidth": 2,
            "linecolor": "white",
            "showbackground": true,
            "ticks": "",
            "zerolinecolor": "white"
           }
          },
          "shapedefaults": {
           "line": {
            "color": "#2a3f5f"
           }
          },
          "ternary": {
           "aaxis": {
            "gridcolor": "white",
            "linecolor": "white",
            "ticks": ""
           },
           "baxis": {
            "gridcolor": "white",
            "linecolor": "white",
            "ticks": ""
           },
           "bgcolor": "#E5ECF6",
           "caxis": {
            "gridcolor": "white",
            "linecolor": "white",
            "ticks": ""
           }
          },
          "title": {
           "x": 0.05
          },
          "xaxis": {
           "automargin": true,
           "gridcolor": "white",
           "linecolor": "white",
           "ticks": "",
           "title": {
            "standoff": 15
           },
           "zerolinecolor": "white",
           "zerolinewidth": 2
          },
          "yaxis": {
           "automargin": true,
           "gridcolor": "white",
           "linecolor": "white",
           "ticks": "",
           "title": {
            "standoff": 15
           },
           "zerolinecolor": "white",
           "zerolinewidth": 2
          }
         }
        }
       }
      }
     },
     "metadata": {},
     "output_type": "display_data"
    }
   ],
   "source": [
    "dataframe = citing_sentence.join([y])\n",
    "correlation_matrix(dataframe)"
   ]
  },
  {
   "cell_type": "code",
   "execution_count": 142,
   "metadata": {},
   "outputs": [],
   "source": [
    "from sklearn.feature_selection import chi2, SelectKBest\n",
    "from sklearn.preprocessing import MinMaxScaler\n",
    "\n",
    "def find_chi(features, y, k):\n",
    "    chi_square = SelectKBest(score_func=chi2, k=k)\n",
    "    fit = chi_square.fit(features, y)\n",
    "    \n",
    "    selected_feature_indices = chi_square.get_support(indices=True)\n",
    "    feature_names = features.columns\n",
    "    chi2_scores = fit.scores_\n",
    "    feature_score_dict = dict(zip(feature_names, chi2_scores))\n",
    "    sorted_features = sorted(feature_score_dict.items(), key=lambda x: x[1], reverse=True)\n",
    "    selected_feature_names = [feature[0] for feature in sorted_features[:k]]\n",
    "    \n",
    "    print(\"Selected Feature Names:\", selected_feature_names)\n",
    "    x_chi = chi_square.fit_transform(features, y)\n",
    "    \n",
    "    scaler = MinMaxScaler()\n",
    "    x = scaler.fit_transform(x_chi)\n",
    "    \n",
    "    x_res, y_res = oversampling(x, y)\n",
    "    x_train, x_test, y_train, y_test = train_split(x_res, y_res)\n",
    "    return x_train, x_test, y_train, y_test, selected_feature_names"
   ]
  },
  {
   "cell_type": "code",
   "execution_count": 143,
   "metadata": {},
   "outputs": [],
   "source": [
    "from imblearn.over_sampling import SMOTE\n",
    "\n",
    "def oversampling(x, y):\n",
    "    sm = SMOTE(random_state=123)\n",
    "    x_res, y_res = sm.fit_resample(x, y)\n",
    "    return x_res, y_res"
   ]
  },
  {
   "cell_type": "code",
   "execution_count": 144,
   "metadata": {},
   "outputs": [],
   "source": [
    "from sklearn.model_selection import train_test_split\n",
    "\n",
    "def train_split(x, y):\n",
    "    x_train, x_test, y_train, y_test = train_test_split(x, y, test_size=0.2, random_state=123)\n",
    "    return x_train, x_test, y_train, y_test"
   ]
  },
  {
   "cell_type": "code",
   "execution_count": 145,
   "metadata": {},
   "outputs": [],
   "source": [
    "test = pd.DataFrame(columns=['Features', 'Accuracy'])"
   ]
  },
  {
   "cell_type": "code",
   "execution_count": 146,
   "metadata": {},
   "outputs": [
    {
     "name": "stdout",
     "output_type": "stream",
     "text": [
      "Selected Feature Names: ['atr25', 'atr39', 'atr20', 'atr26', 'atr33', 'atr31', 'atr38', 'atr30', 'atr35', 'atr36']\n",
      "Accuracy: 93.61%\n"
     ]
    }
   ],
   "source": [
    "from xgboost import XGBClassifier\n",
    "from sklearn.metrics import accuracy_score\n",
    "\n",
    "def model(features, y, i):\n",
    "    model = XGBClassifier(learning_rate=0.3, n_estimators=50, max_depth=8)\n",
    "    x_train, x_test, y_train, y_test, selected_feature_names = find_chi(features, y, i)\n",
    "    model.fit(x_train, y_train)\n",
    "    \n",
    "    y_pred = model.predict(x_test)\n",
    "    predictions = [round(value) for value in y_pred]\n",
    "    \n",
    "    accuracy = accuracy_score(y_test, predictions)\n",
    "    new_data = pd.DataFrame({'Features': [selected_feature_names], 'Accuracy': [\"%.2f%%\" % (accuracy * 100.0)]})\n",
    "    global test\n",
    "    test = pd.concat([test, new_data], ignore_index=True)\n",
    "    return accuracy"
   ]
  },
  {
   "cell_type": "code",
   "execution_count": 147,
   "metadata": {},
   "outputs": [
    {
     "name": "stdout",
     "output_type": "stream",
     "text": [
      "Selected Feature Names: ['atr14']\n",
      "Accuracy: 52.08%\n",
      "Selected Feature Names: ['atr14', 'atr7']\n",
      "Accuracy: 72.52%\n",
      "Selected Feature Names: ['atr14', 'atr7', 'atr9']\n",
      "Accuracy: 82.43%\n",
      "Selected Feature Names: ['atr14', 'atr7', 'atr9', 'atr16']\n",
      "Accuracy: 88.82%\n",
      "Selected Feature Names: ['atr14', 'atr7', 'atr9', 'atr16', 'atr6']\n",
      "Accuracy: 88.50%\n",
      "Selected Feature Names: ['atr14', 'atr7', 'atr9', 'atr16', 'atr6', 'atr13']\n",
      "Accuracy: 87.86%\n",
      "Selected Feature Names: ['atr14', 'atr7', 'atr9', 'atr16', 'atr6', 'atr13', 'atr17']\n",
      "Accuracy: 89.78%\n",
      "Selected Feature Names: ['atr14', 'atr7', 'atr9', 'atr16', 'atr6', 'atr13', 'atr17', 'atr18']\n",
      "Accuracy: 91.69%\n",
      "Selected Feature Names: ['atr14', 'atr7', 'atr9', 'atr16', 'atr6', 'atr13', 'atr17', 'atr18', 'atr5']\n",
      "Accuracy: 90.73%\n",
      "Selected Feature Names: ['atr14', 'atr7', 'atr9', 'atr16', 'atr6', 'atr13', 'atr17', 'atr18', 'atr5', 'atr3']\n",
      "Accuracy: 89.78%\n",
      "Selected Feature Names: ['atr14', 'atr7', 'atr9', 'atr16', 'atr6', 'atr13', 'atr17', 'atr18', 'atr5', 'atr3', 'atr2']\n",
      "Accuracy: 92.33%\n",
      "Selected Feature Names: ['atr14', 'atr7', 'atr9', 'atr16', 'atr6', 'atr13', 'atr17', 'atr18', 'atr5', 'atr3', 'atr2', 'atr8']\n",
      "Accuracy: 92.01%\n",
      "Selected Feature Names: ['atr14', 'atr7', 'atr9', 'atr16', 'atr6', 'atr13', 'atr17', 'atr18', 'atr5', 'atr3', 'atr2', 'atr8', 'atr19']\n",
      "Accuracy: 90.73%\n",
      "Selected Feature Names: ['atr14', 'atr7', 'atr9', 'atr16', 'atr6', 'atr13', 'atr17', 'atr18', 'atr5', 'atr3', 'atr2', 'atr8', 'atr19', 'atr12']\n",
      "Accuracy: 91.69%\n",
      "Selected Feature Names: ['atr14', 'atr7', 'atr9', 'atr16', 'atr6', 'atr13', 'atr17', 'atr18', 'atr5', 'atr3', 'atr2', 'atr8', 'atr19', 'atr12', 'atr15']\n",
      "Accuracy: 91.05%\n",
      "Selected Feature Names: ['atr14', 'atr7', 'atr9', 'atr16', 'atr6', 'atr13', 'atr17', 'atr18', 'atr5', 'atr3', 'atr2', 'atr8', 'atr19', 'atr12', 'atr15', 'atr10']\n",
      "Accuracy: 91.69%\n",
      "Selected Feature Names: ['atr14', 'atr7', 'atr9', 'atr16', 'atr6', 'atr13', 'atr17', 'atr18', 'atr5', 'atr3', 'atr2', 'atr8', 'atr19', 'atr12', 'atr15', 'atr10', 'atr0']\n",
      "Accuracy: 90.42%\n",
      "Selected Feature Names: ['atr14', 'atr7', 'atr9', 'atr16', 'atr6', 'atr13', 'atr17', 'atr18', 'atr5', 'atr3', 'atr2', 'atr8', 'atr19', 'atr12', 'atr15', 'atr10', 'atr0', 'atr1']\n",
      "Accuracy: 91.69%\n",
      "Selected Feature Names: ['atr14', 'atr7', 'atr9', 'atr16', 'atr6', 'atr13', 'atr17', 'atr18', 'atr5', 'atr3', 'atr2', 'atr8', 'atr19', 'atr12', 'atr15', 'atr10', 'atr0', 'atr1', 'atr4']\n",
      "Accuracy: 92.33%\n",
      "Selected Feature Names: ['atr14', 'atr7', 'atr9', 'atr16', 'atr6', 'atr13', 'atr17', 'atr18', 'atr5', 'atr3', 'atr2', 'atr8', 'atr19', 'atr12', 'atr15', 'atr10', 'atr0', 'atr1', 'atr4', 'atr11']\n",
      "Accuracy: 92.97%\n"
     ]
    }
   ],
   "source": [
    "for i in dict(enumerate(citing_sentence)):\n",
    "    accuracy = model(citing_sentence, y, i+1)\n",
    "    print(\"Accuracy: %.2f%%\" % (accuracy * 100.0))"
   ]
  },
  {
   "cell_type": "markdown",
   "metadata": {},
   "source": [
    "## Regular Sentences Predictor"
   ]
  },
  {
   "cell_type": "code",
   "execution_count": 148,
   "metadata": {},
   "outputs": [],
   "source": [
    "regular_sentences = data[['atr20', 'atr21', 'atr22', 'atr23', 'atr24', 'atr25', 'atr26', 'atr27', 'atr28', 'atr29', 'atr30', 'atr31', 'atr32', 'atr33', 'atr34', 'atr35', 'atr36', 'atr37', 'atr38', 'atr39']]"
   ]
  },
  {
   "cell_type": "code",
   "execution_count": 149,
   "metadata": {},
   "outputs": [
    {
     "data": {
      "application/vnd.plotly.v1+json": {
       "config": {
        "plotlyServerURL": "https://plot.ly"
       },
       "data": [
        {
         "text": [
          [
           1,
           0.14048960333640018,
           0.2698351424237793,
           0.3033463795551482,
           0.1251366296103463,
           0.2774783470800704,
           0.09820250124784924,
           0.13999685533675407,
           0.023940658825676725,
           -0.010528577051620422,
           0.039610422121092725,
           0.08740162047675884,
           0.008180970568441368,
           0.05181684277930964,
           0.13971273452953045,
           0.058570068542194834,
           0.08466496885221565,
           0.020740735220602925,
           0.41509370392877354,
           0.4637367675879967,
           0.046966735042435266
          ],
          [
           0.14048960333640018,
           1,
           0.20133591245670907,
           0.13102744137750244,
           0.09222269256873182,
           0.29250981704040285,
           0.1946411699764659,
           0.1693378651983715,
           0.09095190723774885,
           0.10837684851281916,
           0.02919310233326563,
           0.056186565824687715,
           0.04178244044044506,
           0.07257088178332868,
           0.13969346153104323,
           0.034795731157820725,
           0.14896322144751298,
           0.029255144815260307,
           0.2560531998372869,
           0.36127102440415854,
           0.025204552964079363
          ],
          [
           0.2698351424237793,
           0.20133591245670907,
           1,
           0.3288105084779699,
           0.14188687365533661,
           0.22910417505457606,
           0.12012741735421563,
           0.09281453874423333,
           0.09776803716094258,
           0.048980132426459315,
           0.14134212093282525,
           0.12684626295460102,
           0.0927884475808513,
           0.18412029330401056,
           0.20128723322343942,
           0.13445592041015667,
           0.115725355332905,
           0.1085736608939148,
           0.32642213435352185,
           0.5086907424828845,
           0.007564466954838181
          ],
          [
           0.3033463795551482,
           0.13102744137750244,
           0.3288105084779699,
           1,
           0.016516337606439127,
           0.09341177015787325,
           0.12281830621301366,
           0.24031914748010103,
           0.10055570453781036,
           0.03855775239280319,
           0.07561138360466169,
           0.14988771185199545,
           0.16303906542121088,
           0.14034651872000087,
           0.18274401968648551,
           0.09889075760226565,
           0.05410722072538181,
           0.11667037979810255,
           0.2238281793074128,
           0.37267322625051147,
           -0.003588621515256863
          ],
          [
           0.1251366296103463,
           0.09222269256873182,
           0.14188687365533661,
           0.016516337606439127,
           1,
           0.07493729290099849,
           0.10581766386058136,
           0.11125707796102059,
           0.04242431876553974,
           0.1309031318351964,
           0.012993230790582282,
           0.08585147357402206,
           0.059255750295074516,
           0.01913138250149382,
           0.22411790733244608,
           0.007940972922084481,
           0.04709357421850232,
           0.0030943827966404803,
           0.08419607465491044,
           0.16259090788359282,
           0.025462061888421716
          ],
          [
           0.2774783470800704,
           0.29250981704040285,
           0.22910417505457606,
           0.09341177015787325,
           0.07493729290099849,
           1,
           0.31969575137937684,
           0.3390999515724003,
           0.1864729375970599,
           0.1766184265462725,
           0.09135526394478904,
           -0.006721105998229447,
           -0.11168221926253016,
           0.08920935888376383,
           -0.002952239982002738,
           0.0025918115781099803,
           0.3137800727026942,
           0.1454079674258022,
           0.6250268661546642,
           0.8249114453608912,
           0.06307092324141977
          ],
          [
           0.09820250124784924,
           0.1946411699764659,
           0.12012741735421563,
           0.12281830621301366,
           0.10581766386058136,
           0.31969575137937684,
           1,
           0.2631706894721901,
           0.14108192751617293,
           0.15897827937281075,
           0.09403318999334075,
           0.0536852825716062,
           0.0012990940099878653,
           0.040342494013322946,
           0.06156267026001589,
           0.07446852250867202,
           0.179849801110805,
           0.07946210705784197,
           0.22485186962593326,
           0.3616291695191174,
           0.04865426950349309
          ],
          [
           0.13999685533675407,
           0.1693378651983715,
           0.09281453874423333,
           0.24031914748010103,
           0.11125707796102059,
           0.3390999515724003,
           0.2631706894721901,
           1,
           0.2479366284007561,
           0.4176716439982001,
           0.1640965566790293,
           0.1027267553562965,
           0.13989577027417277,
           0.18380573188599658,
           0.10543316596949026,
           0.19063931532675932,
           0.2774250817954954,
           0.25405784382225427,
           0.0913955530123625,
           0.40967418492968455,
           0.014544184113141763
          ],
          [
           0.023940658825676725,
           0.09095190723774885,
           0.09776803716094258,
           0.10055570453781036,
           0.04242431876553974,
           0.1864729375970599,
           0.14108192751617293,
           0.2479366284007561,
           1,
           0.20392888860716027,
           0.07061928393179659,
           0.13898944939136418,
           0.051271873503084715,
           0.05114187396975847,
           0.032156999820634934,
           0.06884813144487266,
           0.12911323156352653,
           0.07301731930395879,
           0.13084765890426567,
           0.2563136103662074,
           0.0030644429877593475
          ],
          [
           -0.010528577051620422,
           0.10837684851281916,
           0.048980132426459315,
           0.03855775239280319,
           0.1309031318351964,
           0.1766184265462725,
           0.15897827937281075,
           0.4176716439982001,
           0.20392888860716027,
           1,
           0.06875688672405521,
           0.04851775057725119,
           0.10714624109588847,
           0.1483326209069361,
           0.07063270264873037,
           0.12766222250049716,
           0.12938478170350395,
           0.17516544086517968,
           -0.07686792932930607,
           0.19755820468640223,
           0.006643441581973941
          ],
          [
           0.039610422121092725,
           0.02919310233326563,
           0.14134212093282525,
           0.07561138360466169,
           0.012993230790582282,
           0.09135526394478904,
           0.09403318999334075,
           0.1640965566790293,
           0.07061928393179659,
           0.06875688672405521,
           1,
           0.06736754952128668,
           -0.02129196533745317,
           0.06916532665463623,
           0.0186601076634152,
           -0.01780687634164221,
           0.11603574411652716,
           0.07405638206825249,
           0.012449633845720925,
           0.13380393448219705,
           0.029713951529744452
          ],
          [
           0.08740162047675884,
           0.056186565824687715,
           0.12684626295460102,
           0.14988771185199545,
           0.08585147357402206,
           -0.006721105998229447,
           0.0536852825716062,
           0.1027267553562965,
           0.13898944939136418,
           0.04851775057725119,
           0.06736754952128668,
           1,
           0.10308618944430674,
           0.10246835941884877,
           0.12030143493809445,
           0.07914227225924914,
           0.09834139419914528,
           0.030638695918910656,
           -0.013646602199938004,
           0.08592187193289387,
           0.04056561531886184
          ],
          [
           0.008180970568441368,
           0.04178244044044506,
           0.0927884475808513,
           0.16303906542121088,
           0.059255750295074516,
           -0.11168221926253016,
           0.0012990940099878653,
           0.13989577027417277,
           0.051271873503084715,
           0.10714624109588847,
           -0.02129196533745317,
           0.10308618944430674,
           1,
           0.09791158435491083,
           0.20444903116655147,
           0.09096597620676541,
           -0.011707030734780936,
           -0.03015844915434645,
           -0.08006297951135075,
           0.009753576736527486,
           0.02168911295121898
          ],
          [
           0.05181684277930964,
           0.07257088178332868,
           0.18412029330401056,
           0.14034651872000087,
           0.01913138250149382,
           0.08920935888376383,
           0.040342494013322946,
           0.18380573188599658,
           0.05114187396975847,
           0.1483326209069361,
           0.06916532665463623,
           0.10246835941884877,
           0.09791158435491083,
           1,
           0.08415687549925167,
           0.1020093913580741,
           0.06713496400511591,
           0.1799693888586542,
           0.013815791014688125,
           0.15834344063859182,
           0.05060102062211384
          ],
          [
           0.13971273452953045,
           0.13969346153104323,
           0.20128723322343942,
           0.18274401968648551,
           0.22411790733244608,
           -0.002952239982002738,
           0.06156267026001589,
           0.10543316596949026,
           0.032156999820634934,
           0.07063270264873037,
           0.0186601076634152,
           0.12030143493809445,
           0.20444903116655147,
           0.08415687549925167,
           1,
           0.11551691859713914,
           0.1063668523699525,
           0.011001567968632895,
           0.10731306373353174,
           0.18032717935807205,
           0.02348741855118594
          ],
          [
           0.058570068542194834,
           0.034795731157820725,
           0.13445592041015667,
           0.09889075760226565,
           0.007940972922084481,
           0.0025918115781099803,
           0.07446852250867202,
           0.19063931532675932,
           0.06884813144487266,
           0.12766222250049716,
           -0.01780687634164221,
           0.07914227225924914,
           0.09096597620676541,
           0.1020093913580741,
           0.11551691859713914,
           1,
           0.0716418225077422,
           0.08459360950768414,
           -0.008020706930965332,
           0.09520025477857151,
           -0.03483656742769855
          ],
          [
           0.08466496885221565,
           0.14896322144751298,
           0.115725355332905,
           0.05410722072538181,
           0.04709357421850232,
           0.3137800727026942,
           0.179849801110805,
           0.2774250817954954,
           0.12911323156352653,
           0.12938478170350395,
           0.11603574411652716,
           0.09834139419914528,
           -0.011707030734780936,
           0.06713496400511591,
           0.1063668523699525,
           0.0716418225077422,
           1,
           0.2079950099814363,
           0.17730071406421583,
           0.3289005788148166,
           0.03246244909158799
          ],
          [
           0.020740735220602925,
           0.029255144815260307,
           0.1085736608939148,
           0.11667037979810255,
           0.0030943827966404803,
           0.1454079674258022,
           0.07946210705784197,
           0.25405784382225427,
           0.07301731930395879,
           0.17516544086517968,
           0.07405638206825249,
           0.030638695918910656,
           -0.03015844915434645,
           0.1799693888586542,
           0.011001567968632895,
           0.08459360950768414,
           0.2079950099814363,
           1,
           0.026891264052597078,
           0.18343981461892095,
           -0.001338744937921645
          ],
          [
           0.41509370392877354,
           0.2560531998372869,
           0.32642213435352185,
           0.2238281793074128,
           0.08419607465491044,
           0.6250268661546642,
           0.22485186962593326,
           0.0913955530123625,
           0.13084765890426567,
           -0.07686792932930607,
           0.012449633845720925,
           -0.013646602199938004,
           -0.08006297951135075,
           0.013815791014688125,
           0.10731306373353174,
           -0.008020706930965332,
           0.17730071406421583,
           0.026891264052597078,
           1,
           0.8644110053921186,
           0.010839537843435994
          ],
          [
           0.4637367675879967,
           0.36127102440415854,
           0.5086907424828845,
           0.37267322625051147,
           0.16259090788359282,
           0.8249114453608912,
           0.3616291695191174,
           0.40967418492968455,
           0.2563136103662074,
           0.19755820468640223,
           0.13380393448219705,
           0.08592187193289387,
           0.009753576736527486,
           0.15834344063859182,
           0.18032717935807205,
           0.09520025477857151,
           0.3289005788148166,
           0.18343981461892095,
           0.8644110053921186,
           1,
           0.039363103688983575
          ],
          [
           0.046966735042435266,
           0.025204552964079363,
           0.007564466954838181,
           -0.003588621515256863,
           0.025462061888421716,
           0.06307092324141977,
           0.04865426950349309,
           0.014544184113141763,
           0.0030644429877593475,
           0.006643441581973941,
           0.029713951529744452,
           0.04056561531886184,
           0.02168911295121898,
           0.05060102062211384,
           0.02348741855118594,
           -0.03483656742769855,
           0.03246244909158799,
           -0.001338744937921645,
           0.010839537843435994,
           0.039363103688983575,
           1
          ]
         ],
         "texttemplate": "%{text:.2f}",
         "type": "heatmap",
         "x": [
          "atr20",
          "atr21",
          "atr22",
          "atr23",
          "atr24",
          "atr25",
          "atr26",
          "atr27",
          "atr28",
          "atr29",
          "atr30",
          "atr31",
          "atr32",
          "atr33",
          "atr34",
          "atr35",
          "atr36",
          "atr37",
          "atr38",
          "atr39",
          "meaningful_comparison"
         ],
         "y": [
          "atr20",
          "atr21",
          "atr22",
          "atr23",
          "atr24",
          "atr25",
          "atr26",
          "atr27",
          "atr28",
          "atr29",
          "atr30",
          "atr31",
          "atr32",
          "atr33",
          "atr34",
          "atr35",
          "atr36",
          "atr37",
          "atr38",
          "atr39",
          "meaningful_comparison"
         ],
         "z": [
          [
           1,
           0.14048960333640018,
           0.2698351424237793,
           0.3033463795551482,
           0.1251366296103463,
           0.2774783470800704,
           0.09820250124784924,
           0.13999685533675407,
           0.023940658825676725,
           -0.010528577051620422,
           0.039610422121092725,
           0.08740162047675884,
           0.008180970568441368,
           0.05181684277930964,
           0.13971273452953045,
           0.058570068542194834,
           0.08466496885221565,
           0.020740735220602925,
           0.41509370392877354,
           0.4637367675879967,
           0.046966735042435266
          ],
          [
           0.14048960333640018,
           1,
           0.20133591245670907,
           0.13102744137750244,
           0.09222269256873182,
           0.29250981704040285,
           0.1946411699764659,
           0.1693378651983715,
           0.09095190723774885,
           0.10837684851281916,
           0.02919310233326563,
           0.056186565824687715,
           0.04178244044044506,
           0.07257088178332868,
           0.13969346153104323,
           0.034795731157820725,
           0.14896322144751298,
           0.029255144815260307,
           0.2560531998372869,
           0.36127102440415854,
           0.025204552964079363
          ],
          [
           0.2698351424237793,
           0.20133591245670907,
           1,
           0.3288105084779699,
           0.14188687365533661,
           0.22910417505457606,
           0.12012741735421563,
           0.09281453874423333,
           0.09776803716094258,
           0.048980132426459315,
           0.14134212093282525,
           0.12684626295460102,
           0.0927884475808513,
           0.18412029330401056,
           0.20128723322343942,
           0.13445592041015667,
           0.115725355332905,
           0.1085736608939148,
           0.32642213435352185,
           0.5086907424828845,
           0.007564466954838181
          ],
          [
           0.3033463795551482,
           0.13102744137750244,
           0.3288105084779699,
           1,
           0.016516337606439127,
           0.09341177015787325,
           0.12281830621301366,
           0.24031914748010103,
           0.10055570453781036,
           0.03855775239280319,
           0.07561138360466169,
           0.14988771185199545,
           0.16303906542121088,
           0.14034651872000087,
           0.18274401968648551,
           0.09889075760226565,
           0.05410722072538181,
           0.11667037979810255,
           0.2238281793074128,
           0.37267322625051147,
           -0.003588621515256863
          ],
          [
           0.1251366296103463,
           0.09222269256873182,
           0.14188687365533661,
           0.016516337606439127,
           1,
           0.07493729290099849,
           0.10581766386058136,
           0.11125707796102059,
           0.04242431876553974,
           0.1309031318351964,
           0.012993230790582282,
           0.08585147357402206,
           0.059255750295074516,
           0.01913138250149382,
           0.22411790733244608,
           0.007940972922084481,
           0.04709357421850232,
           0.0030943827966404803,
           0.08419607465491044,
           0.16259090788359282,
           0.025462061888421716
          ],
          [
           0.2774783470800704,
           0.29250981704040285,
           0.22910417505457606,
           0.09341177015787325,
           0.07493729290099849,
           1,
           0.31969575137937684,
           0.3390999515724003,
           0.1864729375970599,
           0.1766184265462725,
           0.09135526394478904,
           -0.006721105998229447,
           -0.11168221926253016,
           0.08920935888376383,
           -0.002952239982002738,
           0.0025918115781099803,
           0.3137800727026942,
           0.1454079674258022,
           0.6250268661546642,
           0.8249114453608912,
           0.06307092324141977
          ],
          [
           0.09820250124784924,
           0.1946411699764659,
           0.12012741735421563,
           0.12281830621301366,
           0.10581766386058136,
           0.31969575137937684,
           1,
           0.2631706894721901,
           0.14108192751617293,
           0.15897827937281075,
           0.09403318999334075,
           0.0536852825716062,
           0.0012990940099878653,
           0.040342494013322946,
           0.06156267026001589,
           0.07446852250867202,
           0.179849801110805,
           0.07946210705784197,
           0.22485186962593326,
           0.3616291695191174,
           0.04865426950349309
          ],
          [
           0.13999685533675407,
           0.1693378651983715,
           0.09281453874423333,
           0.24031914748010103,
           0.11125707796102059,
           0.3390999515724003,
           0.2631706894721901,
           1,
           0.2479366284007561,
           0.4176716439982001,
           0.1640965566790293,
           0.1027267553562965,
           0.13989577027417277,
           0.18380573188599658,
           0.10543316596949026,
           0.19063931532675932,
           0.2774250817954954,
           0.25405784382225427,
           0.0913955530123625,
           0.40967418492968455,
           0.014544184113141763
          ],
          [
           0.023940658825676725,
           0.09095190723774885,
           0.09776803716094258,
           0.10055570453781036,
           0.04242431876553974,
           0.1864729375970599,
           0.14108192751617293,
           0.2479366284007561,
           1,
           0.20392888860716027,
           0.07061928393179659,
           0.13898944939136418,
           0.051271873503084715,
           0.05114187396975847,
           0.032156999820634934,
           0.06884813144487266,
           0.12911323156352653,
           0.07301731930395879,
           0.13084765890426567,
           0.2563136103662074,
           0.0030644429877593475
          ],
          [
           -0.010528577051620422,
           0.10837684851281916,
           0.048980132426459315,
           0.03855775239280319,
           0.1309031318351964,
           0.1766184265462725,
           0.15897827937281075,
           0.4176716439982001,
           0.20392888860716027,
           1,
           0.06875688672405521,
           0.04851775057725119,
           0.10714624109588847,
           0.1483326209069361,
           0.07063270264873037,
           0.12766222250049716,
           0.12938478170350395,
           0.17516544086517968,
           -0.07686792932930607,
           0.19755820468640223,
           0.006643441581973941
          ],
          [
           0.039610422121092725,
           0.02919310233326563,
           0.14134212093282525,
           0.07561138360466169,
           0.012993230790582282,
           0.09135526394478904,
           0.09403318999334075,
           0.1640965566790293,
           0.07061928393179659,
           0.06875688672405521,
           1,
           0.06736754952128668,
           -0.02129196533745317,
           0.06916532665463623,
           0.0186601076634152,
           -0.01780687634164221,
           0.11603574411652716,
           0.07405638206825249,
           0.012449633845720925,
           0.13380393448219705,
           0.029713951529744452
          ],
          [
           0.08740162047675884,
           0.056186565824687715,
           0.12684626295460102,
           0.14988771185199545,
           0.08585147357402206,
           -0.006721105998229447,
           0.0536852825716062,
           0.1027267553562965,
           0.13898944939136418,
           0.04851775057725119,
           0.06736754952128668,
           1,
           0.10308618944430674,
           0.10246835941884877,
           0.12030143493809445,
           0.07914227225924914,
           0.09834139419914528,
           0.030638695918910656,
           -0.013646602199938004,
           0.08592187193289387,
           0.04056561531886184
          ],
          [
           0.008180970568441368,
           0.04178244044044506,
           0.0927884475808513,
           0.16303906542121088,
           0.059255750295074516,
           -0.11168221926253016,
           0.0012990940099878653,
           0.13989577027417277,
           0.051271873503084715,
           0.10714624109588847,
           -0.02129196533745317,
           0.10308618944430674,
           1,
           0.09791158435491083,
           0.20444903116655147,
           0.09096597620676541,
           -0.011707030734780936,
           -0.03015844915434645,
           -0.08006297951135075,
           0.009753576736527486,
           0.02168911295121898
          ],
          [
           0.05181684277930964,
           0.07257088178332868,
           0.18412029330401056,
           0.14034651872000087,
           0.01913138250149382,
           0.08920935888376383,
           0.040342494013322946,
           0.18380573188599658,
           0.05114187396975847,
           0.1483326209069361,
           0.06916532665463623,
           0.10246835941884877,
           0.09791158435491083,
           1,
           0.08415687549925167,
           0.1020093913580741,
           0.06713496400511591,
           0.1799693888586542,
           0.013815791014688125,
           0.15834344063859182,
           0.05060102062211384
          ],
          [
           0.13971273452953045,
           0.13969346153104323,
           0.20128723322343942,
           0.18274401968648551,
           0.22411790733244608,
           -0.002952239982002738,
           0.06156267026001589,
           0.10543316596949026,
           0.032156999820634934,
           0.07063270264873037,
           0.0186601076634152,
           0.12030143493809445,
           0.20444903116655147,
           0.08415687549925167,
           1,
           0.11551691859713914,
           0.1063668523699525,
           0.011001567968632895,
           0.10731306373353174,
           0.18032717935807205,
           0.02348741855118594
          ],
          [
           0.058570068542194834,
           0.034795731157820725,
           0.13445592041015667,
           0.09889075760226565,
           0.007940972922084481,
           0.0025918115781099803,
           0.07446852250867202,
           0.19063931532675932,
           0.06884813144487266,
           0.12766222250049716,
           -0.01780687634164221,
           0.07914227225924914,
           0.09096597620676541,
           0.1020093913580741,
           0.11551691859713914,
           1,
           0.0716418225077422,
           0.08459360950768414,
           -0.008020706930965332,
           0.09520025477857151,
           -0.03483656742769855
          ],
          [
           0.08466496885221565,
           0.14896322144751298,
           0.115725355332905,
           0.05410722072538181,
           0.04709357421850232,
           0.3137800727026942,
           0.179849801110805,
           0.2774250817954954,
           0.12911323156352653,
           0.12938478170350395,
           0.11603574411652716,
           0.09834139419914528,
           -0.011707030734780936,
           0.06713496400511591,
           0.1063668523699525,
           0.0716418225077422,
           1,
           0.2079950099814363,
           0.17730071406421583,
           0.3289005788148166,
           0.03246244909158799
          ],
          [
           0.020740735220602925,
           0.029255144815260307,
           0.1085736608939148,
           0.11667037979810255,
           0.0030943827966404803,
           0.1454079674258022,
           0.07946210705784197,
           0.25405784382225427,
           0.07301731930395879,
           0.17516544086517968,
           0.07405638206825249,
           0.030638695918910656,
           -0.03015844915434645,
           0.1799693888586542,
           0.011001567968632895,
           0.08459360950768414,
           0.2079950099814363,
           1,
           0.026891264052597078,
           0.18343981461892095,
           -0.001338744937921645
          ],
          [
           0.41509370392877354,
           0.2560531998372869,
           0.32642213435352185,
           0.2238281793074128,
           0.08419607465491044,
           0.6250268661546642,
           0.22485186962593326,
           0.0913955530123625,
           0.13084765890426567,
           -0.07686792932930607,
           0.012449633845720925,
           -0.013646602199938004,
           -0.08006297951135075,
           0.013815791014688125,
           0.10731306373353174,
           -0.008020706930965332,
           0.17730071406421583,
           0.026891264052597078,
           1,
           0.8644110053921186,
           0.010839537843435994
          ],
          [
           0.4637367675879967,
           0.36127102440415854,
           0.5086907424828845,
           0.37267322625051147,
           0.16259090788359282,
           0.8249114453608912,
           0.3616291695191174,
           0.40967418492968455,
           0.2563136103662074,
           0.19755820468640223,
           0.13380393448219705,
           0.08592187193289387,
           0.009753576736527486,
           0.15834344063859182,
           0.18032717935807205,
           0.09520025477857151,
           0.3289005788148166,
           0.18343981461892095,
           0.8644110053921186,
           1,
           0.039363103688983575
          ],
          [
           0.046966735042435266,
           0.025204552964079363,
           0.007564466954838181,
           -0.003588621515256863,
           0.025462061888421716,
           0.06307092324141977,
           0.04865426950349309,
           0.014544184113141763,
           0.0030644429877593475,
           0.006643441581973941,
           0.029713951529744452,
           0.04056561531886184,
           0.02168911295121898,
           0.05060102062211384,
           0.02348741855118594,
           -0.03483656742769855,
           0.03246244909158799,
           -0.001338744937921645,
           0.010839537843435994,
           0.039363103688983575,
           1
          ]
         ]
        }
       ],
       "layout": {
        "template": {
         "data": {
          "bar": [
           {
            "error_x": {
             "color": "#2a3f5f"
            },
            "error_y": {
             "color": "#2a3f5f"
            },
            "marker": {
             "line": {
              "color": "#E5ECF6",
              "width": 0.5
             },
             "pattern": {
              "fillmode": "overlay",
              "size": 10,
              "solidity": 0.2
             }
            },
            "type": "bar"
           }
          ],
          "barpolar": [
           {
            "marker": {
             "line": {
              "color": "#E5ECF6",
              "width": 0.5
             },
             "pattern": {
              "fillmode": "overlay",
              "size": 10,
              "solidity": 0.2
             }
            },
            "type": "barpolar"
           }
          ],
          "carpet": [
           {
            "aaxis": {
             "endlinecolor": "#2a3f5f",
             "gridcolor": "white",
             "linecolor": "white",
             "minorgridcolor": "white",
             "startlinecolor": "#2a3f5f"
            },
            "baxis": {
             "endlinecolor": "#2a3f5f",
             "gridcolor": "white",
             "linecolor": "white",
             "minorgridcolor": "white",
             "startlinecolor": "#2a3f5f"
            },
            "type": "carpet"
           }
          ],
          "choropleth": [
           {
            "colorbar": {
             "outlinewidth": 0,
             "ticks": ""
            },
            "type": "choropleth"
           }
          ],
          "contour": [
           {
            "colorbar": {
             "outlinewidth": 0,
             "ticks": ""
            },
            "colorscale": [
             [
              0,
              "#0d0887"
             ],
             [
              0.1111111111111111,
              "#46039f"
             ],
             [
              0.2222222222222222,
              "#7201a8"
             ],
             [
              0.3333333333333333,
              "#9c179e"
             ],
             [
              0.4444444444444444,
              "#bd3786"
             ],
             [
              0.5555555555555556,
              "#d8576b"
             ],
             [
              0.6666666666666666,
              "#ed7953"
             ],
             [
              0.7777777777777778,
              "#fb9f3a"
             ],
             [
              0.8888888888888888,
              "#fdca26"
             ],
             [
              1,
              "#f0f921"
             ]
            ],
            "type": "contour"
           }
          ],
          "contourcarpet": [
           {
            "colorbar": {
             "outlinewidth": 0,
             "ticks": ""
            },
            "type": "contourcarpet"
           }
          ],
          "heatmap": [
           {
            "colorbar": {
             "outlinewidth": 0,
             "ticks": ""
            },
            "colorscale": [
             [
              0,
              "#0d0887"
             ],
             [
              0.1111111111111111,
              "#46039f"
             ],
             [
              0.2222222222222222,
              "#7201a8"
             ],
             [
              0.3333333333333333,
              "#9c179e"
             ],
             [
              0.4444444444444444,
              "#bd3786"
             ],
             [
              0.5555555555555556,
              "#d8576b"
             ],
             [
              0.6666666666666666,
              "#ed7953"
             ],
             [
              0.7777777777777778,
              "#fb9f3a"
             ],
             [
              0.8888888888888888,
              "#fdca26"
             ],
             [
              1,
              "#f0f921"
             ]
            ],
            "type": "heatmap"
           }
          ],
          "heatmapgl": [
           {
            "colorbar": {
             "outlinewidth": 0,
             "ticks": ""
            },
            "colorscale": [
             [
              0,
              "#0d0887"
             ],
             [
              0.1111111111111111,
              "#46039f"
             ],
             [
              0.2222222222222222,
              "#7201a8"
             ],
             [
              0.3333333333333333,
              "#9c179e"
             ],
             [
              0.4444444444444444,
              "#bd3786"
             ],
             [
              0.5555555555555556,
              "#d8576b"
             ],
             [
              0.6666666666666666,
              "#ed7953"
             ],
             [
              0.7777777777777778,
              "#fb9f3a"
             ],
             [
              0.8888888888888888,
              "#fdca26"
             ],
             [
              1,
              "#f0f921"
             ]
            ],
            "type": "heatmapgl"
           }
          ],
          "histogram": [
           {
            "marker": {
             "pattern": {
              "fillmode": "overlay",
              "size": 10,
              "solidity": 0.2
             }
            },
            "type": "histogram"
           }
          ],
          "histogram2d": [
           {
            "colorbar": {
             "outlinewidth": 0,
             "ticks": ""
            },
            "colorscale": [
             [
              0,
              "#0d0887"
             ],
             [
              0.1111111111111111,
              "#46039f"
             ],
             [
              0.2222222222222222,
              "#7201a8"
             ],
             [
              0.3333333333333333,
              "#9c179e"
             ],
             [
              0.4444444444444444,
              "#bd3786"
             ],
             [
              0.5555555555555556,
              "#d8576b"
             ],
             [
              0.6666666666666666,
              "#ed7953"
             ],
             [
              0.7777777777777778,
              "#fb9f3a"
             ],
             [
              0.8888888888888888,
              "#fdca26"
             ],
             [
              1,
              "#f0f921"
             ]
            ],
            "type": "histogram2d"
           }
          ],
          "histogram2dcontour": [
           {
            "colorbar": {
             "outlinewidth": 0,
             "ticks": ""
            },
            "colorscale": [
             [
              0,
              "#0d0887"
             ],
             [
              0.1111111111111111,
              "#46039f"
             ],
             [
              0.2222222222222222,
              "#7201a8"
             ],
             [
              0.3333333333333333,
              "#9c179e"
             ],
             [
              0.4444444444444444,
              "#bd3786"
             ],
             [
              0.5555555555555556,
              "#d8576b"
             ],
             [
              0.6666666666666666,
              "#ed7953"
             ],
             [
              0.7777777777777778,
              "#fb9f3a"
             ],
             [
              0.8888888888888888,
              "#fdca26"
             ],
             [
              1,
              "#f0f921"
             ]
            ],
            "type": "histogram2dcontour"
           }
          ],
          "mesh3d": [
           {
            "colorbar": {
             "outlinewidth": 0,
             "ticks": ""
            },
            "type": "mesh3d"
           }
          ],
          "parcoords": [
           {
            "line": {
             "colorbar": {
              "outlinewidth": 0,
              "ticks": ""
             }
            },
            "type": "parcoords"
           }
          ],
          "pie": [
           {
            "automargin": true,
            "type": "pie"
           }
          ],
          "scatter": [
           {
            "fillpattern": {
             "fillmode": "overlay",
             "size": 10,
             "solidity": 0.2
            },
            "type": "scatter"
           }
          ],
          "scatter3d": [
           {
            "line": {
             "colorbar": {
              "outlinewidth": 0,
              "ticks": ""
             }
            },
            "marker": {
             "colorbar": {
              "outlinewidth": 0,
              "ticks": ""
             }
            },
            "type": "scatter3d"
           }
          ],
          "scattercarpet": [
           {
            "marker": {
             "colorbar": {
              "outlinewidth": 0,
              "ticks": ""
             }
            },
            "type": "scattercarpet"
           }
          ],
          "scattergeo": [
           {
            "marker": {
             "colorbar": {
              "outlinewidth": 0,
              "ticks": ""
             }
            },
            "type": "scattergeo"
           }
          ],
          "scattergl": [
           {
            "marker": {
             "colorbar": {
              "outlinewidth": 0,
              "ticks": ""
             }
            },
            "type": "scattergl"
           }
          ],
          "scattermapbox": [
           {
            "marker": {
             "colorbar": {
              "outlinewidth": 0,
              "ticks": ""
             }
            },
            "type": "scattermapbox"
           }
          ],
          "scatterpolar": [
           {
            "marker": {
             "colorbar": {
              "outlinewidth": 0,
              "ticks": ""
             }
            },
            "type": "scatterpolar"
           }
          ],
          "scatterpolargl": [
           {
            "marker": {
             "colorbar": {
              "outlinewidth": 0,
              "ticks": ""
             }
            },
            "type": "scatterpolargl"
           }
          ],
          "scatterternary": [
           {
            "marker": {
             "colorbar": {
              "outlinewidth": 0,
              "ticks": ""
             }
            },
            "type": "scatterternary"
           }
          ],
          "surface": [
           {
            "colorbar": {
             "outlinewidth": 0,
             "ticks": ""
            },
            "colorscale": [
             [
              0,
              "#0d0887"
             ],
             [
              0.1111111111111111,
              "#46039f"
             ],
             [
              0.2222222222222222,
              "#7201a8"
             ],
             [
              0.3333333333333333,
              "#9c179e"
             ],
             [
              0.4444444444444444,
              "#bd3786"
             ],
             [
              0.5555555555555556,
              "#d8576b"
             ],
             [
              0.6666666666666666,
              "#ed7953"
             ],
             [
              0.7777777777777778,
              "#fb9f3a"
             ],
             [
              0.8888888888888888,
              "#fdca26"
             ],
             [
              1,
              "#f0f921"
             ]
            ],
            "type": "surface"
           }
          ],
          "table": [
           {
            "cells": {
             "fill": {
              "color": "#EBF0F8"
             },
             "line": {
              "color": "white"
             }
            },
            "header": {
             "fill": {
              "color": "#C8D4E3"
             },
             "line": {
              "color": "white"
             }
            },
            "type": "table"
           }
          ]
         },
         "layout": {
          "annotationdefaults": {
           "arrowcolor": "#2a3f5f",
           "arrowhead": 0,
           "arrowwidth": 1
          },
          "autotypenumbers": "strict",
          "coloraxis": {
           "colorbar": {
            "outlinewidth": 0,
            "ticks": ""
           }
          },
          "colorscale": {
           "diverging": [
            [
             0,
             "#8e0152"
            ],
            [
             0.1,
             "#c51b7d"
            ],
            [
             0.2,
             "#de77ae"
            ],
            [
             0.3,
             "#f1b6da"
            ],
            [
             0.4,
             "#fde0ef"
            ],
            [
             0.5,
             "#f7f7f7"
            ],
            [
             0.6,
             "#e6f5d0"
            ],
            [
             0.7,
             "#b8e186"
            ],
            [
             0.8,
             "#7fbc41"
            ],
            [
             0.9,
             "#4d9221"
            ],
            [
             1,
             "#276419"
            ]
           ],
           "sequential": [
            [
             0,
             "#0d0887"
            ],
            [
             0.1111111111111111,
             "#46039f"
            ],
            [
             0.2222222222222222,
             "#7201a8"
            ],
            [
             0.3333333333333333,
             "#9c179e"
            ],
            [
             0.4444444444444444,
             "#bd3786"
            ],
            [
             0.5555555555555556,
             "#d8576b"
            ],
            [
             0.6666666666666666,
             "#ed7953"
            ],
            [
             0.7777777777777778,
             "#fb9f3a"
            ],
            [
             0.8888888888888888,
             "#fdca26"
            ],
            [
             1,
             "#f0f921"
            ]
           ],
           "sequentialminus": [
            [
             0,
             "#0d0887"
            ],
            [
             0.1111111111111111,
             "#46039f"
            ],
            [
             0.2222222222222222,
             "#7201a8"
            ],
            [
             0.3333333333333333,
             "#9c179e"
            ],
            [
             0.4444444444444444,
             "#bd3786"
            ],
            [
             0.5555555555555556,
             "#d8576b"
            ],
            [
             0.6666666666666666,
             "#ed7953"
            ],
            [
             0.7777777777777778,
             "#fb9f3a"
            ],
            [
             0.8888888888888888,
             "#fdca26"
            ],
            [
             1,
             "#f0f921"
            ]
           ]
          },
          "colorway": [
           "#636efa",
           "#EF553B",
           "#00cc96",
           "#ab63fa",
           "#FFA15A",
           "#19d3f3",
           "#FF6692",
           "#B6E880",
           "#FF97FF",
           "#FECB52"
          ],
          "font": {
           "color": "#2a3f5f"
          },
          "geo": {
           "bgcolor": "white",
           "lakecolor": "white",
           "landcolor": "#E5ECF6",
           "showlakes": true,
           "showland": true,
           "subunitcolor": "white"
          },
          "hoverlabel": {
           "align": "left"
          },
          "hovermode": "closest",
          "mapbox": {
           "style": "light"
          },
          "paper_bgcolor": "white",
          "plot_bgcolor": "#E5ECF6",
          "polar": {
           "angularaxis": {
            "gridcolor": "white",
            "linecolor": "white",
            "ticks": ""
           },
           "bgcolor": "#E5ECF6",
           "radialaxis": {
            "gridcolor": "white",
            "linecolor": "white",
            "ticks": ""
           }
          },
          "scene": {
           "xaxis": {
            "backgroundcolor": "#E5ECF6",
            "gridcolor": "white",
            "gridwidth": 2,
            "linecolor": "white",
            "showbackground": true,
            "ticks": "",
            "zerolinecolor": "white"
           },
           "yaxis": {
            "backgroundcolor": "#E5ECF6",
            "gridcolor": "white",
            "gridwidth": 2,
            "linecolor": "white",
            "showbackground": true,
            "ticks": "",
            "zerolinecolor": "white"
           },
           "zaxis": {
            "backgroundcolor": "#E5ECF6",
            "gridcolor": "white",
            "gridwidth": 2,
            "linecolor": "white",
            "showbackground": true,
            "ticks": "",
            "zerolinecolor": "white"
           }
          },
          "shapedefaults": {
           "line": {
            "color": "#2a3f5f"
           }
          },
          "ternary": {
           "aaxis": {
            "gridcolor": "white",
            "linecolor": "white",
            "ticks": ""
           },
           "baxis": {
            "gridcolor": "white",
            "linecolor": "white",
            "ticks": ""
           },
           "bgcolor": "#E5ECF6",
           "caxis": {
            "gridcolor": "white",
            "linecolor": "white",
            "ticks": ""
           }
          },
          "title": {
           "x": 0.05
          },
          "xaxis": {
           "automargin": true,
           "gridcolor": "white",
           "linecolor": "white",
           "ticks": "",
           "title": {
            "standoff": 15
           },
           "zerolinecolor": "white",
           "zerolinewidth": 2
          },
          "yaxis": {
           "automargin": true,
           "gridcolor": "white",
           "linecolor": "white",
           "ticks": "",
           "title": {
            "standoff": 15
           },
           "zerolinecolor": "white",
           "zerolinewidth": 2
          }
         }
        }
       }
      }
     },
     "metadata": {},
     "output_type": "display_data"
    }
   ],
   "source": [
    "dataframe = regular_sentences.join([y])\n",
    "correlation_matrix(dataframe)"
   ]
  },
  {
   "cell_type": "code",
   "execution_count": 150,
   "metadata": {},
   "outputs": [
    {
     "name": "stdout",
     "output_type": "stream",
     "text": [
      "Selected Feature Names: ['atr25']\n",
      "Accuracy: 70.61%\n",
      "Selected Feature Names: ['atr25', 'atr39']\n",
      "Accuracy: 77.96%\n",
      "Selected Feature Names: ['atr25', 'atr39', 'atr20']\n",
      "Accuracy: 80.51%\n",
      "Selected Feature Names: ['atr25', 'atr39', 'atr20', 'atr26']\n",
      "Accuracy: 85.94%\n",
      "Selected Feature Names: ['atr25', 'atr39', 'atr20', 'atr26', 'atr33']\n",
      "Accuracy: 87.22%\n",
      "Selected Feature Names: ['atr25', 'atr39', 'atr20', 'atr26', 'atr33', 'atr31']\n",
      "Accuracy: 89.78%\n",
      "Selected Feature Names: ['atr25', 'atr39', 'atr20', 'atr26', 'atr33', 'atr31', 'atr38']\n",
      "Accuracy: 90.10%\n",
      "Selected Feature Names: ['atr25', 'atr39', 'atr20', 'atr26', 'atr33', 'atr31', 'atr38', 'atr30']\n",
      "Accuracy: 90.73%\n",
      "Selected Feature Names: ['atr25', 'atr39', 'atr20', 'atr26', 'atr33', 'atr31', 'atr38', 'atr30', 'atr35']\n",
      "Accuracy: 91.69%\n",
      "Selected Feature Names: ['atr25', 'atr39', 'atr20', 'atr26', 'atr33', 'atr31', 'atr38', 'atr30', 'atr35', 'atr36']\n",
      "Accuracy: 93.61%\n",
      "Selected Feature Names: ['atr25', 'atr39', 'atr20', 'atr26', 'atr33', 'atr31', 'atr38', 'atr30', 'atr35', 'atr36', 'atr34']\n",
      "Accuracy: 92.33%\n",
      "Selected Feature Names: ['atr25', 'atr39', 'atr20', 'atr26', 'atr33', 'atr31', 'atr38', 'atr30', 'atr35', 'atr36', 'atr34', 'atr24']\n",
      "Accuracy: 93.29%\n",
      "Selected Feature Names: ['atr25', 'atr39', 'atr20', 'atr26', 'atr33', 'atr31', 'atr38', 'atr30', 'atr35', 'atr36', 'atr34', 'atr24', 'atr21']\n",
      "Accuracy: 92.01%\n",
      "Selected Feature Names: ['atr25', 'atr39', 'atr20', 'atr26', 'atr33', 'atr31', 'atr38', 'atr30', 'atr35', 'atr36', 'atr34', 'atr24', 'atr21', 'atr27']\n",
      "Accuracy: 92.01%\n",
      "Selected Feature Names: ['atr25', 'atr39', 'atr20', 'atr26', 'atr33', 'atr31', 'atr38', 'atr30', 'atr35', 'atr36', 'atr34', 'atr24', 'atr21', 'atr27', 'atr32']\n",
      "Accuracy: 91.05%\n",
      "Selected Feature Names: ['atr25', 'atr39', 'atr20', 'atr26', 'atr33', 'atr31', 'atr38', 'atr30', 'atr35', 'atr36', 'atr34', 'atr24', 'atr21', 'atr27', 'atr32', 'atr22']\n",
      "Accuracy: 92.65%\n",
      "Selected Feature Names: ['atr25', 'atr39', 'atr20', 'atr26', 'atr33', 'atr31', 'atr38', 'atr30', 'atr35', 'atr36', 'atr34', 'atr24', 'atr21', 'atr27', 'atr32', 'atr22', 'atr29']\n",
      "Accuracy: 89.46%\n",
      "Selected Feature Names: ['atr25', 'atr39', 'atr20', 'atr26', 'atr33', 'atr31', 'atr38', 'atr30', 'atr35', 'atr36', 'atr34', 'atr24', 'atr21', 'atr27', 'atr32', 'atr22', 'atr29', 'atr23']\n",
      "Accuracy: 91.37%\n",
      "Selected Feature Names: ['atr25', 'atr39', 'atr20', 'atr26', 'atr33', 'atr31', 'atr38', 'atr30', 'atr35', 'atr36', 'atr34', 'atr24', 'atr21', 'atr27', 'atr32', 'atr22', 'atr29', 'atr23', 'atr28']\n",
      "Accuracy: 91.05%\n",
      "Selected Feature Names: ['atr25', 'atr39', 'atr20', 'atr26', 'atr33', 'atr31', 'atr38', 'atr30', 'atr35', 'atr36', 'atr34', 'atr24', 'atr21', 'atr27', 'atr32', 'atr22', 'atr29', 'atr23', 'atr28', 'atr37']\n",
      "Accuracy: 91.37%\n"
     ]
    }
   ],
   "source": [
    "for i in dict(enumerate(regular_sentences)):\n",
    "    accuracy = model(regular_sentences, y, i+1)\n",
    "    print(\"Accuracy: %.2f%%\" % (accuracy * 100.0))"
   ]
  },
  {
   "cell_type": "markdown",
   "metadata": {},
   "source": [
    "## Reference-Based Predictor"
   ]
  },
  {
   "cell_type": "code",
   "execution_count": 151,
   "metadata": {},
   "outputs": [],
   "source": [
    "reference_based = data[['num_ref', 'num_ref_3years', 'arxiv', 'neurips', 'iclr', 'icml', 'aaai', 'iccv', 'cvpr', 'emnlp', 'acl', 'naacl', 'eccv', 'icra', 'icassp', 'ijcai', 'aistats', 'sigkdd', 'neuralcom', 'ieee_tran', 'acm_tran', 'mit_press', 'nature', 'jmlr']]"
   ]
  },
  {
   "cell_type": "code",
   "execution_count": 152,
   "metadata": {},
   "outputs": [
    {
     "data": {
      "application/vnd.plotly.v1+json": {
       "config": {
        "plotlyServerURL": "https://plot.ly"
       },
       "data": [
        {
         "text": [
          [
           1,
           0.609983601636342,
           0.2810677746184993,
           0.2953552532202091,
           0.5195159396280239,
           0.41233857859206635,
           0.17631035016811958,
           0.19594179465138054,
           0.2149583502101354,
           0.04559815692015566,
           0.14558421779239947,
           0.13176957957302923,
           0.14742371171776655,
           0.14931796357496446,
           0.035090926923183635,
           0.1769335373990397,
           0.14585829737486508,
           0.061122664550194244,
           0.1323410789361636,
           0.15594490903005584,
           0.05857541851452794,
           0.06910591559385736,
           0.10658046235313949,
           0.20623887356566334,
           0.07678708691064272
          ],
          [
           0.609983601636342,
           1,
           0.3360873846403328,
           0.41266174669282507,
           0.33258606660253026,
           0.23067630505050885,
           0.09070255324090352,
           0.15415767271552433,
           0.18956111306100779,
           0.10621693748632503,
           0.12638324272460047,
           0.13483631613790095,
           0.14890633826788613,
           0.10217155240688239,
           -0.020867859831792568,
           0.06283419096098378,
           -0.016650866026651435,
           -0.03331966301755121,
           -0.01274136671977797,
           -0.10365203856648625,
           -0.037694415652755726,
           -0.0477307242729301,
           -0.0398811990511959,
           -0.05462463513572048,
           0.06573112819103714
          ],
          [
           0.2810677746184993,
           0.3360873846403328,
           1,
           -0.20306348111379932,
           0.11785865523735287,
           -0.020164079674082108,
           -0.011668101306112023,
           -0.043289657202584486,
           -0.040706871244485174,
           -0.05886577870493847,
           -0.06405414398284293,
           -0.05787106215014769,
           -0.017339541402363736,
           0.032027684820536494,
           -0.05027110473459231,
           -0.06076797016730216,
           -0.05954876381017788,
           -0.016586526579224773,
           0.04634551583999445,
           -0.06955604305068808,
           -0.05167435725729654,
           0.0832866827817139,
           -0.0330520317695714,
           -0.0022370528591683387,
           0.03379849267299479
          ],
          [
           0.2953552532202091,
           0.41266174669282507,
           -0.20306348111379932,
           1,
           0.3327793729978352,
           0.3231781003209933,
           0.06905034219144471,
           0.11463616697664522,
           0.11438840328057782,
           0.02625132353733902,
           0.05920667728960317,
           0.05602409557604139,
           0.0716434762239426,
           0.002432601531166314,
           -0.01382718320712835,
           0.06844759572795585,
           0.03865395459967036,
           -0.00905999635558932,
           -0.0016417315843394414,
           -0.08644435532607372,
           -0.06675370249013722,
           -0.04777977905732153,
           -0.07263280988064753,
           -0.006204197421555128,
           0.03437978830203973
          ],
          [
           0.5195159396280239,
           0.33258606660253026,
           0.11785865523735287,
           0.3327793729978352,
           1,
           0.4671764668320668,
           0.13225382979131797,
           0.1215958103883611,
           0.08217469211621255,
           -0.10405213064115479,
           -0.10930499000995109,
           -0.07321001087908803,
           0.0559961216213356,
           0.05304557379175867,
           -0.033155568993558406,
           0.12361363474070354,
           0.19100269307715878,
           -0.023577994231332354,
           0.10098463534476312,
           0.017564925676395993,
           -0.0288185130800739,
           0.08107291748336938,
           -0.04233076283972121,
           0.22089230444367194,
           0.02649298562253547
          ],
          [
           0.41233857859206635,
           0.23067630505050885,
           -0.020164079674082108,
           0.3231781003209933,
           0.4671764668320668,
           1,
           0.1712241305986347,
           -0.006218471964150811,
           -0.05529836701336858,
           -0.11291395947227217,
           -0.07052493717649097,
           -0.04354446876465152,
           -0.08553283286808819,
           0.05525751180483591,
           -0.04059166711892728,
           0.20540681773545388,
           0.22722666147762344,
           0.003877466665558673,
           0.10313791642547009,
           -0.025173274037291846,
           -0.05364401531580008,
           0.10548095120237581,
           -0.02002861451949174,
           0.23070324290200891,
           0.0532653050397565
          ],
          [
           0.17631035016811958,
           0.09070255324090352,
           -0.011668101306112023,
           0.06905034219144471,
           0.13225382979131797,
           0.1712241305986347,
           1,
           -0.02816780749027818,
           -0.01435389164884052,
           0.15122906658158955,
           0.15400202161347276,
           0.091144064354195,
           -0.008927528090306704,
           0.10689118447089142,
           -0.08404743369409004,
           0.26505458987609537,
           0.059253292977661944,
           0.08650710695029226,
           -0.03133152965444356,
           -0.06507440203851496,
           -0.02325294918786948,
           0.05249103826474313,
           -0.014268377521900716,
           0.044445771401158386,
           -0.009189938235820233
          ],
          [
           0.19594179465138054,
           0.15415767271552433,
           -0.043289657202584486,
           0.11463616697664522,
           0.1215958103883611,
           -0.006218471964150811,
           -0.02816780749027818,
           1,
           0.5883094694271477,
           -0.07256900668754461,
           -0.08012840478295846,
           -0.07443434526659228,
           0.5085274371709372,
           -0.006592757479108147,
           -0.0038024846258868797,
           -0.02558942073661857,
           -0.020210458082360598,
           -0.034967733354945164,
           -0.002168628454381549,
           0.13756237128801577,
           0.050716635289168706,
           -0.07921967139953871,
           -0.07317909814567557,
           -0.05618363064703267,
           -0.03460945254714848
          ],
          [
           0.2149583502101354,
           0.18956111306100779,
           -0.040706871244485174,
           0.11438840328057782,
           0.08217469211621255,
           -0.05529836701336858,
           -0.01435389164884052,
           0.5883094694271477,
           1,
           -0.0899055525268758,
           -0.09746091729481694,
           -0.08267530581712167,
           0.6245011874892,
           0.0361030223338141,
           -0.02877322055515561,
           -0.04185569770310909,
           -0.06928495139557002,
           -0.03606887293400193,
           -0.06855836615046836,
           0.153065244377808,
           0.05906946389426182,
           -0.10498129683442602,
           -0.10479209455530257,
           -0.09217706402589262,
           -0.04637416294160163
          ],
          [
           0.04559815692015566,
           0.10621693748632503,
           -0.05886577870493847,
           0.02625132353733902,
           -0.10405213064115479,
           -0.11291395947227217,
           0.15122906658158955,
           -0.07256900668754461,
           -0.0899055525268758,
           1,
           0.6297270081803702,
           0.5830146902450188,
           -0.03968395821434836,
           -0.05600798817456026,
           0.04742400029382645,
           0.05523351803656262,
           -0.02741229262344684,
           -0.01424102367086017,
           0.03679555625994925,
           -0.09491764746473848,
           -0.023117135794712553,
           -0.024382556740391498,
           -0.07868865861110122,
           -0.059670526728941645,
           0.01910951411725713
          ],
          [
           0.14558421779239947,
           0.12638324272460047,
           -0.06405414398284293,
           0.05920667728960317,
           -0.10930499000995109,
           -0.07052493717649097,
           0.15400202161347276,
           -0.08012840478295846,
           -0.09746091729481694,
           0.6297270081803702,
           1,
           0.7844524588687067,
           -0.08959381921685426,
           -0.0645748381064844,
           0.040738138745523664,
           0.0843770276807605,
           -0.02489436069664217,
           -0.009727072547616199,
           -0.007752965155922761,
           -0.11256809389581295,
           -0.022247747395105814,
           -0.025486855018263893,
           -0.08542182450702397,
           -0.04270392109938528,
           0.014838838871672477
          ],
          [
           0.13176957957302923,
           0.13483631613790095,
           -0.05787106215014769,
           0.05602409557604139,
           -0.07321001087908803,
           -0.04354446876465152,
           0.091144064354195,
           -0.07443434526659228,
           -0.08267530581712167,
           0.5830146902450188,
           0.7844524588687067,
           1,
           -0.09132714774192308,
           -0.05649477014229798,
           0.04819786505018279,
           0.10434391577247473,
           0.0008895327680240052,
           0.009037261434459962,
           0.005970563049023344,
           -0.08626222493511894,
           -0.025973946270094573,
           -0.03159817031312889,
           -0.06683554040382021,
           -0.03745495590997758,
           -0.007200401361103074
          ],
          [
           0.14742371171776655,
           0.14890633826788613,
           -0.017339541402363736,
           0.0716434762239426,
           0.0559961216213356,
           -0.08553283286808819,
           -0.008927528090306704,
           0.5085274371709372,
           0.6245011874892,
           -0.03968395821434836,
           -0.08959381921685426,
           -0.09132714774192308,
           1,
           0.03318150393578644,
           -0.022708481327658153,
           -0.0583472298650192,
           -0.08176967265842117,
           -0.029736139685120868,
           -0.04751010313981376,
           0.06954222744367711,
           0.07509731546872071,
           -0.09205368379546586,
           -0.07805568211467737,
           -0.10156271330652718,
           -0.037293776702544815
          ],
          [
           0.14931796357496446,
           0.10217155240688239,
           0.032027684820536494,
           0.002432601531166314,
           0.05304557379175867,
           0.05525751180483591,
           0.10689118447089142,
           -0.006592757479108147,
           0.0361030223338141,
           -0.05600798817456026,
           -0.0645748381064844,
           -0.05649477014229798,
           0.03318150393578644,
           1,
           -0.061122654999001186,
           0.04897305592243393,
           0.029093197884897566,
           -0.049329371339206424,
           -0.05113529824925568,
           0.07900080530737348,
           -0.011236238240175833,
           -0.004805854935812705,
           0.015165642268352394,
           0.00488927019896316,
           -0.03672163681253054
          ],
          [
           0.035090926923183635,
           -0.020867859831792568,
           -0.05027110473459231,
           -0.01382718320712835,
           -0.033155568993558406,
           -0.04059166711892728,
           -0.08404743369409004,
           -0.0038024846258868797,
           -0.02877322055515561,
           0.04742400029382645,
           0.040738138745523664,
           0.04819786505018279,
           -0.022708481327658153,
           -0.061122654999001186,
           1,
           -0.035061848331804216,
           -0.017502544882105127,
           0.012104286300929981,
           0.049078448530443096,
           0.12253001744701254,
           -0.006291397522315191,
           -0.07274841227243814,
           -0.013928594207906578,
           -0.013405819594865365,
           -0.0477784256168128
          ],
          [
           0.1769335373990397,
           0.06283419096098378,
           -0.06076797016730216,
           0.06844759572795585,
           0.12361363474070354,
           0.20540681773545388,
           0.26505458987609537,
           -0.02558942073661857,
           -0.04185569770310909,
           0.05523351803656262,
           0.0843770276807605,
           0.10434391577247473,
           -0.0583472298650192,
           0.04897305592243393,
           -0.035061848331804216,
           1,
           0.033423672799129014,
           0.0926588614183285,
           -0.0018757756313812755,
           -0.02114018296066898,
           -0.03896858402817883,
           0.064869253733266,
           0.01630985184346928,
           0.08897269150844989,
           -0.037286864366028086
          ],
          [
           0.14585829737486508,
           -0.016650866026651435,
           -0.05954876381017788,
           0.03865395459967036,
           0.19100269307715878,
           0.22722666147762344,
           0.059253292977661944,
           -0.020210458082360598,
           -0.06928495139557002,
           -0.02741229262344684,
           -0.02489436069664217,
           0.0008895327680240052,
           -0.08176967265842117,
           0.029093197884897566,
           -0.017502544882105127,
           0.033423672799129014,
           1,
           0.006787703222860318,
           0.07867555294707744,
           0.0117994108472912,
           -0.008452061075272665,
           0.05969522702120658,
           -0.021092621886265806,
           0.20657795847822086,
           -0.0153121272416926
          ],
          [
           0.061122664550194244,
           -0.03331966301755121,
           -0.016586526579224773,
           -0.00905999635558932,
           -0.023577994231332354,
           0.003877466665558673,
           0.08650710695029226,
           -0.034967733354945164,
           -0.03606887293400193,
           -0.01424102367086017,
           -0.009727072547616199,
           0.009037261434459962,
           -0.029736139685120868,
           -0.049329371339206424,
           0.012104286300929981,
           0.0926588614183285,
           0.006787703222860318,
           1,
           -0.04321281427004749,
           0.007854435893392723,
           0.02547427558019181,
           -0.024794544095991126,
           0.005502317892011886,
           0.046361206797977235,
           0.044004209479004124
          ],
          [
           0.1323410789361636,
           -0.01274136671977797,
           0.04634551583999445,
           -0.0016417315843394414,
           0.10098463534476312,
           0.10313791642547009,
           -0.03133152965444356,
           -0.002168628454381549,
           -0.06855836615046836,
           0.03679555625994925,
           -0.007752965155922761,
           0.005970563049023344,
           -0.04751010313981376,
           -0.05113529824925568,
           0.049078448530443096,
           -0.0018757756313812755,
           0.07867555294707744,
           -0.04321281427004749,
           1,
           0.041068617588264605,
           -0.044008925363984625,
           0.028066558547727733,
           0.13993148425454066,
           0.10578543732049764,
           0.0055677593114583845
          ],
          [
           0.15594490903005584,
           -0.10365203856648625,
           -0.06955604305068808,
           -0.08644435532607372,
           0.017564925676395993,
           -0.025173274037291846,
           -0.06507440203851496,
           0.13756237128801577,
           0.153065244377808,
           -0.09491764746473848,
           -0.11256809389581295,
           -0.08626222493511894,
           0.06954222744367711,
           0.07900080530737348,
           0.12253001744701254,
           -0.02114018296066898,
           0.0117994108472912,
           0.007854435893392723,
           0.041068617588264605,
           1,
           0.01846300639691435,
           -0.05240636804098138,
           -0.03462077646329736,
           0.09463831404986087,
           -0.01107467252115001
          ],
          [
           0.05857541851452794,
           -0.037694415652755726,
           -0.05167435725729654,
           -0.06675370249013722,
           -0.0288185130800739,
           -0.05364401531580008,
           -0.02325294918786948,
           0.050716635289168706,
           0.05906946389426182,
           -0.023117135794712553,
           -0.022247747395105814,
           -0.025973946270094573,
           0.07509731546872071,
           -0.011236238240175833,
           -0.006291397522315191,
           -0.03896858402817883,
           -0.008452061075272665,
           0.02547427558019181,
           -0.044008925363984625,
           0.01846300639691435,
           1,
           -0.008399687979495385,
           0.0013680729368588111,
           -0.03155848607236174,
           -0.04711901919127299
          ],
          [
           0.06910591559385736,
           -0.0477307242729301,
           0.0832866827817139,
           -0.04777977905732153,
           0.08107291748336938,
           0.10548095120237581,
           0.05249103826474313,
           -0.07921967139953871,
           -0.10498129683442602,
           -0.024382556740391498,
           -0.025486855018263893,
           -0.03159817031312889,
           -0.09205368379546586,
           -0.004805854935812705,
           -0.07274841227243814,
           0.064869253733266,
           0.05969522702120658,
           -0.024794544095991126,
           0.028066558547727733,
           -0.05240636804098138,
           -0.008399687979495385,
           1,
           0.058503868754425384,
           0.07460339825960231,
           -0.00618265362605044
          ],
          [
           0.10658046235313949,
           -0.0398811990511959,
           -0.0330520317695714,
           -0.07263280988064753,
           -0.04233076283972121,
           -0.02002861451949174,
           -0.014268377521900716,
           -0.07317909814567557,
           -0.10479209455530257,
           -0.07868865861110122,
           -0.08542182450702397,
           -0.06683554040382021,
           -0.07805568211467737,
           0.015165642268352394,
           -0.013928594207906578,
           0.01630985184346928,
           -0.021092621886265806,
           0.005502317892011886,
           0.13993148425454066,
           -0.03462077646329736,
           0.0013680729368588111,
           0.058503868754425384,
           1,
           0.01873537358180161,
           -0.01785947448121794
          ],
          [
           0.20623887356566334,
           -0.05462463513572048,
           -0.0022370528591683387,
           -0.006204197421555128,
           0.22089230444367194,
           0.23070324290200891,
           0.044445771401158386,
           -0.05618363064703267,
           -0.09217706402589262,
           -0.059670526728941645,
           -0.04270392109938528,
           -0.03745495590997758,
           -0.10156271330652718,
           0.00488927019896316,
           -0.013405819594865365,
           0.08897269150844989,
           0.20657795847822086,
           0.046361206797977235,
           0.10578543732049764,
           0.09463831404986087,
           -0.03155848607236174,
           0.07460339825960231,
           0.01873537358180161,
           1,
           0.040674932923213725
          ],
          [
           0.07678708691064272,
           0.06573112819103714,
           0.03379849267299479,
           0.03437978830203973,
           0.02649298562253547,
           0.0532653050397565,
           -0.009189938235820233,
           -0.03460945254714848,
           -0.04637416294160163,
           0.01910951411725713,
           0.014838838871672477,
           -0.007200401361103074,
           -0.037293776702544815,
           -0.03672163681253054,
           -0.0477784256168128,
           -0.037286864366028086,
           -0.0153121272416926,
           0.044004209479004124,
           0.0055677593114583845,
           -0.01107467252115001,
           -0.04711901919127299,
           -0.00618265362605044,
           -0.01785947448121794,
           0.040674932923213725,
           1
          ]
         ],
         "texttemplate": "%{text:.2f}",
         "type": "heatmap",
         "x": [
          "num_ref",
          "num_ref_3years",
          "arxiv",
          "neurips",
          "iclr",
          "icml",
          "aaai",
          "iccv",
          "cvpr",
          "emnlp",
          "acl",
          "naacl",
          "eccv",
          "icra",
          "icassp",
          "ijcai",
          "aistats",
          "sigkdd",
          "neuralcom",
          "ieee_tran",
          "acm_tran",
          "mit_press",
          "nature",
          "jmlr",
          "meaningful_comparison"
         ],
         "y": [
          "num_ref",
          "num_ref_3years",
          "arxiv",
          "neurips",
          "iclr",
          "icml",
          "aaai",
          "iccv",
          "cvpr",
          "emnlp",
          "acl",
          "naacl",
          "eccv",
          "icra",
          "icassp",
          "ijcai",
          "aistats",
          "sigkdd",
          "neuralcom",
          "ieee_tran",
          "acm_tran",
          "mit_press",
          "nature",
          "jmlr",
          "meaningful_comparison"
         ],
         "z": [
          [
           1,
           0.609983601636342,
           0.2810677746184993,
           0.2953552532202091,
           0.5195159396280239,
           0.41233857859206635,
           0.17631035016811958,
           0.19594179465138054,
           0.2149583502101354,
           0.04559815692015566,
           0.14558421779239947,
           0.13176957957302923,
           0.14742371171776655,
           0.14931796357496446,
           0.035090926923183635,
           0.1769335373990397,
           0.14585829737486508,
           0.061122664550194244,
           0.1323410789361636,
           0.15594490903005584,
           0.05857541851452794,
           0.06910591559385736,
           0.10658046235313949,
           0.20623887356566334,
           0.07678708691064272
          ],
          [
           0.609983601636342,
           1,
           0.3360873846403328,
           0.41266174669282507,
           0.33258606660253026,
           0.23067630505050885,
           0.09070255324090352,
           0.15415767271552433,
           0.18956111306100779,
           0.10621693748632503,
           0.12638324272460047,
           0.13483631613790095,
           0.14890633826788613,
           0.10217155240688239,
           -0.020867859831792568,
           0.06283419096098378,
           -0.016650866026651435,
           -0.03331966301755121,
           -0.01274136671977797,
           -0.10365203856648625,
           -0.037694415652755726,
           -0.0477307242729301,
           -0.0398811990511959,
           -0.05462463513572048,
           0.06573112819103714
          ],
          [
           0.2810677746184993,
           0.3360873846403328,
           1,
           -0.20306348111379932,
           0.11785865523735287,
           -0.020164079674082108,
           -0.011668101306112023,
           -0.043289657202584486,
           -0.040706871244485174,
           -0.05886577870493847,
           -0.06405414398284293,
           -0.05787106215014769,
           -0.017339541402363736,
           0.032027684820536494,
           -0.05027110473459231,
           -0.06076797016730216,
           -0.05954876381017788,
           -0.016586526579224773,
           0.04634551583999445,
           -0.06955604305068808,
           -0.05167435725729654,
           0.0832866827817139,
           -0.0330520317695714,
           -0.0022370528591683387,
           0.03379849267299479
          ],
          [
           0.2953552532202091,
           0.41266174669282507,
           -0.20306348111379932,
           1,
           0.3327793729978352,
           0.3231781003209933,
           0.06905034219144471,
           0.11463616697664522,
           0.11438840328057782,
           0.02625132353733902,
           0.05920667728960317,
           0.05602409557604139,
           0.0716434762239426,
           0.002432601531166314,
           -0.01382718320712835,
           0.06844759572795585,
           0.03865395459967036,
           -0.00905999635558932,
           -0.0016417315843394414,
           -0.08644435532607372,
           -0.06675370249013722,
           -0.04777977905732153,
           -0.07263280988064753,
           -0.006204197421555128,
           0.03437978830203973
          ],
          [
           0.5195159396280239,
           0.33258606660253026,
           0.11785865523735287,
           0.3327793729978352,
           1,
           0.4671764668320668,
           0.13225382979131797,
           0.1215958103883611,
           0.08217469211621255,
           -0.10405213064115479,
           -0.10930499000995109,
           -0.07321001087908803,
           0.0559961216213356,
           0.05304557379175867,
           -0.033155568993558406,
           0.12361363474070354,
           0.19100269307715878,
           -0.023577994231332354,
           0.10098463534476312,
           0.017564925676395993,
           -0.0288185130800739,
           0.08107291748336938,
           -0.04233076283972121,
           0.22089230444367194,
           0.02649298562253547
          ],
          [
           0.41233857859206635,
           0.23067630505050885,
           -0.020164079674082108,
           0.3231781003209933,
           0.4671764668320668,
           1,
           0.1712241305986347,
           -0.006218471964150811,
           -0.05529836701336858,
           -0.11291395947227217,
           -0.07052493717649097,
           -0.04354446876465152,
           -0.08553283286808819,
           0.05525751180483591,
           -0.04059166711892728,
           0.20540681773545388,
           0.22722666147762344,
           0.003877466665558673,
           0.10313791642547009,
           -0.025173274037291846,
           -0.05364401531580008,
           0.10548095120237581,
           -0.02002861451949174,
           0.23070324290200891,
           0.0532653050397565
          ],
          [
           0.17631035016811958,
           0.09070255324090352,
           -0.011668101306112023,
           0.06905034219144471,
           0.13225382979131797,
           0.1712241305986347,
           1,
           -0.02816780749027818,
           -0.01435389164884052,
           0.15122906658158955,
           0.15400202161347276,
           0.091144064354195,
           -0.008927528090306704,
           0.10689118447089142,
           -0.08404743369409004,
           0.26505458987609537,
           0.059253292977661944,
           0.08650710695029226,
           -0.03133152965444356,
           -0.06507440203851496,
           -0.02325294918786948,
           0.05249103826474313,
           -0.014268377521900716,
           0.044445771401158386,
           -0.009189938235820233
          ],
          [
           0.19594179465138054,
           0.15415767271552433,
           -0.043289657202584486,
           0.11463616697664522,
           0.1215958103883611,
           -0.006218471964150811,
           -0.02816780749027818,
           1,
           0.5883094694271477,
           -0.07256900668754461,
           -0.08012840478295846,
           -0.07443434526659228,
           0.5085274371709372,
           -0.006592757479108147,
           -0.0038024846258868797,
           -0.02558942073661857,
           -0.020210458082360598,
           -0.034967733354945164,
           -0.002168628454381549,
           0.13756237128801577,
           0.050716635289168706,
           -0.07921967139953871,
           -0.07317909814567557,
           -0.05618363064703267,
           -0.03460945254714848
          ],
          [
           0.2149583502101354,
           0.18956111306100779,
           -0.040706871244485174,
           0.11438840328057782,
           0.08217469211621255,
           -0.05529836701336858,
           -0.01435389164884052,
           0.5883094694271477,
           1,
           -0.0899055525268758,
           -0.09746091729481694,
           -0.08267530581712167,
           0.6245011874892,
           0.0361030223338141,
           -0.02877322055515561,
           -0.04185569770310909,
           -0.06928495139557002,
           -0.03606887293400193,
           -0.06855836615046836,
           0.153065244377808,
           0.05906946389426182,
           -0.10498129683442602,
           -0.10479209455530257,
           -0.09217706402589262,
           -0.04637416294160163
          ],
          [
           0.04559815692015566,
           0.10621693748632503,
           -0.05886577870493847,
           0.02625132353733902,
           -0.10405213064115479,
           -0.11291395947227217,
           0.15122906658158955,
           -0.07256900668754461,
           -0.0899055525268758,
           1,
           0.6297270081803702,
           0.5830146902450188,
           -0.03968395821434836,
           -0.05600798817456026,
           0.04742400029382645,
           0.05523351803656262,
           -0.02741229262344684,
           -0.01424102367086017,
           0.03679555625994925,
           -0.09491764746473848,
           -0.023117135794712553,
           -0.024382556740391498,
           -0.07868865861110122,
           -0.059670526728941645,
           0.01910951411725713
          ],
          [
           0.14558421779239947,
           0.12638324272460047,
           -0.06405414398284293,
           0.05920667728960317,
           -0.10930499000995109,
           -0.07052493717649097,
           0.15400202161347276,
           -0.08012840478295846,
           -0.09746091729481694,
           0.6297270081803702,
           1,
           0.7844524588687067,
           -0.08959381921685426,
           -0.0645748381064844,
           0.040738138745523664,
           0.0843770276807605,
           -0.02489436069664217,
           -0.009727072547616199,
           -0.007752965155922761,
           -0.11256809389581295,
           -0.022247747395105814,
           -0.025486855018263893,
           -0.08542182450702397,
           -0.04270392109938528,
           0.014838838871672477
          ],
          [
           0.13176957957302923,
           0.13483631613790095,
           -0.05787106215014769,
           0.05602409557604139,
           -0.07321001087908803,
           -0.04354446876465152,
           0.091144064354195,
           -0.07443434526659228,
           -0.08267530581712167,
           0.5830146902450188,
           0.7844524588687067,
           1,
           -0.09132714774192308,
           -0.05649477014229798,
           0.04819786505018279,
           0.10434391577247473,
           0.0008895327680240052,
           0.009037261434459962,
           0.005970563049023344,
           -0.08626222493511894,
           -0.025973946270094573,
           -0.03159817031312889,
           -0.06683554040382021,
           -0.03745495590997758,
           -0.007200401361103074
          ],
          [
           0.14742371171776655,
           0.14890633826788613,
           -0.017339541402363736,
           0.0716434762239426,
           0.0559961216213356,
           -0.08553283286808819,
           -0.008927528090306704,
           0.5085274371709372,
           0.6245011874892,
           -0.03968395821434836,
           -0.08959381921685426,
           -0.09132714774192308,
           1,
           0.03318150393578644,
           -0.022708481327658153,
           -0.0583472298650192,
           -0.08176967265842117,
           -0.029736139685120868,
           -0.04751010313981376,
           0.06954222744367711,
           0.07509731546872071,
           -0.09205368379546586,
           -0.07805568211467737,
           -0.10156271330652718,
           -0.037293776702544815
          ],
          [
           0.14931796357496446,
           0.10217155240688239,
           0.032027684820536494,
           0.002432601531166314,
           0.05304557379175867,
           0.05525751180483591,
           0.10689118447089142,
           -0.006592757479108147,
           0.0361030223338141,
           -0.05600798817456026,
           -0.0645748381064844,
           -0.05649477014229798,
           0.03318150393578644,
           1,
           -0.061122654999001186,
           0.04897305592243393,
           0.029093197884897566,
           -0.049329371339206424,
           -0.05113529824925568,
           0.07900080530737348,
           -0.011236238240175833,
           -0.004805854935812705,
           0.015165642268352394,
           0.00488927019896316,
           -0.03672163681253054
          ],
          [
           0.035090926923183635,
           -0.020867859831792568,
           -0.05027110473459231,
           -0.01382718320712835,
           -0.033155568993558406,
           -0.04059166711892728,
           -0.08404743369409004,
           -0.0038024846258868797,
           -0.02877322055515561,
           0.04742400029382645,
           0.040738138745523664,
           0.04819786505018279,
           -0.022708481327658153,
           -0.061122654999001186,
           1,
           -0.035061848331804216,
           -0.017502544882105127,
           0.012104286300929981,
           0.049078448530443096,
           0.12253001744701254,
           -0.006291397522315191,
           -0.07274841227243814,
           -0.013928594207906578,
           -0.013405819594865365,
           -0.0477784256168128
          ],
          [
           0.1769335373990397,
           0.06283419096098378,
           -0.06076797016730216,
           0.06844759572795585,
           0.12361363474070354,
           0.20540681773545388,
           0.26505458987609537,
           -0.02558942073661857,
           -0.04185569770310909,
           0.05523351803656262,
           0.0843770276807605,
           0.10434391577247473,
           -0.0583472298650192,
           0.04897305592243393,
           -0.035061848331804216,
           1,
           0.033423672799129014,
           0.0926588614183285,
           -0.0018757756313812755,
           -0.02114018296066898,
           -0.03896858402817883,
           0.064869253733266,
           0.01630985184346928,
           0.08897269150844989,
           -0.037286864366028086
          ],
          [
           0.14585829737486508,
           -0.016650866026651435,
           -0.05954876381017788,
           0.03865395459967036,
           0.19100269307715878,
           0.22722666147762344,
           0.059253292977661944,
           -0.020210458082360598,
           -0.06928495139557002,
           -0.02741229262344684,
           -0.02489436069664217,
           0.0008895327680240052,
           -0.08176967265842117,
           0.029093197884897566,
           -0.017502544882105127,
           0.033423672799129014,
           1,
           0.006787703222860318,
           0.07867555294707744,
           0.0117994108472912,
           -0.008452061075272665,
           0.05969522702120658,
           -0.021092621886265806,
           0.20657795847822086,
           -0.0153121272416926
          ],
          [
           0.061122664550194244,
           -0.03331966301755121,
           -0.016586526579224773,
           -0.00905999635558932,
           -0.023577994231332354,
           0.003877466665558673,
           0.08650710695029226,
           -0.034967733354945164,
           -0.03606887293400193,
           -0.01424102367086017,
           -0.009727072547616199,
           0.009037261434459962,
           -0.029736139685120868,
           -0.049329371339206424,
           0.012104286300929981,
           0.0926588614183285,
           0.006787703222860318,
           1,
           -0.04321281427004749,
           0.007854435893392723,
           0.02547427558019181,
           -0.024794544095991126,
           0.005502317892011886,
           0.046361206797977235,
           0.044004209479004124
          ],
          [
           0.1323410789361636,
           -0.01274136671977797,
           0.04634551583999445,
           -0.0016417315843394414,
           0.10098463534476312,
           0.10313791642547009,
           -0.03133152965444356,
           -0.002168628454381549,
           -0.06855836615046836,
           0.03679555625994925,
           -0.007752965155922761,
           0.005970563049023344,
           -0.04751010313981376,
           -0.05113529824925568,
           0.049078448530443096,
           -0.0018757756313812755,
           0.07867555294707744,
           -0.04321281427004749,
           1,
           0.041068617588264605,
           -0.044008925363984625,
           0.028066558547727733,
           0.13993148425454066,
           0.10578543732049764,
           0.0055677593114583845
          ],
          [
           0.15594490903005584,
           -0.10365203856648625,
           -0.06955604305068808,
           -0.08644435532607372,
           0.017564925676395993,
           -0.025173274037291846,
           -0.06507440203851496,
           0.13756237128801577,
           0.153065244377808,
           -0.09491764746473848,
           -0.11256809389581295,
           -0.08626222493511894,
           0.06954222744367711,
           0.07900080530737348,
           0.12253001744701254,
           -0.02114018296066898,
           0.0117994108472912,
           0.007854435893392723,
           0.041068617588264605,
           1,
           0.01846300639691435,
           -0.05240636804098138,
           -0.03462077646329736,
           0.09463831404986087,
           -0.01107467252115001
          ],
          [
           0.05857541851452794,
           -0.037694415652755726,
           -0.05167435725729654,
           -0.06675370249013722,
           -0.0288185130800739,
           -0.05364401531580008,
           -0.02325294918786948,
           0.050716635289168706,
           0.05906946389426182,
           -0.023117135794712553,
           -0.022247747395105814,
           -0.025973946270094573,
           0.07509731546872071,
           -0.011236238240175833,
           -0.006291397522315191,
           -0.03896858402817883,
           -0.008452061075272665,
           0.02547427558019181,
           -0.044008925363984625,
           0.01846300639691435,
           1,
           -0.008399687979495385,
           0.0013680729368588111,
           -0.03155848607236174,
           -0.04711901919127299
          ],
          [
           0.06910591559385736,
           -0.0477307242729301,
           0.0832866827817139,
           -0.04777977905732153,
           0.08107291748336938,
           0.10548095120237581,
           0.05249103826474313,
           -0.07921967139953871,
           -0.10498129683442602,
           -0.024382556740391498,
           -0.025486855018263893,
           -0.03159817031312889,
           -0.09205368379546586,
           -0.004805854935812705,
           -0.07274841227243814,
           0.064869253733266,
           0.05969522702120658,
           -0.024794544095991126,
           0.028066558547727733,
           -0.05240636804098138,
           -0.008399687979495385,
           1,
           0.058503868754425384,
           0.07460339825960231,
           -0.00618265362605044
          ],
          [
           0.10658046235313949,
           -0.0398811990511959,
           -0.0330520317695714,
           -0.07263280988064753,
           -0.04233076283972121,
           -0.02002861451949174,
           -0.014268377521900716,
           -0.07317909814567557,
           -0.10479209455530257,
           -0.07868865861110122,
           -0.08542182450702397,
           -0.06683554040382021,
           -0.07805568211467737,
           0.015165642268352394,
           -0.013928594207906578,
           0.01630985184346928,
           -0.021092621886265806,
           0.005502317892011886,
           0.13993148425454066,
           -0.03462077646329736,
           0.0013680729368588111,
           0.058503868754425384,
           1,
           0.01873537358180161,
           -0.01785947448121794
          ],
          [
           0.20623887356566334,
           -0.05462463513572048,
           -0.0022370528591683387,
           -0.006204197421555128,
           0.22089230444367194,
           0.23070324290200891,
           0.044445771401158386,
           -0.05618363064703267,
           -0.09217706402589262,
           -0.059670526728941645,
           -0.04270392109938528,
           -0.03745495590997758,
           -0.10156271330652718,
           0.00488927019896316,
           -0.013405819594865365,
           0.08897269150844989,
           0.20657795847822086,
           0.046361206797977235,
           0.10578543732049764,
           0.09463831404986087,
           -0.03155848607236174,
           0.07460339825960231,
           0.01873537358180161,
           1,
           0.040674932923213725
          ],
          [
           0.07678708691064272,
           0.06573112819103714,
           0.03379849267299479,
           0.03437978830203973,
           0.02649298562253547,
           0.0532653050397565,
           -0.009189938235820233,
           -0.03460945254714848,
           -0.04637416294160163,
           0.01910951411725713,
           0.014838838871672477,
           -0.007200401361103074,
           -0.037293776702544815,
           -0.03672163681253054,
           -0.0477784256168128,
           -0.037286864366028086,
           -0.0153121272416926,
           0.044004209479004124,
           0.0055677593114583845,
           -0.01107467252115001,
           -0.04711901919127299,
           -0.00618265362605044,
           -0.01785947448121794,
           0.040674932923213725,
           1
          ]
         ]
        }
       ],
       "layout": {
        "template": {
         "data": {
          "bar": [
           {
            "error_x": {
             "color": "#2a3f5f"
            },
            "error_y": {
             "color": "#2a3f5f"
            },
            "marker": {
             "line": {
              "color": "#E5ECF6",
              "width": 0.5
             },
             "pattern": {
              "fillmode": "overlay",
              "size": 10,
              "solidity": 0.2
             }
            },
            "type": "bar"
           }
          ],
          "barpolar": [
           {
            "marker": {
             "line": {
              "color": "#E5ECF6",
              "width": 0.5
             },
             "pattern": {
              "fillmode": "overlay",
              "size": 10,
              "solidity": 0.2
             }
            },
            "type": "barpolar"
           }
          ],
          "carpet": [
           {
            "aaxis": {
             "endlinecolor": "#2a3f5f",
             "gridcolor": "white",
             "linecolor": "white",
             "minorgridcolor": "white",
             "startlinecolor": "#2a3f5f"
            },
            "baxis": {
             "endlinecolor": "#2a3f5f",
             "gridcolor": "white",
             "linecolor": "white",
             "minorgridcolor": "white",
             "startlinecolor": "#2a3f5f"
            },
            "type": "carpet"
           }
          ],
          "choropleth": [
           {
            "colorbar": {
             "outlinewidth": 0,
             "ticks": ""
            },
            "type": "choropleth"
           }
          ],
          "contour": [
           {
            "colorbar": {
             "outlinewidth": 0,
             "ticks": ""
            },
            "colorscale": [
             [
              0,
              "#0d0887"
             ],
             [
              0.1111111111111111,
              "#46039f"
             ],
             [
              0.2222222222222222,
              "#7201a8"
             ],
             [
              0.3333333333333333,
              "#9c179e"
             ],
             [
              0.4444444444444444,
              "#bd3786"
             ],
             [
              0.5555555555555556,
              "#d8576b"
             ],
             [
              0.6666666666666666,
              "#ed7953"
             ],
             [
              0.7777777777777778,
              "#fb9f3a"
             ],
             [
              0.8888888888888888,
              "#fdca26"
             ],
             [
              1,
              "#f0f921"
             ]
            ],
            "type": "contour"
           }
          ],
          "contourcarpet": [
           {
            "colorbar": {
             "outlinewidth": 0,
             "ticks": ""
            },
            "type": "contourcarpet"
           }
          ],
          "heatmap": [
           {
            "colorbar": {
             "outlinewidth": 0,
             "ticks": ""
            },
            "colorscale": [
             [
              0,
              "#0d0887"
             ],
             [
              0.1111111111111111,
              "#46039f"
             ],
             [
              0.2222222222222222,
              "#7201a8"
             ],
             [
              0.3333333333333333,
              "#9c179e"
             ],
             [
              0.4444444444444444,
              "#bd3786"
             ],
             [
              0.5555555555555556,
              "#d8576b"
             ],
             [
              0.6666666666666666,
              "#ed7953"
             ],
             [
              0.7777777777777778,
              "#fb9f3a"
             ],
             [
              0.8888888888888888,
              "#fdca26"
             ],
             [
              1,
              "#f0f921"
             ]
            ],
            "type": "heatmap"
           }
          ],
          "heatmapgl": [
           {
            "colorbar": {
             "outlinewidth": 0,
             "ticks": ""
            },
            "colorscale": [
             [
              0,
              "#0d0887"
             ],
             [
              0.1111111111111111,
              "#46039f"
             ],
             [
              0.2222222222222222,
              "#7201a8"
             ],
             [
              0.3333333333333333,
              "#9c179e"
             ],
             [
              0.4444444444444444,
              "#bd3786"
             ],
             [
              0.5555555555555556,
              "#d8576b"
             ],
             [
              0.6666666666666666,
              "#ed7953"
             ],
             [
              0.7777777777777778,
              "#fb9f3a"
             ],
             [
              0.8888888888888888,
              "#fdca26"
             ],
             [
              1,
              "#f0f921"
             ]
            ],
            "type": "heatmapgl"
           }
          ],
          "histogram": [
           {
            "marker": {
             "pattern": {
              "fillmode": "overlay",
              "size": 10,
              "solidity": 0.2
             }
            },
            "type": "histogram"
           }
          ],
          "histogram2d": [
           {
            "colorbar": {
             "outlinewidth": 0,
             "ticks": ""
            },
            "colorscale": [
             [
              0,
              "#0d0887"
             ],
             [
              0.1111111111111111,
              "#46039f"
             ],
             [
              0.2222222222222222,
              "#7201a8"
             ],
             [
              0.3333333333333333,
              "#9c179e"
             ],
             [
              0.4444444444444444,
              "#bd3786"
             ],
             [
              0.5555555555555556,
              "#d8576b"
             ],
             [
              0.6666666666666666,
              "#ed7953"
             ],
             [
              0.7777777777777778,
              "#fb9f3a"
             ],
             [
              0.8888888888888888,
              "#fdca26"
             ],
             [
              1,
              "#f0f921"
             ]
            ],
            "type": "histogram2d"
           }
          ],
          "histogram2dcontour": [
           {
            "colorbar": {
             "outlinewidth": 0,
             "ticks": ""
            },
            "colorscale": [
             [
              0,
              "#0d0887"
             ],
             [
              0.1111111111111111,
              "#46039f"
             ],
             [
              0.2222222222222222,
              "#7201a8"
             ],
             [
              0.3333333333333333,
              "#9c179e"
             ],
             [
              0.4444444444444444,
              "#bd3786"
             ],
             [
              0.5555555555555556,
              "#d8576b"
             ],
             [
              0.6666666666666666,
              "#ed7953"
             ],
             [
              0.7777777777777778,
              "#fb9f3a"
             ],
             [
              0.8888888888888888,
              "#fdca26"
             ],
             [
              1,
              "#f0f921"
             ]
            ],
            "type": "histogram2dcontour"
           }
          ],
          "mesh3d": [
           {
            "colorbar": {
             "outlinewidth": 0,
             "ticks": ""
            },
            "type": "mesh3d"
           }
          ],
          "parcoords": [
           {
            "line": {
             "colorbar": {
              "outlinewidth": 0,
              "ticks": ""
             }
            },
            "type": "parcoords"
           }
          ],
          "pie": [
           {
            "automargin": true,
            "type": "pie"
           }
          ],
          "scatter": [
           {
            "fillpattern": {
             "fillmode": "overlay",
             "size": 10,
             "solidity": 0.2
            },
            "type": "scatter"
           }
          ],
          "scatter3d": [
           {
            "line": {
             "colorbar": {
              "outlinewidth": 0,
              "ticks": ""
             }
            },
            "marker": {
             "colorbar": {
              "outlinewidth": 0,
              "ticks": ""
             }
            },
            "type": "scatter3d"
           }
          ],
          "scattercarpet": [
           {
            "marker": {
             "colorbar": {
              "outlinewidth": 0,
              "ticks": ""
             }
            },
            "type": "scattercarpet"
           }
          ],
          "scattergeo": [
           {
            "marker": {
             "colorbar": {
              "outlinewidth": 0,
              "ticks": ""
             }
            },
            "type": "scattergeo"
           }
          ],
          "scattergl": [
           {
            "marker": {
             "colorbar": {
              "outlinewidth": 0,
              "ticks": ""
             }
            },
            "type": "scattergl"
           }
          ],
          "scattermapbox": [
           {
            "marker": {
             "colorbar": {
              "outlinewidth": 0,
              "ticks": ""
             }
            },
            "type": "scattermapbox"
           }
          ],
          "scatterpolar": [
           {
            "marker": {
             "colorbar": {
              "outlinewidth": 0,
              "ticks": ""
             }
            },
            "type": "scatterpolar"
           }
          ],
          "scatterpolargl": [
           {
            "marker": {
             "colorbar": {
              "outlinewidth": 0,
              "ticks": ""
             }
            },
            "type": "scatterpolargl"
           }
          ],
          "scatterternary": [
           {
            "marker": {
             "colorbar": {
              "outlinewidth": 0,
              "ticks": ""
             }
            },
            "type": "scatterternary"
           }
          ],
          "surface": [
           {
            "colorbar": {
             "outlinewidth": 0,
             "ticks": ""
            },
            "colorscale": [
             [
              0,
              "#0d0887"
             ],
             [
              0.1111111111111111,
              "#46039f"
             ],
             [
              0.2222222222222222,
              "#7201a8"
             ],
             [
              0.3333333333333333,
              "#9c179e"
             ],
             [
              0.4444444444444444,
              "#bd3786"
             ],
             [
              0.5555555555555556,
              "#d8576b"
             ],
             [
              0.6666666666666666,
              "#ed7953"
             ],
             [
              0.7777777777777778,
              "#fb9f3a"
             ],
             [
              0.8888888888888888,
              "#fdca26"
             ],
             [
              1,
              "#f0f921"
             ]
            ],
            "type": "surface"
           }
          ],
          "table": [
           {
            "cells": {
             "fill": {
              "color": "#EBF0F8"
             },
             "line": {
              "color": "white"
             }
            },
            "header": {
             "fill": {
              "color": "#C8D4E3"
             },
             "line": {
              "color": "white"
             }
            },
            "type": "table"
           }
          ]
         },
         "layout": {
          "annotationdefaults": {
           "arrowcolor": "#2a3f5f",
           "arrowhead": 0,
           "arrowwidth": 1
          },
          "autotypenumbers": "strict",
          "coloraxis": {
           "colorbar": {
            "outlinewidth": 0,
            "ticks": ""
           }
          },
          "colorscale": {
           "diverging": [
            [
             0,
             "#8e0152"
            ],
            [
             0.1,
             "#c51b7d"
            ],
            [
             0.2,
             "#de77ae"
            ],
            [
             0.3,
             "#f1b6da"
            ],
            [
             0.4,
             "#fde0ef"
            ],
            [
             0.5,
             "#f7f7f7"
            ],
            [
             0.6,
             "#e6f5d0"
            ],
            [
             0.7,
             "#b8e186"
            ],
            [
             0.8,
             "#7fbc41"
            ],
            [
             0.9,
             "#4d9221"
            ],
            [
             1,
             "#276419"
            ]
           ],
           "sequential": [
            [
             0,
             "#0d0887"
            ],
            [
             0.1111111111111111,
             "#46039f"
            ],
            [
             0.2222222222222222,
             "#7201a8"
            ],
            [
             0.3333333333333333,
             "#9c179e"
            ],
            [
             0.4444444444444444,
             "#bd3786"
            ],
            [
             0.5555555555555556,
             "#d8576b"
            ],
            [
             0.6666666666666666,
             "#ed7953"
            ],
            [
             0.7777777777777778,
             "#fb9f3a"
            ],
            [
             0.8888888888888888,
             "#fdca26"
            ],
            [
             1,
             "#f0f921"
            ]
           ],
           "sequentialminus": [
            [
             0,
             "#0d0887"
            ],
            [
             0.1111111111111111,
             "#46039f"
            ],
            [
             0.2222222222222222,
             "#7201a8"
            ],
            [
             0.3333333333333333,
             "#9c179e"
            ],
            [
             0.4444444444444444,
             "#bd3786"
            ],
            [
             0.5555555555555556,
             "#d8576b"
            ],
            [
             0.6666666666666666,
             "#ed7953"
            ],
            [
             0.7777777777777778,
             "#fb9f3a"
            ],
            [
             0.8888888888888888,
             "#fdca26"
            ],
            [
             1,
             "#f0f921"
            ]
           ]
          },
          "colorway": [
           "#636efa",
           "#EF553B",
           "#00cc96",
           "#ab63fa",
           "#FFA15A",
           "#19d3f3",
           "#FF6692",
           "#B6E880",
           "#FF97FF",
           "#FECB52"
          ],
          "font": {
           "color": "#2a3f5f"
          },
          "geo": {
           "bgcolor": "white",
           "lakecolor": "white",
           "landcolor": "#E5ECF6",
           "showlakes": true,
           "showland": true,
           "subunitcolor": "white"
          },
          "hoverlabel": {
           "align": "left"
          },
          "hovermode": "closest",
          "mapbox": {
           "style": "light"
          },
          "paper_bgcolor": "white",
          "plot_bgcolor": "#E5ECF6",
          "polar": {
           "angularaxis": {
            "gridcolor": "white",
            "linecolor": "white",
            "ticks": ""
           },
           "bgcolor": "#E5ECF6",
           "radialaxis": {
            "gridcolor": "white",
            "linecolor": "white",
            "ticks": ""
           }
          },
          "scene": {
           "xaxis": {
            "backgroundcolor": "#E5ECF6",
            "gridcolor": "white",
            "gridwidth": 2,
            "linecolor": "white",
            "showbackground": true,
            "ticks": "",
            "zerolinecolor": "white"
           },
           "yaxis": {
            "backgroundcolor": "#E5ECF6",
            "gridcolor": "white",
            "gridwidth": 2,
            "linecolor": "white",
            "showbackground": true,
            "ticks": "",
            "zerolinecolor": "white"
           },
           "zaxis": {
            "backgroundcolor": "#E5ECF6",
            "gridcolor": "white",
            "gridwidth": 2,
            "linecolor": "white",
            "showbackground": true,
            "ticks": "",
            "zerolinecolor": "white"
           }
          },
          "shapedefaults": {
           "line": {
            "color": "#2a3f5f"
           }
          },
          "ternary": {
           "aaxis": {
            "gridcolor": "white",
            "linecolor": "white",
            "ticks": ""
           },
           "baxis": {
            "gridcolor": "white",
            "linecolor": "white",
            "ticks": ""
           },
           "bgcolor": "#E5ECF6",
           "caxis": {
            "gridcolor": "white",
            "linecolor": "white",
            "ticks": ""
           }
          },
          "title": {
           "x": 0.05
          },
          "xaxis": {
           "automargin": true,
           "gridcolor": "white",
           "linecolor": "white",
           "ticks": "",
           "title": {
            "standoff": 15
           },
           "zerolinecolor": "white",
           "zerolinewidth": 2
          },
          "yaxis": {
           "automargin": true,
           "gridcolor": "white",
           "linecolor": "white",
           "ticks": "",
           "title": {
            "standoff": 15
           },
           "zerolinecolor": "white",
           "zerolinewidth": 2
          }
         }
        }
       }
      }
     },
     "metadata": {},
     "output_type": "display_data"
    }
   ],
   "source": [
    "dataframe = reference_based.join([y])\n",
    "correlation_matrix(dataframe)"
   ]
  },
  {
   "cell_type": "code",
   "execution_count": 153,
   "metadata": {},
   "outputs": [
    {
     "name": "stdout",
     "output_type": "stream",
     "text": [
      "Selected Feature Names: ['num_ref']\n",
      "Accuracy: 70.29%\n",
      "Selected Feature Names: ['num_ref', 'num_ref_3years']\n",
      "Accuracy: 83.71%\n",
      "Selected Feature Names: ['num_ref', 'num_ref_3years', 'acm_tran']\n",
      "Accuracy: 82.43%\n",
      "Selected Feature Names: ['num_ref', 'num_ref_3years', 'acm_tran', 'cvpr']\n",
      "Accuracy: 81.79%\n",
      "Selected Feature Names: ['num_ref', 'num_ref_3years', 'acm_tran', 'cvpr', 'icml']\n",
      "Accuracy: 85.62%\n",
      "Selected Feature Names: ['num_ref', 'num_ref_3years', 'acm_tran', 'cvpr', 'icml', 'arxiv']\n",
      "Accuracy: 86.58%\n",
      "Selected Feature Names: ['num_ref', 'num_ref_3years', 'acm_tran', 'cvpr', 'icml', 'arxiv', 'sigkdd']\n",
      "Accuracy: 86.90%\n",
      "Selected Feature Names: ['num_ref', 'num_ref_3years', 'acm_tran', 'cvpr', 'icml', 'arxiv', 'sigkdd', 'neurips']\n",
      "Accuracy: 90.73%\n",
      "Selected Feature Names: ['num_ref', 'num_ref_3years', 'acm_tran', 'cvpr', 'icml', 'arxiv', 'sigkdd', 'neurips', 'icassp']\n",
      "Accuracy: 89.78%\n",
      "Selected Feature Names: ['num_ref', 'num_ref_3years', 'acm_tran', 'cvpr', 'icml', 'arxiv', 'sigkdd', 'neurips', 'icassp', 'eccv']\n",
      "Accuracy: 89.46%\n",
      "Selected Feature Names: ['num_ref', 'num_ref_3years', 'acm_tran', 'cvpr', 'icml', 'arxiv', 'sigkdd', 'neurips', 'icassp', 'eccv', 'icra']\n",
      "Accuracy: 89.14%\n",
      "Selected Feature Names: ['num_ref', 'num_ref_3years', 'acm_tran', 'cvpr', 'icml', 'arxiv', 'sigkdd', 'neurips', 'icassp', 'eccv', 'icra', 'iccv']\n",
      "Accuracy: 88.50%\n",
      "Selected Feature Names: ['num_ref', 'num_ref_3years', 'acm_tran', 'cvpr', 'icml', 'arxiv', 'sigkdd', 'neurips', 'icassp', 'eccv', 'icra', 'iccv', 'jmlr']\n",
      "Accuracy: 88.82%\n",
      "Selected Feature Names: ['num_ref', 'num_ref_3years', 'acm_tran', 'cvpr', 'icml', 'arxiv', 'sigkdd', 'neurips', 'icassp', 'eccv', 'icra', 'iccv', 'jmlr', 'ijcai']\n",
      "Accuracy: 89.78%\n",
      "Selected Feature Names: ['num_ref', 'num_ref_3years', 'acm_tran', 'cvpr', 'icml', 'arxiv', 'sigkdd', 'neurips', 'icassp', 'eccv', 'icra', 'iccv', 'jmlr', 'ijcai', 'iclr']\n",
      "Accuracy: 92.01%\n",
      "Selected Feature Names: ['num_ref', 'num_ref_3years', 'acm_tran', 'cvpr', 'icml', 'arxiv', 'sigkdd', 'neurips', 'icassp', 'eccv', 'icra', 'iccv', 'jmlr', 'ijcai', 'iclr', 'acl']\n",
      "Accuracy: 91.69%\n",
      "Selected Feature Names: ['num_ref', 'num_ref_3years', 'acm_tran', 'cvpr', 'icml', 'arxiv', 'sigkdd', 'neurips', 'icassp', 'eccv', 'icra', 'iccv', 'jmlr', 'ijcai', 'iclr', 'acl', 'emnlp']\n",
      "Accuracy: 90.42%\n",
      "Selected Feature Names: ['num_ref', 'num_ref_3years', 'acm_tran', 'cvpr', 'icml', 'arxiv', 'sigkdd', 'neurips', 'icassp', 'eccv', 'icra', 'iccv', 'jmlr', 'ijcai', 'iclr', 'acl', 'emnlp', 'nature']\n",
      "Accuracy: 91.37%\n",
      "Selected Feature Names: ['num_ref', 'num_ref_3years', 'acm_tran', 'cvpr', 'icml', 'arxiv', 'sigkdd', 'neurips', 'icassp', 'eccv', 'icra', 'iccv', 'jmlr', 'ijcai', 'iclr', 'acl', 'emnlp', 'nature', 'aistats']\n",
      "Accuracy: 89.46%\n",
      "Selected Feature Names: ['num_ref', 'num_ref_3years', 'acm_tran', 'cvpr', 'icml', 'arxiv', 'sigkdd', 'neurips', 'icassp', 'eccv', 'icra', 'iccv', 'jmlr', 'ijcai', 'iclr', 'acl', 'emnlp', 'nature', 'aistats', 'ieee_tran']\n",
      "Accuracy: 90.10%\n",
      "Selected Feature Names: ['num_ref', 'num_ref_3years', 'acm_tran', 'cvpr', 'icml', 'arxiv', 'sigkdd', 'neurips', 'icassp', 'eccv', 'icra', 'iccv', 'jmlr', 'ijcai', 'iclr', 'acl', 'emnlp', 'nature', 'aistats', 'ieee_tran', 'aaai']\n",
      "Accuracy: 91.37%\n",
      "Selected Feature Names: ['num_ref', 'num_ref_3years', 'acm_tran', 'cvpr', 'icml', 'arxiv', 'sigkdd', 'neurips', 'icassp', 'eccv', 'icra', 'iccv', 'jmlr', 'ijcai', 'iclr', 'acl', 'emnlp', 'nature', 'aistats', 'ieee_tran', 'aaai', 'naacl']\n",
      "Accuracy: 90.42%\n",
      "Selected Feature Names: ['num_ref', 'num_ref_3years', 'acm_tran', 'cvpr', 'icml', 'arxiv', 'sigkdd', 'neurips', 'icassp', 'eccv', 'icra', 'iccv', 'jmlr', 'ijcai', 'iclr', 'acl', 'emnlp', 'nature', 'aistats', 'ieee_tran', 'aaai', 'naacl', 'neuralcom']\n",
      "Accuracy: 88.82%\n",
      "Selected Feature Names: ['num_ref', 'num_ref_3years', 'acm_tran', 'cvpr', 'icml', 'arxiv', 'sigkdd', 'neurips', 'icassp', 'eccv', 'icra', 'iccv', 'jmlr', 'ijcai', 'iclr', 'acl', 'emnlp', 'nature', 'aistats', 'ieee_tran', 'aaai', 'naacl', 'neuralcom', 'mit_press']\n",
      "Accuracy: 90.10%\n"
     ]
    }
   ],
   "source": [
    "for i in dict(enumerate(reference_based)):\n",
    "    accuracy = model(reference_based, y, i+1)\n",
    "    print(\"Accuracy: %.2f%%\" % (accuracy * 100.0))"
   ]
  },
  {
   "cell_type": "markdown",
   "metadata": {},
   "source": [
    "## Combination Predictor"
   ]
  },
  {
   "cell_type": "code",
   "execution_count": 154,
   "metadata": {},
   "outputs": [],
   "source": [
    "combination = citing_sentence.join([regular_sentences, reference_based])"
   ]
  },
  {
   "cell_type": "code",
   "execution_count": 155,
   "metadata": {},
   "outputs": [
    {
     "name": "stdout",
     "output_type": "stream",
     "text": [
      "Selected Feature Names: ['atr25']\n",
      "Accuracy: 70.61%\n",
      "Selected Feature Names: ['atr25', 'atr39']\n",
      "Accuracy: 77.96%\n",
      "Selected Feature Names: ['atr25', 'atr39', 'num_ref']\n",
      "Accuracy: 77.96%\n",
      "Selected Feature Names: ['atr25', 'atr39', 'num_ref', 'num_ref_3years']\n",
      "Accuracy: 86.90%\n",
      "Selected Feature Names: ['atr25', 'atr39', 'num_ref', 'num_ref_3years', 'acm_tran']\n",
      "Accuracy: 88.18%\n",
      "Selected Feature Names: ['atr25', 'atr39', 'num_ref', 'num_ref_3years', 'acm_tran', 'cvpr']\n",
      "Accuracy: 85.62%\n",
      "Selected Feature Names: ['atr25', 'atr39', 'num_ref', 'num_ref_3years', 'acm_tran', 'cvpr', 'atr14']\n",
      "Accuracy: 86.90%\n",
      "Selected Feature Names: ['atr25', 'atr39', 'num_ref', 'num_ref_3years', 'acm_tran', 'cvpr', 'atr14', 'icml']\n",
      "Accuracy: 87.86%\n",
      "Selected Feature Names: ['atr25', 'atr39', 'num_ref', 'num_ref_3years', 'acm_tran', 'cvpr', 'atr14', 'icml', 'arxiv']\n",
      "Accuracy: 85.62%\n",
      "Selected Feature Names: ['atr25', 'atr39', 'num_ref', 'num_ref_3years', 'acm_tran', 'cvpr', 'atr14', 'icml', 'arxiv', 'atr7']\n",
      "Accuracy: 89.46%\n",
      "Selected Feature Names: ['atr25', 'atr39', 'num_ref', 'num_ref_3years', 'acm_tran', 'cvpr', 'atr14', 'icml', 'arxiv', 'atr7', 'atr20']\n",
      "Accuracy: 90.10%\n",
      "Selected Feature Names: ['atr25', 'atr39', 'num_ref', 'num_ref_3years', 'acm_tran', 'cvpr', 'atr14', 'icml', 'arxiv', 'atr7', 'atr20', 'sigkdd']\n",
      "Accuracy: 89.78%\n",
      "Selected Feature Names: ['atr25', 'atr39', 'num_ref', 'num_ref_3years', 'acm_tran', 'cvpr', 'atr14', 'icml', 'arxiv', 'atr7', 'atr20', 'sigkdd', 'neurips']\n",
      "Accuracy: 88.18%\n",
      "Selected Feature Names: ['atr25', 'atr39', 'num_ref', 'num_ref_3years', 'acm_tran', 'cvpr', 'atr14', 'icml', 'arxiv', 'atr7', 'atr20', 'sigkdd', 'neurips', 'atr26']\n",
      "Accuracy: 93.29%\n",
      "Selected Feature Names: ['atr25', 'atr39', 'num_ref', 'num_ref_3years', 'acm_tran', 'cvpr', 'atr14', 'icml', 'arxiv', 'atr7', 'atr20', 'sigkdd', 'neurips', 'atr26', 'icassp']\n",
      "Accuracy: 91.69%\n",
      "Selected Feature Names: ['atr25', 'atr39', 'num_ref', 'num_ref_3years', 'acm_tran', 'cvpr', 'atr14', 'icml', 'arxiv', 'atr7', 'atr20', 'sigkdd', 'neurips', 'atr26', 'icassp', 'atr33']\n",
      "Accuracy: 90.42%\n",
      "Selected Feature Names: ['atr25', 'atr39', 'num_ref', 'num_ref_3years', 'acm_tran', 'cvpr', 'atr14', 'icml', 'arxiv', 'atr7', 'atr20', 'sigkdd', 'neurips', 'atr26', 'icassp', 'atr33', 'atr9']\n",
      "Accuracy: 92.33%\n",
      "Selected Feature Names: ['atr25', 'atr39', 'num_ref', 'num_ref_3years', 'acm_tran', 'cvpr', 'atr14', 'icml', 'arxiv', 'atr7', 'atr20', 'sigkdd', 'neurips', 'atr26', 'icassp', 'atr33', 'atr9', 'eccv']\n",
      "Accuracy: 91.37%\n",
      "Selected Feature Names: ['atr25', 'atr39', 'num_ref', 'num_ref_3years', 'acm_tran', 'cvpr', 'atr14', 'icml', 'arxiv', 'atr7', 'atr20', 'sigkdd', 'neurips', 'atr26', 'icassp', 'atr33', 'atr9', 'eccv', 'icra']\n",
      "Accuracy: 92.33%\n",
      "Selected Feature Names: ['atr25', 'atr39', 'num_ref', 'num_ref_3years', 'acm_tran', 'cvpr', 'atr14', 'icml', 'arxiv', 'atr7', 'atr20', 'sigkdd', 'neurips', 'atr26', 'icassp', 'atr33', 'atr9', 'eccv', 'icra', 'iccv']\n",
      "Accuracy: 91.05%\n",
      "Selected Feature Names: ['atr25', 'atr39', 'num_ref', 'num_ref_3years', 'acm_tran', 'cvpr', 'atr14', 'icml', 'arxiv', 'atr7', 'atr20', 'sigkdd', 'neurips', 'atr26', 'icassp', 'atr33', 'atr9', 'eccv', 'icra', 'iccv', 'jmlr']\n",
      "Accuracy: 89.78%\n",
      "Selected Feature Names: ['atr25', 'atr39', 'num_ref', 'num_ref_3years', 'acm_tran', 'cvpr', 'atr14', 'icml', 'arxiv', 'atr7', 'atr20', 'sigkdd', 'neurips', 'atr26', 'icassp', 'atr33', 'atr9', 'eccv', 'icra', 'iccv', 'jmlr', 'atr31']\n",
      "Accuracy: 90.42%\n",
      "Selected Feature Names: ['atr25', 'atr39', 'num_ref', 'num_ref_3years', 'acm_tran', 'cvpr', 'atr14', 'icml', 'arxiv', 'atr7', 'atr20', 'sigkdd', 'neurips', 'atr26', 'icassp', 'atr33', 'atr9', 'eccv', 'icra', 'iccv', 'jmlr', 'atr31', 'atr38']\n",
      "Accuracy: 92.33%\n",
      "Selected Feature Names: ['atr25', 'atr39', 'num_ref', 'num_ref_3years', 'acm_tran', 'cvpr', 'atr14', 'icml', 'arxiv', 'atr7', 'atr20', 'sigkdd', 'neurips', 'atr26', 'icassp', 'atr33', 'atr9', 'eccv', 'icra', 'iccv', 'jmlr', 'atr31', 'atr38', 'atr16']\n",
      "Accuracy: 92.65%\n",
      "Selected Feature Names: ['atr25', 'atr39', 'num_ref', 'num_ref_3years', 'acm_tran', 'cvpr', 'atr14', 'icml', 'arxiv', 'atr7', 'atr20', 'sigkdd', 'neurips', 'atr26', 'icassp', 'atr33', 'atr9', 'eccv', 'icra', 'iccv', 'jmlr', 'atr31', 'atr38', 'atr16', 'atr6']\n",
      "Accuracy: 91.05%\n",
      "Selected Feature Names: ['atr25', 'atr39', 'num_ref', 'num_ref_3years', 'acm_tran', 'cvpr', 'atr14', 'icml', 'arxiv', 'atr7', 'atr20', 'sigkdd', 'neurips', 'atr26', 'icassp', 'atr33', 'atr9', 'eccv', 'icra', 'iccv', 'jmlr', 'atr31', 'atr38', 'atr16', 'atr6', 'atr30']\n",
      "Accuracy: 91.69%\n",
      "Selected Feature Names: ['atr25', 'atr39', 'num_ref', 'num_ref_3years', 'acm_tran', 'cvpr', 'atr14', 'icml', 'arxiv', 'atr7', 'atr20', 'sigkdd', 'neurips', 'atr26', 'icassp', 'atr33', 'atr9', 'eccv', 'icra', 'iccv', 'jmlr', 'atr31', 'atr38', 'atr16', 'atr6', 'atr30', 'atr35']\n",
      "Accuracy: 92.01%\n",
      "Selected Feature Names: ['atr25', 'atr39', 'num_ref', 'num_ref_3years', 'acm_tran', 'cvpr', 'atr14', 'icml', 'arxiv', 'atr7', 'atr20', 'sigkdd', 'neurips', 'atr26', 'icassp', 'atr33', 'atr9', 'eccv', 'icra', 'iccv', 'jmlr', 'atr31', 'atr38', 'atr16', 'atr6', 'atr30', 'atr35', 'ijcai']\n",
      "Accuracy: 91.05%\n",
      "Selected Feature Names: ['atr25', 'atr39', 'num_ref', 'num_ref_3years', 'acm_tran', 'cvpr', 'atr14', 'icml', 'arxiv', 'atr7', 'atr20', 'sigkdd', 'neurips', 'atr26', 'icassp', 'atr33', 'atr9', 'eccv', 'icra', 'iccv', 'jmlr', 'atr31', 'atr38', 'atr16', 'atr6', 'atr30', 'atr35', 'ijcai', 'atr36']\n",
      "Accuracy: 91.69%\n",
      "Selected Feature Names: ['atr25', 'atr39', 'num_ref', 'num_ref_3years', 'acm_tran', 'cvpr', 'atr14', 'icml', 'arxiv', 'atr7', 'atr20', 'sigkdd', 'neurips', 'atr26', 'icassp', 'atr33', 'atr9', 'eccv', 'icra', 'iccv', 'jmlr', 'atr31', 'atr38', 'atr16', 'atr6', 'atr30', 'atr35', 'ijcai', 'atr36', 'iclr']\n",
      "Accuracy: 91.69%\n",
      "Selected Feature Names: ['atr25', 'atr39', 'num_ref', 'num_ref_3years', 'acm_tran', 'cvpr', 'atr14', 'icml', 'arxiv', 'atr7', 'atr20', 'sigkdd', 'neurips', 'atr26', 'icassp', 'atr33', 'atr9', 'eccv', 'icra', 'iccv', 'jmlr', 'atr31', 'atr38', 'atr16', 'atr6', 'atr30', 'atr35', 'ijcai', 'atr36', 'iclr', 'acl']\n",
      "Accuracy: 91.05%\n",
      "Selected Feature Names: ['atr25', 'atr39', 'num_ref', 'num_ref_3years', 'acm_tran', 'cvpr', 'atr14', 'icml', 'arxiv', 'atr7', 'atr20', 'sigkdd', 'neurips', 'atr26', 'icassp', 'atr33', 'atr9', 'eccv', 'icra', 'iccv', 'jmlr', 'atr31', 'atr38', 'atr16', 'atr6', 'atr30', 'atr35', 'ijcai', 'atr36', 'iclr', 'acl', 'atr13']\n",
      "Accuracy: 92.33%\n",
      "Selected Feature Names: ['atr25', 'atr39', 'num_ref', 'num_ref_3years', 'acm_tran', 'cvpr', 'atr14', 'icml', 'arxiv', 'atr7', 'atr20', 'sigkdd', 'neurips', 'atr26', 'icassp', 'atr33', 'atr9', 'eccv', 'icra', 'iccv', 'jmlr', 'atr31', 'atr38', 'atr16', 'atr6', 'atr30', 'atr35', 'ijcai', 'atr36', 'iclr', 'acl', 'atr13', 'atr17']\n",
      "Accuracy: 93.61%\n",
      "Selected Feature Names: ['atr25', 'atr39', 'num_ref', 'num_ref_3years', 'acm_tran', 'cvpr', 'atr14', 'icml', 'arxiv', 'atr7', 'atr20', 'sigkdd', 'neurips', 'atr26', 'icassp', 'atr33', 'atr9', 'eccv', 'icra', 'iccv', 'jmlr', 'atr31', 'atr38', 'atr16', 'atr6', 'atr30', 'atr35', 'ijcai', 'atr36', 'iclr', 'acl', 'atr13', 'atr17', 'atr34']\n",
      "Accuracy: 91.69%\n",
      "Selected Feature Names: ['atr25', 'atr39', 'num_ref', 'num_ref_3years', 'acm_tran', 'cvpr', 'atr14', 'icml', 'arxiv', 'atr7', 'atr20', 'sigkdd', 'neurips', 'atr26', 'icassp', 'atr33', 'atr9', 'eccv', 'icra', 'iccv', 'jmlr', 'atr31', 'atr38', 'atr16', 'atr6', 'atr30', 'atr35', 'ijcai', 'atr36', 'iclr', 'acl', 'atr13', 'atr17', 'atr34', 'atr18']\n",
      "Accuracy: 92.01%\n",
      "Selected Feature Names: ['atr25', 'atr39', 'num_ref', 'num_ref_3years', 'acm_tran', 'cvpr', 'atr14', 'icml', 'arxiv', 'atr7', 'atr20', 'sigkdd', 'neurips', 'atr26', 'icassp', 'atr33', 'atr9', 'eccv', 'icra', 'iccv', 'jmlr', 'atr31', 'atr38', 'atr16', 'atr6', 'atr30', 'atr35', 'ijcai', 'atr36', 'iclr', 'acl', 'atr13', 'atr17', 'atr34', 'atr18', 'emnlp']\n",
      "Accuracy: 91.37%\n",
      "Selected Feature Names: ['atr25', 'atr39', 'num_ref', 'num_ref_3years', 'acm_tran', 'cvpr', 'atr14', 'icml', 'arxiv', 'atr7', 'atr20', 'sigkdd', 'neurips', 'atr26', 'icassp', 'atr33', 'atr9', 'eccv', 'icra', 'iccv', 'jmlr', 'atr31', 'atr38', 'atr16', 'atr6', 'atr30', 'atr35', 'ijcai', 'atr36', 'iclr', 'acl', 'atr13', 'atr17', 'atr34', 'atr18', 'emnlp', 'atr24']\n",
      "Accuracy: 89.46%\n",
      "Selected Feature Names: ['atr25', 'atr39', 'num_ref', 'num_ref_3years', 'acm_tran', 'cvpr', 'atr14', 'icml', 'arxiv', 'atr7', 'atr20', 'sigkdd', 'neurips', 'atr26', 'icassp', 'atr33', 'atr9', 'eccv', 'icra', 'iccv', 'jmlr', 'atr31', 'atr38', 'atr16', 'atr6', 'atr30', 'atr35', 'ijcai', 'atr36', 'iclr', 'acl', 'atr13', 'atr17', 'atr34', 'atr18', 'emnlp', 'atr24', 'atr21']\n",
      "Accuracy: 92.33%\n",
      "Selected Feature Names: ['atr25', 'atr39', 'num_ref', 'num_ref_3years', 'acm_tran', 'cvpr', 'atr14', 'icml', 'arxiv', 'atr7', 'atr20', 'sigkdd', 'neurips', 'atr26', 'icassp', 'atr33', 'atr9', 'eccv', 'icra', 'iccv', 'jmlr', 'atr31', 'atr38', 'atr16', 'atr6', 'atr30', 'atr35', 'ijcai', 'atr36', 'iclr', 'acl', 'atr13', 'atr17', 'atr34', 'atr18', 'emnlp', 'atr24', 'atr21', 'atr5']\n",
      "Accuracy: 92.01%\n",
      "Selected Feature Names: ['atr25', 'atr39', 'num_ref', 'num_ref_3years', 'acm_tran', 'cvpr', 'atr14', 'icml', 'arxiv', 'atr7', 'atr20', 'sigkdd', 'neurips', 'atr26', 'icassp', 'atr33', 'atr9', 'eccv', 'icra', 'iccv', 'jmlr', 'atr31', 'atr38', 'atr16', 'atr6', 'atr30', 'atr35', 'ijcai', 'atr36', 'iclr', 'acl', 'atr13', 'atr17', 'atr34', 'atr18', 'emnlp', 'atr24', 'atr21', 'atr5', 'atr27']\n",
      "Accuracy: 91.69%\n",
      "Selected Feature Names: ['atr25', 'atr39', 'num_ref', 'num_ref_3years', 'acm_tran', 'cvpr', 'atr14', 'icml', 'arxiv', 'atr7', 'atr20', 'sigkdd', 'neurips', 'atr26', 'icassp', 'atr33', 'atr9', 'eccv', 'icra', 'iccv', 'jmlr', 'atr31', 'atr38', 'atr16', 'atr6', 'atr30', 'atr35', 'ijcai', 'atr36', 'iclr', 'acl', 'atr13', 'atr17', 'atr34', 'atr18', 'emnlp', 'atr24', 'atr21', 'atr5', 'atr27', 'atr3']\n",
      "Accuracy: 91.69%\n",
      "Selected Feature Names: ['atr25', 'atr39', 'num_ref', 'num_ref_3years', 'acm_tran', 'cvpr', 'atr14', 'icml', 'arxiv', 'atr7', 'atr20', 'sigkdd', 'neurips', 'atr26', 'icassp', 'atr33', 'atr9', 'eccv', 'icra', 'iccv', 'jmlr', 'atr31', 'atr38', 'atr16', 'atr6', 'atr30', 'atr35', 'ijcai', 'atr36', 'iclr', 'acl', 'atr13', 'atr17', 'atr34', 'atr18', 'emnlp', 'atr24', 'atr21', 'atr5', 'atr27', 'atr3', 'nature']\n",
      "Accuracy: 93.29%\n",
      "Selected Feature Names: ['atr25', 'atr39', 'num_ref', 'num_ref_3years', 'acm_tran', 'cvpr', 'atr14', 'icml', 'arxiv', 'atr7', 'atr20', 'sigkdd', 'neurips', 'atr26', 'icassp', 'atr33', 'atr9', 'eccv', 'icra', 'iccv', 'jmlr', 'atr31', 'atr38', 'atr16', 'atr6', 'atr30', 'atr35', 'ijcai', 'atr36', 'iclr', 'acl', 'atr13', 'atr17', 'atr34', 'atr18', 'emnlp', 'atr24', 'atr21', 'atr5', 'atr27', 'atr3', 'nature', 'atr32']\n",
      "Accuracy: 91.37%\n",
      "Selected Feature Names: ['atr25', 'atr39', 'num_ref', 'num_ref_3years', 'acm_tran', 'cvpr', 'atr14', 'icml', 'arxiv', 'atr7', 'atr20', 'sigkdd', 'neurips', 'atr26', 'icassp', 'atr33', 'atr9', 'eccv', 'icra', 'iccv', 'jmlr', 'atr31', 'atr38', 'atr16', 'atr6', 'atr30', 'atr35', 'ijcai', 'atr36', 'iclr', 'acl', 'atr13', 'atr17', 'atr34', 'atr18', 'emnlp', 'atr24', 'atr21', 'atr5', 'atr27', 'atr3', 'nature', 'atr32', 'aistats']\n",
      "Accuracy: 92.97%\n",
      "Selected Feature Names: ['atr25', 'atr39', 'num_ref', 'num_ref_3years', 'acm_tran', 'cvpr', 'atr14', 'icml', 'arxiv', 'atr7', 'atr20', 'sigkdd', 'neurips', 'atr26', 'icassp', 'atr33', 'atr9', 'eccv', 'icra', 'iccv', 'jmlr', 'atr31', 'atr38', 'atr16', 'atr6', 'atr30', 'atr35', 'ijcai', 'atr36', 'iclr', 'acl', 'atr13', 'atr17', 'atr34', 'atr18', 'emnlp', 'atr24', 'atr21', 'atr5', 'atr27', 'atr3', 'nature', 'atr32', 'aistats', 'atr2']\n",
      "Accuracy: 92.33%\n",
      "Selected Feature Names: ['atr25', 'atr39', 'num_ref', 'num_ref_3years', 'acm_tran', 'cvpr', 'atr14', 'icml', 'arxiv', 'atr7', 'atr20', 'sigkdd', 'neurips', 'atr26', 'icassp', 'atr33', 'atr9', 'eccv', 'icra', 'iccv', 'jmlr', 'atr31', 'atr38', 'atr16', 'atr6', 'atr30', 'atr35', 'ijcai', 'atr36', 'iclr', 'acl', 'atr13', 'atr17', 'atr34', 'atr18', 'emnlp', 'atr24', 'atr21', 'atr5', 'atr27', 'atr3', 'nature', 'atr32', 'aistats', 'atr2', 'atr8']\n",
      "Accuracy: 93.29%\n",
      "Selected Feature Names: ['atr25', 'atr39', 'num_ref', 'num_ref_3years', 'acm_tran', 'cvpr', 'atr14', 'icml', 'arxiv', 'atr7', 'atr20', 'sigkdd', 'neurips', 'atr26', 'icassp', 'atr33', 'atr9', 'eccv', 'icra', 'iccv', 'jmlr', 'atr31', 'atr38', 'atr16', 'atr6', 'atr30', 'atr35', 'ijcai', 'atr36', 'iclr', 'acl', 'atr13', 'atr17', 'atr34', 'atr18', 'emnlp', 'atr24', 'atr21', 'atr5', 'atr27', 'atr3', 'nature', 'atr32', 'aistats', 'atr2', 'atr8', 'atr22']\n",
      "Accuracy: 92.65%\n",
      "Selected Feature Names: ['atr25', 'atr39', 'num_ref', 'num_ref_3years', 'acm_tran', 'cvpr', 'atr14', 'icml', 'arxiv', 'atr7', 'atr20', 'sigkdd', 'neurips', 'atr26', 'icassp', 'atr33', 'atr9', 'eccv', 'icra', 'iccv', 'jmlr', 'atr31', 'atr38', 'atr16', 'atr6', 'atr30', 'atr35', 'ijcai', 'atr36', 'iclr', 'acl', 'atr13', 'atr17', 'atr34', 'atr18', 'emnlp', 'atr24', 'atr21', 'atr5', 'atr27', 'atr3', 'nature', 'atr32', 'aistats', 'atr2', 'atr8', 'atr22', 'ieee_tran']\n",
      "Accuracy: 92.01%\n",
      "Selected Feature Names: ['atr25', 'atr39', 'num_ref', 'num_ref_3years', 'acm_tran', 'cvpr', 'atr14', 'icml', 'arxiv', 'atr7', 'atr20', 'sigkdd', 'neurips', 'atr26', 'icassp', 'atr33', 'atr9', 'eccv', 'icra', 'iccv', 'jmlr', 'atr31', 'atr38', 'atr16', 'atr6', 'atr30', 'atr35', 'ijcai', 'atr36', 'iclr', 'acl', 'atr13', 'atr17', 'atr34', 'atr18', 'emnlp', 'atr24', 'atr21', 'atr5', 'atr27', 'atr3', 'nature', 'atr32', 'aistats', 'atr2', 'atr8', 'atr22', 'ieee_tran', 'atr19']\n",
      "Accuracy: 92.97%\n",
      "Selected Feature Names: ['atr25', 'atr39', 'num_ref', 'num_ref_3years', 'acm_tran', 'cvpr', 'atr14', 'icml', 'arxiv', 'atr7', 'atr20', 'sigkdd', 'neurips', 'atr26', 'icassp', 'atr33', 'atr9', 'eccv', 'icra', 'iccv', 'jmlr', 'atr31', 'atr38', 'atr16', 'atr6', 'atr30', 'atr35', 'ijcai', 'atr36', 'iclr', 'acl', 'atr13', 'atr17', 'atr34', 'atr18', 'emnlp', 'atr24', 'atr21', 'atr5', 'atr27', 'atr3', 'nature', 'atr32', 'aistats', 'atr2', 'atr8', 'atr22', 'ieee_tran', 'atr19', 'atr12']\n",
      "Accuracy: 92.97%\n",
      "Selected Feature Names: ['atr25', 'atr39', 'num_ref', 'num_ref_3years', 'acm_tran', 'cvpr', 'atr14', 'icml', 'arxiv', 'atr7', 'atr20', 'sigkdd', 'neurips', 'atr26', 'icassp', 'atr33', 'atr9', 'eccv', 'icra', 'iccv', 'jmlr', 'atr31', 'atr38', 'atr16', 'atr6', 'atr30', 'atr35', 'ijcai', 'atr36', 'iclr', 'acl', 'atr13', 'atr17', 'atr34', 'atr18', 'emnlp', 'atr24', 'atr21', 'atr5', 'atr27', 'atr3', 'nature', 'atr32', 'aistats', 'atr2', 'atr8', 'atr22', 'ieee_tran', 'atr19', 'atr12', 'atr15']\n",
      "Accuracy: 93.29%\n",
      "Selected Feature Names: ['atr25', 'atr39', 'num_ref', 'num_ref_3years', 'acm_tran', 'cvpr', 'atr14', 'icml', 'arxiv', 'atr7', 'atr20', 'sigkdd', 'neurips', 'atr26', 'icassp', 'atr33', 'atr9', 'eccv', 'icra', 'iccv', 'jmlr', 'atr31', 'atr38', 'atr16', 'atr6', 'atr30', 'atr35', 'ijcai', 'atr36', 'iclr', 'acl', 'atr13', 'atr17', 'atr34', 'atr18', 'emnlp', 'atr24', 'atr21', 'atr5', 'atr27', 'atr3', 'nature', 'atr32', 'aistats', 'atr2', 'atr8', 'atr22', 'ieee_tran', 'atr19', 'atr12', 'atr15', 'atr10']\n",
      "Accuracy: 92.33%\n",
      "Selected Feature Names: ['atr25', 'atr39', 'num_ref', 'num_ref_3years', 'acm_tran', 'cvpr', 'atr14', 'icml', 'arxiv', 'atr7', 'atr20', 'sigkdd', 'neurips', 'atr26', 'icassp', 'atr33', 'atr9', 'eccv', 'icra', 'iccv', 'jmlr', 'atr31', 'atr38', 'atr16', 'atr6', 'atr30', 'atr35', 'ijcai', 'atr36', 'iclr', 'acl', 'atr13', 'atr17', 'atr34', 'atr18', 'emnlp', 'atr24', 'atr21', 'atr5', 'atr27', 'atr3', 'nature', 'atr32', 'aistats', 'atr2', 'atr8', 'atr22', 'ieee_tran', 'atr19', 'atr12', 'atr15', 'atr10', 'aaai']\n",
      "Accuracy: 92.65%\n",
      "Selected Feature Names: ['atr25', 'atr39', 'num_ref', 'num_ref_3years', 'acm_tran', 'cvpr', 'atr14', 'icml', 'arxiv', 'atr7', 'atr20', 'sigkdd', 'neurips', 'atr26', 'icassp', 'atr33', 'atr9', 'eccv', 'icra', 'iccv', 'jmlr', 'atr31', 'atr38', 'atr16', 'atr6', 'atr30', 'atr35', 'ijcai', 'atr36', 'iclr', 'acl', 'atr13', 'atr17', 'atr34', 'atr18', 'emnlp', 'atr24', 'atr21', 'atr5', 'atr27', 'atr3', 'nature', 'atr32', 'aistats', 'atr2', 'atr8', 'atr22', 'ieee_tran', 'atr19', 'atr12', 'atr15', 'atr10', 'aaai', 'atr29']\n",
      "Accuracy: 92.01%\n",
      "Selected Feature Names: ['atr25', 'atr39', 'num_ref', 'num_ref_3years', 'acm_tran', 'cvpr', 'atr14', 'icml', 'arxiv', 'atr7', 'atr20', 'sigkdd', 'neurips', 'atr26', 'icassp', 'atr33', 'atr9', 'eccv', 'icra', 'iccv', 'jmlr', 'atr31', 'atr38', 'atr16', 'atr6', 'atr30', 'atr35', 'ijcai', 'atr36', 'iclr', 'acl', 'atr13', 'atr17', 'atr34', 'atr18', 'emnlp', 'atr24', 'atr21', 'atr5', 'atr27', 'atr3', 'nature', 'atr32', 'aistats', 'atr2', 'atr8', 'atr22', 'ieee_tran', 'atr19', 'atr12', 'atr15', 'atr10', 'aaai', 'atr29', 'naacl']\n",
      "Accuracy: 92.33%\n",
      "Selected Feature Names: ['atr25', 'atr39', 'num_ref', 'num_ref_3years', 'acm_tran', 'cvpr', 'atr14', 'icml', 'arxiv', 'atr7', 'atr20', 'sigkdd', 'neurips', 'atr26', 'icassp', 'atr33', 'atr9', 'eccv', 'icra', 'iccv', 'jmlr', 'atr31', 'atr38', 'atr16', 'atr6', 'atr30', 'atr35', 'ijcai', 'atr36', 'iclr', 'acl', 'atr13', 'atr17', 'atr34', 'atr18', 'emnlp', 'atr24', 'atr21', 'atr5', 'atr27', 'atr3', 'nature', 'atr32', 'aistats', 'atr2', 'atr8', 'atr22', 'ieee_tran', 'atr19', 'atr12', 'atr15', 'atr10', 'aaai', 'atr29', 'naacl', 'atr0']\n",
      "Accuracy: 92.65%\n",
      "Selected Feature Names: ['atr25', 'atr39', 'num_ref', 'num_ref_3years', 'acm_tran', 'cvpr', 'atr14', 'icml', 'arxiv', 'atr7', 'atr20', 'sigkdd', 'neurips', 'atr26', 'icassp', 'atr33', 'atr9', 'eccv', 'icra', 'iccv', 'jmlr', 'atr31', 'atr38', 'atr16', 'atr6', 'atr30', 'atr35', 'ijcai', 'atr36', 'iclr', 'acl', 'atr13', 'atr17', 'atr34', 'atr18', 'emnlp', 'atr24', 'atr21', 'atr5', 'atr27', 'atr3', 'nature', 'atr32', 'aistats', 'atr2', 'atr8', 'atr22', 'ieee_tran', 'atr19', 'atr12', 'atr15', 'atr10', 'aaai', 'atr29', 'naacl', 'atr0', 'atr23']\n",
      "Accuracy: 93.61%\n",
      "Selected Feature Names: ['atr25', 'atr39', 'num_ref', 'num_ref_3years', 'acm_tran', 'cvpr', 'atr14', 'icml', 'arxiv', 'atr7', 'atr20', 'sigkdd', 'neurips', 'atr26', 'icassp', 'atr33', 'atr9', 'eccv', 'icra', 'iccv', 'jmlr', 'atr31', 'atr38', 'atr16', 'atr6', 'atr30', 'atr35', 'ijcai', 'atr36', 'iclr', 'acl', 'atr13', 'atr17', 'atr34', 'atr18', 'emnlp', 'atr24', 'atr21', 'atr5', 'atr27', 'atr3', 'nature', 'atr32', 'aistats', 'atr2', 'atr8', 'atr22', 'ieee_tran', 'atr19', 'atr12', 'atr15', 'atr10', 'aaai', 'atr29', 'naacl', 'atr0', 'atr23', 'atr1']\n",
      "Accuracy: 93.29%\n",
      "Selected Feature Names: ['atr25', 'atr39', 'num_ref', 'num_ref_3years', 'acm_tran', 'cvpr', 'atr14', 'icml', 'arxiv', 'atr7', 'atr20', 'sigkdd', 'neurips', 'atr26', 'icassp', 'atr33', 'atr9', 'eccv', 'icra', 'iccv', 'jmlr', 'atr31', 'atr38', 'atr16', 'atr6', 'atr30', 'atr35', 'ijcai', 'atr36', 'iclr', 'acl', 'atr13', 'atr17', 'atr34', 'atr18', 'emnlp', 'atr24', 'atr21', 'atr5', 'atr27', 'atr3', 'nature', 'atr32', 'aistats', 'atr2', 'atr8', 'atr22', 'ieee_tran', 'atr19', 'atr12', 'atr15', 'atr10', 'aaai', 'atr29', 'naacl', 'atr0', 'atr23', 'atr1', 'neuralcom']\n",
      "Accuracy: 92.33%\n",
      "Selected Feature Names: ['atr25', 'atr39', 'num_ref', 'num_ref_3years', 'acm_tran', 'cvpr', 'atr14', 'icml', 'arxiv', 'atr7', 'atr20', 'sigkdd', 'neurips', 'atr26', 'icassp', 'atr33', 'atr9', 'eccv', 'icra', 'iccv', 'jmlr', 'atr31', 'atr38', 'atr16', 'atr6', 'atr30', 'atr35', 'ijcai', 'atr36', 'iclr', 'acl', 'atr13', 'atr17', 'atr34', 'atr18', 'emnlp', 'atr24', 'atr21', 'atr5', 'atr27', 'atr3', 'nature', 'atr32', 'aistats', 'atr2', 'atr8', 'atr22', 'ieee_tran', 'atr19', 'atr12', 'atr15', 'atr10', 'aaai', 'atr29', 'naacl', 'atr0', 'atr23', 'atr1', 'neuralcom', 'mit_press']\n",
      "Accuracy: 92.97%\n",
      "Selected Feature Names: ['atr25', 'atr39', 'num_ref', 'num_ref_3years', 'acm_tran', 'cvpr', 'atr14', 'icml', 'arxiv', 'atr7', 'atr20', 'sigkdd', 'neurips', 'atr26', 'icassp', 'atr33', 'atr9', 'eccv', 'icra', 'iccv', 'jmlr', 'atr31', 'atr38', 'atr16', 'atr6', 'atr30', 'atr35', 'ijcai', 'atr36', 'iclr', 'acl', 'atr13', 'atr17', 'atr34', 'atr18', 'emnlp', 'atr24', 'atr21', 'atr5', 'atr27', 'atr3', 'nature', 'atr32', 'aistats', 'atr2', 'atr8', 'atr22', 'ieee_tran', 'atr19', 'atr12', 'atr15', 'atr10', 'aaai', 'atr29', 'naacl', 'atr0', 'atr23', 'atr1', 'neuralcom', 'mit_press', 'atr4']\n",
      "Accuracy: 92.65%\n",
      "Selected Feature Names: ['atr25', 'atr39', 'num_ref', 'num_ref_3years', 'acm_tran', 'cvpr', 'atr14', 'icml', 'arxiv', 'atr7', 'atr20', 'sigkdd', 'neurips', 'atr26', 'icassp', 'atr33', 'atr9', 'eccv', 'icra', 'iccv', 'jmlr', 'atr31', 'atr38', 'atr16', 'atr6', 'atr30', 'atr35', 'ijcai', 'atr36', 'iclr', 'acl', 'atr13', 'atr17', 'atr34', 'atr18', 'emnlp', 'atr24', 'atr21', 'atr5', 'atr27', 'atr3', 'nature', 'atr32', 'aistats', 'atr2', 'atr8', 'atr22', 'ieee_tran', 'atr19', 'atr12', 'atr15', 'atr10', 'aaai', 'atr29', 'naacl', 'atr0', 'atr23', 'atr1', 'neuralcom', 'mit_press', 'atr4', 'atr28']\n",
      "Accuracy: 93.61%\n",
      "Selected Feature Names: ['atr25', 'atr39', 'num_ref', 'num_ref_3years', 'acm_tran', 'cvpr', 'atr14', 'icml', 'arxiv', 'atr7', 'atr20', 'sigkdd', 'neurips', 'atr26', 'icassp', 'atr33', 'atr9', 'eccv', 'icra', 'iccv', 'jmlr', 'atr31', 'atr38', 'atr16', 'atr6', 'atr30', 'atr35', 'ijcai', 'atr36', 'iclr', 'acl', 'atr13', 'atr17', 'atr34', 'atr18', 'emnlp', 'atr24', 'atr21', 'atr5', 'atr27', 'atr3', 'nature', 'atr32', 'aistats', 'atr2', 'atr8', 'atr22', 'ieee_tran', 'atr19', 'atr12', 'atr15', 'atr10', 'aaai', 'atr29', 'naacl', 'atr0', 'atr23', 'atr1', 'neuralcom', 'mit_press', 'atr4', 'atr28', 'atr11']\n",
      "Accuracy: 93.29%\n",
      "Selected Feature Names: ['atr25', 'atr39', 'num_ref', 'num_ref_3years', 'acm_tran', 'cvpr', 'atr14', 'icml', 'arxiv', 'atr7', 'atr20', 'sigkdd', 'neurips', 'atr26', 'icassp', 'atr33', 'atr9', 'eccv', 'icra', 'iccv', 'jmlr', 'atr31', 'atr38', 'atr16', 'atr6', 'atr30', 'atr35', 'ijcai', 'atr36', 'iclr', 'acl', 'atr13', 'atr17', 'atr34', 'atr18', 'emnlp', 'atr24', 'atr21', 'atr5', 'atr27', 'atr3', 'nature', 'atr32', 'aistats', 'atr2', 'atr8', 'atr22', 'ieee_tran', 'atr19', 'atr12', 'atr15', 'atr10', 'aaai', 'atr29', 'naacl', 'atr0', 'atr23', 'atr1', 'neuralcom', 'mit_press', 'atr4', 'atr28', 'atr11', 'atr37']\n",
      "Accuracy: 91.69%\n"
     ]
    }
   ],
   "source": [
    "for i in dict(enumerate(combination)):\n",
    "    accuracy = model(combination, y, i+1)\n",
    "    print(\"Accuracy: %.2f%%\" % (accuracy * 100.0))"
   ]
  },
  {
   "cell_type": "code",
   "execution_count": 156,
   "metadata": {},
   "outputs": [],
   "source": [
    "test.to_excel('meaningful.xlsx', index=False)"
   ]
  }
 ],
 "metadata": {
  "kernelspec": {
   "display_name": "Python 3",
   "language": "python",
   "name": "python3"
  },
  "language_info": {
   "codemirror_mode": {
    "name": "ipython",
    "version": 3
   },
   "file_extension": ".py",
   "mimetype": "text/x-python",
   "name": "python",
   "nbconvert_exporter": "python",
   "pygments_lexer": "ipython3",
   "version": "3.10.9"
  }
 },
 "nbformat": 4,
 "nbformat_minor": 2
}
