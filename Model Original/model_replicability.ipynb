{
 "cells": [
  {
   "cell_type": "code",
   "execution_count": 1,
   "metadata": {},
   "outputs": [
    {
     "data": {
      "text/html": [
       "<div>\n",
       "<style scoped>\n",
       "    .dataframe tbody tr th:only-of-type {\n",
       "        vertical-align: middle;\n",
       "    }\n",
       "\n",
       "    .dataframe tbody tr th {\n",
       "        vertical-align: top;\n",
       "    }\n",
       "\n",
       "    .dataframe thead th {\n",
       "        text-align: right;\n",
       "    }\n",
       "</style>\n",
       "<table border=\"1\" class=\"dataframe\">\n",
       "  <thead>\n",
       "    <tr style=\"text-align: right;\">\n",
       "      <th></th>\n",
       "      <th>replicability</th>\n",
       "      <th>year</th>\n",
       "      <th>title</th>\n",
       "      <th>num_ref</th>\n",
       "      <th>num_ref_3years</th>\n",
       "      <th>arxiv</th>\n",
       "      <th>neurips</th>\n",
       "      <th>iclr</th>\n",
       "      <th>icml</th>\n",
       "      <th>aaai</th>\n",
       "      <th>...</th>\n",
       "      <th>atr37</th>\n",
       "      <th>atr38</th>\n",
       "      <th>atr39</th>\n",
       "      <th>citation_count</th>\n",
       "      <th>citedIn2018</th>\n",
       "      <th>citedIn2019</th>\n",
       "      <th>citedIn2020</th>\n",
       "      <th>citedIn2021</th>\n",
       "      <th>citedIn2022</th>\n",
       "      <th>citedIn2023</th>\n",
       "    </tr>\n",
       "  </thead>\n",
       "  <tbody>\n",
       "    <tr>\n",
       "      <th>0</th>\n",
       "      <td>0</td>\n",
       "      <td>2018</td>\n",
       "      <td>A Deep Reinforced Model for Abstractive Summar...</td>\n",
       "      <td>37</td>\n",
       "      <td>18</td>\n",
       "      <td>8</td>\n",
       "      <td>4</td>\n",
       "      <td>3</td>\n",
       "      <td>0</td>\n",
       "      <td>2</td>\n",
       "      <td>...</td>\n",
       "      <td>3</td>\n",
       "      <td>17</td>\n",
       "      <td>113</td>\n",
       "      <td>1195</td>\n",
       "      <td>157</td>\n",
       "      <td>223</td>\n",
       "      <td>261</td>\n",
       "      <td>168</td>\n",
       "      <td>139</td>\n",
       "      <td>48</td>\n",
       "    </tr>\n",
       "    <tr>\n",
       "      <th>1</th>\n",
       "      <td>0</td>\n",
       "      <td>2019</td>\n",
       "      <td>KnockoffGAN: Generating Knockoffs for Feature ...</td>\n",
       "      <td>36</td>\n",
       "      <td>8</td>\n",
       "      <td>7</td>\n",
       "      <td>0</td>\n",
       "      <td>2</td>\n",
       "      <td>1</td>\n",
       "      <td>0</td>\n",
       "      <td>...</td>\n",
       "      <td>2</td>\n",
       "      <td>52</td>\n",
       "      <td>226</td>\n",
       "      <td>41</td>\n",
       "      <td>2</td>\n",
       "      <td>11</td>\n",
       "      <td>8</td>\n",
       "      <td>11</td>\n",
       "      <td>12</td>\n",
       "      <td>1</td>\n",
       "    </tr>\n",
       "    <tr>\n",
       "      <th>2</th>\n",
       "      <td>0</td>\n",
       "      <td>2017</td>\n",
       "      <td>Lie-Access Neural Turing Machines</td>\n",
       "      <td>19</td>\n",
       "      <td>11</td>\n",
       "      <td>1</td>\n",
       "      <td>0</td>\n",
       "      <td>0</td>\n",
       "      <td>0</td>\n",
       "      <td>0</td>\n",
       "      <td>...</td>\n",
       "      <td>1</td>\n",
       "      <td>59</td>\n",
       "      <td>136</td>\n",
       "      <td>19</td>\n",
       "      <td>1</td>\n",
       "      <td>1</td>\n",
       "      <td>0</td>\n",
       "      <td>1</td>\n",
       "      <td>1</td>\n",
       "      <td>0</td>\n",
       "    </tr>\n",
       "    <tr>\n",
       "      <th>3</th>\n",
       "      <td>0</td>\n",
       "      <td>2020</td>\n",
       "      <td>Emergence of functional and structural propert...</td>\n",
       "      <td>64</td>\n",
       "      <td>11</td>\n",
       "      <td>0</td>\n",
       "      <td>1</td>\n",
       "      <td>1</td>\n",
       "      <td>0</td>\n",
       "      <td>0</td>\n",
       "      <td>...</td>\n",
       "      <td>3</td>\n",
       "      <td>76</td>\n",
       "      <td>186</td>\n",
       "      <td>20</td>\n",
       "      <td>0</td>\n",
       "      <td>1</td>\n",
       "      <td>7</td>\n",
       "      <td>7</td>\n",
       "      <td>4</td>\n",
       "      <td>5</td>\n",
       "    </tr>\n",
       "    <tr>\n",
       "      <th>4</th>\n",
       "      <td>0</td>\n",
       "      <td>2019</td>\n",
       "      <td>TimbreTron: A WaveNet(CycleGAN(CQT(Audio))) Pi...</td>\n",
       "      <td>42</td>\n",
       "      <td>20</td>\n",
       "      <td>14</td>\n",
       "      <td>0</td>\n",
       "      <td>1</td>\n",
       "      <td>0</td>\n",
       "      <td>0</td>\n",
       "      <td>...</td>\n",
       "      <td>1</td>\n",
       "      <td>48</td>\n",
       "      <td>182</td>\n",
       "      <td>87</td>\n",
       "      <td>0</td>\n",
       "      <td>9</td>\n",
       "      <td>20</td>\n",
       "      <td>16</td>\n",
       "      <td>13</td>\n",
       "      <td>5</td>\n",
       "    </tr>\n",
       "    <tr>\n",
       "      <th>...</th>\n",
       "      <td>...</td>\n",
       "      <td>...</td>\n",
       "      <td>...</td>\n",
       "      <td>...</td>\n",
       "      <td>...</td>\n",
       "      <td>...</td>\n",
       "      <td>...</td>\n",
       "      <td>...</td>\n",
       "      <td>...</td>\n",
       "      <td>...</td>\n",
       "      <td>...</td>\n",
       "      <td>...</td>\n",
       "      <td>...</td>\n",
       "      <td>...</td>\n",
       "      <td>...</td>\n",
       "      <td>...</td>\n",
       "      <td>...</td>\n",
       "      <td>...</td>\n",
       "      <td>...</td>\n",
       "      <td>...</td>\n",
       "      <td>...</td>\n",
       "    </tr>\n",
       "    <tr>\n",
       "      <th>710</th>\n",
       "      <td>0</td>\n",
       "      <td>2017</td>\n",
       "      <td>Generative Models and Model Criticism via Opti...</td>\n",
       "      <td>30</td>\n",
       "      <td>13</td>\n",
       "      <td>1</td>\n",
       "      <td>3</td>\n",
       "      <td>9</td>\n",
       "      <td>0</td>\n",
       "      <td>1</td>\n",
       "      <td>...</td>\n",
       "      <td>0</td>\n",
       "      <td>31</td>\n",
       "      <td>100</td>\n",
       "      <td>197</td>\n",
       "      <td>9</td>\n",
       "      <td>10</td>\n",
       "      <td>11</td>\n",
       "      <td>6</td>\n",
       "      <td>7</td>\n",
       "      <td>2</td>\n",
       "    </tr>\n",
       "    <tr>\n",
       "      <th>711</th>\n",
       "      <td>0</td>\n",
       "      <td>2019</td>\n",
       "      <td>Disjoint Mapping Network for Cross-modal Match...</td>\n",
       "      <td>26</td>\n",
       "      <td>8</td>\n",
       "      <td>5</td>\n",
       "      <td>0</td>\n",
       "      <td>2</td>\n",
       "      <td>1</td>\n",
       "      <td>0</td>\n",
       "      <td>...</td>\n",
       "      <td>1</td>\n",
       "      <td>104</td>\n",
       "      <td>285</td>\n",
       "      <td>41</td>\n",
       "      <td>1</td>\n",
       "      <td>9</td>\n",
       "      <td>9</td>\n",
       "      <td>13</td>\n",
       "      <td>11</td>\n",
       "      <td>4</td>\n",
       "    </tr>\n",
       "    <tr>\n",
       "      <th>712</th>\n",
       "      <td>0</td>\n",
       "      <td>2020</td>\n",
       "      <td>Duration-of-Stay Storage Assignment under Unce...</td>\n",
       "      <td>24</td>\n",
       "      <td>1</td>\n",
       "      <td>3</td>\n",
       "      <td>0</td>\n",
       "      <td>0</td>\n",
       "      <td>0</td>\n",
       "      <td>0</td>\n",
       "      <td>...</td>\n",
       "      <td>0</td>\n",
       "      <td>59</td>\n",
       "      <td>191</td>\n",
       "      <td>2</td>\n",
       "      <td>0</td>\n",
       "      <td>0</td>\n",
       "      <td>1</td>\n",
       "      <td>1</td>\n",
       "      <td>0</td>\n",
       "      <td>0</td>\n",
       "    </tr>\n",
       "    <tr>\n",
       "      <th>713</th>\n",
       "      <td>0</td>\n",
       "      <td>2019</td>\n",
       "      <td>Guiding Policies with Language via Meta-Learning</td>\n",
       "      <td>45</td>\n",
       "      <td>20</td>\n",
       "      <td>1</td>\n",
       "      <td>0</td>\n",
       "      <td>1</td>\n",
       "      <td>3</td>\n",
       "      <td>4</td>\n",
       "      <td>...</td>\n",
       "      <td>3</td>\n",
       "      <td>83</td>\n",
       "      <td>214</td>\n",
       "      <td>44</td>\n",
       "      <td>1</td>\n",
       "      <td>10</td>\n",
       "      <td>10</td>\n",
       "      <td>9</td>\n",
       "      <td>15</td>\n",
       "      <td>4</td>\n",
       "    </tr>\n",
       "    <tr>\n",
       "      <th>714</th>\n",
       "      <td>0</td>\n",
       "      <td>2018</td>\n",
       "      <td>The Implicit Bias of Gradient Descent on Separ...</td>\n",
       "      <td>7</td>\n",
       "      <td>3</td>\n",
       "      <td>1</td>\n",
       "      <td>0</td>\n",
       "      <td>0</td>\n",
       "      <td>0</td>\n",
       "      <td>0</td>\n",
       "      <td>...</td>\n",
       "      <td>0</td>\n",
       "      <td>102</td>\n",
       "      <td>239</td>\n",
       "      <td>632</td>\n",
       "      <td>75</td>\n",
       "      <td>105</td>\n",
       "      <td>162</td>\n",
       "      <td>144</td>\n",
       "      <td>143</td>\n",
       "      <td>61</td>\n",
       "    </tr>\n",
       "  </tbody>\n",
       "</table>\n",
       "<p>715 rows × 82 columns</p>\n",
       "</div>"
      ],
      "text/plain": [
       "     replicability  year                                              title  \\\n",
       "0                0  2018  A Deep Reinforced Model for Abstractive Summar...   \n",
       "1                0  2019  KnockoffGAN: Generating Knockoffs for Feature ...   \n",
       "2                0  2017                  Lie-Access Neural Turing Machines   \n",
       "3                0  2020  Emergence of functional and structural propert...   \n",
       "4                0  2019  TimbreTron: A WaveNet(CycleGAN(CQT(Audio))) Pi...   \n",
       "..             ...   ...                                                ...   \n",
       "710              0  2017  Generative Models and Model Criticism via Opti...   \n",
       "711              0  2019  Disjoint Mapping Network for Cross-modal Match...   \n",
       "712              0  2020  Duration-of-Stay Storage Assignment under Unce...   \n",
       "713              0  2019   Guiding Policies with Language via Meta-Learning   \n",
       "714              0  2018  The Implicit Bias of Gradient Descent on Separ...   \n",
       "\n",
       "     num_ref  num_ref_3years  arxiv  neurips  iclr  icml  aaai  ...  atr37  \\\n",
       "0         37              18      8        4     3     0     2  ...      3   \n",
       "1         36               8      7        0     2     1     0  ...      2   \n",
       "2         19              11      1        0     0     0     0  ...      1   \n",
       "3         64              11      0        1     1     0     0  ...      3   \n",
       "4         42              20     14        0     1     0     0  ...      1   \n",
       "..       ...             ...    ...      ...   ...   ...   ...  ...    ...   \n",
       "710       30              13      1        3     9     0     1  ...      0   \n",
       "711       26               8      5        0     2     1     0  ...      1   \n",
       "712       24               1      3        0     0     0     0  ...      0   \n",
       "713       45              20      1        0     1     3     4  ...      3   \n",
       "714        7               3      1        0     0     0     0  ...      0   \n",
       "\n",
       "     atr38  atr39  citation_count  citedIn2018  citedIn2019  citedIn2020  \\\n",
       "0       17    113            1195          157          223          261   \n",
       "1       52    226              41            2           11            8   \n",
       "2       59    136              19            1            1            0   \n",
       "3       76    186              20            0            1            7   \n",
       "4       48    182              87            0            9           20   \n",
       "..     ...    ...             ...          ...          ...          ...   \n",
       "710     31    100             197            9           10           11   \n",
       "711    104    285              41            1            9            9   \n",
       "712     59    191               2            0            0            1   \n",
       "713     83    214              44            1           10           10   \n",
       "714    102    239             632           75          105          162   \n",
       "\n",
       "     citedIn2021  citedIn2022  citedIn2023  \n",
       "0            168          139           48  \n",
       "1             11           12            1  \n",
       "2              1            1            0  \n",
       "3              7            4            5  \n",
       "4             16           13            5  \n",
       "..           ...          ...          ...  \n",
       "710            6            7            2  \n",
       "711           13           11            4  \n",
       "712            1            0            0  \n",
       "713            9           15            4  \n",
       "714          144          143           61  \n",
       "\n",
       "[715 rows x 82 columns]"
      ]
     },
     "execution_count": 1,
     "metadata": {},
     "output_type": "execute_result"
    }
   ],
   "source": [
    "import pandas as pd \n",
    "\n",
    "data = pd.read_csv('../Dataset/replicability.csv')\n",
    "data"
   ]
  },
  {
   "cell_type": "code",
   "execution_count": 2,
   "metadata": {},
   "outputs": [],
   "source": [
    "label_counts = data.groupby(['title', 'replicability']).size().unstack(fill_value=0)\n",
    "dominant_labels = label_counts.idxmax(axis=1)\n",
    "data = data.merge(dominant_labels.rename('dominant_label'), left_on='title', right_index=True)\n",
    "df_filtered = data[data['replicability'] == data['dominant_label']]\n",
    "\n",
    "label_counts_0 = data[data['replicability'] == 0].groupby('title').size().rename('count_0')\n",
    "label_counts_1 = data[data['replicability'] == 1].groupby('title').size().rename('count_1')\n",
    "\n",
    "df_filtered = df_filtered.merge(label_counts_0, left_on='title', right_index=True, how='left')\n",
    "df_filtered = df_filtered.merge(label_counts_1, left_on='title', right_index=True, how='left')\n",
    "\n",
    "df_filtered = df_filtered[df_filtered['count_0'] != df_filtered['count_1']]\n",
    "df_filtered = df_filtered.drop(['dominant_label', 'count_0', 'count_1'], axis=1)"
   ]
  },
  {
   "cell_type": "code",
   "execution_count": 3,
   "metadata": {},
   "outputs": [
    {
     "name": "stdout",
     "output_type": "stream",
     "text": [
      "<class 'pandas.core.frame.DataFrame'>\n",
      "Int64Index: 586 entries, 0 to 714\n",
      "Data columns (total 82 columns):\n",
      " #   Column          Non-Null Count  Dtype  \n",
      "---  ------          --------------  -----  \n",
      " 0   replicability   586 non-null    int64  \n",
      " 1   year            586 non-null    int64  \n",
      " 2   title           586 non-null    object \n",
      " 3   num_ref         586 non-null    int64  \n",
      " 4   num_ref_3years  586 non-null    int64  \n",
      " 5   arxiv           586 non-null    int64  \n",
      " 6   neurips         586 non-null    int64  \n",
      " 7   iclr            586 non-null    int64  \n",
      " 8   icml            586 non-null    int64  \n",
      " 9   aaai            586 non-null    int64  \n",
      " 10  iccv            586 non-null    int64  \n",
      " 11  cvpr            586 non-null    int64  \n",
      " 12  emnlp           586 non-null    int64  \n",
      " 13  acl             586 non-null    int64  \n",
      " 14  naacl           586 non-null    int64  \n",
      " 15  eccv            586 non-null    int64  \n",
      " 16  icra            586 non-null    int64  \n",
      " 17  icassp          586 non-null    int64  \n",
      " 18  ijcai           586 non-null    int64  \n",
      " 19  aistats         586 non-null    int64  \n",
      " 20  sigkdd          586 non-null    int64  \n",
      " 21  neuralcom       586 non-null    int64  \n",
      " 22  ieee_tran       586 non-null    int64  \n",
      " 23  acm_tran        586 non-null    int64  \n",
      " 24  mit_press       586 non-null    int64  \n",
      " 25  nature          586 non-null    int64  \n",
      " 26  jmlr            586 non-null    int64  \n",
      " 27  decision_ori    586 non-null    object \n",
      " 28  decision_final  586 non-null    object \n",
      " 29  rating1         586 non-null    int64  \n",
      " 30  rating2         586 non-null    int64  \n",
      " 31  rating3         580 non-null    float64\n",
      " 32  mean            586 non-null    float64\n",
      " 33  class_label     586 non-null    object \n",
      " 34  filetype2       586 non-null    object \n",
      " 35  atr0            586 non-null    int64  \n",
      " 36  atr1            586 non-null    int64  \n",
      " 37  atr2            586 non-null    int64  \n",
      " 38  atr3            586 non-null    int64  \n",
      " 39  atr4            586 non-null    int64  \n",
      " 40  atr5            586 non-null    int64  \n",
      " 41  atr6            586 non-null    int64  \n",
      " 42  atr7            586 non-null    int64  \n",
      " 43  atr8            586 non-null    int64  \n",
      " 44  atr9            586 non-null    int64  \n",
      " 45  atr10           586 non-null    int64  \n",
      " 46  atr11           586 non-null    int64  \n",
      " 47  atr12           586 non-null    int64  \n",
      " 48  atr13           586 non-null    int64  \n",
      " 49  atr14           586 non-null    int64  \n",
      " 50  atr15           586 non-null    int64  \n",
      " 51  atr16           586 non-null    int64  \n",
      " 52  atr17           586 non-null    int64  \n",
      " 53  atr18           586 non-null    int64  \n",
      " 54  atr19           586 non-null    int64  \n",
      " 55  atr20           586 non-null    int64  \n",
      " 56  atr21           586 non-null    int64  \n",
      " 57  atr22           586 non-null    int64  \n",
      " 58  atr23           586 non-null    int64  \n",
      " 59  atr24           586 non-null    int64  \n",
      " 60  atr25           586 non-null    int64  \n",
      " 61  atr26           586 non-null    int64  \n",
      " 62  atr27           586 non-null    int64  \n",
      " 63  atr28           586 non-null    int64  \n",
      " 64  atr29           586 non-null    int64  \n",
      " 65  atr30           586 non-null    int64  \n",
      " 66  atr31           586 non-null    int64  \n",
      " 67  atr32           586 non-null    int64  \n",
      " 68  atr33           586 non-null    int64  \n",
      " 69  atr34           586 non-null    int64  \n",
      " 70  atr35           586 non-null    int64  \n",
      " 71  atr36           586 non-null    int64  \n",
      " 72  atr37           586 non-null    int64  \n",
      " 73  atr38           586 non-null    int64  \n",
      " 74  atr39           586 non-null    int64  \n",
      " 75  citation_count  586 non-null    int64  \n",
      " 76  citedIn2018     586 non-null    int64  \n",
      " 77  citedIn2019     586 non-null    int64  \n",
      " 78  citedIn2020     586 non-null    int64  \n",
      " 79  citedIn2021     586 non-null    int64  \n",
      " 80  citedIn2022     586 non-null    int64  \n",
      " 81  citedIn2023     586 non-null    int64  \n",
      "dtypes: float64(2), int64(75), object(5)\n",
      "memory usage: 380.0+ KB\n"
     ]
    }
   ],
   "source": [
    "data = df_filtered.drop_duplicates()\n",
    "data.info()"
   ]
  },
  {
   "cell_type": "code",
   "execution_count": 4,
   "metadata": {},
   "outputs": [],
   "source": [
    "data.to_csv('new-replicability.csv', index=False)"
   ]
  },
  {
   "cell_type": "code",
   "execution_count": 5,
   "metadata": {},
   "outputs": [
    {
     "data": {
      "image/png": "[encoded data removed]",
      "text/plain": [
       "<Figure size 640x480 with 1 Axes>"
      ]
     },
     "metadata": {},
     "output_type": "display_data"
    }
   ],
   "source": [
    "import seaborn as sns\n",
    "import matplotlib.pyplot as plt\n",
    "\n",
    "sns.countplot(x=data['replicability'])\n",
    "plt.ylabel('Distribution')\n",
    "plt.show()"
   ]
  },
  {
   "cell_type": "code",
   "execution_count": 6,
   "metadata": {},
   "outputs": [],
   "source": [
    "import plotly.graph_objects as go\n",
    "import numpy as np\n",
    "\n",
    "def correlation_matrix(dataframe):\n",
    "    df_corr = dataframe.corr()\n",
    "    fig = go.Figure()\n",
    "    fig.add_trace(\n",
    "        go.Heatmap(\n",
    "            x = df_corr.columns,\n",
    "            y = df_corr.index,\n",
    "            z = np.array(df_corr),\n",
    "            text=df_corr.values,\n",
    "            texttemplate='%{text:.2f}'\n",
    "        )\n",
    "    )\n",
    "    fig.show()"
   ]
  },
  {
   "cell_type": "markdown",
   "metadata": {},
   "source": [
    "## Citing Sentence Predictor"
   ]
  },
  {
   "cell_type": "code",
   "execution_count": 7,
   "metadata": {},
   "outputs": [],
   "source": [
    "citing_sentence = data[['atr0', 'atr1', 'atr2', 'atr3', 'atr4', 'atr5', 'atr6', 'atr7', 'atr8', 'atr9', 'atr10', 'atr11', 'atr12', 'atr13', 'atr14', 'atr15', 'atr16', 'atr17', 'atr18', 'atr19']]\n",
    "y = data['replicability']"
   ]
  },
  {
   "cell_type": "code",
   "execution_count": 8,
   "metadata": {},
   "outputs": [
    {
     "data": {
      "application/vnd.plotly.v1+json": {
       "config": {
        "plotlyServerURL": "https://plot.ly"
       },
       "data": [
        {
         "text": [
          [
           1,
           -0.043030265393433714,
           0.04293522598154107,
           0.1746945787329533,
           0.0620902342899215,
           0.08610738850676346,
           0.032176665803265135,
           0.07070374556094443,
           0.015278794210602603,
           -0.025812961125877273,
           -0.030493292077354368,
           0.04586449074478602,
           0.019585062917694636,
           0.03178273104549652,
           -0.04195935280671967,
           -0.010253737182804243,
           0.03631569402871572,
           -0.012684327796917185,
           0.09153484288711014,
           0.24485558244163758,
           -0.05255299188321263
          ],
          [
           -0.043030265393433714,
           1,
           0.028550873614954394,
           0.03490156322919777,
           0.0430827128735567,
           0.0371953166298138,
           0.06258561289208202,
           0.054139440363229874,
           0.00833926939268903,
           0.06779248800932244,
           0.04706144796197445,
           -0.01017728443490049,
           0.02088090961780617,
           0.027630693395002646,
           0.060469696617238555,
           -0.0006816062891149474,
           -0.007069012417186219,
           0.0576392971296045,
           0.08367412573373424,
           0.15154913509081816,
           0.020825175584919333
          ],
          [
           0.04293522598154107,
           0.028550873614954394,
           1,
           0.17082968257180045,
           0.07407197434378639,
           0.2199157393938987,
           0.071583241552599,
           0.02960072225957993,
           0.030760368728579637,
           0.015712510330748292,
           0.08132827457310825,
           -0.04707596511036206,
           0.05762044669205944,
           0.031159815407684675,
           0.1898853521924715,
           0.03935601470573805,
           -0.020073336825346275,
           0.10002950069589267,
           0.14513188130504345,
           0.4324991581554672,
           0.004523330255793179
          ],
          [
           0.1746945787329533,
           0.03490156322919777,
           0.17082968257180045,
           1,
           0.03722343119530691,
           0.037739295587416455,
           0.06270275652002674,
           0.13995310421491905,
           0.0715298227769488,
           0.026244015572807873,
           0.06801701134339805,
           0.09194112622074008,
           -0.02827397150323413,
           0.010739529247029977,
           -0.0518772672064004,
           0.04944070726899815,
           0.04422075603895886,
           0.04793050338515649,
           0.15707794358953198,
           0.3851533264500931,
           0.08181701175635187
          ],
          [
           0.0620902342899215,
           0.0430827128735567,
           0.07407197434378639,
           0.03722343119530691,
           1,
           0.03892987940316002,
           0.0746098466236727,
           -0.01509816069036123,
           0.0034201302062768957,
           -0.010095276611465922,
           -0.0041141423464708315,
           0.1104428621496012,
           0.050813932316759784,
           0.0730089445080894,
           -0.01939290848260128,
           -0.03986370422168183,
           -0.002805274199936463,
           0.03985895188281879,
           0.0023594602067749373,
           0.22174588593957542,
           -0.04214451778982072
          ],
          [
           0.08610738850676346,
           0.0371953166298138,
           0.2199157393938987,
           0.037739295587416455,
           0.03892987940316002,
           1,
           0.12353518701564016,
           0.1019492621405279,
           0.0652208536513607,
           0.05359511848555715,
           0.1299968080351071,
           0.06431134758735178,
           0.08447708736540757,
           0.12681800000470303,
           0.13767800659050108,
           0.016170699582365246,
           0.029045111051526403,
           0.13121724847356067,
           0.1097253796548062,
           0.4007793963510545,
           0.02919354716609828
          ],
          [
           0.032176665803265135,
           0.06258561289208202,
           0.071583241552599,
           0.06270275652002674,
           0.0746098466236727,
           0.12353518701564016,
           1,
           0.24872918492295884,
           0.12288333850665693,
           0.08183778311403082,
           0.09020899815708029,
           0.22472843153043393,
           0.04931249810317027,
           0.008215882550196162,
           0.07547256988424024,
           -0.022097829845910168,
           0.1370291612384081,
           0.04485473639508613,
           0.14345648987162096,
           0.4640289709598239,
           -0.04844985030768788
          ],
          [
           0.07070374556094443,
           0.054139440363229874,
           0.02960072225957993,
           0.13995310421491905,
           -0.01509816069036123,
           0.1019492621405279,
           0.24872918492295884,
           1,
           0.07593783406403085,
           0.17501770799507343,
           0.12060218033043611,
           0.1561650223938019,
           0.009507356288359012,
           0.0621892572895264,
           -0.11652719840912475,
           0.037873219661309854,
           0.1063430915477386,
           0.08383960235002148,
           0.09133452502258217,
           0.4914352499376247,
           0.010579597679968335
          ],
          [
           0.015278794210602603,
           0.00833926939268903,
           0.030760368728579637,
           0.0715298227769488,
           0.0034201302062768957,
           0.0652208536513607,
           0.12288333850665693,
           0.07593783406403085,
           1,
           0.05851878801335795,
           0.08526397650873535,
           0.04087584610925888,
           0.03607452254791967,
           -0.03054696419714987,
           0.05543549112515376,
           0.08455175180049185,
           0.08507112115360435,
           0.05188604718195265,
           0.12577803759887818,
           0.24865486483253613,
           0.07292523297856651
          ],
          [
           -0.025812961125877273,
           0.06779248800932244,
           0.015712510330748292,
           0.026244015572807873,
           -0.010095276611465922,
           0.05359511848555715,
           0.08183778311403082,
           0.17501770799507343,
           0.05851878801335795,
           1,
           0.05152685571534655,
           0.07200386506676812,
           0.05269327876645463,
           0.11810930874764473,
           -0.034392245111626564,
           0.05485993827518392,
           0.08490463810575276,
           0.13133731079112484,
           0.08466258689791888,
           0.27467947940982684,
           -0.034309020832335745
          ],
          [
           -0.030493292077354368,
           0.04706144796197445,
           0.08132827457310825,
           0.06801701134339805,
           -0.0041141423464708315,
           0.1299968080351071,
           0.09020899815708029,
           0.12060218033043611,
           0.08526397650873535,
           0.05152685571534655,
           1,
           -0.021124532766106815,
           -0.026471436792568998,
           0.044707177702999826,
           0.060480773724383506,
           -0.010483093036598034,
           0.07875222483048895,
           -0.005327191251255363,
           0.10823379002187543,
           0.19193330117413127,
           0.037964152863851644
          ],
          [
           0.04586449074478602,
           -0.01017728443490049,
           -0.04707596511036206,
           0.09194112622074008,
           0.1104428621496012,
           0.06431134758735178,
           0.22472843153043393,
           0.1561650223938019,
           0.04087584610925888,
           0.07200386506676812,
           -0.021124532766106815,
           1,
           0.11720893681019624,
           0.07226428556385323,
           0.10501143513383948,
           0.07134574719430367,
           0.049450984794352316,
           0.11577463595894971,
           0.12016988462633284,
           0.48895613730722615,
           0.020872406683976757
          ],
          [
           0.019585062917694636,
           0.02088090961780617,
           0.05762044669205944,
           -0.02827397150323413,
           0.050813932316759784,
           0.08447708736540757,
           0.04931249810317027,
           0.009507356288359012,
           0.03607452254791967,
           0.05269327876645463,
           -0.026471436792568998,
           0.11720893681019624,
           1,
           0.09546912356733772,
           0.13295844336480367,
           0.15811941436099627,
           -0.06137507205481286,
           -0.012577384979964766,
           0.0712621885739508,
           0.21925247023175246,
           -0.03199117881835055
          ],
          [
           0.03178273104549652,
           0.027630693395002646,
           0.031159815407684675,
           0.010739529247029977,
           0.0730089445080894,
           0.12681800000470303,
           0.008215882550196162,
           0.0621892572895264,
           -0.03054696419714987,
           0.11810930874764473,
           0.044707177702999826,
           0.07226428556385323,
           0.09546912356733772,
           1,
           0.09625097752154277,
           0.09389576281515347,
           0.06472711732508454,
           0.06608038158489953,
           0.0971985502596158,
           0.21038099860765191,
           0.10924402966201671
          ],
          [
           -0.04195935280671967,
           0.060469696617238555,
           0.1898853521924715,
           -0.0518772672064004,
           -0.01939290848260128,
           0.13767800659050108,
           0.07547256988424024,
           -0.11652719840912475,
           0.05543549112515376,
           -0.034392245111626564,
           0.060480773724383506,
           0.10501143513383948,
           0.13295844336480367,
           0.09625097752154277,
           1,
           0.055829073462801915,
           -0.009604290052549563,
           0.059080845376641544,
           0.14926192650240397,
           0.2712514643145158,
           0.05091486985778026
          ],
          [
           -0.010253737182804243,
           -0.0006816062891149474,
           0.03935601470573805,
           0.04944070726899815,
           -0.03986370422168183,
           0.016170699582365246,
           -0.022097829845910168,
           0.037873219661309854,
           0.08455175180049185,
           0.05485993827518392,
           -0.010483093036598034,
           0.07134574719430367,
           0.15811941436099627,
           0.09389576281515347,
           0.055829073462801915,
           1,
           0.029573924867247477,
           0.07223334130892534,
           0.058130826613248754,
           0.13438680667740463,
           -0.01774149433772793
          ],
          [
           0.03631569402871572,
           -0.007069012417186219,
           -0.020073336825346275,
           0.04422075603895886,
           -0.002805274199936463,
           0.029045111051526403,
           0.1370291612384081,
           0.1063430915477386,
           0.08507112115360435,
           0.08490463810575276,
           0.07875222483048895,
           0.049450984794352316,
           -0.06137507205481286,
           0.06472711732508454,
           -0.009604290052549563,
           0.029573924867247477,
           1,
           0.13723448746608366,
           0.03495045166045487,
           0.24629193289508883,
           -0.005210174443472918
          ],
          [
           -0.012684327796917185,
           0.0576392971296045,
           0.10002950069589267,
           0.04793050338515649,
           0.03985895188281879,
           0.13121724847356067,
           0.04485473639508613,
           0.08383960235002148,
           0.05188604718195265,
           0.13133731079112484,
           -0.005327191251255363,
           0.11577463595894971,
           -0.012577384979964766,
           0.06608038158489953,
           0.059080845376641544,
           0.07223334130892534,
           0.13723448746608366,
           1,
           0.12201923746025423,
           0.29764619015917176,
           0.011439580267320625
          ],
          [
           0.09153484288711014,
           0.08367412573373424,
           0.14513188130504345,
           0.15707794358953198,
           0.0023594602067749373,
           0.1097253796548062,
           0.14345648987162096,
           0.09133452502258217,
           0.12577803759887818,
           0.08466258689791888,
           0.10823379002187543,
           0.12016988462633284,
           0.0712621885739508,
           0.0971985502596158,
           0.14926192650240397,
           0.058130826613248754,
           0.03495045166045487,
           0.12201923746025423,
           1,
           0.531052791278504,
           -0.011257503354744826
          ],
          [
           0.24485558244163758,
           0.15154913509081816,
           0.4324991581554672,
           0.3851533264500931,
           0.22174588593957542,
           0.4007793963510545,
           0.4640289709598239,
           0.4914352499376247,
           0.24865486483253613,
           0.27467947940982684,
           0.19193330117413127,
           0.48895613730722615,
           0.21925247023175246,
           0.21038099860765191,
           0.2712514643145158,
           0.13438680667740463,
           0.24629193289508883,
           0.29764619015917176,
           0.531052791278504,
           1,
           0.02007569095765332
          ],
          [
           -0.05255299188321263,
           0.020825175584919333,
           0.004523330255793179,
           0.08181701175635187,
           -0.04214451778982072,
           0.02919354716609828,
           -0.04844985030768788,
           0.010579597679968335,
           0.07292523297856651,
           -0.034309020832335745,
           0.037964152863851644,
           0.020872406683976757,
           -0.03199117881835055,
           0.10924402966201671,
           0.05091486985778026,
           -0.01774149433772793,
           -0.005210174443472918,
           0.011439580267320625,
           -0.011257503354744826,
           0.02007569095765332,
           1
          ]
         ],
         "texttemplate": "%{text:.2f}",
         "type": "heatmap",
         "x": [
          "atr0",
          "atr1",
          "atr2",
          "atr3",
          "atr4",
          "atr5",
          "atr6",
          "atr7",
          "atr8",
          "atr9",
          "atr10",
          "atr11",
          "atr12",
          "atr13",
          "atr14",
          "atr15",
          "atr16",
          "atr17",
          "atr18",
          "atr19",
          "replicability"
         ],
         "y": [
          "atr0",
          "atr1",
          "atr2",
          "atr3",
          "atr4",
          "atr5",
          "atr6",
          "atr7",
          "atr8",
          "atr9",
          "atr10",
          "atr11",
          "atr12",
          "atr13",
          "atr14",
          "atr15",
          "atr16",
          "atr17",
          "atr18",
          "atr19",
          "replicability"
         ],
         "z": [
          [
           1,
           -0.043030265393433714,
           0.04293522598154107,
           0.1746945787329533,
           0.0620902342899215,
           0.08610738850676346,
           0.032176665803265135,
           0.07070374556094443,
           0.015278794210602603,
           -0.025812961125877273,
           -0.030493292077354368,
           0.04586449074478602,
           0.019585062917694636,
           0.03178273104549652,
           -0.04195935280671967,
           -0.010253737182804243,
           0.03631569402871572,
           -0.012684327796917185,
           0.09153484288711014,
           0.24485558244163758,
           -0.05255299188321263
          ],
          [
           -0.043030265393433714,
           1,
           0.028550873614954394,
           0.03490156322919777,
           0.0430827128735567,
           0.0371953166298138,
           0.06258561289208202,
           0.054139440363229874,
           0.00833926939268903,
           0.06779248800932244,
           0.04706144796197445,
           -0.01017728443490049,
           0.02088090961780617,
           0.027630693395002646,
           0.060469696617238555,
           -0.0006816062891149474,
           -0.007069012417186219,
           0.0576392971296045,
           0.08367412573373424,
           0.15154913509081816,
           0.020825175584919333
          ],
          [
           0.04293522598154107,
           0.028550873614954394,
           1,
           0.17082968257180045,
           0.07407197434378639,
           0.2199157393938987,
           0.071583241552599,
           0.02960072225957993,
           0.030760368728579637,
           0.015712510330748292,
           0.08132827457310825,
           -0.04707596511036206,
           0.05762044669205944,
           0.031159815407684675,
           0.1898853521924715,
           0.03935601470573805,
           -0.020073336825346275,
           0.10002950069589267,
           0.14513188130504345,
           0.4324991581554672,
           0.004523330255793179
          ],
          [
           0.1746945787329533,
           0.03490156322919777,
           0.17082968257180045,
           1,
           0.03722343119530691,
           0.037739295587416455,
           0.06270275652002674,
           0.13995310421491905,
           0.0715298227769488,
           0.026244015572807873,
           0.06801701134339805,
           0.09194112622074008,
           -0.02827397150323413,
           0.010739529247029977,
           -0.0518772672064004,
           0.04944070726899815,
           0.04422075603895886,
           0.04793050338515649,
           0.15707794358953198,
           0.3851533264500931,
           0.08181701175635187
          ],
          [
           0.0620902342899215,
           0.0430827128735567,
           0.07407197434378639,
           0.03722343119530691,
           1,
           0.03892987940316002,
           0.0746098466236727,
           -0.01509816069036123,
           0.0034201302062768957,
           -0.010095276611465922,
           -0.0041141423464708315,
           0.1104428621496012,
           0.050813932316759784,
           0.0730089445080894,
           -0.01939290848260128,
           -0.03986370422168183,
           -0.002805274199936463,
           0.03985895188281879,
           0.0023594602067749373,
           0.22174588593957542,
           -0.04214451778982072
          ],
          [
           0.08610738850676346,
           0.0371953166298138,
           0.2199157393938987,
           0.037739295587416455,
           0.03892987940316002,
           1,
           0.12353518701564016,
           0.1019492621405279,
           0.0652208536513607,
           0.05359511848555715,
           0.1299968080351071,
           0.06431134758735178,
           0.08447708736540757,
           0.12681800000470303,
           0.13767800659050108,
           0.016170699582365246,
           0.029045111051526403,
           0.13121724847356067,
           0.1097253796548062,
           0.4007793963510545,
           0.02919354716609828
          ],
          [
           0.032176665803265135,
           0.06258561289208202,
           0.071583241552599,
           0.06270275652002674,
           0.0746098466236727,
           0.12353518701564016,
           1,
           0.24872918492295884,
           0.12288333850665693,
           0.08183778311403082,
           0.09020899815708029,
           0.22472843153043393,
           0.04931249810317027,
           0.008215882550196162,
           0.07547256988424024,
           -0.022097829845910168,
           0.1370291612384081,
           0.04485473639508613,
           0.14345648987162096,
           0.4640289709598239,
           -0.04844985030768788
          ],
          [
           0.07070374556094443,
           0.054139440363229874,
           0.02960072225957993,
           0.13995310421491905,
           -0.01509816069036123,
           0.1019492621405279,
           0.24872918492295884,
           1,
           0.07593783406403085,
           0.17501770799507343,
           0.12060218033043611,
           0.1561650223938019,
           0.009507356288359012,
           0.0621892572895264,
           -0.11652719840912475,
           0.037873219661309854,
           0.1063430915477386,
           0.08383960235002148,
           0.09133452502258217,
           0.4914352499376247,
           0.010579597679968335
          ],
          [
           0.015278794210602603,
           0.00833926939268903,
           0.030760368728579637,
           0.0715298227769488,
           0.0034201302062768957,
           0.0652208536513607,
           0.12288333850665693,
           0.07593783406403085,
           1,
           0.05851878801335795,
           0.08526397650873535,
           0.04087584610925888,
           0.03607452254791967,
           -0.03054696419714987,
           0.05543549112515376,
           0.08455175180049185,
           0.08507112115360435,
           0.05188604718195265,
           0.12577803759887818,
           0.24865486483253613,
           0.07292523297856651
          ],
          [
           -0.025812961125877273,
           0.06779248800932244,
           0.015712510330748292,
           0.026244015572807873,
           -0.010095276611465922,
           0.05359511848555715,
           0.08183778311403082,
           0.17501770799507343,
           0.05851878801335795,
           1,
           0.05152685571534655,
           0.07200386506676812,
           0.05269327876645463,
           0.11810930874764473,
           -0.034392245111626564,
           0.05485993827518392,
           0.08490463810575276,
           0.13133731079112484,
           0.08466258689791888,
           0.27467947940982684,
           -0.034309020832335745
          ],
          [
           -0.030493292077354368,
           0.04706144796197445,
           0.08132827457310825,
           0.06801701134339805,
           -0.0041141423464708315,
           0.1299968080351071,
           0.09020899815708029,
           0.12060218033043611,
           0.08526397650873535,
           0.05152685571534655,
           1,
           -0.021124532766106815,
           -0.026471436792568998,
           0.044707177702999826,
           0.060480773724383506,
           -0.010483093036598034,
           0.07875222483048895,
           -0.005327191251255363,
           0.10823379002187543,
           0.19193330117413127,
           0.037964152863851644
          ],
          [
           0.04586449074478602,
           -0.01017728443490049,
           -0.04707596511036206,
           0.09194112622074008,
           0.1104428621496012,
           0.06431134758735178,
           0.22472843153043393,
           0.1561650223938019,
           0.04087584610925888,
           0.07200386506676812,
           -0.021124532766106815,
           1,
           0.11720893681019624,
           0.07226428556385323,
           0.10501143513383948,
           0.07134574719430367,
           0.049450984794352316,
           0.11577463595894971,
           0.12016988462633284,
           0.48895613730722615,
           0.020872406683976757
          ],
          [
           0.019585062917694636,
           0.02088090961780617,
           0.05762044669205944,
           -0.02827397150323413,
           0.050813932316759784,
           0.08447708736540757,
           0.04931249810317027,
           0.009507356288359012,
           0.03607452254791967,
           0.05269327876645463,
           -0.026471436792568998,
           0.11720893681019624,
           1,
           0.09546912356733772,
           0.13295844336480367,
           0.15811941436099627,
           -0.06137507205481286,
           -0.012577384979964766,
           0.0712621885739508,
           0.21925247023175246,
           -0.03199117881835055
          ],
          [
           0.03178273104549652,
           0.027630693395002646,
           0.031159815407684675,
           0.010739529247029977,
           0.0730089445080894,
           0.12681800000470303,
           0.008215882550196162,
           0.0621892572895264,
           -0.03054696419714987,
           0.11810930874764473,
           0.044707177702999826,
           0.07226428556385323,
           0.09546912356733772,
           1,
           0.09625097752154277,
           0.09389576281515347,
           0.06472711732508454,
           0.06608038158489953,
           0.0971985502596158,
           0.21038099860765191,
           0.10924402966201671
          ],
          [
           -0.04195935280671967,
           0.060469696617238555,
           0.1898853521924715,
           -0.0518772672064004,
           -0.01939290848260128,
           0.13767800659050108,
           0.07547256988424024,
           -0.11652719840912475,
           0.05543549112515376,
           -0.034392245111626564,
           0.060480773724383506,
           0.10501143513383948,
           0.13295844336480367,
           0.09625097752154277,
           1,
           0.055829073462801915,
           -0.009604290052549563,
           0.059080845376641544,
           0.14926192650240397,
           0.2712514643145158,
           0.05091486985778026
          ],
          [
           -0.010253737182804243,
           -0.0006816062891149474,
           0.03935601470573805,
           0.04944070726899815,
           -0.03986370422168183,
           0.016170699582365246,
           -0.022097829845910168,
           0.037873219661309854,
           0.08455175180049185,
           0.05485993827518392,
           -0.010483093036598034,
           0.07134574719430367,
           0.15811941436099627,
           0.09389576281515347,
           0.055829073462801915,
           1,
           0.029573924867247477,
           0.07223334130892534,
           0.058130826613248754,
           0.13438680667740463,
           -0.01774149433772793
          ],
          [
           0.03631569402871572,
           -0.007069012417186219,
           -0.020073336825346275,
           0.04422075603895886,
           -0.002805274199936463,
           0.029045111051526403,
           0.1370291612384081,
           0.1063430915477386,
           0.08507112115360435,
           0.08490463810575276,
           0.07875222483048895,
           0.049450984794352316,
           -0.06137507205481286,
           0.06472711732508454,
           -0.009604290052549563,
           0.029573924867247477,
           1,
           0.13723448746608366,
           0.03495045166045487,
           0.24629193289508883,
           -0.005210174443472918
          ],
          [
           -0.012684327796917185,
           0.0576392971296045,
           0.10002950069589267,
           0.04793050338515649,
           0.03985895188281879,
           0.13121724847356067,
           0.04485473639508613,
           0.08383960235002148,
           0.05188604718195265,
           0.13133731079112484,
           -0.005327191251255363,
           0.11577463595894971,
           -0.012577384979964766,
           0.06608038158489953,
           0.059080845376641544,
           0.07223334130892534,
           0.13723448746608366,
           1,
           0.12201923746025423,
           0.29764619015917176,
           0.011439580267320625
          ],
          [
           0.09153484288711014,
           0.08367412573373424,
           0.14513188130504345,
           0.15707794358953198,
           0.0023594602067749373,
           0.1097253796548062,
           0.14345648987162096,
           0.09133452502258217,
           0.12577803759887818,
           0.08466258689791888,
           0.10823379002187543,
           0.12016988462633284,
           0.0712621885739508,
           0.0971985502596158,
           0.14926192650240397,
           0.058130826613248754,
           0.03495045166045487,
           0.12201923746025423,
           1,
           0.531052791278504,
           -0.011257503354744826
          ],
          [
           0.24485558244163758,
           0.15154913509081816,
           0.4324991581554672,
           0.3851533264500931,
           0.22174588593957542,
           0.4007793963510545,
           0.4640289709598239,
           0.4914352499376247,
           0.24865486483253613,
           0.27467947940982684,
           0.19193330117413127,
           0.48895613730722615,
           0.21925247023175246,
           0.21038099860765191,
           0.2712514643145158,
           0.13438680667740463,
           0.24629193289508883,
           0.29764619015917176,
           0.531052791278504,
           1,
           0.02007569095765332
          ],
          [
           -0.05255299188321263,
           0.020825175584919333,
           0.004523330255793179,
           0.08181701175635187,
           -0.04214451778982072,
           0.02919354716609828,
           -0.04844985030768788,
           0.010579597679968335,
           0.07292523297856651,
           -0.034309020832335745,
           0.037964152863851644,
           0.020872406683976757,
           -0.03199117881835055,
           0.10924402966201671,
           0.05091486985778026,
           -0.01774149433772793,
           -0.005210174443472918,
           0.011439580267320625,
           -0.011257503354744826,
           0.02007569095765332,
           1
          ]
         ]
        }
       ],
       "layout": {
        "template": {
         "data": {
          "bar": [
           {
            "error_x": {
             "color": "#2a3f5f"
            },
            "error_y": {
             "color": "#2a3f5f"
            },
            "marker": {
             "line": {
              "color": "#E5ECF6",
              "width": 0.5
             },
             "pattern": {
              "fillmode": "overlay",
              "size": 10,
              "solidity": 0.2
             }
            },
            "type": "bar"
           }
          ],
          "barpolar": [
           {
            "marker": {
             "line": {
              "color": "#E5ECF6",
              "width": 0.5
             },
             "pattern": {
              "fillmode": "overlay",
              "size": 10,
              "solidity": 0.2
             }
            },
            "type": "barpolar"
           }
          ],
          "carpet": [
           {
            "aaxis": {
             "endlinecolor": "#2a3f5f",
             "gridcolor": "white",
             "linecolor": "white",
             "minorgridcolor": "white",
             "startlinecolor": "#2a3f5f"
            },
            "baxis": {
             "endlinecolor": "#2a3f5f",
             "gridcolor": "white",
             "linecolor": "white",
             "minorgridcolor": "white",
             "startlinecolor": "#2a3f5f"
            },
            "type": "carpet"
           }
          ],
          "choropleth": [
           {
            "colorbar": {
             "outlinewidth": 0,
             "ticks": ""
            },
            "type": "choropleth"
           }
          ],
          "contour": [
           {
            "colorbar": {
             "outlinewidth": 0,
             "ticks": ""
            },
            "colorscale": [
             [
              0,
              "#0d0887"
             ],
             [
              0.1111111111111111,
              "#46039f"
             ],
             [
              0.2222222222222222,
              "#7201a8"
             ],
             [
              0.3333333333333333,
              "#9c179e"
             ],
             [
              0.4444444444444444,
              "#bd3786"
             ],
             [
              0.5555555555555556,
              "#d8576b"
             ],
             [
              0.6666666666666666,
              "#ed7953"
             ],
             [
              0.7777777777777778,
              "#fb9f3a"
             ],
             [
              0.8888888888888888,
              "#fdca26"
             ],
             [
              1,
              "#f0f921"
             ]
            ],
            "type": "contour"
           }
          ],
          "contourcarpet": [
           {
            "colorbar": {
             "outlinewidth": 0,
             "ticks": ""
            },
            "type": "contourcarpet"
           }
          ],
          "heatmap": [
           {
            "colorbar": {
             "outlinewidth": 0,
             "ticks": ""
            },
            "colorscale": [
             [
              0,
              "#0d0887"
             ],
             [
              0.1111111111111111,
              "#46039f"
             ],
             [
              0.2222222222222222,
              "#7201a8"
             ],
             [
              0.3333333333333333,
              "#9c179e"
             ],
             [
              0.4444444444444444,
              "#bd3786"
             ],
             [
              0.5555555555555556,
              "#d8576b"
             ],
             [
              0.6666666666666666,
              "#ed7953"
             ],
             [
              0.7777777777777778,
              "#fb9f3a"
             ],
             [
              0.8888888888888888,
              "#fdca26"
             ],
             [
              1,
              "#f0f921"
             ]
            ],
            "type": "heatmap"
           }
          ],
          "heatmapgl": [
           {
            "colorbar": {
             "outlinewidth": 0,
             "ticks": ""
            },
            "colorscale": [
             [
              0,
              "#0d0887"
             ],
             [
              0.1111111111111111,
              "#46039f"
             ],
             [
              0.2222222222222222,
              "#7201a8"
             ],
             [
              0.3333333333333333,
              "#9c179e"
             ],
             [
              0.4444444444444444,
              "#bd3786"
             ],
             [
              0.5555555555555556,
              "#d8576b"
             ],
             [
              0.6666666666666666,
              "#ed7953"
             ],
             [
              0.7777777777777778,
              "#fb9f3a"
             ],
             [
              0.8888888888888888,
              "#fdca26"
             ],
             [
              1,
              "#f0f921"
             ]
            ],
            "type": "heatmapgl"
           }
          ],
          "histogram": [
           {
            "marker": {
             "pattern": {
              "fillmode": "overlay",
              "size": 10,
              "solidity": 0.2
             }
            },
            "type": "histogram"
           }
          ],
          "histogram2d": [
           {
            "colorbar": {
             "outlinewidth": 0,
             "ticks": ""
            },
            "colorscale": [
             [
              0,
              "#0d0887"
             ],
             [
              0.1111111111111111,
              "#46039f"
             ],
             [
              0.2222222222222222,
              "#7201a8"
             ],
             [
              0.3333333333333333,
              "#9c179e"
             ],
             [
              0.4444444444444444,
              "#bd3786"
             ],
             [
              0.5555555555555556,
              "#d8576b"
             ],
             [
              0.6666666666666666,
              "#ed7953"
             ],
             [
              0.7777777777777778,
              "#fb9f3a"
             ],
             [
              0.8888888888888888,
              "#fdca26"
             ],
             [
              1,
              "#f0f921"
             ]
            ],
            "type": "histogram2d"
           }
          ],
          "histogram2dcontour": [
           {
            "colorbar": {
             "outlinewidth": 0,
             "ticks": ""
            },
            "colorscale": [
             [
              0,
              "#0d0887"
             ],
             [
              0.1111111111111111,
              "#46039f"
             ],
             [
              0.2222222222222222,
              "#7201a8"
             ],
             [
              0.3333333333333333,
              "#9c179e"
             ],
             [
              0.4444444444444444,
              "#bd3786"
             ],
             [
              0.5555555555555556,
              "#d8576b"
             ],
             [
              0.6666666666666666,
              "#ed7953"
             ],
             [
              0.7777777777777778,
              "#fb9f3a"
             ],
             [
              0.8888888888888888,
              "#fdca26"
             ],
             [
              1,
              "#f0f921"
             ]
            ],
            "type": "histogram2dcontour"
           }
          ],
          "mesh3d": [
           {
            "colorbar": {
             "outlinewidth": 0,
             "ticks": ""
            },
            "type": "mesh3d"
           }
          ],
          "parcoords": [
           {
            "line": {
             "colorbar": {
              "outlinewidth": 0,
              "ticks": ""
             }
            },
            "type": "parcoords"
           }
          ],
          "pie": [
           {
            "automargin": true,
            "type": "pie"
           }
          ],
          "scatter": [
           {
            "fillpattern": {
             "fillmode": "overlay",
             "size": 10,
             "solidity": 0.2
            },
            "type": "scatter"
           }
          ],
          "scatter3d": [
           {
            "line": {
             "colorbar": {
              "outlinewidth": 0,
              "ticks": ""
             }
            },
            "marker": {
             "colorbar": {
              "outlinewidth": 0,
              "ticks": ""
             }
            },
            "type": "scatter3d"
           }
          ],
          "scattercarpet": [
           {
            "marker": {
             "colorbar": {
              "outlinewidth": 0,
              "ticks": ""
             }
            },
            "type": "scattercarpet"
           }
          ],
          "scattergeo": [
           {
            "marker": {
             "colorbar": {
              "outlinewidth": 0,
              "ticks": ""
             }
            },
            "type": "scattergeo"
           }
          ],
          "scattergl": [
           {
            "marker": {
             "colorbar": {
              "outlinewidth": 0,
              "ticks": ""
             }
            },
            "type": "scattergl"
           }
          ],
          "scattermapbox": [
           {
            "marker": {
             "colorbar": {
              "outlinewidth": 0,
              "ticks": ""
             }
            },
            "type": "scattermapbox"
           }
          ],
          "scatterpolar": [
           {
            "marker": {
             "colorbar": {
              "outlinewidth": 0,
              "ticks": ""
             }
            },
            "type": "scatterpolar"
           }
          ],
          "scatterpolargl": [
           {
            "marker": {
             "colorbar": {
              "outlinewidth": 0,
              "ticks": ""
             }
            },
            "type": "scatterpolargl"
           }
          ],
          "scatterternary": [
           {
            "marker": {
             "colorbar": {
              "outlinewidth": 0,
              "ticks": ""
             }
            },
            "type": "scatterternary"
           }
          ],
          "surface": [
           {
            "colorbar": {
             "outlinewidth": 0,
             "ticks": ""
            },
            "colorscale": [
             [
              0,
              "#0d0887"
             ],
             [
              0.1111111111111111,
              "#46039f"
             ],
             [
              0.2222222222222222,
              "#7201a8"
             ],
             [
              0.3333333333333333,
              "#9c179e"
             ],
             [
              0.4444444444444444,
              "#bd3786"
             ],
             [
              0.5555555555555556,
              "#d8576b"
             ],
             [
              0.6666666666666666,
              "#ed7953"
             ],
             [
              0.7777777777777778,
              "#fb9f3a"
             ],
             [
              0.8888888888888888,
              "#fdca26"
             ],
             [
              1,
              "#f0f921"
             ]
            ],
            "type": "surface"
           }
          ],
          "table": [
           {
            "cells": {
             "fill": {
              "color": "#EBF0F8"
             },
             "line": {
              "color": "white"
             }
            },
            "header": {
             "fill": {
              "color": "#C8D4E3"
             },
             "line": {
              "color": "white"
             }
            },
            "type": "table"
           }
          ]
         },
         "layout": {
          "annotationdefaults": {
           "arrowcolor": "#2a3f5f",
           "arrowhead": 0,
           "arrowwidth": 1
          },
          "autotypenumbers": "strict",
          "coloraxis": {
           "colorbar": {
            "outlinewidth": 0,
            "ticks": ""
           }
          },
          "colorscale": {
           "diverging": [
            [
             0,
             "#8e0152"
            ],
            [
             0.1,
             "#c51b7d"
            ],
            [
             0.2,
             "#de77ae"
            ],
            [
             0.3,
             "#f1b6da"
            ],
            [
             0.4,
             "#fde0ef"
            ],
            [
             0.5,
             "#f7f7f7"
            ],
            [
             0.6,
             "#e6f5d0"
            ],
            [
             0.7,
             "#b8e186"
            ],
            [
             0.8,
             "#7fbc41"
            ],
            [
             0.9,
             "#4d9221"
            ],
            [
             1,
             "#276419"
            ]
           ],
           "sequential": [
            [
             0,
             "#0d0887"
            ],
            [
             0.1111111111111111,
             "#46039f"
            ],
            [
             0.2222222222222222,
             "#7201a8"
            ],
            [
             0.3333333333333333,
             "#9c179e"
            ],
            [
             0.4444444444444444,
             "#bd3786"
            ],
            [
             0.5555555555555556,
             "#d8576b"
            ],
            [
             0.6666666666666666,
             "#ed7953"
            ],
            [
             0.7777777777777778,
             "#fb9f3a"
            ],
            [
             0.8888888888888888,
             "#fdca26"
            ],
            [
             1,
             "#f0f921"
            ]
           ],
           "sequentialminus": [
            [
             0,
             "#0d0887"
            ],
            [
             0.1111111111111111,
             "#46039f"
            ],
            [
             0.2222222222222222,
             "#7201a8"
            ],
            [
             0.3333333333333333,
             "#9c179e"
            ],
            [
             0.4444444444444444,
             "#bd3786"
            ],
            [
             0.5555555555555556,
             "#d8576b"
            ],
            [
             0.6666666666666666,
             "#ed7953"
            ],
            [
             0.7777777777777778,
             "#fb9f3a"
            ],
            [
             0.8888888888888888,
             "#fdca26"
            ],
            [
             1,
             "#f0f921"
            ]
           ]
          },
          "colorway": [
           "#636efa",
           "#EF553B",
           "#00cc96",
           "#ab63fa",
           "#FFA15A",
           "#19d3f3",
           "#FF6692",
           "#B6E880",
           "#FF97FF",
           "#FECB52"
          ],
          "font": {
           "color": "#2a3f5f"
          },
          "geo": {
           "bgcolor": "white",
           "lakecolor": "white",
           "landcolor": "#E5ECF6",
           "showlakes": true,
           "showland": true,
           "subunitcolor": "white"
          },
          "hoverlabel": {
           "align": "left"
          },
          "hovermode": "closest",
          "mapbox": {
           "style": "light"
          },
          "paper_bgcolor": "white",
          "plot_bgcolor": "#E5ECF6",
          "polar": {
           "angularaxis": {
            "gridcolor": "white",
            "linecolor": "white",
            "ticks": ""
           },
           "bgcolor": "#E5ECF6",
           "radialaxis": {
            "gridcolor": "white",
            "linecolor": "white",
            "ticks": ""
           }
          },
          "scene": {
           "xaxis": {
            "backgroundcolor": "#E5ECF6",
            "gridcolor": "white",
            "gridwidth": 2,
            "linecolor": "white",
            "showbackground": true,
            "ticks": "",
            "zerolinecolor": "white"
           },
           "yaxis": {
            "backgroundcolor": "#E5ECF6",
            "gridcolor": "white",
            "gridwidth": 2,
            "linecolor": "white",
            "showbackground": true,
            "ticks": "",
            "zerolinecolor": "white"
           },
           "zaxis": {
            "backgroundcolor": "#E5ECF6",
            "gridcolor": "white",
            "gridwidth": 2,
            "linecolor": "white",
            "showbackground": true,
            "ticks": "",
            "zerolinecolor": "white"
           }
          },
          "shapedefaults": {
           "line": {
            "color": "#2a3f5f"
           }
          },
          "ternary": {
           "aaxis": {
            "gridcolor": "white",
            "linecolor": "white",
            "ticks": ""
           },
           "baxis": {
            "gridcolor": "white",
            "linecolor": "white",
            "ticks": ""
           },
           "bgcolor": "#E5ECF6",
           "caxis": {
            "gridcolor": "white",
            "linecolor": "white",
            "ticks": ""
           }
          },
          "title": {
           "x": 0.05
          },
          "xaxis": {
           "automargin": true,
           "gridcolor": "white",
           "linecolor": "white",
           "ticks": "",
           "title": {
            "standoff": 15
           },
           "zerolinecolor": "white",
           "zerolinewidth": 2
          },
          "yaxis": {
           "automargin": true,
           "gridcolor": "white",
           "linecolor": "white",
           "ticks": "",
           "title": {
            "standoff": 15
           },
           "zerolinecolor": "white",
           "zerolinewidth": 2
          }
         }
        }
       }
      }
     },
     "metadata": {},
     "output_type": "display_data"
    }
   ],
   "source": [
    "dataframe = citing_sentence.join([y])\n",
    "correlation_matrix(dataframe)"
   ]
  },
  {
   "cell_type": "code",
   "execution_count": 9,
   "metadata": {},
   "outputs": [],
   "source": [
    "from sklearn.feature_selection import chi2, SelectKBest\n",
    "from sklearn.preprocessing import MinMaxScaler\n",
    "\n",
    "def find_chi(features, y, k):\n",
    "    chi_square = SelectKBest(score_func=chi2, k=k)\n",
    "    fit = chi_square.fit(features, y)\n",
    "    \n",
    "    selected_feature_indices = chi_square.get_support(indices=True)\n",
    "    feature_names = features.columns\n",
    "    chi2_scores = fit.scores_\n",
    "    feature_score_dict = dict(zip(feature_names, chi2_scores))\n",
    "    sorted_features = sorted(feature_score_dict.items(), key=lambda x: x[1], reverse=True)\n",
    "    selected_feature_names = [feature[0] for feature in sorted_features[:k]]\n",
    "    \n",
    "    print(\"Selected Feature Names:\", selected_feature_names)\n",
    "    x_chi = chi_square.fit_transform(features, y)\n",
    "    \n",
    "    scaler = MinMaxScaler()\n",
    "    x = scaler.fit_transform(x_chi)\n",
    "    \n",
    "    x_train, x_test, y_train, y_test = train_split(x, y)\n",
    "    return x_train, x_test, y_train, y_test, selected_feature_names"
   ]
  },
  {
   "cell_type": "code",
   "execution_count": 10,
   "metadata": {},
   "outputs": [],
   "source": [
    "from sklearn.model_selection import train_test_split\n",
    "\n",
    "def train_split(x, y):\n",
    "    x_train, x_test, y_train, y_test = train_test_split(x, y, test_size=0.2, random_state=123)\n",
    "    return x_train, x_test, y_train, y_test"
   ]
  },
  {
   "cell_type": "code",
   "execution_count": 11,
   "metadata": {},
   "outputs": [],
   "source": [
    "test = pd.DataFrame(columns=['Features', 'Accuracy'])"
   ]
  },
  {
   "cell_type": "code",
   "execution_count": 12,
   "metadata": {},
   "outputs": [],
   "source": [
    "from xgboost import XGBClassifier\n",
    "from sklearn.metrics import accuracy_score\n",
    "\n",
    "def model(features, y, i):\n",
    "    model = XGBClassifier()\n",
    "    x_train, x_test, y_train, y_test, selected_feature_names = find_chi(features, y, i)\n",
    "    model.fit(x_train, y_train)\n",
    "    \n",
    "    y_pred = model.predict(x_test)\n",
    "    predictions = [round(value) for value in y_pred]\n",
    "    \n",
    "    accuracy = accuracy_score(y_test, predictions)\n",
    "    new_data = pd.DataFrame({'Features': [selected_feature_names], 'Accuracy': [\"%.2f%%\" % (accuracy * 100.0)]})\n",
    "    global test\n",
    "    test = pd.concat([test, new_data], ignore_index=True)\n",
    "    return accuracy"
   ]
  },
  {
   "cell_type": "code",
   "execution_count": 13,
   "metadata": {},
   "outputs": [
    {
     "name": "stdout",
     "output_type": "stream",
     "text": [
      "Selected Feature Names: ['atr13']\n",
      "Accuracy: 94.07%\n",
      "Selected Feature Names: ['atr13', 'atr3']\n",
      "Accuracy: 94.07%\n",
      "Selected Feature Names: ['atr13', 'atr3', 'atr8']\n",
      "Accuracy: 94.07%\n",
      "Selected Feature Names: ['atr13', 'atr3', 'atr8', 'atr14']\n",
      "Accuracy: 93.22%\n",
      "Selected Feature Names: ['atr13', 'atr3', 'atr8', 'atr14', 'atr0']\n",
      "Accuracy: 93.22%\n",
      "Selected Feature Names: ['atr13', 'atr3', 'atr8', 'atr14', 'atr0', 'atr6']\n",
      "Accuracy: 94.07%\n",
      "Selected Feature Names: ['atr13', 'atr3', 'atr8', 'atr14', 'atr0', 'atr6', 'atr9']\n",
      "Accuracy: 92.37%\n",
      "Selected Feature Names: ['atr13', 'atr3', 'atr8', 'atr14', 'atr0', 'atr6', 'atr9', 'atr4']\n",
      "Accuracy: 92.37%\n",
      "Selected Feature Names: ['atr13', 'atr3', 'atr8', 'atr14', 'atr0', 'atr6', 'atr9', 'atr4', 'atr10']\n",
      "Accuracy: 90.68%\n",
      "Selected Feature Names: ['atr13', 'atr3', 'atr8', 'atr14', 'atr0', 'atr6', 'atr9', 'atr4', 'atr10', 'atr19']\n",
      "Accuracy: 92.37%\n",
      "Selected Feature Names: ['atr13', 'atr3', 'atr8', 'atr14', 'atr0', 'atr6', 'atr9', 'atr4', 'atr10', 'atr19', 'atr5']\n",
      "Accuracy: 92.37%\n",
      "Selected Feature Names: ['atr13', 'atr3', 'atr8', 'atr14', 'atr0', 'atr6', 'atr9', 'atr4', 'atr10', 'atr19', 'atr5', 'atr12']\n",
      "Accuracy: 91.53%\n",
      "Selected Feature Names: ['atr13', 'atr3', 'atr8', 'atr14', 'atr0', 'atr6', 'atr9', 'atr4', 'atr10', 'atr19', 'atr5', 'atr12', 'atr11']\n",
      "Accuracy: 90.68%\n",
      "Selected Feature Names: ['atr13', 'atr3', 'atr8', 'atr14', 'atr0', 'atr6', 'atr9', 'atr4', 'atr10', 'atr19', 'atr5', 'atr12', 'atr11', 'atr1']\n",
      "Accuracy: 92.37%\n",
      "Selected Feature Names: ['atr13', 'atr3', 'atr8', 'atr14', 'atr0', 'atr6', 'atr9', 'atr4', 'atr10', 'atr19', 'atr5', 'atr12', 'atr11', 'atr1', 'atr15']\n",
      "Accuracy: 92.37%\n",
      "Selected Feature Names: ['atr13', 'atr3', 'atr8', 'atr14', 'atr0', 'atr6', 'atr9', 'atr4', 'atr10', 'atr19', 'atr5', 'atr12', 'atr11', 'atr1', 'atr15', 'atr18']\n",
      "Accuracy: 91.53%\n",
      "Selected Feature Names: ['atr13', 'atr3', 'atr8', 'atr14', 'atr0', 'atr6', 'atr9', 'atr4', 'atr10', 'atr19', 'atr5', 'atr12', 'atr11', 'atr1', 'atr15', 'atr18', 'atr7']\n",
      "Accuracy: 93.22%\n",
      "Selected Feature Names: ['atr13', 'atr3', 'atr8', 'atr14', 'atr0', 'atr6', 'atr9', 'atr4', 'atr10', 'atr19', 'atr5', 'atr12', 'atr11', 'atr1', 'atr15', 'atr18', 'atr7', 'atr17']\n",
      "Accuracy: 93.22%\n",
      "Selected Feature Names: ['atr13', 'atr3', 'atr8', 'atr14', 'atr0', 'atr6', 'atr9', 'atr4', 'atr10', 'atr19', 'atr5', 'atr12', 'atr11', 'atr1', 'atr15', 'atr18', 'atr7', 'atr17', 'atr2']\n",
      "Accuracy: 92.37%\n",
      "Selected Feature Names: ['atr13', 'atr3', 'atr8', 'atr14', 'atr0', 'atr6', 'atr9', 'atr4', 'atr10', 'atr19', 'atr5', 'atr12', 'atr11', 'atr1', 'atr15', 'atr18', 'atr7', 'atr17', 'atr2', 'atr16']\n",
      "Accuracy: 92.37%\n"
     ]
    }
   ],
   "source": [
    "for i in dict(enumerate(citing_sentence)):\n",
    "    accuracy = model(citing_sentence, y, i+1)\n",
    "    print(\"Accuracy: %.2f%%\" % (accuracy * 100.0))"
   ]
  },
  {
   "cell_type": "markdown",
   "metadata": {},
   "source": [
    "## Regular Sentences Predictor"
   ]
  },
  {
   "cell_type": "code",
   "execution_count": 14,
   "metadata": {},
   "outputs": [],
   "source": [
    "regular_sentences = data[['atr20', 'atr21', 'atr22', 'atr23', 'atr24', 'atr25', 'atr26', 'atr27', 'atr28', 'atr29', 'atr30', 'atr31', 'atr32', 'atr33', 'atr34', 'atr35', 'atr36', 'atr37', 'atr38', 'atr39']]"
   ]
  },
  {
   "cell_type": "code",
   "execution_count": 15,
   "metadata": {},
   "outputs": [
    {
     "data": {
      "application/vnd.plotly.v1+json": {
       "config": {
        "plotlyServerURL": "https://plot.ly"
       },
       "data": [
        {
         "text": [
          [
           1,
           0.10386192388396215,
           0.17625529100521564,
           0.30595618669374486,
           0.006496324299772658,
           0.3035844707884741,
           0.1175647392038752,
           0.14824733991073444,
           -0.018668224723683294,
           -0.06114134847009797,
           0.05537319773674244,
           0.04814489981515537,
           0.053340078265375034,
           0.06669600933131578,
           0.06313405550595917,
           0.06358510925148834,
           0.08417230301059292,
           0.11892875496055558,
           0.4012115803134734,
           0.45071144266314395,
           0.03942009240311768
          ],
          [
           0.10386192388396215,
           1,
           0.17892144471156055,
           0.12820849294755923,
           0.024064576054126076,
           0.24367805487025782,
           0.11323294832438603,
           0.17885877393726127,
           0.0626304406380184,
           0.0706961677713931,
           0.08774723227299917,
           0.1136349786183179,
           0.10886674069075873,
           0.11998738148758478,
           0.08840749976258805,
           0.04592299953856124,
           0.08621177082513137,
           0.02909462476519584,
           0.23285840931139787,
           0.3287404048599111,
           -0.03859664051369306
          ],
          [
           0.17625529100521564,
           0.17892144471156055,
           1,
           0.2637108656675052,
           0.028274899035923794,
           0.19550438121308414,
           0.04309955902498377,
           0.04134731099403738,
           0.08300559964545422,
           0.027011121731022384,
           0.16383254099852856,
           0.11251121636558256,
           0.12287914497967424,
           0.2295660310566504,
           0.18280666390884764,
           0.08010428490340694,
           0.04688633743547822,
           0.04231585500620187,
           0.31503789829344875,
           0.47700840710828296,
           0.059829179325011445
          ],
          [
           0.30595618669374486,
           0.12820849294755923,
           0.2637108656675052,
           1,
           -0.017830112170005692,
           0.0975352103828559,
           0.12173778789507296,
           0.18223385311142717,
           0.011304928004289162,
           -0.015416249394290829,
           0.06572200444238036,
           0.12125432527236854,
           0.05749555092146929,
           0.15128289850482596,
           0.13542807124771145,
           -0.019208906752684492,
           0.034176741257906755,
           0.16069947540010518,
           0.29032244818434216,
           0.39503062916240833,
           0.0460900678141007
          ],
          [
           0.006496324299772658,
           0.024064576054126076,
           0.028274899035923794,
           -0.017830112170005692,
           1,
           0.05208932014273687,
           0.05130401883764527,
           0.11198923649898188,
           0.0846002832991522,
           0.03759859280294267,
           -0.013290675571999713,
           0.04120560102631569,
           0.0017139948971475842,
           -0.03371344843628204,
           0.04413175775830599,
           -0.026565034943401154,
           0.04135411250102974,
           0.05463315032853114,
           0.06274705804973345,
           0.09919650948530437,
           -0.02692883019484662
          ],
          [
           0.3035844707884741,
           0.24367805487025782,
           0.19550438121308414,
           0.0975352103828559,
           0.05208932014273687,
           1,
           0.3392912147555459,
           0.32690138763056426,
           0.20952397419058136,
           0.1556471790539452,
           0.09839627948516581,
           -0.03704228271304154,
           -0.08272804125588137,
           0.12876324216845147,
           -0.005315720973293767,
           -0.0076111596403467,
           0.27632252635157134,
           0.1261401815205238,
           0.5862684517330394,
           0.800050226274214,
           0.03007673764442096
          ],
          [
           0.1175647392038752,
           0.11323294832438603,
           0.04309955902498377,
           0.12173778789507296,
           0.05130401883764527,
           0.3392912147555459,
           1,
           0.25350051789714484,
           0.11658042947232589,
           0.17589842190406157,
           0.08600375387629505,
           0.003000937481886485,
           -0.07384044800521765,
           0.06546310876353072,
           0.03518382534557901,
           0.031926258389882646,
           0.1261471126301188,
           0.08968034632852742,
           0.2406555214212571,
           0.35927910300276567,
           -0.049734704043934215
          ],
          [
           0.14824733991073444,
           0.17885877393726127,
           0.04134731099403738,
           0.18223385311142717,
           0.11198923649898188,
           0.32690138763056426,
           0.25350051789714484,
           1,
           0.1644318225157014,
           0.38860549712094544,
           0.13345509752150084,
           0.10084858423894086,
           0.15508009259101907,
           0.15159823196135994,
           0.03420522131609502,
           0.18747943557432556,
           0.25756956789365265,
           0.2643567345122887,
           0.10022114455711402,
           0.3941533737916552,
           -0.014242216847418452
          ],
          [
           -0.018668224723683294,
           0.0626304406380184,
           0.08300559964545422,
           0.011304928004289162,
           0.0846002832991522,
           0.20952397419058136,
           0.11658042947232589,
           0.1644318225157014,
           1,
           0.1860767375204923,
           0.1326479116553358,
           0.048848682245503906,
           -0.030159903893876266,
           0.059035055926884746,
           0.025190379517304722,
           0.020220813533771666,
           0.16133062172812257,
           0.08257274068610335,
           0.13272121925550234,
           0.2422297352013456,
           -0.003531858531094848
          ],
          [
           -0.06114134847009797,
           0.0706961677713931,
           0.027011121731022384,
           -0.015416249394290829,
           0.03759859280294267,
           0.1556471790539452,
           0.17589842190406157,
           0.38860549712094544,
           0.1860767375204923,
           1,
           0.05557470957201003,
           -0.0065208112187488,
           0.10183793863943748,
           0.14114959188643644,
           0.0068830572739800614,
           0.18474898212967492,
           0.19662025498065624,
           0.17558897923387062,
           -0.049692114500048165,
           0.1879445602386348,
           0.012970776327399026
          ],
          [
           0.05537319773674244,
           0.08774723227299917,
           0.16383254099852856,
           0.06572200444238036,
           -0.013290675571999713,
           0.09839627948516581,
           0.08600375387629505,
           0.13345509752150084,
           0.1326479116553358,
           0.05557470957201003,
           1,
           0.11962556463573225,
           -0.023337099268935152,
           0.13699244545931766,
           0.06925746987465047,
           -0.030874891976012182,
           0.10729384744292418,
           0.04852515424598938,
           0.025716035826885645,
           0.15061237629813465,
           0.03867592083914501
          ],
          [
           0.04814489981515537,
           0.1136349786183179,
           0.11251121636558256,
           0.12125432527236854,
           0.04120560102631569,
           -0.03704228271304154,
           0.003000937481886485,
           0.10084858423894086,
           0.048848682245503906,
           -0.0065208112187488,
           0.11962556463573225,
           1,
           0.07541209469062253,
           0.1869574713024561,
           0.21381470792712054,
           0.04866984980126328,
           -0.0022363335610948464,
           0.05154447331186276,
           0.012447928422523739,
           0.07930646433463333,
           0.010550549188679282
          ],
          [
           0.053340078265375034,
           0.10886674069075873,
           0.12287914497967424,
           0.05749555092146929,
           0.0017139948971475842,
           -0.08272804125588137,
           -0.07384044800521765,
           0.15508009259101907,
           -0.030159903893876266,
           0.10183793863943748,
           -0.023337099268935152,
           0.07541209469062253,
           1,
           0.12124298356433645,
           0.1489626252166207,
           0.16666918354628385,
           0.03142451356713359,
           -0.02958716901358155,
           -0.03095418435602596,
           0.043721229602305296,
           0.0964135231705534
          ],
          [
           0.06669600933131578,
           0.11998738148758478,
           0.2295660310566504,
           0.15128289850482596,
           -0.03371344843628204,
           0.12876324216845147,
           0.06546310876353072,
           0.15159823196135994,
           0.059035055926884746,
           0.14114959188643644,
           0.13699244545931766,
           0.1869574713024561,
           0.12124298356433645,
           1,
           0.11380763659363241,
           0.10728816623439179,
           0.10618597785080107,
           0.18316443885303293,
           0.09316305329252292,
           0.23230254824437657,
           0.14294928061887754
          ],
          [
           0.06313405550595917,
           0.08840749976258805,
           0.18280666390884764,
           0.13542807124771145,
           0.04413175775830599,
           -0.005315720973293767,
           0.03518382534557901,
           0.03420522131609502,
           0.025190379517304722,
           0.0068830572739800614,
           0.06925746987465047,
           0.21381470792712054,
           0.1489626252166207,
           0.11380763659363241,
           1,
           0.10533418032684533,
           0.02743614630563864,
           -0.002525158540439276,
           0.12034072129424825,
           0.1620050724672383,
           0.03276077279143607
          ],
          [
           0.06358510925148834,
           0.04592299953856124,
           0.08010428490340694,
           -0.019208906752684492,
           -0.026565034943401154,
           -0.0076111596403467,
           0.031926258389882646,
           0.18747943557432556,
           0.020220813533771666,
           0.18474898212967492,
           -0.030874891976012182,
           0.04866984980126328,
           0.16666918354628385,
           0.10728816623439179,
           0.10533418032684533,
           1,
           0.08551452702556654,
           0.16786088734524404,
           -0.017077097809875253,
           0.07421270231434969,
           0.04241715042852028
          ],
          [
           0.08417230301059292,
           0.08621177082513137,
           0.04688633743547822,
           0.034176741257906755,
           0.04135411250102974,
           0.27632252635157134,
           0.1261471126301188,
           0.25756956789365265,
           0.16133062172812257,
           0.19662025498065624,
           0.10729384744292418,
           -0.0022363335610948464,
           0.03142451356713359,
           0.10618597785080107,
           0.02743614630563864,
           0.08551452702556654,
           1,
           0.15628333651428772,
           0.09564277025094678,
           0.2606809233538513,
           -0.04268031661975772
          ],
          [
           0.11892875496055558,
           0.02909462476519584,
           0.04231585500620187,
           0.16069947540010518,
           0.05463315032853114,
           0.1261401815205238,
           0.08968034632852742,
           0.2643567345122887,
           0.08257274068610335,
           0.17558897923387062,
           0.04852515424598938,
           0.05154447331186276,
           -0.02958716901358155,
           0.18316443885303293,
           -0.002525158540439276,
           0.16786088734524404,
           0.15628333651428772,
           1,
           0.07523768616259795,
           0.20535422010541385,
           0.05994308620702152
          ],
          [
           0.4012115803134734,
           0.23285840931139787,
           0.31503789829344875,
           0.29032244818434216,
           0.06274705804973345,
           0.5862684517330394,
           0.2406555214212571,
           0.10022114455711402,
           0.13272121925550234,
           -0.049692114500048165,
           0.025716035826885645,
           0.012447928422523739,
           -0.03095418435602596,
           0.09316305329252292,
           0.12034072129424825,
           -0.017077097809875253,
           0.09564277025094678,
           0.07523768616259795,
           1,
           0.8715533921827433,
           0.01788015741054721
          ],
          [
           0.45071144266314395,
           0.3287404048599111,
           0.47700840710828296,
           0.39503062916240833,
           0.09919650948530437,
           0.800050226274214,
           0.35927910300276567,
           0.3941533737916552,
           0.2422297352013456,
           0.1879445602386348,
           0.15061237629813465,
           0.07930646433463333,
           0.043721229602305296,
           0.23230254824437657,
           0.1620050724672383,
           0.07421270231434969,
           0.2606809233538513,
           0.20535422010541385,
           0.8715533921827433,
           1,
           0.04164715155885975
          ],
          [
           0.03942009240311768,
           -0.03859664051369306,
           0.059829179325011445,
           0.0460900678141007,
           -0.02692883019484662,
           0.03007673764442096,
           -0.049734704043934215,
           -0.014242216847418452,
           -0.003531858531094848,
           0.012970776327399026,
           0.03867592083914501,
           0.010550549188679282,
           0.0964135231705534,
           0.14294928061887754,
           0.03276077279143607,
           0.04241715042852028,
           -0.04268031661975772,
           0.05994308620702152,
           0.01788015741054721,
           0.04164715155885975,
           1
          ]
         ],
         "texttemplate": "%{text:.2f}",
         "type": "heatmap",
         "x": [
          "atr20",
          "atr21",
          "atr22",
          "atr23",
          "atr24",
          "atr25",
          "atr26",
          "atr27",
          "atr28",
          "atr29",
          "atr30",
          "atr31",
          "atr32",
          "atr33",
          "atr34",
          "atr35",
          "atr36",
          "atr37",
          "atr38",
          "atr39",
          "replicability"
         ],
         "y": [
          "atr20",
          "atr21",
          "atr22",
          "atr23",
          "atr24",
          "atr25",
          "atr26",
          "atr27",
          "atr28",
          "atr29",
          "atr30",
          "atr31",
          "atr32",
          "atr33",
          "atr34",
          "atr35",
          "atr36",
          "atr37",
          "atr38",
          "atr39",
          "replicability"
         ],
         "z": [
          [
           1,
           0.10386192388396215,
           0.17625529100521564,
           0.30595618669374486,
           0.006496324299772658,
           0.3035844707884741,
           0.1175647392038752,
           0.14824733991073444,
           -0.018668224723683294,
           -0.06114134847009797,
           0.05537319773674244,
           0.04814489981515537,
           0.053340078265375034,
           0.06669600933131578,
           0.06313405550595917,
           0.06358510925148834,
           0.08417230301059292,
           0.11892875496055558,
           0.4012115803134734,
           0.45071144266314395,
           0.03942009240311768
          ],
          [
           0.10386192388396215,
           1,
           0.17892144471156055,
           0.12820849294755923,
           0.024064576054126076,
           0.24367805487025782,
           0.11323294832438603,
           0.17885877393726127,
           0.0626304406380184,
           0.0706961677713931,
           0.08774723227299917,
           0.1136349786183179,
           0.10886674069075873,
           0.11998738148758478,
           0.08840749976258805,
           0.04592299953856124,
           0.08621177082513137,
           0.02909462476519584,
           0.23285840931139787,
           0.3287404048599111,
           -0.03859664051369306
          ],
          [
           0.17625529100521564,
           0.17892144471156055,
           1,
           0.2637108656675052,
           0.028274899035923794,
           0.19550438121308414,
           0.04309955902498377,
           0.04134731099403738,
           0.08300559964545422,
           0.027011121731022384,
           0.16383254099852856,
           0.11251121636558256,
           0.12287914497967424,
           0.2295660310566504,
           0.18280666390884764,
           0.08010428490340694,
           0.04688633743547822,
           0.04231585500620187,
           0.31503789829344875,
           0.47700840710828296,
           0.059829179325011445
          ],
          [
           0.30595618669374486,
           0.12820849294755923,
           0.2637108656675052,
           1,
           -0.017830112170005692,
           0.0975352103828559,
           0.12173778789507296,
           0.18223385311142717,
           0.011304928004289162,
           -0.015416249394290829,
           0.06572200444238036,
           0.12125432527236854,
           0.05749555092146929,
           0.15128289850482596,
           0.13542807124771145,
           -0.019208906752684492,
           0.034176741257906755,
           0.16069947540010518,
           0.29032244818434216,
           0.39503062916240833,
           0.0460900678141007
          ],
          [
           0.006496324299772658,
           0.024064576054126076,
           0.028274899035923794,
           -0.017830112170005692,
           1,
           0.05208932014273687,
           0.05130401883764527,
           0.11198923649898188,
           0.0846002832991522,
           0.03759859280294267,
           -0.013290675571999713,
           0.04120560102631569,
           0.0017139948971475842,
           -0.03371344843628204,
           0.04413175775830599,
           -0.026565034943401154,
           0.04135411250102974,
           0.05463315032853114,
           0.06274705804973345,
           0.09919650948530437,
           -0.02692883019484662
          ],
          [
           0.3035844707884741,
           0.24367805487025782,
           0.19550438121308414,
           0.0975352103828559,
           0.05208932014273687,
           1,
           0.3392912147555459,
           0.32690138763056426,
           0.20952397419058136,
           0.1556471790539452,
           0.09839627948516581,
           -0.03704228271304154,
           -0.08272804125588137,
           0.12876324216845147,
           -0.005315720973293767,
           -0.0076111596403467,
           0.27632252635157134,
           0.1261401815205238,
           0.5862684517330394,
           0.800050226274214,
           0.03007673764442096
          ],
          [
           0.1175647392038752,
           0.11323294832438603,
           0.04309955902498377,
           0.12173778789507296,
           0.05130401883764527,
           0.3392912147555459,
           1,
           0.25350051789714484,
           0.11658042947232589,
           0.17589842190406157,
           0.08600375387629505,
           0.003000937481886485,
           -0.07384044800521765,
           0.06546310876353072,
           0.03518382534557901,
           0.031926258389882646,
           0.1261471126301188,
           0.08968034632852742,
           0.2406555214212571,
           0.35927910300276567,
           -0.049734704043934215
          ],
          [
           0.14824733991073444,
           0.17885877393726127,
           0.04134731099403738,
           0.18223385311142717,
           0.11198923649898188,
           0.32690138763056426,
           0.25350051789714484,
           1,
           0.1644318225157014,
           0.38860549712094544,
           0.13345509752150084,
           0.10084858423894086,
           0.15508009259101907,
           0.15159823196135994,
           0.03420522131609502,
           0.18747943557432556,
           0.25756956789365265,
           0.2643567345122887,
           0.10022114455711402,
           0.3941533737916552,
           -0.014242216847418452
          ],
          [
           -0.018668224723683294,
           0.0626304406380184,
           0.08300559964545422,
           0.011304928004289162,
           0.0846002832991522,
           0.20952397419058136,
           0.11658042947232589,
           0.1644318225157014,
           1,
           0.1860767375204923,
           0.1326479116553358,
           0.048848682245503906,
           -0.030159903893876266,
           0.059035055926884746,
           0.025190379517304722,
           0.020220813533771666,
           0.16133062172812257,
           0.08257274068610335,
           0.13272121925550234,
           0.2422297352013456,
           -0.003531858531094848
          ],
          [
           -0.06114134847009797,
           0.0706961677713931,
           0.027011121731022384,
           -0.015416249394290829,
           0.03759859280294267,
           0.1556471790539452,
           0.17589842190406157,
           0.38860549712094544,
           0.1860767375204923,
           1,
           0.05557470957201003,
           -0.0065208112187488,
           0.10183793863943748,
           0.14114959188643644,
           0.0068830572739800614,
           0.18474898212967492,
           0.19662025498065624,
           0.17558897923387062,
           -0.049692114500048165,
           0.1879445602386348,
           0.012970776327399026
          ],
          [
           0.05537319773674244,
           0.08774723227299917,
           0.16383254099852856,
           0.06572200444238036,
           -0.013290675571999713,
           0.09839627948516581,
           0.08600375387629505,
           0.13345509752150084,
           0.1326479116553358,
           0.05557470957201003,
           1,
           0.11962556463573225,
           -0.023337099268935152,
           0.13699244545931766,
           0.06925746987465047,
           -0.030874891976012182,
           0.10729384744292418,
           0.04852515424598938,
           0.025716035826885645,
           0.15061237629813465,
           0.03867592083914501
          ],
          [
           0.04814489981515537,
           0.1136349786183179,
           0.11251121636558256,
           0.12125432527236854,
           0.04120560102631569,
           -0.03704228271304154,
           0.003000937481886485,
           0.10084858423894086,
           0.048848682245503906,
           -0.0065208112187488,
           0.11962556463573225,
           1,
           0.07541209469062253,
           0.1869574713024561,
           0.21381470792712054,
           0.04866984980126328,
           -0.0022363335610948464,
           0.05154447331186276,
           0.012447928422523739,
           0.07930646433463333,
           0.010550549188679282
          ],
          [
           0.053340078265375034,
           0.10886674069075873,
           0.12287914497967424,
           0.05749555092146929,
           0.0017139948971475842,
           -0.08272804125588137,
           -0.07384044800521765,
           0.15508009259101907,
           -0.030159903893876266,
           0.10183793863943748,
           -0.023337099268935152,
           0.07541209469062253,
           1,
           0.12124298356433645,
           0.1489626252166207,
           0.16666918354628385,
           0.03142451356713359,
           -0.02958716901358155,
           -0.03095418435602596,
           0.043721229602305296,
           0.0964135231705534
          ],
          [
           0.06669600933131578,
           0.11998738148758478,
           0.2295660310566504,
           0.15128289850482596,
           -0.03371344843628204,
           0.12876324216845147,
           0.06546310876353072,
           0.15159823196135994,
           0.059035055926884746,
           0.14114959188643644,
           0.13699244545931766,
           0.1869574713024561,
           0.12124298356433645,
           1,
           0.11380763659363241,
           0.10728816623439179,
           0.10618597785080107,
           0.18316443885303293,
           0.09316305329252292,
           0.23230254824437657,
           0.14294928061887754
          ],
          [
           0.06313405550595917,
           0.08840749976258805,
           0.18280666390884764,
           0.13542807124771145,
           0.04413175775830599,
           -0.005315720973293767,
           0.03518382534557901,
           0.03420522131609502,
           0.025190379517304722,
           0.0068830572739800614,
           0.06925746987465047,
           0.21381470792712054,
           0.1489626252166207,
           0.11380763659363241,
           1,
           0.10533418032684533,
           0.02743614630563864,
           -0.002525158540439276,
           0.12034072129424825,
           0.1620050724672383,
           0.03276077279143607
          ],
          [
           0.06358510925148834,
           0.04592299953856124,
           0.08010428490340694,
           -0.019208906752684492,
           -0.026565034943401154,
           -0.0076111596403467,
           0.031926258389882646,
           0.18747943557432556,
           0.020220813533771666,
           0.18474898212967492,
           -0.030874891976012182,
           0.04866984980126328,
           0.16666918354628385,
           0.10728816623439179,
           0.10533418032684533,
           1,
           0.08551452702556654,
           0.16786088734524404,
           -0.017077097809875253,
           0.07421270231434969,
           0.04241715042852028
          ],
          [
           0.08417230301059292,
           0.08621177082513137,
           0.04688633743547822,
           0.034176741257906755,
           0.04135411250102974,
           0.27632252635157134,
           0.1261471126301188,
           0.25756956789365265,
           0.16133062172812257,
           0.19662025498065624,
           0.10729384744292418,
           -0.0022363335610948464,
           0.03142451356713359,
           0.10618597785080107,
           0.02743614630563864,
           0.08551452702556654,
           1,
           0.15628333651428772,
           0.09564277025094678,
           0.2606809233538513,
           -0.04268031661975772
          ],
          [
           0.11892875496055558,
           0.02909462476519584,
           0.04231585500620187,
           0.16069947540010518,
           0.05463315032853114,
           0.1261401815205238,
           0.08968034632852742,
           0.2643567345122887,
           0.08257274068610335,
           0.17558897923387062,
           0.04852515424598938,
           0.05154447331186276,
           -0.02958716901358155,
           0.18316443885303293,
           -0.002525158540439276,
           0.16786088734524404,
           0.15628333651428772,
           1,
           0.07523768616259795,
           0.20535422010541385,
           0.05994308620702152
          ],
          [
           0.4012115803134734,
           0.23285840931139787,
           0.31503789829344875,
           0.29032244818434216,
           0.06274705804973345,
           0.5862684517330394,
           0.2406555214212571,
           0.10022114455711402,
           0.13272121925550234,
           -0.049692114500048165,
           0.025716035826885645,
           0.012447928422523739,
           -0.03095418435602596,
           0.09316305329252292,
           0.12034072129424825,
           -0.017077097809875253,
           0.09564277025094678,
           0.07523768616259795,
           1,
           0.8715533921827433,
           0.01788015741054721
          ],
          [
           0.45071144266314395,
           0.3287404048599111,
           0.47700840710828296,
           0.39503062916240833,
           0.09919650948530437,
           0.800050226274214,
           0.35927910300276567,
           0.3941533737916552,
           0.2422297352013456,
           0.1879445602386348,
           0.15061237629813465,
           0.07930646433463333,
           0.043721229602305296,
           0.23230254824437657,
           0.1620050724672383,
           0.07421270231434969,
           0.2606809233538513,
           0.20535422010541385,
           0.8715533921827433,
           1,
           0.04164715155885975
          ],
          [
           0.03942009240311768,
           -0.03859664051369306,
           0.059829179325011445,
           0.0460900678141007,
           -0.02692883019484662,
           0.03007673764442096,
           -0.049734704043934215,
           -0.014242216847418452,
           -0.003531858531094848,
           0.012970776327399026,
           0.03867592083914501,
           0.010550549188679282,
           0.0964135231705534,
           0.14294928061887754,
           0.03276077279143607,
           0.04241715042852028,
           -0.04268031661975772,
           0.05994308620702152,
           0.01788015741054721,
           0.04164715155885975,
           1
          ]
         ]
        }
       ],
       "layout": {
        "template": {
         "data": {
          "bar": [
           {
            "error_x": {
             "color": "#2a3f5f"
            },
            "error_y": {
             "color": "#2a3f5f"
            },
            "marker": {
             "line": {
              "color": "#E5ECF6",
              "width": 0.5
             },
             "pattern": {
              "fillmode": "overlay",
              "size": 10,
              "solidity": 0.2
             }
            },
            "type": "bar"
           }
          ],
          "barpolar": [
           {
            "marker": {
             "line": {
              "color": "#E5ECF6",
              "width": 0.5
             },
             "pattern": {
              "fillmode": "overlay",
              "size": 10,
              "solidity": 0.2
             }
            },
            "type": "barpolar"
           }
          ],
          "carpet": [
           {
            "aaxis": {
             "endlinecolor": "#2a3f5f",
             "gridcolor": "white",
             "linecolor": "white",
             "minorgridcolor": "white",
             "startlinecolor": "#2a3f5f"
            },
            "baxis": {
             "endlinecolor": "#2a3f5f",
             "gridcolor": "white",
             "linecolor": "white",
             "minorgridcolor": "white",
             "startlinecolor": "#2a3f5f"
            },
            "type": "carpet"
           }
          ],
          "choropleth": [
           {
            "colorbar": {
             "outlinewidth": 0,
             "ticks": ""
            },
            "type": "choropleth"
           }
          ],
          "contour": [
           {
            "colorbar": {
             "outlinewidth": 0,
             "ticks": ""
            },
            "colorscale": [
             [
              0,
              "#0d0887"
             ],
             [
              0.1111111111111111,
              "#46039f"
             ],
             [
              0.2222222222222222,
              "#7201a8"
             ],
             [
              0.3333333333333333,
              "#9c179e"
             ],
             [
              0.4444444444444444,
              "#bd3786"
             ],
             [
              0.5555555555555556,
              "#d8576b"
             ],
             [
              0.6666666666666666,
              "#ed7953"
             ],
             [
              0.7777777777777778,
              "#fb9f3a"
             ],
             [
              0.8888888888888888,
              "#fdca26"
             ],
             [
              1,
              "#f0f921"
             ]
            ],
            "type": "contour"
           }
          ],
          "contourcarpet": [
           {
            "colorbar": {
             "outlinewidth": 0,
             "ticks": ""
            },
            "type": "contourcarpet"
           }
          ],
          "heatmap": [
           {
            "colorbar": {
             "outlinewidth": 0,
             "ticks": ""
            },
            "colorscale": [
             [
              0,
              "#0d0887"
             ],
             [
              0.1111111111111111,
              "#46039f"
             ],
             [
              0.2222222222222222,
              "#7201a8"
             ],
             [
              0.3333333333333333,
              "#9c179e"
             ],
             [
              0.4444444444444444,
              "#bd3786"
             ],
             [
              0.5555555555555556,
              "#d8576b"
             ],
             [
              0.6666666666666666,
              "#ed7953"
             ],
             [
              0.7777777777777778,
              "#fb9f3a"
             ],
             [
              0.8888888888888888,
              "#fdca26"
             ],
             [
              1,
              "#f0f921"
             ]
            ],
            "type": "heatmap"
           }
          ],
          "heatmapgl": [
           {
            "colorbar": {
             "outlinewidth": 0,
             "ticks": ""
            },
            "colorscale": [
             [
              0,
              "#0d0887"
             ],
             [
              0.1111111111111111,
              "#46039f"
             ],
             [
              0.2222222222222222,
              "#7201a8"
             ],
             [
              0.3333333333333333,
              "#9c179e"
             ],
             [
              0.4444444444444444,
              "#bd3786"
             ],
             [
              0.5555555555555556,
              "#d8576b"
             ],
             [
              0.6666666666666666,
              "#ed7953"
             ],
             [
              0.7777777777777778,
              "#fb9f3a"
             ],
             [
              0.8888888888888888,
              "#fdca26"
             ],
             [
              1,
              "#f0f921"
             ]
            ],
            "type": "heatmapgl"
           }
          ],
          "histogram": [
           {
            "marker": {
             "pattern": {
              "fillmode": "overlay",
              "size": 10,
              "solidity": 0.2
             }
            },
            "type": "histogram"
           }
          ],
          "histogram2d": [
           {
            "colorbar": {
             "outlinewidth": 0,
             "ticks": ""
            },
            "colorscale": [
             [
              0,
              "#0d0887"
             ],
             [
              0.1111111111111111,
              "#46039f"
             ],
             [
              0.2222222222222222,
              "#7201a8"
             ],
             [
              0.3333333333333333,
              "#9c179e"
             ],
             [
              0.4444444444444444,
              "#bd3786"
             ],
             [
              0.5555555555555556,
              "#d8576b"
             ],
             [
              0.6666666666666666,
              "#ed7953"
             ],
             [
              0.7777777777777778,
              "#fb9f3a"
             ],
             [
              0.8888888888888888,
              "#fdca26"
             ],
             [
              1,
              "#f0f921"
             ]
            ],
            "type": "histogram2d"
           }
          ],
          "histogram2dcontour": [
           {
            "colorbar": {
             "outlinewidth": 0,
             "ticks": ""
            },
            "colorscale": [
             [
              0,
              "#0d0887"
             ],
             [
              0.1111111111111111,
              "#46039f"
             ],
             [
              0.2222222222222222,
              "#7201a8"
             ],
             [
              0.3333333333333333,
              "#9c179e"
             ],
             [
              0.4444444444444444,
              "#bd3786"
             ],
             [
              0.5555555555555556,
              "#d8576b"
             ],
             [
              0.6666666666666666,
              "#ed7953"
             ],
             [
              0.7777777777777778,
              "#fb9f3a"
             ],
             [
              0.8888888888888888,
              "#fdca26"
             ],
             [
              1,
              "#f0f921"
             ]
            ],
            "type": "histogram2dcontour"
           }
          ],
          "mesh3d": [
           {
            "colorbar": {
             "outlinewidth": 0,
             "ticks": ""
            },
            "type": "mesh3d"
           }
          ],
          "parcoords": [
           {
            "line": {
             "colorbar": {
              "outlinewidth": 0,
              "ticks": ""
             }
            },
            "type": "parcoords"
           }
          ],
          "pie": [
           {
            "automargin": true,
            "type": "pie"
           }
          ],
          "scatter": [
           {
            "fillpattern": {
             "fillmode": "overlay",
             "size": 10,
             "solidity": 0.2
            },
            "type": "scatter"
           }
          ],
          "scatter3d": [
           {
            "line": {
             "colorbar": {
              "outlinewidth": 0,
              "ticks": ""
             }
            },
            "marker": {
             "colorbar": {
              "outlinewidth": 0,
              "ticks": ""
             }
            },
            "type": "scatter3d"
           }
          ],
          "scattercarpet": [
           {
            "marker": {
             "colorbar": {
              "outlinewidth": 0,
              "ticks": ""
             }
            },
            "type": "scattercarpet"
           }
          ],
          "scattergeo": [
           {
            "marker": {
             "colorbar": {
              "outlinewidth": 0,
              "ticks": ""
             }
            },
            "type": "scattergeo"
           }
          ],
          "scattergl": [
           {
            "marker": {
             "colorbar": {
              "outlinewidth": 0,
              "ticks": ""
             }
            },
            "type": "scattergl"
           }
          ],
          "scattermapbox": [
           {
            "marker": {
             "colorbar": {
              "outlinewidth": 0,
              "ticks": ""
             }
            },
            "type": "scattermapbox"
           }
          ],
          "scatterpolar": [
           {
            "marker": {
             "colorbar": {
              "outlinewidth": 0,
              "ticks": ""
             }
            },
            "type": "scatterpolar"
           }
          ],
          "scatterpolargl": [
           {
            "marker": {
             "colorbar": {
              "outlinewidth": 0,
              "ticks": ""
             }
            },
            "type": "scatterpolargl"
           }
          ],
          "scatterternary": [
           {
            "marker": {
             "colorbar": {
              "outlinewidth": 0,
              "ticks": ""
             }
            },
            "type": "scatterternary"
           }
          ],
          "surface": [
           {
            "colorbar": {
             "outlinewidth": 0,
             "ticks": ""
            },
            "colorscale": [
             [
              0,
              "#0d0887"
             ],
             [
              0.1111111111111111,
              "#46039f"
             ],
             [
              0.2222222222222222,
              "#7201a8"
             ],
             [
              0.3333333333333333,
              "#9c179e"
             ],
             [
              0.4444444444444444,
              "#bd3786"
             ],
             [
              0.5555555555555556,
              "#d8576b"
             ],
             [
              0.6666666666666666,
              "#ed7953"
             ],
             [
              0.7777777777777778,
              "#fb9f3a"
             ],
             [
              0.8888888888888888,
              "#fdca26"
             ],
             [
              1,
              "#f0f921"
             ]
            ],
            "type": "surface"
           }
          ],
          "table": [
           {
            "cells": {
             "fill": {
              "color": "#EBF0F8"
             },
             "line": {
              "color": "white"
             }
            },
            "header": {
             "fill": {
              "color": "#C8D4E3"
             },
             "line": {
              "color": "white"
             }
            },
            "type": "table"
           }
          ]
         },
         "layout": {
          "annotationdefaults": {
           "arrowcolor": "#2a3f5f",
           "arrowhead": 0,
           "arrowwidth": 1
          },
          "autotypenumbers": "strict",
          "coloraxis": {
           "colorbar": {
            "outlinewidth": 0,
            "ticks": ""
           }
          },
          "colorscale": {
           "diverging": [
            [
             0,
             "#8e0152"
            ],
            [
             0.1,
             "#c51b7d"
            ],
            [
             0.2,
             "#de77ae"
            ],
            [
             0.3,
             "#f1b6da"
            ],
            [
             0.4,
             "#fde0ef"
            ],
            [
             0.5,
             "#f7f7f7"
            ],
            [
             0.6,
             "#e6f5d0"
            ],
            [
             0.7,
             "#b8e186"
            ],
            [
             0.8,
             "#7fbc41"
            ],
            [
             0.9,
             "#4d9221"
            ],
            [
             1,
             "#276419"
            ]
           ],
           "sequential": [
            [
             0,
             "#0d0887"
            ],
            [
             0.1111111111111111,
             "#46039f"
            ],
            [
             0.2222222222222222,
             "#7201a8"
            ],
            [
             0.3333333333333333,
             "#9c179e"
            ],
            [
             0.4444444444444444,
             "#bd3786"
            ],
            [
             0.5555555555555556,
             "#d8576b"
            ],
            [
             0.6666666666666666,
             "#ed7953"
            ],
            [
             0.7777777777777778,
             "#fb9f3a"
            ],
            [
             0.8888888888888888,
             "#fdca26"
            ],
            [
             1,
             "#f0f921"
            ]
           ],
           "sequentialminus": [
            [
             0,
             "#0d0887"
            ],
            [
             0.1111111111111111,
             "#46039f"
            ],
            [
             0.2222222222222222,
             "#7201a8"
            ],
            [
             0.3333333333333333,
             "#9c179e"
            ],
            [
             0.4444444444444444,
             "#bd3786"
            ],
            [
             0.5555555555555556,
             "#d8576b"
            ],
            [
             0.6666666666666666,
             "#ed7953"
            ],
            [
             0.7777777777777778,
             "#fb9f3a"
            ],
            [
             0.8888888888888888,
             "#fdca26"
            ],
            [
             1,
             "#f0f921"
            ]
           ]
          },
          "colorway": [
           "#636efa",
           "#EF553B",
           "#00cc96",
           "#ab63fa",
           "#FFA15A",
           "#19d3f3",
           "#FF6692",
           "#B6E880",
           "#FF97FF",
           "#FECB52"
          ],
          "font": {
           "color": "#2a3f5f"
          },
          "geo": {
           "bgcolor": "white",
           "lakecolor": "white",
           "landcolor": "#E5ECF6",
           "showlakes": true,
           "showland": true,
           "subunitcolor": "white"
          },
          "hoverlabel": {
           "align": "left"
          },
          "hovermode": "closest",
          "mapbox": {
           "style": "light"
          },
          "paper_bgcolor": "white",
          "plot_bgcolor": "#E5ECF6",
          "polar": {
           "angularaxis": {
            "gridcolor": "white",
            "linecolor": "white",
            "ticks": ""
           },
           "bgcolor": "#E5ECF6",
           "radialaxis": {
            "gridcolor": "white",
            "linecolor": "white",
            "ticks": ""
           }
          },
          "scene": {
           "xaxis": {
            "backgroundcolor": "#E5ECF6",
            "gridcolor": "white",
            "gridwidth": 2,
            "linecolor": "white",
            "showbackground": true,
            "ticks": "",
            "zerolinecolor": "white"
           },
           "yaxis": {
            "backgroundcolor": "#E5ECF6",
            "gridcolor": "white",
            "gridwidth": 2,
            "linecolor": "white",
            "showbackground": true,
            "ticks": "",
            "zerolinecolor": "white"
           },
           "zaxis": {
            "backgroundcolor": "#E5ECF6",
            "gridcolor": "white",
            "gridwidth": 2,
            "linecolor": "white",
            "showbackground": true,
            "ticks": "",
            "zerolinecolor": "white"
           }
          },
          "shapedefaults": {
           "line": {
            "color": "#2a3f5f"
           }
          },
          "ternary": {
           "aaxis": {
            "gridcolor": "white",
            "linecolor": "white",
            "ticks": ""
           },
           "baxis": {
            "gridcolor": "white",
            "linecolor": "white",
            "ticks": ""
           },
           "bgcolor": "#E5ECF6",
           "caxis": {
            "gridcolor": "white",
            "linecolor": "white",
            "ticks": ""
           }
          },
          "title": {
           "x": 0.05
          },
          "xaxis": {
           "automargin": true,
           "gridcolor": "white",
           "linecolor": "white",
           "ticks": "",
           "title": {
            "standoff": 15
           },
           "zerolinecolor": "white",
           "zerolinewidth": 2
          },
          "yaxis": {
           "automargin": true,
           "gridcolor": "white",
           "linecolor": "white",
           "ticks": "",
           "title": {
            "standoff": 15
           },
           "zerolinecolor": "white",
           "zerolinewidth": 2
          }
         }
        }
       }
      }
     },
     "metadata": {},
     "output_type": "display_data"
    }
   ],
   "source": [
    "dataframe = regular_sentences.join([y])\n",
    "correlation_matrix(dataframe)"
   ]
  },
  {
   "cell_type": "code",
   "execution_count": 16,
   "metadata": {},
   "outputs": [
    {
     "name": "stdout",
     "output_type": "stream",
     "text": [
      "Selected Feature Names: ['atr39']\n",
      "Accuracy: 92.37%\n",
      "Selected Feature Names: ['atr39', 'atr33']\n",
      "Accuracy: 91.53%\n",
      "Selected Feature Names: ['atr39', 'atr33', 'atr22']\n",
      "Accuracy: 91.53%\n",
      "Selected Feature Names: ['atr39', 'atr33', 'atr22', 'atr32']\n",
      "Accuracy: 92.37%\n",
      "Selected Feature Names: ['atr39', 'atr33', 'atr22', 'atr32', 'atr23']\n",
      "Accuracy: 92.37%\n",
      "Selected Feature Names: ['atr39', 'atr33', 'atr22', 'atr32', 'atr23', 'atr25']\n",
      "Accuracy: 90.68%\n",
      "Selected Feature Names: ['atr39', 'atr33', 'atr22', 'atr32', 'atr23', 'atr25', 'atr38']\n",
      "Accuracy: 93.22%\n",
      "Selected Feature Names: ['atr39', 'atr33', 'atr22', 'atr32', 'atr23', 'atr25', 'atr38', 'atr37']\n",
      "Accuracy: 93.22%\n",
      "Selected Feature Names: ['atr39', 'atr33', 'atr22', 'atr32', 'atr23', 'atr25', 'atr38', 'atr37', 'atr26']\n",
      "Accuracy: 92.37%\n",
      "Selected Feature Names: ['atr39', 'atr33', 'atr22', 'atr32', 'atr23', 'atr25', 'atr38', 'atr37', 'atr26', 'atr30']\n",
      "Accuracy: 94.07%\n",
      "Selected Feature Names: ['atr39', 'atr33', 'atr22', 'atr32', 'atr23', 'atr25', 'atr38', 'atr37', 'atr26', 'atr30', 'atr20']\n",
      "Accuracy: 94.07%\n",
      "Selected Feature Names: ['atr39', 'atr33', 'atr22', 'atr32', 'atr23', 'atr25', 'atr38', 'atr37', 'atr26', 'atr30', 'atr20', 'atr36']\n",
      "Accuracy: 94.07%\n",
      "Selected Feature Names: ['atr39', 'atr33', 'atr22', 'atr32', 'atr23', 'atr25', 'atr38', 'atr37', 'atr26', 'atr30', 'atr20', 'atr36', 'atr35']\n",
      "Accuracy: 93.22%\n",
      "Selected Feature Names: ['atr39', 'atr33', 'atr22', 'atr32', 'atr23', 'atr25', 'atr38', 'atr37', 'atr26', 'atr30', 'atr20', 'atr36', 'atr35', 'atr21']\n",
      "Accuracy: 94.07%\n",
      "Selected Feature Names: ['atr39', 'atr33', 'atr22', 'atr32', 'atr23', 'atr25', 'atr38', 'atr37', 'atr26', 'atr30', 'atr20', 'atr36', 'atr35', 'atr21', 'atr34']\n",
      "Accuracy: 94.07%\n",
      "Selected Feature Names: ['atr39', 'atr33', 'atr22', 'atr32', 'atr23', 'atr25', 'atr38', 'atr37', 'atr26', 'atr30', 'atr20', 'atr36', 'atr35', 'atr21', 'atr34', 'atr24']\n",
      "Accuracy: 94.07%\n",
      "Selected Feature Names: ['atr39', 'atr33', 'atr22', 'atr32', 'atr23', 'atr25', 'atr38', 'atr37', 'atr26', 'atr30', 'atr20', 'atr36', 'atr35', 'atr21', 'atr34', 'atr24', 'atr27']\n",
      "Accuracy: 94.07%\n",
      "Selected Feature Names: ['atr39', 'atr33', 'atr22', 'atr32', 'atr23', 'atr25', 'atr38', 'atr37', 'atr26', 'atr30', 'atr20', 'atr36', 'atr35', 'atr21', 'atr34', 'atr24', 'atr27', 'atr29']\n",
      "Accuracy: 94.07%\n",
      "Selected Feature Names: ['atr39', 'atr33', 'atr22', 'atr32', 'atr23', 'atr25', 'atr38', 'atr37', 'atr26', 'atr30', 'atr20', 'atr36', 'atr35', 'atr21', 'atr34', 'atr24', 'atr27', 'atr29', 'atr31']\n",
      "Accuracy: 94.07%\n",
      "Selected Feature Names: ['atr39', 'atr33', 'atr22', 'atr32', 'atr23', 'atr25', 'atr38', 'atr37', 'atr26', 'atr30', 'atr20', 'atr36', 'atr35', 'atr21', 'atr34', 'atr24', 'atr27', 'atr29', 'atr31', 'atr28']\n",
      "Accuracy: 94.07%\n"
     ]
    }
   ],
   "source": [
    "for i in dict(enumerate(regular_sentences)):\n",
    "    accuracy = model(regular_sentences, y, i+1)\n",
    "    print(\"Accuracy: %.2f%%\" % (accuracy * 100.0))"
   ]
  },
  {
   "cell_type": "markdown",
   "metadata": {},
   "source": [
    "## Reference-Based Predictor"
   ]
  },
  {
   "cell_type": "code",
   "execution_count": 17,
   "metadata": {},
   "outputs": [],
   "source": [
    "reference_based = data[['num_ref', 'num_ref_3years', 'arxiv', 'neurips', 'iclr', 'icml', 'aaai', 'iccv', 'cvpr', 'emnlp', 'acl', 'naacl', 'eccv', 'icra', 'icassp', 'ijcai', 'aistats', 'sigkdd', 'neuralcom', 'ieee_tran', 'acm_tran', 'mit_press', 'nature', 'jmlr']]"
   ]
  },
  {
   "cell_type": "code",
   "execution_count": 18,
   "metadata": {},
   "outputs": [
    {
     "data": {
      "application/vnd.plotly.v1+json": {
       "config": {
        "plotlyServerURL": "https://plot.ly"
       },
       "data": [
        {
         "text": [
          [
           1,
           0.6138104833321149,
           0.28861966757755536,
           0.2866106585213169,
           0.562171434673969,
           0.4214567807427418,
           0.22473667583718093,
           0.20546271434346705,
           0.22477782730982854,
           0.033464624177306834,
           0.14271626498162124,
           0.13404800600072314,
           0.2363447592073898,
           0.12944564982209775,
           0.08834828492673223,
           0.23141019850354708,
           0.20674702293775862,
           0.13267496365853257,
           0.1316081222033088,
           0.25071883180737164,
           0.0940007500100529,
           0.16378569159256295,
           0.139882663785758,
           0.29077346443814805,
           -0.02932209884318785
          ],
          [
           0.6138104833321149,
           1,
           0.3231387810530455,
           0.4335817699100713,
           0.2823959348527275,
           0.24022738879069896,
           0.07228223588075436,
           0.1169070547765211,
           0.19395936736706434,
           0.07848623795195488,
           0.13967158382394881,
           0.10619541581385585,
           0.19818083787931387,
           0.07675155133121847,
           0.09201123778350472,
           0.10850334897217301,
           -0.0016385425206201364,
           0.026090417392312992,
           0.028773356865421054,
           0.01514944343090236,
           0.02642585795195039,
           -0.022819076635762752,
           -0.012187580751315706,
           -0.02395992725245227,
           -0.05906770435729247
          ],
          [
           0.28861966757755536,
           0.3231387810530455,
           1,
           -0.18648623585005739,
           0.10954826014212872,
           0.0045237102844349975,
           0.0035246412935575934,
           -0.08613309806837266,
           -0.042916924786441255,
           -0.09114652302875852,
           -0.07445969546167398,
           -0.039151809494606934,
           -0.05501318495117505,
           0.06010211134674816,
           -0.05632626098278816,
           -0.0639298871628523,
           -0.006511953364525801,
           -0.022117634979835002,
           0.1395160252220562,
           -0.046081468882398766,
           -0.06942643015380011,
           0.12690063625910197,
           -0.02027147319465021,
           0.03302312737961991,
           0.015295188878255718
          ],
          [
           0.2866106585213169,
           0.4335817699100713,
           -0.18648623585005739,
           1,
           0.2876519386567705,
           0.3250337125284163,
           0.07486044159623495,
           0.11912702974965853,
           0.181183159410399,
           0.03865783986838608,
           0.05457955854563421,
           0.029821363132211447,
           0.16124970426714166,
           0.01216332441474435,
           0.03199421249583935,
           0.10579946223347998,
           0.07092376380177873,
           0.016506438055131082,
           0.009713474896662614,
           -0.11315425860339592,
           -0.03456931624129993,
           -0.06467088640225484,
           -0.06856578757618881,
           -0.056783835764562314,
           0.0038243080943529653
          ],
          [
           0.562171434673969,
           0.2823959348527275,
           0.10954826014212872,
           0.2876519386567705,
           1,
           0.4597534713459117,
           0.1402382157846524,
           0.0767647449510146,
           0.06585715803868807,
           -0.028622373066072408,
           -0.028721583405412178,
           0.006402754198934568,
           0.09637685030875656,
           -0.0021124770637831894,
           -0.006519391478646121,
           0.1666126922616662,
           0.24935448569280422,
           0.0812079332491284,
           0.12632798928611116,
           0.09606300292467944,
           0.025838927621760075,
           0.11580280886237224,
           -0.020522812913481864,
           0.2934989353865168,
           -0.015409088057603895
          ],
          [
           0.4214567807427418,
           0.24022738879069896,
           0.0045237102844349975,
           0.3250337125284163,
           0.4597534713459117,
           1,
           0.18492152129249143,
           -0.03338126895574854,
           -0.05126505113366207,
           -0.11542827363791958,
           -0.05531610935578311,
           -0.032136988703542556,
           -0.05494044819594406,
           0.03127234232164396,
           -0.06336466353429235,
           0.2575222751074978,
           0.284289155966501,
           0.09304778947467535,
           0.08485022179745032,
           0.007611797828469158,
           -0.059492256310005015,
           0.08431860938882962,
           -0.04860694261266761,
           0.27305898640193976,
           0.0021036344277916685
          ],
          [
           0.22473667583718093,
           0.07228223588075436,
           0.0035246412935575934,
           0.07486044159623495,
           0.1402382157846524,
           0.18492152129249143,
           1,
           0.012668116435461304,
           -0.02304268089897769,
           0.10903174255166939,
           0.16383168667866135,
           0.14435135117164585,
           0.01541323418430839,
           0.059828416244894864,
           -0.06519246469859612,
           0.21364246951267532,
           0.05233573835256026,
           0.14863941426686003,
           0.0007672189238606083,
           -0.010822893480420715,
           -0.04008191211425535,
           0.07480269955805884,
           -0.049243765530220175,
           0.09465364757058765,
           -0.07741358375440195
          ],
          [
           0.20546271434346705,
           0.1169070547765211,
           -0.08613309806837266,
           0.11912702974965853,
           0.0767647449510146,
           -0.03338126895574854,
           0.012668116435461304,
           1,
           0.6943452139542725,
           -0.052297100667795346,
           -0.08105951179515847,
           -0.06834136217005395,
           0.6229077306319283,
           0.012542839343611889,
           -0.006709957578916402,
           -0.07250763229659851,
           -0.04595336513573371,
           -0.02457526536822708,
           -0.05847674862532515,
           0.16947056775210081,
           0.0473057490844917,
           -0.09394507945189291,
           -0.06142707359313447,
           -0.05782344957577769,
           -0.037900844582733094
          ],
          [
           0.22477782730982854,
           0.19395936736706434,
           -0.042916924786441255,
           0.181183159410399,
           0.06585715803868807,
           -0.05126505113366207,
           -0.02304268089897769,
           0.6943452139542725,
           1,
           -0.05436053831965858,
           -0.08136753245050102,
           -0.04927718118686857,
           0.6434733638772944,
           0.03400353874488898,
           0.005976704737298427,
           -0.053205949619551426,
           -0.07882601153609252,
           -0.04380730007125065,
           -0.07216640247795829,
           0.1667830208630456,
           0.08945621164761725,
           -0.07798298388211453,
           -0.08867883857843302,
           -0.07189578804798748,
           -0.043057301180312105
          ],
          [
           0.033464624177306834,
           0.07848623795195488,
           -0.09114652302875852,
           0.03865783986838608,
           -0.028622373066072408,
           -0.11542827363791958,
           0.10903174255166939,
           -0.052297100667795346,
           -0.05436053831965858,
           1,
           0.4892183490505706,
           0.4756716006571233,
           0.013017700436574577,
           -0.06434695752602232,
           0.01155653142149089,
           -0.014984171447453941,
           0.023194645694655694,
           -0.016786825566212894,
           -0.006456042028001198,
           -0.04601448875146967,
           -0.04476283267912879,
           -0.07560220320115611,
           -0.09035653680241904,
           -0.08584904939964694,
           -0.04449063877260721
          ],
          [
           0.14271626498162124,
           0.13967158382394881,
           -0.07445969546167398,
           0.05457955854563421,
           -0.028721583405412178,
           -0.05531610935578311,
           0.16383168667866135,
           -0.08105951179515847,
           -0.08136753245050102,
           0.4892183490505706,
           1,
           0.7682809033922456,
           -0.05981789374699619,
           -0.07874347328379586,
           0.09742793146450598,
           0.01435226146607877,
           -0.01562587438557258,
           0.04546927570440604,
           -0.015621991352239477,
           -0.050906193605388804,
           -0.04188121508194621,
           -0.06895498970145095,
           -0.08442297900937912,
           -0.04236243770967823,
           -0.007251047414409664
          ],
          [
           0.13404800600072314,
           0.10619541581385585,
           -0.039151809494606934,
           0.029821363132211447,
           0.006402754198934568,
           -0.032136988703542556,
           0.14435135117164585,
           -0.06834136217005395,
           -0.04927718118686857,
           0.4756716006571233,
           0.7682809033922456,
           1,
           -0.04625762505438053,
           -0.06951892814825689,
           -0.017005458903144782,
           0.06896738586699835,
           0.02704448300178543,
           0.0932720679508388,
           0.0042272216173171945,
           -0.061084506791875944,
           -0.04676774081864513,
           -0.06368684029714884,
           -0.06164808062353536,
           0.002808573959897761,
           -0.005458708448206744
          ],
          [
           0.2363447592073898,
           0.19818083787931387,
           -0.05501318495117505,
           0.16124970426714166,
           0.09637685030875656,
           -0.05494044819594406,
           0.01541323418430839,
           0.6229077306319283,
           0.6434733638772944,
           0.013017700436574577,
           -0.05981789374699619,
           -0.04625762505438053,
           1,
           0.0447933039263473,
           0.004878225228349122,
           -0.04777117423902745,
           -0.10733575737399924,
           -0.0010097153517652042,
           -0.06908256116694317,
           0.12242685927408485,
           0.03586189081505923,
           -0.11851913735474214,
           -0.06463572515554625,
           -0.03623060652374427,
           -0.05197287427804918
          ],
          [
           0.12944564982209775,
           0.07675155133121847,
           0.06010211134674816,
           0.01216332441474435,
           -0.0021124770637831894,
           0.03127234232164396,
           0.059828416244894864,
           0.012542839343611889,
           0.03400353874488898,
           -0.06434695752602232,
           -0.07874347328379586,
           -0.06951892814825689,
           0.0447933039263473,
           1,
           -0.04867552033210255,
           0.032122508816658984,
           0.0009984801216638619,
           -0.04830791802609049,
           -0.0329808215763993,
           0.11359971422533331,
           0.05938382269968861,
           0.1476058463423075,
           0.0122826133380291,
           0.061341657034112484,
           -0.0451548743431742
          ],
          [
           0.08834828492673223,
           0.09201123778350472,
           -0.05632626098278816,
           0.03199421249583935,
           -0.006519391478646121,
           -0.06336466353429235,
           -0.06519246469859612,
           -0.006709957578916402,
           0.005976704737298427,
           0.01155653142149089,
           0.09742793146450598,
           -0.017005458903144782,
           0.004878225228349122,
           -0.04867552033210255,
           1,
           -0.012329833864476307,
           -0.03421231579482133,
           -0.011263551018698165,
           -0.02768007662882421,
           0.18199134682178145,
           0.000833587484602655,
           -0.05335861606544726,
           -0.02158636909097596,
           -0.025504154494388417,
           -0.031197037224899634
          ],
          [
           0.23141019850354708,
           0.10850334897217301,
           -0.0639298871628523,
           0.10579946223347998,
           0.1666126922616662,
           0.2575222751074978,
           0.21364246951267532,
           -0.07250763229659851,
           -0.053205949619551426,
           -0.014984171447453941,
           0.01435226146607877,
           0.06896738586699835,
           -0.04777117423902745,
           0.032122508816658984,
           -0.012329833864476307,
           1,
           0.029914172835185236,
           0.16599264875645456,
           -0.03192731381823781,
           0.07684366815613862,
           -0.03269482704908934,
           0.23197707191216857,
           -0.0035431574607280836,
           0.11851425043340286,
           -0.06704186509541404
          ],
          [
           0.20674702293775862,
           -0.0016385425206201364,
           -0.006511953364525801,
           0.07092376380177873,
           0.24935448569280422,
           0.284289155966501,
           0.05233573835256026,
           -0.04595336513573371,
           -0.07882601153609252,
           0.023194645694655694,
           -0.01562587438557258,
           0.02704448300178543,
           -0.10733575737399924,
           0.0009984801216638619,
           -0.03421231579482133,
           0.029914172835185236,
           1,
           -0.028395532643224215,
           0.08209600177320135,
           0.08961581967127075,
           0.02013658040125753,
           0.062202571495937796,
           -0.010866529806722026,
           0.18314591823016388,
           -0.06646042863939285
          ],
          [
           0.13267496365853257,
           0.026090417392312992,
           -0.022117634979835002,
           0.016506438055131082,
           0.0812079332491284,
           0.09304778947467535,
           0.14863941426686003,
           -0.02457526536822708,
           -0.04380730007125065,
           -0.016786825566212894,
           0.04546927570440604,
           0.0932720679508388,
           -0.0010097153517652042,
           -0.04830791802609049,
           -0.011263551018698165,
           0.16599264875645456,
           -0.028395532643224215,
           1,
           -0.042894621393384444,
           0.05696493685120536,
           0.003835299106292486,
           -0.02918821042572517,
           -0.021830098134633765,
           0.13249679572441198,
           -0.006682119236037437
          ],
          [
           0.1316081222033088,
           0.028773356865421054,
           0.1395160252220562,
           0.009713474896662614,
           0.12632798928611116,
           0.08485022179745032,
           0.0007672189238606083,
           -0.05847674862532515,
           -0.07216640247795829,
           -0.006456042028001198,
           -0.015621991352239477,
           0.0042272216173171945,
           -0.06908256116694317,
           -0.0329808215763993,
           -0.02768007662882421,
           -0.03192731381823781,
           0.08209600177320135,
           -0.042894621393384444,
           1,
           -0.03340262982501396,
           -0.06830274862777486,
           -0.00809907200178475,
           0.09111184165538759,
           0.0887247296611469,
           -0.014687905499214046
          ],
          [
           0.25071883180737164,
           0.01514944343090236,
           -0.046081468882398766,
           -0.11315425860339592,
           0.09606300292467944,
           0.007611797828469158,
           -0.010822893480420715,
           0.16947056775210081,
           0.1667830208630456,
           -0.04601448875146967,
           -0.050906193605388804,
           -0.061084506791875944,
           0.12242685927408485,
           0.11359971422533331,
           0.18199134682178145,
           0.07684366815613862,
           0.08961581967127075,
           0.05696493685120536,
           -0.03340262982501396,
           1,
           0.020225056264898948,
           0.05956470722576338,
           -0.022609358452210335,
           0.15672947116484323,
           -0.017846265028036223
          ],
          [
           0.0940007500100529,
           0.02642585795195039,
           -0.06942643015380011,
           -0.03456931624129993,
           0.025838927621760075,
           -0.059492256310005015,
           -0.04008191211425535,
           0.0473057490844917,
           0.08945621164761725,
           -0.04476283267912879,
           -0.04188121508194621,
           -0.04676774081864513,
           0.03586189081505923,
           0.05938382269968861,
           0.000833587484602655,
           -0.03269482704908934,
           0.02013658040125753,
           0.003835299106292486,
           -0.06830274862777486,
           0.020225056264898948,
           1,
           0.005251447334727637,
           -0.01708805442974423,
           -0.033693402537391746,
           0.001928612774847315
          ],
          [
           0.16378569159256295,
           -0.022819076635762752,
           0.12690063625910197,
           -0.06467088640225484,
           0.11580280886237224,
           0.08431860938882962,
           0.07480269955805884,
           -0.09394507945189291,
           -0.07798298388211453,
           -0.07560220320115611,
           -0.06895498970145095,
           -0.06368684029714884,
           -0.11851913735474214,
           0.1476058463423075,
           -0.05335861606544726,
           0.23197707191216857,
           0.062202571495937796,
           -0.02918821042572517,
           -0.00809907200178475,
           0.05956470722576338,
           0.005251447334727637,
           1,
           0.1542675569907965,
           0.14951550658679724,
           -0.01064114152730512
          ],
          [
           0.139882663785758,
           -0.012187580751315706,
           -0.02027147319465021,
           -0.06856578757618881,
           -0.020522812913481864,
           -0.04860694261266761,
           -0.049243765530220175,
           -0.06142707359313447,
           -0.08867883857843302,
           -0.09035653680241904,
           -0.08442297900937912,
           -0.06164808062353536,
           -0.06463572515554625,
           0.0122826133380291,
           -0.02158636909097596,
           -0.0035431574607280836,
           -0.010866529806722026,
           -0.021830098134633765,
           0.09111184165538759,
           -0.022609358452210335,
           -0.01708805442974423,
           0.1542675569907965,
           1,
           0.038741567507764946,
           0.013923257950519815
          ],
          [
           0.29077346443814805,
           -0.02395992725245227,
           0.03302312737961991,
           -0.056783835764562314,
           0.2934989353865168,
           0.27305898640193976,
           0.09465364757058765,
           -0.05782344957577769,
           -0.07189578804798748,
           -0.08584904939964694,
           -0.04236243770967823,
           0.002808573959897761,
           -0.03623060652374427,
           0.061341657034112484,
           -0.025504154494388417,
           0.11851425043340286,
           0.18314591823016388,
           0.13249679572441198,
           0.0887247296611469,
           0.15672947116484323,
           -0.033693402537391746,
           0.14951550658679724,
           0.038741567507764946,
           1,
           -0.003329638327994005
          ],
          [
           -0.02932209884318785,
           -0.05906770435729247,
           0.015295188878255718,
           0.0038243080943529653,
           -0.015409088057603895,
           0.0021036344277916685,
           -0.07741358375440195,
           -0.037900844582733094,
           -0.043057301180312105,
           -0.04449063877260721,
           -0.007251047414409664,
           -0.005458708448206744,
           -0.05197287427804918,
           -0.0451548743431742,
           -0.031197037224899634,
           -0.06704186509541404,
           -0.06646042863939285,
           -0.006682119236037437,
           -0.014687905499214046,
           -0.017846265028036223,
           0.001928612774847315,
           -0.01064114152730512,
           0.013923257950519815,
           -0.003329638327994005,
           1
          ]
         ],
         "texttemplate": "%{text:.2f}",
         "type": "heatmap",
         "x": [
          "num_ref",
          "num_ref_3years",
          "arxiv",
          "neurips",
          "iclr",
          "icml",
          "aaai",
          "iccv",
          "cvpr",
          "emnlp",
          "acl",
          "naacl",
          "eccv",
          "icra",
          "icassp",
          "ijcai",
          "aistats",
          "sigkdd",
          "neuralcom",
          "ieee_tran",
          "acm_tran",
          "mit_press",
          "nature",
          "jmlr",
          "replicability"
         ],
         "y": [
          "num_ref",
          "num_ref_3years",
          "arxiv",
          "neurips",
          "iclr",
          "icml",
          "aaai",
          "iccv",
          "cvpr",
          "emnlp",
          "acl",
          "naacl",
          "eccv",
          "icra",
          "icassp",
          "ijcai",
          "aistats",
          "sigkdd",
          "neuralcom",
          "ieee_tran",
          "acm_tran",
          "mit_press",
          "nature",
          "jmlr",
          "replicability"
         ],
         "z": [
          [
           1,
           0.6138104833321149,
           0.28861966757755536,
           0.2866106585213169,
           0.562171434673969,
           0.4214567807427418,
           0.22473667583718093,
           0.20546271434346705,
           0.22477782730982854,
           0.033464624177306834,
           0.14271626498162124,
           0.13404800600072314,
           0.2363447592073898,
           0.12944564982209775,
           0.08834828492673223,
           0.23141019850354708,
           0.20674702293775862,
           0.13267496365853257,
           0.1316081222033088,
           0.25071883180737164,
           0.0940007500100529,
           0.16378569159256295,
           0.139882663785758,
           0.29077346443814805,
           -0.02932209884318785
          ],
          [
           0.6138104833321149,
           1,
           0.3231387810530455,
           0.4335817699100713,
           0.2823959348527275,
           0.24022738879069896,
           0.07228223588075436,
           0.1169070547765211,
           0.19395936736706434,
           0.07848623795195488,
           0.13967158382394881,
           0.10619541581385585,
           0.19818083787931387,
           0.07675155133121847,
           0.09201123778350472,
           0.10850334897217301,
           -0.0016385425206201364,
           0.026090417392312992,
           0.028773356865421054,
           0.01514944343090236,
           0.02642585795195039,
           -0.022819076635762752,
           -0.012187580751315706,
           -0.02395992725245227,
           -0.05906770435729247
          ],
          [
           0.28861966757755536,
           0.3231387810530455,
           1,
           -0.18648623585005739,
           0.10954826014212872,
           0.0045237102844349975,
           0.0035246412935575934,
           -0.08613309806837266,
           -0.042916924786441255,
           -0.09114652302875852,
           -0.07445969546167398,
           -0.039151809494606934,
           -0.05501318495117505,
           0.06010211134674816,
           -0.05632626098278816,
           -0.0639298871628523,
           -0.006511953364525801,
           -0.022117634979835002,
           0.1395160252220562,
           -0.046081468882398766,
           -0.06942643015380011,
           0.12690063625910197,
           -0.02027147319465021,
           0.03302312737961991,
           0.015295188878255718
          ],
          [
           0.2866106585213169,
           0.4335817699100713,
           -0.18648623585005739,
           1,
           0.2876519386567705,
           0.3250337125284163,
           0.07486044159623495,
           0.11912702974965853,
           0.181183159410399,
           0.03865783986838608,
           0.05457955854563421,
           0.029821363132211447,
           0.16124970426714166,
           0.01216332441474435,
           0.03199421249583935,
           0.10579946223347998,
           0.07092376380177873,
           0.016506438055131082,
           0.009713474896662614,
           -0.11315425860339592,
           -0.03456931624129993,
           -0.06467088640225484,
           -0.06856578757618881,
           -0.056783835764562314,
           0.0038243080943529653
          ],
          [
           0.562171434673969,
           0.2823959348527275,
           0.10954826014212872,
           0.2876519386567705,
           1,
           0.4597534713459117,
           0.1402382157846524,
           0.0767647449510146,
           0.06585715803868807,
           -0.028622373066072408,
           -0.028721583405412178,
           0.006402754198934568,
           0.09637685030875656,
           -0.0021124770637831894,
           -0.006519391478646121,
           0.1666126922616662,
           0.24935448569280422,
           0.0812079332491284,
           0.12632798928611116,
           0.09606300292467944,
           0.025838927621760075,
           0.11580280886237224,
           -0.020522812913481864,
           0.2934989353865168,
           -0.015409088057603895
          ],
          [
           0.4214567807427418,
           0.24022738879069896,
           0.0045237102844349975,
           0.3250337125284163,
           0.4597534713459117,
           1,
           0.18492152129249143,
           -0.03338126895574854,
           -0.05126505113366207,
           -0.11542827363791958,
           -0.05531610935578311,
           -0.032136988703542556,
           -0.05494044819594406,
           0.03127234232164396,
           -0.06336466353429235,
           0.2575222751074978,
           0.284289155966501,
           0.09304778947467535,
           0.08485022179745032,
           0.007611797828469158,
           -0.059492256310005015,
           0.08431860938882962,
           -0.04860694261266761,
           0.27305898640193976,
           0.0021036344277916685
          ],
          [
           0.22473667583718093,
           0.07228223588075436,
           0.0035246412935575934,
           0.07486044159623495,
           0.1402382157846524,
           0.18492152129249143,
           1,
           0.012668116435461304,
           -0.02304268089897769,
           0.10903174255166939,
           0.16383168667866135,
           0.14435135117164585,
           0.01541323418430839,
           0.059828416244894864,
           -0.06519246469859612,
           0.21364246951267532,
           0.05233573835256026,
           0.14863941426686003,
           0.0007672189238606083,
           -0.010822893480420715,
           -0.04008191211425535,
           0.07480269955805884,
           -0.049243765530220175,
           0.09465364757058765,
           -0.07741358375440195
          ],
          [
           0.20546271434346705,
           0.1169070547765211,
           -0.08613309806837266,
           0.11912702974965853,
           0.0767647449510146,
           -0.03338126895574854,
           0.012668116435461304,
           1,
           0.6943452139542725,
           -0.052297100667795346,
           -0.08105951179515847,
           -0.06834136217005395,
           0.6229077306319283,
           0.012542839343611889,
           -0.006709957578916402,
           -0.07250763229659851,
           -0.04595336513573371,
           -0.02457526536822708,
           -0.05847674862532515,
           0.16947056775210081,
           0.0473057490844917,
           -0.09394507945189291,
           -0.06142707359313447,
           -0.05782344957577769,
           -0.037900844582733094
          ],
          [
           0.22477782730982854,
           0.19395936736706434,
           -0.042916924786441255,
           0.181183159410399,
           0.06585715803868807,
           -0.05126505113366207,
           -0.02304268089897769,
           0.6943452139542725,
           1,
           -0.05436053831965858,
           -0.08136753245050102,
           -0.04927718118686857,
           0.6434733638772944,
           0.03400353874488898,
           0.005976704737298427,
           -0.053205949619551426,
           -0.07882601153609252,
           -0.04380730007125065,
           -0.07216640247795829,
           0.1667830208630456,
           0.08945621164761725,
           -0.07798298388211453,
           -0.08867883857843302,
           -0.07189578804798748,
           -0.043057301180312105
          ],
          [
           0.033464624177306834,
           0.07848623795195488,
           -0.09114652302875852,
           0.03865783986838608,
           -0.028622373066072408,
           -0.11542827363791958,
           0.10903174255166939,
           -0.052297100667795346,
           -0.05436053831965858,
           1,
           0.4892183490505706,
           0.4756716006571233,
           0.013017700436574577,
           -0.06434695752602232,
           0.01155653142149089,
           -0.014984171447453941,
           0.023194645694655694,
           -0.016786825566212894,
           -0.006456042028001198,
           -0.04601448875146967,
           -0.04476283267912879,
           -0.07560220320115611,
           -0.09035653680241904,
           -0.08584904939964694,
           -0.04449063877260721
          ],
          [
           0.14271626498162124,
           0.13967158382394881,
           -0.07445969546167398,
           0.05457955854563421,
           -0.028721583405412178,
           -0.05531610935578311,
           0.16383168667866135,
           -0.08105951179515847,
           -0.08136753245050102,
           0.4892183490505706,
           1,
           0.7682809033922456,
           -0.05981789374699619,
           -0.07874347328379586,
           0.09742793146450598,
           0.01435226146607877,
           -0.01562587438557258,
           0.04546927570440604,
           -0.015621991352239477,
           -0.050906193605388804,
           -0.04188121508194621,
           -0.06895498970145095,
           -0.08442297900937912,
           -0.04236243770967823,
           -0.007251047414409664
          ],
          [
           0.13404800600072314,
           0.10619541581385585,
           -0.039151809494606934,
           0.029821363132211447,
           0.006402754198934568,
           -0.032136988703542556,
           0.14435135117164585,
           -0.06834136217005395,
           -0.04927718118686857,
           0.4756716006571233,
           0.7682809033922456,
           1,
           -0.04625762505438053,
           -0.06951892814825689,
           -0.017005458903144782,
           0.06896738586699835,
           0.02704448300178543,
           0.0932720679508388,
           0.0042272216173171945,
           -0.061084506791875944,
           -0.04676774081864513,
           -0.06368684029714884,
           -0.06164808062353536,
           0.002808573959897761,
           -0.005458708448206744
          ],
          [
           0.2363447592073898,
           0.19818083787931387,
           -0.05501318495117505,
           0.16124970426714166,
           0.09637685030875656,
           -0.05494044819594406,
           0.01541323418430839,
           0.6229077306319283,
           0.6434733638772944,
           0.013017700436574577,
           -0.05981789374699619,
           -0.04625762505438053,
           1,
           0.0447933039263473,
           0.004878225228349122,
           -0.04777117423902745,
           -0.10733575737399924,
           -0.0010097153517652042,
           -0.06908256116694317,
           0.12242685927408485,
           0.03586189081505923,
           -0.11851913735474214,
           -0.06463572515554625,
           -0.03623060652374427,
           -0.05197287427804918
          ],
          [
           0.12944564982209775,
           0.07675155133121847,
           0.06010211134674816,
           0.01216332441474435,
           -0.0021124770637831894,
           0.03127234232164396,
           0.059828416244894864,
           0.012542839343611889,
           0.03400353874488898,
           -0.06434695752602232,
           -0.07874347328379586,
           -0.06951892814825689,
           0.0447933039263473,
           1,
           -0.04867552033210255,
           0.032122508816658984,
           0.0009984801216638619,
           -0.04830791802609049,
           -0.0329808215763993,
           0.11359971422533331,
           0.05938382269968861,
           0.1476058463423075,
           0.0122826133380291,
           0.061341657034112484,
           -0.0451548743431742
          ],
          [
           0.08834828492673223,
           0.09201123778350472,
           -0.05632626098278816,
           0.03199421249583935,
           -0.006519391478646121,
           -0.06336466353429235,
           -0.06519246469859612,
           -0.006709957578916402,
           0.005976704737298427,
           0.01155653142149089,
           0.09742793146450598,
           -0.017005458903144782,
           0.004878225228349122,
           -0.04867552033210255,
           1,
           -0.012329833864476307,
           -0.03421231579482133,
           -0.011263551018698165,
           -0.02768007662882421,
           0.18199134682178145,
           0.000833587484602655,
           -0.05335861606544726,
           -0.02158636909097596,
           -0.025504154494388417,
           -0.031197037224899634
          ],
          [
           0.23141019850354708,
           0.10850334897217301,
           -0.0639298871628523,
           0.10579946223347998,
           0.1666126922616662,
           0.2575222751074978,
           0.21364246951267532,
           -0.07250763229659851,
           -0.053205949619551426,
           -0.014984171447453941,
           0.01435226146607877,
           0.06896738586699835,
           -0.04777117423902745,
           0.032122508816658984,
           -0.012329833864476307,
           1,
           0.029914172835185236,
           0.16599264875645456,
           -0.03192731381823781,
           0.07684366815613862,
           -0.03269482704908934,
           0.23197707191216857,
           -0.0035431574607280836,
           0.11851425043340286,
           -0.06704186509541404
          ],
          [
           0.20674702293775862,
           -0.0016385425206201364,
           -0.006511953364525801,
           0.07092376380177873,
           0.24935448569280422,
           0.284289155966501,
           0.05233573835256026,
           -0.04595336513573371,
           -0.07882601153609252,
           0.023194645694655694,
           -0.01562587438557258,
           0.02704448300178543,
           -0.10733575737399924,
           0.0009984801216638619,
           -0.03421231579482133,
           0.029914172835185236,
           1,
           -0.028395532643224215,
           0.08209600177320135,
           0.08961581967127075,
           0.02013658040125753,
           0.062202571495937796,
           -0.010866529806722026,
           0.18314591823016388,
           -0.06646042863939285
          ],
          [
           0.13267496365853257,
           0.026090417392312992,
           -0.022117634979835002,
           0.016506438055131082,
           0.0812079332491284,
           0.09304778947467535,
           0.14863941426686003,
           -0.02457526536822708,
           -0.04380730007125065,
           -0.016786825566212894,
           0.04546927570440604,
           0.0932720679508388,
           -0.0010097153517652042,
           -0.04830791802609049,
           -0.011263551018698165,
           0.16599264875645456,
           -0.028395532643224215,
           1,
           -0.042894621393384444,
           0.05696493685120536,
           0.003835299106292486,
           -0.02918821042572517,
           -0.021830098134633765,
           0.13249679572441198,
           -0.006682119236037437
          ],
          [
           0.1316081222033088,
           0.028773356865421054,
           0.1395160252220562,
           0.009713474896662614,
           0.12632798928611116,
           0.08485022179745032,
           0.0007672189238606083,
           -0.05847674862532515,
           -0.07216640247795829,
           -0.006456042028001198,
           -0.015621991352239477,
           0.0042272216173171945,
           -0.06908256116694317,
           -0.0329808215763993,
           -0.02768007662882421,
           -0.03192731381823781,
           0.08209600177320135,
           -0.042894621393384444,
           1,
           -0.03340262982501396,
           -0.06830274862777486,
           -0.00809907200178475,
           0.09111184165538759,
           0.0887247296611469,
           -0.014687905499214046
          ],
          [
           0.25071883180737164,
           0.01514944343090236,
           -0.046081468882398766,
           -0.11315425860339592,
           0.09606300292467944,
           0.007611797828469158,
           -0.010822893480420715,
           0.16947056775210081,
           0.1667830208630456,
           -0.04601448875146967,
           -0.050906193605388804,
           -0.061084506791875944,
           0.12242685927408485,
           0.11359971422533331,
           0.18199134682178145,
           0.07684366815613862,
           0.08961581967127075,
           0.05696493685120536,
           -0.03340262982501396,
           1,
           0.020225056264898948,
           0.05956470722576338,
           -0.022609358452210335,
           0.15672947116484323,
           -0.017846265028036223
          ],
          [
           0.0940007500100529,
           0.02642585795195039,
           -0.06942643015380011,
           -0.03456931624129993,
           0.025838927621760075,
           -0.059492256310005015,
           -0.04008191211425535,
           0.0473057490844917,
           0.08945621164761725,
           -0.04476283267912879,
           -0.04188121508194621,
           -0.04676774081864513,
           0.03586189081505923,
           0.05938382269968861,
           0.000833587484602655,
           -0.03269482704908934,
           0.02013658040125753,
           0.003835299106292486,
           -0.06830274862777486,
           0.020225056264898948,
           1,
           0.005251447334727637,
           -0.01708805442974423,
           -0.033693402537391746,
           0.001928612774847315
          ],
          [
           0.16378569159256295,
           -0.022819076635762752,
           0.12690063625910197,
           -0.06467088640225484,
           0.11580280886237224,
           0.08431860938882962,
           0.07480269955805884,
           -0.09394507945189291,
           -0.07798298388211453,
           -0.07560220320115611,
           -0.06895498970145095,
           -0.06368684029714884,
           -0.11851913735474214,
           0.1476058463423075,
           -0.05335861606544726,
           0.23197707191216857,
           0.062202571495937796,
           -0.02918821042572517,
           -0.00809907200178475,
           0.05956470722576338,
           0.005251447334727637,
           1,
           0.1542675569907965,
           0.14951550658679724,
           -0.01064114152730512
          ],
          [
           0.139882663785758,
           -0.012187580751315706,
           -0.02027147319465021,
           -0.06856578757618881,
           -0.020522812913481864,
           -0.04860694261266761,
           -0.049243765530220175,
           -0.06142707359313447,
           -0.08867883857843302,
           -0.09035653680241904,
           -0.08442297900937912,
           -0.06164808062353536,
           -0.06463572515554625,
           0.0122826133380291,
           -0.02158636909097596,
           -0.0035431574607280836,
           -0.010866529806722026,
           -0.021830098134633765,
           0.09111184165538759,
           -0.022609358452210335,
           -0.01708805442974423,
           0.1542675569907965,
           1,
           0.038741567507764946,
           0.013923257950519815
          ],
          [
           0.29077346443814805,
           -0.02395992725245227,
           0.03302312737961991,
           -0.056783835764562314,
           0.2934989353865168,
           0.27305898640193976,
           0.09465364757058765,
           -0.05782344957577769,
           -0.07189578804798748,
           -0.08584904939964694,
           -0.04236243770967823,
           0.002808573959897761,
           -0.03623060652374427,
           0.061341657034112484,
           -0.025504154494388417,
           0.11851425043340286,
           0.18314591823016388,
           0.13249679572441198,
           0.0887247296611469,
           0.15672947116484323,
           -0.033693402537391746,
           0.14951550658679724,
           0.038741567507764946,
           1,
           -0.003329638327994005
          ],
          [
           -0.02932209884318785,
           -0.05906770435729247,
           0.015295188878255718,
           0.0038243080943529653,
           -0.015409088057603895,
           0.0021036344277916685,
           -0.07741358375440195,
           -0.037900844582733094,
           -0.043057301180312105,
           -0.04449063877260721,
           -0.007251047414409664,
           -0.005458708448206744,
           -0.05197287427804918,
           -0.0451548743431742,
           -0.031197037224899634,
           -0.06704186509541404,
           -0.06646042863939285,
           -0.006682119236037437,
           -0.014687905499214046,
           -0.017846265028036223,
           0.001928612774847315,
           -0.01064114152730512,
           0.013923257950519815,
           -0.003329638327994005,
           1
          ]
         ]
        }
       ],
       "layout": {
        "template": {
         "data": {
          "bar": [
           {
            "error_x": {
             "color": "#2a3f5f"
            },
            "error_y": {
             "color": "#2a3f5f"
            },
            "marker": {
             "line": {
              "color": "#E5ECF6",
              "width": 0.5
             },
             "pattern": {
              "fillmode": "overlay",
              "size": 10,
              "solidity": 0.2
             }
            },
            "type": "bar"
           }
          ],
          "barpolar": [
           {
            "marker": {
             "line": {
              "color": "#E5ECF6",
              "width": 0.5
             },
             "pattern": {
              "fillmode": "overlay",
              "size": 10,
              "solidity": 0.2
             }
            },
            "type": "barpolar"
           }
          ],
          "carpet": [
           {
            "aaxis": {
             "endlinecolor": "#2a3f5f",
             "gridcolor": "white",
             "linecolor": "white",
             "minorgridcolor": "white",
             "startlinecolor": "#2a3f5f"
            },
            "baxis": {
             "endlinecolor": "#2a3f5f",
             "gridcolor": "white",
             "linecolor": "white",
             "minorgridcolor": "white",
             "startlinecolor": "#2a3f5f"
            },
            "type": "carpet"
           }
          ],
          "choropleth": [
           {
            "colorbar": {
             "outlinewidth": 0,
             "ticks": ""
            },
            "type": "choropleth"
           }
          ],
          "contour": [
           {
            "colorbar": {
             "outlinewidth": 0,
             "ticks": ""
            },
            "colorscale": [
             [
              0,
              "#0d0887"
             ],
             [
              0.1111111111111111,
              "#46039f"
             ],
             [
              0.2222222222222222,
              "#7201a8"
             ],
             [
              0.3333333333333333,
              "#9c179e"
             ],
             [
              0.4444444444444444,
              "#bd3786"
             ],
             [
              0.5555555555555556,
              "#d8576b"
             ],
             [
              0.6666666666666666,
              "#ed7953"
             ],
             [
              0.7777777777777778,
              "#fb9f3a"
             ],
             [
              0.8888888888888888,
              "#fdca26"
             ],
             [
              1,
              "#f0f921"
             ]
            ],
            "type": "contour"
           }
          ],
          "contourcarpet": [
           {
            "colorbar": {
             "outlinewidth": 0,
             "ticks": ""
            },
            "type": "contourcarpet"
           }
          ],
          "heatmap": [
           {
            "colorbar": {
             "outlinewidth": 0,
             "ticks": ""
            },
            "colorscale": [
             [
              0,
              "#0d0887"
             ],
             [
              0.1111111111111111,
              "#46039f"
             ],
             [
              0.2222222222222222,
              "#7201a8"
             ],
             [
              0.3333333333333333,
              "#9c179e"
             ],
             [
              0.4444444444444444,
              "#bd3786"
             ],
             [
              0.5555555555555556,
              "#d8576b"
             ],
             [
              0.6666666666666666,
              "#ed7953"
             ],
             [
              0.7777777777777778,
              "#fb9f3a"
             ],
             [
              0.8888888888888888,
              "#fdca26"
             ],
             [
              1,
              "#f0f921"
             ]
            ],
            "type": "heatmap"
           }
          ],
          "heatmapgl": [
           {
            "colorbar": {
             "outlinewidth": 0,
             "ticks": ""
            },
            "colorscale": [
             [
              0,
              "#0d0887"
             ],
             [
              0.1111111111111111,
              "#46039f"
             ],
             [
              0.2222222222222222,
              "#7201a8"
             ],
             [
              0.3333333333333333,
              "#9c179e"
             ],
             [
              0.4444444444444444,
              "#bd3786"
             ],
             [
              0.5555555555555556,
              "#d8576b"
             ],
             [
              0.6666666666666666,
              "#ed7953"
             ],
             [
              0.7777777777777778,
              "#fb9f3a"
             ],
             [
              0.8888888888888888,
              "#fdca26"
             ],
             [
              1,
              "#f0f921"
             ]
            ],
            "type": "heatmapgl"
           }
          ],
          "histogram": [
           {
            "marker": {
             "pattern": {
              "fillmode": "overlay",
              "size": 10,
              "solidity": 0.2
             }
            },
            "type": "histogram"
           }
          ],
          "histogram2d": [
           {
            "colorbar": {
             "outlinewidth": 0,
             "ticks": ""
            },
            "colorscale": [
             [
              0,
              "#0d0887"
             ],
             [
              0.1111111111111111,
              "#46039f"
             ],
             [
              0.2222222222222222,
              "#7201a8"
             ],
             [
              0.3333333333333333,
              "#9c179e"
             ],
             [
              0.4444444444444444,
              "#bd3786"
             ],
             [
              0.5555555555555556,
              "#d8576b"
             ],
             [
              0.6666666666666666,
              "#ed7953"
             ],
             [
              0.7777777777777778,
              "#fb9f3a"
             ],
             [
              0.8888888888888888,
              "#fdca26"
             ],
             [
              1,
              "#f0f921"
             ]
            ],
            "type": "histogram2d"
           }
          ],
          "histogram2dcontour": [
           {
            "colorbar": {
             "outlinewidth": 0,
             "ticks": ""
            },
            "colorscale": [
             [
              0,
              "#0d0887"
             ],
             [
              0.1111111111111111,
              "#46039f"
             ],
             [
              0.2222222222222222,
              "#7201a8"
             ],
             [
              0.3333333333333333,
              "#9c179e"
             ],
             [
              0.4444444444444444,
              "#bd3786"
             ],
             [
              0.5555555555555556,
              "#d8576b"
             ],
             [
              0.6666666666666666,
              "#ed7953"
             ],
             [
              0.7777777777777778,
              "#fb9f3a"
             ],
             [
              0.8888888888888888,
              "#fdca26"
             ],
             [
              1,
              "#f0f921"
             ]
            ],
            "type": "histogram2dcontour"
           }
          ],
          "mesh3d": [
           {
            "colorbar": {
             "outlinewidth": 0,
             "ticks": ""
            },
            "type": "mesh3d"
           }
          ],
          "parcoords": [
           {
            "line": {
             "colorbar": {
              "outlinewidth": 0,
              "ticks": ""
             }
            },
            "type": "parcoords"
           }
          ],
          "pie": [
           {
            "automargin": true,
            "type": "pie"
           }
          ],
          "scatter": [
           {
            "fillpattern": {
             "fillmode": "overlay",
             "size": 10,
             "solidity": 0.2
            },
            "type": "scatter"
           }
          ],
          "scatter3d": [
           {
            "line": {
             "colorbar": {
              "outlinewidth": 0,
              "ticks": ""
             }
            },
            "marker": {
             "colorbar": {
              "outlinewidth": 0,
              "ticks": ""
             }
            },
            "type": "scatter3d"
           }
          ],
          "scattercarpet": [
           {
            "marker": {
             "colorbar": {
              "outlinewidth": 0,
              "ticks": ""
             }
            },
            "type": "scattercarpet"
           }
          ],
          "scattergeo": [
           {
            "marker": {
             "colorbar": {
              "outlinewidth": 0,
              "ticks": ""
             }
            },
            "type": "scattergeo"
           }
          ],
          "scattergl": [
           {
            "marker": {
             "colorbar": {
              "outlinewidth": 0,
              "ticks": ""
             }
            },
            "type": "scattergl"
           }
          ],
          "scattermapbox": [
           {
            "marker": {
             "colorbar": {
              "outlinewidth": 0,
              "ticks": ""
             }
            },
            "type": "scattermapbox"
           }
          ],
          "scatterpolar": [
           {
            "marker": {
             "colorbar": {
              "outlinewidth": 0,
              "ticks": ""
             }
            },
            "type": "scatterpolar"
           }
          ],
          "scatterpolargl": [
           {
            "marker": {
             "colorbar": {
              "outlinewidth": 0,
              "ticks": ""
             }
            },
            "type": "scatterpolargl"
           }
          ],
          "scatterternary": [
           {
            "marker": {
             "colorbar": {
              "outlinewidth": 0,
              "ticks": ""
             }
            },
            "type": "scatterternary"
           }
          ],
          "surface": [
           {
            "colorbar": {
             "outlinewidth": 0,
             "ticks": ""
            },
            "colorscale": [
             [
              0,
              "#0d0887"
             ],
             [
              0.1111111111111111,
              "#46039f"
             ],
             [
              0.2222222222222222,
              "#7201a8"
             ],
             [
              0.3333333333333333,
              "#9c179e"
             ],
             [
              0.4444444444444444,
              "#bd3786"
             ],
             [
              0.5555555555555556,
              "#d8576b"
             ],
             [
              0.6666666666666666,
              "#ed7953"
             ],
             [
              0.7777777777777778,
              "#fb9f3a"
             ],
             [
              0.8888888888888888,
              "#fdca26"
             ],
             [
              1,
              "#f0f921"
             ]
            ],
            "type": "surface"
           }
          ],
          "table": [
           {
            "cells": {
             "fill": {
              "color": "#EBF0F8"
             },
             "line": {
              "color": "white"
             }
            },
            "header": {
             "fill": {
              "color": "#C8D4E3"
             },
             "line": {
              "color": "white"
             }
            },
            "type": "table"
           }
          ]
         },
         "layout": {
          "annotationdefaults": {
           "arrowcolor": "#2a3f5f",
           "arrowhead": 0,
           "arrowwidth": 1
          },
          "autotypenumbers": "strict",
          "coloraxis": {
           "colorbar": {
            "outlinewidth": 0,
            "ticks": ""
           }
          },
          "colorscale": {
           "diverging": [
            [
             0,
             "#8e0152"
            ],
            [
             0.1,
             "#c51b7d"
            ],
            [
             0.2,
             "#de77ae"
            ],
            [
             0.3,
             "#f1b6da"
            ],
            [
             0.4,
             "#fde0ef"
            ],
            [
             0.5,
             "#f7f7f7"
            ],
            [
             0.6,
             "#e6f5d0"
            ],
            [
             0.7,
             "#b8e186"
            ],
            [
             0.8,
             "#7fbc41"
            ],
            [
             0.9,
             "#4d9221"
            ],
            [
             1,
             "#276419"
            ]
           ],
           "sequential": [
            [
             0,
             "#0d0887"
            ],
            [
             0.1111111111111111,
             "#46039f"
            ],
            [
             0.2222222222222222,
             "#7201a8"
            ],
            [
             0.3333333333333333,
             "#9c179e"
            ],
            [
             0.4444444444444444,
             "#bd3786"
            ],
            [
             0.5555555555555556,
             "#d8576b"
            ],
            [
             0.6666666666666666,
             "#ed7953"
            ],
            [
             0.7777777777777778,
             "#fb9f3a"
            ],
            [
             0.8888888888888888,
             "#fdca26"
            ],
            [
             1,
             "#f0f921"
            ]
           ],
           "sequentialminus": [
            [
             0,
             "#0d0887"
            ],
            [
             0.1111111111111111,
             "#46039f"
            ],
            [
             0.2222222222222222,
             "#7201a8"
            ],
            [
             0.3333333333333333,
             "#9c179e"
            ],
            [
             0.4444444444444444,
             "#bd3786"
            ],
            [
             0.5555555555555556,
             "#d8576b"
            ],
            [
             0.6666666666666666,
             "#ed7953"
            ],
            [
             0.7777777777777778,
             "#fb9f3a"
            ],
            [
             0.8888888888888888,
             "#fdca26"
            ],
            [
             1,
             "#f0f921"
            ]
           ]
          },
          "colorway": [
           "#636efa",
           "#EF553B",
           "#00cc96",
           "#ab63fa",
           "#FFA15A",
           "#19d3f3",
           "#FF6692",
           "#B6E880",
           "#FF97FF",
           "#FECB52"
          ],
          "font": {
           "color": "#2a3f5f"
          },
          "geo": {
           "bgcolor": "white",
           "lakecolor": "white",
           "landcolor": "#E5ECF6",
           "showlakes": true,
           "showland": true,
           "subunitcolor": "white"
          },
          "hoverlabel": {
           "align": "left"
          },
          "hovermode": "closest",
          "mapbox": {
           "style": "light"
          },
          "paper_bgcolor": "white",
          "plot_bgcolor": "#E5ECF6",
          "polar": {
           "angularaxis": {
            "gridcolor": "white",
            "linecolor": "white",
            "ticks": ""
           },
           "bgcolor": "#E5ECF6",
           "radialaxis": {
            "gridcolor": "white",
            "linecolor": "white",
            "ticks": ""
           }
          },
          "scene": {
           "xaxis": {
            "backgroundcolor": "#E5ECF6",
            "gridcolor": "white",
            "gridwidth": 2,
            "linecolor": "white",
            "showbackground": true,
            "ticks": "",
            "zerolinecolor": "white"
           },
           "yaxis": {
            "backgroundcolor": "#E5ECF6",
            "gridcolor": "white",
            "gridwidth": 2,
            "linecolor": "white",
            "showbackground": true,
            "ticks": "",
            "zerolinecolor": "white"
           },
           "zaxis": {
            "backgroundcolor": "#E5ECF6",
            "gridcolor": "white",
            "gridwidth": 2,
            "linecolor": "white",
            "showbackground": true,
            "ticks": "",
            "zerolinecolor": "white"
           }
          },
          "shapedefaults": {
           "line": {
            "color": "#2a3f5f"
           }
          },
          "ternary": {
           "aaxis": {
            "gridcolor": "white",
            "linecolor": "white",
            "ticks": ""
           },
           "baxis": {
            "gridcolor": "white",
            "linecolor": "white",
            "ticks": ""
           },
           "bgcolor": "#E5ECF6",
           "caxis": {
            "gridcolor": "white",
            "linecolor": "white",
            "ticks": ""
           }
          },
          "title": {
           "x": 0.05
          },
          "xaxis": {
           "automargin": true,
           "gridcolor": "white",
           "linecolor": "white",
           "ticks": "",
           "title": {
            "standoff": 15
           },
           "zerolinecolor": "white",
           "zerolinewidth": 2
          },
          "yaxis": {
           "automargin": true,
           "gridcolor": "white",
           "linecolor": "white",
           "ticks": "",
           "title": {
            "standoff": 15
           },
           "zerolinecolor": "white",
           "zerolinewidth": 2
          }
         }
        }
       }
      }
     },
     "metadata": {},
     "output_type": "display_data"
    }
   ],
   "source": [
    "dataframe = reference_based.join([y])\n",
    "correlation_matrix(dataframe)"
   ]
  },
  {
   "cell_type": "code",
   "execution_count": 19,
   "metadata": {},
   "outputs": [
    {
     "name": "stdout",
     "output_type": "stream",
     "text": [
      "Selected Feature Names: ['num_ref_3years']\n",
      "Accuracy: 94.07%\n",
      "Selected Feature Names: ['num_ref_3years', 'aaai']\n",
      "Accuracy: 94.07%\n",
      "Selected Feature Names: ['num_ref_3years', 'aaai', 'cvpr']\n",
      "Accuracy: 94.07%\n",
      "Selected Feature Names: ['num_ref_3years', 'aaai', 'cvpr', 'ijcai']\n",
      "Accuracy: 94.07%\n",
      "Selected Feature Names: ['num_ref_3years', 'aaai', 'cvpr', 'ijcai', 'aistats']\n",
      "Accuracy: 94.07%\n",
      "Selected Feature Names: ['num_ref_3years', 'aaai', 'cvpr', 'ijcai', 'aistats', 'eccv']\n",
      "Accuracy: 94.07%\n",
      "Selected Feature Names: ['num_ref_3years', 'aaai', 'cvpr', 'ijcai', 'aistats', 'eccv', 'emnlp']\n",
      "Accuracy: 94.07%\n",
      "Selected Feature Names: ['num_ref_3years', 'aaai', 'cvpr', 'ijcai', 'aistats', 'eccv', 'emnlp', 'icra']\n",
      "Accuracy: 94.07%\n",
      "Selected Feature Names: ['num_ref_3years', 'aaai', 'cvpr', 'ijcai', 'aistats', 'eccv', 'emnlp', 'icra', 'num_ref']\n",
      "Accuracy: 93.22%\n",
      "Selected Feature Names: ['num_ref_3years', 'aaai', 'cvpr', 'ijcai', 'aistats', 'eccv', 'emnlp', 'icra', 'num_ref', 'iccv']\n",
      "Accuracy: 93.22%\n",
      "Selected Feature Names: ['num_ref_3years', 'aaai', 'cvpr', 'ijcai', 'aistats', 'eccv', 'emnlp', 'icra', 'num_ref', 'iccv', 'icassp']\n",
      "Accuracy: 93.22%\n",
      "Selected Feature Names: ['num_ref_3years', 'aaai', 'cvpr', 'ijcai', 'aistats', 'eccv', 'emnlp', 'icra', 'num_ref', 'iccv', 'icassp', 'arxiv']\n",
      "Accuracy: 94.07%\n",
      "Selected Feature Names: ['num_ref_3years', 'aaai', 'cvpr', 'ijcai', 'aistats', 'eccv', 'emnlp', 'icra', 'num_ref', 'iccv', 'icassp', 'arxiv', 'ieee_tran']\n",
      "Accuracy: 93.22%\n",
      "Selected Feature Names: ['num_ref_3years', 'aaai', 'cvpr', 'ijcai', 'aistats', 'eccv', 'emnlp', 'icra', 'num_ref', 'iccv', 'icassp', 'arxiv', 'ieee_tran', 'nature']\n",
      "Accuracy: 93.22%\n",
      "Selected Feature Names: ['num_ref_3years', 'aaai', 'cvpr', 'ijcai', 'aistats', 'eccv', 'emnlp', 'icra', 'num_ref', 'iccv', 'icassp', 'arxiv', 'ieee_tran', 'nature', 'iclr']\n",
      "Accuracy: 93.22%\n",
      "Selected Feature Names: ['num_ref_3years', 'aaai', 'cvpr', 'ijcai', 'aistats', 'eccv', 'emnlp', 'icra', 'num_ref', 'iccv', 'icassp', 'arxiv', 'ieee_tran', 'nature', 'iclr', 'acl']\n",
      "Accuracy: 94.07%\n",
      "Selected Feature Names: ['num_ref_3years', 'aaai', 'cvpr', 'ijcai', 'aistats', 'eccv', 'emnlp', 'icra', 'num_ref', 'iccv', 'icassp', 'arxiv', 'ieee_tran', 'nature', 'iclr', 'acl', 'neuralcom']\n",
      "Accuracy: 93.22%\n",
      "Selected Feature Names: ['num_ref_3years', 'aaai', 'cvpr', 'ijcai', 'aistats', 'eccv', 'emnlp', 'icra', 'num_ref', 'iccv', 'icassp', 'arxiv', 'ieee_tran', 'nature', 'iclr', 'acl', 'neuralcom', 'mit_press']\n",
      "Accuracy: 94.07%\n",
      "Selected Feature Names: ['num_ref_3years', 'aaai', 'cvpr', 'ijcai', 'aistats', 'eccv', 'emnlp', 'icra', 'num_ref', 'iccv', 'icassp', 'arxiv', 'ieee_tran', 'nature', 'iclr', 'acl', 'neuralcom', 'mit_press', 'sigkdd']\n",
      "Accuracy: 93.22%\n",
      "Selected Feature Names: ['num_ref_3years', 'aaai', 'cvpr', 'ijcai', 'aistats', 'eccv', 'emnlp', 'icra', 'num_ref', 'iccv', 'icassp', 'arxiv', 'ieee_tran', 'nature', 'iclr', 'acl', 'neuralcom', 'mit_press', 'sigkdd', 'neurips']\n",
      "Accuracy: 92.37%\n",
      "Selected Feature Names: ['num_ref_3years', 'aaai', 'cvpr', 'ijcai', 'aistats', 'eccv', 'emnlp', 'icra', 'num_ref', 'iccv', 'icassp', 'arxiv', 'ieee_tran', 'nature', 'iclr', 'acl', 'neuralcom', 'mit_press', 'sigkdd', 'neurips', 'naacl']\n",
      "Accuracy: 92.37%\n",
      "Selected Feature Names: ['num_ref_3years', 'aaai', 'cvpr', 'ijcai', 'aistats', 'eccv', 'emnlp', 'icra', 'num_ref', 'iccv', 'icassp', 'arxiv', 'ieee_tran', 'nature', 'iclr', 'acl', 'neuralcom', 'mit_press', 'sigkdd', 'neurips', 'naacl', 'jmlr']\n",
      "Accuracy: 93.22%\n",
      "Selected Feature Names: ['num_ref_3years', 'aaai', 'cvpr', 'ijcai', 'aistats', 'eccv', 'emnlp', 'icra', 'num_ref', 'iccv', 'icassp', 'arxiv', 'ieee_tran', 'nature', 'iclr', 'acl', 'neuralcom', 'mit_press', 'sigkdd', 'neurips', 'naacl', 'jmlr', 'acm_tran']\n",
      "Accuracy: 93.22%\n",
      "Selected Feature Names: ['num_ref_3years', 'aaai', 'cvpr', 'ijcai', 'aistats', 'eccv', 'emnlp', 'icra', 'num_ref', 'iccv', 'icassp', 'arxiv', 'ieee_tran', 'nature', 'iclr', 'acl', 'neuralcom', 'mit_press', 'sigkdd', 'neurips', 'naacl', 'jmlr', 'acm_tran', 'icml']\n",
      "Accuracy: 92.37%\n"
     ]
    }
   ],
   "source": [
    "for i in dict(enumerate(reference_based)):\n",
    "    accuracy = model(reference_based, y, i+1)\n",
    "    print(\"Accuracy: %.2f%%\" % (accuracy * 100.0))"
   ]
  },
  {
   "cell_type": "markdown",
   "metadata": {},
   "source": [
    "## Combination Predictor"
   ]
  },
  {
   "cell_type": "code",
   "execution_count": 20,
   "metadata": {},
   "outputs": [],
   "source": [
    "combination = citing_sentence.join([regular_sentences, reference_based])"
   ]
  },
  {
   "cell_type": "code",
   "execution_count": 21,
   "metadata": {},
   "outputs": [
    {
     "name": "stdout",
     "output_type": "stream",
     "text": [
      "Selected Feature Names: ['atr39']\n",
      "Accuracy: 92.37%\n",
      "Selected Feature Names: ['atr39', 'atr33']\n",
      "Accuracy: 91.53%\n",
      "Selected Feature Names: ['atr39', 'atr33', 'atr22']\n",
      "Accuracy: 91.53%\n",
      "Selected Feature Names: ['atr39', 'atr33', 'atr22', 'atr32']\n",
      "Accuracy: 92.37%\n",
      "Selected Feature Names: ['atr39', 'atr33', 'atr22', 'atr32', 'atr13']\n",
      "Accuracy: 93.22%\n",
      "Selected Feature Names: ['atr39', 'atr33', 'atr22', 'atr32', 'atr13', 'num_ref_3years']\n",
      "Accuracy: 93.22%\n",
      "Selected Feature Names: ['atr39', 'atr33', 'atr22', 'atr32', 'atr13', 'num_ref_3years', 'aaai']\n",
      "Accuracy: 93.22%\n",
      "Selected Feature Names: ['atr39', 'atr33', 'atr22', 'atr32', 'atr13', 'num_ref_3years', 'aaai', 'atr3']\n",
      "Accuracy: 89.83%\n",
      "Selected Feature Names: ['atr39', 'atr33', 'atr22', 'atr32', 'atr13', 'num_ref_3years', 'aaai', 'atr3', 'atr8']\n",
      "Accuracy: 92.37%\n",
      "Selected Feature Names: ['atr39', 'atr33', 'atr22', 'atr32', 'atr13', 'num_ref_3years', 'aaai', 'atr3', 'atr8', 'atr23']\n",
      "Accuracy: 92.37%\n",
      "Selected Feature Names: ['atr39', 'atr33', 'atr22', 'atr32', 'atr13', 'num_ref_3years', 'aaai', 'atr3', 'atr8', 'atr23', 'atr25']\n",
      "Accuracy: 92.37%\n",
      "Selected Feature Names: ['atr39', 'atr33', 'atr22', 'atr32', 'atr13', 'num_ref_3years', 'aaai', 'atr3', 'atr8', 'atr23', 'atr25', 'cvpr']\n",
      "Accuracy: 91.53%\n",
      "Selected Feature Names: ['atr39', 'atr33', 'atr22', 'atr32', 'atr13', 'num_ref_3years', 'aaai', 'atr3', 'atr8', 'atr23', 'atr25', 'cvpr', 'atr38']\n",
      "Accuracy: 91.53%\n",
      "Selected Feature Names: ['atr39', 'atr33', 'atr22', 'atr32', 'atr13', 'num_ref_3years', 'aaai', 'atr3', 'atr8', 'atr23', 'atr25', 'cvpr', 'atr38', 'ijcai']\n",
      "Accuracy: 91.53%\n",
      "Selected Feature Names: ['atr39', 'atr33', 'atr22', 'atr32', 'atr13', 'num_ref_3years', 'aaai', 'atr3', 'atr8', 'atr23', 'atr25', 'cvpr', 'atr38', 'ijcai', 'aistats']\n",
      "Accuracy: 92.37%\n",
      "Selected Feature Names: ['atr39', 'atr33', 'atr22', 'atr32', 'atr13', 'num_ref_3years', 'aaai', 'atr3', 'atr8', 'atr23', 'atr25', 'cvpr', 'atr38', 'ijcai', 'aistats', 'eccv']\n",
      "Accuracy: 92.37%\n",
      "Selected Feature Names: ['atr39', 'atr33', 'atr22', 'atr32', 'atr13', 'num_ref_3years', 'aaai', 'atr3', 'atr8', 'atr23', 'atr25', 'cvpr', 'atr38', 'ijcai', 'aistats', 'eccv', 'emnlp']\n",
      "Accuracy: 91.53%\n",
      "Selected Feature Names: ['atr39', 'atr33', 'atr22', 'atr32', 'atr13', 'num_ref_3years', 'aaai', 'atr3', 'atr8', 'atr23', 'atr25', 'cvpr', 'atr38', 'ijcai', 'aistats', 'eccv', 'emnlp', 'icra']\n",
      "Accuracy: 92.37%\n",
      "Selected Feature Names: ['atr39', 'atr33', 'atr22', 'atr32', 'atr13', 'num_ref_3years', 'aaai', 'atr3', 'atr8', 'atr23', 'atr25', 'cvpr', 'atr38', 'ijcai', 'aistats', 'eccv', 'emnlp', 'icra', 'atr37']\n",
      "Accuracy: 93.22%\n",
      "Selected Feature Names: ['atr39', 'atr33', 'atr22', 'atr32', 'atr13', 'num_ref_3years', 'aaai', 'atr3', 'atr8', 'atr23', 'atr25', 'cvpr', 'atr38', 'ijcai', 'aistats', 'eccv', 'emnlp', 'icra', 'atr37', 'atr14']\n",
      "Accuracy: 94.07%\n",
      "Selected Feature Names: ['atr39', 'atr33', 'atr22', 'atr32', 'atr13', 'num_ref_3years', 'aaai', 'atr3', 'atr8', 'atr23', 'atr25', 'cvpr', 'atr38', 'ijcai', 'aistats', 'eccv', 'emnlp', 'icra', 'atr37', 'atr14', 'num_ref']\n",
      "Accuracy: 93.22%\n",
      "Selected Feature Names: ['atr39', 'atr33', 'atr22', 'atr32', 'atr13', 'num_ref_3years', 'aaai', 'atr3', 'atr8', 'atr23', 'atr25', 'cvpr', 'atr38', 'ijcai', 'aistats', 'eccv', 'emnlp', 'icra', 'atr37', 'atr14', 'num_ref', 'atr0']\n",
      "Accuracy: 94.07%\n",
      "Selected Feature Names: ['atr39', 'atr33', 'atr22', 'atr32', 'atr13', 'num_ref_3years', 'aaai', 'atr3', 'atr8', 'atr23', 'atr25', 'cvpr', 'atr38', 'ijcai', 'aistats', 'eccv', 'emnlp', 'icra', 'atr37', 'atr14', 'num_ref', 'atr0', 'atr6']\n",
      "Accuracy: 94.07%\n",
      "Selected Feature Names: ['atr39', 'atr33', 'atr22', 'atr32', 'atr13', 'num_ref_3years', 'aaai', 'atr3', 'atr8', 'atr23', 'atr25', 'cvpr', 'atr38', 'ijcai', 'aistats', 'eccv', 'emnlp', 'icra', 'atr37', 'atr14', 'num_ref', 'atr0', 'atr6', 'iccv']\n",
      "Accuracy: 94.07%\n",
      "Selected Feature Names: ['atr39', 'atr33', 'atr22', 'atr32', 'atr13', 'num_ref_3years', 'aaai', 'atr3', 'atr8', 'atr23', 'atr25', 'cvpr', 'atr38', 'ijcai', 'aistats', 'eccv', 'emnlp', 'icra', 'atr37', 'atr14', 'num_ref', 'atr0', 'atr6', 'iccv', 'atr26']\n",
      "Accuracy: 94.07%\n",
      "Selected Feature Names: ['atr39', 'atr33', 'atr22', 'atr32', 'atr13', 'num_ref_3years', 'aaai', 'atr3', 'atr8', 'atr23', 'atr25', 'cvpr', 'atr38', 'ijcai', 'aistats', 'eccv', 'emnlp', 'icra', 'atr37', 'atr14', 'num_ref', 'atr0', 'atr6', 'iccv', 'atr26', 'atr30']\n",
      "Accuracy: 94.07%\n",
      "Selected Feature Names: ['atr39', 'atr33', 'atr22', 'atr32', 'atr13', 'num_ref_3years', 'aaai', 'atr3', 'atr8', 'atr23', 'atr25', 'cvpr', 'atr38', 'ijcai', 'aistats', 'eccv', 'emnlp', 'icra', 'atr37', 'atr14', 'num_ref', 'atr0', 'atr6', 'iccv', 'atr26', 'atr30', 'atr20']\n",
      "Accuracy: 94.07%\n",
      "Selected Feature Names: ['atr39', 'atr33', 'atr22', 'atr32', 'atr13', 'num_ref_3years', 'aaai', 'atr3', 'atr8', 'atr23', 'atr25', 'cvpr', 'atr38', 'ijcai', 'aistats', 'eccv', 'emnlp', 'icra', 'atr37', 'atr14', 'num_ref', 'atr0', 'atr6', 'iccv', 'atr26', 'atr30', 'atr20', 'atr36']\n",
      "Accuracy: 94.07%\n",
      "Selected Feature Names: ['atr39', 'atr33', 'atr22', 'atr32', 'atr13', 'num_ref_3years', 'aaai', 'atr3', 'atr8', 'atr23', 'atr25', 'cvpr', 'atr38', 'ijcai', 'aistats', 'eccv', 'emnlp', 'icra', 'atr37', 'atr14', 'num_ref', 'atr0', 'atr6', 'iccv', 'atr26', 'atr30', 'atr20', 'atr36', 'atr35']\n",
      "Accuracy: 94.07%\n",
      "Selected Feature Names: ['atr39', 'atr33', 'atr22', 'atr32', 'atr13', 'num_ref_3years', 'aaai', 'atr3', 'atr8', 'atr23', 'atr25', 'cvpr', 'atr38', 'ijcai', 'aistats', 'eccv', 'emnlp', 'icra', 'atr37', 'atr14', 'num_ref', 'atr0', 'atr6', 'iccv', 'atr26', 'atr30', 'atr20', 'atr36', 'atr35', 'atr21']\n",
      "Accuracy: 94.07%\n",
      "Selected Feature Names: ['atr39', 'atr33', 'atr22', 'atr32', 'atr13', 'num_ref_3years', 'aaai', 'atr3', 'atr8', 'atr23', 'atr25', 'cvpr', 'atr38', 'ijcai', 'aistats', 'eccv', 'emnlp', 'icra', 'atr37', 'atr14', 'num_ref', 'atr0', 'atr6', 'iccv', 'atr26', 'atr30', 'atr20', 'atr36', 'atr35', 'atr21', 'icassp']\n",
      "Accuracy: 94.07%\n",
      "Selected Feature Names: ['atr39', 'atr33', 'atr22', 'atr32', 'atr13', 'num_ref_3years', 'aaai', 'atr3', 'atr8', 'atr23', 'atr25', 'cvpr', 'atr38', 'ijcai', 'aistats', 'eccv', 'emnlp', 'icra', 'atr37', 'atr14', 'num_ref', 'atr0', 'atr6', 'iccv', 'atr26', 'atr30', 'atr20', 'atr36', 'atr35', 'atr21', 'icassp', 'atr34']\n",
      "Accuracy: 94.07%\n",
      "Selected Feature Names: ['atr39', 'atr33', 'atr22', 'atr32', 'atr13', 'num_ref_3years', 'aaai', 'atr3', 'atr8', 'atr23', 'atr25', 'cvpr', 'atr38', 'ijcai', 'aistats', 'eccv', 'emnlp', 'icra', 'atr37', 'atr14', 'num_ref', 'atr0', 'atr6', 'iccv', 'atr26', 'atr30', 'atr20', 'atr36', 'atr35', 'atr21', 'icassp', 'atr34', 'atr9']\n",
      "Accuracy: 94.07%\n",
      "Selected Feature Names: ['atr39', 'atr33', 'atr22', 'atr32', 'atr13', 'num_ref_3years', 'aaai', 'atr3', 'atr8', 'atr23', 'atr25', 'cvpr', 'atr38', 'ijcai', 'aistats', 'eccv', 'emnlp', 'icra', 'atr37', 'atr14', 'num_ref', 'atr0', 'atr6', 'iccv', 'atr26', 'atr30', 'atr20', 'atr36', 'atr35', 'atr21', 'icassp', 'atr34', 'atr9', 'atr4']\n",
      "Accuracy: 94.07%\n",
      "Selected Feature Names: ['atr39', 'atr33', 'atr22', 'atr32', 'atr13', 'num_ref_3years', 'aaai', 'atr3', 'atr8', 'atr23', 'atr25', 'cvpr', 'atr38', 'ijcai', 'aistats', 'eccv', 'emnlp', 'icra', 'atr37', 'atr14', 'num_ref', 'atr0', 'atr6', 'iccv', 'atr26', 'atr30', 'atr20', 'atr36', 'atr35', 'atr21', 'icassp', 'atr34', 'atr9', 'atr4', 'atr10']\n",
      "Accuracy: 94.07%\n",
      "Selected Feature Names: ['atr39', 'atr33', 'atr22', 'atr32', 'atr13', 'num_ref_3years', 'aaai', 'atr3', 'atr8', 'atr23', 'atr25', 'cvpr', 'atr38', 'ijcai', 'aistats', 'eccv', 'emnlp', 'icra', 'atr37', 'atr14', 'num_ref', 'atr0', 'atr6', 'iccv', 'atr26', 'atr30', 'atr20', 'atr36', 'atr35', 'atr21', 'icassp', 'atr34', 'atr9', 'atr4', 'atr10', 'atr19']\n",
      "Accuracy: 93.22%\n",
      "Selected Feature Names: ['atr39', 'atr33', 'atr22', 'atr32', 'atr13', 'num_ref_3years', 'aaai', 'atr3', 'atr8', 'atr23', 'atr25', 'cvpr', 'atr38', 'ijcai', 'aistats', 'eccv', 'emnlp', 'icra', 'atr37', 'atr14', 'num_ref', 'atr0', 'atr6', 'iccv', 'atr26', 'atr30', 'atr20', 'atr36', 'atr35', 'atr21', 'icassp', 'atr34', 'atr9', 'atr4', 'atr10', 'atr19', 'arxiv']\n",
      "Accuracy: 94.07%\n",
      "Selected Feature Names: ['atr39', 'atr33', 'atr22', 'atr32', 'atr13', 'num_ref_3years', 'aaai', 'atr3', 'atr8', 'atr23', 'atr25', 'cvpr', 'atr38', 'ijcai', 'aistats', 'eccv', 'emnlp', 'icra', 'atr37', 'atr14', 'num_ref', 'atr0', 'atr6', 'iccv', 'atr26', 'atr30', 'atr20', 'atr36', 'atr35', 'atr21', 'icassp', 'atr34', 'atr9', 'atr4', 'atr10', 'atr19', 'arxiv', 'atr5']\n",
      "Accuracy: 94.07%\n",
      "Selected Feature Names: ['atr39', 'atr33', 'atr22', 'atr32', 'atr13', 'num_ref_3years', 'aaai', 'atr3', 'atr8', 'atr23', 'atr25', 'cvpr', 'atr38', 'ijcai', 'aistats', 'eccv', 'emnlp', 'icra', 'atr37', 'atr14', 'num_ref', 'atr0', 'atr6', 'iccv', 'atr26', 'atr30', 'atr20', 'atr36', 'atr35', 'atr21', 'icassp', 'atr34', 'atr9', 'atr4', 'atr10', 'atr19', 'arxiv', 'atr5', 'atr12']\n",
      "Accuracy: 94.07%\n",
      "Selected Feature Names: ['atr39', 'atr33', 'atr22', 'atr32', 'atr13', 'num_ref_3years', 'aaai', 'atr3', 'atr8', 'atr23', 'atr25', 'cvpr', 'atr38', 'ijcai', 'aistats', 'eccv', 'emnlp', 'icra', 'atr37', 'atr14', 'num_ref', 'atr0', 'atr6', 'iccv', 'atr26', 'atr30', 'atr20', 'atr36', 'atr35', 'atr21', 'icassp', 'atr34', 'atr9', 'atr4', 'atr10', 'atr19', 'arxiv', 'atr5', 'atr12', 'atr24']\n",
      "Accuracy: 94.07%\n",
      "Selected Feature Names: ['atr39', 'atr33', 'atr22', 'atr32', 'atr13', 'num_ref_3years', 'aaai', 'atr3', 'atr8', 'atr23', 'atr25', 'cvpr', 'atr38', 'ijcai', 'aistats', 'eccv', 'emnlp', 'icra', 'atr37', 'atr14', 'num_ref', 'atr0', 'atr6', 'iccv', 'atr26', 'atr30', 'atr20', 'atr36', 'atr35', 'atr21', 'icassp', 'atr34', 'atr9', 'atr4', 'atr10', 'atr19', 'arxiv', 'atr5', 'atr12', 'atr24', 'atr11']\n",
      "Accuracy: 94.07%\n",
      "Selected Feature Names: ['atr39', 'atr33', 'atr22', 'atr32', 'atr13', 'num_ref_3years', 'aaai', 'atr3', 'atr8', 'atr23', 'atr25', 'cvpr', 'atr38', 'ijcai', 'aistats', 'eccv', 'emnlp', 'icra', 'atr37', 'atr14', 'num_ref', 'atr0', 'atr6', 'iccv', 'atr26', 'atr30', 'atr20', 'atr36', 'atr35', 'atr21', 'icassp', 'atr34', 'atr9', 'atr4', 'atr10', 'atr19', 'arxiv', 'atr5', 'atr12', 'atr24', 'atr11', 'atr27']\n",
      "Accuracy: 94.07%\n",
      "Selected Feature Names: ['atr39', 'atr33', 'atr22', 'atr32', 'atr13', 'num_ref_3years', 'aaai', 'atr3', 'atr8', 'atr23', 'atr25', 'cvpr', 'atr38', 'ijcai', 'aistats', 'eccv', 'emnlp', 'icra', 'atr37', 'atr14', 'num_ref', 'atr0', 'atr6', 'iccv', 'atr26', 'atr30', 'atr20', 'atr36', 'atr35', 'atr21', 'icassp', 'atr34', 'atr9', 'atr4', 'atr10', 'atr19', 'arxiv', 'atr5', 'atr12', 'atr24', 'atr11', 'atr27', 'ieee_tran']\n",
      "Accuracy: 94.07%\n",
      "Selected Feature Names: ['atr39', 'atr33', 'atr22', 'atr32', 'atr13', 'num_ref_3years', 'aaai', 'atr3', 'atr8', 'atr23', 'atr25', 'cvpr', 'atr38', 'ijcai', 'aistats', 'eccv', 'emnlp', 'icra', 'atr37', 'atr14', 'num_ref', 'atr0', 'atr6', 'iccv', 'atr26', 'atr30', 'atr20', 'atr36', 'atr35', 'atr21', 'icassp', 'atr34', 'atr9', 'atr4', 'atr10', 'atr19', 'arxiv', 'atr5', 'atr12', 'atr24', 'atr11', 'atr27', 'ieee_tran', 'nature']\n",
      "Accuracy: 94.07%\n",
      "Selected Feature Names: ['atr39', 'atr33', 'atr22', 'atr32', 'atr13', 'num_ref_3years', 'aaai', 'atr3', 'atr8', 'atr23', 'atr25', 'cvpr', 'atr38', 'ijcai', 'aistats', 'eccv', 'emnlp', 'icra', 'atr37', 'atr14', 'num_ref', 'atr0', 'atr6', 'iccv', 'atr26', 'atr30', 'atr20', 'atr36', 'atr35', 'atr21', 'icassp', 'atr34', 'atr9', 'atr4', 'atr10', 'atr19', 'arxiv', 'atr5', 'atr12', 'atr24', 'atr11', 'atr27', 'ieee_tran', 'nature', 'atr1']\n",
      "Accuracy: 94.07%\n",
      "Selected Feature Names: ['atr39', 'atr33', 'atr22', 'atr32', 'atr13', 'num_ref_3years', 'aaai', 'atr3', 'atr8', 'atr23', 'atr25', 'cvpr', 'atr38', 'ijcai', 'aistats', 'eccv', 'emnlp', 'icra', 'atr37', 'atr14', 'num_ref', 'atr0', 'atr6', 'iccv', 'atr26', 'atr30', 'atr20', 'atr36', 'atr35', 'atr21', 'icassp', 'atr34', 'atr9', 'atr4', 'atr10', 'atr19', 'arxiv', 'atr5', 'atr12', 'atr24', 'atr11', 'atr27', 'ieee_tran', 'nature', 'atr1', 'iclr']\n",
      "Accuracy: 94.07%\n",
      "Selected Feature Names: ['atr39', 'atr33', 'atr22', 'atr32', 'atr13', 'num_ref_3years', 'aaai', 'atr3', 'atr8', 'atr23', 'atr25', 'cvpr', 'atr38', 'ijcai', 'aistats', 'eccv', 'emnlp', 'icra', 'atr37', 'atr14', 'num_ref', 'atr0', 'atr6', 'iccv', 'atr26', 'atr30', 'atr20', 'atr36', 'atr35', 'atr21', 'icassp', 'atr34', 'atr9', 'atr4', 'atr10', 'atr19', 'arxiv', 'atr5', 'atr12', 'atr24', 'atr11', 'atr27', 'ieee_tran', 'nature', 'atr1', 'iclr', 'atr29']\n",
      "Accuracy: 94.07%\n",
      "Selected Feature Names: ['atr39', 'atr33', 'atr22', 'atr32', 'atr13', 'num_ref_3years', 'aaai', 'atr3', 'atr8', 'atr23', 'atr25', 'cvpr', 'atr38', 'ijcai', 'aistats', 'eccv', 'emnlp', 'icra', 'atr37', 'atr14', 'num_ref', 'atr0', 'atr6', 'iccv', 'atr26', 'atr30', 'atr20', 'atr36', 'atr35', 'atr21', 'icassp', 'atr34', 'atr9', 'atr4', 'atr10', 'atr19', 'arxiv', 'atr5', 'atr12', 'atr24', 'atr11', 'atr27', 'ieee_tran', 'nature', 'atr1', 'iclr', 'atr29', 'acl']\n",
      "Accuracy: 94.07%\n",
      "Selected Feature Names: ['atr39', 'atr33', 'atr22', 'atr32', 'atr13', 'num_ref_3years', 'aaai', 'atr3', 'atr8', 'atr23', 'atr25', 'cvpr', 'atr38', 'ijcai', 'aistats', 'eccv', 'emnlp', 'icra', 'atr37', 'atr14', 'num_ref', 'atr0', 'atr6', 'iccv', 'atr26', 'atr30', 'atr20', 'atr36', 'atr35', 'atr21', 'icassp', 'atr34', 'atr9', 'atr4', 'atr10', 'atr19', 'arxiv', 'atr5', 'atr12', 'atr24', 'atr11', 'atr27', 'ieee_tran', 'nature', 'atr1', 'iclr', 'atr29', 'acl', 'atr15']\n",
      "Accuracy: 94.07%\n",
      "Selected Feature Names: ['atr39', 'atr33', 'atr22', 'atr32', 'atr13', 'num_ref_3years', 'aaai', 'atr3', 'atr8', 'atr23', 'atr25', 'cvpr', 'atr38', 'ijcai', 'aistats', 'eccv', 'emnlp', 'icra', 'atr37', 'atr14', 'num_ref', 'atr0', 'atr6', 'iccv', 'atr26', 'atr30', 'atr20', 'atr36', 'atr35', 'atr21', 'icassp', 'atr34', 'atr9', 'atr4', 'atr10', 'atr19', 'arxiv', 'atr5', 'atr12', 'atr24', 'atr11', 'atr27', 'ieee_tran', 'nature', 'atr1', 'iclr', 'atr29', 'acl', 'atr15', 'neuralcom']\n",
      "Accuracy: 94.07%\n",
      "Selected Feature Names: ['atr39', 'atr33', 'atr22', 'atr32', 'atr13', 'num_ref_3years', 'aaai', 'atr3', 'atr8', 'atr23', 'atr25', 'cvpr', 'atr38', 'ijcai', 'aistats', 'eccv', 'emnlp', 'icra', 'atr37', 'atr14', 'num_ref', 'atr0', 'atr6', 'iccv', 'atr26', 'atr30', 'atr20', 'atr36', 'atr35', 'atr21', 'icassp', 'atr34', 'atr9', 'atr4', 'atr10', 'atr19', 'arxiv', 'atr5', 'atr12', 'atr24', 'atr11', 'atr27', 'ieee_tran', 'nature', 'atr1', 'iclr', 'atr29', 'acl', 'atr15', 'neuralcom', 'atr18']\n",
      "Accuracy: 94.07%\n",
      "Selected Feature Names: ['atr39', 'atr33', 'atr22', 'atr32', 'atr13', 'num_ref_3years', 'aaai', 'atr3', 'atr8', 'atr23', 'atr25', 'cvpr', 'atr38', 'ijcai', 'aistats', 'eccv', 'emnlp', 'icra', 'atr37', 'atr14', 'num_ref', 'atr0', 'atr6', 'iccv', 'atr26', 'atr30', 'atr20', 'atr36', 'atr35', 'atr21', 'icassp', 'atr34', 'atr9', 'atr4', 'atr10', 'atr19', 'arxiv', 'atr5', 'atr12', 'atr24', 'atr11', 'atr27', 'ieee_tran', 'nature', 'atr1', 'iclr', 'atr29', 'acl', 'atr15', 'neuralcom', 'atr18', 'atr7']\n",
      "Accuracy: 94.07%\n",
      "Selected Feature Names: ['atr39', 'atr33', 'atr22', 'atr32', 'atr13', 'num_ref_3years', 'aaai', 'atr3', 'atr8', 'atr23', 'atr25', 'cvpr', 'atr38', 'ijcai', 'aistats', 'eccv', 'emnlp', 'icra', 'atr37', 'atr14', 'num_ref', 'atr0', 'atr6', 'iccv', 'atr26', 'atr30', 'atr20', 'atr36', 'atr35', 'atr21', 'icassp', 'atr34', 'atr9', 'atr4', 'atr10', 'atr19', 'arxiv', 'atr5', 'atr12', 'atr24', 'atr11', 'atr27', 'ieee_tran', 'nature', 'atr1', 'iclr', 'atr29', 'acl', 'atr15', 'neuralcom', 'atr18', 'atr7', 'atr17']\n",
      "Accuracy: 94.07%\n",
      "Selected Feature Names: ['atr39', 'atr33', 'atr22', 'atr32', 'atr13', 'num_ref_3years', 'aaai', 'atr3', 'atr8', 'atr23', 'atr25', 'cvpr', 'atr38', 'ijcai', 'aistats', 'eccv', 'emnlp', 'icra', 'atr37', 'atr14', 'num_ref', 'atr0', 'atr6', 'iccv', 'atr26', 'atr30', 'atr20', 'atr36', 'atr35', 'atr21', 'icassp', 'atr34', 'atr9', 'atr4', 'atr10', 'atr19', 'arxiv', 'atr5', 'atr12', 'atr24', 'atr11', 'atr27', 'ieee_tran', 'nature', 'atr1', 'iclr', 'atr29', 'acl', 'atr15', 'neuralcom', 'atr18', 'atr7', 'atr17', 'atr31']\n",
      "Accuracy: 94.07%\n",
      "Selected Feature Names: ['atr39', 'atr33', 'atr22', 'atr32', 'atr13', 'num_ref_3years', 'aaai', 'atr3', 'atr8', 'atr23', 'atr25', 'cvpr', 'atr38', 'ijcai', 'aistats', 'eccv', 'emnlp', 'icra', 'atr37', 'atr14', 'num_ref', 'atr0', 'atr6', 'iccv', 'atr26', 'atr30', 'atr20', 'atr36', 'atr35', 'atr21', 'icassp', 'atr34', 'atr9', 'atr4', 'atr10', 'atr19', 'arxiv', 'atr5', 'atr12', 'atr24', 'atr11', 'atr27', 'ieee_tran', 'nature', 'atr1', 'iclr', 'atr29', 'acl', 'atr15', 'neuralcom', 'atr18', 'atr7', 'atr17', 'atr31', 'mit_press']\n",
      "Accuracy: 94.07%\n",
      "Selected Feature Names: ['atr39', 'atr33', 'atr22', 'atr32', 'atr13', 'num_ref_3years', 'aaai', 'atr3', 'atr8', 'atr23', 'atr25', 'cvpr', 'atr38', 'ijcai', 'aistats', 'eccv', 'emnlp', 'icra', 'atr37', 'atr14', 'num_ref', 'atr0', 'atr6', 'iccv', 'atr26', 'atr30', 'atr20', 'atr36', 'atr35', 'atr21', 'icassp', 'atr34', 'atr9', 'atr4', 'atr10', 'atr19', 'arxiv', 'atr5', 'atr12', 'atr24', 'atr11', 'atr27', 'ieee_tran', 'nature', 'atr1', 'iclr', 'atr29', 'acl', 'atr15', 'neuralcom', 'atr18', 'atr7', 'atr17', 'atr31', 'mit_press', 'sigkdd']\n",
      "Accuracy: 94.07%\n",
      "Selected Feature Names: ['atr39', 'atr33', 'atr22', 'atr32', 'atr13', 'num_ref_3years', 'aaai', 'atr3', 'atr8', 'atr23', 'atr25', 'cvpr', 'atr38', 'ijcai', 'aistats', 'eccv', 'emnlp', 'icra', 'atr37', 'atr14', 'num_ref', 'atr0', 'atr6', 'iccv', 'atr26', 'atr30', 'atr20', 'atr36', 'atr35', 'atr21', 'icassp', 'atr34', 'atr9', 'atr4', 'atr10', 'atr19', 'arxiv', 'atr5', 'atr12', 'atr24', 'atr11', 'atr27', 'ieee_tran', 'nature', 'atr1', 'iclr', 'atr29', 'acl', 'atr15', 'neuralcom', 'atr18', 'atr7', 'atr17', 'atr31', 'mit_press', 'sigkdd', 'neurips']\n",
      "Accuracy: 94.07%\n",
      "Selected Feature Names: ['atr39', 'atr33', 'atr22', 'atr32', 'atr13', 'num_ref_3years', 'aaai', 'atr3', 'atr8', 'atr23', 'atr25', 'cvpr', 'atr38', 'ijcai', 'aistats', 'eccv', 'emnlp', 'icra', 'atr37', 'atr14', 'num_ref', 'atr0', 'atr6', 'iccv', 'atr26', 'atr30', 'atr20', 'atr36', 'atr35', 'atr21', 'icassp', 'atr34', 'atr9', 'atr4', 'atr10', 'atr19', 'arxiv', 'atr5', 'atr12', 'atr24', 'atr11', 'atr27', 'ieee_tran', 'nature', 'atr1', 'iclr', 'atr29', 'acl', 'atr15', 'neuralcom', 'atr18', 'atr7', 'atr17', 'atr31', 'mit_press', 'sigkdd', 'neurips', 'naacl']\n",
      "Accuracy: 94.07%\n",
      "Selected Feature Names: ['atr39', 'atr33', 'atr22', 'atr32', 'atr13', 'num_ref_3years', 'aaai', 'atr3', 'atr8', 'atr23', 'atr25', 'cvpr', 'atr38', 'ijcai', 'aistats', 'eccv', 'emnlp', 'icra', 'atr37', 'atr14', 'num_ref', 'atr0', 'atr6', 'iccv', 'atr26', 'atr30', 'atr20', 'atr36', 'atr35', 'atr21', 'icassp', 'atr34', 'atr9', 'atr4', 'atr10', 'atr19', 'arxiv', 'atr5', 'atr12', 'atr24', 'atr11', 'atr27', 'ieee_tran', 'nature', 'atr1', 'iclr', 'atr29', 'acl', 'atr15', 'neuralcom', 'atr18', 'atr7', 'atr17', 'atr31', 'mit_press', 'sigkdd', 'neurips', 'naacl', 'atr2']\n",
      "Accuracy: 94.07%\n",
      "Selected Feature Names: ['atr39', 'atr33', 'atr22', 'atr32', 'atr13', 'num_ref_3years', 'aaai', 'atr3', 'atr8', 'atr23', 'atr25', 'cvpr', 'atr38', 'ijcai', 'aistats', 'eccv', 'emnlp', 'icra', 'atr37', 'atr14', 'num_ref', 'atr0', 'atr6', 'iccv', 'atr26', 'atr30', 'atr20', 'atr36', 'atr35', 'atr21', 'icassp', 'atr34', 'atr9', 'atr4', 'atr10', 'atr19', 'arxiv', 'atr5', 'atr12', 'atr24', 'atr11', 'atr27', 'ieee_tran', 'nature', 'atr1', 'iclr', 'atr29', 'acl', 'atr15', 'neuralcom', 'atr18', 'atr7', 'atr17', 'atr31', 'mit_press', 'sigkdd', 'neurips', 'naacl', 'atr2', 'atr16']\n",
      "Accuracy: 94.07%\n",
      "Selected Feature Names: ['atr39', 'atr33', 'atr22', 'atr32', 'atr13', 'num_ref_3years', 'aaai', 'atr3', 'atr8', 'atr23', 'atr25', 'cvpr', 'atr38', 'ijcai', 'aistats', 'eccv', 'emnlp', 'icra', 'atr37', 'atr14', 'num_ref', 'atr0', 'atr6', 'iccv', 'atr26', 'atr30', 'atr20', 'atr36', 'atr35', 'atr21', 'icassp', 'atr34', 'atr9', 'atr4', 'atr10', 'atr19', 'arxiv', 'atr5', 'atr12', 'atr24', 'atr11', 'atr27', 'ieee_tran', 'nature', 'atr1', 'iclr', 'atr29', 'acl', 'atr15', 'neuralcom', 'atr18', 'atr7', 'atr17', 'atr31', 'mit_press', 'sigkdd', 'neurips', 'naacl', 'atr2', 'atr16', 'atr28']\n",
      "Accuracy: 94.07%\n",
      "Selected Feature Names: ['atr39', 'atr33', 'atr22', 'atr32', 'atr13', 'num_ref_3years', 'aaai', 'atr3', 'atr8', 'atr23', 'atr25', 'cvpr', 'atr38', 'ijcai', 'aistats', 'eccv', 'emnlp', 'icra', 'atr37', 'atr14', 'num_ref', 'atr0', 'atr6', 'iccv', 'atr26', 'atr30', 'atr20', 'atr36', 'atr35', 'atr21', 'icassp', 'atr34', 'atr9', 'atr4', 'atr10', 'atr19', 'arxiv', 'atr5', 'atr12', 'atr24', 'atr11', 'atr27', 'ieee_tran', 'nature', 'atr1', 'iclr', 'atr29', 'acl', 'atr15', 'neuralcom', 'atr18', 'atr7', 'atr17', 'atr31', 'mit_press', 'sigkdd', 'neurips', 'naacl', 'atr2', 'atr16', 'atr28', 'jmlr']\n",
      "Accuracy: 94.07%\n",
      "Selected Feature Names: ['atr39', 'atr33', 'atr22', 'atr32', 'atr13', 'num_ref_3years', 'aaai', 'atr3', 'atr8', 'atr23', 'atr25', 'cvpr', 'atr38', 'ijcai', 'aistats', 'eccv', 'emnlp', 'icra', 'atr37', 'atr14', 'num_ref', 'atr0', 'atr6', 'iccv', 'atr26', 'atr30', 'atr20', 'atr36', 'atr35', 'atr21', 'icassp', 'atr34', 'atr9', 'atr4', 'atr10', 'atr19', 'arxiv', 'atr5', 'atr12', 'atr24', 'atr11', 'atr27', 'ieee_tran', 'nature', 'atr1', 'iclr', 'atr29', 'acl', 'atr15', 'neuralcom', 'atr18', 'atr7', 'atr17', 'atr31', 'mit_press', 'sigkdd', 'neurips', 'naacl', 'atr2', 'atr16', 'atr28', 'jmlr', 'acm_tran']\n",
      "Accuracy: 94.07%\n",
      "Selected Feature Names: ['atr39', 'atr33', 'atr22', 'atr32', 'atr13', 'num_ref_3years', 'aaai', 'atr3', 'atr8', 'atr23', 'atr25', 'cvpr', 'atr38', 'ijcai', 'aistats', 'eccv', 'emnlp', 'icra', 'atr37', 'atr14', 'num_ref', 'atr0', 'atr6', 'iccv', 'atr26', 'atr30', 'atr20', 'atr36', 'atr35', 'atr21', 'icassp', 'atr34', 'atr9', 'atr4', 'atr10', 'atr19', 'arxiv', 'atr5', 'atr12', 'atr24', 'atr11', 'atr27', 'ieee_tran', 'nature', 'atr1', 'iclr', 'atr29', 'acl', 'atr15', 'neuralcom', 'atr18', 'atr7', 'atr17', 'atr31', 'mit_press', 'sigkdd', 'neurips', 'naacl', 'atr2', 'atr16', 'atr28', 'jmlr', 'acm_tran', 'icml']\n",
      "Accuracy: 94.07%\n"
     ]
    }
   ],
   "source": [
    "for i in dict(enumerate(combination)):\n",
    "    accuracy = model(combination, y, i+1)\n",
    "    print(\"Accuracy: %.2f%%\" % (accuracy * 100.0))"
   ]
  },
  {
   "cell_type": "code",
   "execution_count": 22,
   "metadata": {},
   "outputs": [],
   "source": [
    "test.to_csv('replicability.xlsx', index=False)"
   ]
  }
 ],
 "metadata": {
  "kernelspec": {
   "display_name": "Python 3",
   "language": "python",
   "name": "python3"
  },
  "language_info": {
   "codemirror_mode": {
    "name": "ipython",
    "version": 3
   },
   "file_extension": ".py",
   "mimetype": "text/x-python",
   "name": "python",
   "nbconvert_exporter": "python",
   "pygments_lexer": "ipython3",
   "version": "3.10.9"
  }
 },
 "nbformat": 4,
 "nbformat_minor": 2
}
