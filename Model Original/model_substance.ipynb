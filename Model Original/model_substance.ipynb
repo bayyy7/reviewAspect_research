{
 "cells": [
  {
   "cell_type": "code",
   "execution_count": 1,
   "metadata": {},
   "outputs": [
    {
     "data": {
      "text/html": [
       "<div>\n",
       "<style scoped>\n",
       "    .dataframe tbody tr th:only-of-type {\n",
       "        vertical-align: middle;\n",
       "    }\n",
       "\n",
       "    .dataframe tbody tr th {\n",
       "        vertical-align: top;\n",
       "    }\n",
       "\n",
       "    .dataframe thead th {\n",
       "        text-align: right;\n",
       "    }\n",
       "</style>\n",
       "<table border=\"1\" class=\"dataframe\">\n",
       "  <thead>\n",
       "    <tr style=\"text-align: right;\">\n",
       "      <th></th>\n",
       "      <th>substance</th>\n",
       "      <th>year</th>\n",
       "      <th>title</th>\n",
       "      <th>num_ref</th>\n",
       "      <th>num_ref_3years</th>\n",
       "      <th>arxiv</th>\n",
       "      <th>neurips</th>\n",
       "      <th>iclr</th>\n",
       "      <th>icml</th>\n",
       "      <th>aaai</th>\n",
       "      <th>...</th>\n",
       "      <th>atr37</th>\n",
       "      <th>atr38</th>\n",
       "      <th>atr39</th>\n",
       "      <th>citation_count</th>\n",
       "      <th>citedIn2018</th>\n",
       "      <th>citedIn2019</th>\n",
       "      <th>citedIn2020</th>\n",
       "      <th>citedIn2021</th>\n",
       "      <th>citedIn2022</th>\n",
       "      <th>citedIn2023</th>\n",
       "    </tr>\n",
       "  </thead>\n",
       "  <tbody>\n",
       "    <tr>\n",
       "      <th>0</th>\n",
       "      <td>0</td>\n",
       "      <td>2018</td>\n",
       "      <td>A Deep Reinforced Model for Abstractive Summar...</td>\n",
       "      <td>37</td>\n",
       "      <td>18</td>\n",
       "      <td>8</td>\n",
       "      <td>4</td>\n",
       "      <td>3</td>\n",
       "      <td>0</td>\n",
       "      <td>2</td>\n",
       "      <td>...</td>\n",
       "      <td>3</td>\n",
       "      <td>17</td>\n",
       "      <td>113</td>\n",
       "      <td>1195</td>\n",
       "      <td>157.0</td>\n",
       "      <td>223.0</td>\n",
       "      <td>261.0</td>\n",
       "      <td>168.0</td>\n",
       "      <td>139.0</td>\n",
       "      <td>48.0</td>\n",
       "    </tr>\n",
       "    <tr>\n",
       "      <th>1</th>\n",
       "      <td>0</td>\n",
       "      <td>2019</td>\n",
       "      <td>Learning Latent Superstructures in Variational...</td>\n",
       "      <td>39</td>\n",
       "      <td>9</td>\n",
       "      <td>2</td>\n",
       "      <td>5</td>\n",
       "      <td>2</td>\n",
       "      <td>7</td>\n",
       "      <td>1</td>\n",
       "      <td>...</td>\n",
       "      <td>3</td>\n",
       "      <td>53</td>\n",
       "      <td>150</td>\n",
       "      <td>36</td>\n",
       "      <td>2.0</td>\n",
       "      <td>4.0</td>\n",
       "      <td>10.0</td>\n",
       "      <td>12.0</td>\n",
       "      <td>9.0</td>\n",
       "      <td>2.0</td>\n",
       "    </tr>\n",
       "    <tr>\n",
       "      <th>2</th>\n",
       "      <td>0</td>\n",
       "      <td>2020</td>\n",
       "      <td>Robust Reinforcement Learning for Continuous C...</td>\n",
       "      <td>41</td>\n",
       "      <td>15</td>\n",
       "      <td>7</td>\n",
       "      <td>0</td>\n",
       "      <td>3</td>\n",
       "      <td>3</td>\n",
       "      <td>1</td>\n",
       "      <td>...</td>\n",
       "      <td>1</td>\n",
       "      <td>80</td>\n",
       "      <td>225</td>\n",
       "      <td>72</td>\n",
       "      <td>0.0</td>\n",
       "      <td>3.0</td>\n",
       "      <td>18.0</td>\n",
       "      <td>25.0</td>\n",
       "      <td>27.0</td>\n",
       "      <td>9.0</td>\n",
       "    </tr>\n",
       "    <tr>\n",
       "      <th>3</th>\n",
       "      <td>0</td>\n",
       "      <td>2020</td>\n",
       "      <td>Language GANs Falling Short</td>\n",
       "      <td>30</td>\n",
       "      <td>14</td>\n",
       "      <td>13</td>\n",
       "      <td>1</td>\n",
       "      <td>4</td>\n",
       "      <td>0</td>\n",
       "      <td>0</td>\n",
       "      <td>...</td>\n",
       "      <td>5</td>\n",
       "      <td>26</td>\n",
       "      <td>163</td>\n",
       "      <td>153</td>\n",
       "      <td>5.0</td>\n",
       "      <td>32.0</td>\n",
       "      <td>47.0</td>\n",
       "      <td>41.0</td>\n",
       "      <td>32.0</td>\n",
       "      <td>14.0</td>\n",
       "    </tr>\n",
       "    <tr>\n",
       "      <th>4</th>\n",
       "      <td>0</td>\n",
       "      <td>2019</td>\n",
       "      <td>Quaternion Recurrent Neural Networks</td>\n",
       "      <td>50</td>\n",
       "      <td>13</td>\n",
       "      <td>6</td>\n",
       "      <td>0</td>\n",
       "      <td>1</td>\n",
       "      <td>2</td>\n",
       "      <td>0</td>\n",
       "      <td>...</td>\n",
       "      <td>1</td>\n",
       "      <td>88</td>\n",
       "      <td>161</td>\n",
       "      <td>74</td>\n",
       "      <td>5.0</td>\n",
       "      <td>13.0</td>\n",
       "      <td>20.0</td>\n",
       "      <td>23.0</td>\n",
       "      <td>17.0</td>\n",
       "      <td>9.0</td>\n",
       "    </tr>\n",
       "    <tr>\n",
       "      <th>...</th>\n",
       "      <td>...</td>\n",
       "      <td>...</td>\n",
       "      <td>...</td>\n",
       "      <td>...</td>\n",
       "      <td>...</td>\n",
       "      <td>...</td>\n",
       "      <td>...</td>\n",
       "      <td>...</td>\n",
       "      <td>...</td>\n",
       "      <td>...</td>\n",
       "      <td>...</td>\n",
       "      <td>...</td>\n",
       "      <td>...</td>\n",
       "      <td>...</td>\n",
       "      <td>...</td>\n",
       "      <td>...</td>\n",
       "      <td>...</td>\n",
       "      <td>...</td>\n",
       "      <td>...</td>\n",
       "      <td>...</td>\n",
       "      <td>...</td>\n",
       "    </tr>\n",
       "    <tr>\n",
       "      <th>2254</th>\n",
       "      <td>0</td>\n",
       "      <td>2019</td>\n",
       "      <td>Initialized Equilibrium Propagation for Backpr...</td>\n",
       "      <td>23</td>\n",
       "      <td>7</td>\n",
       "      <td>14</td>\n",
       "      <td>0</td>\n",
       "      <td>0</td>\n",
       "      <td>1</td>\n",
       "      <td>0</td>\n",
       "      <td>...</td>\n",
       "      <td>2</td>\n",
       "      <td>52</td>\n",
       "      <td>142</td>\n",
       "      <td>3</td>\n",
       "      <td>0.0</td>\n",
       "      <td>1.0</td>\n",
       "      <td>2.0</td>\n",
       "      <td>0.0</td>\n",
       "      <td>0.0</td>\n",
       "      <td>0.0</td>\n",
       "    </tr>\n",
       "    <tr>\n",
       "      <th>2255</th>\n",
       "      <td>1</td>\n",
       "      <td>2019</td>\n",
       "      <td>Selfless Sequential Learning</td>\n",
       "      <td>48</td>\n",
       "      <td>12</td>\n",
       "      <td>12</td>\n",
       "      <td>0</td>\n",
       "      <td>6</td>\n",
       "      <td>1</td>\n",
       "      <td>0</td>\n",
       "      <td>...</td>\n",
       "      <td>1</td>\n",
       "      <td>34</td>\n",
       "      <td>167</td>\n",
       "      <td>86</td>\n",
       "      <td>3.0</td>\n",
       "      <td>17.0</td>\n",
       "      <td>23.0</td>\n",
       "      <td>24.0</td>\n",
       "      <td>22.0</td>\n",
       "      <td>6.0</td>\n",
       "    </tr>\n",
       "    <tr>\n",
       "      <th>2256</th>\n",
       "      <td>0</td>\n",
       "      <td>2019</td>\n",
       "      <td>Model-Predictive Policy Learning with Uncertai...</td>\n",
       "      <td>47</td>\n",
       "      <td>13</td>\n",
       "      <td>0</td>\n",
       "      <td>0</td>\n",
       "      <td>2</td>\n",
       "      <td>5</td>\n",
       "      <td>0</td>\n",
       "      <td>...</td>\n",
       "      <td>1</td>\n",
       "      <td>85</td>\n",
       "      <td>200</td>\n",
       "      <td>88</td>\n",
       "      <td>0.0</td>\n",
       "      <td>22.0</td>\n",
       "      <td>25.0</td>\n",
       "      <td>18.0</td>\n",
       "      <td>24.0</td>\n",
       "      <td>8.0</td>\n",
       "    </tr>\n",
       "    <tr>\n",
       "      <th>2257</th>\n",
       "      <td>0</td>\n",
       "      <td>2019</td>\n",
       "      <td>CBOW Is Not All You Need: Combining CBOW with ...</td>\n",
       "      <td>32</td>\n",
       "      <td>19</td>\n",
       "      <td>4</td>\n",
       "      <td>7</td>\n",
       "      <td>3</td>\n",
       "      <td>0</td>\n",
       "      <td>0</td>\n",
       "      <td>...</td>\n",
       "      <td>2</td>\n",
       "      <td>41</td>\n",
       "      <td>152</td>\n",
       "      <td>11</td>\n",
       "      <td>0.0</td>\n",
       "      <td>2.0</td>\n",
       "      <td>2.0</td>\n",
       "      <td>6.0</td>\n",
       "      <td>1.0</td>\n",
       "      <td>0.0</td>\n",
       "    </tr>\n",
       "    <tr>\n",
       "      <th>2258</th>\n",
       "      <td>1</td>\n",
       "      <td>2017</td>\n",
       "      <td>Adversarial Training Methods for Semi-Supervis...</td>\n",
       "      <td>38</td>\n",
       "      <td>14</td>\n",
       "      <td>2</td>\n",
       "      <td>4</td>\n",
       "      <td>6</td>\n",
       "      <td>5</td>\n",
       "      <td>0</td>\n",
       "      <td>...</td>\n",
       "      <td>2</td>\n",
       "      <td>20</td>\n",
       "      <td>119</td>\n",
       "      <td>89</td>\n",
       "      <td>66.0</td>\n",
       "      <td>106.0</td>\n",
       "      <td>169.0</td>\n",
       "      <td>170.0</td>\n",
       "      <td>186.0</td>\n",
       "      <td>56.0</td>\n",
       "    </tr>\n",
       "  </tbody>\n",
       "</table>\n",
       "<p>2259 rows × 82 columns</p>\n",
       "</div>"
      ],
      "text/plain": [
       "      substance  year                                              title  \\\n",
       "0             0  2018  A Deep Reinforced Model for Abstractive Summar...   \n",
       "1             0  2019  Learning Latent Superstructures in Variational...   \n",
       "2             0  2020  Robust Reinforcement Learning for Continuous C...   \n",
       "3             0  2020                        Language GANs Falling Short   \n",
       "4             0  2019               Quaternion Recurrent Neural Networks   \n",
       "...         ...   ...                                                ...   \n",
       "2254          0  2019  Initialized Equilibrium Propagation for Backpr...   \n",
       "2255          1  2019                       Selfless Sequential Learning   \n",
       "2256          0  2019  Model-Predictive Policy Learning with Uncertai...   \n",
       "2257          0  2019  CBOW Is Not All You Need: Combining CBOW with ...   \n",
       "2258          1  2017  Adversarial Training Methods for Semi-Supervis...   \n",
       "\n",
       "      num_ref  num_ref_3years  arxiv  neurips  iclr  icml  aaai  ...  atr37  \\\n",
       "0          37              18      8        4     3     0     2  ...      3   \n",
       "1          39               9      2        5     2     7     1  ...      3   \n",
       "2          41              15      7        0     3     3     1  ...      1   \n",
       "3          30              14     13        1     4     0     0  ...      5   \n",
       "4          50              13      6        0     1     2     0  ...      1   \n",
       "...       ...             ...    ...      ...   ...   ...   ...  ...    ...   \n",
       "2254       23               7     14        0     0     1     0  ...      2   \n",
       "2255       48              12     12        0     6     1     0  ...      1   \n",
       "2256       47              13      0        0     2     5     0  ...      1   \n",
       "2257       32              19      4        7     3     0     0  ...      2   \n",
       "2258       38              14      2        4     6     5     0  ...      2   \n",
       "\n",
       "      atr38  atr39  citation_count  citedIn2018  citedIn2019  citedIn2020  \\\n",
       "0        17    113            1195        157.0        223.0        261.0   \n",
       "1        53    150              36          2.0          4.0         10.0   \n",
       "2        80    225              72          0.0          3.0         18.0   \n",
       "3        26    163             153          5.0         32.0         47.0   \n",
       "4        88    161              74          5.0         13.0         20.0   \n",
       "...     ...    ...             ...          ...          ...          ...   \n",
       "2254     52    142               3          0.0          1.0          2.0   \n",
       "2255     34    167              86          3.0         17.0         23.0   \n",
       "2256     85    200              88          0.0         22.0         25.0   \n",
       "2257     41    152              11          0.0          2.0          2.0   \n",
       "2258     20    119              89         66.0        106.0        169.0   \n",
       "\n",
       "      citedIn2021  citedIn2022  citedIn2023  \n",
       "0           168.0        139.0         48.0  \n",
       "1            12.0          9.0          2.0  \n",
       "2            25.0         27.0          9.0  \n",
       "3            41.0         32.0         14.0  \n",
       "4            23.0         17.0          9.0  \n",
       "...           ...          ...          ...  \n",
       "2254          0.0          0.0          0.0  \n",
       "2255         24.0         22.0          6.0  \n",
       "2256         18.0         24.0          8.0  \n",
       "2257          6.0          1.0          0.0  \n",
       "2258        170.0        186.0         56.0  \n",
       "\n",
       "[2259 rows x 82 columns]"
      ]
     },
     "execution_count": 1,
     "metadata": {},
     "output_type": "execute_result"
    }
   ],
   "source": [
    "import pandas as pd \n",
    "\n",
    "data = pd.read_csv('../Dataset/substance.csv')\n",
    "data"
   ]
  },
  {
   "cell_type": "code",
   "execution_count": 2,
   "metadata": {},
   "outputs": [],
   "source": [
    "label_counts = data.groupby(['title', 'substance']).size().unstack(fill_value=0)\n",
    "dominant_labels = label_counts.idxmax(axis=1)\n",
    "data = data.merge(dominant_labels.rename('dominant_label'), left_on='title', right_index=True)\n",
    "df_filtered = data[data['substance'] == data['dominant_label']]\n",
    "\n",
    "label_counts_0 = data[data['substance'] == 0].groupby('title').size().rename('count_0')\n",
    "label_counts_1 = data[data['substance'] == 1].groupby('title').size().rename('count_1')\n",
    "\n",
    "df_filtered = df_filtered.merge(label_counts_0, left_on='title', right_index=True, how='left')\n",
    "df_filtered = df_filtered.merge(label_counts_1, left_on='title', right_index=True, how='left')\n",
    "\n",
    "df_filtered = df_filtered[df_filtered['count_0'] != df_filtered['count_1']]\n",
    "df_filtered = df_filtered.drop(['dominant_label', 'count_0', 'count_1'], axis=1)"
   ]
  },
  {
   "cell_type": "code",
   "execution_count": 3,
   "metadata": {},
   "outputs": [
    {
     "name": "stdout",
     "output_type": "stream",
     "text": [
      "<class 'pandas.core.frame.DataFrame'>\n",
      "Int64Index: 1155 entries, 0 to 2257\n",
      "Data columns (total 82 columns):\n",
      " #   Column          Non-Null Count  Dtype  \n",
      "---  ------          --------------  -----  \n",
      " 0   substance       1155 non-null   int64  \n",
      " 1   year            1155 non-null   int64  \n",
      " 2   title           1155 non-null   object \n",
      " 3   num_ref         1155 non-null   int64  \n",
      " 4   num_ref_3years  1155 non-null   int64  \n",
      " 5   arxiv           1155 non-null   int64  \n",
      " 6   neurips         1155 non-null   int64  \n",
      " 7   iclr            1155 non-null   int64  \n",
      " 8   icml            1155 non-null   int64  \n",
      " 9   aaai            1155 non-null   int64  \n",
      " 10  iccv            1155 non-null   int64  \n",
      " 11  cvpr            1155 non-null   int64  \n",
      " 12  emnlp           1155 non-null   int64  \n",
      " 13  acl             1155 non-null   int64  \n",
      " 14  naacl           1155 non-null   int64  \n",
      " 15  eccv            1155 non-null   int64  \n",
      " 16  icra            1155 non-null   int64  \n",
      " 17  icassp          1155 non-null   int64  \n",
      " 18  ijcai           1155 non-null   int64  \n",
      " 19  aistats         1155 non-null   int64  \n",
      " 20  sigkdd          1155 non-null   int64  \n",
      " 21  neuralcom       1155 non-null   int64  \n",
      " 22  ieee_tran       1155 non-null   int64  \n",
      " 23  acm_tran        1155 non-null   int64  \n",
      " 24  mit_press       1155 non-null   int64  \n",
      " 25  nature          1155 non-null   int64  \n",
      " 26  jmlr            1155 non-null   int64  \n",
      " 27  decision_ori    1155 non-null   object \n",
      " 28  decision_final  1155 non-null   object \n",
      " 29  rating1         1155 non-null   int64  \n",
      " 30  rating2         1155 non-null   int64  \n",
      " 31  rating3         1140 non-null   float64\n",
      " 32  mean            1155 non-null   float64\n",
      " 33  class_label     1155 non-null   object \n",
      " 34  filetype2       1155 non-null   object \n",
      " 35  atr0            1155 non-null   int64  \n",
      " 36  atr1            1155 non-null   int64  \n",
      " 37  atr2            1155 non-null   int64  \n",
      " 38  atr3            1155 non-null   int64  \n",
      " 39  atr4            1155 non-null   int64  \n",
      " 40  atr5            1155 non-null   int64  \n",
      " 41  atr6            1155 non-null   int64  \n",
      " 42  atr7            1155 non-null   int64  \n",
      " 43  atr8            1155 non-null   int64  \n",
      " 44  atr9            1155 non-null   int64  \n",
      " 45  atr10           1155 non-null   int64  \n",
      " 46  atr11           1155 non-null   int64  \n",
      " 47  atr12           1155 non-null   int64  \n",
      " 48  atr13           1155 non-null   int64  \n",
      " 49  atr14           1155 non-null   int64  \n",
      " 50  atr15           1155 non-null   int64  \n",
      " 51  atr16           1155 non-null   int64  \n",
      " 52  atr17           1155 non-null   int64  \n",
      " 53  atr18           1155 non-null   int64  \n",
      " 54  atr19           1155 non-null   int64  \n",
      " 55  atr20           1155 non-null   int64  \n",
      " 56  atr21           1155 non-null   int64  \n",
      " 57  atr22           1155 non-null   int64  \n",
      " 58  atr23           1155 non-null   int64  \n",
      " 59  atr24           1155 non-null   int64  \n",
      " 60  atr25           1155 non-null   int64  \n",
      " 61  atr26           1155 non-null   int64  \n",
      " 62  atr27           1155 non-null   int64  \n",
      " 63  atr28           1155 non-null   int64  \n",
      " 64  atr29           1155 non-null   int64  \n",
      " 65  atr30           1155 non-null   int64  \n",
      " 66  atr31           1155 non-null   int64  \n",
      " 67  atr32           1155 non-null   int64  \n",
      " 68  atr33           1155 non-null   int64  \n",
      " 69  atr34           1155 non-null   int64  \n",
      " 70  atr35           1155 non-null   int64  \n",
      " 71  atr36           1155 non-null   int64  \n",
      " 72  atr37           1155 non-null   int64  \n",
      " 73  atr38           1155 non-null   int64  \n",
      " 74  atr39           1155 non-null   int64  \n",
      " 75  citation_count  1155 non-null   int64  \n",
      " 76  citedIn2018     1153 non-null   float64\n",
      " 77  citedIn2019     1153 non-null   float64\n",
      " 78  citedIn2020     1153 non-null   float64\n",
      " 79  citedIn2021     1153 non-null   float64\n",
      " 80  citedIn2022     1153 non-null   float64\n",
      " 81  citedIn2023     1153 non-null   float64\n",
      "dtypes: float64(8), int64(69), object(5)\n",
      "memory usage: 748.9+ KB\n"
     ]
    }
   ],
   "source": [
    "data = df_filtered.drop_duplicates()\n",
    "data.info()"
   ]
  },
  {
   "cell_type": "code",
   "execution_count": 4,
   "metadata": {},
   "outputs": [],
   "source": [
    "data.to_csv('new-substance.csv', index=False)"
   ]
  },
  {
   "cell_type": "code",
   "execution_count": 5,
   "metadata": {},
   "outputs": [
    {
     "data": {
      "image/png": "[encoded data removed]",
      "text/plain": [
       "<Figure size 640x480 with 1 Axes>"
      ]
     },
     "metadata": {},
     "output_type": "display_data"
    }
   ],
   "source": [
    "import seaborn as sns\n",
    "import matplotlib.pyplot as plt\n",
    "\n",
    "sns.countplot(x=data['substance'])\n",
    "plt.ylabel('Distribution')\n",
    "plt.show()"
   ]
  },
  {
   "cell_type": "code",
   "execution_count": 6,
   "metadata": {},
   "outputs": [],
   "source": [
    "import plotly.graph_objects as go\n",
    "import numpy as np\n",
    "\n",
    "def correlation_matrix(dataframe):\n",
    "    df_corr = dataframe.corr()\n",
    "    fig = go.Figure()\n",
    "    fig.add_trace(\n",
    "        go.Heatmap(\n",
    "            x = df_corr.columns,\n",
    "            y = df_corr.index,\n",
    "            z = np.array(df_corr),\n",
    "            text=df_corr.values,\n",
    "            texttemplate='%{text:.2f}'\n",
    "        )\n",
    "    )\n",
    "    fig.show()"
   ]
  },
  {
   "cell_type": "markdown",
   "metadata": {},
   "source": [
    "## Citing Sentence Predictor"
   ]
  },
  {
   "cell_type": "code",
   "execution_count": 7,
   "metadata": {},
   "outputs": [],
   "source": [
    "citing_sentence = data[['atr0', 'atr1', 'atr2', 'atr3', 'atr4', 'atr5', 'atr6', 'atr7', 'atr8', 'atr9', 'atr10', 'atr11', 'atr12', 'atr13', 'atr14', 'atr15', 'atr16', 'atr17', 'atr18', 'atr19']]\n",
    "y = data['substance']"
   ]
  },
  {
   "cell_type": "code",
   "execution_count": 8,
   "metadata": {},
   "outputs": [
    {
     "data": {
      "application/vnd.plotly.v1+json": {
       "config": {
        "plotlyServerURL": "https://plot.ly"
       },
       "data": [
        {
         "text": [
          [
           1,
           -0.014747759535857496,
           0.13982328613564485,
           0.1562064647177549,
           0.09073359789146383,
           0.08305389884475442,
           0.08673909832341338,
           0.11247534882975624,
           -0.009074083129808572,
           0.003258666596128656,
           0.012469489337007717,
           0.05240419555424662,
           0.016141857141274245,
           0.032894648721332534,
           -0.022853941527259215,
           -0.001531677346477884,
           0.06952507189977705,
           0.048168806831849015,
           0.10022766906086343,
           0.2980262352977192,
           0.021183842838151903
          ],
          [
           -0.014747759535857496,
           1,
           0.04606994857876183,
           0.04095391386561495,
           0.03877879518147253,
           0.13446146599044853,
           0.05139682342116702,
           0.004690680207791623,
           0.0010611889008027993,
           0.031676287113332834,
           0.06530749184817619,
           -0.01076416953117792,
           0.0014570657861166245,
           0.033748623169490025,
           0.07367480512937495,
           0.0047275820828526225,
           0.06638863290170066,
           0.04455648112802699,
           0.08854815338832289,
           0.15860872686186744,
           0.04226418727548701
          ],
          [
           0.13982328613564485,
           0.04606994857876183,
           1,
           0.23752929882095328,
           0.10002134743433494,
           0.2116957456555746,
           0.10997986746085324,
           0.03898320690506146,
           0.004088148439702342,
           0.08983888741444408,
           0.006449204577207464,
           -0.04164491450390088,
           0.07310424195804133,
           0.03239895992781025,
           0.16238842424018646,
           0.01614429722479099,
           0.025225936489285488,
           0.05449092487905103,
           0.1996723029023161,
           0.47321087152249347,
           0.05530691574562503
          ],
          [
           0.1562064647177549,
           0.04095391386561495,
           0.23752929882095328,
           1,
           0.06619937549559633,
           0.09735640173254613,
           0.11464063826064125,
           0.12949399822409147,
           0.07603908379712997,
           0.049106739372714675,
           -0.0004592186514193878,
           0.08236122357137439,
           0.01172969119506752,
           0.00789678459508288,
           -0.0578727956983684,
           0.07695093171704227,
           0.10235324695958627,
           0.039881574093080505,
           0.17196826362777454,
           0.4109118390631372,
           0.019317963701183074
          ],
          [
           0.09073359789146383,
           0.03877879518147253,
           0.10002134743433494,
           0.06619937549559633,
           1,
           0.08359274580936317,
           0.09177824177723178,
           0.06697199849815752,
           0.049944066010477385,
           0.05813228497945866,
           0.023085617030097642,
           0.04478081375020047,
           0.02224749044043254,
           0.045746118748822756,
           0.004848598623000504,
           0.014469676418509434,
           0.02194591737795111,
           -0.01687688730600368,
           0.06809725529998947,
           0.2742367871534884,
           0.02269249128986086
          ],
          [
           0.08305389884475442,
           0.13446146599044853,
           0.2116957456555746,
           0.09735640173254613,
           0.08359274580936317,
           1,
           0.1697300191526407,
           0.14442832575946926,
           0.11926577083490483,
           0.07093324725109777,
           0.07100909615321971,
           0.03042497737672312,
           0.057684561438718564,
           0.04769330441447743,
           0.1553797436086757,
           -0.0057430454700613115,
           0.07680573866225053,
           0.13309066676551057,
           0.14962551847699482,
           0.4382045749103979,
           0.052209379878538936
          ],
          [
           0.08673909832341338,
           0.05139682342116702,
           0.10997986746085324,
           0.11464063826064125,
           0.09177824177723178,
           0.1697300191526407,
           1,
           0.2679715340964665,
           0.09633857457953371,
           0.1324865063464503,
           0.04472012558735358,
           0.19347387878455968,
           0.10010542605548385,
           0.025736847741759054,
           0.05771481148348344,
           0.06594716730914774,
           0.12798144714789336,
           0.07462895992434601,
           0.1203333129592645,
           0.4758245502563868,
           0.12272456733189205
          ],
          [
           0.11247534882975624,
           0.004690680207791623,
           0.03898320690506146,
           0.12949399822409147,
           0.06697199849815752,
           0.14442832575946926,
           0.2679715340964665,
           1,
           0.11010157506195456,
           0.22263550497602386,
           0.05819484435926643,
           0.2099150559772259,
           0.0635643585783548,
           0.07607540815844345,
           -0.0705082252944112,
           0.08093583825084161,
           0.1537168301984698,
           0.1161950801331457,
           0.07171771734668486,
           0.5251813713257146,
           0.11067044598881495
          ],
          [
           -0.009074083129808572,
           0.0010611889008027993,
           0.004088148439702342,
           0.07603908379712997,
           0.049944066010477385,
           0.11926577083490483,
           0.09633857457953371,
           0.11010157506195456,
           1,
           0.09284701117736027,
           0.07777556351857214,
           0.055797812775644516,
           0.04214741210903402,
           -0.0006511298303340105,
           0.06829044060321385,
           0.0656335673571191,
           0.10714244493571483,
           0.10224787862872763,
           0.10972475430419897,
           0.2564443015267955,
           0.028091135721171796
          ],
          [
           0.003258666596128656,
           0.031676287113332834,
           0.08983888741444408,
           0.049106739372714675,
           0.05813228497945866,
           0.07093324725109777,
           0.1324865063464503,
           0.22263550497602386,
           0.09284701117736027,
           1,
           0.021927451192549116,
           0.061827272211803425,
           0.13088631011272944,
           0.1165891881826545,
           0.024500314333668838,
           0.10421349683594072,
           0.11866635508668366,
           0.13817076256902616,
           0.08235524929355888,
           0.33312995030098624,
           0.052512765832314255
          ],
          [
           0.012469489337007717,
           0.06530749184817619,
           0.006449204577207464,
           -0.0004592186514193878,
           0.023085617030097642,
           0.07100909615321971,
           0.04472012558735358,
           0.05819484435926643,
           0.07777556351857214,
           0.021927451192549116,
           1,
           0.004279677143001446,
           0.003390644045718533,
           0.04154065077497455,
           0.016464006610440122,
           -0.017249643571808363,
           0.10288215445456278,
           0.01437783205083583,
           0.01657184204953467,
           0.10813832621781655,
           0.04601524994399039
          ],
          [
           0.05240419555424662,
           -0.01076416953117792,
           -0.04164491450390088,
           0.08236122357137439,
           0.04478081375020047,
           0.03042497737672312,
           0.19347387878455968,
           0.2099150559772259,
           0.055797812775644516,
           0.061827272211803425,
           0.004279677143001446,
           1,
           0.12626783965510896,
           0.04442641795682136,
           0.0746761146440641,
           0.09019750147005985,
           0.05034953859028478,
           0.1196057507451941,
           0.08092975519926125,
           0.44795735940866854,
           0.04417495137124345
          ],
          [
           0.016141857141274245,
           0.0014570657861166245,
           0.07310424195804133,
           0.01172969119506752,
           0.02224749044043254,
           0.057684561438718564,
           0.10010542605548385,
           0.0635643585783548,
           0.04214741210903402,
           0.13088631011272944,
           0.003390644045718533,
           0.12626783965510896,
           1,
           0.08216651639190878,
           0.1530410600024904,
           0.13497059579191625,
           -0.0016609418895094635,
           0.058787709361436194,
           0.07184699018553664,
           0.2675436941619943,
           0.05107134869108331
          ],
          [
           0.032894648721332534,
           0.033748623169490025,
           0.03239895992781025,
           0.00789678459508288,
           0.045746118748822756,
           0.04769330441447743,
           0.025736847741759054,
           0.07607540815844345,
           -0.0006511298303340105,
           0.1165891881826545,
           0.04154065077497455,
           0.04442641795682136,
           0.08216651639190878,
           1,
           0.10706223024782827,
           0.030754620414893567,
           0.05082322153424721,
           0.10020180111329904,
           0.10856831298523939,
           0.1935455025019767,
           0.025437231060677096
          ],
          [
           -0.022853941527259215,
           0.07367480512937495,
           0.16238842424018646,
           -0.0578727956983684,
           0.004848598623000504,
           0.1553797436086757,
           0.05771481148348344,
           -0.0705082252944112,
           0.06829044060321385,
           0.024500314333668838,
           0.016464006610440122,
           0.0746761146440641,
           0.1530410600024904,
           0.10706223024782827,
           1,
           0.04549072141138836,
           -0.012569094246023468,
           0.027744601503289452,
           0.14513478478771957,
           0.2835063433698645,
           0.021229740160847804
          ],
          [
           -0.001531677346477884,
           0.0047275820828526225,
           0.01614429722479099,
           0.07695093171704227,
           0.014469676418509434,
           -0.0057430454700613115,
           0.06594716730914774,
           0.08093583825084161,
           0.0656335673571191,
           0.10421349683594072,
           -0.017249643571808363,
           0.09019750147005985,
           0.13497059579191625,
           0.030754620414893567,
           0.04549072141138836,
           1,
           0.028765498023485797,
           0.07573009617668225,
           0.04732612486135821,
           0.16011130524651118,
           0.03356085809208165
          ],
          [
           0.06952507189977705,
           0.06638863290170066,
           0.025225936489285488,
           0.10235324695958627,
           0.02194591737795111,
           0.07680573866225053,
           0.12798144714789336,
           0.1537168301984698,
           0.10714244493571483,
           0.11866635508668366,
           0.10288215445456278,
           0.05034953859028478,
           -0.0016609418895094635,
           0.05082322153424721,
           -0.012569094246023468,
           0.028765498023485797,
           1,
           0.14706589869196657,
           0.02580826821658735,
           0.2912832361270817,
           0.03940518902306991
          ],
          [
           0.048168806831849015,
           0.04455648112802699,
           0.05449092487905103,
           0.039881574093080505,
           -0.01687688730600368,
           0.13309066676551057,
           0.07462895992434601,
           0.1161950801331457,
           0.10224787862872763,
           0.13817076256902616,
           0.01437783205083583,
           0.1196057507451941,
           0.058787709361436194,
           0.10020180111329904,
           0.027744601503289452,
           0.07573009617668225,
           0.14706589869196657,
           1,
           0.0837736974444892,
           0.27904487240986614,
           0.03535737300532957
          ],
          [
           0.10022766906086343,
           0.08854815338832289,
           0.1996723029023161,
           0.17196826362777454,
           0.06809725529998947,
           0.14962551847699482,
           0.1203333129592645,
           0.07171771734668486,
           0.10972475430419897,
           0.08235524929355888,
           0.01657184204953467,
           0.08092975519926125,
           0.07184699018553664,
           0.10856831298523939,
           0.14513478478771957,
           0.04732612486135821,
           0.02580826821658735,
           0.0837736974444892,
           1,
           0.5078551453527289,
           0.056881669418570986
          ],
          [
           0.2980262352977192,
           0.15860872686186744,
           0.47321087152249347,
           0.4109118390631372,
           0.2742367871534884,
           0.4382045749103979,
           0.4758245502563868,
           0.5251813713257146,
           0.2564443015267955,
           0.33312995030098624,
           0.10813832621781655,
           0.44795735940866854,
           0.2675436941619943,
           0.1935455025019767,
           0.2835063433698645,
           0.16011130524651118,
           0.2912832361270817,
           0.27904487240986614,
           0.5078551453527289,
           1,
           0.1356357424832907
          ],
          [
           0.021183842838151903,
           0.04226418727548701,
           0.05530691574562503,
           0.019317963701183074,
           0.02269249128986086,
           0.052209379878538936,
           0.12272456733189205,
           0.11067044598881495,
           0.028091135721171796,
           0.052512765832314255,
           0.04601524994399039,
           0.04417495137124345,
           0.05107134869108331,
           0.025437231060677096,
           0.021229740160847804,
           0.03356085809208165,
           0.03940518902306991,
           0.03535737300532957,
           0.056881669418570986,
           0.1356357424832907,
           1
          ]
         ],
         "texttemplate": "%{text:.2f}",
         "type": "heatmap",
         "x": [
          "atr0",
          "atr1",
          "atr2",
          "atr3",
          "atr4",
          "atr5",
          "atr6",
          "atr7",
          "atr8",
          "atr9",
          "atr10",
          "atr11",
          "atr12",
          "atr13",
          "atr14",
          "atr15",
          "atr16",
          "atr17",
          "atr18",
          "atr19",
          "substance"
         ],
         "y": [
          "atr0",
          "atr1",
          "atr2",
          "atr3",
          "atr4",
          "atr5",
          "atr6",
          "atr7",
          "atr8",
          "atr9",
          "atr10",
          "atr11",
          "atr12",
          "atr13",
          "atr14",
          "atr15",
          "atr16",
          "atr17",
          "atr18",
          "atr19",
          "substance"
         ],
         "z": [
          [
           1,
           -0.014747759535857496,
           0.13982328613564485,
           0.1562064647177549,
           0.09073359789146383,
           0.08305389884475442,
           0.08673909832341338,
           0.11247534882975624,
           -0.009074083129808572,
           0.003258666596128656,
           0.012469489337007717,
           0.05240419555424662,
           0.016141857141274245,
           0.032894648721332534,
           -0.022853941527259215,
           -0.001531677346477884,
           0.06952507189977705,
           0.048168806831849015,
           0.10022766906086343,
           0.2980262352977192,
           0.021183842838151903
          ],
          [
           -0.014747759535857496,
           1,
           0.04606994857876183,
           0.04095391386561495,
           0.03877879518147253,
           0.13446146599044853,
           0.05139682342116702,
           0.004690680207791623,
           0.0010611889008027993,
           0.031676287113332834,
           0.06530749184817619,
           -0.01076416953117792,
           0.0014570657861166245,
           0.033748623169490025,
           0.07367480512937495,
           0.0047275820828526225,
           0.06638863290170066,
           0.04455648112802699,
           0.08854815338832289,
           0.15860872686186744,
           0.04226418727548701
          ],
          [
           0.13982328613564485,
           0.04606994857876183,
           1,
           0.23752929882095328,
           0.10002134743433494,
           0.2116957456555746,
           0.10997986746085324,
           0.03898320690506146,
           0.004088148439702342,
           0.08983888741444408,
           0.006449204577207464,
           -0.04164491450390088,
           0.07310424195804133,
           0.03239895992781025,
           0.16238842424018646,
           0.01614429722479099,
           0.025225936489285488,
           0.05449092487905103,
           0.1996723029023161,
           0.47321087152249347,
           0.05530691574562503
          ],
          [
           0.1562064647177549,
           0.04095391386561495,
           0.23752929882095328,
           1,
           0.06619937549559633,
           0.09735640173254613,
           0.11464063826064125,
           0.12949399822409147,
           0.07603908379712997,
           0.049106739372714675,
           -0.0004592186514193878,
           0.08236122357137439,
           0.01172969119506752,
           0.00789678459508288,
           -0.0578727956983684,
           0.07695093171704227,
           0.10235324695958627,
           0.039881574093080505,
           0.17196826362777454,
           0.4109118390631372,
           0.019317963701183074
          ],
          [
           0.09073359789146383,
           0.03877879518147253,
           0.10002134743433494,
           0.06619937549559633,
           1,
           0.08359274580936317,
           0.09177824177723178,
           0.06697199849815752,
           0.049944066010477385,
           0.05813228497945866,
           0.023085617030097642,
           0.04478081375020047,
           0.02224749044043254,
           0.045746118748822756,
           0.004848598623000504,
           0.014469676418509434,
           0.02194591737795111,
           -0.01687688730600368,
           0.06809725529998947,
           0.2742367871534884,
           0.02269249128986086
          ],
          [
           0.08305389884475442,
           0.13446146599044853,
           0.2116957456555746,
           0.09735640173254613,
           0.08359274580936317,
           1,
           0.1697300191526407,
           0.14442832575946926,
           0.11926577083490483,
           0.07093324725109777,
           0.07100909615321971,
           0.03042497737672312,
           0.057684561438718564,
           0.04769330441447743,
           0.1553797436086757,
           -0.0057430454700613115,
           0.07680573866225053,
           0.13309066676551057,
           0.14962551847699482,
           0.4382045749103979,
           0.052209379878538936
          ],
          [
           0.08673909832341338,
           0.05139682342116702,
           0.10997986746085324,
           0.11464063826064125,
           0.09177824177723178,
           0.1697300191526407,
           1,
           0.2679715340964665,
           0.09633857457953371,
           0.1324865063464503,
           0.04472012558735358,
           0.19347387878455968,
           0.10010542605548385,
           0.025736847741759054,
           0.05771481148348344,
           0.06594716730914774,
           0.12798144714789336,
           0.07462895992434601,
           0.1203333129592645,
           0.4758245502563868,
           0.12272456733189205
          ],
          [
           0.11247534882975624,
           0.004690680207791623,
           0.03898320690506146,
           0.12949399822409147,
           0.06697199849815752,
           0.14442832575946926,
           0.2679715340964665,
           1,
           0.11010157506195456,
           0.22263550497602386,
           0.05819484435926643,
           0.2099150559772259,
           0.0635643585783548,
           0.07607540815844345,
           -0.0705082252944112,
           0.08093583825084161,
           0.1537168301984698,
           0.1161950801331457,
           0.07171771734668486,
           0.5251813713257146,
           0.11067044598881495
          ],
          [
           -0.009074083129808572,
           0.0010611889008027993,
           0.004088148439702342,
           0.07603908379712997,
           0.049944066010477385,
           0.11926577083490483,
           0.09633857457953371,
           0.11010157506195456,
           1,
           0.09284701117736027,
           0.07777556351857214,
           0.055797812775644516,
           0.04214741210903402,
           -0.0006511298303340105,
           0.06829044060321385,
           0.0656335673571191,
           0.10714244493571483,
           0.10224787862872763,
           0.10972475430419897,
           0.2564443015267955,
           0.028091135721171796
          ],
          [
           0.003258666596128656,
           0.031676287113332834,
           0.08983888741444408,
           0.049106739372714675,
           0.05813228497945866,
           0.07093324725109777,
           0.1324865063464503,
           0.22263550497602386,
           0.09284701117736027,
           1,
           0.021927451192549116,
           0.061827272211803425,
           0.13088631011272944,
           0.1165891881826545,
           0.024500314333668838,
           0.10421349683594072,
           0.11866635508668366,
           0.13817076256902616,
           0.08235524929355888,
           0.33312995030098624,
           0.052512765832314255
          ],
          [
           0.012469489337007717,
           0.06530749184817619,
           0.006449204577207464,
           -0.0004592186514193878,
           0.023085617030097642,
           0.07100909615321971,
           0.04472012558735358,
           0.05819484435926643,
           0.07777556351857214,
           0.021927451192549116,
           1,
           0.004279677143001446,
           0.003390644045718533,
           0.04154065077497455,
           0.016464006610440122,
           -0.017249643571808363,
           0.10288215445456278,
           0.01437783205083583,
           0.01657184204953467,
           0.10813832621781655,
           0.04601524994399039
          ],
          [
           0.05240419555424662,
           -0.01076416953117792,
           -0.04164491450390088,
           0.08236122357137439,
           0.04478081375020047,
           0.03042497737672312,
           0.19347387878455968,
           0.2099150559772259,
           0.055797812775644516,
           0.061827272211803425,
           0.004279677143001446,
           1,
           0.12626783965510896,
           0.04442641795682136,
           0.0746761146440641,
           0.09019750147005985,
           0.05034953859028478,
           0.1196057507451941,
           0.08092975519926125,
           0.44795735940866854,
           0.04417495137124345
          ],
          [
           0.016141857141274245,
           0.0014570657861166245,
           0.07310424195804133,
           0.01172969119506752,
           0.02224749044043254,
           0.057684561438718564,
           0.10010542605548385,
           0.0635643585783548,
           0.04214741210903402,
           0.13088631011272944,
           0.003390644045718533,
           0.12626783965510896,
           1,
           0.08216651639190878,
           0.1530410600024904,
           0.13497059579191625,
           -0.0016609418895094635,
           0.058787709361436194,
           0.07184699018553664,
           0.2675436941619943,
           0.05107134869108331
          ],
          [
           0.032894648721332534,
           0.033748623169490025,
           0.03239895992781025,
           0.00789678459508288,
           0.045746118748822756,
           0.04769330441447743,
           0.025736847741759054,
           0.07607540815844345,
           -0.0006511298303340105,
           0.1165891881826545,
           0.04154065077497455,
           0.04442641795682136,
           0.08216651639190878,
           1,
           0.10706223024782827,
           0.030754620414893567,
           0.05082322153424721,
           0.10020180111329904,
           0.10856831298523939,
           0.1935455025019767,
           0.025437231060677096
          ],
          [
           -0.022853941527259215,
           0.07367480512937495,
           0.16238842424018646,
           -0.0578727956983684,
           0.004848598623000504,
           0.1553797436086757,
           0.05771481148348344,
           -0.0705082252944112,
           0.06829044060321385,
           0.024500314333668838,
           0.016464006610440122,
           0.0746761146440641,
           0.1530410600024904,
           0.10706223024782827,
           1,
           0.04549072141138836,
           -0.012569094246023468,
           0.027744601503289452,
           0.14513478478771957,
           0.2835063433698645,
           0.021229740160847804
          ],
          [
           -0.001531677346477884,
           0.0047275820828526225,
           0.01614429722479099,
           0.07695093171704227,
           0.014469676418509434,
           -0.0057430454700613115,
           0.06594716730914774,
           0.08093583825084161,
           0.0656335673571191,
           0.10421349683594072,
           -0.017249643571808363,
           0.09019750147005985,
           0.13497059579191625,
           0.030754620414893567,
           0.04549072141138836,
           1,
           0.028765498023485797,
           0.07573009617668225,
           0.04732612486135821,
           0.16011130524651118,
           0.03356085809208165
          ],
          [
           0.06952507189977705,
           0.06638863290170066,
           0.025225936489285488,
           0.10235324695958627,
           0.02194591737795111,
           0.07680573866225053,
           0.12798144714789336,
           0.1537168301984698,
           0.10714244493571483,
           0.11866635508668366,
           0.10288215445456278,
           0.05034953859028478,
           -0.0016609418895094635,
           0.05082322153424721,
           -0.012569094246023468,
           0.028765498023485797,
           1,
           0.14706589869196657,
           0.02580826821658735,
           0.2912832361270817,
           0.03940518902306991
          ],
          [
           0.048168806831849015,
           0.04455648112802699,
           0.05449092487905103,
           0.039881574093080505,
           -0.01687688730600368,
           0.13309066676551057,
           0.07462895992434601,
           0.1161950801331457,
           0.10224787862872763,
           0.13817076256902616,
           0.01437783205083583,
           0.1196057507451941,
           0.058787709361436194,
           0.10020180111329904,
           0.027744601503289452,
           0.07573009617668225,
           0.14706589869196657,
           1,
           0.0837736974444892,
           0.27904487240986614,
           0.03535737300532957
          ],
          [
           0.10022766906086343,
           0.08854815338832289,
           0.1996723029023161,
           0.17196826362777454,
           0.06809725529998947,
           0.14962551847699482,
           0.1203333129592645,
           0.07171771734668486,
           0.10972475430419897,
           0.08235524929355888,
           0.01657184204953467,
           0.08092975519926125,
           0.07184699018553664,
           0.10856831298523939,
           0.14513478478771957,
           0.04732612486135821,
           0.02580826821658735,
           0.0837736974444892,
           1,
           0.5078551453527289,
           0.056881669418570986
          ],
          [
           0.2980262352977192,
           0.15860872686186744,
           0.47321087152249347,
           0.4109118390631372,
           0.2742367871534884,
           0.4382045749103979,
           0.4758245502563868,
           0.5251813713257146,
           0.2564443015267955,
           0.33312995030098624,
           0.10813832621781655,
           0.44795735940866854,
           0.2675436941619943,
           0.1935455025019767,
           0.2835063433698645,
           0.16011130524651118,
           0.2912832361270817,
           0.27904487240986614,
           0.5078551453527289,
           1,
           0.1356357424832907
          ],
          [
           0.021183842838151903,
           0.04226418727548701,
           0.05530691574562503,
           0.019317963701183074,
           0.02269249128986086,
           0.052209379878538936,
           0.12272456733189205,
           0.11067044598881495,
           0.028091135721171796,
           0.052512765832314255,
           0.04601524994399039,
           0.04417495137124345,
           0.05107134869108331,
           0.025437231060677096,
           0.021229740160847804,
           0.03356085809208165,
           0.03940518902306991,
           0.03535737300532957,
           0.056881669418570986,
           0.1356357424832907,
           1
          ]
         ]
        }
       ],
       "layout": {
        "template": {
         "data": {
          "bar": [
           {
            "error_x": {
             "color": "#2a3f5f"
            },
            "error_y": {
             "color": "#2a3f5f"
            },
            "marker": {
             "line": {
              "color": "#E5ECF6",
              "width": 0.5
             },
             "pattern": {
              "fillmode": "overlay",
              "size": 10,
              "solidity": 0.2
             }
            },
            "type": "bar"
           }
          ],
          "barpolar": [
           {
            "marker": {
             "line": {
              "color": "#E5ECF6",
              "width": 0.5
             },
             "pattern": {
              "fillmode": "overlay",
              "size": 10,
              "solidity": 0.2
             }
            },
            "type": "barpolar"
           }
          ],
          "carpet": [
           {
            "aaxis": {
             "endlinecolor": "#2a3f5f",
             "gridcolor": "white",
             "linecolor": "white",
             "minorgridcolor": "white",
             "startlinecolor": "#2a3f5f"
            },
            "baxis": {
             "endlinecolor": "#2a3f5f",
             "gridcolor": "white",
             "linecolor": "white",
             "minorgridcolor": "white",
             "startlinecolor": "#2a3f5f"
            },
            "type": "carpet"
           }
          ],
          "choropleth": [
           {
            "colorbar": {
             "outlinewidth": 0,
             "ticks": ""
            },
            "type": "choropleth"
           }
          ],
          "contour": [
           {
            "colorbar": {
             "outlinewidth": 0,
             "ticks": ""
            },
            "colorscale": [
             [
              0,
              "#0d0887"
             ],
             [
              0.1111111111111111,
              "#46039f"
             ],
             [
              0.2222222222222222,
              "#7201a8"
             ],
             [
              0.3333333333333333,
              "#9c179e"
             ],
             [
              0.4444444444444444,
              "#bd3786"
             ],
             [
              0.5555555555555556,
              "#d8576b"
             ],
             [
              0.6666666666666666,
              "#ed7953"
             ],
             [
              0.7777777777777778,
              "#fb9f3a"
             ],
             [
              0.8888888888888888,
              "#fdca26"
             ],
             [
              1,
              "#f0f921"
             ]
            ],
            "type": "contour"
           }
          ],
          "contourcarpet": [
           {
            "colorbar": {
             "outlinewidth": 0,
             "ticks": ""
            },
            "type": "contourcarpet"
           }
          ],
          "heatmap": [
           {
            "colorbar": {
             "outlinewidth": 0,
             "ticks": ""
            },
            "colorscale": [
             [
              0,
              "#0d0887"
             ],
             [
              0.1111111111111111,
              "#46039f"
             ],
             [
              0.2222222222222222,
              "#7201a8"
             ],
             [
              0.3333333333333333,
              "#9c179e"
             ],
             [
              0.4444444444444444,
              "#bd3786"
             ],
             [
              0.5555555555555556,
              "#d8576b"
             ],
             [
              0.6666666666666666,
              "#ed7953"
             ],
             [
              0.7777777777777778,
              "#fb9f3a"
             ],
             [
              0.8888888888888888,
              "#fdca26"
             ],
             [
              1,
              "#f0f921"
             ]
            ],
            "type": "heatmap"
           }
          ],
          "heatmapgl": [
           {
            "colorbar": {
             "outlinewidth": 0,
             "ticks": ""
            },
            "colorscale": [
             [
              0,
              "#0d0887"
             ],
             [
              0.1111111111111111,
              "#46039f"
             ],
             [
              0.2222222222222222,
              "#7201a8"
             ],
             [
              0.3333333333333333,
              "#9c179e"
             ],
             [
              0.4444444444444444,
              "#bd3786"
             ],
             [
              0.5555555555555556,
              "#d8576b"
             ],
             [
              0.6666666666666666,
              "#ed7953"
             ],
             [
              0.7777777777777778,
              "#fb9f3a"
             ],
             [
              0.8888888888888888,
              "#fdca26"
             ],
             [
              1,
              "#f0f921"
             ]
            ],
            "type": "heatmapgl"
           }
          ],
          "histogram": [
           {
            "marker": {
             "pattern": {
              "fillmode": "overlay",
              "size": 10,
              "solidity": 0.2
             }
            },
            "type": "histogram"
           }
          ],
          "histogram2d": [
           {
            "colorbar": {
             "outlinewidth": 0,
             "ticks": ""
            },
            "colorscale": [
             [
              0,
              "#0d0887"
             ],
             [
              0.1111111111111111,
              "#46039f"
             ],
             [
              0.2222222222222222,
              "#7201a8"
             ],
             [
              0.3333333333333333,
              "#9c179e"
             ],
             [
              0.4444444444444444,
              "#bd3786"
             ],
             [
              0.5555555555555556,
              "#d8576b"
             ],
             [
              0.6666666666666666,
              "#ed7953"
             ],
             [
              0.7777777777777778,
              "#fb9f3a"
             ],
             [
              0.8888888888888888,
              "#fdca26"
             ],
             [
              1,
              "#f0f921"
             ]
            ],
            "type": "histogram2d"
           }
          ],
          "histogram2dcontour": [
           {
            "colorbar": {
             "outlinewidth": 0,
             "ticks": ""
            },
            "colorscale": [
             [
              0,
              "#0d0887"
             ],
             [
              0.1111111111111111,
              "#46039f"
             ],
             [
              0.2222222222222222,
              "#7201a8"
             ],
             [
              0.3333333333333333,
              "#9c179e"
             ],
             [
              0.4444444444444444,
              "#bd3786"
             ],
             [
              0.5555555555555556,
              "#d8576b"
             ],
             [
              0.6666666666666666,
              "#ed7953"
             ],
             [
              0.7777777777777778,
              "#fb9f3a"
             ],
             [
              0.8888888888888888,
              "#fdca26"
             ],
             [
              1,
              "#f0f921"
             ]
            ],
            "type": "histogram2dcontour"
           }
          ],
          "mesh3d": [
           {
            "colorbar": {
             "outlinewidth": 0,
             "ticks": ""
            },
            "type": "mesh3d"
           }
          ],
          "parcoords": [
           {
            "line": {
             "colorbar": {
              "outlinewidth": 0,
              "ticks": ""
             }
            },
            "type": "parcoords"
           }
          ],
          "pie": [
           {
            "automargin": true,
            "type": "pie"
           }
          ],
          "scatter": [
           {
            "fillpattern": {
             "fillmode": "overlay",
             "size": 10,
             "solidity": 0.2
            },
            "type": "scatter"
           }
          ],
          "scatter3d": [
           {
            "line": {
             "colorbar": {
              "outlinewidth": 0,
              "ticks": ""
             }
            },
            "marker": {
             "colorbar": {
              "outlinewidth": 0,
              "ticks": ""
             }
            },
            "type": "scatter3d"
           }
          ],
          "scattercarpet": [
           {
            "marker": {
             "colorbar": {
              "outlinewidth": 0,
              "ticks": ""
             }
            },
            "type": "scattercarpet"
           }
          ],
          "scattergeo": [
           {
            "marker": {
             "colorbar": {
              "outlinewidth": 0,
              "ticks": ""
             }
            },
            "type": "scattergeo"
           }
          ],
          "scattergl": [
           {
            "marker": {
             "colorbar": {
              "outlinewidth": 0,
              "ticks": ""
             }
            },
            "type": "scattergl"
           }
          ],
          "scattermapbox": [
           {
            "marker": {
             "colorbar": {
              "outlinewidth": 0,
              "ticks": ""
             }
            },
            "type": "scattermapbox"
           }
          ],
          "scatterpolar": [
           {
            "marker": {
             "colorbar": {
              "outlinewidth": 0,
              "ticks": ""
             }
            },
            "type": "scatterpolar"
           }
          ],
          "scatterpolargl": [
           {
            "marker": {
             "colorbar": {
              "outlinewidth": 0,
              "ticks": ""
             }
            },
            "type": "scatterpolargl"
           }
          ],
          "scatterternary": [
           {
            "marker": {
             "colorbar": {
              "outlinewidth": 0,
              "ticks": ""
             }
            },
            "type": "scatterternary"
           }
          ],
          "surface": [
           {
            "colorbar": {
             "outlinewidth": 0,
             "ticks": ""
            },
            "colorscale": [
             [
              0,
              "#0d0887"
             ],
             [
              0.1111111111111111,
              "#46039f"
             ],
             [
              0.2222222222222222,
              "#7201a8"
             ],
             [
              0.3333333333333333,
              "#9c179e"
             ],
             [
              0.4444444444444444,
              "#bd3786"
             ],
             [
              0.5555555555555556,
              "#d8576b"
             ],
             [
              0.6666666666666666,
              "#ed7953"
             ],
             [
              0.7777777777777778,
              "#fb9f3a"
             ],
             [
              0.8888888888888888,
              "#fdca26"
             ],
             [
              1,
              "#f0f921"
             ]
            ],
            "type": "surface"
           }
          ],
          "table": [
           {
            "cells": {
             "fill": {
              "color": "#EBF0F8"
             },
             "line": {
              "color": "white"
             }
            },
            "header": {
             "fill": {
              "color": "#C8D4E3"
             },
             "line": {
              "color": "white"
             }
            },
            "type": "table"
           }
          ]
         },
         "layout": {
          "annotationdefaults": {
           "arrowcolor": "#2a3f5f",
           "arrowhead": 0,
           "arrowwidth": 1
          },
          "autotypenumbers": "strict",
          "coloraxis": {
           "colorbar": {
            "outlinewidth": 0,
            "ticks": ""
           }
          },
          "colorscale": {
           "diverging": [
            [
             0,
             "#8e0152"
            ],
            [
             0.1,
             "#c51b7d"
            ],
            [
             0.2,
             "#de77ae"
            ],
            [
             0.3,
             "#f1b6da"
            ],
            [
             0.4,
             "#fde0ef"
            ],
            [
             0.5,
             "#f7f7f7"
            ],
            [
             0.6,
             "#e6f5d0"
            ],
            [
             0.7,
             "#b8e186"
            ],
            [
             0.8,
             "#7fbc41"
            ],
            [
             0.9,
             "#4d9221"
            ],
            [
             1,
             "#276419"
            ]
           ],
           "sequential": [
            [
             0,
             "#0d0887"
            ],
            [
             0.1111111111111111,
             "#46039f"
            ],
            [
             0.2222222222222222,
             "#7201a8"
            ],
            [
             0.3333333333333333,
             "#9c179e"
            ],
            [
             0.4444444444444444,
             "#bd3786"
            ],
            [
             0.5555555555555556,
             "#d8576b"
            ],
            [
             0.6666666666666666,
             "#ed7953"
            ],
            [
             0.7777777777777778,
             "#fb9f3a"
            ],
            [
             0.8888888888888888,
             "#fdca26"
            ],
            [
             1,
             "#f0f921"
            ]
           ],
           "sequentialminus": [
            [
             0,
             "#0d0887"
            ],
            [
             0.1111111111111111,
             "#46039f"
            ],
            [
             0.2222222222222222,
             "#7201a8"
            ],
            [
             0.3333333333333333,
             "#9c179e"
            ],
            [
             0.4444444444444444,
             "#bd3786"
            ],
            [
             0.5555555555555556,
             "#d8576b"
            ],
            [
             0.6666666666666666,
             "#ed7953"
            ],
            [
             0.7777777777777778,
             "#fb9f3a"
            ],
            [
             0.8888888888888888,
             "#fdca26"
            ],
            [
             1,
             "#f0f921"
            ]
           ]
          },
          "colorway": [
           "#636efa",
           "#EF553B",
           "#00cc96",
           "#ab63fa",
           "#FFA15A",
           "#19d3f3",
           "#FF6692",
           "#B6E880",
           "#FF97FF",
           "#FECB52"
          ],
          "font": {
           "color": "#2a3f5f"
          },
          "geo": {
           "bgcolor": "white",
           "lakecolor": "white",
           "landcolor": "#E5ECF6",
           "showlakes": true,
           "showland": true,
           "subunitcolor": "white"
          },
          "hoverlabel": {
           "align": "left"
          },
          "hovermode": "closest",
          "mapbox": {
           "style": "light"
          },
          "paper_bgcolor": "white",
          "plot_bgcolor": "#E5ECF6",
          "polar": {
           "angularaxis": {
            "gridcolor": "white",
            "linecolor": "white",
            "ticks": ""
           },
           "bgcolor": "#E5ECF6",
           "radialaxis": {
            "gridcolor": "white",
            "linecolor": "white",
            "ticks": ""
           }
          },
          "scene": {
           "xaxis": {
            "backgroundcolor": "#E5ECF6",
            "gridcolor": "white",
            "gridwidth": 2,
            "linecolor": "white",
            "showbackground": true,
            "ticks": "",
            "zerolinecolor": "white"
           },
           "yaxis": {
            "backgroundcolor": "#E5ECF6",
            "gridcolor": "white",
            "gridwidth": 2,
            "linecolor": "white",
            "showbackground": true,
            "ticks": "",
            "zerolinecolor": "white"
           },
           "zaxis": {
            "backgroundcolor": "#E5ECF6",
            "gridcolor": "white",
            "gridwidth": 2,
            "linecolor": "white",
            "showbackground": true,
            "ticks": "",
            "zerolinecolor": "white"
           }
          },
          "shapedefaults": {
           "line": {
            "color": "#2a3f5f"
           }
          },
          "ternary": {
           "aaxis": {
            "gridcolor": "white",
            "linecolor": "white",
            "ticks": ""
           },
           "baxis": {
            "gridcolor": "white",
            "linecolor": "white",
            "ticks": ""
           },
           "bgcolor": "#E5ECF6",
           "caxis": {
            "gridcolor": "white",
            "linecolor": "white",
            "ticks": ""
           }
          },
          "title": {
           "x": 0.05
          },
          "xaxis": {
           "automargin": true,
           "gridcolor": "white",
           "linecolor": "white",
           "ticks": "",
           "title": {
            "standoff": 15
           },
           "zerolinecolor": "white",
           "zerolinewidth": 2
          },
          "yaxis": {
           "automargin": true,
           "gridcolor": "white",
           "linecolor": "white",
           "ticks": "",
           "title": {
            "standoff": 15
           },
           "zerolinecolor": "white",
           "zerolinewidth": 2
          }
         }
        }
       }
      }
     },
     "metadata": {},
     "output_type": "display_data"
    }
   ],
   "source": [
    "dataframe = citing_sentence.join([y])\n",
    "correlation_matrix(dataframe)"
   ]
  },
  {
   "cell_type": "code",
   "execution_count": 9,
   "metadata": {},
   "outputs": [],
   "source": [
    "from sklearn.feature_selection import chi2, SelectKBest\n",
    "from sklearn.preprocessing import MinMaxScaler\n",
    "\n",
    "def find_chi(features, y, k):\n",
    "    chi_square = SelectKBest(score_func=chi2, k=k)\n",
    "    fit = chi_square.fit(features, y)\n",
    "    \n",
    "    selected_feature_indices = chi_square.get_support(indices=True)\n",
    "    feature_names = features.columns\n",
    "    chi2_scores = fit.scores_\n",
    "    feature_score_dict = dict(zip(feature_names, chi2_scores))\n",
    "    sorted_features = sorted(feature_score_dict.items(), key=lambda x: x[1], reverse=True)\n",
    "    selected_feature_names = [feature[0] for feature in sorted_features[:k]]\n",
    "    \n",
    "    print(\"Selected Feature Names:\", selected_feature_names)\n",
    "    x_chi = chi_square.fit_transform(features, y)\n",
    "    \n",
    "    scaler = MinMaxScaler()\n",
    "    x = scaler.fit_transform(x_chi)\n",
    "    \n",
    "    x_train, x_test, y_train, y_test = train_split(x, y)\n",
    "    return x_train, x_test, y_train, y_test, selected_feature_names"
   ]
  },
  {
   "cell_type": "code",
   "execution_count": 10,
   "metadata": {},
   "outputs": [],
   "source": [
    "from sklearn.model_selection import train_test_split\n",
    "\n",
    "def train_split(x, y):\n",
    "    x_train, x_test, y_train, y_test = train_test_split(x, y, test_size=0.2, random_state=123)\n",
    "    return x_train, x_test, y_train, y_test"
   ]
  },
  {
   "cell_type": "code",
   "execution_count": 11,
   "metadata": {},
   "outputs": [],
   "source": [
    "test = pd.DataFrame(columns=['Features', 'Accuracy'])"
   ]
  },
  {
   "cell_type": "code",
   "execution_count": 12,
   "metadata": {},
   "outputs": [],
   "source": [
    "from xgboost import XGBClassifier\n",
    "from sklearn.metrics import accuracy_score\n",
    "\n",
    "def model(features, y, i):\n",
    "    model = XGBClassifier()\n",
    "    x_train, x_test, y_train, y_test, selected_feature_names = find_chi(features, y, i)\n",
    "    model.fit(x_train, y_train)\n",
    "    \n",
    "    y_pred = model.predict(x_test)\n",
    "    predictions = [round(value) for value in y_pred]\n",
    "    \n",
    "    accuracy = accuracy_score(y_test, predictions)\n",
    "    new_data = pd.DataFrame({'Features': [selected_feature_names], 'Accuracy': [\"%.2f%%\" % (accuracy * 100.0)]})\n",
    "    global test\n",
    "    test = pd.concat([test, new_data], ignore_index=True)\n",
    "    return accuracy"
   ]
  },
  {
   "cell_type": "code",
   "execution_count": 13,
   "metadata": {},
   "outputs": [
    {
     "name": "stdout",
     "output_type": "stream",
     "text": [
      "Selected Feature Names: ['atr19']\n",
      "Accuracy: 67.10%\n",
      "Selected Feature Names: ['atr19', 'atr6']\n",
      "Accuracy: 65.80%\n",
      "Selected Feature Names: ['atr19', 'atr6', 'atr7']\n",
      "Accuracy: 65.37%\n",
      "Selected Feature Names: ['atr19', 'atr6', 'atr7', 'atr18']\n",
      "Accuracy: 65.37%\n",
      "Selected Feature Names: ['atr19', 'atr6', 'atr7', 'atr18', 'atr2']\n",
      "Accuracy: 65.37%\n",
      "Selected Feature Names: ['atr19', 'atr6', 'atr7', 'atr18', 'atr2', 'atr9']\n",
      "Accuracy: 62.77%\n",
      "Selected Feature Names: ['atr19', 'atr6', 'atr7', 'atr18', 'atr2', 'atr9', 'atr5']\n",
      "Accuracy: 64.50%\n",
      "Selected Feature Names: ['atr19', 'atr6', 'atr7', 'atr18', 'atr2', 'atr9', 'atr5', 'atr11']\n",
      "Accuracy: 62.77%\n",
      "Selected Feature Names: ['atr19', 'atr6', 'atr7', 'atr18', 'atr2', 'atr9', 'atr5', 'atr11', 'atr12']\n",
      "Accuracy: 59.31%\n",
      "Selected Feature Names: ['atr19', 'atr6', 'atr7', 'atr18', 'atr2', 'atr9', 'atr5', 'atr11', 'atr12', 'atr10']\n",
      "Accuracy: 60.61%\n",
      "Selected Feature Names: ['atr19', 'atr6', 'atr7', 'atr18', 'atr2', 'atr9', 'atr5', 'atr11', 'atr12', 'atr10', 'atr16']\n",
      "Accuracy: 58.01%\n",
      "Selected Feature Names: ['atr19', 'atr6', 'atr7', 'atr18', 'atr2', 'atr9', 'atr5', 'atr11', 'atr12', 'atr10', 'atr16', 'atr1']\n",
      "Accuracy: 56.71%\n",
      "Selected Feature Names: ['atr19', 'atr6', 'atr7', 'atr18', 'atr2', 'atr9', 'atr5', 'atr11', 'atr12', 'atr10', 'atr16', 'atr1', 'atr17']\n",
      "Accuracy: 61.04%\n",
      "Selected Feature Names: ['atr19', 'atr6', 'atr7', 'atr18', 'atr2', 'atr9', 'atr5', 'atr11', 'atr12', 'atr10', 'atr16', 'atr1', 'atr17', 'atr15']\n",
      "Accuracy: 62.34%\n",
      "Selected Feature Names: ['atr19', 'atr6', 'atr7', 'atr18', 'atr2', 'atr9', 'atr5', 'atr11', 'atr12', 'atr10', 'atr16', 'atr1', 'atr17', 'atr15', 'atr8']\n",
      "Accuracy: 57.58%\n",
      "Selected Feature Names: ['atr19', 'atr6', 'atr7', 'atr18', 'atr2', 'atr9', 'atr5', 'atr11', 'atr12', 'atr10', 'atr16', 'atr1', 'atr17', 'atr15', 'atr8', 'atr14']\n",
      "Accuracy: 58.87%\n",
      "Selected Feature Names: ['atr19', 'atr6', 'atr7', 'atr18', 'atr2', 'atr9', 'atr5', 'atr11', 'atr12', 'atr10', 'atr16', 'atr1', 'atr17', 'atr15', 'atr8', 'atr14', 'atr13']\n",
      "Accuracy: 57.14%\n",
      "Selected Feature Names: ['atr19', 'atr6', 'atr7', 'atr18', 'atr2', 'atr9', 'atr5', 'atr11', 'atr12', 'atr10', 'atr16', 'atr1', 'atr17', 'atr15', 'atr8', 'atr14', 'atr13', 'atr0']\n",
      "Accuracy: 59.31%\n",
      "Selected Feature Names: ['atr19', 'atr6', 'atr7', 'atr18', 'atr2', 'atr9', 'atr5', 'atr11', 'atr12', 'atr10', 'atr16', 'atr1', 'atr17', 'atr15', 'atr8', 'atr14', 'atr13', 'atr0', 'atr4']\n",
      "Accuracy: 61.04%\n",
      "Selected Feature Names: ['atr19', 'atr6', 'atr7', 'atr18', 'atr2', 'atr9', 'atr5', 'atr11', 'atr12', 'atr10', 'atr16', 'atr1', 'atr17', 'atr15', 'atr8', 'atr14', 'atr13', 'atr0', 'atr4', 'atr3']\n",
      "Accuracy: 60.61%\n"
     ]
    }
   ],
   "source": [
    "for i in dict(enumerate(citing_sentence)):\n",
    "    accuracy = model(citing_sentence, y, i+1)\n",
    "    print(\"Accuracy: %.2f%%\" % (accuracy * 100.0))"
   ]
  },
  {
   "cell_type": "markdown",
   "metadata": {},
   "source": [
    "## Regular Sentences Predictor"
   ]
  },
  {
   "cell_type": "code",
   "execution_count": 14,
   "metadata": {},
   "outputs": [],
   "source": [
    "regular_sentences = data[['atr20', 'atr21', 'atr22', 'atr23', 'atr24', 'atr25', 'atr26', 'atr27', 'atr28', 'atr29', 'atr30', 'atr31', 'atr32', 'atr33', 'atr34', 'atr35', 'atr36', 'atr37', 'atr38', 'atr39']]"
   ]
  },
  {
   "cell_type": "code",
   "execution_count": 15,
   "metadata": {},
   "outputs": [
    {
     "data": {
      "application/vnd.plotly.v1+json": {
       "config": {
        "plotlyServerURL": "https://plot.ly"
       },
       "data": [
        {
         "text": [
          [
           1,
           0.1703435179842924,
           0.2286337941493427,
           0.20940144809345387,
           0.23842495917023115,
           0.20238054316029366,
           0.10738802672172855,
           0.09895762415107208,
           0.022382474238589637,
           -0.043085949938647,
           0.028129431189916353,
           0.1203898625932035,
           0.038519012631342414,
           0.02407539941934366,
           0.14050509187696317,
           0.008515153797570672,
           0.0206457098409333,
           0.0333593852306977,
           0.3572733229124474,
           0.39376313028560567,
           0.008382374015157488
          ],
          [
           0.1703435179842924,
           1,
           0.21122370449249478,
           0.1547077144652077,
           0.05887695935204111,
           0.26665769145166285,
           0.1836240890421765,
           0.18745974082413935,
           0.06428411745572074,
           0.050953887906498914,
           0.09979637649420242,
           0.07267753534491943,
           0.08156292809840565,
           0.0888767773325136,
           0.15458665898351917,
           0.06790167069804123,
           0.10752055457416539,
           0.02828700823188703,
           0.27446462920117304,
           0.3657272122322203,
           0.015077993832927595
          ],
          [
           0.2286337941493427,
           0.21122370449249478,
           1,
           0.24249510334284655,
           0.13355467349670883,
           0.2786142562644043,
           0.1420785355954401,
           0.09834505167249942,
           0.09221357910303038,
           0.013769324131461268,
           0.16034659053061862,
           0.12032828793169371,
           0.11831792553048469,
           0.19893135067218895,
           0.24061661549233213,
           0.115020893281497,
           0.0997466226824405,
           0.0565454222346103,
           0.33870399902220155,
           0.5255444535854353,
           0.06647402465275157
          ],
          [
           0.20940144809345387,
           0.1547077144652077,
           0.24249510334284655,
           1,
           0.035419277461168984,
           0.09468362717777438,
           0.08244821085646296,
           0.1916980537789161,
           0.07787809624380691,
           0.010693714841694183,
           0.04087421779975237,
           0.16160540386944866,
           0.1283602920067355,
           0.07732336766141393,
           0.14997068457824142,
           0.08193695935531072,
           0.007802219686085821,
           0.13063585751385248,
           0.2486736416078786,
           0.356658063137414,
           -0.020358850671801376
          ],
          [
           0.23842495917023115,
           0.05887695935204111,
           0.13355467349670883,
           0.035419277461168984,
           1,
           0.05800820798676626,
           0.11455639398532774,
           0.12444531367598473,
           0.044878436206860016,
           0.10095714745542483,
           0.02627282477955209,
           0.08479387984990526,
           0.07436074305905574,
           -0.009786901062447258,
           0.20377568482928868,
           0.011643655525642735,
           0.06332042409706345,
           0.024733284221941796,
           0.10046943839228671,
           0.16903348110669694,
           0.022207653826855356
          ],
          [
           0.20238054316029366,
           0.26665769145166285,
           0.2786142562644043,
           0.09468362717777438,
           0.05800820798676626,
           1,
           0.35368045381856095,
           0.34113697250643266,
           0.23649228511187426,
           0.14278431031783406,
           0.10199486694937233,
           0.011484354623835668,
           -0.06807743666057425,
           0.08978670420046438,
           0.03924114521737214,
           -0.018509623316439613,
           0.36304643508341555,
           0.13532436993311298,
           0.6211794223092789,
           0.8256524395020928,
           -0.016789893563942122
          ],
          [
           0.10738802672172855,
           0.1836240890421765,
           0.1420785355954401,
           0.08244821085646296,
           0.11455639398532774,
           0.35368045381856095,
           1,
           0.279510469277373,
           0.16582686845810862,
           0.16758522523287941,
           0.08789107902967372,
           0.06521040556410346,
           0.01427061369116443,
           0.06021285698118385,
           0.07305606072763099,
           0.06244484429770307,
           0.1898762232009576,
           0.07850050924652548,
           0.2164614637802894,
           0.3689388771721997,
           0.0733144879967954
          ],
          [
           0.09895762415107208,
           0.18745974082413935,
           0.09834505167249942,
           0.1916980537789161,
           0.12444531367598473,
           0.34113697250643266,
           0.279510469277373,
           1,
           0.22957568466535427,
           0.41927375144908724,
           0.12711495525654,
           0.13554156280348104,
           0.14855682699059605,
           0.16718921732997744,
           0.07529651410998583,
           0.1371816470263289,
           0.2626219118776729,
           0.275850527465603,
           0.09981681722650233,
           0.3946211422428274,
           0.059264499235688085
          ],
          [
           0.022382474238589637,
           0.06428411745572074,
           0.09221357910303038,
           0.07787809624380691,
           0.044878436206860016,
           0.23649228511187426,
           0.16582686845810862,
           0.22957568466535427,
           1,
           0.1769622714444213,
           0.08193007903819563,
           0.11058524460353203,
           0.017066318387923007,
           0.04489947833053521,
           0.01019008144359535,
           0.054437719141840424,
           0.20574215657409914,
           0.08812762922800524,
           0.15003630883205749,
           0.27285188058901594,
           0.020660781047493866
          ],
          [
           -0.043085949938647,
           0.050953887906498914,
           0.013769324131461268,
           0.010693714841694183,
           0.10095714745542483,
           0.14278431031783406,
           0.16758522523287941,
           0.41927375144908724,
           0.1769622714444213,
           1,
           0.05068184914270966,
           0.10276517297621482,
           0.15055550711609786,
           0.14910042965645953,
           0.0689862968500165,
           0.12484420348604322,
           0.151432093683531,
           0.19338288564069792,
           -0.11918721673973284,
           0.1424783136242831,
           0.09643972993649276
          ],
          [
           0.028129431189916353,
           0.09979637649420242,
           0.16034659053061862,
           0.04087421779975237,
           0.02627282477955209,
           0.10199486694937233,
           0.08789107902967372,
           0.12711495525654,
           0.08193007903819563,
           0.05068184914270966,
           1,
           0.0775461262872521,
           -0.017076159055431105,
           0.08937964680679111,
           0.02830753413329384,
           0.0023670930571099125,
           0.09489782332184127,
           0.09045922680159903,
           0.012765777597335633,
           0.13161171710293093,
           0.02015799173681869
          ],
          [
           0.1203898625932035,
           0.07267753534491943,
           0.12032828793169371,
           0.16160540386944866,
           0.08479387984990526,
           0.011484354623835668,
           0.06521040556410346,
           0.13554156280348104,
           0.11058524460353203,
           0.10276517297621482,
           0.0775461262872521,
           1,
           0.12872048620592164,
           0.13977018435344624,
           0.12300078343631723,
           0.0851376929755993,
           0.03983942600387604,
           0.10294010403449429,
           0.022997921201291578,
           0.12073080405177565,
           0.0563719890708136
          ],
          [
           0.038519012631342414,
           0.08156292809840565,
           0.11831792553048469,
           0.1283602920067355,
           0.07436074305905574,
           -0.06807743666057425,
           0.01427061369116443,
           0.14855682699059605,
           0.017066318387923007,
           0.15055550711609786,
           -0.017076159055431105,
           0.12872048620592164,
           1,
           0.08319887810694053,
           0.18581568590512165,
           0.10256059102880591,
           -0.038000627987396424,
           0.0041509227756092275,
           -0.05122846272630979,
           0.0464934919719367,
           0.11953453374974811
          ],
          [
           0.02407539941934366,
           0.0888767773325136,
           0.19893135067218895,
           0.07732336766141393,
           -0.009786901062447258,
           0.08978670420046438,
           0.06021285698118385,
           0.16718921732997744,
           0.04489947833053521,
           0.14910042965645953,
           0.08937964680679111,
           0.13977018435344624,
           0.08319887810694053,
           1,
           0.064793609753621,
           0.07567661621137106,
           0.08935721686844665,
           0.2001933570898352,
           -0.007800714420232264,
           0.13984325319437602,
           0.03911893931152918
          ],
          [
           0.14050509187696317,
           0.15458665898351917,
           0.24061661549233213,
           0.14997068457824142,
           0.20377568482928868,
           0.03924114521737214,
           0.07305606072763099,
           0.07529651410998583,
           0.01019008144359535,
           0.0689862968500165,
           0.02830753413329384,
           0.12300078343631723,
           0.18581568590512165,
           0.064793609753621,
           1,
           0.11385505030063635,
           0.04752989602067964,
           0.023730050644804754,
           0.1741365774347614,
           0.2297765744430824,
           0.04002632320461397
          ],
          [
           0.008515153797570672,
           0.06790167069804123,
           0.115020893281497,
           0.08193695935531072,
           0.011643655525642735,
           -0.018509623316439613,
           0.06244484429770307,
           0.1371816470263289,
           0.054437719141840424,
           0.12484420348604322,
           0.0023670930571099125,
           0.0851376929755993,
           0.10256059102880591,
           0.07567661621137106,
           0.11385505030063635,
           1,
           0.0875781253405992,
           0.08597698443692635,
           -0.014304308401268619,
           0.07052964533113117,
           0.07641309519333828
          ],
          [
           0.0206457098409333,
           0.10752055457416539,
           0.0997466226824405,
           0.007802219686085821,
           0.06332042409706345,
           0.36304643508341555,
           0.1898762232009576,
           0.2626219118776729,
           0.20574215657409914,
           0.151432093683531,
           0.09489782332184127,
           0.03983942600387604,
           -0.038000627987396424,
           0.08935721686844665,
           0.04752989602067964,
           0.0875781253405992,
           1,
           0.19208441998937817,
           0.1819800845262189,
           0.332916369322491,
           0.04021147521887069
          ],
          [
           0.0333593852306977,
           0.02828700823188703,
           0.0565454222346103,
           0.13063585751385248,
           0.024733284221941796,
           0.13532436993311298,
           0.07850050924652548,
           0.275850527465603,
           0.08812762922800524,
           0.19338288564069792,
           0.09045922680159903,
           0.10294010403449429,
           0.0041509227756092275,
           0.2001933570898352,
           0.023730050644804754,
           0.08597698443692635,
           0.19208441998937817,
           1,
           0.03208788807341922,
           0.17852352684703743,
           0.01760711834791202
          ],
          [
           0.3572733229124474,
           0.27446462920117304,
           0.33870399902220155,
           0.2486736416078786,
           0.10046943839228671,
           0.6211794223092789,
           0.2164614637802894,
           0.09981681722650233,
           0.15003630883205749,
           -0.11918721673973284,
           0.012765777597335633,
           0.022997921201291578,
           -0.05122846272630979,
           -0.007800714420232264,
           0.1741365774347614,
           -0.014304308401268619,
           0.1819800845262189,
           0.03208788807341922,
           1,
           0.8729769099123427,
           -0.01559117074086855
          ],
          [
           0.39376313028560567,
           0.3657272122322203,
           0.5255444535854353,
           0.356658063137414,
           0.16903348110669694,
           0.8256524395020928,
           0.3689388771721997,
           0.3946211422428274,
           0.27285188058901594,
           0.1424783136242831,
           0.13161171710293093,
           0.12073080405177565,
           0.0464934919719367,
           0.13984325319437602,
           0.2297765744430824,
           0.07052964533113117,
           0.332916369322491,
           0.17852352684703743,
           0.8729769099123427,
           1,
           0.021223628231588958
          ],
          [
           0.008382374015157488,
           0.015077993832927595,
           0.06647402465275157,
           -0.020358850671801376,
           0.022207653826855356,
           -0.016789893563942122,
           0.0733144879967954,
           0.059264499235688085,
           0.020660781047493866,
           0.09643972993649276,
           0.02015799173681869,
           0.0563719890708136,
           0.11953453374974811,
           0.03911893931152918,
           0.04002632320461397,
           0.07641309519333828,
           0.04021147521887069,
           0.01760711834791202,
           -0.01559117074086855,
           0.021223628231588958,
           1
          ]
         ],
         "texttemplate": "%{text:.2f}",
         "type": "heatmap",
         "x": [
          "atr20",
          "atr21",
          "atr22",
          "atr23",
          "atr24",
          "atr25",
          "atr26",
          "atr27",
          "atr28",
          "atr29",
          "atr30",
          "atr31",
          "atr32",
          "atr33",
          "atr34",
          "atr35",
          "atr36",
          "atr37",
          "atr38",
          "atr39",
          "substance"
         ],
         "y": [
          "atr20",
          "atr21",
          "atr22",
          "atr23",
          "atr24",
          "atr25",
          "atr26",
          "atr27",
          "atr28",
          "atr29",
          "atr30",
          "atr31",
          "atr32",
          "atr33",
          "atr34",
          "atr35",
          "atr36",
          "atr37",
          "atr38",
          "atr39",
          "substance"
         ],
         "z": [
          [
           1,
           0.1703435179842924,
           0.2286337941493427,
           0.20940144809345387,
           0.23842495917023115,
           0.20238054316029366,
           0.10738802672172855,
           0.09895762415107208,
           0.022382474238589637,
           -0.043085949938647,
           0.028129431189916353,
           0.1203898625932035,
           0.038519012631342414,
           0.02407539941934366,
           0.14050509187696317,
           0.008515153797570672,
           0.0206457098409333,
           0.0333593852306977,
           0.3572733229124474,
           0.39376313028560567,
           0.008382374015157488
          ],
          [
           0.1703435179842924,
           1,
           0.21122370449249478,
           0.1547077144652077,
           0.05887695935204111,
           0.26665769145166285,
           0.1836240890421765,
           0.18745974082413935,
           0.06428411745572074,
           0.050953887906498914,
           0.09979637649420242,
           0.07267753534491943,
           0.08156292809840565,
           0.0888767773325136,
           0.15458665898351917,
           0.06790167069804123,
           0.10752055457416539,
           0.02828700823188703,
           0.27446462920117304,
           0.3657272122322203,
           0.015077993832927595
          ],
          [
           0.2286337941493427,
           0.21122370449249478,
           1,
           0.24249510334284655,
           0.13355467349670883,
           0.2786142562644043,
           0.1420785355954401,
           0.09834505167249942,
           0.09221357910303038,
           0.013769324131461268,
           0.16034659053061862,
           0.12032828793169371,
           0.11831792553048469,
           0.19893135067218895,
           0.24061661549233213,
           0.115020893281497,
           0.0997466226824405,
           0.0565454222346103,
           0.33870399902220155,
           0.5255444535854353,
           0.06647402465275157
          ],
          [
           0.20940144809345387,
           0.1547077144652077,
           0.24249510334284655,
           1,
           0.035419277461168984,
           0.09468362717777438,
           0.08244821085646296,
           0.1916980537789161,
           0.07787809624380691,
           0.010693714841694183,
           0.04087421779975237,
           0.16160540386944866,
           0.1283602920067355,
           0.07732336766141393,
           0.14997068457824142,
           0.08193695935531072,
           0.007802219686085821,
           0.13063585751385248,
           0.2486736416078786,
           0.356658063137414,
           -0.020358850671801376
          ],
          [
           0.23842495917023115,
           0.05887695935204111,
           0.13355467349670883,
           0.035419277461168984,
           1,
           0.05800820798676626,
           0.11455639398532774,
           0.12444531367598473,
           0.044878436206860016,
           0.10095714745542483,
           0.02627282477955209,
           0.08479387984990526,
           0.07436074305905574,
           -0.009786901062447258,
           0.20377568482928868,
           0.011643655525642735,
           0.06332042409706345,
           0.024733284221941796,
           0.10046943839228671,
           0.16903348110669694,
           0.022207653826855356
          ],
          [
           0.20238054316029366,
           0.26665769145166285,
           0.2786142562644043,
           0.09468362717777438,
           0.05800820798676626,
           1,
           0.35368045381856095,
           0.34113697250643266,
           0.23649228511187426,
           0.14278431031783406,
           0.10199486694937233,
           0.011484354623835668,
           -0.06807743666057425,
           0.08978670420046438,
           0.03924114521737214,
           -0.018509623316439613,
           0.36304643508341555,
           0.13532436993311298,
           0.6211794223092789,
           0.8256524395020928,
           -0.016789893563942122
          ],
          [
           0.10738802672172855,
           0.1836240890421765,
           0.1420785355954401,
           0.08244821085646296,
           0.11455639398532774,
           0.35368045381856095,
           1,
           0.279510469277373,
           0.16582686845810862,
           0.16758522523287941,
           0.08789107902967372,
           0.06521040556410346,
           0.01427061369116443,
           0.06021285698118385,
           0.07305606072763099,
           0.06244484429770307,
           0.1898762232009576,
           0.07850050924652548,
           0.2164614637802894,
           0.3689388771721997,
           0.0733144879967954
          ],
          [
           0.09895762415107208,
           0.18745974082413935,
           0.09834505167249942,
           0.1916980537789161,
           0.12444531367598473,
           0.34113697250643266,
           0.279510469277373,
           1,
           0.22957568466535427,
           0.41927375144908724,
           0.12711495525654,
           0.13554156280348104,
           0.14855682699059605,
           0.16718921732997744,
           0.07529651410998583,
           0.1371816470263289,
           0.2626219118776729,
           0.275850527465603,
           0.09981681722650233,
           0.3946211422428274,
           0.059264499235688085
          ],
          [
           0.022382474238589637,
           0.06428411745572074,
           0.09221357910303038,
           0.07787809624380691,
           0.044878436206860016,
           0.23649228511187426,
           0.16582686845810862,
           0.22957568466535427,
           1,
           0.1769622714444213,
           0.08193007903819563,
           0.11058524460353203,
           0.017066318387923007,
           0.04489947833053521,
           0.01019008144359535,
           0.054437719141840424,
           0.20574215657409914,
           0.08812762922800524,
           0.15003630883205749,
           0.27285188058901594,
           0.020660781047493866
          ],
          [
           -0.043085949938647,
           0.050953887906498914,
           0.013769324131461268,
           0.010693714841694183,
           0.10095714745542483,
           0.14278431031783406,
           0.16758522523287941,
           0.41927375144908724,
           0.1769622714444213,
           1,
           0.05068184914270966,
           0.10276517297621482,
           0.15055550711609786,
           0.14910042965645953,
           0.0689862968500165,
           0.12484420348604322,
           0.151432093683531,
           0.19338288564069792,
           -0.11918721673973284,
           0.1424783136242831,
           0.09643972993649276
          ],
          [
           0.028129431189916353,
           0.09979637649420242,
           0.16034659053061862,
           0.04087421779975237,
           0.02627282477955209,
           0.10199486694937233,
           0.08789107902967372,
           0.12711495525654,
           0.08193007903819563,
           0.05068184914270966,
           1,
           0.0775461262872521,
           -0.017076159055431105,
           0.08937964680679111,
           0.02830753413329384,
           0.0023670930571099125,
           0.09489782332184127,
           0.09045922680159903,
           0.012765777597335633,
           0.13161171710293093,
           0.02015799173681869
          ],
          [
           0.1203898625932035,
           0.07267753534491943,
           0.12032828793169371,
           0.16160540386944866,
           0.08479387984990526,
           0.011484354623835668,
           0.06521040556410346,
           0.13554156280348104,
           0.11058524460353203,
           0.10276517297621482,
           0.0775461262872521,
           1,
           0.12872048620592164,
           0.13977018435344624,
           0.12300078343631723,
           0.0851376929755993,
           0.03983942600387604,
           0.10294010403449429,
           0.022997921201291578,
           0.12073080405177565,
           0.0563719890708136
          ],
          [
           0.038519012631342414,
           0.08156292809840565,
           0.11831792553048469,
           0.1283602920067355,
           0.07436074305905574,
           -0.06807743666057425,
           0.01427061369116443,
           0.14855682699059605,
           0.017066318387923007,
           0.15055550711609786,
           -0.017076159055431105,
           0.12872048620592164,
           1,
           0.08319887810694053,
           0.18581568590512165,
           0.10256059102880591,
           -0.038000627987396424,
           0.0041509227756092275,
           -0.05122846272630979,
           0.0464934919719367,
           0.11953453374974811
          ],
          [
           0.02407539941934366,
           0.0888767773325136,
           0.19893135067218895,
           0.07732336766141393,
           -0.009786901062447258,
           0.08978670420046438,
           0.06021285698118385,
           0.16718921732997744,
           0.04489947833053521,
           0.14910042965645953,
           0.08937964680679111,
           0.13977018435344624,
           0.08319887810694053,
           1,
           0.064793609753621,
           0.07567661621137106,
           0.08935721686844665,
           0.2001933570898352,
           -0.007800714420232264,
           0.13984325319437602,
           0.03911893931152918
          ],
          [
           0.14050509187696317,
           0.15458665898351917,
           0.24061661549233213,
           0.14997068457824142,
           0.20377568482928868,
           0.03924114521737214,
           0.07305606072763099,
           0.07529651410998583,
           0.01019008144359535,
           0.0689862968500165,
           0.02830753413329384,
           0.12300078343631723,
           0.18581568590512165,
           0.064793609753621,
           1,
           0.11385505030063635,
           0.04752989602067964,
           0.023730050644804754,
           0.1741365774347614,
           0.2297765744430824,
           0.04002632320461397
          ],
          [
           0.008515153797570672,
           0.06790167069804123,
           0.115020893281497,
           0.08193695935531072,
           0.011643655525642735,
           -0.018509623316439613,
           0.06244484429770307,
           0.1371816470263289,
           0.054437719141840424,
           0.12484420348604322,
           0.0023670930571099125,
           0.0851376929755993,
           0.10256059102880591,
           0.07567661621137106,
           0.11385505030063635,
           1,
           0.0875781253405992,
           0.08597698443692635,
           -0.014304308401268619,
           0.07052964533113117,
           0.07641309519333828
          ],
          [
           0.0206457098409333,
           0.10752055457416539,
           0.0997466226824405,
           0.007802219686085821,
           0.06332042409706345,
           0.36304643508341555,
           0.1898762232009576,
           0.2626219118776729,
           0.20574215657409914,
           0.151432093683531,
           0.09489782332184127,
           0.03983942600387604,
           -0.038000627987396424,
           0.08935721686844665,
           0.04752989602067964,
           0.0875781253405992,
           1,
           0.19208441998937817,
           0.1819800845262189,
           0.332916369322491,
           0.04021147521887069
          ],
          [
           0.0333593852306977,
           0.02828700823188703,
           0.0565454222346103,
           0.13063585751385248,
           0.024733284221941796,
           0.13532436993311298,
           0.07850050924652548,
           0.275850527465603,
           0.08812762922800524,
           0.19338288564069792,
           0.09045922680159903,
           0.10294010403449429,
           0.0041509227756092275,
           0.2001933570898352,
           0.023730050644804754,
           0.08597698443692635,
           0.19208441998937817,
           1,
           0.03208788807341922,
           0.17852352684703743,
           0.01760711834791202
          ],
          [
           0.3572733229124474,
           0.27446462920117304,
           0.33870399902220155,
           0.2486736416078786,
           0.10046943839228671,
           0.6211794223092789,
           0.2164614637802894,
           0.09981681722650233,
           0.15003630883205749,
           -0.11918721673973284,
           0.012765777597335633,
           0.022997921201291578,
           -0.05122846272630979,
           -0.007800714420232264,
           0.1741365774347614,
           -0.014304308401268619,
           0.1819800845262189,
           0.03208788807341922,
           1,
           0.8729769099123427,
           -0.01559117074086855
          ],
          [
           0.39376313028560567,
           0.3657272122322203,
           0.5255444535854353,
           0.356658063137414,
           0.16903348110669694,
           0.8256524395020928,
           0.3689388771721997,
           0.3946211422428274,
           0.27285188058901594,
           0.1424783136242831,
           0.13161171710293093,
           0.12073080405177565,
           0.0464934919719367,
           0.13984325319437602,
           0.2297765744430824,
           0.07052964533113117,
           0.332916369322491,
           0.17852352684703743,
           0.8729769099123427,
           1,
           0.021223628231588958
          ],
          [
           0.008382374015157488,
           0.015077993832927595,
           0.06647402465275157,
           -0.020358850671801376,
           0.022207653826855356,
           -0.016789893563942122,
           0.0733144879967954,
           0.059264499235688085,
           0.020660781047493866,
           0.09643972993649276,
           0.02015799173681869,
           0.0563719890708136,
           0.11953453374974811,
           0.03911893931152918,
           0.04002632320461397,
           0.07641309519333828,
           0.04021147521887069,
           0.01760711834791202,
           -0.01559117074086855,
           0.021223628231588958,
           1
          ]
         ]
        }
       ],
       "layout": {
        "template": {
         "data": {
          "bar": [
           {
            "error_x": {
             "color": "#2a3f5f"
            },
            "error_y": {
             "color": "#2a3f5f"
            },
            "marker": {
             "line": {
              "color": "#E5ECF6",
              "width": 0.5
             },
             "pattern": {
              "fillmode": "overlay",
              "size": 10,
              "solidity": 0.2
             }
            },
            "type": "bar"
           }
          ],
          "barpolar": [
           {
            "marker": {
             "line": {
              "color": "#E5ECF6",
              "width": 0.5
             },
             "pattern": {
              "fillmode": "overlay",
              "size": 10,
              "solidity": 0.2
             }
            },
            "type": "barpolar"
           }
          ],
          "carpet": [
           {
            "aaxis": {
             "endlinecolor": "#2a3f5f",
             "gridcolor": "white",
             "linecolor": "white",
             "minorgridcolor": "white",
             "startlinecolor": "#2a3f5f"
            },
            "baxis": {
             "endlinecolor": "#2a3f5f",
             "gridcolor": "white",
             "linecolor": "white",
             "minorgridcolor": "white",
             "startlinecolor": "#2a3f5f"
            },
            "type": "carpet"
           }
          ],
          "choropleth": [
           {
            "colorbar": {
             "outlinewidth": 0,
             "ticks": ""
            },
            "type": "choropleth"
           }
          ],
          "contour": [
           {
            "colorbar": {
             "outlinewidth": 0,
             "ticks": ""
            },
            "colorscale": [
             [
              0,
              "#0d0887"
             ],
             [
              0.1111111111111111,
              "#46039f"
             ],
             [
              0.2222222222222222,
              "#7201a8"
             ],
             [
              0.3333333333333333,
              "#9c179e"
             ],
             [
              0.4444444444444444,
              "#bd3786"
             ],
             [
              0.5555555555555556,
              "#d8576b"
             ],
             [
              0.6666666666666666,
              "#ed7953"
             ],
             [
              0.7777777777777778,
              "#fb9f3a"
             ],
             [
              0.8888888888888888,
              "#fdca26"
             ],
             [
              1,
              "#f0f921"
             ]
            ],
            "type": "contour"
           }
          ],
          "contourcarpet": [
           {
            "colorbar": {
             "outlinewidth": 0,
             "ticks": ""
            },
            "type": "contourcarpet"
           }
          ],
          "heatmap": [
           {
            "colorbar": {
             "outlinewidth": 0,
             "ticks": ""
            },
            "colorscale": [
             [
              0,
              "#0d0887"
             ],
             [
              0.1111111111111111,
              "#46039f"
             ],
             [
              0.2222222222222222,
              "#7201a8"
             ],
             [
              0.3333333333333333,
              "#9c179e"
             ],
             [
              0.4444444444444444,
              "#bd3786"
             ],
             [
              0.5555555555555556,
              "#d8576b"
             ],
             [
              0.6666666666666666,
              "#ed7953"
             ],
             [
              0.7777777777777778,
              "#fb9f3a"
             ],
             [
              0.8888888888888888,
              "#fdca26"
             ],
             [
              1,
              "#f0f921"
             ]
            ],
            "type": "heatmap"
           }
          ],
          "heatmapgl": [
           {
            "colorbar": {
             "outlinewidth": 0,
             "ticks": ""
            },
            "colorscale": [
             [
              0,
              "#0d0887"
             ],
             [
              0.1111111111111111,
              "#46039f"
             ],
             [
              0.2222222222222222,
              "#7201a8"
             ],
             [
              0.3333333333333333,
              "#9c179e"
             ],
             [
              0.4444444444444444,
              "#bd3786"
             ],
             [
              0.5555555555555556,
              "#d8576b"
             ],
             [
              0.6666666666666666,
              "#ed7953"
             ],
             [
              0.7777777777777778,
              "#fb9f3a"
             ],
             [
              0.8888888888888888,
              "#fdca26"
             ],
             [
              1,
              "#f0f921"
             ]
            ],
            "type": "heatmapgl"
           }
          ],
          "histogram": [
           {
            "marker": {
             "pattern": {
              "fillmode": "overlay",
              "size": 10,
              "solidity": 0.2
             }
            },
            "type": "histogram"
           }
          ],
          "histogram2d": [
           {
            "colorbar": {
             "outlinewidth": 0,
             "ticks": ""
            },
            "colorscale": [
             [
              0,
              "#0d0887"
             ],
             [
              0.1111111111111111,
              "#46039f"
             ],
             [
              0.2222222222222222,
              "#7201a8"
             ],
             [
              0.3333333333333333,
              "#9c179e"
             ],
             [
              0.4444444444444444,
              "#bd3786"
             ],
             [
              0.5555555555555556,
              "#d8576b"
             ],
             [
              0.6666666666666666,
              "#ed7953"
             ],
             [
              0.7777777777777778,
              "#fb9f3a"
             ],
             [
              0.8888888888888888,
              "#fdca26"
             ],
             [
              1,
              "#f0f921"
             ]
            ],
            "type": "histogram2d"
           }
          ],
          "histogram2dcontour": [
           {
            "colorbar": {
             "outlinewidth": 0,
             "ticks": ""
            },
            "colorscale": [
             [
              0,
              "#0d0887"
             ],
             [
              0.1111111111111111,
              "#46039f"
             ],
             [
              0.2222222222222222,
              "#7201a8"
             ],
             [
              0.3333333333333333,
              "#9c179e"
             ],
             [
              0.4444444444444444,
              "#bd3786"
             ],
             [
              0.5555555555555556,
              "#d8576b"
             ],
             [
              0.6666666666666666,
              "#ed7953"
             ],
             [
              0.7777777777777778,
              "#fb9f3a"
             ],
             [
              0.8888888888888888,
              "#fdca26"
             ],
             [
              1,
              "#f0f921"
             ]
            ],
            "type": "histogram2dcontour"
           }
          ],
          "mesh3d": [
           {
            "colorbar": {
             "outlinewidth": 0,
             "ticks": ""
            },
            "type": "mesh3d"
           }
          ],
          "parcoords": [
           {
            "line": {
             "colorbar": {
              "outlinewidth": 0,
              "ticks": ""
             }
            },
            "type": "parcoords"
           }
          ],
          "pie": [
           {
            "automargin": true,
            "type": "pie"
           }
          ],
          "scatter": [
           {
            "fillpattern": {
             "fillmode": "overlay",
             "size": 10,
             "solidity": 0.2
            },
            "type": "scatter"
           }
          ],
          "scatter3d": [
           {
            "line": {
             "colorbar": {
              "outlinewidth": 0,
              "ticks": ""
             }
            },
            "marker": {
             "colorbar": {
              "outlinewidth": 0,
              "ticks": ""
             }
            },
            "type": "scatter3d"
           }
          ],
          "scattercarpet": [
           {
            "marker": {
             "colorbar": {
              "outlinewidth": 0,
              "ticks": ""
             }
            },
            "type": "scattercarpet"
           }
          ],
          "scattergeo": [
           {
            "marker": {
             "colorbar": {
              "outlinewidth": 0,
              "ticks": ""
             }
            },
            "type": "scattergeo"
           }
          ],
          "scattergl": [
           {
            "marker": {
             "colorbar": {
              "outlinewidth": 0,
              "ticks": ""
             }
            },
            "type": "scattergl"
           }
          ],
          "scattermapbox": [
           {
            "marker": {
             "colorbar": {
              "outlinewidth": 0,
              "ticks": ""
             }
            },
            "type": "scattermapbox"
           }
          ],
          "scatterpolar": [
           {
            "marker": {
             "colorbar": {
              "outlinewidth": 0,
              "ticks": ""
             }
            },
            "type": "scatterpolar"
           }
          ],
          "scatterpolargl": [
           {
            "marker": {
             "colorbar": {
              "outlinewidth": 0,
              "ticks": ""
             }
            },
            "type": "scatterpolargl"
           }
          ],
          "scatterternary": [
           {
            "marker": {
             "colorbar": {
              "outlinewidth": 0,
              "ticks": ""
             }
            },
            "type": "scatterternary"
           }
          ],
          "surface": [
           {
            "colorbar": {
             "outlinewidth": 0,
             "ticks": ""
            },
            "colorscale": [
             [
              0,
              "#0d0887"
             ],
             [
              0.1111111111111111,
              "#46039f"
             ],
             [
              0.2222222222222222,
              "#7201a8"
             ],
             [
              0.3333333333333333,
              "#9c179e"
             ],
             [
              0.4444444444444444,
              "#bd3786"
             ],
             [
              0.5555555555555556,
              "#d8576b"
             ],
             [
              0.6666666666666666,
              "#ed7953"
             ],
             [
              0.7777777777777778,
              "#fb9f3a"
             ],
             [
              0.8888888888888888,
              "#fdca26"
             ],
             [
              1,
              "#f0f921"
             ]
            ],
            "type": "surface"
           }
          ],
          "table": [
           {
            "cells": {
             "fill": {
              "color": "#EBF0F8"
             },
             "line": {
              "color": "white"
             }
            },
            "header": {
             "fill": {
              "color": "#C8D4E3"
             },
             "line": {
              "color": "white"
             }
            },
            "type": "table"
           }
          ]
         },
         "layout": {
          "annotationdefaults": {
           "arrowcolor": "#2a3f5f",
           "arrowhead": 0,
           "arrowwidth": 1
          },
          "autotypenumbers": "strict",
          "coloraxis": {
           "colorbar": {
            "outlinewidth": 0,
            "ticks": ""
           }
          },
          "colorscale": {
           "diverging": [
            [
             0,
             "#8e0152"
            ],
            [
             0.1,
             "#c51b7d"
            ],
            [
             0.2,
             "#de77ae"
            ],
            [
             0.3,
             "#f1b6da"
            ],
            [
             0.4,
             "#fde0ef"
            ],
            [
             0.5,
             "#f7f7f7"
            ],
            [
             0.6,
             "#e6f5d0"
            ],
            [
             0.7,
             "#b8e186"
            ],
            [
             0.8,
             "#7fbc41"
            ],
            [
             0.9,
             "#4d9221"
            ],
            [
             1,
             "#276419"
            ]
           ],
           "sequential": [
            [
             0,
             "#0d0887"
            ],
            [
             0.1111111111111111,
             "#46039f"
            ],
            [
             0.2222222222222222,
             "#7201a8"
            ],
            [
             0.3333333333333333,
             "#9c179e"
            ],
            [
             0.4444444444444444,
             "#bd3786"
            ],
            [
             0.5555555555555556,
             "#d8576b"
            ],
            [
             0.6666666666666666,
             "#ed7953"
            ],
            [
             0.7777777777777778,
             "#fb9f3a"
            ],
            [
             0.8888888888888888,
             "#fdca26"
            ],
            [
             1,
             "#f0f921"
            ]
           ],
           "sequentialminus": [
            [
             0,
             "#0d0887"
            ],
            [
             0.1111111111111111,
             "#46039f"
            ],
            [
             0.2222222222222222,
             "#7201a8"
            ],
            [
             0.3333333333333333,
             "#9c179e"
            ],
            [
             0.4444444444444444,
             "#bd3786"
            ],
            [
             0.5555555555555556,
             "#d8576b"
            ],
            [
             0.6666666666666666,
             "#ed7953"
            ],
            [
             0.7777777777777778,
             "#fb9f3a"
            ],
            [
             0.8888888888888888,
             "#fdca26"
            ],
            [
             1,
             "#f0f921"
            ]
           ]
          },
          "colorway": [
           "#636efa",
           "#EF553B",
           "#00cc96",
           "#ab63fa",
           "#FFA15A",
           "#19d3f3",
           "#FF6692",
           "#B6E880",
           "#FF97FF",
           "#FECB52"
          ],
          "font": {
           "color": "#2a3f5f"
          },
          "geo": {
           "bgcolor": "white",
           "lakecolor": "white",
           "landcolor": "#E5ECF6",
           "showlakes": true,
           "showland": true,
           "subunitcolor": "white"
          },
          "hoverlabel": {
           "align": "left"
          },
          "hovermode": "closest",
          "mapbox": {
           "style": "light"
          },
          "paper_bgcolor": "white",
          "plot_bgcolor": "#E5ECF6",
          "polar": {
           "angularaxis": {
            "gridcolor": "white",
            "linecolor": "white",
            "ticks": ""
           },
           "bgcolor": "#E5ECF6",
           "radialaxis": {
            "gridcolor": "white",
            "linecolor": "white",
            "ticks": ""
           }
          },
          "scene": {
           "xaxis": {
            "backgroundcolor": "#E5ECF6",
            "gridcolor": "white",
            "gridwidth": 2,
            "linecolor": "white",
            "showbackground": true,
            "ticks": "",
            "zerolinecolor": "white"
           },
           "yaxis": {
            "backgroundcolor": "#E5ECF6",
            "gridcolor": "white",
            "gridwidth": 2,
            "linecolor": "white",
            "showbackground": true,
            "ticks": "",
            "zerolinecolor": "white"
           },
           "zaxis": {
            "backgroundcolor": "#E5ECF6",
            "gridcolor": "white",
            "gridwidth": 2,
            "linecolor": "white",
            "showbackground": true,
            "ticks": "",
            "zerolinecolor": "white"
           }
          },
          "shapedefaults": {
           "line": {
            "color": "#2a3f5f"
           }
          },
          "ternary": {
           "aaxis": {
            "gridcolor": "white",
            "linecolor": "white",
            "ticks": ""
           },
           "baxis": {
            "gridcolor": "white",
            "linecolor": "white",
            "ticks": ""
           },
           "bgcolor": "#E5ECF6",
           "caxis": {
            "gridcolor": "white",
            "linecolor": "white",
            "ticks": ""
           }
          },
          "title": {
           "x": 0.05
          },
          "xaxis": {
           "automargin": true,
           "gridcolor": "white",
           "linecolor": "white",
           "ticks": "",
           "title": {
            "standoff": 15
           },
           "zerolinecolor": "white",
           "zerolinewidth": 2
          },
          "yaxis": {
           "automargin": true,
           "gridcolor": "white",
           "linecolor": "white",
           "ticks": "",
           "title": {
            "standoff": 15
           },
           "zerolinecolor": "white",
           "zerolinewidth": 2
          }
         }
        }
       }
      }
     },
     "metadata": {},
     "output_type": "display_data"
    }
   ],
   "source": [
    "dataframe = regular_sentences.join([y])\n",
    "correlation_matrix(dataframe)"
   ]
  },
  {
   "cell_type": "code",
   "execution_count": 16,
   "metadata": {},
   "outputs": [
    {
     "name": "stdout",
     "output_type": "stream",
     "text": [
      "Selected Feature Names: ['atr29']\n",
      "Accuracy: 72.73%\n",
      "Selected Feature Names: ['atr29', 'atr32']\n",
      "Accuracy: 67.53%\n",
      "Selected Feature Names: ['atr29', 'atr32', 'atr22']\n",
      "Accuracy: 62.77%\n",
      "Selected Feature Names: ['atr29', 'atr32', 'atr22', 'atr27']\n",
      "Accuracy: 62.77%\n",
      "Selected Feature Names: ['atr29', 'atr32', 'atr22', 'atr27', 'atr39']\n",
      "Accuracy: 63.20%\n",
      "Selected Feature Names: ['atr29', 'atr32', 'atr22', 'atr27', 'atr39', 'atr35']\n",
      "Accuracy: 62.34%\n",
      "Selected Feature Names: ['atr29', 'atr32', 'atr22', 'atr27', 'atr39', 'atr35', 'atr26']\n",
      "Accuracy: 63.20%\n",
      "Selected Feature Names: ['atr29', 'atr32', 'atr22', 'atr27', 'atr39', 'atr35', 'atr26', 'atr38']\n",
      "Accuracy: 68.40%\n",
      "Selected Feature Names: ['atr29', 'atr32', 'atr22', 'atr27', 'atr39', 'atr35', 'atr26', 'atr38', 'atr31']\n",
      "Accuracy: 70.56%\n",
      "Selected Feature Names: ['atr29', 'atr32', 'atr22', 'atr27', 'atr39', 'atr35', 'atr26', 'atr38', 'atr31', 'atr34']\n",
      "Accuracy: 69.70%\n",
      "Selected Feature Names: ['atr29', 'atr32', 'atr22', 'atr27', 'atr39', 'atr35', 'atr26', 'atr38', 'atr31', 'atr34', 'atr25']\n",
      "Accuracy: 67.10%\n",
      "Selected Feature Names: ['atr29', 'atr32', 'atr22', 'atr27', 'atr39', 'atr35', 'atr26', 'atr38', 'atr31', 'atr34', 'atr25', 'atr36']\n",
      "Accuracy: 67.53%\n",
      "Selected Feature Names: ['atr29', 'atr32', 'atr22', 'atr27', 'atr39', 'atr35', 'atr26', 'atr38', 'atr31', 'atr34', 'atr25', 'atr36', 'atr33']\n",
      "Accuracy: 65.80%\n",
      "Selected Feature Names: ['atr29', 'atr32', 'atr22', 'atr27', 'atr39', 'atr35', 'atr26', 'atr38', 'atr31', 'atr34', 'atr25', 'atr36', 'atr33', 'atr23']\n",
      "Accuracy: 66.67%\n",
      "Selected Feature Names: ['atr29', 'atr32', 'atr22', 'atr27', 'atr39', 'atr35', 'atr26', 'atr38', 'atr31', 'atr34', 'atr25', 'atr36', 'atr33', 'atr23', 'atr30']\n",
      "Accuracy: 64.94%\n",
      "Selected Feature Names: ['atr29', 'atr32', 'atr22', 'atr27', 'atr39', 'atr35', 'atr26', 'atr38', 'atr31', 'atr34', 'atr25', 'atr36', 'atr33', 'atr23', 'atr30', 'atr28']\n",
      "Accuracy: 67.10%\n",
      "Selected Feature Names: ['atr29', 'atr32', 'atr22', 'atr27', 'atr39', 'atr35', 'atr26', 'atr38', 'atr31', 'atr34', 'atr25', 'atr36', 'atr33', 'atr23', 'atr30', 'atr28', 'atr24']\n",
      "Accuracy: 67.10%\n",
      "Selected Feature Names: ['atr29', 'atr32', 'atr22', 'atr27', 'atr39', 'atr35', 'atr26', 'atr38', 'atr31', 'atr34', 'atr25', 'atr36', 'atr33', 'atr23', 'atr30', 'atr28', 'atr24', 'atr37']\n",
      "Accuracy: 69.70%\n",
      "Selected Feature Names: ['atr29', 'atr32', 'atr22', 'atr27', 'atr39', 'atr35', 'atr26', 'atr38', 'atr31', 'atr34', 'atr25', 'atr36', 'atr33', 'atr23', 'atr30', 'atr28', 'atr24', 'atr37', 'atr21']\n",
      "Accuracy: 67.97%\n",
      "Selected Feature Names: ['atr29', 'atr32', 'atr22', 'atr27', 'atr39', 'atr35', 'atr26', 'atr38', 'atr31', 'atr34', 'atr25', 'atr36', 'atr33', 'atr23', 'atr30', 'atr28', 'atr24', 'atr37', 'atr21', 'atr20']\n",
      "Accuracy: 66.23%\n"
     ]
    }
   ],
   "source": [
    "for i in dict(enumerate(regular_sentences)):\n",
    "    accuracy = model(regular_sentences, y, i+1)\n",
    "    print(\"Accuracy: %.2f%%\" % (accuracy * 100.0))"
   ]
  },
  {
   "cell_type": "markdown",
   "metadata": {},
   "source": [
    "## Reference-Based Predictor"
   ]
  },
  {
   "cell_type": "code",
   "execution_count": 17,
   "metadata": {},
   "outputs": [],
   "source": [
    "reference_based = data[['num_ref', 'num_ref_3years', 'arxiv', 'neurips', 'iclr', 'icml', 'aaai', 'iccv', 'cvpr', 'emnlp', 'acl', 'naacl', 'eccv', 'icra', 'icassp', 'ijcai', 'aistats', 'sigkdd', 'neuralcom', 'ieee_tran', 'acm_tran', 'mit_press', 'nature', 'jmlr']]"
   ]
  },
  {
   "cell_type": "code",
   "execution_count": 18,
   "metadata": {},
   "outputs": [
    {
     "data": {
      "application/vnd.plotly.v1+json": {
       "config": {
        "plotlyServerURL": "https://plot.ly"
       },
       "data": [
        {
         "text": [
          [
           1,
           0.5931710887531103,
           0.265704404080781,
           0.26843613319211385,
           0.5258681392383934,
           0.3676669676548666,
           0.2052832932154808,
           0.20182204398828404,
           0.23031682663972067,
           0.06802166647313242,
           0.1642017029500311,
           0.10831010914042966,
           0.19509951255274496,
           0.11073559497896053,
           0.09417365971686498,
           0.1723550189215785,
           0.10837262302188208,
           0.0949582550275623,
           0.1204437310326833,
           0.18444140832986522,
           0.08769032691666889,
           0.12197048916867512,
           0.0847601739398269,
           0.19772389433568718,
           0.10538121979178852
          ],
          [
           0.5931710887531103,
           1,
           0.33824597705285514,
           0.407667324154277,
           0.29730963175177755,
           0.19368895867121638,
           0.07870808324671155,
           0.18197832887411228,
           0.19520582242643314,
           0.13370733563360945,
           0.15071167623626872,
           0.11371226816731832,
           0.18836477590193743,
           0.0491430771633263,
           0.03386233385686375,
           0.08269051270983706,
           -0.0391878414519528,
           -0.033544714485890276,
           0.004848445674315652,
           -0.06245377469919642,
           -0.016775502752622944,
           -0.0274585426471833,
           -0.05364506559270743,
           -0.0973705375070272,
           0.14682312033665926
          ],
          [
           0.265704404080781,
           0.33824597705285514,
           1,
           -0.20022364348515623,
           0.08825073160265155,
           -0.05106653938709904,
           -0.022990438720543578,
           -0.055796449445229435,
           -0.028954882970610454,
           -0.054300351178951316,
           -0.04713810582319005,
           -0.05391124042644061,
           -0.015273067459933159,
           -0.01617455939362795,
           -0.03402397845724523,
           -0.04168668121343618,
           -0.06921017719061211,
           -0.01884475502219276,
           0.07645397529210014,
           -0.07987646748004439,
           -0.061665958571137304,
           0.09809886849721725,
           -0.02185454558676895,
           -0.06284917255231583,
           0.05337777689085857
          ],
          [
           0.26843613319211385,
           0.407667324154277,
           -0.20022364348515623,
           1,
           0.3183424634052641,
           0.3134845467728902,
           0.07097323423070963,
           0.0881922551252262,
           0.0935581341789943,
           0.0512204949594266,
           0.05166557481625454,
           0.038677546020278064,
           0.0773462084580853,
           -2.2293164943474142e-17,
           0.004681253276302388,
           0.07873868788882833,
           0.08667814025498174,
           -0.004641082580574283,
           -0.027272619676465583,
           -0.07999614228669027,
           -0.06469361229201934,
           -0.052295456256473756,
           -0.07956446109144763,
           -0.01094617342166554,
           0.10245605456903115
          ],
          [
           0.5258681392383934,
           0.29730963175177755,
           0.08825073160265155,
           0.3183424634052641,
           1,
           0.4497288394884007,
           0.13668013928012315,
           0.10732546993842601,
           0.04459737802546122,
           -0.055138767278353956,
           -0.07565209468157215,
           -0.06309505662113693,
           0.0467795930747456,
           0.042504062067682834,
           -0.030006717677152975,
           0.12726274433957693,
           0.18757952960068736,
           0.03914135446643132,
           0.08060396666399088,
           0.04379295119365255,
           -0.017585079306346108,
           0.0862401664143015,
           -0.0624416902537703,
           0.19721432405461017,
           0.045522602516995775
          ],
          [
           0.3676669676548666,
           0.19368895867121638,
           -0.05106653938709904,
           0.3134845467728902,
           0.4497288394884007,
           1,
           0.19803496630253237,
           -0.034224169331710956,
           -0.062994144815721,
           -0.11173519977808018,
           -0.09300950479475632,
           -0.07731684216471063,
           -0.07183894952998524,
           0.04730233030620316,
           -0.02009636919355832,
           0.17009598979060972,
           0.24625059784479986,
           0.03303749672112881,
           0.08358053772287007,
           0.003142291897925416,
           -0.04825517541268438,
           0.08602698208061416,
           -0.026344958119377055,
           0.2442484604251045,
           0.026210725596873558
          ],
          [
           0.2052832932154808,
           0.07870808324671155,
           -0.022990438720543578,
           0.07097323423070963,
           0.13668013928012315,
           0.19803496630253237,
           1,
           -0.0011140910494129108,
           -0.0025931698041540166,
           0.10593406877395585,
           0.13724197822613554,
           0.06834645790107861,
           -0.001410807502094207,
           0.1079984166175142,
           -0.051471434840339995,
           0.21057517501206086,
           0.028788913499895215,
           0.1019008302456907,
           -0.022421175981238398,
           -0.03313199179372967,
           -0.04454778054257095,
           0.05187448096181479,
           -0.015715355084261574,
           0.055826948597126724,
           -0.042860222295877805
          ],
          [
           0.20182204398828404,
           0.18197832887411228,
           -0.055796449445229435,
           0.0881922551252262,
           0.10732546993842601,
           -0.034224169331710956,
           -0.0011140910494129108,
           1,
           0.5853088453075103,
           -0.05066730069426479,
           -0.07585279220978414,
           -0.06680841868604369,
           0.5758506472624874,
           0.03897196268090992,
           -0.016957751008083,
           -0.03162273700080783,
           -0.05564777188446297,
           -0.03830711249413268,
           -0.07467113306814009,
           0.0985877912445872,
           0.06278065527620202,
           -0.09888580823565608,
           -0.09390588587745778,
           -0.07358570977978664,
           0.029927178472713478
          ],
          [
           0.23031682663972067,
           0.19520582242643314,
           -0.028954882970610454,
           0.0935581341789943,
           0.04459737802546122,
           -0.062994144815721,
           -0.0025931698041540166,
           0.5853088453075103,
           1,
           -0.0872818581087882,
           -0.09669885605182518,
           -0.07726452232861825,
           0.6203949315531533,
           0.04577379645406888,
           -0.021432751821693394,
           -0.03593583109423431,
           -0.08837451615114368,
           -0.04204376874302377,
           -0.08628302969431946,
           0.15786583905281665,
           0.09087638276291031,
           -0.09280358679771719,
           -0.10554529271085279,
           -0.07519883663192795,
           0.07581270170022827
          ],
          [
           0.06802166647313242,
           0.13370733563360945,
           -0.054300351178951316,
           0.0512204949594266,
           -0.055138767278353956,
           -0.11173519977808018,
           0.10593406877395585,
           -0.05066730069426479,
           -0.0872818581087882,
           1,
           0.6139576856802985,
           0.5406958504811656,
           -0.05392094436712403,
           -0.047909985813824774,
           0.014299121722935713,
           0.049051503891623695,
           0.006218163652319804,
           -0.003572399292913632,
           0.021526332340970303,
           -0.09833139664578974,
           -0.030898821398343004,
           -0.04166530040738349,
           -0.0765308480529277,
           -0.06230851422703308,
           0.04373968975293506
          ],
          [
           0.1642017029500311,
           0.15071167623626872,
           -0.04713810582319005,
           0.05166557481625454,
           -0.07565209468157215,
           -0.09300950479475632,
           0.13724197822613554,
           -0.07585279220978414,
           -0.09669885605182518,
           0.6139576856802985,
           1,
           0.7847964306507154,
           -0.0828683255413139,
           -0.06098266271394845,
           0.07984443898988312,
           0.08381125456216801,
           -0.010415256234539035,
           -0.0020161249538660944,
           0.008711638142479824,
           -0.0883448735430702,
           -0.024682595381707393,
           -0.04780444528504807,
           -0.09197624329121293,
           -0.05388519545241605,
           0.030180213571638588
          ],
          [
           0.10831010914042966,
           0.11371226816731832,
           -0.05391124042644061,
           0.038677546020278064,
           -0.06309505662113693,
           -0.07731684216471063,
           0.06834645790107861,
           -0.06680841868604369,
           -0.07726452232861825,
           0.5406958504811656,
           0.7847964306507154,
           1,
           -0.07104762458327418,
           -0.05149680290174658,
           0.049799679136989926,
           0.05722811421820263,
           0.004748691323312433,
           -0.0072244471992197485,
           0.015039889236553214,
           -0.09092950092616349,
           -0.023749861372196684,
           -0.05389831230020132,
           -0.08687847030268388,
           -0.03581369533003708,
           0.0336454464818921
          ],
          [
           0.19509951255274496,
           0.18836477590193743,
           -0.015273067459933159,
           0.0773462084580853,
           0.0467795930747456,
           -0.07183894952998524,
           -0.001410807502094207,
           0.5758506472624874,
           0.6203949315531533,
           -0.05392094436712403,
           -0.0828683255413139,
           -0.07104762458327418,
           1,
           0.06287528562804888,
           0.003710879371642591,
           -0.051447622343403096,
           -0.09327757556559127,
           -0.04348168495070877,
           -0.08251978732490034,
           0.06429498644183516,
           0.05972921425125344,
           -0.09067784198281775,
           -0.08305106805986907,
           -0.06353626720200486,
           0.061141496464050094
          ],
          [
           0.11073559497896053,
           0.0491430771633263,
           -0.01617455939362795,
           -2.2293164943474142e-17,
           0.042504062067682834,
           0.04730233030620316,
           0.1079984166175142,
           0.03897196268090992,
           0.04577379645406888,
           -0.047909985813824774,
           -0.06098266271394845,
           -0.05149680290174658,
           0.06287528562804888,
           1,
           -0.04866637989209283,
           0.09343339174248132,
           -0.001199052376813031,
           -0.04464933224300218,
           -0.029226265114549652,
           0.12720397733661723,
           0.029825418737529873,
           0.02667148001986341,
           0.012767052044509715,
           0.010335864266183806,
           0.018930924190678964
          ],
          [
           0.09417365971686498,
           0.03386233385686375,
           -0.03402397845724523,
           0.004681253276302388,
           -0.030006717677152975,
           -0.02009636919355832,
           -0.051471434840339995,
           -0.016957751008083,
           -0.021432751821693394,
           0.014299121722935713,
           0.07984443898988312,
           0.049799679136989926,
           0.003710879371642591,
           -0.04866637989209283,
           1,
           -0.004034262940735119,
           -0.002280659339236506,
           0.004256248045709414,
           0.03519414093536851,
           0.17952609592904925,
           0.024900160081783095,
           -0.04324768300096553,
           0.007144702254648136,
           -0.004298870812078466,
           0.048240154745194996
          ],
          [
           0.1723550189215785,
           0.08269051270983706,
           -0.04168668121343618,
           0.07873868788882833,
           0.12726274433957693,
           0.17009598979060972,
           0.21057517501206086,
           -0.03162273700080783,
           -0.03593583109423431,
           0.049051503891623695,
           0.08381125456216801,
           0.05722811421820263,
           -0.051447622343403096,
           0.09343339174248132,
           -0.004034262940735119,
           1,
           0.03026873085239373,
           0.0716849046584837,
           -0.003524602931072241,
           0.0025514195487727795,
           -0.01045739978765657,
           0.06863459833242981,
           0.0020393719092184214,
           0.0724521293384068,
           -0.021498873514361267
          ],
          [
           0.10837262302188208,
           -0.0391878414519528,
           -0.06921017719061211,
           0.08667814025498174,
           0.18757952960068736,
           0.24625059784479986,
           0.028788913499895215,
           -0.05564777188446297,
           -0.08837451615114368,
           0.006218163652319804,
           -0.010415256234539035,
           0.004748691323312433,
           -0.09327757556559127,
           -0.001199052376813031,
           -0.002280659339236506,
           0.03026873085239373,
           1,
           -0.019620961877851728,
           0.060666048534524175,
           0.003800414645965618,
           -0.007480614686924687,
           0.0192402940511004,
           -0.022335066177760713,
           0.19093948917114345,
           0.0013786791594768907
          ],
          [
           0.0949582550275623,
           -0.033544714485890276,
           -0.01884475502219276,
           -0.004641082580574283,
           0.03914135446643132,
           0.03303749672112881,
           0.1019008302456907,
           -0.03830711249413268,
           -0.04204376874302377,
           -0.003572399292913632,
           -0.0020161249538660944,
           -0.0072244471992197485,
           -0.04348168495070877,
           -0.04464933224300218,
           0.004256248045709414,
           0.0716849046584837,
           -0.019620961877851728,
           1,
           -0.037679044755255034,
           0.04992980212236608,
           0.011119172441599916,
           0.009931697215662698,
           -0.02379624311397978,
           0.10613363048179085,
           0.012705990486053705
          ],
          [
           0.1204437310326833,
           0.004848445674315652,
           0.07645397529210014,
           -0.027272619676465583,
           0.08060396666399088,
           0.08358053772287007,
           -0.022421175981238398,
           -0.07467113306814009,
           -0.08628302969431946,
           0.021526332340970303,
           0.008711638142479824,
           0.015039889236553214,
           -0.08251978732490034,
           -0.029226265114549652,
           0.03519414093536851,
           -0.003524602931072241,
           0.060666048534524175,
           -0.037679044755255034,
           1,
           -0.007196526217998298,
           -0.049944765704340456,
           0.018180357470537627,
           0.09731937408700651,
           0.06047461526958451,
           -0.024046336487317813
          ],
          [
           0.18444140832986522,
           -0.06245377469919642,
           -0.07987646748004439,
           -0.07999614228669027,
           0.04379295119365255,
           0.003142291897925416,
           -0.03313199179372967,
           0.0985877912445872,
           0.15786583905281665,
           -0.09833139664578974,
           -0.0883448735430702,
           -0.09092950092616349,
           0.06429498644183516,
           0.12720397733661723,
           0.17952609592904925,
           0.0025514195487727795,
           0.003800414645965618,
           0.04992980212236608,
           -0.007196526217998298,
           1,
           0.061976588117517696,
           -0.029670146397644863,
           -0.011116417374677702,
           0.12106621230520508,
           0.01035943421036042
          ],
          [
           0.08769032691666889,
           -0.016775502752622944,
           -0.061665958571137304,
           -0.06469361229201934,
           -0.017585079306346108,
           -0.04825517541268438,
           -0.04454778054257095,
           0.06278065527620202,
           0.09087638276291031,
           -0.030898821398343004,
           -0.024682595381707393,
           -0.023749861372196684,
           0.05972921425125344,
           0.029825418737529873,
           0.024900160081783095,
           -0.01045739978765657,
           -0.007480614686924687,
           0.011119172441599916,
           -0.049944765704340456,
           0.061976588117517696,
           1,
           -0.01939876039063142,
           -0.019595341325481175,
           -0.04545509671537463,
           -0.029874497005416764
          ],
          [
           0.12197048916867512,
           -0.0274585426471833,
           0.09809886849721725,
           -0.052295456256473756,
           0.0862401664143015,
           0.08602698208061416,
           0.05187448096181479,
           -0.09888580823565608,
           -0.09280358679771719,
           -0.04166530040738349,
           -0.04780444528504807,
           -0.05389831230020132,
           -0.09067784198281775,
           0.02667148001986341,
           -0.04324768300096553,
           0.06863459833242981,
           0.0192402940511004,
           0.009931697215662698,
           0.018180357470537627,
           -0.029670146397644863,
           -0.01939876039063142,
           1,
           0.11874803095451145,
           0.12690402718058197,
           0.020934576482454836
          ],
          [
           0.0847601739398269,
           -0.05364506559270743,
           -0.02185454558676895,
           -0.07956446109144763,
           -0.0624416902537703,
           -0.026344958119377055,
           -0.015715355084261574,
           -0.09390588587745778,
           -0.10554529271085279,
           -0.0765308480529277,
           -0.09197624329121293,
           -0.08687847030268388,
           -0.08305106805986907,
           0.012767052044509715,
           0.007144702254648136,
           0.0020393719092184214,
           -0.022335066177760713,
           -0.02379624311397978,
           0.09731937408700651,
           -0.011116417374677702,
           -0.019595341325481175,
           0.11874803095451145,
           1,
           0.027831073575361517,
           -0.03426782266477491
          ],
          [
           0.19772389433568718,
           -0.0973705375070272,
           -0.06284917255231583,
           -0.01094617342166554,
           0.19721432405461017,
           0.2442484604251045,
           0.055826948597126724,
           -0.07358570977978664,
           -0.07519883663192795,
           -0.06230851422703308,
           -0.05388519545241605,
           -0.03581369533003708,
           -0.06353626720200486,
           0.010335864266183806,
           -0.004298870812078466,
           0.0724521293384068,
           0.19093948917114345,
           0.10613363048179085,
           0.06047461526958451,
           0.12106621230520508,
           -0.04545509671537463,
           0.12690402718058197,
           0.027831073575361517,
           1,
           0.007375471900023054
          ],
          [
           0.10538121979178852,
           0.14682312033665926,
           0.05337777689085857,
           0.10245605456903115,
           0.045522602516995775,
           0.026210725596873558,
           -0.042860222295877805,
           0.029927178472713478,
           0.07581270170022827,
           0.04373968975293506,
           0.030180213571638588,
           0.0336454464818921,
           0.061141496464050094,
           0.018930924190678964,
           0.048240154745194996,
           -0.021498873514361267,
           0.0013786791594768907,
           0.012705990486053705,
           -0.024046336487317813,
           0.01035943421036042,
           -0.029874497005416764,
           0.020934576482454836,
           -0.03426782266477491,
           0.007375471900023054,
           1
          ]
         ],
         "texttemplate": "%{text:.2f}",
         "type": "heatmap",
         "x": [
          "num_ref",
          "num_ref_3years",
          "arxiv",
          "neurips",
          "iclr",
          "icml",
          "aaai",
          "iccv",
          "cvpr",
          "emnlp",
          "acl",
          "naacl",
          "eccv",
          "icra",
          "icassp",
          "ijcai",
          "aistats",
          "sigkdd",
          "neuralcom",
          "ieee_tran",
          "acm_tran",
          "mit_press",
          "nature",
          "jmlr",
          "substance"
         ],
         "y": [
          "num_ref",
          "num_ref_3years",
          "arxiv",
          "neurips",
          "iclr",
          "icml",
          "aaai",
          "iccv",
          "cvpr",
          "emnlp",
          "acl",
          "naacl",
          "eccv",
          "icra",
          "icassp",
          "ijcai",
          "aistats",
          "sigkdd",
          "neuralcom",
          "ieee_tran",
          "acm_tran",
          "mit_press",
          "nature",
          "jmlr",
          "substance"
         ],
         "z": [
          [
           1,
           0.5931710887531103,
           0.265704404080781,
           0.26843613319211385,
           0.5258681392383934,
           0.3676669676548666,
           0.2052832932154808,
           0.20182204398828404,
           0.23031682663972067,
           0.06802166647313242,
           0.1642017029500311,
           0.10831010914042966,
           0.19509951255274496,
           0.11073559497896053,
           0.09417365971686498,
           0.1723550189215785,
           0.10837262302188208,
           0.0949582550275623,
           0.1204437310326833,
           0.18444140832986522,
           0.08769032691666889,
           0.12197048916867512,
           0.0847601739398269,
           0.19772389433568718,
           0.10538121979178852
          ],
          [
           0.5931710887531103,
           1,
           0.33824597705285514,
           0.407667324154277,
           0.29730963175177755,
           0.19368895867121638,
           0.07870808324671155,
           0.18197832887411228,
           0.19520582242643314,
           0.13370733563360945,
           0.15071167623626872,
           0.11371226816731832,
           0.18836477590193743,
           0.0491430771633263,
           0.03386233385686375,
           0.08269051270983706,
           -0.0391878414519528,
           -0.033544714485890276,
           0.004848445674315652,
           -0.06245377469919642,
           -0.016775502752622944,
           -0.0274585426471833,
           -0.05364506559270743,
           -0.0973705375070272,
           0.14682312033665926
          ],
          [
           0.265704404080781,
           0.33824597705285514,
           1,
           -0.20022364348515623,
           0.08825073160265155,
           -0.05106653938709904,
           -0.022990438720543578,
           -0.055796449445229435,
           -0.028954882970610454,
           -0.054300351178951316,
           -0.04713810582319005,
           -0.05391124042644061,
           -0.015273067459933159,
           -0.01617455939362795,
           -0.03402397845724523,
           -0.04168668121343618,
           -0.06921017719061211,
           -0.01884475502219276,
           0.07645397529210014,
           -0.07987646748004439,
           -0.061665958571137304,
           0.09809886849721725,
           -0.02185454558676895,
           -0.06284917255231583,
           0.05337777689085857
          ],
          [
           0.26843613319211385,
           0.407667324154277,
           -0.20022364348515623,
           1,
           0.3183424634052641,
           0.3134845467728902,
           0.07097323423070963,
           0.0881922551252262,
           0.0935581341789943,
           0.0512204949594266,
           0.05166557481625454,
           0.038677546020278064,
           0.0773462084580853,
           -2.2293164943474142e-17,
           0.004681253276302388,
           0.07873868788882833,
           0.08667814025498174,
           -0.004641082580574283,
           -0.027272619676465583,
           -0.07999614228669027,
           -0.06469361229201934,
           -0.052295456256473756,
           -0.07956446109144763,
           -0.01094617342166554,
           0.10245605456903115
          ],
          [
           0.5258681392383934,
           0.29730963175177755,
           0.08825073160265155,
           0.3183424634052641,
           1,
           0.4497288394884007,
           0.13668013928012315,
           0.10732546993842601,
           0.04459737802546122,
           -0.055138767278353956,
           -0.07565209468157215,
           -0.06309505662113693,
           0.0467795930747456,
           0.042504062067682834,
           -0.030006717677152975,
           0.12726274433957693,
           0.18757952960068736,
           0.03914135446643132,
           0.08060396666399088,
           0.04379295119365255,
           -0.017585079306346108,
           0.0862401664143015,
           -0.0624416902537703,
           0.19721432405461017,
           0.045522602516995775
          ],
          [
           0.3676669676548666,
           0.19368895867121638,
           -0.05106653938709904,
           0.3134845467728902,
           0.4497288394884007,
           1,
           0.19803496630253237,
           -0.034224169331710956,
           -0.062994144815721,
           -0.11173519977808018,
           -0.09300950479475632,
           -0.07731684216471063,
           -0.07183894952998524,
           0.04730233030620316,
           -0.02009636919355832,
           0.17009598979060972,
           0.24625059784479986,
           0.03303749672112881,
           0.08358053772287007,
           0.003142291897925416,
           -0.04825517541268438,
           0.08602698208061416,
           -0.026344958119377055,
           0.2442484604251045,
           0.026210725596873558
          ],
          [
           0.2052832932154808,
           0.07870808324671155,
           -0.022990438720543578,
           0.07097323423070963,
           0.13668013928012315,
           0.19803496630253237,
           1,
           -0.0011140910494129108,
           -0.0025931698041540166,
           0.10593406877395585,
           0.13724197822613554,
           0.06834645790107861,
           -0.001410807502094207,
           0.1079984166175142,
           -0.051471434840339995,
           0.21057517501206086,
           0.028788913499895215,
           0.1019008302456907,
           -0.022421175981238398,
           -0.03313199179372967,
           -0.04454778054257095,
           0.05187448096181479,
           -0.015715355084261574,
           0.055826948597126724,
           -0.042860222295877805
          ],
          [
           0.20182204398828404,
           0.18197832887411228,
           -0.055796449445229435,
           0.0881922551252262,
           0.10732546993842601,
           -0.034224169331710956,
           -0.0011140910494129108,
           1,
           0.5853088453075103,
           -0.05066730069426479,
           -0.07585279220978414,
           -0.06680841868604369,
           0.5758506472624874,
           0.03897196268090992,
           -0.016957751008083,
           -0.03162273700080783,
           -0.05564777188446297,
           -0.03830711249413268,
           -0.07467113306814009,
           0.0985877912445872,
           0.06278065527620202,
           -0.09888580823565608,
           -0.09390588587745778,
           -0.07358570977978664,
           0.029927178472713478
          ],
          [
           0.23031682663972067,
           0.19520582242643314,
           -0.028954882970610454,
           0.0935581341789943,
           0.04459737802546122,
           -0.062994144815721,
           -0.0025931698041540166,
           0.5853088453075103,
           1,
           -0.0872818581087882,
           -0.09669885605182518,
           -0.07726452232861825,
           0.6203949315531533,
           0.04577379645406888,
           -0.021432751821693394,
           -0.03593583109423431,
           -0.08837451615114368,
           -0.04204376874302377,
           -0.08628302969431946,
           0.15786583905281665,
           0.09087638276291031,
           -0.09280358679771719,
           -0.10554529271085279,
           -0.07519883663192795,
           0.07581270170022827
          ],
          [
           0.06802166647313242,
           0.13370733563360945,
           -0.054300351178951316,
           0.0512204949594266,
           -0.055138767278353956,
           -0.11173519977808018,
           0.10593406877395585,
           -0.05066730069426479,
           -0.0872818581087882,
           1,
           0.6139576856802985,
           0.5406958504811656,
           -0.05392094436712403,
           -0.047909985813824774,
           0.014299121722935713,
           0.049051503891623695,
           0.006218163652319804,
           -0.003572399292913632,
           0.021526332340970303,
           -0.09833139664578974,
           -0.030898821398343004,
           -0.04166530040738349,
           -0.0765308480529277,
           -0.06230851422703308,
           0.04373968975293506
          ],
          [
           0.1642017029500311,
           0.15071167623626872,
           -0.04713810582319005,
           0.05166557481625454,
           -0.07565209468157215,
           -0.09300950479475632,
           0.13724197822613554,
           -0.07585279220978414,
           -0.09669885605182518,
           0.6139576856802985,
           1,
           0.7847964306507154,
           -0.0828683255413139,
           -0.06098266271394845,
           0.07984443898988312,
           0.08381125456216801,
           -0.010415256234539035,
           -0.0020161249538660944,
           0.008711638142479824,
           -0.0883448735430702,
           -0.024682595381707393,
           -0.04780444528504807,
           -0.09197624329121293,
           -0.05388519545241605,
           0.030180213571638588
          ],
          [
           0.10831010914042966,
           0.11371226816731832,
           -0.05391124042644061,
           0.038677546020278064,
           -0.06309505662113693,
           -0.07731684216471063,
           0.06834645790107861,
           -0.06680841868604369,
           -0.07726452232861825,
           0.5406958504811656,
           0.7847964306507154,
           1,
           -0.07104762458327418,
           -0.05149680290174658,
           0.049799679136989926,
           0.05722811421820263,
           0.004748691323312433,
           -0.0072244471992197485,
           0.015039889236553214,
           -0.09092950092616349,
           -0.023749861372196684,
           -0.05389831230020132,
           -0.08687847030268388,
           -0.03581369533003708,
           0.0336454464818921
          ],
          [
           0.19509951255274496,
           0.18836477590193743,
           -0.015273067459933159,
           0.0773462084580853,
           0.0467795930747456,
           -0.07183894952998524,
           -0.001410807502094207,
           0.5758506472624874,
           0.6203949315531533,
           -0.05392094436712403,
           -0.0828683255413139,
           -0.07104762458327418,
           1,
           0.06287528562804888,
           0.003710879371642591,
           -0.051447622343403096,
           -0.09327757556559127,
           -0.04348168495070877,
           -0.08251978732490034,
           0.06429498644183516,
           0.05972921425125344,
           -0.09067784198281775,
           -0.08305106805986907,
           -0.06353626720200486,
           0.061141496464050094
          ],
          [
           0.11073559497896053,
           0.0491430771633263,
           -0.01617455939362795,
           -2.2293164943474142e-17,
           0.042504062067682834,
           0.04730233030620316,
           0.1079984166175142,
           0.03897196268090992,
           0.04577379645406888,
           -0.047909985813824774,
           -0.06098266271394845,
           -0.05149680290174658,
           0.06287528562804888,
           1,
           -0.04866637989209283,
           0.09343339174248132,
           -0.001199052376813031,
           -0.04464933224300218,
           -0.029226265114549652,
           0.12720397733661723,
           0.029825418737529873,
           0.02667148001986341,
           0.012767052044509715,
           0.010335864266183806,
           0.018930924190678964
          ],
          [
           0.09417365971686498,
           0.03386233385686375,
           -0.03402397845724523,
           0.004681253276302388,
           -0.030006717677152975,
           -0.02009636919355832,
           -0.051471434840339995,
           -0.016957751008083,
           -0.021432751821693394,
           0.014299121722935713,
           0.07984443898988312,
           0.049799679136989926,
           0.003710879371642591,
           -0.04866637989209283,
           1,
           -0.004034262940735119,
           -0.002280659339236506,
           0.004256248045709414,
           0.03519414093536851,
           0.17952609592904925,
           0.024900160081783095,
           -0.04324768300096553,
           0.007144702254648136,
           -0.004298870812078466,
           0.048240154745194996
          ],
          [
           0.1723550189215785,
           0.08269051270983706,
           -0.04168668121343618,
           0.07873868788882833,
           0.12726274433957693,
           0.17009598979060972,
           0.21057517501206086,
           -0.03162273700080783,
           -0.03593583109423431,
           0.049051503891623695,
           0.08381125456216801,
           0.05722811421820263,
           -0.051447622343403096,
           0.09343339174248132,
           -0.004034262940735119,
           1,
           0.03026873085239373,
           0.0716849046584837,
           -0.003524602931072241,
           0.0025514195487727795,
           -0.01045739978765657,
           0.06863459833242981,
           0.0020393719092184214,
           0.0724521293384068,
           -0.021498873514361267
          ],
          [
           0.10837262302188208,
           -0.0391878414519528,
           -0.06921017719061211,
           0.08667814025498174,
           0.18757952960068736,
           0.24625059784479986,
           0.028788913499895215,
           -0.05564777188446297,
           -0.08837451615114368,
           0.006218163652319804,
           -0.010415256234539035,
           0.004748691323312433,
           -0.09327757556559127,
           -0.001199052376813031,
           -0.002280659339236506,
           0.03026873085239373,
           1,
           -0.019620961877851728,
           0.060666048534524175,
           0.003800414645965618,
           -0.007480614686924687,
           0.0192402940511004,
           -0.022335066177760713,
           0.19093948917114345,
           0.0013786791594768907
          ],
          [
           0.0949582550275623,
           -0.033544714485890276,
           -0.01884475502219276,
           -0.004641082580574283,
           0.03914135446643132,
           0.03303749672112881,
           0.1019008302456907,
           -0.03830711249413268,
           -0.04204376874302377,
           -0.003572399292913632,
           -0.0020161249538660944,
           -0.0072244471992197485,
           -0.04348168495070877,
           -0.04464933224300218,
           0.004256248045709414,
           0.0716849046584837,
           -0.019620961877851728,
           1,
           -0.037679044755255034,
           0.04992980212236608,
           0.011119172441599916,
           0.009931697215662698,
           -0.02379624311397978,
           0.10613363048179085,
           0.012705990486053705
          ],
          [
           0.1204437310326833,
           0.004848445674315652,
           0.07645397529210014,
           -0.027272619676465583,
           0.08060396666399088,
           0.08358053772287007,
           -0.022421175981238398,
           -0.07467113306814009,
           -0.08628302969431946,
           0.021526332340970303,
           0.008711638142479824,
           0.015039889236553214,
           -0.08251978732490034,
           -0.029226265114549652,
           0.03519414093536851,
           -0.003524602931072241,
           0.060666048534524175,
           -0.037679044755255034,
           1,
           -0.007196526217998298,
           -0.049944765704340456,
           0.018180357470537627,
           0.09731937408700651,
           0.06047461526958451,
           -0.024046336487317813
          ],
          [
           0.18444140832986522,
           -0.06245377469919642,
           -0.07987646748004439,
           -0.07999614228669027,
           0.04379295119365255,
           0.003142291897925416,
           -0.03313199179372967,
           0.0985877912445872,
           0.15786583905281665,
           -0.09833139664578974,
           -0.0883448735430702,
           -0.09092950092616349,
           0.06429498644183516,
           0.12720397733661723,
           0.17952609592904925,
           0.0025514195487727795,
           0.003800414645965618,
           0.04992980212236608,
           -0.007196526217998298,
           1,
           0.061976588117517696,
           -0.029670146397644863,
           -0.011116417374677702,
           0.12106621230520508,
           0.01035943421036042
          ],
          [
           0.08769032691666889,
           -0.016775502752622944,
           -0.061665958571137304,
           -0.06469361229201934,
           -0.017585079306346108,
           -0.04825517541268438,
           -0.04454778054257095,
           0.06278065527620202,
           0.09087638276291031,
           -0.030898821398343004,
           -0.024682595381707393,
           -0.023749861372196684,
           0.05972921425125344,
           0.029825418737529873,
           0.024900160081783095,
           -0.01045739978765657,
           -0.007480614686924687,
           0.011119172441599916,
           -0.049944765704340456,
           0.061976588117517696,
           1,
           -0.01939876039063142,
           -0.019595341325481175,
           -0.04545509671537463,
           -0.029874497005416764
          ],
          [
           0.12197048916867512,
           -0.0274585426471833,
           0.09809886849721725,
           -0.052295456256473756,
           0.0862401664143015,
           0.08602698208061416,
           0.05187448096181479,
           -0.09888580823565608,
           -0.09280358679771719,
           -0.04166530040738349,
           -0.04780444528504807,
           -0.05389831230020132,
           -0.09067784198281775,
           0.02667148001986341,
           -0.04324768300096553,
           0.06863459833242981,
           0.0192402940511004,
           0.009931697215662698,
           0.018180357470537627,
           -0.029670146397644863,
           -0.01939876039063142,
           1,
           0.11874803095451145,
           0.12690402718058197,
           0.020934576482454836
          ],
          [
           0.0847601739398269,
           -0.05364506559270743,
           -0.02185454558676895,
           -0.07956446109144763,
           -0.0624416902537703,
           -0.026344958119377055,
           -0.015715355084261574,
           -0.09390588587745778,
           -0.10554529271085279,
           -0.0765308480529277,
           -0.09197624329121293,
           -0.08687847030268388,
           -0.08305106805986907,
           0.012767052044509715,
           0.007144702254648136,
           0.0020393719092184214,
           -0.022335066177760713,
           -0.02379624311397978,
           0.09731937408700651,
           -0.011116417374677702,
           -0.019595341325481175,
           0.11874803095451145,
           1,
           0.027831073575361517,
           -0.03426782266477491
          ],
          [
           0.19772389433568718,
           -0.0973705375070272,
           -0.06284917255231583,
           -0.01094617342166554,
           0.19721432405461017,
           0.2442484604251045,
           0.055826948597126724,
           -0.07358570977978664,
           -0.07519883663192795,
           -0.06230851422703308,
           -0.05388519545241605,
           -0.03581369533003708,
           -0.06353626720200486,
           0.010335864266183806,
           -0.004298870812078466,
           0.0724521293384068,
           0.19093948917114345,
           0.10613363048179085,
           0.06047461526958451,
           0.12106621230520508,
           -0.04545509671537463,
           0.12690402718058197,
           0.027831073575361517,
           1,
           0.007375471900023054
          ],
          [
           0.10538121979178852,
           0.14682312033665926,
           0.05337777689085857,
           0.10245605456903115,
           0.045522602516995775,
           0.026210725596873558,
           -0.042860222295877805,
           0.029927178472713478,
           0.07581270170022827,
           0.04373968975293506,
           0.030180213571638588,
           0.0336454464818921,
           0.061141496464050094,
           0.018930924190678964,
           0.048240154745194996,
           -0.021498873514361267,
           0.0013786791594768907,
           0.012705990486053705,
           -0.024046336487317813,
           0.01035943421036042,
           -0.029874497005416764,
           0.020934576482454836,
           -0.03426782266477491,
           0.007375471900023054,
           1
          ]
         ]
        }
       ],
       "layout": {
        "template": {
         "data": {
          "bar": [
           {
            "error_x": {
             "color": "#2a3f5f"
            },
            "error_y": {
             "color": "#2a3f5f"
            },
            "marker": {
             "line": {
              "color": "#E5ECF6",
              "width": 0.5
             },
             "pattern": {
              "fillmode": "overlay",
              "size": 10,
              "solidity": 0.2
             }
            },
            "type": "bar"
           }
          ],
          "barpolar": [
           {
            "marker": {
             "line": {
              "color": "#E5ECF6",
              "width": 0.5
             },
             "pattern": {
              "fillmode": "overlay",
              "size": 10,
              "solidity": 0.2
             }
            },
            "type": "barpolar"
           }
          ],
          "carpet": [
           {
            "aaxis": {
             "endlinecolor": "#2a3f5f",
             "gridcolor": "white",
             "linecolor": "white",
             "minorgridcolor": "white",
             "startlinecolor": "#2a3f5f"
            },
            "baxis": {
             "endlinecolor": "#2a3f5f",
             "gridcolor": "white",
             "linecolor": "white",
             "minorgridcolor": "white",
             "startlinecolor": "#2a3f5f"
            },
            "type": "carpet"
           }
          ],
          "choropleth": [
           {
            "colorbar": {
             "outlinewidth": 0,
             "ticks": ""
            },
            "type": "choropleth"
           }
          ],
          "contour": [
           {
            "colorbar": {
             "outlinewidth": 0,
             "ticks": ""
            },
            "colorscale": [
             [
              0,
              "#0d0887"
             ],
             [
              0.1111111111111111,
              "#46039f"
             ],
             [
              0.2222222222222222,
              "#7201a8"
             ],
             [
              0.3333333333333333,
              "#9c179e"
             ],
             [
              0.4444444444444444,
              "#bd3786"
             ],
             [
              0.5555555555555556,
              "#d8576b"
             ],
             [
              0.6666666666666666,
              "#ed7953"
             ],
             [
              0.7777777777777778,
              "#fb9f3a"
             ],
             [
              0.8888888888888888,
              "#fdca26"
             ],
             [
              1,
              "#f0f921"
             ]
            ],
            "type": "contour"
           }
          ],
          "contourcarpet": [
           {
            "colorbar": {
             "outlinewidth": 0,
             "ticks": ""
            },
            "type": "contourcarpet"
           }
          ],
          "heatmap": [
           {
            "colorbar": {
             "outlinewidth": 0,
             "ticks": ""
            },
            "colorscale": [
             [
              0,
              "#0d0887"
             ],
             [
              0.1111111111111111,
              "#46039f"
             ],
             [
              0.2222222222222222,
              "#7201a8"
             ],
             [
              0.3333333333333333,
              "#9c179e"
             ],
             [
              0.4444444444444444,
              "#bd3786"
             ],
             [
              0.5555555555555556,
              "#d8576b"
             ],
             [
              0.6666666666666666,
              "#ed7953"
             ],
             [
              0.7777777777777778,
              "#fb9f3a"
             ],
             [
              0.8888888888888888,
              "#fdca26"
             ],
             [
              1,
              "#f0f921"
             ]
            ],
            "type": "heatmap"
           }
          ],
          "heatmapgl": [
           {
            "colorbar": {
             "outlinewidth": 0,
             "ticks": ""
            },
            "colorscale": [
             [
              0,
              "#0d0887"
             ],
             [
              0.1111111111111111,
              "#46039f"
             ],
             [
              0.2222222222222222,
              "#7201a8"
             ],
             [
              0.3333333333333333,
              "#9c179e"
             ],
             [
              0.4444444444444444,
              "#bd3786"
             ],
             [
              0.5555555555555556,
              "#d8576b"
             ],
             [
              0.6666666666666666,
              "#ed7953"
             ],
             [
              0.7777777777777778,
              "#fb9f3a"
             ],
             [
              0.8888888888888888,
              "#fdca26"
             ],
             [
              1,
              "#f0f921"
             ]
            ],
            "type": "heatmapgl"
           }
          ],
          "histogram": [
           {
            "marker": {
             "pattern": {
              "fillmode": "overlay",
              "size": 10,
              "solidity": 0.2
             }
            },
            "type": "histogram"
           }
          ],
          "histogram2d": [
           {
            "colorbar": {
             "outlinewidth": 0,
             "ticks": ""
            },
            "colorscale": [
             [
              0,
              "#0d0887"
             ],
             [
              0.1111111111111111,
              "#46039f"
             ],
             [
              0.2222222222222222,
              "#7201a8"
             ],
             [
              0.3333333333333333,
              "#9c179e"
             ],
             [
              0.4444444444444444,
              "#bd3786"
             ],
             [
              0.5555555555555556,
              "#d8576b"
             ],
             [
              0.6666666666666666,
              "#ed7953"
             ],
             [
              0.7777777777777778,
              "#fb9f3a"
             ],
             [
              0.8888888888888888,
              "#fdca26"
             ],
             [
              1,
              "#f0f921"
             ]
            ],
            "type": "histogram2d"
           }
          ],
          "histogram2dcontour": [
           {
            "colorbar": {
             "outlinewidth": 0,
             "ticks": ""
            },
            "colorscale": [
             [
              0,
              "#0d0887"
             ],
             [
              0.1111111111111111,
              "#46039f"
             ],
             [
              0.2222222222222222,
              "#7201a8"
             ],
             [
              0.3333333333333333,
              "#9c179e"
             ],
             [
              0.4444444444444444,
              "#bd3786"
             ],
             [
              0.5555555555555556,
              "#d8576b"
             ],
             [
              0.6666666666666666,
              "#ed7953"
             ],
             [
              0.7777777777777778,
              "#fb9f3a"
             ],
             [
              0.8888888888888888,
              "#fdca26"
             ],
             [
              1,
              "#f0f921"
             ]
            ],
            "type": "histogram2dcontour"
           }
          ],
          "mesh3d": [
           {
            "colorbar": {
             "outlinewidth": 0,
             "ticks": ""
            },
            "type": "mesh3d"
           }
          ],
          "parcoords": [
           {
            "line": {
             "colorbar": {
              "outlinewidth": 0,
              "ticks": ""
             }
            },
            "type": "parcoords"
           }
          ],
          "pie": [
           {
            "automargin": true,
            "type": "pie"
           }
          ],
          "scatter": [
           {
            "fillpattern": {
             "fillmode": "overlay",
             "size": 10,
             "solidity": 0.2
            },
            "type": "scatter"
           }
          ],
          "scatter3d": [
           {
            "line": {
             "colorbar": {
              "outlinewidth": 0,
              "ticks": ""
             }
            },
            "marker": {
             "colorbar": {
              "outlinewidth": 0,
              "ticks": ""
             }
            },
            "type": "scatter3d"
           }
          ],
          "scattercarpet": [
           {
            "marker": {
             "colorbar": {
              "outlinewidth": 0,
              "ticks": ""
             }
            },
            "type": "scattercarpet"
           }
          ],
          "scattergeo": [
           {
            "marker": {
             "colorbar": {
              "outlinewidth": 0,
              "ticks": ""
             }
            },
            "type": "scattergeo"
           }
          ],
          "scattergl": [
           {
            "marker": {
             "colorbar": {
              "outlinewidth": 0,
              "ticks": ""
             }
            },
            "type": "scattergl"
           }
          ],
          "scattermapbox": [
           {
            "marker": {
             "colorbar": {
              "outlinewidth": 0,
              "ticks": ""
             }
            },
            "type": "scattermapbox"
           }
          ],
          "scatterpolar": [
           {
            "marker": {
             "colorbar": {
              "outlinewidth": 0,
              "ticks": ""
             }
            },
            "type": "scatterpolar"
           }
          ],
          "scatterpolargl": [
           {
            "marker": {
             "colorbar": {
              "outlinewidth": 0,
              "ticks": ""
             }
            },
            "type": "scatterpolargl"
           }
          ],
          "scatterternary": [
           {
            "marker": {
             "colorbar": {
              "outlinewidth": 0,
              "ticks": ""
             }
            },
            "type": "scatterternary"
           }
          ],
          "surface": [
           {
            "colorbar": {
             "outlinewidth": 0,
             "ticks": ""
            },
            "colorscale": [
             [
              0,
              "#0d0887"
             ],
             [
              0.1111111111111111,
              "#46039f"
             ],
             [
              0.2222222222222222,
              "#7201a8"
             ],
             [
              0.3333333333333333,
              "#9c179e"
             ],
             [
              0.4444444444444444,
              "#bd3786"
             ],
             [
              0.5555555555555556,
              "#d8576b"
             ],
             [
              0.6666666666666666,
              "#ed7953"
             ],
             [
              0.7777777777777778,
              "#fb9f3a"
             ],
             [
              0.8888888888888888,
              "#fdca26"
             ],
             [
              1,
              "#f0f921"
             ]
            ],
            "type": "surface"
           }
          ],
          "table": [
           {
            "cells": {
             "fill": {
              "color": "#EBF0F8"
             },
             "line": {
              "color": "white"
             }
            },
            "header": {
             "fill": {
              "color": "#C8D4E3"
             },
             "line": {
              "color": "white"
             }
            },
            "type": "table"
           }
          ]
         },
         "layout": {
          "annotationdefaults": {
           "arrowcolor": "#2a3f5f",
           "arrowhead": 0,
           "arrowwidth": 1
          },
          "autotypenumbers": "strict",
          "coloraxis": {
           "colorbar": {
            "outlinewidth": 0,
            "ticks": ""
           }
          },
          "colorscale": {
           "diverging": [
            [
             0,
             "#8e0152"
            ],
            [
             0.1,
             "#c51b7d"
            ],
            [
             0.2,
             "#de77ae"
            ],
            [
             0.3,
             "#f1b6da"
            ],
            [
             0.4,
             "#fde0ef"
            ],
            [
             0.5,
             "#f7f7f7"
            ],
            [
             0.6,
             "#e6f5d0"
            ],
            [
             0.7,
             "#b8e186"
            ],
            [
             0.8,
             "#7fbc41"
            ],
            [
             0.9,
             "#4d9221"
            ],
            [
             1,
             "#276419"
            ]
           ],
           "sequential": [
            [
             0,
             "#0d0887"
            ],
            [
             0.1111111111111111,
             "#46039f"
            ],
            [
             0.2222222222222222,
             "#7201a8"
            ],
            [
             0.3333333333333333,
             "#9c179e"
            ],
            [
             0.4444444444444444,
             "#bd3786"
            ],
            [
             0.5555555555555556,
             "#d8576b"
            ],
            [
             0.6666666666666666,
             "#ed7953"
            ],
            [
             0.7777777777777778,
             "#fb9f3a"
            ],
            [
             0.8888888888888888,
             "#fdca26"
            ],
            [
             1,
             "#f0f921"
            ]
           ],
           "sequentialminus": [
            [
             0,
             "#0d0887"
            ],
            [
             0.1111111111111111,
             "#46039f"
            ],
            [
             0.2222222222222222,
             "#7201a8"
            ],
            [
             0.3333333333333333,
             "#9c179e"
            ],
            [
             0.4444444444444444,
             "#bd3786"
            ],
            [
             0.5555555555555556,
             "#d8576b"
            ],
            [
             0.6666666666666666,
             "#ed7953"
            ],
            [
             0.7777777777777778,
             "#fb9f3a"
            ],
            [
             0.8888888888888888,
             "#fdca26"
            ],
            [
             1,
             "#f0f921"
            ]
           ]
          },
          "colorway": [
           "#636efa",
           "#EF553B",
           "#00cc96",
           "#ab63fa",
           "#FFA15A",
           "#19d3f3",
           "#FF6692",
           "#B6E880",
           "#FF97FF",
           "#FECB52"
          ],
          "font": {
           "color": "#2a3f5f"
          },
          "geo": {
           "bgcolor": "white",
           "lakecolor": "white",
           "landcolor": "#E5ECF6",
           "showlakes": true,
           "showland": true,
           "subunitcolor": "white"
          },
          "hoverlabel": {
           "align": "left"
          },
          "hovermode": "closest",
          "mapbox": {
           "style": "light"
          },
          "paper_bgcolor": "white",
          "plot_bgcolor": "#E5ECF6",
          "polar": {
           "angularaxis": {
            "gridcolor": "white",
            "linecolor": "white",
            "ticks": ""
           },
           "bgcolor": "#E5ECF6",
           "radialaxis": {
            "gridcolor": "white",
            "linecolor": "white",
            "ticks": ""
           }
          },
          "scene": {
           "xaxis": {
            "backgroundcolor": "#E5ECF6",
            "gridcolor": "white",
            "gridwidth": 2,
            "linecolor": "white",
            "showbackground": true,
            "ticks": "",
            "zerolinecolor": "white"
           },
           "yaxis": {
            "backgroundcolor": "#E5ECF6",
            "gridcolor": "white",
            "gridwidth": 2,
            "linecolor": "white",
            "showbackground": true,
            "ticks": "",
            "zerolinecolor": "white"
           },
           "zaxis": {
            "backgroundcolor": "#E5ECF6",
            "gridcolor": "white",
            "gridwidth": 2,
            "linecolor": "white",
            "showbackground": true,
            "ticks": "",
            "zerolinecolor": "white"
           }
          },
          "shapedefaults": {
           "line": {
            "color": "#2a3f5f"
           }
          },
          "ternary": {
           "aaxis": {
            "gridcolor": "white",
            "linecolor": "white",
            "ticks": ""
           },
           "baxis": {
            "gridcolor": "white",
            "linecolor": "white",
            "ticks": ""
           },
           "bgcolor": "#E5ECF6",
           "caxis": {
            "gridcolor": "white",
            "linecolor": "white",
            "ticks": ""
           }
          },
          "title": {
           "x": 0.05
          },
          "xaxis": {
           "automargin": true,
           "gridcolor": "white",
           "linecolor": "white",
           "ticks": "",
           "title": {
            "standoff": 15
           },
           "zerolinecolor": "white",
           "zerolinewidth": 2
          },
          "yaxis": {
           "automargin": true,
           "gridcolor": "white",
           "linecolor": "white",
           "ticks": "",
           "title": {
            "standoff": 15
           },
           "zerolinecolor": "white",
           "zerolinewidth": 2
          }
         }
        }
       }
      }
     },
     "metadata": {},
     "output_type": "display_data"
    }
   ],
   "source": [
    "dataframe = reference_based.join([y])\n",
    "correlation_matrix(dataframe)"
   ]
  },
  {
   "cell_type": "code",
   "execution_count": 19,
   "metadata": {},
   "outputs": [
    {
     "name": "stdout",
     "output_type": "stream",
     "text": [
      "Selected Feature Names: ['num_ref_3years']\n",
      "Accuracy: 70.56%\n",
      "Selected Feature Names: ['num_ref_3years', 'num_ref']\n",
      "Accuracy: 65.80%\n",
      "Selected Feature Names: ['num_ref_3years', 'num_ref', 'neurips']\n",
      "Accuracy: 64.94%\n",
      "Selected Feature Names: ['num_ref_3years', 'num_ref', 'neurips', 'cvpr']\n",
      "Accuracy: 64.07%\n",
      "Selected Feature Names: ['num_ref_3years', 'num_ref', 'neurips', 'cvpr', 'arxiv']\n",
      "Accuracy: 65.80%\n",
      "Selected Feature Names: ['num_ref_3years', 'num_ref', 'neurips', 'cvpr', 'arxiv', 'eccv']\n",
      "Accuracy: 63.64%\n",
      "Selected Feature Names: ['num_ref_3years', 'num_ref', 'neurips', 'cvpr', 'arxiv', 'eccv', 'emnlp']\n",
      "Accuracy: 61.47%\n",
      "Selected Feature Names: ['num_ref_3years', 'num_ref', 'neurips', 'cvpr', 'arxiv', 'eccv', 'emnlp', 'acl']\n",
      "Accuracy: 60.61%\n",
      "Selected Feature Names: ['num_ref_3years', 'num_ref', 'neurips', 'cvpr', 'arxiv', 'eccv', 'emnlp', 'acl', 'icassp']\n",
      "Accuracy: 64.94%\n",
      "Selected Feature Names: ['num_ref_3years', 'num_ref', 'neurips', 'cvpr', 'arxiv', 'eccv', 'emnlp', 'acl', 'icassp', 'acm_tran']\n",
      "Accuracy: 64.07%\n",
      "Selected Feature Names: ['num_ref_3years', 'num_ref', 'neurips', 'cvpr', 'arxiv', 'eccv', 'emnlp', 'acl', 'icassp', 'acm_tran', 'iclr']\n",
      "Accuracy: 67.53%\n",
      "Selected Feature Names: ['num_ref_3years', 'num_ref', 'neurips', 'cvpr', 'arxiv', 'eccv', 'emnlp', 'acl', 'icassp', 'acm_tran', 'iclr', 'aaai']\n",
      "Accuracy: 65.80%\n",
      "Selected Feature Names: ['num_ref_3years', 'num_ref', 'neurips', 'cvpr', 'arxiv', 'eccv', 'emnlp', 'acl', 'icassp', 'acm_tran', 'iclr', 'aaai', 'nature']\n",
      "Accuracy: 67.97%\n",
      "Selected Feature Names: ['num_ref_3years', 'num_ref', 'neurips', 'cvpr', 'arxiv', 'eccv', 'emnlp', 'acl', 'icassp', 'acm_tran', 'iclr', 'aaai', 'nature', 'naacl']\n",
      "Accuracy: 64.07%\n",
      "Selected Feature Names: ['num_ref_3years', 'num_ref', 'neurips', 'cvpr', 'arxiv', 'eccv', 'emnlp', 'acl', 'icassp', 'acm_tran', 'iclr', 'aaai', 'nature', 'naacl', 'iccv']\n",
      "Accuracy: 67.10%\n",
      "Selected Feature Names: ['num_ref_3years', 'num_ref', 'neurips', 'cvpr', 'arxiv', 'eccv', 'emnlp', 'acl', 'icassp', 'acm_tran', 'iclr', 'aaai', 'nature', 'naacl', 'iccv', 'icml']\n",
      "Accuracy: 64.94%\n",
      "Selected Feature Names: ['num_ref_3years', 'num_ref', 'neurips', 'cvpr', 'arxiv', 'eccv', 'emnlp', 'acl', 'icassp', 'acm_tran', 'iclr', 'aaai', 'nature', 'naacl', 'iccv', 'icml', 'icra']\n",
      "Accuracy: 66.67%\n",
      "Selected Feature Names: ['num_ref_3years', 'num_ref', 'neurips', 'cvpr', 'arxiv', 'eccv', 'emnlp', 'acl', 'icassp', 'acm_tran', 'iclr', 'aaai', 'nature', 'naacl', 'iccv', 'icml', 'icra', 'neuralcom']\n",
      "Accuracy: 68.40%\n",
      "Selected Feature Names: ['num_ref_3years', 'num_ref', 'neurips', 'cvpr', 'arxiv', 'eccv', 'emnlp', 'acl', 'icassp', 'acm_tran', 'iclr', 'aaai', 'nature', 'naacl', 'iccv', 'icml', 'icra', 'neuralcom', 'ijcai']\n",
      "Accuracy: 65.80%\n",
      "Selected Feature Names: ['num_ref_3years', 'num_ref', 'neurips', 'cvpr', 'arxiv', 'eccv', 'emnlp', 'acl', 'icassp', 'acm_tran', 'iclr', 'aaai', 'nature', 'naacl', 'iccv', 'icml', 'icra', 'neuralcom', 'ijcai', 'mit_press']\n",
      "Accuracy: 67.10%\n",
      "Selected Feature Names: ['num_ref_3years', 'num_ref', 'neurips', 'cvpr', 'arxiv', 'eccv', 'emnlp', 'acl', 'icassp', 'acm_tran', 'iclr', 'aaai', 'nature', 'naacl', 'iccv', 'icml', 'icra', 'neuralcom', 'ijcai', 'mit_press', 'sigkdd']\n",
      "Accuracy: 64.94%\n",
      "Selected Feature Names: ['num_ref_3years', 'num_ref', 'neurips', 'cvpr', 'arxiv', 'eccv', 'emnlp', 'acl', 'icassp', 'acm_tran', 'iclr', 'aaai', 'nature', 'naacl', 'iccv', 'icml', 'icra', 'neuralcom', 'ijcai', 'mit_press', 'sigkdd', 'ieee_tran']\n",
      "Accuracy: 64.07%\n",
      "Selected Feature Names: ['num_ref_3years', 'num_ref', 'neurips', 'cvpr', 'arxiv', 'eccv', 'emnlp', 'acl', 'icassp', 'acm_tran', 'iclr', 'aaai', 'nature', 'naacl', 'iccv', 'icml', 'icra', 'neuralcom', 'ijcai', 'mit_press', 'sigkdd', 'ieee_tran', 'jmlr']\n",
      "Accuracy: 67.53%\n",
      "Selected Feature Names: ['num_ref_3years', 'num_ref', 'neurips', 'cvpr', 'arxiv', 'eccv', 'emnlp', 'acl', 'icassp', 'acm_tran', 'iclr', 'aaai', 'nature', 'naacl', 'iccv', 'icml', 'icra', 'neuralcom', 'ijcai', 'mit_press', 'sigkdd', 'ieee_tran', 'jmlr', 'aistats']\n",
      "Accuracy: 66.23%\n"
     ]
    }
   ],
   "source": [
    "for i in dict(enumerate(reference_based)):\n",
    "    accuracy = model(reference_based, y, i+1)\n",
    "    print(\"Accuracy: %.2f%%\" % (accuracy * 100.0))"
   ]
  },
  {
   "cell_type": "markdown",
   "metadata": {},
   "source": [
    "## Combination Predictor"
   ]
  },
  {
   "cell_type": "code",
   "execution_count": 20,
   "metadata": {},
   "outputs": [],
   "source": [
    "combination = citing_sentence.join([regular_sentences, reference_based])"
   ]
  },
  {
   "cell_type": "code",
   "execution_count": 21,
   "metadata": {},
   "outputs": [
    {
     "name": "stdout",
     "output_type": "stream",
     "text": [
      "Selected Feature Names: ['num_ref_3years']\n",
      "Accuracy: 70.56%\n",
      "Selected Feature Names: ['num_ref_3years', 'atr19']\n",
      "Accuracy: 61.04%\n",
      "Selected Feature Names: ['num_ref_3years', 'atr19', 'num_ref']\n",
      "Accuracy: 63.64%\n",
      "Selected Feature Names: ['num_ref_3years', 'atr19', 'num_ref', 'neurips']\n",
      "Accuracy: 61.90%\n",
      "Selected Feature Names: ['num_ref_3years', 'atr19', 'num_ref', 'neurips', 'cvpr']\n",
      "Accuracy: 63.20%\n",
      "Selected Feature Names: ['num_ref_3years', 'atr19', 'num_ref', 'neurips', 'cvpr', 'atr29']\n",
      "Accuracy: 64.07%\n",
      "Selected Feature Names: ['num_ref_3years', 'atr19', 'num_ref', 'neurips', 'cvpr', 'atr29', 'atr6']\n",
      "Accuracy: 64.50%\n",
      "Selected Feature Names: ['num_ref_3years', 'atr19', 'num_ref', 'neurips', 'cvpr', 'atr29', 'atr6', 'atr32']\n",
      "Accuracy: 61.90%\n",
      "Selected Feature Names: ['num_ref_3years', 'atr19', 'num_ref', 'neurips', 'cvpr', 'atr29', 'atr6', 'atr32', 'atr7']\n",
      "Accuracy: 62.34%\n",
      "Selected Feature Names: ['num_ref_3years', 'atr19', 'num_ref', 'neurips', 'cvpr', 'atr29', 'atr6', 'atr32', 'atr7', 'atr22']\n",
      "Accuracy: 60.61%\n",
      "Selected Feature Names: ['num_ref_3years', 'atr19', 'num_ref', 'neurips', 'cvpr', 'atr29', 'atr6', 'atr32', 'atr7', 'atr22', 'arxiv']\n",
      "Accuracy: 64.07%\n",
      "Selected Feature Names: ['num_ref_3years', 'atr19', 'num_ref', 'neurips', 'cvpr', 'atr29', 'atr6', 'atr32', 'atr7', 'atr22', 'arxiv', 'atr27']\n",
      "Accuracy: 62.34%\n",
      "Selected Feature Names: ['num_ref_3years', 'atr19', 'num_ref', 'neurips', 'cvpr', 'atr29', 'atr6', 'atr32', 'atr7', 'atr22', 'arxiv', 'atr27', 'atr39']\n",
      "Accuracy: 61.04%\n",
      "Selected Feature Names: ['num_ref_3years', 'atr19', 'num_ref', 'neurips', 'cvpr', 'atr29', 'atr6', 'atr32', 'atr7', 'atr22', 'arxiv', 'atr27', 'atr39', 'atr35']\n",
      "Accuracy: 61.47%\n",
      "Selected Feature Names: ['num_ref_3years', 'atr19', 'num_ref', 'neurips', 'cvpr', 'atr29', 'atr6', 'atr32', 'atr7', 'atr22', 'arxiv', 'atr27', 'atr39', 'atr35', 'atr26']\n",
      "Accuracy: 63.20%\n",
      "Selected Feature Names: ['num_ref_3years', 'atr19', 'num_ref', 'neurips', 'cvpr', 'atr29', 'atr6', 'atr32', 'atr7', 'atr22', 'arxiv', 'atr27', 'atr39', 'atr35', 'atr26', 'eccv']\n",
      "Accuracy: 64.07%\n",
      "Selected Feature Names: ['num_ref_3years', 'atr19', 'num_ref', 'neurips', 'cvpr', 'atr29', 'atr6', 'atr32', 'atr7', 'atr22', 'arxiv', 'atr27', 'atr39', 'atr35', 'atr26', 'eccv', 'emnlp']\n",
      "Accuracy: 59.31%\n",
      "Selected Feature Names: ['num_ref_3years', 'atr19', 'num_ref', 'neurips', 'cvpr', 'atr29', 'atr6', 'atr32', 'atr7', 'atr22', 'arxiv', 'atr27', 'atr39', 'atr35', 'atr26', 'eccv', 'emnlp', 'atr18']\n",
      "Accuracy: 63.64%\n",
      "Selected Feature Names: ['num_ref_3years', 'atr19', 'num_ref', 'neurips', 'cvpr', 'atr29', 'atr6', 'atr32', 'atr7', 'atr22', 'arxiv', 'atr27', 'atr39', 'atr35', 'atr26', 'eccv', 'emnlp', 'atr18', 'atr2']\n",
      "Accuracy: 66.23%\n",
      "Selected Feature Names: ['num_ref_3years', 'atr19', 'num_ref', 'neurips', 'cvpr', 'atr29', 'atr6', 'atr32', 'atr7', 'atr22', 'arxiv', 'atr27', 'atr39', 'atr35', 'atr26', 'eccv', 'emnlp', 'atr18', 'atr2', 'acl']\n",
      "Accuracy: 60.61%\n",
      "Selected Feature Names: ['num_ref_3years', 'atr19', 'num_ref', 'neurips', 'cvpr', 'atr29', 'atr6', 'atr32', 'atr7', 'atr22', 'arxiv', 'atr27', 'atr39', 'atr35', 'atr26', 'eccv', 'emnlp', 'atr18', 'atr2', 'acl', 'icassp']\n",
      "Accuracy: 61.90%\n",
      "Selected Feature Names: ['num_ref_3years', 'atr19', 'num_ref', 'neurips', 'cvpr', 'atr29', 'atr6', 'atr32', 'atr7', 'atr22', 'arxiv', 'atr27', 'atr39', 'atr35', 'atr26', 'eccv', 'emnlp', 'atr18', 'atr2', 'acl', 'icassp', 'atr38']\n",
      "Accuracy: 61.04%\n",
      "Selected Feature Names: ['num_ref_3years', 'atr19', 'num_ref', 'neurips', 'cvpr', 'atr29', 'atr6', 'atr32', 'atr7', 'atr22', 'arxiv', 'atr27', 'atr39', 'atr35', 'atr26', 'eccv', 'emnlp', 'atr18', 'atr2', 'acl', 'icassp', 'atr38', 'acm_tran']\n",
      "Accuracy: 63.20%\n",
      "Selected Feature Names: ['num_ref_3years', 'atr19', 'num_ref', 'neurips', 'cvpr', 'atr29', 'atr6', 'atr32', 'atr7', 'atr22', 'arxiv', 'atr27', 'atr39', 'atr35', 'atr26', 'eccv', 'emnlp', 'atr18', 'atr2', 'acl', 'icassp', 'atr38', 'acm_tran', 'atr9']\n",
      "Accuracy: 64.50%\n",
      "Selected Feature Names: ['num_ref_3years', 'atr19', 'num_ref', 'neurips', 'cvpr', 'atr29', 'atr6', 'atr32', 'atr7', 'atr22', 'arxiv', 'atr27', 'atr39', 'atr35', 'atr26', 'eccv', 'emnlp', 'atr18', 'atr2', 'acl', 'icassp', 'atr38', 'acm_tran', 'atr9', 'iclr']\n",
      "Accuracy: 60.61%\n",
      "Selected Feature Names: ['num_ref_3years', 'atr19', 'num_ref', 'neurips', 'cvpr', 'atr29', 'atr6', 'atr32', 'atr7', 'atr22', 'arxiv', 'atr27', 'atr39', 'atr35', 'atr26', 'eccv', 'emnlp', 'atr18', 'atr2', 'acl', 'icassp', 'atr38', 'acm_tran', 'atr9', 'iclr', 'atr31']\n",
      "Accuracy: 66.67%\n",
      "Selected Feature Names: ['num_ref_3years', 'atr19', 'num_ref', 'neurips', 'cvpr', 'atr29', 'atr6', 'atr32', 'atr7', 'atr22', 'arxiv', 'atr27', 'atr39', 'atr35', 'atr26', 'eccv', 'emnlp', 'atr18', 'atr2', 'acl', 'icassp', 'atr38', 'acm_tran', 'atr9', 'iclr', 'atr31', 'atr5']\n",
      "Accuracy: 64.07%\n",
      "Selected Feature Names: ['num_ref_3years', 'atr19', 'num_ref', 'neurips', 'cvpr', 'atr29', 'atr6', 'atr32', 'atr7', 'atr22', 'arxiv', 'atr27', 'atr39', 'atr35', 'atr26', 'eccv', 'emnlp', 'atr18', 'atr2', 'acl', 'icassp', 'atr38', 'acm_tran', 'atr9', 'iclr', 'atr31', 'atr5', 'atr11']\n",
      "Accuracy: 64.07%\n",
      "Selected Feature Names: ['num_ref_3years', 'atr19', 'num_ref', 'neurips', 'cvpr', 'atr29', 'atr6', 'atr32', 'atr7', 'atr22', 'arxiv', 'atr27', 'atr39', 'atr35', 'atr26', 'eccv', 'emnlp', 'atr18', 'atr2', 'acl', 'icassp', 'atr38', 'acm_tran', 'atr9', 'iclr', 'atr31', 'atr5', 'atr11', 'atr12']\n",
      "Accuracy: 65.80%\n",
      "Selected Feature Names: ['num_ref_3years', 'atr19', 'num_ref', 'neurips', 'cvpr', 'atr29', 'atr6', 'atr32', 'atr7', 'atr22', 'arxiv', 'atr27', 'atr39', 'atr35', 'atr26', 'eccv', 'emnlp', 'atr18', 'atr2', 'acl', 'icassp', 'atr38', 'acm_tran', 'atr9', 'iclr', 'atr31', 'atr5', 'atr11', 'atr12', 'atr34']\n",
      "Accuracy: 64.50%\n",
      "Selected Feature Names: ['num_ref_3years', 'atr19', 'num_ref', 'neurips', 'cvpr', 'atr29', 'atr6', 'atr32', 'atr7', 'atr22', 'arxiv', 'atr27', 'atr39', 'atr35', 'atr26', 'eccv', 'emnlp', 'atr18', 'atr2', 'acl', 'icassp', 'atr38', 'acm_tran', 'atr9', 'iclr', 'atr31', 'atr5', 'atr11', 'atr12', 'atr34', 'aaai']\n",
      "Accuracy: 65.37%\n",
      "Selected Feature Names: ['num_ref_3years', 'atr19', 'num_ref', 'neurips', 'cvpr', 'atr29', 'atr6', 'atr32', 'atr7', 'atr22', 'arxiv', 'atr27', 'atr39', 'atr35', 'atr26', 'eccv', 'emnlp', 'atr18', 'atr2', 'acl', 'icassp', 'atr38', 'acm_tran', 'atr9', 'iclr', 'atr31', 'atr5', 'atr11', 'atr12', 'atr34', 'aaai', 'atr25']\n",
      "Accuracy: 64.94%\n",
      "Selected Feature Names: ['num_ref_3years', 'atr19', 'num_ref', 'neurips', 'cvpr', 'atr29', 'atr6', 'atr32', 'atr7', 'atr22', 'arxiv', 'atr27', 'atr39', 'atr35', 'atr26', 'eccv', 'emnlp', 'atr18', 'atr2', 'acl', 'icassp', 'atr38', 'acm_tran', 'atr9', 'iclr', 'atr31', 'atr5', 'atr11', 'atr12', 'atr34', 'aaai', 'atr25', 'nature']\n",
      "Accuracy: 62.34%\n",
      "Selected Feature Names: ['num_ref_3years', 'atr19', 'num_ref', 'neurips', 'cvpr', 'atr29', 'atr6', 'atr32', 'atr7', 'atr22', 'arxiv', 'atr27', 'atr39', 'atr35', 'atr26', 'eccv', 'emnlp', 'atr18', 'atr2', 'acl', 'icassp', 'atr38', 'acm_tran', 'atr9', 'iclr', 'atr31', 'atr5', 'atr11', 'atr12', 'atr34', 'aaai', 'atr25', 'nature', 'atr36']\n",
      "Accuracy: 66.67%\n",
      "Selected Feature Names: ['num_ref_3years', 'atr19', 'num_ref', 'neurips', 'cvpr', 'atr29', 'atr6', 'atr32', 'atr7', 'atr22', 'arxiv', 'atr27', 'atr39', 'atr35', 'atr26', 'eccv', 'emnlp', 'atr18', 'atr2', 'acl', 'icassp', 'atr38', 'acm_tran', 'atr9', 'iclr', 'atr31', 'atr5', 'atr11', 'atr12', 'atr34', 'aaai', 'atr25', 'nature', 'atr36', 'atr33']\n",
      "Accuracy: 64.50%\n",
      "Selected Feature Names: ['num_ref_3years', 'atr19', 'num_ref', 'neurips', 'cvpr', 'atr29', 'atr6', 'atr32', 'atr7', 'atr22', 'arxiv', 'atr27', 'atr39', 'atr35', 'atr26', 'eccv', 'emnlp', 'atr18', 'atr2', 'acl', 'icassp', 'atr38', 'acm_tran', 'atr9', 'iclr', 'atr31', 'atr5', 'atr11', 'atr12', 'atr34', 'aaai', 'atr25', 'nature', 'atr36', 'atr33', 'naacl']\n",
      "Accuracy: 61.90%\n",
      "Selected Feature Names: ['num_ref_3years', 'atr19', 'num_ref', 'neurips', 'cvpr', 'atr29', 'atr6', 'atr32', 'atr7', 'atr22', 'arxiv', 'atr27', 'atr39', 'atr35', 'atr26', 'eccv', 'emnlp', 'atr18', 'atr2', 'acl', 'icassp', 'atr38', 'acm_tran', 'atr9', 'iclr', 'atr31', 'atr5', 'atr11', 'atr12', 'atr34', 'aaai', 'atr25', 'nature', 'atr36', 'atr33', 'naacl', 'atr10']\n",
      "Accuracy: 63.64%\n",
      "Selected Feature Names: ['num_ref_3years', 'atr19', 'num_ref', 'neurips', 'cvpr', 'atr29', 'atr6', 'atr32', 'atr7', 'atr22', 'arxiv', 'atr27', 'atr39', 'atr35', 'atr26', 'eccv', 'emnlp', 'atr18', 'atr2', 'acl', 'icassp', 'atr38', 'acm_tran', 'atr9', 'iclr', 'atr31', 'atr5', 'atr11', 'atr12', 'atr34', 'aaai', 'atr25', 'nature', 'atr36', 'atr33', 'naacl', 'atr10', 'atr16']\n",
      "Accuracy: 66.23%\n",
      "Selected Feature Names: ['num_ref_3years', 'atr19', 'num_ref', 'neurips', 'cvpr', 'atr29', 'atr6', 'atr32', 'atr7', 'atr22', 'arxiv', 'atr27', 'atr39', 'atr35', 'atr26', 'eccv', 'emnlp', 'atr18', 'atr2', 'acl', 'icassp', 'atr38', 'acm_tran', 'atr9', 'iclr', 'atr31', 'atr5', 'atr11', 'atr12', 'atr34', 'aaai', 'atr25', 'nature', 'atr36', 'atr33', 'naacl', 'atr10', 'atr16', 'atr1']\n",
      "Accuracy: 64.50%\n",
      "Selected Feature Names: ['num_ref_3years', 'atr19', 'num_ref', 'neurips', 'cvpr', 'atr29', 'atr6', 'atr32', 'atr7', 'atr22', 'arxiv', 'atr27', 'atr39', 'atr35', 'atr26', 'eccv', 'emnlp', 'atr18', 'atr2', 'acl', 'icassp', 'atr38', 'acm_tran', 'atr9', 'iclr', 'atr31', 'atr5', 'atr11', 'atr12', 'atr34', 'aaai', 'atr25', 'nature', 'atr36', 'atr33', 'naacl', 'atr10', 'atr16', 'atr1', 'iccv']\n",
      "Accuracy: 64.50%\n",
      "Selected Feature Names: ['num_ref_3years', 'atr19', 'num_ref', 'neurips', 'cvpr', 'atr29', 'atr6', 'atr32', 'atr7', 'atr22', 'arxiv', 'atr27', 'atr39', 'atr35', 'atr26', 'eccv', 'emnlp', 'atr18', 'atr2', 'acl', 'icassp', 'atr38', 'acm_tran', 'atr9', 'iclr', 'atr31', 'atr5', 'atr11', 'atr12', 'atr34', 'aaai', 'atr25', 'nature', 'atr36', 'atr33', 'naacl', 'atr10', 'atr16', 'atr1', 'iccv', 'atr23']\n",
      "Accuracy: 63.64%\n",
      "Selected Feature Names: ['num_ref_3years', 'atr19', 'num_ref', 'neurips', 'cvpr', 'atr29', 'atr6', 'atr32', 'atr7', 'atr22', 'arxiv', 'atr27', 'atr39', 'atr35', 'atr26', 'eccv', 'emnlp', 'atr18', 'atr2', 'acl', 'icassp', 'atr38', 'acm_tran', 'atr9', 'iclr', 'atr31', 'atr5', 'atr11', 'atr12', 'atr34', 'aaai', 'atr25', 'nature', 'atr36', 'atr33', 'naacl', 'atr10', 'atr16', 'atr1', 'iccv', 'atr23', 'icml']\n",
      "Accuracy: 68.40%\n",
      "Selected Feature Names: ['num_ref_3years', 'atr19', 'num_ref', 'neurips', 'cvpr', 'atr29', 'atr6', 'atr32', 'atr7', 'atr22', 'arxiv', 'atr27', 'atr39', 'atr35', 'atr26', 'eccv', 'emnlp', 'atr18', 'atr2', 'acl', 'icassp', 'atr38', 'acm_tran', 'atr9', 'iclr', 'atr31', 'atr5', 'atr11', 'atr12', 'atr34', 'aaai', 'atr25', 'nature', 'atr36', 'atr33', 'naacl', 'atr10', 'atr16', 'atr1', 'iccv', 'atr23', 'icml', 'atr17']\n",
      "Accuracy: 63.64%\n",
      "Selected Feature Names: ['num_ref_3years', 'atr19', 'num_ref', 'neurips', 'cvpr', 'atr29', 'atr6', 'atr32', 'atr7', 'atr22', 'arxiv', 'atr27', 'atr39', 'atr35', 'atr26', 'eccv', 'emnlp', 'atr18', 'atr2', 'acl', 'icassp', 'atr38', 'acm_tran', 'atr9', 'iclr', 'atr31', 'atr5', 'atr11', 'atr12', 'atr34', 'aaai', 'atr25', 'nature', 'atr36', 'atr33', 'naacl', 'atr10', 'atr16', 'atr1', 'iccv', 'atr23', 'icml', 'atr17', 'atr15']\n",
      "Accuracy: 65.37%\n",
      "Selected Feature Names: ['num_ref_3years', 'atr19', 'num_ref', 'neurips', 'cvpr', 'atr29', 'atr6', 'atr32', 'atr7', 'atr22', 'arxiv', 'atr27', 'atr39', 'atr35', 'atr26', 'eccv', 'emnlp', 'atr18', 'atr2', 'acl', 'icassp', 'atr38', 'acm_tran', 'atr9', 'iclr', 'atr31', 'atr5', 'atr11', 'atr12', 'atr34', 'aaai', 'atr25', 'nature', 'atr36', 'atr33', 'naacl', 'atr10', 'atr16', 'atr1', 'iccv', 'atr23', 'icml', 'atr17', 'atr15', 'atr8']\n",
      "Accuracy: 68.40%\n",
      "Selected Feature Names: ['num_ref_3years', 'atr19', 'num_ref', 'neurips', 'cvpr', 'atr29', 'atr6', 'atr32', 'atr7', 'atr22', 'arxiv', 'atr27', 'atr39', 'atr35', 'atr26', 'eccv', 'emnlp', 'atr18', 'atr2', 'acl', 'icassp', 'atr38', 'acm_tran', 'atr9', 'iclr', 'atr31', 'atr5', 'atr11', 'atr12', 'atr34', 'aaai', 'atr25', 'nature', 'atr36', 'atr33', 'naacl', 'atr10', 'atr16', 'atr1', 'iccv', 'atr23', 'icml', 'atr17', 'atr15', 'atr8', 'atr14']\n",
      "Accuracy: 65.37%\n",
      "Selected Feature Names: ['num_ref_3years', 'atr19', 'num_ref', 'neurips', 'cvpr', 'atr29', 'atr6', 'atr32', 'atr7', 'atr22', 'arxiv', 'atr27', 'atr39', 'atr35', 'atr26', 'eccv', 'emnlp', 'atr18', 'atr2', 'acl', 'icassp', 'atr38', 'acm_tran', 'atr9', 'iclr', 'atr31', 'atr5', 'atr11', 'atr12', 'atr34', 'aaai', 'atr25', 'nature', 'atr36', 'atr33', 'naacl', 'atr10', 'atr16', 'atr1', 'iccv', 'atr23', 'icml', 'atr17', 'atr15', 'atr8', 'atr14', 'atr30']\n",
      "Accuracy: 65.37%\n",
      "Selected Feature Names: ['num_ref_3years', 'atr19', 'num_ref', 'neurips', 'cvpr', 'atr29', 'atr6', 'atr32', 'atr7', 'atr22', 'arxiv', 'atr27', 'atr39', 'atr35', 'atr26', 'eccv', 'emnlp', 'atr18', 'atr2', 'acl', 'icassp', 'atr38', 'acm_tran', 'atr9', 'iclr', 'atr31', 'atr5', 'atr11', 'atr12', 'atr34', 'aaai', 'atr25', 'nature', 'atr36', 'atr33', 'naacl', 'atr10', 'atr16', 'atr1', 'iccv', 'atr23', 'icml', 'atr17', 'atr15', 'atr8', 'atr14', 'atr30', 'icra']\n",
      "Accuracy: 65.37%\n",
      "Selected Feature Names: ['num_ref_3years', 'atr19', 'num_ref', 'neurips', 'cvpr', 'atr29', 'atr6', 'atr32', 'atr7', 'atr22', 'arxiv', 'atr27', 'atr39', 'atr35', 'atr26', 'eccv', 'emnlp', 'atr18', 'atr2', 'acl', 'icassp', 'atr38', 'acm_tran', 'atr9', 'iclr', 'atr31', 'atr5', 'atr11', 'atr12', 'atr34', 'aaai', 'atr25', 'nature', 'atr36', 'atr33', 'naacl', 'atr10', 'atr16', 'atr1', 'iccv', 'atr23', 'icml', 'atr17', 'atr15', 'atr8', 'atr14', 'atr30', 'icra', 'neuralcom']\n",
      "Accuracy: 69.70%\n",
      "Selected Feature Names: ['num_ref_3years', 'atr19', 'num_ref', 'neurips', 'cvpr', 'atr29', 'atr6', 'atr32', 'atr7', 'atr22', 'arxiv', 'atr27', 'atr39', 'atr35', 'atr26', 'eccv', 'emnlp', 'atr18', 'atr2', 'acl', 'icassp', 'atr38', 'acm_tran', 'atr9', 'iclr', 'atr31', 'atr5', 'atr11', 'atr12', 'atr34', 'aaai', 'atr25', 'nature', 'atr36', 'atr33', 'naacl', 'atr10', 'atr16', 'atr1', 'iccv', 'atr23', 'icml', 'atr17', 'atr15', 'atr8', 'atr14', 'atr30', 'icra', 'neuralcom', 'atr28']\n",
      "Accuracy: 64.94%\n",
      "Selected Feature Names: ['num_ref_3years', 'atr19', 'num_ref', 'neurips', 'cvpr', 'atr29', 'atr6', 'atr32', 'atr7', 'atr22', 'arxiv', 'atr27', 'atr39', 'atr35', 'atr26', 'eccv', 'emnlp', 'atr18', 'atr2', 'acl', 'icassp', 'atr38', 'acm_tran', 'atr9', 'iclr', 'atr31', 'atr5', 'atr11', 'atr12', 'atr34', 'aaai', 'atr25', 'nature', 'atr36', 'atr33', 'naacl', 'atr10', 'atr16', 'atr1', 'iccv', 'atr23', 'icml', 'atr17', 'atr15', 'atr8', 'atr14', 'atr30', 'icra', 'neuralcom', 'atr28', 'atr24']\n",
      "Accuracy: 65.37%\n",
      "Selected Feature Names: ['num_ref_3years', 'atr19', 'num_ref', 'neurips', 'cvpr', 'atr29', 'atr6', 'atr32', 'atr7', 'atr22', 'arxiv', 'atr27', 'atr39', 'atr35', 'atr26', 'eccv', 'emnlp', 'atr18', 'atr2', 'acl', 'icassp', 'atr38', 'acm_tran', 'atr9', 'iclr', 'atr31', 'atr5', 'atr11', 'atr12', 'atr34', 'aaai', 'atr25', 'nature', 'atr36', 'atr33', 'naacl', 'atr10', 'atr16', 'atr1', 'iccv', 'atr23', 'icml', 'atr17', 'atr15', 'atr8', 'atr14', 'atr30', 'icra', 'neuralcom', 'atr28', 'atr24', 'atr13']\n",
      "Accuracy: 63.20%\n",
      "Selected Feature Names: ['num_ref_3years', 'atr19', 'num_ref', 'neurips', 'cvpr', 'atr29', 'atr6', 'atr32', 'atr7', 'atr22', 'arxiv', 'atr27', 'atr39', 'atr35', 'atr26', 'eccv', 'emnlp', 'atr18', 'atr2', 'acl', 'icassp', 'atr38', 'acm_tran', 'atr9', 'iclr', 'atr31', 'atr5', 'atr11', 'atr12', 'atr34', 'aaai', 'atr25', 'nature', 'atr36', 'atr33', 'naacl', 'atr10', 'atr16', 'atr1', 'iccv', 'atr23', 'icml', 'atr17', 'atr15', 'atr8', 'atr14', 'atr30', 'icra', 'neuralcom', 'atr28', 'atr24', 'atr13', 'atr0']\n",
      "Accuracy: 64.50%\n",
      "Selected Feature Names: ['num_ref_3years', 'atr19', 'num_ref', 'neurips', 'cvpr', 'atr29', 'atr6', 'atr32', 'atr7', 'atr22', 'arxiv', 'atr27', 'atr39', 'atr35', 'atr26', 'eccv', 'emnlp', 'atr18', 'atr2', 'acl', 'icassp', 'atr38', 'acm_tran', 'atr9', 'iclr', 'atr31', 'atr5', 'atr11', 'atr12', 'atr34', 'aaai', 'atr25', 'nature', 'atr36', 'atr33', 'naacl', 'atr10', 'atr16', 'atr1', 'iccv', 'atr23', 'icml', 'atr17', 'atr15', 'atr8', 'atr14', 'atr30', 'icra', 'neuralcom', 'atr28', 'atr24', 'atr13', 'atr0', 'atr4']\n",
      "Accuracy: 65.80%\n",
      "Selected Feature Names: ['num_ref_3years', 'atr19', 'num_ref', 'neurips', 'cvpr', 'atr29', 'atr6', 'atr32', 'atr7', 'atr22', 'arxiv', 'atr27', 'atr39', 'atr35', 'atr26', 'eccv', 'emnlp', 'atr18', 'atr2', 'acl', 'icassp', 'atr38', 'acm_tran', 'atr9', 'iclr', 'atr31', 'atr5', 'atr11', 'atr12', 'atr34', 'aaai', 'atr25', 'nature', 'atr36', 'atr33', 'naacl', 'atr10', 'atr16', 'atr1', 'iccv', 'atr23', 'icml', 'atr17', 'atr15', 'atr8', 'atr14', 'atr30', 'icra', 'neuralcom', 'atr28', 'atr24', 'atr13', 'atr0', 'atr4', 'ijcai']\n",
      "Accuracy: 67.53%\n",
      "Selected Feature Names: ['num_ref_3years', 'atr19', 'num_ref', 'neurips', 'cvpr', 'atr29', 'atr6', 'atr32', 'atr7', 'atr22', 'arxiv', 'atr27', 'atr39', 'atr35', 'atr26', 'eccv', 'emnlp', 'atr18', 'atr2', 'acl', 'icassp', 'atr38', 'acm_tran', 'atr9', 'iclr', 'atr31', 'atr5', 'atr11', 'atr12', 'atr34', 'aaai', 'atr25', 'nature', 'atr36', 'atr33', 'naacl', 'atr10', 'atr16', 'atr1', 'iccv', 'atr23', 'icml', 'atr17', 'atr15', 'atr8', 'atr14', 'atr30', 'icra', 'neuralcom', 'atr28', 'atr24', 'atr13', 'atr0', 'atr4', 'ijcai', 'atr3']\n",
      "Accuracy: 65.37%\n",
      "Selected Feature Names: ['num_ref_3years', 'atr19', 'num_ref', 'neurips', 'cvpr', 'atr29', 'atr6', 'atr32', 'atr7', 'atr22', 'arxiv', 'atr27', 'atr39', 'atr35', 'atr26', 'eccv', 'emnlp', 'atr18', 'atr2', 'acl', 'icassp', 'atr38', 'acm_tran', 'atr9', 'iclr', 'atr31', 'atr5', 'atr11', 'atr12', 'atr34', 'aaai', 'atr25', 'nature', 'atr36', 'atr33', 'naacl', 'atr10', 'atr16', 'atr1', 'iccv', 'atr23', 'icml', 'atr17', 'atr15', 'atr8', 'atr14', 'atr30', 'icra', 'neuralcom', 'atr28', 'atr24', 'atr13', 'atr0', 'atr4', 'ijcai', 'atr3', 'atr37']\n",
      "Accuracy: 66.23%\n",
      "Selected Feature Names: ['num_ref_3years', 'atr19', 'num_ref', 'neurips', 'cvpr', 'atr29', 'atr6', 'atr32', 'atr7', 'atr22', 'arxiv', 'atr27', 'atr39', 'atr35', 'atr26', 'eccv', 'emnlp', 'atr18', 'atr2', 'acl', 'icassp', 'atr38', 'acm_tran', 'atr9', 'iclr', 'atr31', 'atr5', 'atr11', 'atr12', 'atr34', 'aaai', 'atr25', 'nature', 'atr36', 'atr33', 'naacl', 'atr10', 'atr16', 'atr1', 'iccv', 'atr23', 'icml', 'atr17', 'atr15', 'atr8', 'atr14', 'atr30', 'icra', 'neuralcom', 'atr28', 'atr24', 'atr13', 'atr0', 'atr4', 'ijcai', 'atr3', 'atr37', 'mit_press']\n",
      "Accuracy: 67.10%\n",
      "Selected Feature Names: ['num_ref_3years', 'atr19', 'num_ref', 'neurips', 'cvpr', 'atr29', 'atr6', 'atr32', 'atr7', 'atr22', 'arxiv', 'atr27', 'atr39', 'atr35', 'atr26', 'eccv', 'emnlp', 'atr18', 'atr2', 'acl', 'icassp', 'atr38', 'acm_tran', 'atr9', 'iclr', 'atr31', 'atr5', 'atr11', 'atr12', 'atr34', 'aaai', 'atr25', 'nature', 'atr36', 'atr33', 'naacl', 'atr10', 'atr16', 'atr1', 'iccv', 'atr23', 'icml', 'atr17', 'atr15', 'atr8', 'atr14', 'atr30', 'icra', 'neuralcom', 'atr28', 'atr24', 'atr13', 'atr0', 'atr4', 'ijcai', 'atr3', 'atr37', 'mit_press', 'sigkdd']\n",
      "Accuracy: 64.94%\n",
      "Selected Feature Names: ['num_ref_3years', 'atr19', 'num_ref', 'neurips', 'cvpr', 'atr29', 'atr6', 'atr32', 'atr7', 'atr22', 'arxiv', 'atr27', 'atr39', 'atr35', 'atr26', 'eccv', 'emnlp', 'atr18', 'atr2', 'acl', 'icassp', 'atr38', 'acm_tran', 'atr9', 'iclr', 'atr31', 'atr5', 'atr11', 'atr12', 'atr34', 'aaai', 'atr25', 'nature', 'atr36', 'atr33', 'naacl', 'atr10', 'atr16', 'atr1', 'iccv', 'atr23', 'icml', 'atr17', 'atr15', 'atr8', 'atr14', 'atr30', 'icra', 'neuralcom', 'atr28', 'atr24', 'atr13', 'atr0', 'atr4', 'ijcai', 'atr3', 'atr37', 'mit_press', 'sigkdd', 'atr21']\n",
      "Accuracy: 65.80%\n",
      "Selected Feature Names: ['num_ref_3years', 'atr19', 'num_ref', 'neurips', 'cvpr', 'atr29', 'atr6', 'atr32', 'atr7', 'atr22', 'arxiv', 'atr27', 'atr39', 'atr35', 'atr26', 'eccv', 'emnlp', 'atr18', 'atr2', 'acl', 'icassp', 'atr38', 'acm_tran', 'atr9', 'iclr', 'atr31', 'atr5', 'atr11', 'atr12', 'atr34', 'aaai', 'atr25', 'nature', 'atr36', 'atr33', 'naacl', 'atr10', 'atr16', 'atr1', 'iccv', 'atr23', 'icml', 'atr17', 'atr15', 'atr8', 'atr14', 'atr30', 'icra', 'neuralcom', 'atr28', 'atr24', 'atr13', 'atr0', 'atr4', 'ijcai', 'atr3', 'atr37', 'mit_press', 'sigkdd', 'atr21', 'atr20']\n",
      "Accuracy: 66.23%\n",
      "Selected Feature Names: ['num_ref_3years', 'atr19', 'num_ref', 'neurips', 'cvpr', 'atr29', 'atr6', 'atr32', 'atr7', 'atr22', 'arxiv', 'atr27', 'atr39', 'atr35', 'atr26', 'eccv', 'emnlp', 'atr18', 'atr2', 'acl', 'icassp', 'atr38', 'acm_tran', 'atr9', 'iclr', 'atr31', 'atr5', 'atr11', 'atr12', 'atr34', 'aaai', 'atr25', 'nature', 'atr36', 'atr33', 'naacl', 'atr10', 'atr16', 'atr1', 'iccv', 'atr23', 'icml', 'atr17', 'atr15', 'atr8', 'atr14', 'atr30', 'icra', 'neuralcom', 'atr28', 'atr24', 'atr13', 'atr0', 'atr4', 'ijcai', 'atr3', 'atr37', 'mit_press', 'sigkdd', 'atr21', 'atr20', 'ieee_tran']\n",
      "Accuracy: 59.74%\n",
      "Selected Feature Names: ['num_ref_3years', 'atr19', 'num_ref', 'neurips', 'cvpr', 'atr29', 'atr6', 'atr32', 'atr7', 'atr22', 'arxiv', 'atr27', 'atr39', 'atr35', 'atr26', 'eccv', 'emnlp', 'atr18', 'atr2', 'acl', 'icassp', 'atr38', 'acm_tran', 'atr9', 'iclr', 'atr31', 'atr5', 'atr11', 'atr12', 'atr34', 'aaai', 'atr25', 'nature', 'atr36', 'atr33', 'naacl', 'atr10', 'atr16', 'atr1', 'iccv', 'atr23', 'icml', 'atr17', 'atr15', 'atr8', 'atr14', 'atr30', 'icra', 'neuralcom', 'atr28', 'atr24', 'atr13', 'atr0', 'atr4', 'ijcai', 'atr3', 'atr37', 'mit_press', 'sigkdd', 'atr21', 'atr20', 'ieee_tran', 'jmlr']\n",
      "Accuracy: 60.61%\n",
      "Selected Feature Names: ['num_ref_3years', 'atr19', 'num_ref', 'neurips', 'cvpr', 'atr29', 'atr6', 'atr32', 'atr7', 'atr22', 'arxiv', 'atr27', 'atr39', 'atr35', 'atr26', 'eccv', 'emnlp', 'atr18', 'atr2', 'acl', 'icassp', 'atr38', 'acm_tran', 'atr9', 'iclr', 'atr31', 'atr5', 'atr11', 'atr12', 'atr34', 'aaai', 'atr25', 'nature', 'atr36', 'atr33', 'naacl', 'atr10', 'atr16', 'atr1', 'iccv', 'atr23', 'icml', 'atr17', 'atr15', 'atr8', 'atr14', 'atr30', 'icra', 'neuralcom', 'atr28', 'atr24', 'atr13', 'atr0', 'atr4', 'ijcai', 'atr3', 'atr37', 'mit_press', 'sigkdd', 'atr21', 'atr20', 'ieee_tran', 'jmlr', 'aistats']\n",
      "Accuracy: 65.37%\n"
     ]
    }
   ],
   "source": [
    "for i in dict(enumerate(combination)):\n",
    "    accuracy = model(combination, y, i+1)\n",
    "    print(\"Accuracy: %.2f%%\" % (accuracy * 100.0))"
   ]
  },
  {
   "cell_type": "code",
   "execution_count": 22,
   "metadata": {},
   "outputs": [],
   "source": [
    "test.to_excel('substance.xlsx', index=False)"
   ]
  }
 ],
 "metadata": {
  "kernelspec": {
   "display_name": "Python 3",
   "language": "python",
   "name": "python3"
  },
  "language_info": {
   "codemirror_mode": {
    "name": "ipython",
    "version": 3
   },
   "file_extension": ".py",
   "mimetype": "text/x-python",
   "name": "python",
   "nbconvert_exporter": "python",
   "pygments_lexer": "ipython3",
   "version": "3.10.9"
  }
 },
 "nbformat": 4,
 "nbformat_minor": 2
}
