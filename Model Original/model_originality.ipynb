{
 "cells": [
  {
   "cell_type": "code",
   "execution_count": 1,
   "metadata": {},
   "outputs": [
    {
     "data": {
      "text/html": [
       "<div>\n",
       "<style scoped>\n",
       "    .dataframe tbody tr th:only-of-type {\n",
       "        vertical-align: middle;\n",
       "    }\n",
       "\n",
       "    .dataframe tbody tr th {\n",
       "        vertical-align: top;\n",
       "    }\n",
       "\n",
       "    .dataframe thead th {\n",
       "        text-align: right;\n",
       "    }\n",
       "</style>\n",
       "<table border=\"1\" class=\"dataframe\">\n",
       "  <thead>\n",
       "    <tr style=\"text-align: right;\">\n",
       "      <th></th>\n",
       "      <th>originality</th>\n",
       "      <th>year</th>\n",
       "      <th>title</th>\n",
       "      <th>num_ref</th>\n",
       "      <th>num_ref_3years</th>\n",
       "      <th>arxiv</th>\n",
       "      <th>neurips</th>\n",
       "      <th>iclr</th>\n",
       "      <th>icml</th>\n",
       "      <th>aaai</th>\n",
       "      <th>...</th>\n",
       "      <th>atr37</th>\n",
       "      <th>atr38</th>\n",
       "      <th>atr39</th>\n",
       "      <th>citation_count</th>\n",
       "      <th>citedIn2018</th>\n",
       "      <th>citedIn2019</th>\n",
       "      <th>citedIn2020</th>\n",
       "      <th>citedIn2021</th>\n",
       "      <th>citedIn2022</th>\n",
       "      <th>citedIn2023</th>\n",
       "    </tr>\n",
       "  </thead>\n",
       "  <tbody>\n",
       "    <tr>\n",
       "      <th>0</th>\n",
       "      <td>1</td>\n",
       "      <td>2019</td>\n",
       "      <td>Learning Latent Superstructures in Variational...</td>\n",
       "      <td>39</td>\n",
       "      <td>9</td>\n",
       "      <td>2</td>\n",
       "      <td>5</td>\n",
       "      <td>2</td>\n",
       "      <td>7</td>\n",
       "      <td>1</td>\n",
       "      <td>...</td>\n",
       "      <td>3</td>\n",
       "      <td>53</td>\n",
       "      <td>150</td>\n",
       "      <td>36</td>\n",
       "      <td>2.0</td>\n",
       "      <td>4.0</td>\n",
       "      <td>10.0</td>\n",
       "      <td>12.0</td>\n",
       "      <td>9.0</td>\n",
       "      <td>2.0</td>\n",
       "    </tr>\n",
       "    <tr>\n",
       "      <th>1</th>\n",
       "      <td>1</td>\n",
       "      <td>2020</td>\n",
       "      <td>Hamiltonian Generative Networks</td>\n",
       "      <td>31</td>\n",
       "      <td>12</td>\n",
       "      <td>4</td>\n",
       "      <td>1</td>\n",
       "      <td>6</td>\n",
       "      <td>1</td>\n",
       "      <td>0</td>\n",
       "      <td>...</td>\n",
       "      <td>5</td>\n",
       "      <td>63</td>\n",
       "      <td>186</td>\n",
       "      <td>133</td>\n",
       "      <td>0.0</td>\n",
       "      <td>8.0</td>\n",
       "      <td>52.0</td>\n",
       "      <td>47.0</td>\n",
       "      <td>30.0</td>\n",
       "      <td>9.0</td>\n",
       "    </tr>\n",
       "    <tr>\n",
       "      <th>2</th>\n",
       "      <td>0</td>\n",
       "      <td>2020</td>\n",
       "      <td>Robust Reinforcement Learning for Continuous C...</td>\n",
       "      <td>41</td>\n",
       "      <td>15</td>\n",
       "      <td>7</td>\n",
       "      <td>0</td>\n",
       "      <td>3</td>\n",
       "      <td>3</td>\n",
       "      <td>1</td>\n",
       "      <td>...</td>\n",
       "      <td>1</td>\n",
       "      <td>80</td>\n",
       "      <td>225</td>\n",
       "      <td>72</td>\n",
       "      <td>0.0</td>\n",
       "      <td>3.0</td>\n",
       "      <td>18.0</td>\n",
       "      <td>25.0</td>\n",
       "      <td>27.0</td>\n",
       "      <td>9.0</td>\n",
       "    </tr>\n",
       "    <tr>\n",
       "      <th>3</th>\n",
       "      <td>0</td>\n",
       "      <td>2020</td>\n",
       "      <td>Language GANs Falling Short</td>\n",
       "      <td>30</td>\n",
       "      <td>14</td>\n",
       "      <td>13</td>\n",
       "      <td>1</td>\n",
       "      <td>4</td>\n",
       "      <td>0</td>\n",
       "      <td>0</td>\n",
       "      <td>...</td>\n",
       "      <td>5</td>\n",
       "      <td>26</td>\n",
       "      <td>163</td>\n",
       "      <td>153</td>\n",
       "      <td>5.0</td>\n",
       "      <td>32.0</td>\n",
       "      <td>47.0</td>\n",
       "      <td>41.0</td>\n",
       "      <td>32.0</td>\n",
       "      <td>14.0</td>\n",
       "    </tr>\n",
       "    <tr>\n",
       "      <th>4</th>\n",
       "      <td>0</td>\n",
       "      <td>2017</td>\n",
       "      <td>Towards the Limit of Network Quantization</td>\n",
       "      <td>41</td>\n",
       "      <td>18</td>\n",
       "      <td>14</td>\n",
       "      <td>0</td>\n",
       "      <td>8</td>\n",
       "      <td>1</td>\n",
       "      <td>0</td>\n",
       "      <td>...</td>\n",
       "      <td>2</td>\n",
       "      <td>33</td>\n",
       "      <td>154</td>\n",
       "      <td>147</td>\n",
       "      <td>26.0</td>\n",
       "      <td>30.0</td>\n",
       "      <td>30.0</td>\n",
       "      <td>32.0</td>\n",
       "      <td>26.0</td>\n",
       "      <td>6.0</td>\n",
       "    </tr>\n",
       "    <tr>\n",
       "      <th>...</th>\n",
       "      <td>...</td>\n",
       "      <td>...</td>\n",
       "      <td>...</td>\n",
       "      <td>...</td>\n",
       "      <td>...</td>\n",
       "      <td>...</td>\n",
       "      <td>...</td>\n",
       "      <td>...</td>\n",
       "      <td>...</td>\n",
       "      <td>...</td>\n",
       "      <td>...</td>\n",
       "      <td>...</td>\n",
       "      <td>...</td>\n",
       "      <td>...</td>\n",
       "      <td>...</td>\n",
       "      <td>...</td>\n",
       "      <td>...</td>\n",
       "      <td>...</td>\n",
       "      <td>...</td>\n",
       "      <td>...</td>\n",
       "      <td>...</td>\n",
       "    </tr>\n",
       "    <tr>\n",
       "      <th>2480</th>\n",
       "      <td>0</td>\n",
       "      <td>2018</td>\n",
       "      <td>NerveNet: Learning Structured Policy with Grap...</td>\n",
       "      <td>54</td>\n",
       "      <td>27</td>\n",
       "      <td>18</td>\n",
       "      <td>1</td>\n",
       "      <td>7</td>\n",
       "      <td>4</td>\n",
       "      <td>0</td>\n",
       "      <td>...</td>\n",
       "      <td>2</td>\n",
       "      <td>65</td>\n",
       "      <td>276</td>\n",
       "      <td>190</td>\n",
       "      <td>14.0</td>\n",
       "      <td>44.0</td>\n",
       "      <td>42.0</td>\n",
       "      <td>44.0</td>\n",
       "      <td>50.0</td>\n",
       "      <td>11.0</td>\n",
       "    </tr>\n",
       "    <tr>\n",
       "      <th>2481</th>\n",
       "      <td>1</td>\n",
       "      <td>2020</td>\n",
       "      <td>Training individually fair ML models with sens...</td>\n",
       "      <td>46</td>\n",
       "      <td>12</td>\n",
       "      <td>4</td>\n",
       "      <td>0</td>\n",
       "      <td>2</td>\n",
       "      <td>0</td>\n",
       "      <td>1</td>\n",
       "      <td>...</td>\n",
       "      <td>4</td>\n",
       "      <td>63</td>\n",
       "      <td>220</td>\n",
       "      <td>75</td>\n",
       "      <td>0.0</td>\n",
       "      <td>1.0</td>\n",
       "      <td>14.0</td>\n",
       "      <td>20.0</td>\n",
       "      <td>42.0</td>\n",
       "      <td>9.0</td>\n",
       "    </tr>\n",
       "    <tr>\n",
       "      <th>2482</th>\n",
       "      <td>1</td>\n",
       "      <td>2017</td>\n",
       "      <td>Deep Variational Bayes Filters: Unsupervised L...</td>\n",
       "      <td>24</td>\n",
       "      <td>8</td>\n",
       "      <td>7</td>\n",
       "      <td>0</td>\n",
       "      <td>1</td>\n",
       "      <td>2</td>\n",
       "      <td>0</td>\n",
       "      <td>...</td>\n",
       "      <td>2</td>\n",
       "      <td>44</td>\n",
       "      <td>123</td>\n",
       "      <td>304</td>\n",
       "      <td>45.0</td>\n",
       "      <td>47.0</td>\n",
       "      <td>59.0</td>\n",
       "      <td>67.0</td>\n",
       "      <td>64.0</td>\n",
       "      <td>12.0</td>\n",
       "    </tr>\n",
       "    <tr>\n",
       "      <th>2483</th>\n",
       "      <td>0</td>\n",
       "      <td>2018</td>\n",
       "      <td>Deep Bayesian Bandits Showdown:  An Empirical ...</td>\n",
       "      <td>47</td>\n",
       "      <td>12</td>\n",
       "      <td>4</td>\n",
       "      <td>1</td>\n",
       "      <td>8</td>\n",
       "      <td>7</td>\n",
       "      <td>1</td>\n",
       "      <td>...</td>\n",
       "      <td>3</td>\n",
       "      <td>76</td>\n",
       "      <td>266</td>\n",
       "      <td>253</td>\n",
       "      <td>15.0</td>\n",
       "      <td>45.0</td>\n",
       "      <td>70.0</td>\n",
       "      <td>80.0</td>\n",
       "      <td>47.0</td>\n",
       "      <td>21.0</td>\n",
       "    </tr>\n",
       "    <tr>\n",
       "      <th>2484</th>\n",
       "      <td>0</td>\n",
       "      <td>2017</td>\n",
       "      <td>Adversarial Training Methods for Semi-Supervis...</td>\n",
       "      <td>38</td>\n",
       "      <td>14</td>\n",
       "      <td>2</td>\n",
       "      <td>4</td>\n",
       "      <td>6</td>\n",
       "      <td>5</td>\n",
       "      <td>0</td>\n",
       "      <td>...</td>\n",
       "      <td>2</td>\n",
       "      <td>20</td>\n",
       "      <td>119</td>\n",
       "      <td>89</td>\n",
       "      <td>66.0</td>\n",
       "      <td>106.0</td>\n",
       "      <td>169.0</td>\n",
       "      <td>170.0</td>\n",
       "      <td>186.0</td>\n",
       "      <td>56.0</td>\n",
       "    </tr>\n",
       "  </tbody>\n",
       "</table>\n",
       "<p>2485 rows × 82 columns</p>\n",
       "</div>"
      ],
      "text/plain": [
       "      originality  year                                              title  \\\n",
       "0               1  2019  Learning Latent Superstructures in Variational...   \n",
       "1               1  2020                    Hamiltonian Generative Networks   \n",
       "2               0  2020  Robust Reinforcement Learning for Continuous C...   \n",
       "3               0  2020                        Language GANs Falling Short   \n",
       "4               0  2017          Towards the Limit of Network Quantization   \n",
       "...           ...   ...                                                ...   \n",
       "2480            0  2018  NerveNet: Learning Structured Policy with Grap...   \n",
       "2481            1  2020  Training individually fair ML models with sens...   \n",
       "2482            1  2017  Deep Variational Bayes Filters: Unsupervised L...   \n",
       "2483            0  2018  Deep Bayesian Bandits Showdown:  An Empirical ...   \n",
       "2484            0  2017  Adversarial Training Methods for Semi-Supervis...   \n",
       "\n",
       "      num_ref  num_ref_3years  arxiv  neurips  iclr  icml  aaai  ...  atr37  \\\n",
       "0          39               9      2        5     2     7     1  ...      3   \n",
       "1          31              12      4        1     6     1     0  ...      5   \n",
       "2          41              15      7        0     3     3     1  ...      1   \n",
       "3          30              14     13        1     4     0     0  ...      5   \n",
       "4          41              18     14        0     8     1     0  ...      2   \n",
       "...       ...             ...    ...      ...   ...   ...   ...  ...    ...   \n",
       "2480       54              27     18        1     7     4     0  ...      2   \n",
       "2481       46              12      4        0     2     0     1  ...      4   \n",
       "2482       24               8      7        0     1     2     0  ...      2   \n",
       "2483       47              12      4        1     8     7     1  ...      3   \n",
       "2484       38              14      2        4     6     5     0  ...      2   \n",
       "\n",
       "      atr38  atr39  citation_count  citedIn2018  citedIn2019  citedIn2020  \\\n",
       "0        53    150              36          2.0          4.0         10.0   \n",
       "1        63    186             133          0.0          8.0         52.0   \n",
       "2        80    225              72          0.0          3.0         18.0   \n",
       "3        26    163             153          5.0         32.0         47.0   \n",
       "4        33    154             147         26.0         30.0         30.0   \n",
       "...     ...    ...             ...          ...          ...          ...   \n",
       "2480     65    276             190         14.0         44.0         42.0   \n",
       "2481     63    220              75          0.0          1.0         14.0   \n",
       "2482     44    123             304         45.0         47.0         59.0   \n",
       "2483     76    266             253         15.0         45.0         70.0   \n",
       "2484     20    119              89         66.0        106.0        169.0   \n",
       "\n",
       "      citedIn2021  citedIn2022  citedIn2023  \n",
       "0            12.0          9.0          2.0  \n",
       "1            47.0         30.0          9.0  \n",
       "2            25.0         27.0          9.0  \n",
       "3            41.0         32.0         14.0  \n",
       "4            32.0         26.0          6.0  \n",
       "...           ...          ...          ...  \n",
       "2480         44.0         50.0         11.0  \n",
       "2481         20.0         42.0          9.0  \n",
       "2482         67.0         64.0         12.0  \n",
       "2483         80.0         47.0         21.0  \n",
       "2484        170.0        186.0         56.0  \n",
       "\n",
       "[2485 rows x 82 columns]"
      ]
     },
     "execution_count": 1,
     "metadata": {},
     "output_type": "execute_result"
    }
   ],
   "source": [
    "import pandas as pd \n",
    "\n",
    "data = pd.read_csv('../Dataset/originality.csv')\n",
    "data"
   ]
  },
  {
   "cell_type": "code",
   "execution_count": 2,
   "metadata": {},
   "outputs": [],
   "source": [
    "label_counts = data.groupby(['title', 'originality']).size().unstack(fill_value=0)\n",
    "dominant_labels = label_counts.idxmax(axis=1)\n",
    "data = data.merge(dominant_labels.rename('dominant_label'), left_on='title', right_index=True)\n",
    "df_filtered = data[data['originality'] == data['dominant_label']]\n",
    "\n",
    "label_counts_0 = data[data['originality'] == 0].groupby('title').size().rename('count_0')\n",
    "label_counts_1 = data[data['originality'] == 1].groupby('title').size().rename('count_1')\n",
    "\n",
    "df_filtered = df_filtered.merge(label_counts_0, left_on='title', right_index=True, how='left')\n",
    "df_filtered = df_filtered.merge(label_counts_1, left_on='title', right_index=True, how='left')\n",
    "\n",
    "df_filtered = df_filtered[df_filtered['count_0'] != df_filtered['count_1']]\n",
    "df_filtered = df_filtered.drop(['dominant_label', 'count_0', 'count_1'], axis=1)"
   ]
  },
  {
   "cell_type": "code",
   "execution_count": 3,
   "metadata": {},
   "outputs": [
    {
     "name": "stdout",
     "output_type": "stream",
     "text": [
      "<class 'pandas.core.frame.DataFrame'>\n",
      "Int64Index: 1213 entries, 0 to 2482\n",
      "Data columns (total 82 columns):\n",
      " #   Column          Non-Null Count  Dtype  \n",
      "---  ------          --------------  -----  \n",
      " 0   originality     1213 non-null   int64  \n",
      " 1   year            1213 non-null   int64  \n",
      " 2   title           1213 non-null   object \n",
      " 3   num_ref         1213 non-null   int64  \n",
      " 4   num_ref_3years  1213 non-null   int64  \n",
      " 5   arxiv           1213 non-null   int64  \n",
      " 6   neurips         1213 non-null   int64  \n",
      " 7   iclr            1213 non-null   int64  \n",
      " 8   icml            1213 non-null   int64  \n",
      " 9   aaai            1213 non-null   int64  \n",
      " 10  iccv            1213 non-null   int64  \n",
      " 11  cvpr            1213 non-null   int64  \n",
      " 12  emnlp           1213 non-null   int64  \n",
      " 13  acl             1213 non-null   int64  \n",
      " 14  naacl           1213 non-null   int64  \n",
      " 15  eccv            1213 non-null   int64  \n",
      " 16  icra            1213 non-null   int64  \n",
      " 17  icassp          1213 non-null   int64  \n",
      " 18  ijcai           1213 non-null   int64  \n",
      " 19  aistats         1213 non-null   int64  \n",
      " 20  sigkdd          1213 non-null   int64  \n",
      " 21  neuralcom       1213 non-null   int64  \n",
      " 22  ieee_tran       1213 non-null   int64  \n",
      " 23  acm_tran        1213 non-null   int64  \n",
      " 24  mit_press       1213 non-null   int64  \n",
      " 25  nature          1213 non-null   int64  \n",
      " 26  jmlr            1213 non-null   int64  \n",
      " 27  decision_ori    1213 non-null   object \n",
      " 28  decision_final  1213 non-null   object \n",
      " 29  rating1         1213 non-null   int64  \n",
      " 30  rating2         1213 non-null   int64  \n",
      " 31  rating3         1193 non-null   float64\n",
      " 32  mean            1213 non-null   float64\n",
      " 33  class_label     1213 non-null   object \n",
      " 34  filetype2       1213 non-null   object \n",
      " 35  atr0            1213 non-null   int64  \n",
      " 36  atr1            1213 non-null   int64  \n",
      " 37  atr2            1213 non-null   int64  \n",
      " 38  atr3            1213 non-null   int64  \n",
      " 39  atr4            1213 non-null   int64  \n",
      " 40  atr5            1213 non-null   int64  \n",
      " 41  atr6            1213 non-null   int64  \n",
      " 42  atr7            1213 non-null   int64  \n",
      " 43  atr8            1213 non-null   int64  \n",
      " 44  atr9            1213 non-null   int64  \n",
      " 45  atr10           1213 non-null   int64  \n",
      " 46  atr11           1213 non-null   int64  \n",
      " 47  atr12           1213 non-null   int64  \n",
      " 48  atr13           1213 non-null   int64  \n",
      " 49  atr14           1213 non-null   int64  \n",
      " 50  atr15           1213 non-null   int64  \n",
      " 51  atr16           1213 non-null   int64  \n",
      " 52  atr17           1213 non-null   int64  \n",
      " 53  atr18           1213 non-null   int64  \n",
      " 54  atr19           1213 non-null   int64  \n",
      " 55  atr20           1213 non-null   int64  \n",
      " 56  atr21           1213 non-null   int64  \n",
      " 57  atr22           1213 non-null   int64  \n",
      " 58  atr23           1213 non-null   int64  \n",
      " 59  atr24           1213 non-null   int64  \n",
      " 60  atr25           1213 non-null   int64  \n",
      " 61  atr26           1213 non-null   int64  \n",
      " 62  atr27           1213 non-null   int64  \n",
      " 63  atr28           1213 non-null   int64  \n",
      " 64  atr29           1213 non-null   int64  \n",
      " 65  atr30           1213 non-null   int64  \n",
      " 66  atr31           1213 non-null   int64  \n",
      " 67  atr32           1213 non-null   int64  \n",
      " 68  atr33           1213 non-null   int64  \n",
      " 69  atr34           1213 non-null   int64  \n",
      " 70  atr35           1213 non-null   int64  \n",
      " 71  atr36           1213 non-null   int64  \n",
      " 72  atr37           1213 non-null   int64  \n",
      " 73  atr38           1213 non-null   int64  \n",
      " 74  atr39           1213 non-null   int64  \n",
      " 75  citation_count  1213 non-null   int64  \n",
      " 76  citedIn2018     1212 non-null   float64\n",
      " 77  citedIn2019     1212 non-null   float64\n",
      " 78  citedIn2020     1212 non-null   float64\n",
      " 79  citedIn2021     1212 non-null   float64\n",
      " 80  citedIn2022     1211 non-null   float64\n",
      " 81  citedIn2023     1211 non-null   float64\n",
      "dtypes: float64(8), int64(69), object(5)\n",
      "memory usage: 786.6+ KB\n"
     ]
    }
   ],
   "source": [
    "data = df_filtered.drop_duplicates()\n",
    "data.info()"
   ]
  },
  {
   "cell_type": "code",
   "execution_count": 4,
   "metadata": {},
   "outputs": [],
   "source": [
    "data.to_csv('new-originality.csv', index=False)"
   ]
  },
  {
   "cell_type": "code",
   "execution_count": 5,
   "metadata": {},
   "outputs": [
    {
     "data": {
      "image/png": "[encoded data removed]",
      "text/plain": [
       "<Figure size 640x480 with 1 Axes>"
      ]
     },
     "metadata": {},
     "output_type": "display_data"
    }
   ],
   "source": [
    "import seaborn as sns\n",
    "import matplotlib.pyplot as plt\n",
    "\n",
    "sns.countplot(x=data['originality'])\n",
    "plt.ylabel('Distribution')\n",
    "plt.show()"
   ]
  },
  {
   "cell_type": "code",
   "execution_count": 6,
   "metadata": {},
   "outputs": [],
   "source": [
    "import plotly.graph_objects as go\n",
    "import numpy as np\n",
    "\n",
    "def correlation_matrix(dataframe):\n",
    "    df_corr = dataframe.corr()\n",
    "    fig = go.Figure()\n",
    "    fig.add_trace(\n",
    "        go.Heatmap(\n",
    "            x = df_corr.columns,\n",
    "            y = df_corr.index,\n",
    "            z = np.array(df_corr),\n",
    "            text=df_corr.values,\n",
    "            texttemplate='%{text:.2f}'\n",
    "        )\n",
    "    )\n",
    "    fig.show()"
   ]
  },
  {
   "cell_type": "markdown",
   "metadata": {},
   "source": [
    "## Citing Sentence Predictor"
   ]
  },
  {
   "cell_type": "code",
   "execution_count": 7,
   "metadata": {},
   "outputs": [],
   "source": [
    "citing_sentence = data[['atr0', 'atr1', 'atr2', 'atr3', 'atr4', 'atr5', 'atr6', 'atr7', 'atr8', 'atr9', 'atr10', 'atr11', 'atr12', 'atr13', 'atr14', 'atr15', 'atr16', 'atr17', 'atr18', 'atr19']]\n",
    "y = data['originality']"
   ]
  },
  {
   "cell_type": "code",
   "execution_count": 8,
   "metadata": {},
   "outputs": [
    {
     "data": {
      "application/vnd.plotly.v1+json": {
       "config": {
        "plotlyServerURL": "https://plot.ly"
       },
       "data": [
        {
         "text": [
          [
           1,
           -0.020375174347040358,
           0.11205852426270158,
           0.14136444856313096,
           0.08247912169640113,
           0.0854752665983831,
           0.09542368094787304,
           0.13070273606810187,
           0.007720418881073967,
           0.03428044727359007,
           0.027106625751745807,
           0.07383695209170504,
           -0.012718075490951945,
           0.034512616918337055,
           -0.024804943464563516,
           -0.020187559490363997,
           0.045042612095311615,
           0.0635726660977777,
           0.0926531687217516,
           0.29154390349555465,
           -0.01484896522154878
          ],
          [
           -0.020375174347040358,
           1,
           0.059878004129345366,
           0.034509480183476576,
           0.04720324827657054,
           0.12622568256411057,
           0.011579199929314585,
           0.031119218032536505,
           0.05902157988947851,
           0.007381905477544061,
           0.0672277892990593,
           -0.024087390251373617,
           0.0142410832993311,
           0.04680724141767555,
           0.09299315177189463,
           0.021487497753713083,
           0.04964656124495926,
           0.07804613898891269,
           0.1315696513964361,
           0.176624599982927,
           -0.016292913259155984
          ],
          [
           0.11205852426270158,
           0.059878004129345366,
           1,
           0.20014361935525982,
           0.10228184857068402,
           0.2281034461743977,
           0.11080843009585108,
           0.06964245766100248,
           0.032505578384104394,
           0.08594339805275165,
           0.027887964629167757,
           -0.020651162031363395,
           0.08580431738825996,
           0.06163012237165728,
           0.14912612986809287,
           0.029317092012536468,
           0.026834065272555375,
           0.08783852460948467,
           0.15840429804330242,
           0.46522168657114443,
           -0.011814385132582388
          ],
          [
           0.14136444856313096,
           0.034509480183476576,
           0.20014361935525982,
           1,
           0.09212127072792656,
           0.10477153066320498,
           0.11802718416401276,
           0.1673808437860505,
           0.09030213672551718,
           0.0743963178597756,
           -0.015380228941601706,
           0.12166810375194995,
           0.025950843539123504,
           0.028038642492983924,
           -0.0820783300349135,
           0.04655834007582535,
           0.08965518130454464,
           0.046164847418410246,
           0.17075513484827234,
           0.41692780383312633,
           0.02530873913767106
          ],
          [
           0.08247912169640113,
           0.04720324827657054,
           0.10228184857068402,
           0.09212127072792656,
           1,
           0.1075400608977975,
           0.09409208002975927,
           0.052090676817780124,
           0.06301817133813997,
           0.017474774157138693,
           0.01046055706986678,
           0.07547218327425077,
           0.02186776502248962,
           0.01443177658809727,
           0.006381622698430667,
           0.013960496954678549,
           0.05745100441391138,
           0.04296335297264446,
           0.09975410430470762,
           0.2899831394293519,
           -0.03272246183835536
          ],
          [
           0.0854752665983831,
           0.12622568256411057,
           0.2281034461743977,
           0.10477153066320498,
           0.1075400608977975,
           1,
           0.1985325077440693,
           0.16134023631418917,
           0.11310036716795789,
           0.11267709213069464,
           0.06086460938927387,
           0.018712143485264725,
           0.04592111625478832,
           0.038620642584166795,
           0.126078363077061,
           -0.019914677375304845,
           0.03822543997748131,
           0.1683426557708598,
           0.2117215230235896,
           0.46018981821151894,
           -0.008896009870538778
          ],
          [
           0.09542368094787304,
           0.011579199929314585,
           0.11080843009585108,
           0.11802718416401276,
           0.09409208002975927,
           0.1985325077440693,
           1,
           0.28992128612991,
           0.09318843414138583,
           0.13634633977511737,
           0.05412287124670253,
           0.1631906117219434,
           0.07127431201682921,
           0.008157102076656942,
           0.059033061237096514,
           0.009185133854105425,
           0.16579314255743585,
           0.09584360313643932,
           0.16581474067644686,
           0.48696722605367426,
           -0.07278540376569718
          ],
          [
           0.13070273606810187,
           0.031119218032536505,
           0.06964245766100248,
           0.1673808437860505,
           0.052090676817780124,
           0.16134023631418917,
           0.28992128612991,
           1,
           0.12445420157870364,
           0.22053502025593105,
           0.08756192883157655,
           0.17509099324582403,
           0.06562080954916949,
           0.07557341403148157,
           -0.10968628061303894,
           0.04300561847332457,
           0.14574918440967105,
           0.11003219335030286,
           0.10074778761500035,
           0.5360278483382875,
           -0.056897752847200334
          ],
          [
           0.007720418881073967,
           0.05902157988947851,
           0.032505578384104394,
           0.09030213672551718,
           0.06301817133813997,
           0.11310036716795789,
           0.09318843414138583,
           0.12445420157870364,
           1,
           0.12831772623513021,
           0.10128979919620412,
           0.052712350791901126,
           -0.0009565669021860786,
           0.023899562381351897,
           0.06165190260756834,
           0.06200232473528923,
           0.13091952453639746,
           0.07614018919593428,
           0.12239062764230685,
           0.2763206838811785,
           -0.01455929097837557
          ],
          [
           0.03428044727359007,
           0.007381905477544061,
           0.08594339805275165,
           0.0743963178597756,
           0.017474774157138693,
           0.11267709213069464,
           0.13634633977511737,
           0.22053502025593105,
           0.12831772623513021,
           1,
           0.020654678737421113,
           0.0600587978611503,
           0.09102109505587108,
           0.10103688469134632,
           0.012571534719845843,
           0.0710661959169032,
           0.09994743573829261,
           0.15458907620353324,
           0.108771917518523,
           0.3353610848558731,
           -0.06430586956038621
          ],
          [
           0.027106625751745807,
           0.0672277892990593,
           0.027887964629167757,
           -0.015380228941601706,
           0.01046055706986678,
           0.06086460938927387,
           0.05412287124670253,
           0.08756192883157655,
           0.10128979919620412,
           0.020654678737421113,
           1,
           -0.0010036315856753017,
           -0.026967707290110467,
           0.01469361415780131,
           0.016823198405847513,
           -0.0326599133297234,
           0.09602427014942255,
           0.0357455148839153,
           0.05882018837818875,
           0.12594246356401798,
           0.011245473118387637
          ],
          [
           0.07383695209170504,
           -0.024087390251373617,
           -0.020651162031363395,
           0.12166810375194995,
           0.07547218327425077,
           0.018712143485264725,
           0.1631906117219434,
           0.17509099324582403,
           0.052712350791901126,
           0.0600587978611503,
           -0.0010036315856753017,
           1,
           0.12108841494457463,
           0.06916859626364566,
           0.061289580827718494,
           0.04307187495418337,
           0.0862821411616348,
           0.12018832303092003,
           0.12764960484681112,
           0.4537123845038768,
           -0.04832868529604894
          ],
          [
           -0.012718075490951945,
           0.0142410832993311,
           0.08580431738825996,
           0.025950843539123504,
           0.02186776502248962,
           0.04592111625478832,
           0.07127431201682921,
           0.06562080954916949,
           -0.0009565669021860786,
           0.09102109505587108,
           -0.026967707290110467,
           0.12108841494457463,
           1,
           0.06434858137957888,
           0.09879566914404528,
           0.13134553863928908,
           -0.0026886192712527886,
           0.0796199084076904,
           0.05463247677676091,
           0.2338331048193319,
           -0.11515334383346366
          ],
          [
           0.034512616918337055,
           0.04680724141767555,
           0.06163012237165728,
           0.028038642492983924,
           0.01443177658809727,
           0.038620642584166795,
           0.008157102076656942,
           0.07557341403148157,
           0.023899562381351897,
           0.10103688469134632,
           0.01469361415780131,
           0.06916859626364566,
           0.06434858137957888,
           1,
           0.09115404229851216,
           -0.021892826014294223,
           0.06885060332966371,
           0.07587655674430437,
           0.07887792363436776,
           0.1865170941121705,
           -0.004478835351059551
          ],
          [
           -0.024804943464563516,
           0.09299315177189463,
           0.14912612986809287,
           -0.0820783300349135,
           0.006381622698430667,
           0.126078363077061,
           0.059033061237096514,
           -0.10968628061303894,
           0.06165190260756834,
           0.012571534719845843,
           0.016823198405847513,
           0.061289580827718494,
           0.09879566914404528,
           0.09115404229851216,
           1,
           0.04446821772189367,
           -0.032164838987398574,
           0.06052649302697781,
           0.13644273185932804,
           0.24826501263156778,
           0.003880825906782714
          ],
          [
           -0.020187559490363997,
           0.021487497753713083,
           0.029317092012536468,
           0.04655834007582535,
           0.013960496954678549,
           -0.019914677375304845,
           0.009185133854105425,
           0.04300561847332457,
           0.06200232473528923,
           0.0710661959169032,
           -0.0326599133297234,
           0.04307187495418337,
           0.13134553863928908,
           -0.021892826014294223,
           0.04446821772189367,
           1,
           0.007651040708509942,
           0.0784115348382501,
           0.08447030411302328,
           0.11807667548684252,
           -0.06498599016980854
          ],
          [
           0.045042612095311615,
           0.04964656124495926,
           0.026834065272555375,
           0.08965518130454464,
           0.05745100441391138,
           0.03822543997748131,
           0.16579314255743585,
           0.14574918440967105,
           0.13091952453639746,
           0.09994743573829261,
           0.09602427014942255,
           0.0862821411616348,
           -0.0026886192712527886,
           0.06885060332966371,
           -0.032164838987398574,
           0.007651040708509942,
           1,
           0.17116015235117452,
           0.06281352681622576,
           0.3031330093531744,
           -0.03985836542563378
          ],
          [
           0.0635726660977777,
           0.07804613898891269,
           0.08783852460948467,
           0.046164847418410246,
           0.04296335297264446,
           0.1683426557708598,
           0.09584360313643932,
           0.11003219335030286,
           0.07614018919593428,
           0.15458907620353324,
           0.0357455148839153,
           0.12018832303092003,
           0.0796199084076904,
           0.07587655674430437,
           0.06052649302697781,
           0.0784115348382501,
           0.17116015235117452,
           1,
           0.10086317443156866,
           0.3171292270047809,
           -0.04081327685321736
          ],
          [
           0.0926531687217516,
           0.1315696513964361,
           0.15840429804330242,
           0.17075513484827234,
           0.09975410430470762,
           0.2117215230235896,
           0.16581474067644686,
           0.10074778761500035,
           0.12239062764230685,
           0.108771917518523,
           0.05882018837818875,
           0.12764960484681112,
           0.05463247677676091,
           0.07887792363436776,
           0.13644273185932804,
           0.08447030411302328,
           0.06281352681622576,
           0.10086317443156866,
           1,
           0.537773360141446,
           -0.026072088367546827
          ],
          [
           0.29154390349555465,
           0.176624599982927,
           0.46522168657114443,
           0.41692780383312633,
           0.2899831394293519,
           0.46018981821151894,
           0.48696722605367426,
           0.5360278483382875,
           0.2763206838811785,
           0.3353610848558731,
           0.12594246356401798,
           0.4537123845038768,
           0.2338331048193319,
           0.1865170941121705,
           0.24826501263156778,
           0.11807667548684252,
           0.3031330093531744,
           0.3171292270047809,
           0.537773360141446,
           1,
           -0.07982619450818111
          ],
          [
           -0.01484896522154878,
           -0.016292913259155984,
           -0.011814385132582388,
           0.02530873913767106,
           -0.03272246183835536,
           -0.008896009870538778,
           -0.07278540376569718,
           -0.056897752847200334,
           -0.01455929097837557,
           -0.06430586956038621,
           0.011245473118387637,
           -0.04832868529604894,
           -0.11515334383346366,
           -0.004478835351059551,
           0.003880825906782714,
           -0.06498599016980854,
           -0.03985836542563378,
           -0.04081327685321736,
           -0.026072088367546827,
           -0.07982619450818111,
           1
          ]
         ],
         "texttemplate": "%{text:.2f}",
         "type": "heatmap",
         "x": [
          "atr0",
          "atr1",
          "atr2",
          "atr3",
          "atr4",
          "atr5",
          "atr6",
          "atr7",
          "atr8",
          "atr9",
          "atr10",
          "atr11",
          "atr12",
          "atr13",
          "atr14",
          "atr15",
          "atr16",
          "atr17",
          "atr18",
          "atr19",
          "originality"
         ],
         "y": [
          "atr0",
          "atr1",
          "atr2",
          "atr3",
          "atr4",
          "atr5",
          "atr6",
          "atr7",
          "atr8",
          "atr9",
          "atr10",
          "atr11",
          "atr12",
          "atr13",
          "atr14",
          "atr15",
          "atr16",
          "atr17",
          "atr18",
          "atr19",
          "originality"
         ],
         "z": [
          [
           1,
           -0.020375174347040358,
           0.11205852426270158,
           0.14136444856313096,
           0.08247912169640113,
           0.0854752665983831,
           0.09542368094787304,
           0.13070273606810187,
           0.007720418881073967,
           0.03428044727359007,
           0.027106625751745807,
           0.07383695209170504,
           -0.012718075490951945,
           0.034512616918337055,
           -0.024804943464563516,
           -0.020187559490363997,
           0.045042612095311615,
           0.0635726660977777,
           0.0926531687217516,
           0.29154390349555465,
           -0.01484896522154878
          ],
          [
           -0.020375174347040358,
           1,
           0.059878004129345366,
           0.034509480183476576,
           0.04720324827657054,
           0.12622568256411057,
           0.011579199929314585,
           0.031119218032536505,
           0.05902157988947851,
           0.007381905477544061,
           0.0672277892990593,
           -0.024087390251373617,
           0.0142410832993311,
           0.04680724141767555,
           0.09299315177189463,
           0.021487497753713083,
           0.04964656124495926,
           0.07804613898891269,
           0.1315696513964361,
           0.176624599982927,
           -0.016292913259155984
          ],
          [
           0.11205852426270158,
           0.059878004129345366,
           1,
           0.20014361935525982,
           0.10228184857068402,
           0.2281034461743977,
           0.11080843009585108,
           0.06964245766100248,
           0.032505578384104394,
           0.08594339805275165,
           0.027887964629167757,
           -0.020651162031363395,
           0.08580431738825996,
           0.06163012237165728,
           0.14912612986809287,
           0.029317092012536468,
           0.026834065272555375,
           0.08783852460948467,
           0.15840429804330242,
           0.46522168657114443,
           -0.011814385132582388
          ],
          [
           0.14136444856313096,
           0.034509480183476576,
           0.20014361935525982,
           1,
           0.09212127072792656,
           0.10477153066320498,
           0.11802718416401276,
           0.1673808437860505,
           0.09030213672551718,
           0.0743963178597756,
           -0.015380228941601706,
           0.12166810375194995,
           0.025950843539123504,
           0.028038642492983924,
           -0.0820783300349135,
           0.04655834007582535,
           0.08965518130454464,
           0.046164847418410246,
           0.17075513484827234,
           0.41692780383312633,
           0.02530873913767106
          ],
          [
           0.08247912169640113,
           0.04720324827657054,
           0.10228184857068402,
           0.09212127072792656,
           1,
           0.1075400608977975,
           0.09409208002975927,
           0.052090676817780124,
           0.06301817133813997,
           0.017474774157138693,
           0.01046055706986678,
           0.07547218327425077,
           0.02186776502248962,
           0.01443177658809727,
           0.006381622698430667,
           0.013960496954678549,
           0.05745100441391138,
           0.04296335297264446,
           0.09975410430470762,
           0.2899831394293519,
           -0.03272246183835536
          ],
          [
           0.0854752665983831,
           0.12622568256411057,
           0.2281034461743977,
           0.10477153066320498,
           0.1075400608977975,
           1,
           0.1985325077440693,
           0.16134023631418917,
           0.11310036716795789,
           0.11267709213069464,
           0.06086460938927387,
           0.018712143485264725,
           0.04592111625478832,
           0.038620642584166795,
           0.126078363077061,
           -0.019914677375304845,
           0.03822543997748131,
           0.1683426557708598,
           0.2117215230235896,
           0.46018981821151894,
           -0.008896009870538778
          ],
          [
           0.09542368094787304,
           0.011579199929314585,
           0.11080843009585108,
           0.11802718416401276,
           0.09409208002975927,
           0.1985325077440693,
           1,
           0.28992128612991,
           0.09318843414138583,
           0.13634633977511737,
           0.05412287124670253,
           0.1631906117219434,
           0.07127431201682921,
           0.008157102076656942,
           0.059033061237096514,
           0.009185133854105425,
           0.16579314255743585,
           0.09584360313643932,
           0.16581474067644686,
           0.48696722605367426,
           -0.07278540376569718
          ],
          [
           0.13070273606810187,
           0.031119218032536505,
           0.06964245766100248,
           0.1673808437860505,
           0.052090676817780124,
           0.16134023631418917,
           0.28992128612991,
           1,
           0.12445420157870364,
           0.22053502025593105,
           0.08756192883157655,
           0.17509099324582403,
           0.06562080954916949,
           0.07557341403148157,
           -0.10968628061303894,
           0.04300561847332457,
           0.14574918440967105,
           0.11003219335030286,
           0.10074778761500035,
           0.5360278483382875,
           -0.056897752847200334
          ],
          [
           0.007720418881073967,
           0.05902157988947851,
           0.032505578384104394,
           0.09030213672551718,
           0.06301817133813997,
           0.11310036716795789,
           0.09318843414138583,
           0.12445420157870364,
           1,
           0.12831772623513021,
           0.10128979919620412,
           0.052712350791901126,
           -0.0009565669021860786,
           0.023899562381351897,
           0.06165190260756834,
           0.06200232473528923,
           0.13091952453639746,
           0.07614018919593428,
           0.12239062764230685,
           0.2763206838811785,
           -0.01455929097837557
          ],
          [
           0.03428044727359007,
           0.007381905477544061,
           0.08594339805275165,
           0.0743963178597756,
           0.017474774157138693,
           0.11267709213069464,
           0.13634633977511737,
           0.22053502025593105,
           0.12831772623513021,
           1,
           0.020654678737421113,
           0.0600587978611503,
           0.09102109505587108,
           0.10103688469134632,
           0.012571534719845843,
           0.0710661959169032,
           0.09994743573829261,
           0.15458907620353324,
           0.108771917518523,
           0.3353610848558731,
           -0.06430586956038621
          ],
          [
           0.027106625751745807,
           0.0672277892990593,
           0.027887964629167757,
           -0.015380228941601706,
           0.01046055706986678,
           0.06086460938927387,
           0.05412287124670253,
           0.08756192883157655,
           0.10128979919620412,
           0.020654678737421113,
           1,
           -0.0010036315856753017,
           -0.026967707290110467,
           0.01469361415780131,
           0.016823198405847513,
           -0.0326599133297234,
           0.09602427014942255,
           0.0357455148839153,
           0.05882018837818875,
           0.12594246356401798,
           0.011245473118387637
          ],
          [
           0.07383695209170504,
           -0.024087390251373617,
           -0.020651162031363395,
           0.12166810375194995,
           0.07547218327425077,
           0.018712143485264725,
           0.1631906117219434,
           0.17509099324582403,
           0.052712350791901126,
           0.0600587978611503,
           -0.0010036315856753017,
           1,
           0.12108841494457463,
           0.06916859626364566,
           0.061289580827718494,
           0.04307187495418337,
           0.0862821411616348,
           0.12018832303092003,
           0.12764960484681112,
           0.4537123845038768,
           -0.04832868529604894
          ],
          [
           -0.012718075490951945,
           0.0142410832993311,
           0.08580431738825996,
           0.025950843539123504,
           0.02186776502248962,
           0.04592111625478832,
           0.07127431201682921,
           0.06562080954916949,
           -0.0009565669021860786,
           0.09102109505587108,
           -0.026967707290110467,
           0.12108841494457463,
           1,
           0.06434858137957888,
           0.09879566914404528,
           0.13134553863928908,
           -0.0026886192712527886,
           0.0796199084076904,
           0.05463247677676091,
           0.2338331048193319,
           -0.11515334383346366
          ],
          [
           0.034512616918337055,
           0.04680724141767555,
           0.06163012237165728,
           0.028038642492983924,
           0.01443177658809727,
           0.038620642584166795,
           0.008157102076656942,
           0.07557341403148157,
           0.023899562381351897,
           0.10103688469134632,
           0.01469361415780131,
           0.06916859626364566,
           0.06434858137957888,
           1,
           0.09115404229851216,
           -0.021892826014294223,
           0.06885060332966371,
           0.07587655674430437,
           0.07887792363436776,
           0.1865170941121705,
           -0.004478835351059551
          ],
          [
           -0.024804943464563516,
           0.09299315177189463,
           0.14912612986809287,
           -0.0820783300349135,
           0.006381622698430667,
           0.126078363077061,
           0.059033061237096514,
           -0.10968628061303894,
           0.06165190260756834,
           0.012571534719845843,
           0.016823198405847513,
           0.061289580827718494,
           0.09879566914404528,
           0.09115404229851216,
           1,
           0.04446821772189367,
           -0.032164838987398574,
           0.06052649302697781,
           0.13644273185932804,
           0.24826501263156778,
           0.003880825906782714
          ],
          [
           -0.020187559490363997,
           0.021487497753713083,
           0.029317092012536468,
           0.04655834007582535,
           0.013960496954678549,
           -0.019914677375304845,
           0.009185133854105425,
           0.04300561847332457,
           0.06200232473528923,
           0.0710661959169032,
           -0.0326599133297234,
           0.04307187495418337,
           0.13134553863928908,
           -0.021892826014294223,
           0.04446821772189367,
           1,
           0.007651040708509942,
           0.0784115348382501,
           0.08447030411302328,
           0.11807667548684252,
           -0.06498599016980854
          ],
          [
           0.045042612095311615,
           0.04964656124495926,
           0.026834065272555375,
           0.08965518130454464,
           0.05745100441391138,
           0.03822543997748131,
           0.16579314255743585,
           0.14574918440967105,
           0.13091952453639746,
           0.09994743573829261,
           0.09602427014942255,
           0.0862821411616348,
           -0.0026886192712527886,
           0.06885060332966371,
           -0.032164838987398574,
           0.007651040708509942,
           1,
           0.17116015235117452,
           0.06281352681622576,
           0.3031330093531744,
           -0.03985836542563378
          ],
          [
           0.0635726660977777,
           0.07804613898891269,
           0.08783852460948467,
           0.046164847418410246,
           0.04296335297264446,
           0.1683426557708598,
           0.09584360313643932,
           0.11003219335030286,
           0.07614018919593428,
           0.15458907620353324,
           0.0357455148839153,
           0.12018832303092003,
           0.0796199084076904,
           0.07587655674430437,
           0.06052649302697781,
           0.0784115348382501,
           0.17116015235117452,
           1,
           0.10086317443156866,
           0.3171292270047809,
           -0.04081327685321736
          ],
          [
           0.0926531687217516,
           0.1315696513964361,
           0.15840429804330242,
           0.17075513484827234,
           0.09975410430470762,
           0.2117215230235896,
           0.16581474067644686,
           0.10074778761500035,
           0.12239062764230685,
           0.108771917518523,
           0.05882018837818875,
           0.12764960484681112,
           0.05463247677676091,
           0.07887792363436776,
           0.13644273185932804,
           0.08447030411302328,
           0.06281352681622576,
           0.10086317443156866,
           1,
           0.537773360141446,
           -0.026072088367546827
          ],
          [
           0.29154390349555465,
           0.176624599982927,
           0.46522168657114443,
           0.41692780383312633,
           0.2899831394293519,
           0.46018981821151894,
           0.48696722605367426,
           0.5360278483382875,
           0.2763206838811785,
           0.3353610848558731,
           0.12594246356401798,
           0.4537123845038768,
           0.2338331048193319,
           0.1865170941121705,
           0.24826501263156778,
           0.11807667548684252,
           0.3031330093531744,
           0.3171292270047809,
           0.537773360141446,
           1,
           -0.07982619450818111
          ],
          [
           -0.01484896522154878,
           -0.016292913259155984,
           -0.011814385132582388,
           0.02530873913767106,
           -0.03272246183835536,
           -0.008896009870538778,
           -0.07278540376569718,
           -0.056897752847200334,
           -0.01455929097837557,
           -0.06430586956038621,
           0.011245473118387637,
           -0.04832868529604894,
           -0.11515334383346366,
           -0.004478835351059551,
           0.003880825906782714,
           -0.06498599016980854,
           -0.03985836542563378,
           -0.04081327685321736,
           -0.026072088367546827,
           -0.07982619450818111,
           1
          ]
         ]
        }
       ],
       "layout": {
        "template": {
         "data": {
          "bar": [
           {
            "error_x": {
             "color": "#2a3f5f"
            },
            "error_y": {
             "color": "#2a3f5f"
            },
            "marker": {
             "line": {
              "color": "#E5ECF6",
              "width": 0.5
             },
             "pattern": {
              "fillmode": "overlay",
              "size": 10,
              "solidity": 0.2
             }
            },
            "type": "bar"
           }
          ],
          "barpolar": [
           {
            "marker": {
             "line": {
              "color": "#E5ECF6",
              "width": 0.5
             },
             "pattern": {
              "fillmode": "overlay",
              "size": 10,
              "solidity": 0.2
             }
            },
            "type": "barpolar"
           }
          ],
          "carpet": [
           {
            "aaxis": {
             "endlinecolor": "#2a3f5f",
             "gridcolor": "white",
             "linecolor": "white",
             "minorgridcolor": "white",
             "startlinecolor": "#2a3f5f"
            },
            "baxis": {
             "endlinecolor": "#2a3f5f",
             "gridcolor": "white",
             "linecolor": "white",
             "minorgridcolor": "white",
             "startlinecolor": "#2a3f5f"
            },
            "type": "carpet"
           }
          ],
          "choropleth": [
           {
            "colorbar": {
             "outlinewidth": 0,
             "ticks": ""
            },
            "type": "choropleth"
           }
          ],
          "contour": [
           {
            "colorbar": {
             "outlinewidth": 0,
             "ticks": ""
            },
            "colorscale": [
             [
              0,
              "#0d0887"
             ],
             [
              0.1111111111111111,
              "#46039f"
             ],
             [
              0.2222222222222222,
              "#7201a8"
             ],
             [
              0.3333333333333333,
              "#9c179e"
             ],
             [
              0.4444444444444444,
              "#bd3786"
             ],
             [
              0.5555555555555556,
              "#d8576b"
             ],
             [
              0.6666666666666666,
              "#ed7953"
             ],
             [
              0.7777777777777778,
              "#fb9f3a"
             ],
             [
              0.8888888888888888,
              "#fdca26"
             ],
             [
              1,
              "#f0f921"
             ]
            ],
            "type": "contour"
           }
          ],
          "contourcarpet": [
           {
            "colorbar": {
             "outlinewidth": 0,
             "ticks": ""
            },
            "type": "contourcarpet"
           }
          ],
          "heatmap": [
           {
            "colorbar": {
             "outlinewidth": 0,
             "ticks": ""
            },
            "colorscale": [
             [
              0,
              "#0d0887"
             ],
             [
              0.1111111111111111,
              "#46039f"
             ],
             [
              0.2222222222222222,
              "#7201a8"
             ],
             [
              0.3333333333333333,
              "#9c179e"
             ],
             [
              0.4444444444444444,
              "#bd3786"
             ],
             [
              0.5555555555555556,
              "#d8576b"
             ],
             [
              0.6666666666666666,
              "#ed7953"
             ],
             [
              0.7777777777777778,
              "#fb9f3a"
             ],
             [
              0.8888888888888888,
              "#fdca26"
             ],
             [
              1,
              "#f0f921"
             ]
            ],
            "type": "heatmap"
           }
          ],
          "heatmapgl": [
           {
            "colorbar": {
             "outlinewidth": 0,
             "ticks": ""
            },
            "colorscale": [
             [
              0,
              "#0d0887"
             ],
             [
              0.1111111111111111,
              "#46039f"
             ],
             [
              0.2222222222222222,
              "#7201a8"
             ],
             [
              0.3333333333333333,
              "#9c179e"
             ],
             [
              0.4444444444444444,
              "#bd3786"
             ],
             [
              0.5555555555555556,
              "#d8576b"
             ],
             [
              0.6666666666666666,
              "#ed7953"
             ],
             [
              0.7777777777777778,
              "#fb9f3a"
             ],
             [
              0.8888888888888888,
              "#fdca26"
             ],
             [
              1,
              "#f0f921"
             ]
            ],
            "type": "heatmapgl"
           }
          ],
          "histogram": [
           {
            "marker": {
             "pattern": {
              "fillmode": "overlay",
              "size": 10,
              "solidity": 0.2
             }
            },
            "type": "histogram"
           }
          ],
          "histogram2d": [
           {
            "colorbar": {
             "outlinewidth": 0,
             "ticks": ""
            },
            "colorscale": [
             [
              0,
              "#0d0887"
             ],
             [
              0.1111111111111111,
              "#46039f"
             ],
             [
              0.2222222222222222,
              "#7201a8"
             ],
             [
              0.3333333333333333,
              "#9c179e"
             ],
             [
              0.4444444444444444,
              "#bd3786"
             ],
             [
              0.5555555555555556,
              "#d8576b"
             ],
             [
              0.6666666666666666,
              "#ed7953"
             ],
             [
              0.7777777777777778,
              "#fb9f3a"
             ],
             [
              0.8888888888888888,
              "#fdca26"
             ],
             [
              1,
              "#f0f921"
             ]
            ],
            "type": "histogram2d"
           }
          ],
          "histogram2dcontour": [
           {
            "colorbar": {
             "outlinewidth": 0,
             "ticks": ""
            },
            "colorscale": [
             [
              0,
              "#0d0887"
             ],
             [
              0.1111111111111111,
              "#46039f"
             ],
             [
              0.2222222222222222,
              "#7201a8"
             ],
             [
              0.3333333333333333,
              "#9c179e"
             ],
             [
              0.4444444444444444,
              "#bd3786"
             ],
             [
              0.5555555555555556,
              "#d8576b"
             ],
             [
              0.6666666666666666,
              "#ed7953"
             ],
             [
              0.7777777777777778,
              "#fb9f3a"
             ],
             [
              0.8888888888888888,
              "#fdca26"
             ],
             [
              1,
              "#f0f921"
             ]
            ],
            "type": "histogram2dcontour"
           }
          ],
          "mesh3d": [
           {
            "colorbar": {
             "outlinewidth": 0,
             "ticks": ""
            },
            "type": "mesh3d"
           }
          ],
          "parcoords": [
           {
            "line": {
             "colorbar": {
              "outlinewidth": 0,
              "ticks": ""
             }
            },
            "type": "parcoords"
           }
          ],
          "pie": [
           {
            "automargin": true,
            "type": "pie"
           }
          ],
          "scatter": [
           {
            "fillpattern": {
             "fillmode": "overlay",
             "size": 10,
             "solidity": 0.2
            },
            "type": "scatter"
           }
          ],
          "scatter3d": [
           {
            "line": {
             "colorbar": {
              "outlinewidth": 0,
              "ticks": ""
             }
            },
            "marker": {
             "colorbar": {
              "outlinewidth": 0,
              "ticks": ""
             }
            },
            "type": "scatter3d"
           }
          ],
          "scattercarpet": [
           {
            "marker": {
             "colorbar": {
              "outlinewidth": 0,
              "ticks": ""
             }
            },
            "type": "scattercarpet"
           }
          ],
          "scattergeo": [
           {
            "marker": {
             "colorbar": {
              "outlinewidth": 0,
              "ticks": ""
             }
            },
            "type": "scattergeo"
           }
          ],
          "scattergl": [
           {
            "marker": {
             "colorbar": {
              "outlinewidth": 0,
              "ticks": ""
             }
            },
            "type": "scattergl"
           }
          ],
          "scattermapbox": [
           {
            "marker": {
             "colorbar": {
              "outlinewidth": 0,
              "ticks": ""
             }
            },
            "type": "scattermapbox"
           }
          ],
          "scatterpolar": [
           {
            "marker": {
             "colorbar": {
              "outlinewidth": 0,
              "ticks": ""
             }
            },
            "type": "scatterpolar"
           }
          ],
          "scatterpolargl": [
           {
            "marker": {
             "colorbar": {
              "outlinewidth": 0,
              "ticks": ""
             }
            },
            "type": "scatterpolargl"
           }
          ],
          "scatterternary": [
           {
            "marker": {
             "colorbar": {
              "outlinewidth": 0,
              "ticks": ""
             }
            },
            "type": "scatterternary"
           }
          ],
          "surface": [
           {
            "colorbar": {
             "outlinewidth": 0,
             "ticks": ""
            },
            "colorscale": [
             [
              0,
              "#0d0887"
             ],
             [
              0.1111111111111111,
              "#46039f"
             ],
             [
              0.2222222222222222,
              "#7201a8"
             ],
             [
              0.3333333333333333,
              "#9c179e"
             ],
             [
              0.4444444444444444,
              "#bd3786"
             ],
             [
              0.5555555555555556,
              "#d8576b"
             ],
             [
              0.6666666666666666,
              "#ed7953"
             ],
             [
              0.7777777777777778,
              "#fb9f3a"
             ],
             [
              0.8888888888888888,
              "#fdca26"
             ],
             [
              1,
              "#f0f921"
             ]
            ],
            "type": "surface"
           }
          ],
          "table": [
           {
            "cells": {
             "fill": {
              "color": "#EBF0F8"
             },
             "line": {
              "color": "white"
             }
            },
            "header": {
             "fill": {
              "color": "#C8D4E3"
             },
             "line": {
              "color": "white"
             }
            },
            "type": "table"
           }
          ]
         },
         "layout": {
          "annotationdefaults": {
           "arrowcolor": "#2a3f5f",
           "arrowhead": 0,
           "arrowwidth": 1
          },
          "autotypenumbers": "strict",
          "coloraxis": {
           "colorbar": {
            "outlinewidth": 0,
            "ticks": ""
           }
          },
          "colorscale": {
           "diverging": [
            [
             0,
             "#8e0152"
            ],
            [
             0.1,
             "#c51b7d"
            ],
            [
             0.2,
             "#de77ae"
            ],
            [
             0.3,
             "#f1b6da"
            ],
            [
             0.4,
             "#fde0ef"
            ],
            [
             0.5,
             "#f7f7f7"
            ],
            [
             0.6,
             "#e6f5d0"
            ],
            [
             0.7,
             "#b8e186"
            ],
            [
             0.8,
             "#7fbc41"
            ],
            [
             0.9,
             "#4d9221"
            ],
            [
             1,
             "#276419"
            ]
           ],
           "sequential": [
            [
             0,
             "#0d0887"
            ],
            [
             0.1111111111111111,
             "#46039f"
            ],
            [
             0.2222222222222222,
             "#7201a8"
            ],
            [
             0.3333333333333333,
             "#9c179e"
            ],
            [
             0.4444444444444444,
             "#bd3786"
            ],
            [
             0.5555555555555556,
             "#d8576b"
            ],
            [
             0.6666666666666666,
             "#ed7953"
            ],
            [
             0.7777777777777778,
             "#fb9f3a"
            ],
            [
             0.8888888888888888,
             "#fdca26"
            ],
            [
             1,
             "#f0f921"
            ]
           ],
           "sequentialminus": [
            [
             0,
             "#0d0887"
            ],
            [
             0.1111111111111111,
             "#46039f"
            ],
            [
             0.2222222222222222,
             "#7201a8"
            ],
            [
             0.3333333333333333,
             "#9c179e"
            ],
            [
             0.4444444444444444,
             "#bd3786"
            ],
            [
             0.5555555555555556,
             "#d8576b"
            ],
            [
             0.6666666666666666,
             "#ed7953"
            ],
            [
             0.7777777777777778,
             "#fb9f3a"
            ],
            [
             0.8888888888888888,
             "#fdca26"
            ],
            [
             1,
             "#f0f921"
            ]
           ]
          },
          "colorway": [
           "#636efa",
           "#EF553B",
           "#00cc96",
           "#ab63fa",
           "#FFA15A",
           "#19d3f3",
           "#FF6692",
           "#B6E880",
           "#FF97FF",
           "#FECB52"
          ],
          "font": {
           "color": "#2a3f5f"
          },
          "geo": {
           "bgcolor": "white",
           "lakecolor": "white",
           "landcolor": "#E5ECF6",
           "showlakes": true,
           "showland": true,
           "subunitcolor": "white"
          },
          "hoverlabel": {
           "align": "left"
          },
          "hovermode": "closest",
          "mapbox": {
           "style": "light"
          },
          "paper_bgcolor": "white",
          "plot_bgcolor": "#E5ECF6",
          "polar": {
           "angularaxis": {
            "gridcolor": "white",
            "linecolor": "white",
            "ticks": ""
           },
           "bgcolor": "#E5ECF6",
           "radialaxis": {
            "gridcolor": "white",
            "linecolor": "white",
            "ticks": ""
           }
          },
          "scene": {
           "xaxis": {
            "backgroundcolor": "#E5ECF6",
            "gridcolor": "white",
            "gridwidth": 2,
            "linecolor": "white",
            "showbackground": true,
            "ticks": "",
            "zerolinecolor": "white"
           },
           "yaxis": {
            "backgroundcolor": "#E5ECF6",
            "gridcolor": "white",
            "gridwidth": 2,
            "linecolor": "white",
            "showbackground": true,
            "ticks": "",
            "zerolinecolor": "white"
           },
           "zaxis": {
            "backgroundcolor": "#E5ECF6",
            "gridcolor": "white",
            "gridwidth": 2,
            "linecolor": "white",
            "showbackground": true,
            "ticks": "",
            "zerolinecolor": "white"
           }
          },
          "shapedefaults": {
           "line": {
            "color": "#2a3f5f"
           }
          },
          "ternary": {
           "aaxis": {
            "gridcolor": "white",
            "linecolor": "white",
            "ticks": ""
           },
           "baxis": {
            "gridcolor": "white",
            "linecolor": "white",
            "ticks": ""
           },
           "bgcolor": "#E5ECF6",
           "caxis": {
            "gridcolor": "white",
            "linecolor": "white",
            "ticks": ""
           }
          },
          "title": {
           "x": 0.05
          },
          "xaxis": {
           "automargin": true,
           "gridcolor": "white",
           "linecolor": "white",
           "ticks": "",
           "title": {
            "standoff": 15
           },
           "zerolinecolor": "white",
           "zerolinewidth": 2
          },
          "yaxis": {
           "automargin": true,
           "gridcolor": "white",
           "linecolor": "white",
           "ticks": "",
           "title": {
            "standoff": 15
           },
           "zerolinecolor": "white",
           "zerolinewidth": 2
          }
         }
        }
       }
      }
     },
     "metadata": {},
     "output_type": "display_data"
    }
   ],
   "source": [
    "dataframe = citing_sentence.join([y])\n",
    "correlation_matrix(dataframe)"
   ]
  },
  {
   "cell_type": "code",
   "execution_count": 9,
   "metadata": {},
   "outputs": [],
   "source": [
    "from sklearn.feature_selection import chi2, SelectKBest\n",
    "from sklearn.preprocessing import MinMaxScaler\n",
    "\n",
    "def find_chi(features, y, k):\n",
    "    chi_square = SelectKBest(score_func=chi2, k=k)\n",
    "    fit = chi_square.fit(features, y)\n",
    "    \n",
    "    selected_feature_indices = chi_square.get_support(indices=True)\n",
    "    feature_names = features.columns\n",
    "    chi2_scores = fit.scores_\n",
    "    feature_score_dict = dict(zip(feature_names, chi2_scores))\n",
    "    sorted_features = sorted(feature_score_dict.items(), key=lambda x: x[1], reverse=True)\n",
    "    selected_feature_names = [feature[0] for feature in sorted_features[:k]]\n",
    "    \n",
    "    print(\"Selected Feature Names:\", selected_feature_names)\n",
    "    x_chi = chi_square.fit_transform(features, y)\n",
    "    \n",
    "    scaler = MinMaxScaler()\n",
    "    x = scaler.fit_transform(x_chi)\n",
    "\n",
    "    x_train, x_test, y_train, y_test = train_split(x, y)\n",
    "    return x_train, x_test, y_train, y_test, selected_feature_names"
   ]
  },
  {
   "cell_type": "code",
   "execution_count": 10,
   "metadata": {},
   "outputs": [],
   "source": [
    "from sklearn.model_selection import train_test_split\n",
    "\n",
    "def train_split(x, y):\n",
    "    x_train, x_test, y_train, y_test = train_test_split(x, y, test_size=0.2, random_state=123)\n",
    "    return x_train, x_test, y_train, y_test"
   ]
  },
  {
   "cell_type": "code",
   "execution_count": 11,
   "metadata": {},
   "outputs": [],
   "source": [
    "test = pd.DataFrame(columns=['Features', 'Accuracy'])"
   ]
  },
  {
   "cell_type": "code",
   "execution_count": 12,
   "metadata": {},
   "outputs": [],
   "source": [
    "from xgboost import XGBClassifier\n",
    "from sklearn.metrics import accuracy_score\n",
    "\n",
    "def model(features, y, i):\n",
    "    model = XGBClassifier()\n",
    "    x_train, x_test, y_train, y_test, selected_feature_names = find_chi(features, y, i)\n",
    "    model.fit(x_train, y_train)\n",
    "    \n",
    "    y_pred = model.predict(x_test)\n",
    "    predictions = [round(value) for value in y_pred]\n",
    "    \n",
    "    accuracy = accuracy_score(y_test, predictions)\n",
    "    new_data = pd.DataFrame({'Features': [selected_feature_names], 'Accuracy': [\"%.2f%%\" % (accuracy * 100.0)]})\n",
    "    global test\n",
    "    test = pd.concat([test, new_data], ignore_index=True)\n",
    "    return accuracy"
   ]
  },
  {
   "cell_type": "code",
   "execution_count": 13,
   "metadata": {},
   "outputs": [
    {
     "name": "stdout",
     "output_type": "stream",
     "text": [
      "Selected Feature Names: ['atr19']\n",
      "Accuracy: 67.08%\n",
      "Selected Feature Names: ['atr19', 'atr12']\n",
      "Accuracy: 64.61%\n",
      "Selected Feature Names: ['atr19', 'atr12', 'atr6']\n",
      "Accuracy: 64.20%\n",
      "Selected Feature Names: ['atr19', 'atr12', 'atr6', 'atr9']\n",
      "Accuracy: 64.61%\n",
      "Selected Feature Names: ['atr19', 'atr12', 'atr6', 'atr9', 'atr7']\n",
      "Accuracy: 62.55%\n",
      "Selected Feature Names: ['atr19', 'atr12', 'atr6', 'atr9', 'atr7', 'atr11']\n",
      "Accuracy: 61.73%\n",
      "Selected Feature Names: ['atr19', 'atr12', 'atr6', 'atr9', 'atr7', 'atr11', 'atr15']\n",
      "Accuracy: 61.73%\n",
      "Selected Feature Names: ['atr19', 'atr12', 'atr6', 'atr9', 'atr7', 'atr11', 'atr15', 'atr16']\n",
      "Accuracy: 59.67%\n",
      "Selected Feature Names: ['atr19', 'atr12', 'atr6', 'atr9', 'atr7', 'atr11', 'atr15', 'atr16', 'atr17']\n",
      "Accuracy: 58.85%\n",
      "Selected Feature Names: ['atr19', 'atr12', 'atr6', 'atr9', 'atr7', 'atr11', 'atr15', 'atr16', 'atr17', 'atr18']\n",
      "Accuracy: 59.26%\n",
      "Selected Feature Names: ['atr19', 'atr12', 'atr6', 'atr9', 'atr7', 'atr11', 'atr15', 'atr16', 'atr17', 'atr18', 'atr4']\n",
      "Accuracy: 61.32%\n",
      "Selected Feature Names: ['atr19', 'atr12', 'atr6', 'atr9', 'atr7', 'atr11', 'atr15', 'atr16', 'atr17', 'atr18', 'atr4', 'atr3']\n",
      "Accuracy: 61.32%\n",
      "Selected Feature Names: ['atr19', 'atr12', 'atr6', 'atr9', 'atr7', 'atr11', 'atr15', 'atr16', 'atr17', 'atr18', 'atr4', 'atr3', 'atr0']\n",
      "Accuracy: 63.37%\n",
      "Selected Feature Names: ['atr19', 'atr12', 'atr6', 'atr9', 'atr7', 'atr11', 'atr15', 'atr16', 'atr17', 'atr18', 'atr4', 'atr3', 'atr0', 'atr1']\n",
      "Accuracy: 64.20%\n",
      "Selected Feature Names: ['atr19', 'atr12', 'atr6', 'atr9', 'atr7', 'atr11', 'atr15', 'atr16', 'atr17', 'atr18', 'atr4', 'atr3', 'atr0', 'atr1', 'atr8']\n",
      "Accuracy: 64.61%\n",
      "Selected Feature Names: ['atr19', 'atr12', 'atr6', 'atr9', 'atr7', 'atr11', 'atr15', 'atr16', 'atr17', 'atr18', 'atr4', 'atr3', 'atr0', 'atr1', 'atr8', 'atr2']\n",
      "Accuracy: 65.43%\n",
      "Selected Feature Names: ['atr19', 'atr12', 'atr6', 'atr9', 'atr7', 'atr11', 'atr15', 'atr16', 'atr17', 'atr18', 'atr4', 'atr3', 'atr0', 'atr1', 'atr8', 'atr2', 'atr10']\n",
      "Accuracy: 65.43%\n",
      "Selected Feature Names: ['atr19', 'atr12', 'atr6', 'atr9', 'atr7', 'atr11', 'atr15', 'atr16', 'atr17', 'atr18', 'atr4', 'atr3', 'atr0', 'atr1', 'atr8', 'atr2', 'atr10', 'atr5']\n",
      "Accuracy: 61.73%\n",
      "Selected Feature Names: ['atr19', 'atr12', 'atr6', 'atr9', 'atr7', 'atr11', 'atr15', 'atr16', 'atr17', 'atr18', 'atr4', 'atr3', 'atr0', 'atr1', 'atr8', 'atr2', 'atr10', 'atr5', 'atr14']\n",
      "Accuracy: 64.61%\n",
      "Selected Feature Names: ['atr19', 'atr12', 'atr6', 'atr9', 'atr7', 'atr11', 'atr15', 'atr16', 'atr17', 'atr18', 'atr4', 'atr3', 'atr0', 'atr1', 'atr8', 'atr2', 'atr10', 'atr5', 'atr14', 'atr13']\n",
      "Accuracy: 62.96%\n"
     ]
    }
   ],
   "source": [
    "for i in dict(enumerate(citing_sentence)):\n",
    "    accuracy = model(citing_sentence, y, i+1)\n",
    "    print(\"Accuracy: %.2f%%\" % (accuracy * 100.0))"
   ]
  },
  {
   "cell_type": "markdown",
   "metadata": {},
   "source": [
    "## Regular Sentences Predictor"
   ]
  },
  {
   "cell_type": "code",
   "execution_count": 14,
   "metadata": {},
   "outputs": [],
   "source": [
    "regular_sentences = data[['atr20', 'atr21', 'atr22', 'atr23', 'atr24', 'atr25', 'atr26', 'atr27', 'atr28', 'atr29', 'atr30', 'atr31', 'atr32', 'atr33', 'atr34', 'atr35', 'atr36', 'atr37', 'atr38', 'atr39']]"
   ]
  },
  {
   "cell_type": "code",
   "execution_count": 15,
   "metadata": {},
   "outputs": [
    {
     "data": {
      "application/vnd.plotly.v1+json": {
       "config": {
        "plotlyServerURL": "https://plot.ly"
       },
       "data": [
        {
         "text": [
          [
           1,
           0.15784756436513242,
           0.2309598181095743,
           0.24829387811294126,
           0.10690361445039656,
           0.2913139393217956,
           0.12481626535405256,
           0.1109213508209008,
           0.013364757498704194,
           -0.03531846521585085,
           0.025787639524614426,
           0.0679236381995258,
           0.03840596038640527,
           0.03944574147043984,
           0.13834876132168447,
           -0.01664094822622157,
           0.09983468111732237,
           0.010818337115306983,
           0.43842833811243737,
           0.4639390751610515,
           0.0743012585786705
          ],
          [
           0.15784756436513242,
           1,
           0.20465359258803967,
           0.11564075767594614,
           0.04195563632527925,
           0.23941669621551334,
           0.1823434343234703,
           0.1982191868077137,
           0.09567177072007489,
           0.10626894099554034,
           0.047062477463583725,
           0.05704832422001496,
           0.09904838724918008,
           0.10091986950264667,
           0.16963397772728392,
           0.05935485549288298,
           0.13901957992209615,
           0.0137374668282637,
           0.225986523500485,
           0.3288588632300442,
           -0.0392375859569223
          ],
          [
           0.2309598181095743,
           0.20465359258803967,
           1,
           0.2706554082493166,
           0.10866022970704915,
           0.2388010219008017,
           0.13087270151948532,
           0.13263632717796073,
           0.10501269175677835,
           0.06627269131918437,
           0.1559057478208797,
           0.10716363693309332,
           0.14899059265737216,
           0.19957352041531076,
           0.2268464299924965,
           0.09609095797067582,
           0.15084846027648283,
           0.06358551924709842,
           0.29326615203620743,
           0.4905645947105304,
           0.008677812697471724
          ],
          [
           0.24829387811294126,
           0.11564075767594614,
           0.2706554082493166,
           1,
           -0.02914267518604352,
           0.03252968511193483,
           0.1080825587713598,
           0.21161555474476818,
           0.06981656382012569,
           0.022813748690823362,
           0.06973909365464621,
           0.17780886971242574,
           0.15251120836433246,
           0.10983052457230293,
           0.15942948419285807,
           0.052962986246463416,
           0.03954635203422417,
           0.12088931010360227,
           0.17710434296866323,
           0.2981669197098782,
           0.05155278798662962
          ],
          [
           0.10690361445039656,
           0.04195563632527925,
           0.10866022970704915,
           -0.02914267518604352,
           1,
           0.05720966124133432,
           0.10839106020425678,
           0.07708443139669352,
           0.034958812318061736,
           0.11292299959472309,
           0.02668269612858357,
           0.09745719281072544,
           0.0438329557541894,
           -0.01630578543133872,
           0.20138779576780008,
           0.003657685010826214,
           0.05947312837371301,
           0.0455598412226774,
           0.05998088277694861,
           0.12189976749850284,
           -0.008101499661713371
          ],
          [
           0.2913139393217956,
           0.23941669621551334,
           0.2388010219008017,
           0.03252968511193483,
           0.05720966124133432,
           1,
           0.3361413378009719,
           0.30647267313429866,
           0.20610228689116256,
           0.15130294999649552,
           0.06917649694230635,
           -0.02221639604305554,
           -0.06994417331354615,
           0.08064223147546529,
           0.018859193622656704,
           -0.07325646969454949,
           0.39471664656105454,
           0.11166030609635107,
           0.6653953533916512,
           0.8422026955314094,
           0.1128639383604237
          ],
          [
           0.12481626535405256,
           0.1823434343234703,
           0.13087270151948532,
           0.1080825587713598,
           0.10839106020425678,
           0.3361413378009719,
           1,
           0.2753105455098183,
           0.11895871441169233,
           0.15521119276768414,
           0.07479705104130248,
           0.0677248416024453,
           0.02554824747089363,
           0.04536781498502075,
           0.07734642539388432,
           0.02922588890843483,
           0.2107850858158611,
           0.06795047832702394,
           0.23454407731914304,
           0.36959491236270087,
           0.02303951159093959
          ],
          [
           0.1109213508209008,
           0.1982191868077137,
           0.13263632717796073,
           0.21161555474476818,
           0.07708443139669352,
           0.30647267313429866,
           0.2753105455098183,
           1,
           0.23085183779618235,
           0.4295177941540054,
           0.14454473748022534,
           0.10731998926689812,
           0.13925234218461147,
           0.1955083263056014,
           0.10395645989340409,
           0.15844109186727856,
           0.3009986667720953,
           0.24634858479971977,
           0.06896882947832904,
           0.36995255534142174,
           0.045730915202325764
          ],
          [
           0.013364757498704194,
           0.09567177072007489,
           0.10501269175677835,
           0.06981656382012569,
           0.034958812318061736,
           0.20610228689116256,
           0.11895871441169233,
           0.23085183779618235,
           1,
           0.22430726865108125,
           0.09034041615183225,
           0.1025890680932463,
           0.022824349357938204,
           0.036181983068614816,
           0.022552483228203773,
           0.10043717492329654,
           0.20305622181937225,
           0.11296827951460982,
           0.12562498809602876,
           0.25317349917372467,
           -0.03407955666597619
          ],
          [
           -0.03531846521585085,
           0.10626894099554034,
           0.06627269131918437,
           0.022813748690823362,
           0.11292299959472309,
           0.15130294999649552,
           0.15521119276768414,
           0.4295177941540054,
           0.22430726865108125,
           1,
           0.06653968151969726,
           0.05931878828314394,
           0.14755170070142004,
           0.15985340216116686,
           0.06841002681897498,
           0.13361450158915103,
           0.18785254939476415,
           0.17429285894282517,
           -0.10099948975689821,
           0.16452512387944665,
           0.01983796794270052
          ],
          [
           0.025787639524614426,
           0.047062477463583725,
           0.1559057478208797,
           0.06973909365464621,
           0.02668269612858357,
           0.06917649694230635,
           0.07479705104130248,
           0.14454473748022534,
           0.09034041615183225,
           0.06653968151969726,
           1,
           0.0236346463049239,
           -0.0043179306087745865,
           0.05335980157610488,
           0.05497064070735251,
           0.01758252943663293,
           0.10149329516276914,
           0.07420037484614403,
           0.015288095427157254,
           0.12049850507148335,
           0.003854340521515821
          ],
          [
           0.0679236381995258,
           0.05704832422001496,
           0.10716363693309332,
           0.17780886971242574,
           0.09745719281072544,
           -0.02221639604305554,
           0.0677248416024453,
           0.10731998926689812,
           0.1025890680932463,
           0.05931878828314394,
           0.0236346463049239,
           1,
           0.12244420337287712,
           0.08651030989409024,
           0.1330538651475704,
           0.08141637695228295,
           0.04668620950493938,
           0.0893307374538411,
           -0.004899931315354201,
           0.07740509325975434,
           -0.0496148076827849
          ],
          [
           0.03840596038640527,
           0.09904838724918008,
           0.14899059265737216,
           0.15251120836433246,
           0.0438329557541894,
           -0.06994417331354615,
           0.02554824747089363,
           0.13925234218461147,
           0.022824349357938204,
           0.14755170070142004,
           -0.0043179306087745865,
           0.12244420337287712,
           1,
           0.10191720775823408,
           0.17502459854813995,
           0.14305947385168666,
           0.0033094289694752506,
           0.004940226230825746,
           -0.03994029048597626,
           0.05332334744604622,
           -0.06100842044855791
          ],
          [
           0.03944574147043984,
           0.10091986950264667,
           0.19957352041531076,
           0.10983052457230293,
           -0.01630578543133872,
           0.08064223147546529,
           0.04536781498502075,
           0.1955083263056014,
           0.036181983068614816,
           0.15985340216116686,
           0.05335980157610488,
           0.08651030989409024,
           0.10191720775823408,
           1,
           0.05618513459600837,
           0.12563513825879558,
           0.08100974577289179,
           0.19497201496055877,
           0.003956729896221398,
           0.14334316443150968,
           0.031842039054058406
          ],
          [
           0.13834876132168447,
           0.16963397772728392,
           0.2268464299924965,
           0.15942948419285807,
           0.20138779576780008,
           0.018859193622656704,
           0.07734642539388432,
           0.10395645989340409,
           0.022552483228203773,
           0.06841002681897498,
           0.05497064070735251,
           0.1330538651475704,
           0.17502459854813995,
           0.05618513459600837,
           1,
           0.09641876386192436,
           0.09397926313779105,
           0.04538209544308897,
           0.12902052776221457,
           0.19671138606412764,
           0.00040276919057956556
          ],
          [
           -0.01664094822622157,
           0.05935485549288298,
           0.09609095797067582,
           0.052962986246463416,
           0.003657685010826214,
           -0.07325646969454949,
           0.02922588890843483,
           0.15844109186727856,
           0.10043717492329654,
           0.13361450158915103,
           0.01758252943663293,
           0.08141637695228295,
           0.14305947385168666,
           0.12563513825879558,
           0.09641876386192436,
           1,
           0.0664817019063815,
           0.09659638765603248,
           -0.04852565812770719,
           0.0261152671447,
           -0.03407089190763707
          ],
          [
           0.09983468111732237,
           0.13901957992209615,
           0.15084846027648283,
           0.03954635203422417,
           0.05947312837371301,
           0.39471664656105454,
           0.2107850858158611,
           0.3009986667720953,
           0.20305622181937225,
           0.18785254939476415,
           0.10149329516276914,
           0.04668620950493938,
           0.0033094289694752506,
           0.08100974577289179,
           0.09397926313779105,
           0.0664817019063815,
           1,
           0.19123075351817526,
           0.25972746809274433,
           0.4110712126992254,
           0.05534171100762255
          ],
          [
           0.010818337115306983,
           0.0137374668282637,
           0.06358551924709842,
           0.12088931010360227,
           0.0455598412226774,
           0.11166030609635107,
           0.06795047832702394,
           0.24634858479971977,
           0.11296827951460982,
           0.17429285894282517,
           0.07420037484614403,
           0.0893307374538411,
           0.004940226230825746,
           0.19497201496055877,
           0.04538209544308897,
           0.09659638765603248,
           0.19123075351817526,
           1,
           0.025718376679634888,
           0.15844317480091563,
           0.05173339008435757
          ],
          [
           0.43842833811243737,
           0.225986523500485,
           0.29326615203620743,
           0.17710434296866323,
           0.05998088277694861,
           0.6653953533916512,
           0.23454407731914304,
           0.06896882947832904,
           0.12562498809602876,
           -0.10099948975689821,
           0.015288095427157254,
           -0.004899931315354201,
           -0.03994029048597626,
           0.003956729896221398,
           0.12902052776221457,
           -0.04852565812770719,
           0.25972746809274433,
           0.025718376679634888,
           1,
           0.8804306211086245,
           0.0870868216108333
          ],
          [
           0.4639390751610515,
           0.3288588632300442,
           0.4905645947105304,
           0.2981669197098782,
           0.12189976749850284,
           0.8422026955314094,
           0.36959491236270087,
           0.36995255534142174,
           0.25317349917372467,
           0.16452512387944665,
           0.12049850507148335,
           0.07740509325975434,
           0.05332334744604622,
           0.14334316443150968,
           0.19671138606412764,
           0.0261152671447,
           0.4110712126992254,
           0.15844317480091563,
           0.8804306211086245,
           1,
           0.10142249075999858
          ],
          [
           0.0743012585786705,
           -0.0392375859569223,
           0.008677812697471724,
           0.05155278798662962,
           -0.008101499661713371,
           0.1128639383604237,
           0.02303951159093959,
           0.045730915202325764,
           -0.03407955666597619,
           0.01983796794270052,
           0.003854340521515821,
           -0.0496148076827849,
           -0.06100842044855791,
           0.031842039054058406,
           0.00040276919057956556,
           -0.03407089190763707,
           0.05534171100762255,
           0.05173339008435757,
           0.0870868216108333,
           0.10142249075999858,
           1
          ]
         ],
         "texttemplate": "%{text:.2f}",
         "type": "heatmap",
         "x": [
          "atr20",
          "atr21",
          "atr22",
          "atr23",
          "atr24",
          "atr25",
          "atr26",
          "atr27",
          "atr28",
          "atr29",
          "atr30",
          "atr31",
          "atr32",
          "atr33",
          "atr34",
          "atr35",
          "atr36",
          "atr37",
          "atr38",
          "atr39",
          "originality"
         ],
         "y": [
          "atr20",
          "atr21",
          "atr22",
          "atr23",
          "atr24",
          "atr25",
          "atr26",
          "atr27",
          "atr28",
          "atr29",
          "atr30",
          "atr31",
          "atr32",
          "atr33",
          "atr34",
          "atr35",
          "atr36",
          "atr37",
          "atr38",
          "atr39",
          "originality"
         ],
         "z": [
          [
           1,
           0.15784756436513242,
           0.2309598181095743,
           0.24829387811294126,
           0.10690361445039656,
           0.2913139393217956,
           0.12481626535405256,
           0.1109213508209008,
           0.013364757498704194,
           -0.03531846521585085,
           0.025787639524614426,
           0.0679236381995258,
           0.03840596038640527,
           0.03944574147043984,
           0.13834876132168447,
           -0.01664094822622157,
           0.09983468111732237,
           0.010818337115306983,
           0.43842833811243737,
           0.4639390751610515,
           0.0743012585786705
          ],
          [
           0.15784756436513242,
           1,
           0.20465359258803967,
           0.11564075767594614,
           0.04195563632527925,
           0.23941669621551334,
           0.1823434343234703,
           0.1982191868077137,
           0.09567177072007489,
           0.10626894099554034,
           0.047062477463583725,
           0.05704832422001496,
           0.09904838724918008,
           0.10091986950264667,
           0.16963397772728392,
           0.05935485549288298,
           0.13901957992209615,
           0.0137374668282637,
           0.225986523500485,
           0.3288588632300442,
           -0.0392375859569223
          ],
          [
           0.2309598181095743,
           0.20465359258803967,
           1,
           0.2706554082493166,
           0.10866022970704915,
           0.2388010219008017,
           0.13087270151948532,
           0.13263632717796073,
           0.10501269175677835,
           0.06627269131918437,
           0.1559057478208797,
           0.10716363693309332,
           0.14899059265737216,
           0.19957352041531076,
           0.2268464299924965,
           0.09609095797067582,
           0.15084846027648283,
           0.06358551924709842,
           0.29326615203620743,
           0.4905645947105304,
           0.008677812697471724
          ],
          [
           0.24829387811294126,
           0.11564075767594614,
           0.2706554082493166,
           1,
           -0.02914267518604352,
           0.03252968511193483,
           0.1080825587713598,
           0.21161555474476818,
           0.06981656382012569,
           0.022813748690823362,
           0.06973909365464621,
           0.17780886971242574,
           0.15251120836433246,
           0.10983052457230293,
           0.15942948419285807,
           0.052962986246463416,
           0.03954635203422417,
           0.12088931010360227,
           0.17710434296866323,
           0.2981669197098782,
           0.05155278798662962
          ],
          [
           0.10690361445039656,
           0.04195563632527925,
           0.10866022970704915,
           -0.02914267518604352,
           1,
           0.05720966124133432,
           0.10839106020425678,
           0.07708443139669352,
           0.034958812318061736,
           0.11292299959472309,
           0.02668269612858357,
           0.09745719281072544,
           0.0438329557541894,
           -0.01630578543133872,
           0.20138779576780008,
           0.003657685010826214,
           0.05947312837371301,
           0.0455598412226774,
           0.05998088277694861,
           0.12189976749850284,
           -0.008101499661713371
          ],
          [
           0.2913139393217956,
           0.23941669621551334,
           0.2388010219008017,
           0.03252968511193483,
           0.05720966124133432,
           1,
           0.3361413378009719,
           0.30647267313429866,
           0.20610228689116256,
           0.15130294999649552,
           0.06917649694230635,
           -0.02221639604305554,
           -0.06994417331354615,
           0.08064223147546529,
           0.018859193622656704,
           -0.07325646969454949,
           0.39471664656105454,
           0.11166030609635107,
           0.6653953533916512,
           0.8422026955314094,
           0.1128639383604237
          ],
          [
           0.12481626535405256,
           0.1823434343234703,
           0.13087270151948532,
           0.1080825587713598,
           0.10839106020425678,
           0.3361413378009719,
           1,
           0.2753105455098183,
           0.11895871441169233,
           0.15521119276768414,
           0.07479705104130248,
           0.0677248416024453,
           0.02554824747089363,
           0.04536781498502075,
           0.07734642539388432,
           0.02922588890843483,
           0.2107850858158611,
           0.06795047832702394,
           0.23454407731914304,
           0.36959491236270087,
           0.02303951159093959
          ],
          [
           0.1109213508209008,
           0.1982191868077137,
           0.13263632717796073,
           0.21161555474476818,
           0.07708443139669352,
           0.30647267313429866,
           0.2753105455098183,
           1,
           0.23085183779618235,
           0.4295177941540054,
           0.14454473748022534,
           0.10731998926689812,
           0.13925234218461147,
           0.1955083263056014,
           0.10395645989340409,
           0.15844109186727856,
           0.3009986667720953,
           0.24634858479971977,
           0.06896882947832904,
           0.36995255534142174,
           0.045730915202325764
          ],
          [
           0.013364757498704194,
           0.09567177072007489,
           0.10501269175677835,
           0.06981656382012569,
           0.034958812318061736,
           0.20610228689116256,
           0.11895871441169233,
           0.23085183779618235,
           1,
           0.22430726865108125,
           0.09034041615183225,
           0.1025890680932463,
           0.022824349357938204,
           0.036181983068614816,
           0.022552483228203773,
           0.10043717492329654,
           0.20305622181937225,
           0.11296827951460982,
           0.12562498809602876,
           0.25317349917372467,
           -0.03407955666597619
          ],
          [
           -0.03531846521585085,
           0.10626894099554034,
           0.06627269131918437,
           0.022813748690823362,
           0.11292299959472309,
           0.15130294999649552,
           0.15521119276768414,
           0.4295177941540054,
           0.22430726865108125,
           1,
           0.06653968151969726,
           0.05931878828314394,
           0.14755170070142004,
           0.15985340216116686,
           0.06841002681897498,
           0.13361450158915103,
           0.18785254939476415,
           0.17429285894282517,
           -0.10099948975689821,
           0.16452512387944665,
           0.01983796794270052
          ],
          [
           0.025787639524614426,
           0.047062477463583725,
           0.1559057478208797,
           0.06973909365464621,
           0.02668269612858357,
           0.06917649694230635,
           0.07479705104130248,
           0.14454473748022534,
           0.09034041615183225,
           0.06653968151969726,
           1,
           0.0236346463049239,
           -0.0043179306087745865,
           0.05335980157610488,
           0.05497064070735251,
           0.01758252943663293,
           0.10149329516276914,
           0.07420037484614403,
           0.015288095427157254,
           0.12049850507148335,
           0.003854340521515821
          ],
          [
           0.0679236381995258,
           0.05704832422001496,
           0.10716363693309332,
           0.17780886971242574,
           0.09745719281072544,
           -0.02221639604305554,
           0.0677248416024453,
           0.10731998926689812,
           0.1025890680932463,
           0.05931878828314394,
           0.0236346463049239,
           1,
           0.12244420337287712,
           0.08651030989409024,
           0.1330538651475704,
           0.08141637695228295,
           0.04668620950493938,
           0.0893307374538411,
           -0.004899931315354201,
           0.07740509325975434,
           -0.0496148076827849
          ],
          [
           0.03840596038640527,
           0.09904838724918008,
           0.14899059265737216,
           0.15251120836433246,
           0.0438329557541894,
           -0.06994417331354615,
           0.02554824747089363,
           0.13925234218461147,
           0.022824349357938204,
           0.14755170070142004,
           -0.0043179306087745865,
           0.12244420337287712,
           1,
           0.10191720775823408,
           0.17502459854813995,
           0.14305947385168666,
           0.0033094289694752506,
           0.004940226230825746,
           -0.03994029048597626,
           0.05332334744604622,
           -0.06100842044855791
          ],
          [
           0.03944574147043984,
           0.10091986950264667,
           0.19957352041531076,
           0.10983052457230293,
           -0.01630578543133872,
           0.08064223147546529,
           0.04536781498502075,
           0.1955083263056014,
           0.036181983068614816,
           0.15985340216116686,
           0.05335980157610488,
           0.08651030989409024,
           0.10191720775823408,
           1,
           0.05618513459600837,
           0.12563513825879558,
           0.08100974577289179,
           0.19497201496055877,
           0.003956729896221398,
           0.14334316443150968,
           0.031842039054058406
          ],
          [
           0.13834876132168447,
           0.16963397772728392,
           0.2268464299924965,
           0.15942948419285807,
           0.20138779576780008,
           0.018859193622656704,
           0.07734642539388432,
           0.10395645989340409,
           0.022552483228203773,
           0.06841002681897498,
           0.05497064070735251,
           0.1330538651475704,
           0.17502459854813995,
           0.05618513459600837,
           1,
           0.09641876386192436,
           0.09397926313779105,
           0.04538209544308897,
           0.12902052776221457,
           0.19671138606412764,
           0.00040276919057956556
          ],
          [
           -0.01664094822622157,
           0.05935485549288298,
           0.09609095797067582,
           0.052962986246463416,
           0.003657685010826214,
           -0.07325646969454949,
           0.02922588890843483,
           0.15844109186727856,
           0.10043717492329654,
           0.13361450158915103,
           0.01758252943663293,
           0.08141637695228295,
           0.14305947385168666,
           0.12563513825879558,
           0.09641876386192436,
           1,
           0.0664817019063815,
           0.09659638765603248,
           -0.04852565812770719,
           0.0261152671447,
           -0.03407089190763707
          ],
          [
           0.09983468111732237,
           0.13901957992209615,
           0.15084846027648283,
           0.03954635203422417,
           0.05947312837371301,
           0.39471664656105454,
           0.2107850858158611,
           0.3009986667720953,
           0.20305622181937225,
           0.18785254939476415,
           0.10149329516276914,
           0.04668620950493938,
           0.0033094289694752506,
           0.08100974577289179,
           0.09397926313779105,
           0.0664817019063815,
           1,
           0.19123075351817526,
           0.25972746809274433,
           0.4110712126992254,
           0.05534171100762255
          ],
          [
           0.010818337115306983,
           0.0137374668282637,
           0.06358551924709842,
           0.12088931010360227,
           0.0455598412226774,
           0.11166030609635107,
           0.06795047832702394,
           0.24634858479971977,
           0.11296827951460982,
           0.17429285894282517,
           0.07420037484614403,
           0.0893307374538411,
           0.004940226230825746,
           0.19497201496055877,
           0.04538209544308897,
           0.09659638765603248,
           0.19123075351817526,
           1,
           0.025718376679634888,
           0.15844317480091563,
           0.05173339008435757
          ],
          [
           0.43842833811243737,
           0.225986523500485,
           0.29326615203620743,
           0.17710434296866323,
           0.05998088277694861,
           0.6653953533916512,
           0.23454407731914304,
           0.06896882947832904,
           0.12562498809602876,
           -0.10099948975689821,
           0.015288095427157254,
           -0.004899931315354201,
           -0.03994029048597626,
           0.003956729896221398,
           0.12902052776221457,
           -0.04852565812770719,
           0.25972746809274433,
           0.025718376679634888,
           1,
           0.8804306211086245,
           0.0870868216108333
          ],
          [
           0.4639390751610515,
           0.3288588632300442,
           0.4905645947105304,
           0.2981669197098782,
           0.12189976749850284,
           0.8422026955314094,
           0.36959491236270087,
           0.36995255534142174,
           0.25317349917372467,
           0.16452512387944665,
           0.12049850507148335,
           0.07740509325975434,
           0.05332334744604622,
           0.14334316443150968,
           0.19671138606412764,
           0.0261152671447,
           0.4110712126992254,
           0.15844317480091563,
           0.8804306211086245,
           1,
           0.10142249075999858
          ],
          [
           0.0743012585786705,
           -0.0392375859569223,
           0.008677812697471724,
           0.05155278798662962,
           -0.008101499661713371,
           0.1128639383604237,
           0.02303951159093959,
           0.045730915202325764,
           -0.03407955666597619,
           0.01983796794270052,
           0.003854340521515821,
           -0.0496148076827849,
           -0.06100842044855791,
           0.031842039054058406,
           0.00040276919057956556,
           -0.03407089190763707,
           0.05534171100762255,
           0.05173339008435757,
           0.0870868216108333,
           0.10142249075999858,
           1
          ]
         ]
        }
       ],
       "layout": {
        "template": {
         "data": {
          "bar": [
           {
            "error_x": {
             "color": "#2a3f5f"
            },
            "error_y": {
             "color": "#2a3f5f"
            },
            "marker": {
             "line": {
              "color": "#E5ECF6",
              "width": 0.5
             },
             "pattern": {
              "fillmode": "overlay",
              "size": 10,
              "solidity": 0.2
             }
            },
            "type": "bar"
           }
          ],
          "barpolar": [
           {
            "marker": {
             "line": {
              "color": "#E5ECF6",
              "width": 0.5
             },
             "pattern": {
              "fillmode": "overlay",
              "size": 10,
              "solidity": 0.2
             }
            },
            "type": "barpolar"
           }
          ],
          "carpet": [
           {
            "aaxis": {
             "endlinecolor": "#2a3f5f",
             "gridcolor": "white",
             "linecolor": "white",
             "minorgridcolor": "white",
             "startlinecolor": "#2a3f5f"
            },
            "baxis": {
             "endlinecolor": "#2a3f5f",
             "gridcolor": "white",
             "linecolor": "white",
             "minorgridcolor": "white",
             "startlinecolor": "#2a3f5f"
            },
            "type": "carpet"
           }
          ],
          "choropleth": [
           {
            "colorbar": {
             "outlinewidth": 0,
             "ticks": ""
            },
            "type": "choropleth"
           }
          ],
          "contour": [
           {
            "colorbar": {
             "outlinewidth": 0,
             "ticks": ""
            },
            "colorscale": [
             [
              0,
              "#0d0887"
             ],
             [
              0.1111111111111111,
              "#46039f"
             ],
             [
              0.2222222222222222,
              "#7201a8"
             ],
             [
              0.3333333333333333,
              "#9c179e"
             ],
             [
              0.4444444444444444,
              "#bd3786"
             ],
             [
              0.5555555555555556,
              "#d8576b"
             ],
             [
              0.6666666666666666,
              "#ed7953"
             ],
             [
              0.7777777777777778,
              "#fb9f3a"
             ],
             [
              0.8888888888888888,
              "#fdca26"
             ],
             [
              1,
              "#f0f921"
             ]
            ],
            "type": "contour"
           }
          ],
          "contourcarpet": [
           {
            "colorbar": {
             "outlinewidth": 0,
             "ticks": ""
            },
            "type": "contourcarpet"
           }
          ],
          "heatmap": [
           {
            "colorbar": {
             "outlinewidth": 0,
             "ticks": ""
            },
            "colorscale": [
             [
              0,
              "#0d0887"
             ],
             [
              0.1111111111111111,
              "#46039f"
             ],
             [
              0.2222222222222222,
              "#7201a8"
             ],
             [
              0.3333333333333333,
              "#9c179e"
             ],
             [
              0.4444444444444444,
              "#bd3786"
             ],
             [
              0.5555555555555556,
              "#d8576b"
             ],
             [
              0.6666666666666666,
              "#ed7953"
             ],
             [
              0.7777777777777778,
              "#fb9f3a"
             ],
             [
              0.8888888888888888,
              "#fdca26"
             ],
             [
              1,
              "#f0f921"
             ]
            ],
            "type": "heatmap"
           }
          ],
          "heatmapgl": [
           {
            "colorbar": {
             "outlinewidth": 0,
             "ticks": ""
            },
            "colorscale": [
             [
              0,
              "#0d0887"
             ],
             [
              0.1111111111111111,
              "#46039f"
             ],
             [
              0.2222222222222222,
              "#7201a8"
             ],
             [
              0.3333333333333333,
              "#9c179e"
             ],
             [
              0.4444444444444444,
              "#bd3786"
             ],
             [
              0.5555555555555556,
              "#d8576b"
             ],
             [
              0.6666666666666666,
              "#ed7953"
             ],
             [
              0.7777777777777778,
              "#fb9f3a"
             ],
             [
              0.8888888888888888,
              "#fdca26"
             ],
             [
              1,
              "#f0f921"
             ]
            ],
            "type": "heatmapgl"
           }
          ],
          "histogram": [
           {
            "marker": {
             "pattern": {
              "fillmode": "overlay",
              "size": 10,
              "solidity": 0.2
             }
            },
            "type": "histogram"
           }
          ],
          "histogram2d": [
           {
            "colorbar": {
             "outlinewidth": 0,
             "ticks": ""
            },
            "colorscale": [
             [
              0,
              "#0d0887"
             ],
             [
              0.1111111111111111,
              "#46039f"
             ],
             [
              0.2222222222222222,
              "#7201a8"
             ],
             [
              0.3333333333333333,
              "#9c179e"
             ],
             [
              0.4444444444444444,
              "#bd3786"
             ],
             [
              0.5555555555555556,
              "#d8576b"
             ],
             [
              0.6666666666666666,
              "#ed7953"
             ],
             [
              0.7777777777777778,
              "#fb9f3a"
             ],
             [
              0.8888888888888888,
              "#fdca26"
             ],
             [
              1,
              "#f0f921"
             ]
            ],
            "type": "histogram2d"
           }
          ],
          "histogram2dcontour": [
           {
            "colorbar": {
             "outlinewidth": 0,
             "ticks": ""
            },
            "colorscale": [
             [
              0,
              "#0d0887"
             ],
             [
              0.1111111111111111,
              "#46039f"
             ],
             [
              0.2222222222222222,
              "#7201a8"
             ],
             [
              0.3333333333333333,
              "#9c179e"
             ],
             [
              0.4444444444444444,
              "#bd3786"
             ],
             [
              0.5555555555555556,
              "#d8576b"
             ],
             [
              0.6666666666666666,
              "#ed7953"
             ],
             [
              0.7777777777777778,
              "#fb9f3a"
             ],
             [
              0.8888888888888888,
              "#fdca26"
             ],
             [
              1,
              "#f0f921"
             ]
            ],
            "type": "histogram2dcontour"
           }
          ],
          "mesh3d": [
           {
            "colorbar": {
             "outlinewidth": 0,
             "ticks": ""
            },
            "type": "mesh3d"
           }
          ],
          "parcoords": [
           {
            "line": {
             "colorbar": {
              "outlinewidth": 0,
              "ticks": ""
             }
            },
            "type": "parcoords"
           }
          ],
          "pie": [
           {
            "automargin": true,
            "type": "pie"
           }
          ],
          "scatter": [
           {
            "fillpattern": {
             "fillmode": "overlay",
             "size": 10,
             "solidity": 0.2
            },
            "type": "scatter"
           }
          ],
          "scatter3d": [
           {
            "line": {
             "colorbar": {
              "outlinewidth": 0,
              "ticks": ""
             }
            },
            "marker": {
             "colorbar": {
              "outlinewidth": 0,
              "ticks": ""
             }
            },
            "type": "scatter3d"
           }
          ],
          "scattercarpet": [
           {
            "marker": {
             "colorbar": {
              "outlinewidth": 0,
              "ticks": ""
             }
            },
            "type": "scattercarpet"
           }
          ],
          "scattergeo": [
           {
            "marker": {
             "colorbar": {
              "outlinewidth": 0,
              "ticks": ""
             }
            },
            "type": "scattergeo"
           }
          ],
          "scattergl": [
           {
            "marker": {
             "colorbar": {
              "outlinewidth": 0,
              "ticks": ""
             }
            },
            "type": "scattergl"
           }
          ],
          "scattermapbox": [
           {
            "marker": {
             "colorbar": {
              "outlinewidth": 0,
              "ticks": ""
             }
            },
            "type": "scattermapbox"
           }
          ],
          "scatterpolar": [
           {
            "marker": {
             "colorbar": {
              "outlinewidth": 0,
              "ticks": ""
             }
            },
            "type": "scatterpolar"
           }
          ],
          "scatterpolargl": [
           {
            "marker": {
             "colorbar": {
              "outlinewidth": 0,
              "ticks": ""
             }
            },
            "type": "scatterpolargl"
           }
          ],
          "scatterternary": [
           {
            "marker": {
             "colorbar": {
              "outlinewidth": 0,
              "ticks": ""
             }
            },
            "type": "scatterternary"
           }
          ],
          "surface": [
           {
            "colorbar": {
             "outlinewidth": 0,
             "ticks": ""
            },
            "colorscale": [
             [
              0,
              "#0d0887"
             ],
             [
              0.1111111111111111,
              "#46039f"
             ],
             [
              0.2222222222222222,
              "#7201a8"
             ],
             [
              0.3333333333333333,
              "#9c179e"
             ],
             [
              0.4444444444444444,
              "#bd3786"
             ],
             [
              0.5555555555555556,
              "#d8576b"
             ],
             [
              0.6666666666666666,
              "#ed7953"
             ],
             [
              0.7777777777777778,
              "#fb9f3a"
             ],
             [
              0.8888888888888888,
              "#fdca26"
             ],
             [
              1,
              "#f0f921"
             ]
            ],
            "type": "surface"
           }
          ],
          "table": [
           {
            "cells": {
             "fill": {
              "color": "#EBF0F8"
             },
             "line": {
              "color": "white"
             }
            },
            "header": {
             "fill": {
              "color": "#C8D4E3"
             },
             "line": {
              "color": "white"
             }
            },
            "type": "table"
           }
          ]
         },
         "layout": {
          "annotationdefaults": {
           "arrowcolor": "#2a3f5f",
           "arrowhead": 0,
           "arrowwidth": 1
          },
          "autotypenumbers": "strict",
          "coloraxis": {
           "colorbar": {
            "outlinewidth": 0,
            "ticks": ""
           }
          },
          "colorscale": {
           "diverging": [
            [
             0,
             "#8e0152"
            ],
            [
             0.1,
             "#c51b7d"
            ],
            [
             0.2,
             "#de77ae"
            ],
            [
             0.3,
             "#f1b6da"
            ],
            [
             0.4,
             "#fde0ef"
            ],
            [
             0.5,
             "#f7f7f7"
            ],
            [
             0.6,
             "#e6f5d0"
            ],
            [
             0.7,
             "#b8e186"
            ],
            [
             0.8,
             "#7fbc41"
            ],
            [
             0.9,
             "#4d9221"
            ],
            [
             1,
             "#276419"
            ]
           ],
           "sequential": [
            [
             0,
             "#0d0887"
            ],
            [
             0.1111111111111111,
             "#46039f"
            ],
            [
             0.2222222222222222,
             "#7201a8"
            ],
            [
             0.3333333333333333,
             "#9c179e"
            ],
            [
             0.4444444444444444,
             "#bd3786"
            ],
            [
             0.5555555555555556,
             "#d8576b"
            ],
            [
             0.6666666666666666,
             "#ed7953"
            ],
            [
             0.7777777777777778,
             "#fb9f3a"
            ],
            [
             0.8888888888888888,
             "#fdca26"
            ],
            [
             1,
             "#f0f921"
            ]
           ],
           "sequentialminus": [
            [
             0,
             "#0d0887"
            ],
            [
             0.1111111111111111,
             "#46039f"
            ],
            [
             0.2222222222222222,
             "#7201a8"
            ],
            [
             0.3333333333333333,
             "#9c179e"
            ],
            [
             0.4444444444444444,
             "#bd3786"
            ],
            [
             0.5555555555555556,
             "#d8576b"
            ],
            [
             0.6666666666666666,
             "#ed7953"
            ],
            [
             0.7777777777777778,
             "#fb9f3a"
            ],
            [
             0.8888888888888888,
             "#fdca26"
            ],
            [
             1,
             "#f0f921"
            ]
           ]
          },
          "colorway": [
           "#636efa",
           "#EF553B",
           "#00cc96",
           "#ab63fa",
           "#FFA15A",
           "#19d3f3",
           "#FF6692",
           "#B6E880",
           "#FF97FF",
           "#FECB52"
          ],
          "font": {
           "color": "#2a3f5f"
          },
          "geo": {
           "bgcolor": "white",
           "lakecolor": "white",
           "landcolor": "#E5ECF6",
           "showlakes": true,
           "showland": true,
           "subunitcolor": "white"
          },
          "hoverlabel": {
           "align": "left"
          },
          "hovermode": "closest",
          "mapbox": {
           "style": "light"
          },
          "paper_bgcolor": "white",
          "plot_bgcolor": "#E5ECF6",
          "polar": {
           "angularaxis": {
            "gridcolor": "white",
            "linecolor": "white",
            "ticks": ""
           },
           "bgcolor": "#E5ECF6",
           "radialaxis": {
            "gridcolor": "white",
            "linecolor": "white",
            "ticks": ""
           }
          },
          "scene": {
           "xaxis": {
            "backgroundcolor": "#E5ECF6",
            "gridcolor": "white",
            "gridwidth": 2,
            "linecolor": "white",
            "showbackground": true,
            "ticks": "",
            "zerolinecolor": "white"
           },
           "yaxis": {
            "backgroundcolor": "#E5ECF6",
            "gridcolor": "white",
            "gridwidth": 2,
            "linecolor": "white",
            "showbackground": true,
            "ticks": "",
            "zerolinecolor": "white"
           },
           "zaxis": {
            "backgroundcolor": "#E5ECF6",
            "gridcolor": "white",
            "gridwidth": 2,
            "linecolor": "white",
            "showbackground": true,
            "ticks": "",
            "zerolinecolor": "white"
           }
          },
          "shapedefaults": {
           "line": {
            "color": "#2a3f5f"
           }
          },
          "ternary": {
           "aaxis": {
            "gridcolor": "white",
            "linecolor": "white",
            "ticks": ""
           },
           "baxis": {
            "gridcolor": "white",
            "linecolor": "white",
            "ticks": ""
           },
           "bgcolor": "#E5ECF6",
           "caxis": {
            "gridcolor": "white",
            "linecolor": "white",
            "ticks": ""
           }
          },
          "title": {
           "x": 0.05
          },
          "xaxis": {
           "automargin": true,
           "gridcolor": "white",
           "linecolor": "white",
           "ticks": "",
           "title": {
            "standoff": 15
           },
           "zerolinecolor": "white",
           "zerolinewidth": 2
          },
          "yaxis": {
           "automargin": true,
           "gridcolor": "white",
           "linecolor": "white",
           "ticks": "",
           "title": {
            "standoff": 15
           },
           "zerolinecolor": "white",
           "zerolinewidth": 2
          }
         }
        }
       }
      }
     },
     "metadata": {},
     "output_type": "display_data"
    }
   ],
   "source": [
    "dataframe = regular_sentences.join([y])\n",
    "correlation_matrix(dataframe)"
   ]
  },
  {
   "cell_type": "code",
   "execution_count": 16,
   "metadata": {},
   "outputs": [
    {
     "name": "stdout",
     "output_type": "stream",
     "text": [
      "Selected Feature Names: ['atr39']\n",
      "Accuracy: 62.55%\n",
      "Selected Feature Names: ['atr39', 'atr38']\n",
      "Accuracy: 61.73%\n",
      "Selected Feature Names: ['atr39', 'atr38', 'atr25']\n",
      "Accuracy: 57.61%\n",
      "Selected Feature Names: ['atr39', 'atr38', 'atr25', 'atr20']\n",
      "Accuracy: 62.14%\n",
      "Selected Feature Names: ['atr39', 'atr38', 'atr25', 'atr20', 'atr23']\n",
      "Accuracy: 61.32%\n",
      "Selected Feature Names: ['atr39', 'atr38', 'atr25', 'atr20', 'atr23', 'atr27']\n",
      "Accuracy: 63.79%\n",
      "Selected Feature Names: ['atr39', 'atr38', 'atr25', 'atr20', 'atr23', 'atr27', 'atr32']\n",
      "Accuracy: 61.73%\n",
      "Selected Feature Names: ['atr39', 'atr38', 'atr25', 'atr20', 'atr23', 'atr27', 'atr32', 'atr36']\n",
      "Accuracy: 58.44%\n",
      "Selected Feature Names: ['atr39', 'atr38', 'atr25', 'atr20', 'atr23', 'atr27', 'atr32', 'atr36', 'atr37']\n",
      "Accuracy: 64.20%\n",
      "Selected Feature Names: ['atr39', 'atr38', 'atr25', 'atr20', 'atr23', 'atr27', 'atr32', 'atr36', 'atr37', 'atr31']\n",
      "Accuracy: 64.61%\n",
      "Selected Feature Names: ['atr39', 'atr38', 'atr25', 'atr20', 'atr23', 'atr27', 'atr32', 'atr36', 'atr37', 'atr31', 'atr21']\n",
      "Accuracy: 62.96%\n",
      "Selected Feature Names: ['atr39', 'atr38', 'atr25', 'atr20', 'atr23', 'atr27', 'atr32', 'atr36', 'atr37', 'atr31', 'atr21', 'atr28']\n",
      "Accuracy: 63.37%\n",
      "Selected Feature Names: ['atr39', 'atr38', 'atr25', 'atr20', 'atr23', 'atr27', 'atr32', 'atr36', 'atr37', 'atr31', 'atr21', 'atr28', 'atr35']\n",
      "Accuracy: 62.96%\n",
      "Selected Feature Names: ['atr39', 'atr38', 'atr25', 'atr20', 'atr23', 'atr27', 'atr32', 'atr36', 'atr37', 'atr31', 'atr21', 'atr28', 'atr35', 'atr33']\n",
      "Accuracy: 60.08%\n",
      "Selected Feature Names: ['atr39', 'atr38', 'atr25', 'atr20', 'atr23', 'atr27', 'atr32', 'atr36', 'atr37', 'atr31', 'atr21', 'atr28', 'atr35', 'atr33', 'atr29']\n",
      "Accuracy: 63.37%\n",
      "Selected Feature Names: ['atr39', 'atr38', 'atr25', 'atr20', 'atr23', 'atr27', 'atr32', 'atr36', 'atr37', 'atr31', 'atr21', 'atr28', 'atr35', 'atr33', 'atr29', 'atr26']\n",
      "Accuracy: 60.08%\n",
      "Selected Feature Names: ['atr39', 'atr38', 'atr25', 'atr20', 'atr23', 'atr27', 'atr32', 'atr36', 'atr37', 'atr31', 'atr21', 'atr28', 'atr35', 'atr33', 'atr29', 'atr26', 'atr22']\n",
      "Accuracy: 62.55%\n",
      "Selected Feature Names: ['atr39', 'atr38', 'atr25', 'atr20', 'atr23', 'atr27', 'atr32', 'atr36', 'atr37', 'atr31', 'atr21', 'atr28', 'atr35', 'atr33', 'atr29', 'atr26', 'atr22', 'atr24']\n",
      "Accuracy: 63.37%\n",
      "Selected Feature Names: ['atr39', 'atr38', 'atr25', 'atr20', 'atr23', 'atr27', 'atr32', 'atr36', 'atr37', 'atr31', 'atr21', 'atr28', 'atr35', 'atr33', 'atr29', 'atr26', 'atr22', 'atr24', 'atr30']\n",
      "Accuracy: 65.02%\n",
      "Selected Feature Names: ['atr39', 'atr38', 'atr25', 'atr20', 'atr23', 'atr27', 'atr32', 'atr36', 'atr37', 'atr31', 'atr21', 'atr28', 'atr35', 'atr33', 'atr29', 'atr26', 'atr22', 'atr24', 'atr30', 'atr34']\n",
      "Accuracy: 62.14%\n"
     ]
    }
   ],
   "source": [
    "for i in dict(enumerate(regular_sentences)):\n",
    "    accuracy = model(regular_sentences, y, i+1)\n",
    "    print(\"Accuracy: %.2f%%\" % (accuracy * 100.0))"
   ]
  },
  {
   "cell_type": "markdown",
   "metadata": {},
   "source": [
    "## Reference-Based Predictor"
   ]
  },
  {
   "cell_type": "code",
   "execution_count": 17,
   "metadata": {},
   "outputs": [],
   "source": [
    "reference_based = data[['num_ref', 'num_ref_3years', 'arxiv', 'neurips', 'iclr', 'icml', 'aaai', 'iccv', 'cvpr', 'emnlp', 'acl', 'naacl', 'eccv', 'icra', 'icassp', 'ijcai', 'aistats', 'sigkdd', 'neuralcom', 'ieee_tran', 'acm_tran', 'mit_press', 'nature', 'jmlr']]"
   ]
  },
  {
   "cell_type": "code",
   "execution_count": 18,
   "metadata": {},
   "outputs": [
    {
     "data": {
      "application/vnd.plotly.v1+json": {
       "config": {
        "plotlyServerURL": "https://plot.ly"
       },
       "data": [
        {
         "text": [
          [
           1,
           0.6273928887498474,
           0.330212864060241,
           0.27732775861605974,
           0.5615070877846575,
           0.43402163947875216,
           0.19396901025489888,
           0.18954936697649824,
           0.22365374279533556,
           0.05789020095690551,
           0.11874884931462794,
           0.09262232275858492,
           0.17768516707731993,
           0.12078559795817483,
           0.10568796713531514,
           0.19855609334389668,
           0.13178859944574936,
           0.09876481229992506,
           0.14081372448308738,
           0.2173843520378866,
           0.08027767536287299,
           0.12176495862791036,
           0.07837708547090813,
           0.2668425083549102,
           -0.022301278190749008
          ],
          [
           0.6273928887498474,
           1,
           0.38826199978834797,
           0.41905537302430157,
           0.35189528366328676,
           0.2767143263871551,
           0.07694780878068022,
           0.15336155924644845,
           0.16220996974608687,
           0.09556102720129425,
           0.09355255172889076,
           0.07392002667893036,
           0.1635798531577763,
           0.06791820611908694,
           0.05129941784283386,
           0.07512517770168793,
           0.023456075962010884,
           -0.020404920735997208,
           0.031573712319197846,
           -0.025339418958592954,
           -0.015227158945165924,
           -0.02563365404952016,
           -0.04511598135567426,
           -0.023697828461942235,
           -0.03044608191256165
          ],
          [
           0.330212864060241,
           0.38826199978834797,
           1,
           -0.18353571718298395,
           0.1537910571284174,
           0.007223627770724372,
           -0.0006353006215301247,
           -0.03601122807559552,
           -0.04104311507125485,
           -0.06523259593050153,
           -0.07689491886516608,
           -0.08467692460121197,
           -0.036262532907754635,
           0.011370340414345495,
           -0.021068094722903562,
           -0.03690859277953805,
           -0.030048764837954035,
           -0.01903759193002995,
           0.0850377151215163,
           -0.06569119245324861,
           -0.05413035104968584,
           0.08316188857971658,
           -0.024478080193335437,
           0.03375044702889588,
           0.01597911743094116
          ],
          [
           0.27732775861605974,
           0.41905537302430157,
           -0.18353571718298395,
           1,
           0.3023558820907155,
           0.3575183739058292,
           0.046769537804419586,
           0.08639959853279523,
           0.06890661719706112,
           0.031568380955340564,
           0.049966313559204584,
           0.05490698311542922,
           0.09170724711908369,
           -0.006981915446087272,
           0.011765023484394763,
           0.06644540257312459,
           0.09308052650778309,
           -0.007408042647676785,
           -0.01676957539012506,
           -0.09631273089658092,
           -0.06380149901091414,
           -0.04232013521766544,
           -0.0775636669510356,
           -0.02567356709252464,
           -0.030224419467736272
          ],
          [
           0.5615070877846575,
           0.35189528366328676,
           0.1537910571284174,
           0.3023558820907155,
           1,
           0.46388190880117236,
           0.13527403900482945,
           0.11054879550245028,
           0.08216092697300031,
           -0.03465886963550497,
           -0.0674190243864239,
           -0.047168740191701856,
           0.047905472757032046,
           -0.0021707370138690798,
           -0.007931272293166479,
           0.14713892463777606,
           0.16137176833864916,
           0.03466488916554837,
           0.08572179197020205,
           0.045480286669456166,
           -0.004723519972281532,
           0.109062377306353,
           -0.046515972615035456,
           0.27316279963837614,
           0.035996545856637946
          ],
          [
           0.43402163947875216,
           0.2767143263871551,
           0.007223627770724372,
           0.3575183739058292,
           0.46388190880117236,
           1,
           0.1732218024536016,
           -0.021524973174220325,
           -0.04802444747026022,
           -0.08650487097326849,
           -0.07921678732397676,
           -0.055431722148236766,
           -0.05906209976025203,
           0.05360545901942896,
           -0.023114388225780543,
           0.1838931077707218,
           0.2536422730963774,
           0.03996461239142638,
           0.10143004606004306,
           0.012877310550243284,
           -0.04348668261579245,
           0.09552884291722416,
           0.015503522110033597,
           0.25191408875142923,
           -0.002050352504337986
          ],
          [
           0.19396901025489888,
           0.07694780878068022,
           -0.0006353006215301247,
           0.046769537804419586,
           0.13527403900482945,
           0.1732218024536016,
           1,
           -0.007621509960541054,
           -0.012283241512510739,
           0.0903680726938486,
           0.13123471382626173,
           0.09438445222949765,
           0.0016263621710752598,
           0.07562122381221652,
           -0.045339163861637506,
           0.19704596749022846,
           0.03644635172232933,
           0.1061355450103925,
           -0.01530560365176827,
           -0.04074183068741368,
           -0.03509822877612258,
           0.06541981872678268,
           -0.0010771001071649034,
           0.09288221466846808,
           -0.0050351518295744324
          ],
          [
           0.18954936697649824,
           0.15336155924644845,
           -0.03601122807559552,
           0.08639959853279523,
           0.11054879550245028,
           -0.021524973174220325,
           -0.007621509960541054,
           1,
           0.6116528580232254,
           -0.027448444469489706,
           -0.07164381690986664,
           -0.061205546029939675,
           0.5734692867663768,
           0.01113172369062392,
           0.006940706314700905,
           -0.0439294303963813,
           -0.03734000054455704,
           -0.03842420881562503,
           -0.030917405923228898,
           0.1407346104850908,
           0.06780162170214357,
           -0.08503730965509511,
           -0.07948957408780706,
           -0.07266986700627616,
           0.009151061989334264
          ],
          [
           0.22365374279533556,
           0.16220996974608687,
           -0.04104311507125485,
           0.06890661719706112,
           0.08216092697300031,
           -0.04802444747026022,
           -0.012283241512510739,
           0.6116528580232254,
           1,
           -0.06532717250329537,
           -0.0993064811260856,
           -0.07116082087664023,
           0.6441559233350699,
           0.05219186617927241,
           0.006278778647898817,
           -0.036465747439184536,
           -0.08909758315960678,
           -0.04537090190040391,
           -0.06792125573814926,
           0.20605949617754266,
           0.11533803291412423,
           -0.0928751324095085,
           -0.09276236446309838,
           -0.08803392369917065,
           0.012911019436878501
          ],
          [
           0.05789020095690551,
           0.09556102720129425,
           -0.06523259593050153,
           0.031568380955340564,
           -0.03465886963550497,
           -0.08650487097326849,
           0.0903680726938486,
           -0.027448444469489706,
           -0.06532717250329537,
           1,
           0.5800441484745567,
           0.52838934828233,
           -0.023230382985248405,
           -0.04315853401395627,
           0.03453243700732166,
           0.01491237381971703,
           -0.0016313133236332492,
           -0.018880067140576974,
           0.038659538788609046,
           -0.10097543668422751,
           -0.021667116972856035,
           -0.034610094324811026,
           -0.07618623449417543,
           -0.06499609871072966,
           -0.0287185916268976
          ],
          [
           0.11874884931462794,
           0.09355255172889076,
           -0.07689491886516608,
           0.049966313559204584,
           -0.0674190243864239,
           -0.07921678732397676,
           0.13123471382626173,
           -0.07164381690986664,
           -0.0993064811260856,
           0.5800441484745567,
           1,
           0.7900668951578133,
           -0.0715618190976396,
           -0.06200462194022621,
           0.09964320662780585,
           0.050952704391903185,
           -0.02191872104901699,
           -0.0010239120985452508,
           0.0035917079722665862,
           -0.09502002377631336,
           -0.019990760714088465,
           -0.03753922295689058,
           -0.08723401517046855,
           -0.0540028335764515,
           -0.052396837265572045
          ],
          [
           0.09262232275858492,
           0.07392002667893036,
           -0.08467692460121197,
           0.05490698311542922,
           -0.047168740191701856,
           -0.055431722148236766,
           0.09438445222949765,
           -0.061205546029939675,
           -0.07116082087664023,
           0.52838934828233,
           0.7900668951578133,
           1,
           -0.05527306942221861,
           -0.051072480316903306,
           0.05341876140842077,
           0.06110386824974261,
           0.000005688216175063171,
           0.021241402005477857,
           0.003021881465719734,
           -0.08585506749503875,
           -0.020235345273025306,
           -0.03860429347363544,
           -0.07890877216040543,
           -0.03538983277038042,
           -0.06648093619558129
          ],
          [
           0.17768516707731993,
           0.1635798531577763,
           -0.036262532907754635,
           0.09170724711908369,
           0.047905472757032046,
           -0.05906209976025203,
           0.0016263621710752598,
           0.5734692867663768,
           0.6441559233350699,
           -0.023230382985248405,
           -0.0715618190976396,
           -0.05527306942221861,
           1,
           0.05114617456733649,
           0.01294387474125976,
           -0.05639244751576348,
           -0.08189474160637415,
           -0.021546507397344192,
           -0.07891647129923972,
           0.07393062751176332,
           0.07857941921803667,
           -0.07064421983275077,
           -0.08216946644618237,
           -0.07238092684103051,
           0.04411070339151583
          ],
          [
           0.12078559795817483,
           0.06791820611908694,
           0.011370340414345495,
           -0.006981915446087272,
           -0.0021707370138690798,
           0.05360545901942896,
           0.07562122381221652,
           0.01113172369062392,
           0.05219186617927241,
           -0.04315853401395627,
           -0.06200462194022621,
           -0.051072480316903306,
           0.05114617456733649,
           1,
           -0.04969665863398163,
           0.04482436663874481,
           -0.01947784055793661,
           -0.04800813375141242,
           -0.02779907682639325,
           0.07145923507834977,
           0.028765816288508172,
           0.060916245024890285,
           0.03132916018136301,
           0.010153327333733286,
           0.008139053642855543
          ],
          [
           0.10568796713531514,
           0.05129941784283386,
           -0.021068094722903562,
           0.011765023484394763,
           -0.007931272293166479,
           -0.023114388225780543,
           -0.045339163861637506,
           0.006940706314700905,
           0.006278778647898817,
           0.03453243700732166,
           0.09964320662780585,
           0.05341876140842077,
           0.01294387474125976,
           -0.04969665863398163,
           1,
           -0.02157450044671997,
           -0.0023463675947129367,
           0.0062775819727540596,
           0.0477392161196525,
           0.16762649142565555,
           -0.00628946087998357,
           -0.05053331398864733,
           -0.023004552668213135,
           -0.005774038224151978,
           -0.005624635449863124
          ],
          [
           0.19855609334389668,
           0.07512517770168793,
           -0.03690859277953805,
           0.06644540257312459,
           0.14713892463777606,
           0.1838931077707218,
           0.19704596749022846,
           -0.0439294303963813,
           -0.036465747439184536,
           0.01491237381971703,
           0.050952704391903185,
           0.06110386824974261,
           -0.05639244751576348,
           0.04482436663874481,
           -0.02157450044671997,
           1,
           0.009464190978938436,
           0.12783036671133297,
           -0.017985451150591285,
           0.03207289862673604,
           -0.029279740590884226,
           0.13220275324102101,
           0.031406280510607974,
           0.10150237573448899,
           -0.08152647907159072
          ],
          [
           0.13178859944574936,
           0.023456075962010884,
           -0.030048764837954035,
           0.09308052650778309,
           0.16137176833864916,
           0.2536422730963774,
           0.03644635172232933,
           -0.03734000054455704,
           -0.08909758315960678,
           -0.0016313133236332492,
           -0.02191872104901699,
           0.000005688216175063171,
           -0.08189474160637415,
           -0.01947784055793661,
           -0.0023463675947129367,
           0.009464190978938436,
           1,
           0.00013334773328561444,
           0.07871621598101798,
           -0.016659644770969737,
           -0.011679141833797537,
           0.037813603687724934,
           0.0000072920579503507235,
           0.15501942466168284,
           -0.001174624610557188
          ],
          [
           0.09876481229992506,
           -0.020404920735997208,
           -0.01903759193002995,
           -0.007408042647676785,
           0.03466488916554837,
           0.03996461239142638,
           0.1061355450103925,
           -0.03842420881562503,
           -0.04537090190040391,
           -0.018880067140576974,
           -0.0010239120985452508,
           0.021241402005477857,
           -0.021546507397344192,
           -0.04800813375141242,
           0.0062775819727540596,
           0.12783036671133297,
           0.00013334773328561444,
           1,
           -0.05357087900758162,
           0.05469278075192153,
           0.0064148184975472665,
           -0.019471774470808886,
           -0.006267942067093804,
           0.11130892610182891,
           -0.02245104842183219
          ],
          [
           0.14081372448308738,
           0.031573712319197846,
           0.0850377151215163,
           -0.01676957539012506,
           0.08572179197020205,
           0.10143004606004306,
           -0.01530560365176827,
           -0.030917405923228898,
           -0.06792125573814926,
           0.038659538788609046,
           0.0035917079722665862,
           0.003021881465719734,
           -0.07891647129923972,
           -0.02779907682639325,
           0.0477392161196525,
           -0.017985451150591285,
           0.07871621598101798,
           -0.05357087900758162,
           1,
           0.006755007205028735,
           -0.044913075162878784,
           0.028439529846487024,
           0.0925068594199835,
           0.08930210275315496,
           0.0477867833472874
          ],
          [
           0.2173843520378866,
           -0.025339418958592954,
           -0.06569119245324861,
           -0.09631273089658092,
           0.045480286669456166,
           0.012877310550243284,
           -0.04074183068741368,
           0.1407346104850908,
           0.20605949617754266,
           -0.10097543668422751,
           -0.09502002377631336,
           -0.08585506749503875,
           0.07393062751176332,
           0.07145923507834977,
           0.16762649142565555,
           0.03207289862673604,
           -0.016659644770969737,
           0.05469278075192153,
           0.006755007205028735,
           1,
           0.06391740908187143,
           -0.00833980125132352,
           -0.018053409955038905,
           0.13331745836658,
           0.015196331557147752
          ],
          [
           0.08027767536287299,
           -0.015227158945165924,
           -0.05413035104968584,
           -0.06380149901091414,
           -0.004723519972281532,
           -0.04348668261579245,
           -0.03509822877612258,
           0.06780162170214357,
           0.11533803291412423,
           -0.021667116972856035,
           -0.019990760714088465,
           -0.020235345273025306,
           0.07857941921803667,
           0.028765816288508172,
           -0.00628946087998357,
           -0.029279740590884226,
           -0.011679141833797537,
           0.0064148184975472665,
           -0.044913075162878784,
           0.06391740908187143,
           1,
           -0.023038365228156128,
           -0.03523428849454242,
           -0.038665805314844516,
           -0.007300859800888584
          ],
          [
           0.12176495862791036,
           -0.02563365404952016,
           0.08316188857971658,
           -0.04232013521766544,
           0.109062377306353,
           0.09552884291722416,
           0.06541981872678268,
           -0.08503730965509511,
           -0.0928751324095085,
           -0.034610094324811026,
           -0.03753922295689058,
           -0.03860429347363544,
           -0.07064421983275077,
           0.060916245024890285,
           -0.05053331398864733,
           0.13220275324102101,
           0.037813603687724934,
           -0.019471774470808886,
           0.028439529846487024,
           -0.00833980125132352,
           -0.023038365228156128,
           1,
           0.1189042054680237,
           0.13240084152216539,
           -0.00008535161343857067
          ],
          [
           0.07837708547090813,
           -0.04511598135567426,
           -0.024478080193335437,
           -0.0775636669510356,
           -0.046515972615035456,
           0.015503522110033597,
           -0.0010771001071649034,
           -0.07948957408780706,
           -0.09276236446309838,
           -0.07618623449417543,
           -0.08723401517046855,
           -0.07890877216040543,
           -0.08216946644618237,
           0.03132916018136301,
           -0.023004552668213135,
           0.031406280510607974,
           0.0000072920579503507235,
           -0.006267942067093804,
           0.0925068594199835,
           -0.018053409955038905,
           -0.03523428849454242,
           0.1189042054680237,
           1,
           0.04840057617052397,
           0.011491228153782961
          ],
          [
           0.2668425083549102,
           -0.023697828461942235,
           0.03375044702889588,
           -0.02567356709252464,
           0.27316279963837614,
           0.25191408875142923,
           0.09288221466846808,
           -0.07266986700627616,
           -0.08803392369917065,
           -0.06499609871072966,
           -0.0540028335764515,
           -0.03538983277038042,
           -0.07238092684103051,
           0.010153327333733286,
           -0.005774038224151978,
           0.10150237573448899,
           0.15501942466168284,
           0.11130892610182891,
           0.08930210275315496,
           0.13331745836658,
           -0.038665805314844516,
           0.13240084152216539,
           0.04840057617052397,
           1,
           -0.055049305484367886
          ],
          [
           -0.022301278190749008,
           -0.03044608191256165,
           0.01597911743094116,
           -0.030224419467736272,
           0.035996545856637946,
           -0.002050352504337986,
           -0.0050351518295744324,
           0.009151061989334264,
           0.012911019436878501,
           -0.0287185916268976,
           -0.052396837265572045,
           -0.06648093619558129,
           0.04411070339151583,
           0.008139053642855543,
           -0.005624635449863124,
           -0.08152647907159072,
           -0.001174624610557188,
           -0.02245104842183219,
           0.0477867833472874,
           0.015196331557147752,
           -0.007300859800888584,
           -0.00008535161343857067,
           0.011491228153782961,
           -0.055049305484367886,
           1
          ]
         ],
         "texttemplate": "%{text:.2f}",
         "type": "heatmap",
         "x": [
          "num_ref",
          "num_ref_3years",
          "arxiv",
          "neurips",
          "iclr",
          "icml",
          "aaai",
          "iccv",
          "cvpr",
          "emnlp",
          "acl",
          "naacl",
          "eccv",
          "icra",
          "icassp",
          "ijcai",
          "aistats",
          "sigkdd",
          "neuralcom",
          "ieee_tran",
          "acm_tran",
          "mit_press",
          "nature",
          "jmlr",
          "originality"
         ],
         "y": [
          "num_ref",
          "num_ref_3years",
          "arxiv",
          "neurips",
          "iclr",
          "icml",
          "aaai",
          "iccv",
          "cvpr",
          "emnlp",
          "acl",
          "naacl",
          "eccv",
          "icra",
          "icassp",
          "ijcai",
          "aistats",
          "sigkdd",
          "neuralcom",
          "ieee_tran",
          "acm_tran",
          "mit_press",
          "nature",
          "jmlr",
          "originality"
         ],
         "z": [
          [
           1,
           0.6273928887498474,
           0.330212864060241,
           0.27732775861605974,
           0.5615070877846575,
           0.43402163947875216,
           0.19396901025489888,
           0.18954936697649824,
           0.22365374279533556,
           0.05789020095690551,
           0.11874884931462794,
           0.09262232275858492,
           0.17768516707731993,
           0.12078559795817483,
           0.10568796713531514,
           0.19855609334389668,
           0.13178859944574936,
           0.09876481229992506,
           0.14081372448308738,
           0.2173843520378866,
           0.08027767536287299,
           0.12176495862791036,
           0.07837708547090813,
           0.2668425083549102,
           -0.022301278190749008
          ],
          [
           0.6273928887498474,
           1,
           0.38826199978834797,
           0.41905537302430157,
           0.35189528366328676,
           0.2767143263871551,
           0.07694780878068022,
           0.15336155924644845,
           0.16220996974608687,
           0.09556102720129425,
           0.09355255172889076,
           0.07392002667893036,
           0.1635798531577763,
           0.06791820611908694,
           0.05129941784283386,
           0.07512517770168793,
           0.023456075962010884,
           -0.020404920735997208,
           0.031573712319197846,
           -0.025339418958592954,
           -0.015227158945165924,
           -0.02563365404952016,
           -0.04511598135567426,
           -0.023697828461942235,
           -0.03044608191256165
          ],
          [
           0.330212864060241,
           0.38826199978834797,
           1,
           -0.18353571718298395,
           0.1537910571284174,
           0.007223627770724372,
           -0.0006353006215301247,
           -0.03601122807559552,
           -0.04104311507125485,
           -0.06523259593050153,
           -0.07689491886516608,
           -0.08467692460121197,
           -0.036262532907754635,
           0.011370340414345495,
           -0.021068094722903562,
           -0.03690859277953805,
           -0.030048764837954035,
           -0.01903759193002995,
           0.0850377151215163,
           -0.06569119245324861,
           -0.05413035104968584,
           0.08316188857971658,
           -0.024478080193335437,
           0.03375044702889588,
           0.01597911743094116
          ],
          [
           0.27732775861605974,
           0.41905537302430157,
           -0.18353571718298395,
           1,
           0.3023558820907155,
           0.3575183739058292,
           0.046769537804419586,
           0.08639959853279523,
           0.06890661719706112,
           0.031568380955340564,
           0.049966313559204584,
           0.05490698311542922,
           0.09170724711908369,
           -0.006981915446087272,
           0.011765023484394763,
           0.06644540257312459,
           0.09308052650778309,
           -0.007408042647676785,
           -0.01676957539012506,
           -0.09631273089658092,
           -0.06380149901091414,
           -0.04232013521766544,
           -0.0775636669510356,
           -0.02567356709252464,
           -0.030224419467736272
          ],
          [
           0.5615070877846575,
           0.35189528366328676,
           0.1537910571284174,
           0.3023558820907155,
           1,
           0.46388190880117236,
           0.13527403900482945,
           0.11054879550245028,
           0.08216092697300031,
           -0.03465886963550497,
           -0.0674190243864239,
           -0.047168740191701856,
           0.047905472757032046,
           -0.0021707370138690798,
           -0.007931272293166479,
           0.14713892463777606,
           0.16137176833864916,
           0.03466488916554837,
           0.08572179197020205,
           0.045480286669456166,
           -0.004723519972281532,
           0.109062377306353,
           -0.046515972615035456,
           0.27316279963837614,
           0.035996545856637946
          ],
          [
           0.43402163947875216,
           0.2767143263871551,
           0.007223627770724372,
           0.3575183739058292,
           0.46388190880117236,
           1,
           0.1732218024536016,
           -0.021524973174220325,
           -0.04802444747026022,
           -0.08650487097326849,
           -0.07921678732397676,
           -0.055431722148236766,
           -0.05906209976025203,
           0.05360545901942896,
           -0.023114388225780543,
           0.1838931077707218,
           0.2536422730963774,
           0.03996461239142638,
           0.10143004606004306,
           0.012877310550243284,
           -0.04348668261579245,
           0.09552884291722416,
           0.015503522110033597,
           0.25191408875142923,
           -0.002050352504337986
          ],
          [
           0.19396901025489888,
           0.07694780878068022,
           -0.0006353006215301247,
           0.046769537804419586,
           0.13527403900482945,
           0.1732218024536016,
           1,
           -0.007621509960541054,
           -0.012283241512510739,
           0.0903680726938486,
           0.13123471382626173,
           0.09438445222949765,
           0.0016263621710752598,
           0.07562122381221652,
           -0.045339163861637506,
           0.19704596749022846,
           0.03644635172232933,
           0.1061355450103925,
           -0.01530560365176827,
           -0.04074183068741368,
           -0.03509822877612258,
           0.06541981872678268,
           -0.0010771001071649034,
           0.09288221466846808,
           -0.0050351518295744324
          ],
          [
           0.18954936697649824,
           0.15336155924644845,
           -0.03601122807559552,
           0.08639959853279523,
           0.11054879550245028,
           -0.021524973174220325,
           -0.007621509960541054,
           1,
           0.6116528580232254,
           -0.027448444469489706,
           -0.07164381690986664,
           -0.061205546029939675,
           0.5734692867663768,
           0.01113172369062392,
           0.006940706314700905,
           -0.0439294303963813,
           -0.03734000054455704,
           -0.03842420881562503,
           -0.030917405923228898,
           0.1407346104850908,
           0.06780162170214357,
           -0.08503730965509511,
           -0.07948957408780706,
           -0.07266986700627616,
           0.009151061989334264
          ],
          [
           0.22365374279533556,
           0.16220996974608687,
           -0.04104311507125485,
           0.06890661719706112,
           0.08216092697300031,
           -0.04802444747026022,
           -0.012283241512510739,
           0.6116528580232254,
           1,
           -0.06532717250329537,
           -0.0993064811260856,
           -0.07116082087664023,
           0.6441559233350699,
           0.05219186617927241,
           0.006278778647898817,
           -0.036465747439184536,
           -0.08909758315960678,
           -0.04537090190040391,
           -0.06792125573814926,
           0.20605949617754266,
           0.11533803291412423,
           -0.0928751324095085,
           -0.09276236446309838,
           -0.08803392369917065,
           0.012911019436878501
          ],
          [
           0.05789020095690551,
           0.09556102720129425,
           -0.06523259593050153,
           0.031568380955340564,
           -0.03465886963550497,
           -0.08650487097326849,
           0.0903680726938486,
           -0.027448444469489706,
           -0.06532717250329537,
           1,
           0.5800441484745567,
           0.52838934828233,
           -0.023230382985248405,
           -0.04315853401395627,
           0.03453243700732166,
           0.01491237381971703,
           -0.0016313133236332492,
           -0.018880067140576974,
           0.038659538788609046,
           -0.10097543668422751,
           -0.021667116972856035,
           -0.034610094324811026,
           -0.07618623449417543,
           -0.06499609871072966,
           -0.0287185916268976
          ],
          [
           0.11874884931462794,
           0.09355255172889076,
           -0.07689491886516608,
           0.049966313559204584,
           -0.0674190243864239,
           -0.07921678732397676,
           0.13123471382626173,
           -0.07164381690986664,
           -0.0993064811260856,
           0.5800441484745567,
           1,
           0.7900668951578133,
           -0.0715618190976396,
           -0.06200462194022621,
           0.09964320662780585,
           0.050952704391903185,
           -0.02191872104901699,
           -0.0010239120985452508,
           0.0035917079722665862,
           -0.09502002377631336,
           -0.019990760714088465,
           -0.03753922295689058,
           -0.08723401517046855,
           -0.0540028335764515,
           -0.052396837265572045
          ],
          [
           0.09262232275858492,
           0.07392002667893036,
           -0.08467692460121197,
           0.05490698311542922,
           -0.047168740191701856,
           -0.055431722148236766,
           0.09438445222949765,
           -0.061205546029939675,
           -0.07116082087664023,
           0.52838934828233,
           0.7900668951578133,
           1,
           -0.05527306942221861,
           -0.051072480316903306,
           0.05341876140842077,
           0.06110386824974261,
           0.000005688216175063171,
           0.021241402005477857,
           0.003021881465719734,
           -0.08585506749503875,
           -0.020235345273025306,
           -0.03860429347363544,
           -0.07890877216040543,
           -0.03538983277038042,
           -0.06648093619558129
          ],
          [
           0.17768516707731993,
           0.1635798531577763,
           -0.036262532907754635,
           0.09170724711908369,
           0.047905472757032046,
           -0.05906209976025203,
           0.0016263621710752598,
           0.5734692867663768,
           0.6441559233350699,
           -0.023230382985248405,
           -0.0715618190976396,
           -0.05527306942221861,
           1,
           0.05114617456733649,
           0.01294387474125976,
           -0.05639244751576348,
           -0.08189474160637415,
           -0.021546507397344192,
           -0.07891647129923972,
           0.07393062751176332,
           0.07857941921803667,
           -0.07064421983275077,
           -0.08216946644618237,
           -0.07238092684103051,
           0.04411070339151583
          ],
          [
           0.12078559795817483,
           0.06791820611908694,
           0.011370340414345495,
           -0.006981915446087272,
           -0.0021707370138690798,
           0.05360545901942896,
           0.07562122381221652,
           0.01113172369062392,
           0.05219186617927241,
           -0.04315853401395627,
           -0.06200462194022621,
           -0.051072480316903306,
           0.05114617456733649,
           1,
           -0.04969665863398163,
           0.04482436663874481,
           -0.01947784055793661,
           -0.04800813375141242,
           -0.02779907682639325,
           0.07145923507834977,
           0.028765816288508172,
           0.060916245024890285,
           0.03132916018136301,
           0.010153327333733286,
           0.008139053642855543
          ],
          [
           0.10568796713531514,
           0.05129941784283386,
           -0.021068094722903562,
           0.011765023484394763,
           -0.007931272293166479,
           -0.023114388225780543,
           -0.045339163861637506,
           0.006940706314700905,
           0.006278778647898817,
           0.03453243700732166,
           0.09964320662780585,
           0.05341876140842077,
           0.01294387474125976,
           -0.04969665863398163,
           1,
           -0.02157450044671997,
           -0.0023463675947129367,
           0.0062775819727540596,
           0.0477392161196525,
           0.16762649142565555,
           -0.00628946087998357,
           -0.05053331398864733,
           -0.023004552668213135,
           -0.005774038224151978,
           -0.005624635449863124
          ],
          [
           0.19855609334389668,
           0.07512517770168793,
           -0.03690859277953805,
           0.06644540257312459,
           0.14713892463777606,
           0.1838931077707218,
           0.19704596749022846,
           -0.0439294303963813,
           -0.036465747439184536,
           0.01491237381971703,
           0.050952704391903185,
           0.06110386824974261,
           -0.05639244751576348,
           0.04482436663874481,
           -0.02157450044671997,
           1,
           0.009464190978938436,
           0.12783036671133297,
           -0.017985451150591285,
           0.03207289862673604,
           -0.029279740590884226,
           0.13220275324102101,
           0.031406280510607974,
           0.10150237573448899,
           -0.08152647907159072
          ],
          [
           0.13178859944574936,
           0.023456075962010884,
           -0.030048764837954035,
           0.09308052650778309,
           0.16137176833864916,
           0.2536422730963774,
           0.03644635172232933,
           -0.03734000054455704,
           -0.08909758315960678,
           -0.0016313133236332492,
           -0.02191872104901699,
           0.000005688216175063171,
           -0.08189474160637415,
           -0.01947784055793661,
           -0.0023463675947129367,
           0.009464190978938436,
           1,
           0.00013334773328561444,
           0.07871621598101798,
           -0.016659644770969737,
           -0.011679141833797537,
           0.037813603687724934,
           0.0000072920579503507235,
           0.15501942466168284,
           -0.001174624610557188
          ],
          [
           0.09876481229992506,
           -0.020404920735997208,
           -0.01903759193002995,
           -0.007408042647676785,
           0.03466488916554837,
           0.03996461239142638,
           0.1061355450103925,
           -0.03842420881562503,
           -0.04537090190040391,
           -0.018880067140576974,
           -0.0010239120985452508,
           0.021241402005477857,
           -0.021546507397344192,
           -0.04800813375141242,
           0.0062775819727540596,
           0.12783036671133297,
           0.00013334773328561444,
           1,
           -0.05357087900758162,
           0.05469278075192153,
           0.0064148184975472665,
           -0.019471774470808886,
           -0.006267942067093804,
           0.11130892610182891,
           -0.02245104842183219
          ],
          [
           0.14081372448308738,
           0.031573712319197846,
           0.0850377151215163,
           -0.01676957539012506,
           0.08572179197020205,
           0.10143004606004306,
           -0.01530560365176827,
           -0.030917405923228898,
           -0.06792125573814926,
           0.038659538788609046,
           0.0035917079722665862,
           0.003021881465719734,
           -0.07891647129923972,
           -0.02779907682639325,
           0.0477392161196525,
           -0.017985451150591285,
           0.07871621598101798,
           -0.05357087900758162,
           1,
           0.006755007205028735,
           -0.044913075162878784,
           0.028439529846487024,
           0.0925068594199835,
           0.08930210275315496,
           0.0477867833472874
          ],
          [
           0.2173843520378866,
           -0.025339418958592954,
           -0.06569119245324861,
           -0.09631273089658092,
           0.045480286669456166,
           0.012877310550243284,
           -0.04074183068741368,
           0.1407346104850908,
           0.20605949617754266,
           -0.10097543668422751,
           -0.09502002377631336,
           -0.08585506749503875,
           0.07393062751176332,
           0.07145923507834977,
           0.16762649142565555,
           0.03207289862673604,
           -0.016659644770969737,
           0.05469278075192153,
           0.006755007205028735,
           1,
           0.06391740908187143,
           -0.00833980125132352,
           -0.018053409955038905,
           0.13331745836658,
           0.015196331557147752
          ],
          [
           0.08027767536287299,
           -0.015227158945165924,
           -0.05413035104968584,
           -0.06380149901091414,
           -0.004723519972281532,
           -0.04348668261579245,
           -0.03509822877612258,
           0.06780162170214357,
           0.11533803291412423,
           -0.021667116972856035,
           -0.019990760714088465,
           -0.020235345273025306,
           0.07857941921803667,
           0.028765816288508172,
           -0.00628946087998357,
           -0.029279740590884226,
           -0.011679141833797537,
           0.0064148184975472665,
           -0.044913075162878784,
           0.06391740908187143,
           1,
           -0.023038365228156128,
           -0.03523428849454242,
           -0.038665805314844516,
           -0.007300859800888584
          ],
          [
           0.12176495862791036,
           -0.02563365404952016,
           0.08316188857971658,
           -0.04232013521766544,
           0.109062377306353,
           0.09552884291722416,
           0.06541981872678268,
           -0.08503730965509511,
           -0.0928751324095085,
           -0.034610094324811026,
           -0.03753922295689058,
           -0.03860429347363544,
           -0.07064421983275077,
           0.060916245024890285,
           -0.05053331398864733,
           0.13220275324102101,
           0.037813603687724934,
           -0.019471774470808886,
           0.028439529846487024,
           -0.00833980125132352,
           -0.023038365228156128,
           1,
           0.1189042054680237,
           0.13240084152216539,
           -0.00008535161343857067
          ],
          [
           0.07837708547090813,
           -0.04511598135567426,
           -0.024478080193335437,
           -0.0775636669510356,
           -0.046515972615035456,
           0.015503522110033597,
           -0.0010771001071649034,
           -0.07948957408780706,
           -0.09276236446309838,
           -0.07618623449417543,
           -0.08723401517046855,
           -0.07890877216040543,
           -0.08216946644618237,
           0.03132916018136301,
           -0.023004552668213135,
           0.031406280510607974,
           0.0000072920579503507235,
           -0.006267942067093804,
           0.0925068594199835,
           -0.018053409955038905,
           -0.03523428849454242,
           0.1189042054680237,
           1,
           0.04840057617052397,
           0.011491228153782961
          ],
          [
           0.2668425083549102,
           -0.023697828461942235,
           0.03375044702889588,
           -0.02567356709252464,
           0.27316279963837614,
           0.25191408875142923,
           0.09288221466846808,
           -0.07266986700627616,
           -0.08803392369917065,
           -0.06499609871072966,
           -0.0540028335764515,
           -0.03538983277038042,
           -0.07238092684103051,
           0.010153327333733286,
           -0.005774038224151978,
           0.10150237573448899,
           0.15501942466168284,
           0.11130892610182891,
           0.08930210275315496,
           0.13331745836658,
           -0.038665805314844516,
           0.13240084152216539,
           0.04840057617052397,
           1,
           -0.055049305484367886
          ],
          [
           -0.022301278190749008,
           -0.03044608191256165,
           0.01597911743094116,
           -0.030224419467736272,
           0.035996545856637946,
           -0.002050352504337986,
           -0.0050351518295744324,
           0.009151061989334264,
           0.012911019436878501,
           -0.0287185916268976,
           -0.052396837265572045,
           -0.06648093619558129,
           0.04411070339151583,
           0.008139053642855543,
           -0.005624635449863124,
           -0.08152647907159072,
           -0.001174624610557188,
           -0.02245104842183219,
           0.0477867833472874,
           0.015196331557147752,
           -0.007300859800888584,
           -0.00008535161343857067,
           0.011491228153782961,
           -0.055049305484367886,
           1
          ]
         ]
        }
       ],
       "layout": {
        "template": {
         "data": {
          "bar": [
           {
            "error_x": {
             "color": "#2a3f5f"
            },
            "error_y": {
             "color": "#2a3f5f"
            },
            "marker": {
             "line": {
              "color": "#E5ECF6",
              "width": 0.5
             },
             "pattern": {
              "fillmode": "overlay",
              "size": 10,
              "solidity": 0.2
             }
            },
            "type": "bar"
           }
          ],
          "barpolar": [
           {
            "marker": {
             "line": {
              "color": "#E5ECF6",
              "width": 0.5
             },
             "pattern": {
              "fillmode": "overlay",
              "size": 10,
              "solidity": 0.2
             }
            },
            "type": "barpolar"
           }
          ],
          "carpet": [
           {
            "aaxis": {
             "endlinecolor": "#2a3f5f",
             "gridcolor": "white",
             "linecolor": "white",
             "minorgridcolor": "white",
             "startlinecolor": "#2a3f5f"
            },
            "baxis": {
             "endlinecolor": "#2a3f5f",
             "gridcolor": "white",
             "linecolor": "white",
             "minorgridcolor": "white",
             "startlinecolor": "#2a3f5f"
            },
            "type": "carpet"
           }
          ],
          "choropleth": [
           {
            "colorbar": {
             "outlinewidth": 0,
             "ticks": ""
            },
            "type": "choropleth"
           }
          ],
          "contour": [
           {
            "colorbar": {
             "outlinewidth": 0,
             "ticks": ""
            },
            "colorscale": [
             [
              0,
              "#0d0887"
             ],
             [
              0.1111111111111111,
              "#46039f"
             ],
             [
              0.2222222222222222,
              "#7201a8"
             ],
             [
              0.3333333333333333,
              "#9c179e"
             ],
             [
              0.4444444444444444,
              "#bd3786"
             ],
             [
              0.5555555555555556,
              "#d8576b"
             ],
             [
              0.6666666666666666,
              "#ed7953"
             ],
             [
              0.7777777777777778,
              "#fb9f3a"
             ],
             [
              0.8888888888888888,
              "#fdca26"
             ],
             [
              1,
              "#f0f921"
             ]
            ],
            "type": "contour"
           }
          ],
          "contourcarpet": [
           {
            "colorbar": {
             "outlinewidth": 0,
             "ticks": ""
            },
            "type": "contourcarpet"
           }
          ],
          "heatmap": [
           {
            "colorbar": {
             "outlinewidth": 0,
             "ticks": ""
            },
            "colorscale": [
             [
              0,
              "#0d0887"
             ],
             [
              0.1111111111111111,
              "#46039f"
             ],
             [
              0.2222222222222222,
              "#7201a8"
             ],
             [
              0.3333333333333333,
              "#9c179e"
             ],
             [
              0.4444444444444444,
              "#bd3786"
             ],
             [
              0.5555555555555556,
              "#d8576b"
             ],
             [
              0.6666666666666666,
              "#ed7953"
             ],
             [
              0.7777777777777778,
              "#fb9f3a"
             ],
             [
              0.8888888888888888,
              "#fdca26"
             ],
             [
              1,
              "#f0f921"
             ]
            ],
            "type": "heatmap"
           }
          ],
          "heatmapgl": [
           {
            "colorbar": {
             "outlinewidth": 0,
             "ticks": ""
            },
            "colorscale": [
             [
              0,
              "#0d0887"
             ],
             [
              0.1111111111111111,
              "#46039f"
             ],
             [
              0.2222222222222222,
              "#7201a8"
             ],
             [
              0.3333333333333333,
              "#9c179e"
             ],
             [
              0.4444444444444444,
              "#bd3786"
             ],
             [
              0.5555555555555556,
              "#d8576b"
             ],
             [
              0.6666666666666666,
              "#ed7953"
             ],
             [
              0.7777777777777778,
              "#fb9f3a"
             ],
             [
              0.8888888888888888,
              "#fdca26"
             ],
             [
              1,
              "#f0f921"
             ]
            ],
            "type": "heatmapgl"
           }
          ],
          "histogram": [
           {
            "marker": {
             "pattern": {
              "fillmode": "overlay",
              "size": 10,
              "solidity": 0.2
             }
            },
            "type": "histogram"
           }
          ],
          "histogram2d": [
           {
            "colorbar": {
             "outlinewidth": 0,
             "ticks": ""
            },
            "colorscale": [
             [
              0,
              "#0d0887"
             ],
             [
              0.1111111111111111,
              "#46039f"
             ],
             [
              0.2222222222222222,
              "#7201a8"
             ],
             [
              0.3333333333333333,
              "#9c179e"
             ],
             [
              0.4444444444444444,
              "#bd3786"
             ],
             [
              0.5555555555555556,
              "#d8576b"
             ],
             [
              0.6666666666666666,
              "#ed7953"
             ],
             [
              0.7777777777777778,
              "#fb9f3a"
             ],
             [
              0.8888888888888888,
              "#fdca26"
             ],
             [
              1,
              "#f0f921"
             ]
            ],
            "type": "histogram2d"
           }
          ],
          "histogram2dcontour": [
           {
            "colorbar": {
             "outlinewidth": 0,
             "ticks": ""
            },
            "colorscale": [
             [
              0,
              "#0d0887"
             ],
             [
              0.1111111111111111,
              "#46039f"
             ],
             [
              0.2222222222222222,
              "#7201a8"
             ],
             [
              0.3333333333333333,
              "#9c179e"
             ],
             [
              0.4444444444444444,
              "#bd3786"
             ],
             [
              0.5555555555555556,
              "#d8576b"
             ],
             [
              0.6666666666666666,
              "#ed7953"
             ],
             [
              0.7777777777777778,
              "#fb9f3a"
             ],
             [
              0.8888888888888888,
              "#fdca26"
             ],
             [
              1,
              "#f0f921"
             ]
            ],
            "type": "histogram2dcontour"
           }
          ],
          "mesh3d": [
           {
            "colorbar": {
             "outlinewidth": 0,
             "ticks": ""
            },
            "type": "mesh3d"
           }
          ],
          "parcoords": [
           {
            "line": {
             "colorbar": {
              "outlinewidth": 0,
              "ticks": ""
             }
            },
            "type": "parcoords"
           }
          ],
          "pie": [
           {
            "automargin": true,
            "type": "pie"
           }
          ],
          "scatter": [
           {
            "fillpattern": {
             "fillmode": "overlay",
             "size": 10,
             "solidity": 0.2
            },
            "type": "scatter"
           }
          ],
          "scatter3d": [
           {
            "line": {
             "colorbar": {
              "outlinewidth": 0,
              "ticks": ""
             }
            },
            "marker": {
             "colorbar": {
              "outlinewidth": 0,
              "ticks": ""
             }
            },
            "type": "scatter3d"
           }
          ],
          "scattercarpet": [
           {
            "marker": {
             "colorbar": {
              "outlinewidth": 0,
              "ticks": ""
             }
            },
            "type": "scattercarpet"
           }
          ],
          "scattergeo": [
           {
            "marker": {
             "colorbar": {
              "outlinewidth": 0,
              "ticks": ""
             }
            },
            "type": "scattergeo"
           }
          ],
          "scattergl": [
           {
            "marker": {
             "colorbar": {
              "outlinewidth": 0,
              "ticks": ""
             }
            },
            "type": "scattergl"
           }
          ],
          "scattermapbox": [
           {
            "marker": {
             "colorbar": {
              "outlinewidth": 0,
              "ticks": ""
             }
            },
            "type": "scattermapbox"
           }
          ],
          "scatterpolar": [
           {
            "marker": {
             "colorbar": {
              "outlinewidth": 0,
              "ticks": ""
             }
            },
            "type": "scatterpolar"
           }
          ],
          "scatterpolargl": [
           {
            "marker": {
             "colorbar": {
              "outlinewidth": 0,
              "ticks": ""
             }
            },
            "type": "scatterpolargl"
           }
          ],
          "scatterternary": [
           {
            "marker": {
             "colorbar": {
              "outlinewidth": 0,
              "ticks": ""
             }
            },
            "type": "scatterternary"
           }
          ],
          "surface": [
           {
            "colorbar": {
             "outlinewidth": 0,
             "ticks": ""
            },
            "colorscale": [
             [
              0,
              "#0d0887"
             ],
             [
              0.1111111111111111,
              "#46039f"
             ],
             [
              0.2222222222222222,
              "#7201a8"
             ],
             [
              0.3333333333333333,
              "#9c179e"
             ],
             [
              0.4444444444444444,
              "#bd3786"
             ],
             [
              0.5555555555555556,
              "#d8576b"
             ],
             [
              0.6666666666666666,
              "#ed7953"
             ],
             [
              0.7777777777777778,
              "#fb9f3a"
             ],
             [
              0.8888888888888888,
              "#fdca26"
             ],
             [
              1,
              "#f0f921"
             ]
            ],
            "type": "surface"
           }
          ],
          "table": [
           {
            "cells": {
             "fill": {
              "color": "#EBF0F8"
             },
             "line": {
              "color": "white"
             }
            },
            "header": {
             "fill": {
              "color": "#C8D4E3"
             },
             "line": {
              "color": "white"
             }
            },
            "type": "table"
           }
          ]
         },
         "layout": {
          "annotationdefaults": {
           "arrowcolor": "#2a3f5f",
           "arrowhead": 0,
           "arrowwidth": 1
          },
          "autotypenumbers": "strict",
          "coloraxis": {
           "colorbar": {
            "outlinewidth": 0,
            "ticks": ""
           }
          },
          "colorscale": {
           "diverging": [
            [
             0,
             "#8e0152"
            ],
            [
             0.1,
             "#c51b7d"
            ],
            [
             0.2,
             "#de77ae"
            ],
            [
             0.3,
             "#f1b6da"
            ],
            [
             0.4,
             "#fde0ef"
            ],
            [
             0.5,
             "#f7f7f7"
            ],
            [
             0.6,
             "#e6f5d0"
            ],
            [
             0.7,
             "#b8e186"
            ],
            [
             0.8,
             "#7fbc41"
            ],
            [
             0.9,
             "#4d9221"
            ],
            [
             1,
             "#276419"
            ]
           ],
           "sequential": [
            [
             0,
             "#0d0887"
            ],
            [
             0.1111111111111111,
             "#46039f"
            ],
            [
             0.2222222222222222,
             "#7201a8"
            ],
            [
             0.3333333333333333,
             "#9c179e"
            ],
            [
             0.4444444444444444,
             "#bd3786"
            ],
            [
             0.5555555555555556,
             "#d8576b"
            ],
            [
             0.6666666666666666,
             "#ed7953"
            ],
            [
             0.7777777777777778,
             "#fb9f3a"
            ],
            [
             0.8888888888888888,
             "#fdca26"
            ],
            [
             1,
             "#f0f921"
            ]
           ],
           "sequentialminus": [
            [
             0,
             "#0d0887"
            ],
            [
             0.1111111111111111,
             "#46039f"
            ],
            [
             0.2222222222222222,
             "#7201a8"
            ],
            [
             0.3333333333333333,
             "#9c179e"
            ],
            [
             0.4444444444444444,
             "#bd3786"
            ],
            [
             0.5555555555555556,
             "#d8576b"
            ],
            [
             0.6666666666666666,
             "#ed7953"
            ],
            [
             0.7777777777777778,
             "#fb9f3a"
            ],
            [
             0.8888888888888888,
             "#fdca26"
            ],
            [
             1,
             "#f0f921"
            ]
           ]
          },
          "colorway": [
           "#636efa",
           "#EF553B",
           "#00cc96",
           "#ab63fa",
           "#FFA15A",
           "#19d3f3",
           "#FF6692",
           "#B6E880",
           "#FF97FF",
           "#FECB52"
          ],
          "font": {
           "color": "#2a3f5f"
          },
          "geo": {
           "bgcolor": "white",
           "lakecolor": "white",
           "landcolor": "#E5ECF6",
           "showlakes": true,
           "showland": true,
           "subunitcolor": "white"
          },
          "hoverlabel": {
           "align": "left"
          },
          "hovermode": "closest",
          "mapbox": {
           "style": "light"
          },
          "paper_bgcolor": "white",
          "plot_bgcolor": "#E5ECF6",
          "polar": {
           "angularaxis": {
            "gridcolor": "white",
            "linecolor": "white",
            "ticks": ""
           },
           "bgcolor": "#E5ECF6",
           "radialaxis": {
            "gridcolor": "white",
            "linecolor": "white",
            "ticks": ""
           }
          },
          "scene": {
           "xaxis": {
            "backgroundcolor": "#E5ECF6",
            "gridcolor": "white",
            "gridwidth": 2,
            "linecolor": "white",
            "showbackground": true,
            "ticks": "",
            "zerolinecolor": "white"
           },
           "yaxis": {
            "backgroundcolor": "#E5ECF6",
            "gridcolor": "white",
            "gridwidth": 2,
            "linecolor": "white",
            "showbackground": true,
            "ticks": "",
            "zerolinecolor": "white"
           },
           "zaxis": {
            "backgroundcolor": "#E5ECF6",
            "gridcolor": "white",
            "gridwidth": 2,
            "linecolor": "white",
            "showbackground": true,
            "ticks": "",
            "zerolinecolor": "white"
           }
          },
          "shapedefaults": {
           "line": {
            "color": "#2a3f5f"
           }
          },
          "ternary": {
           "aaxis": {
            "gridcolor": "white",
            "linecolor": "white",
            "ticks": ""
           },
           "baxis": {
            "gridcolor": "white",
            "linecolor": "white",
            "ticks": ""
           },
           "bgcolor": "#E5ECF6",
           "caxis": {
            "gridcolor": "white",
            "linecolor": "white",
            "ticks": ""
           }
          },
          "title": {
           "x": 0.05
          },
          "xaxis": {
           "automargin": true,
           "gridcolor": "white",
           "linecolor": "white",
           "ticks": "",
           "title": {
            "standoff": 15
           },
           "zerolinecolor": "white",
           "zerolinewidth": 2
          },
          "yaxis": {
           "automargin": true,
           "gridcolor": "white",
           "linecolor": "white",
           "ticks": "",
           "title": {
            "standoff": 15
           },
           "zerolinecolor": "white",
           "zerolinewidth": 2
          }
         }
        }
       }
      }
     },
     "metadata": {},
     "output_type": "display_data"
    }
   ],
   "source": [
    "dataframe = reference_based.join([y])\n",
    "correlation_matrix(dataframe)"
   ]
  },
  {
   "cell_type": "code",
   "execution_count": 19,
   "metadata": {},
   "outputs": [
    {
     "name": "stdout",
     "output_type": "stream",
     "text": [
      "Selected Feature Names: ['acl']\n",
      "Accuracy: 69.14%\n",
      "Selected Feature Names: ['acl', 'naacl']\n",
      "Accuracy: 67.90%\n",
      "Selected Feature Names: ['acl', 'naacl', 'ijcai']\n",
      "Accuracy: 68.31%\n",
      "Selected Feature Names: ['acl', 'naacl', 'ijcai', 'jmlr']\n",
      "Accuracy: 68.72%\n",
      "Selected Feature Names: ['acl', 'naacl', 'ijcai', 'jmlr', 'eccv']\n",
      "Accuracy: 68.72%\n",
      "Selected Feature Names: ['acl', 'naacl', 'ijcai', 'jmlr', 'eccv', 'num_ref_3years']\n",
      "Accuracy: 69.55%\n",
      "Selected Feature Names: ['acl', 'naacl', 'ijcai', 'jmlr', 'eccv', 'num_ref_3years', 'neurips']\n",
      "Accuracy: 67.90%\n",
      "Selected Feature Names: ['acl', 'naacl', 'ijcai', 'jmlr', 'eccv', 'num_ref_3years', 'neurips', 'neuralcom']\n",
      "Accuracy: 67.90%\n",
      "Selected Feature Names: ['acl', 'naacl', 'ijcai', 'jmlr', 'eccv', 'num_ref_3years', 'neurips', 'neuralcom', 'emnlp']\n",
      "Accuracy: 65.84%\n",
      "Selected Feature Names: ['acl', 'naacl', 'ijcai', 'jmlr', 'eccv', 'num_ref_3years', 'neurips', 'neuralcom', 'emnlp', 'iclr']\n",
      "Accuracy: 62.55%\n",
      "Selected Feature Names: ['acl', 'naacl', 'ijcai', 'jmlr', 'eccv', 'num_ref_3years', 'neurips', 'neuralcom', 'emnlp', 'iclr', 'num_ref']\n",
      "Accuracy: 64.61%\n",
      "Selected Feature Names: ['acl', 'naacl', 'ijcai', 'jmlr', 'eccv', 'num_ref_3years', 'neurips', 'neuralcom', 'emnlp', 'iclr', 'num_ref', 'arxiv']\n",
      "Accuracy: 61.73%\n",
      "Selected Feature Names: ['acl', 'naacl', 'ijcai', 'jmlr', 'eccv', 'num_ref_3years', 'neurips', 'neuralcom', 'emnlp', 'iclr', 'num_ref', 'arxiv', 'sigkdd']\n",
      "Accuracy: 61.73%\n",
      "Selected Feature Names: ['acl', 'naacl', 'ijcai', 'jmlr', 'eccv', 'num_ref_3years', 'neurips', 'neuralcom', 'emnlp', 'iclr', 'num_ref', 'arxiv', 'sigkdd', 'cvpr']\n",
      "Accuracy: 62.55%\n",
      "Selected Feature Names: ['acl', 'naacl', 'ijcai', 'jmlr', 'eccv', 'num_ref_3years', 'neurips', 'neuralcom', 'emnlp', 'iclr', 'num_ref', 'arxiv', 'sigkdd', 'cvpr', 'ieee_tran']\n",
      "Accuracy: 61.32%\n",
      "Selected Feature Names: ['acl', 'naacl', 'ijcai', 'jmlr', 'eccv', 'num_ref_3years', 'neurips', 'neuralcom', 'emnlp', 'iclr', 'num_ref', 'arxiv', 'sigkdd', 'cvpr', 'ieee_tran', 'acm_tran']\n",
      "Accuracy: 61.32%\n",
      "Selected Feature Names: ['acl', 'naacl', 'ijcai', 'jmlr', 'eccv', 'num_ref_3years', 'neurips', 'neuralcom', 'emnlp', 'iclr', 'num_ref', 'arxiv', 'sigkdd', 'cvpr', 'ieee_tran', 'acm_tran', 'nature']\n",
      "Accuracy: 61.73%\n",
      "Selected Feature Names: ['acl', 'naacl', 'ijcai', 'jmlr', 'eccv', 'num_ref_3years', 'neurips', 'neuralcom', 'emnlp', 'iclr', 'num_ref', 'arxiv', 'sigkdd', 'cvpr', 'ieee_tran', 'acm_tran', 'nature', 'iccv']\n",
      "Accuracy: 62.14%\n",
      "Selected Feature Names: ['acl', 'naacl', 'ijcai', 'jmlr', 'eccv', 'num_ref_3years', 'neurips', 'neuralcom', 'emnlp', 'iclr', 'num_ref', 'arxiv', 'sigkdd', 'cvpr', 'ieee_tran', 'acm_tran', 'nature', 'iccv', 'icra']\n",
      "Accuracy: 61.32%\n",
      "Selected Feature Names: ['acl', 'naacl', 'ijcai', 'jmlr', 'eccv', 'num_ref_3years', 'neurips', 'neuralcom', 'emnlp', 'iclr', 'num_ref', 'arxiv', 'sigkdd', 'cvpr', 'ieee_tran', 'acm_tran', 'nature', 'iccv', 'icra', 'icassp']\n",
      "Accuracy: 64.61%\n",
      "Selected Feature Names: ['acl', 'naacl', 'ijcai', 'jmlr', 'eccv', 'num_ref_3years', 'neurips', 'neuralcom', 'emnlp', 'iclr', 'num_ref', 'arxiv', 'sigkdd', 'cvpr', 'ieee_tran', 'acm_tran', 'nature', 'iccv', 'icra', 'icassp', 'aaai']\n",
      "Accuracy: 59.26%\n",
      "Selected Feature Names: ['acl', 'naacl', 'ijcai', 'jmlr', 'eccv', 'num_ref_3years', 'neurips', 'neuralcom', 'emnlp', 'iclr', 'num_ref', 'arxiv', 'sigkdd', 'cvpr', 'ieee_tran', 'acm_tran', 'nature', 'iccv', 'icra', 'icassp', 'aaai', 'icml']\n",
      "Accuracy: 61.73%\n",
      "Selected Feature Names: ['acl', 'naacl', 'ijcai', 'jmlr', 'eccv', 'num_ref_3years', 'neurips', 'neuralcom', 'emnlp', 'iclr', 'num_ref', 'arxiv', 'sigkdd', 'cvpr', 'ieee_tran', 'acm_tran', 'nature', 'iccv', 'icra', 'icassp', 'aaai', 'icml', 'aistats']\n",
      "Accuracy: 62.96%\n",
      "Selected Feature Names: ['acl', 'naacl', 'ijcai', 'jmlr', 'eccv', 'num_ref_3years', 'neurips', 'neuralcom', 'emnlp', 'iclr', 'num_ref', 'arxiv', 'sigkdd', 'cvpr', 'ieee_tran', 'acm_tran', 'nature', 'iccv', 'icra', 'icassp', 'aaai', 'icml', 'aistats', 'mit_press']\n",
      "Accuracy: 64.61%\n"
     ]
    }
   ],
   "source": [
    "for i in dict(enumerate(reference_based)):\n",
    "    accuracy = model(reference_based, y, i+1)\n",
    "    print(\"Accuracy: %.2f%%\" % (accuracy * 100.0))"
   ]
  },
  {
   "cell_type": "markdown",
   "metadata": {},
   "source": [
    "## Combination Predictor"
   ]
  },
  {
   "cell_type": "code",
   "execution_count": 20,
   "metadata": {},
   "outputs": [],
   "source": [
    "combination = citing_sentence.join([regular_sentences, reference_based])"
   ]
  },
  {
   "cell_type": "code",
   "execution_count": 21,
   "metadata": {},
   "outputs": [
    {
     "name": "stdout",
     "output_type": "stream",
     "text": [
      "Selected Feature Names: ['atr39']\n",
      "Accuracy: 62.55%\n",
      "Selected Feature Names: ['atr39', 'atr38']\n",
      "Accuracy: 61.73%\n",
      "Selected Feature Names: ['atr39', 'atr38', 'atr25']\n",
      "Accuracy: 57.61%\n",
      "Selected Feature Names: ['atr39', 'atr38', 'atr25', 'atr19']\n",
      "Accuracy: 62.55%\n",
      "Selected Feature Names: ['atr39', 'atr38', 'atr25', 'atr19', 'atr12']\n",
      "Accuracy: 66.67%\n",
      "Selected Feature Names: ['atr39', 'atr38', 'atr25', 'atr19', 'atr12', 'acl']\n",
      "Accuracy: 66.67%\n",
      "Selected Feature Names: ['atr39', 'atr38', 'atr25', 'atr19', 'atr12', 'acl', 'atr20']\n",
      "Accuracy: 63.79%\n",
      "Selected Feature Names: ['atr39', 'atr38', 'atr25', 'atr19', 'atr12', 'acl', 'atr20', 'atr23']\n",
      "Accuracy: 67.49%\n",
      "Selected Feature Names: ['atr39', 'atr38', 'atr25', 'atr19', 'atr12', 'acl', 'atr20', 'atr23', 'atr6']\n",
      "Accuracy: 71.19%\n",
      "Selected Feature Names: ['atr39', 'atr38', 'atr25', 'atr19', 'atr12', 'acl', 'atr20', 'atr23', 'atr6', 'naacl']\n",
      "Accuracy: 66.67%\n",
      "Selected Feature Names: ['atr39', 'atr38', 'atr25', 'atr19', 'atr12', 'acl', 'atr20', 'atr23', 'atr6', 'naacl', 'ijcai']\n",
      "Accuracy: 67.49%\n",
      "Selected Feature Names: ['atr39', 'atr38', 'atr25', 'atr19', 'atr12', 'acl', 'atr20', 'atr23', 'atr6', 'naacl', 'ijcai', 'atr27']\n",
      "Accuracy: 65.43%\n",
      "Selected Feature Names: ['atr39', 'atr38', 'atr25', 'atr19', 'atr12', 'acl', 'atr20', 'atr23', 'atr6', 'naacl', 'ijcai', 'atr27', 'atr9']\n",
      "Accuracy: 64.20%\n",
      "Selected Feature Names: ['atr39', 'atr38', 'atr25', 'atr19', 'atr12', 'acl', 'atr20', 'atr23', 'atr6', 'naacl', 'ijcai', 'atr27', 'atr9', 'atr7']\n",
      "Accuracy: 66.67%\n",
      "Selected Feature Names: ['atr39', 'atr38', 'atr25', 'atr19', 'atr12', 'acl', 'atr20', 'atr23', 'atr6', 'naacl', 'ijcai', 'atr27', 'atr9', 'atr7', 'atr32']\n",
      "Accuracy: 65.43%\n",
      "Selected Feature Names: ['atr39', 'atr38', 'atr25', 'atr19', 'atr12', 'acl', 'atr20', 'atr23', 'atr6', 'naacl', 'ijcai', 'atr27', 'atr9', 'atr7', 'atr32', 'atr36']\n",
      "Accuracy: 68.72%\n",
      "Selected Feature Names: ['atr39', 'atr38', 'atr25', 'atr19', 'atr12', 'acl', 'atr20', 'atr23', 'atr6', 'naacl', 'ijcai', 'atr27', 'atr9', 'atr7', 'atr32', 'atr36', 'jmlr']\n",
      "Accuracy: 66.26%\n",
      "Selected Feature Names: ['atr39', 'atr38', 'atr25', 'atr19', 'atr12', 'acl', 'atr20', 'atr23', 'atr6', 'naacl', 'ijcai', 'atr27', 'atr9', 'atr7', 'atr32', 'atr36', 'jmlr', 'atr11']\n",
      "Accuracy: 69.14%\n",
      "Selected Feature Names: ['atr39', 'atr38', 'atr25', 'atr19', 'atr12', 'acl', 'atr20', 'atr23', 'atr6', 'naacl', 'ijcai', 'atr27', 'atr9', 'atr7', 'atr32', 'atr36', 'jmlr', 'atr11', 'atr15']\n",
      "Accuracy: 69.55%\n",
      "Selected Feature Names: ['atr39', 'atr38', 'atr25', 'atr19', 'atr12', 'acl', 'atr20', 'atr23', 'atr6', 'naacl', 'ijcai', 'atr27', 'atr9', 'atr7', 'atr32', 'atr36', 'jmlr', 'atr11', 'atr15', 'eccv']\n",
      "Accuracy: 66.67%\n",
      "Selected Feature Names: ['atr39', 'atr38', 'atr25', 'atr19', 'atr12', 'acl', 'atr20', 'atr23', 'atr6', 'naacl', 'ijcai', 'atr27', 'atr9', 'atr7', 'atr32', 'atr36', 'jmlr', 'atr11', 'atr15', 'eccv', 'atr37']\n",
      "Accuracy: 70.37%\n",
      "Selected Feature Names: ['atr39', 'atr38', 'atr25', 'atr19', 'atr12', 'acl', 'atr20', 'atr23', 'atr6', 'naacl', 'ijcai', 'atr27', 'atr9', 'atr7', 'atr32', 'atr36', 'jmlr', 'atr11', 'atr15', 'eccv', 'atr37', 'num_ref_3years']\n",
      "Accuracy: 68.31%\n",
      "Selected Feature Names: ['atr39', 'atr38', 'atr25', 'atr19', 'atr12', 'acl', 'atr20', 'atr23', 'atr6', 'naacl', 'ijcai', 'atr27', 'atr9', 'atr7', 'atr32', 'atr36', 'jmlr', 'atr11', 'atr15', 'eccv', 'atr37', 'num_ref_3years', 'atr31']\n",
      "Accuracy: 71.19%\n",
      "Selected Feature Names: ['atr39', 'atr38', 'atr25', 'atr19', 'atr12', 'acl', 'atr20', 'atr23', 'atr6', 'naacl', 'ijcai', 'atr27', 'atr9', 'atr7', 'atr32', 'atr36', 'jmlr', 'atr11', 'atr15', 'eccv', 'atr37', 'num_ref_3years', 'atr31', 'neurips']\n",
      "Accuracy: 67.08%\n",
      "Selected Feature Names: ['atr39', 'atr38', 'atr25', 'atr19', 'atr12', 'acl', 'atr20', 'atr23', 'atr6', 'naacl', 'ijcai', 'atr27', 'atr9', 'atr7', 'atr32', 'atr36', 'jmlr', 'atr11', 'atr15', 'eccv', 'atr37', 'num_ref_3years', 'atr31', 'neurips', 'neuralcom']\n",
      "Accuracy: 69.14%\n",
      "Selected Feature Names: ['atr39', 'atr38', 'atr25', 'atr19', 'atr12', 'acl', 'atr20', 'atr23', 'atr6', 'naacl', 'ijcai', 'atr27', 'atr9', 'atr7', 'atr32', 'atr36', 'jmlr', 'atr11', 'atr15', 'eccv', 'atr37', 'num_ref_3years', 'atr31', 'neurips', 'neuralcom', 'emnlp']\n",
      "Accuracy: 67.90%\n",
      "Selected Feature Names: ['atr39', 'atr38', 'atr25', 'atr19', 'atr12', 'acl', 'atr20', 'atr23', 'atr6', 'naacl', 'ijcai', 'atr27', 'atr9', 'atr7', 'atr32', 'atr36', 'jmlr', 'atr11', 'atr15', 'eccv', 'atr37', 'num_ref_3years', 'atr31', 'neurips', 'neuralcom', 'emnlp', 'iclr']\n",
      "Accuracy: 69.96%\n",
      "Selected Feature Names: ['atr39', 'atr38', 'atr25', 'atr19', 'atr12', 'acl', 'atr20', 'atr23', 'atr6', 'naacl', 'ijcai', 'atr27', 'atr9', 'atr7', 'atr32', 'atr36', 'jmlr', 'atr11', 'atr15', 'eccv', 'atr37', 'num_ref_3years', 'atr31', 'neurips', 'neuralcom', 'emnlp', 'iclr', 'num_ref']\n",
      "Accuracy: 66.26%\n",
      "Selected Feature Names: ['atr39', 'atr38', 'atr25', 'atr19', 'atr12', 'acl', 'atr20', 'atr23', 'atr6', 'naacl', 'ijcai', 'atr27', 'atr9', 'atr7', 'atr32', 'atr36', 'jmlr', 'atr11', 'atr15', 'eccv', 'atr37', 'num_ref_3years', 'atr31', 'neurips', 'neuralcom', 'emnlp', 'iclr', 'num_ref', 'atr21']\n",
      "Accuracy: 64.20%\n",
      "Selected Feature Names: ['atr39', 'atr38', 'atr25', 'atr19', 'atr12', 'acl', 'atr20', 'atr23', 'atr6', 'naacl', 'ijcai', 'atr27', 'atr9', 'atr7', 'atr32', 'atr36', 'jmlr', 'atr11', 'atr15', 'eccv', 'atr37', 'num_ref_3years', 'atr31', 'neurips', 'neuralcom', 'emnlp', 'iclr', 'num_ref', 'atr21', 'atr16']\n",
      "Accuracy: 67.49%\n",
      "Selected Feature Names: ['atr39', 'atr38', 'atr25', 'atr19', 'atr12', 'acl', 'atr20', 'atr23', 'atr6', 'naacl', 'ijcai', 'atr27', 'atr9', 'atr7', 'atr32', 'atr36', 'jmlr', 'atr11', 'atr15', 'eccv', 'atr37', 'num_ref_3years', 'atr31', 'neurips', 'neuralcom', 'emnlp', 'iclr', 'num_ref', 'atr21', 'atr16', 'atr17']\n",
      "Accuracy: 67.90%\n",
      "Selected Feature Names: ['atr39', 'atr38', 'atr25', 'atr19', 'atr12', 'acl', 'atr20', 'atr23', 'atr6', 'naacl', 'ijcai', 'atr27', 'atr9', 'atr7', 'atr32', 'atr36', 'jmlr', 'atr11', 'atr15', 'eccv', 'atr37', 'num_ref_3years', 'atr31', 'neurips', 'neuralcom', 'emnlp', 'iclr', 'num_ref', 'atr21', 'atr16', 'atr17', 'atr28']\n",
      "Accuracy: 67.49%\n",
      "Selected Feature Names: ['atr39', 'atr38', 'atr25', 'atr19', 'atr12', 'acl', 'atr20', 'atr23', 'atr6', 'naacl', 'ijcai', 'atr27', 'atr9', 'atr7', 'atr32', 'atr36', 'jmlr', 'atr11', 'atr15', 'eccv', 'atr37', 'num_ref_3years', 'atr31', 'neurips', 'neuralcom', 'emnlp', 'iclr', 'num_ref', 'atr21', 'atr16', 'atr17', 'atr28', 'atr35']\n",
      "Accuracy: 66.26%\n",
      "Selected Feature Names: ['atr39', 'atr38', 'atr25', 'atr19', 'atr12', 'acl', 'atr20', 'atr23', 'atr6', 'naacl', 'ijcai', 'atr27', 'atr9', 'atr7', 'atr32', 'atr36', 'jmlr', 'atr11', 'atr15', 'eccv', 'atr37', 'num_ref_3years', 'atr31', 'neurips', 'neuralcom', 'emnlp', 'iclr', 'num_ref', 'atr21', 'atr16', 'atr17', 'atr28', 'atr35', 'atr33']\n",
      "Accuracy: 70.37%\n",
      "Selected Feature Names: ['atr39', 'atr38', 'atr25', 'atr19', 'atr12', 'acl', 'atr20', 'atr23', 'atr6', 'naacl', 'ijcai', 'atr27', 'atr9', 'atr7', 'atr32', 'atr36', 'jmlr', 'atr11', 'atr15', 'eccv', 'atr37', 'num_ref_3years', 'atr31', 'neurips', 'neuralcom', 'emnlp', 'iclr', 'num_ref', 'atr21', 'atr16', 'atr17', 'atr28', 'atr35', 'atr33', 'arxiv']\n",
      "Accuracy: 67.08%\n",
      "Selected Feature Names: ['atr39', 'atr38', 'atr25', 'atr19', 'atr12', 'acl', 'atr20', 'atr23', 'atr6', 'naacl', 'ijcai', 'atr27', 'atr9', 'atr7', 'atr32', 'atr36', 'jmlr', 'atr11', 'atr15', 'eccv', 'atr37', 'num_ref_3years', 'atr31', 'neurips', 'neuralcom', 'emnlp', 'iclr', 'num_ref', 'atr21', 'atr16', 'atr17', 'atr28', 'atr35', 'atr33', 'arxiv', 'atr18']\n",
      "Accuracy: 65.43%\n",
      "Selected Feature Names: ['atr39', 'atr38', 'atr25', 'atr19', 'atr12', 'acl', 'atr20', 'atr23', 'atr6', 'naacl', 'ijcai', 'atr27', 'atr9', 'atr7', 'atr32', 'atr36', 'jmlr', 'atr11', 'atr15', 'eccv', 'atr37', 'num_ref_3years', 'atr31', 'neurips', 'neuralcom', 'emnlp', 'iclr', 'num_ref', 'atr21', 'atr16', 'atr17', 'atr28', 'atr35', 'atr33', 'arxiv', 'atr18', 'atr4']\n",
      "Accuracy: 66.26%\n",
      "Selected Feature Names: ['atr39', 'atr38', 'atr25', 'atr19', 'atr12', 'acl', 'atr20', 'atr23', 'atr6', 'naacl', 'ijcai', 'atr27', 'atr9', 'atr7', 'atr32', 'atr36', 'jmlr', 'atr11', 'atr15', 'eccv', 'atr37', 'num_ref_3years', 'atr31', 'neurips', 'neuralcom', 'emnlp', 'iclr', 'num_ref', 'atr21', 'atr16', 'atr17', 'atr28', 'atr35', 'atr33', 'arxiv', 'atr18', 'atr4', 'sigkdd']\n",
      "Accuracy: 65.84%\n",
      "Selected Feature Names: ['atr39', 'atr38', 'atr25', 'atr19', 'atr12', 'acl', 'atr20', 'atr23', 'atr6', 'naacl', 'ijcai', 'atr27', 'atr9', 'atr7', 'atr32', 'atr36', 'jmlr', 'atr11', 'atr15', 'eccv', 'atr37', 'num_ref_3years', 'atr31', 'neurips', 'neuralcom', 'emnlp', 'iclr', 'num_ref', 'atr21', 'atr16', 'atr17', 'atr28', 'atr35', 'atr33', 'arxiv', 'atr18', 'atr4', 'sigkdd', 'atr29']\n",
      "Accuracy: 65.84%\n",
      "Selected Feature Names: ['atr39', 'atr38', 'atr25', 'atr19', 'atr12', 'acl', 'atr20', 'atr23', 'atr6', 'naacl', 'ijcai', 'atr27', 'atr9', 'atr7', 'atr32', 'atr36', 'jmlr', 'atr11', 'atr15', 'eccv', 'atr37', 'num_ref_3years', 'atr31', 'neurips', 'neuralcom', 'emnlp', 'iclr', 'num_ref', 'atr21', 'atr16', 'atr17', 'atr28', 'atr35', 'atr33', 'arxiv', 'atr18', 'atr4', 'sigkdd', 'atr29', 'atr3']\n",
      "Accuracy: 67.08%\n",
      "Selected Feature Names: ['atr39', 'atr38', 'atr25', 'atr19', 'atr12', 'acl', 'atr20', 'atr23', 'atr6', 'naacl', 'ijcai', 'atr27', 'atr9', 'atr7', 'atr32', 'atr36', 'jmlr', 'atr11', 'atr15', 'eccv', 'atr37', 'num_ref_3years', 'atr31', 'neurips', 'neuralcom', 'emnlp', 'iclr', 'num_ref', 'atr21', 'atr16', 'atr17', 'atr28', 'atr35', 'atr33', 'arxiv', 'atr18', 'atr4', 'sigkdd', 'atr29', 'atr3', 'atr26']\n",
      "Accuracy: 65.84%\n",
      "Selected Feature Names: ['atr39', 'atr38', 'atr25', 'atr19', 'atr12', 'acl', 'atr20', 'atr23', 'atr6', 'naacl', 'ijcai', 'atr27', 'atr9', 'atr7', 'atr32', 'atr36', 'jmlr', 'atr11', 'atr15', 'eccv', 'atr37', 'num_ref_3years', 'atr31', 'neurips', 'neuralcom', 'emnlp', 'iclr', 'num_ref', 'atr21', 'atr16', 'atr17', 'atr28', 'atr35', 'atr33', 'arxiv', 'atr18', 'atr4', 'sigkdd', 'atr29', 'atr3', 'atr26', 'cvpr']\n",
      "Accuracy: 65.43%\n",
      "Selected Feature Names: ['atr39', 'atr38', 'atr25', 'atr19', 'atr12', 'acl', 'atr20', 'atr23', 'atr6', 'naacl', 'ijcai', 'atr27', 'atr9', 'atr7', 'atr32', 'atr36', 'jmlr', 'atr11', 'atr15', 'eccv', 'atr37', 'num_ref_3years', 'atr31', 'neurips', 'neuralcom', 'emnlp', 'iclr', 'num_ref', 'atr21', 'atr16', 'atr17', 'atr28', 'atr35', 'atr33', 'arxiv', 'atr18', 'atr4', 'sigkdd', 'atr29', 'atr3', 'atr26', 'cvpr', 'ieee_tran']\n",
      "Accuracy: 69.14%\n",
      "Selected Feature Names: ['atr39', 'atr38', 'atr25', 'atr19', 'atr12', 'acl', 'atr20', 'atr23', 'atr6', 'naacl', 'ijcai', 'atr27', 'atr9', 'atr7', 'atr32', 'atr36', 'jmlr', 'atr11', 'atr15', 'eccv', 'atr37', 'num_ref_3years', 'atr31', 'neurips', 'neuralcom', 'emnlp', 'iclr', 'num_ref', 'atr21', 'atr16', 'atr17', 'atr28', 'atr35', 'atr33', 'arxiv', 'atr18', 'atr4', 'sigkdd', 'atr29', 'atr3', 'atr26', 'cvpr', 'ieee_tran', 'atr22']\n",
      "Accuracy: 67.49%\n",
      "Selected Feature Names: ['atr39', 'atr38', 'atr25', 'atr19', 'atr12', 'acl', 'atr20', 'atr23', 'atr6', 'naacl', 'ijcai', 'atr27', 'atr9', 'atr7', 'atr32', 'atr36', 'jmlr', 'atr11', 'atr15', 'eccv', 'atr37', 'num_ref_3years', 'atr31', 'neurips', 'neuralcom', 'emnlp', 'iclr', 'num_ref', 'atr21', 'atr16', 'atr17', 'atr28', 'atr35', 'atr33', 'arxiv', 'atr18', 'atr4', 'sigkdd', 'atr29', 'atr3', 'atr26', 'cvpr', 'ieee_tran', 'atr22', 'atr0']\n",
      "Accuracy: 65.84%\n",
      "Selected Feature Names: ['atr39', 'atr38', 'atr25', 'atr19', 'atr12', 'acl', 'atr20', 'atr23', 'atr6', 'naacl', 'ijcai', 'atr27', 'atr9', 'atr7', 'atr32', 'atr36', 'jmlr', 'atr11', 'atr15', 'eccv', 'atr37', 'num_ref_3years', 'atr31', 'neurips', 'neuralcom', 'emnlp', 'iclr', 'num_ref', 'atr21', 'atr16', 'atr17', 'atr28', 'atr35', 'atr33', 'arxiv', 'atr18', 'atr4', 'sigkdd', 'atr29', 'atr3', 'atr26', 'cvpr', 'ieee_tran', 'atr22', 'atr0', 'atr1']\n",
      "Accuracy: 67.49%\n",
      "Selected Feature Names: ['atr39', 'atr38', 'atr25', 'atr19', 'atr12', 'acl', 'atr20', 'atr23', 'atr6', 'naacl', 'ijcai', 'atr27', 'atr9', 'atr7', 'atr32', 'atr36', 'jmlr', 'atr11', 'atr15', 'eccv', 'atr37', 'num_ref_3years', 'atr31', 'neurips', 'neuralcom', 'emnlp', 'iclr', 'num_ref', 'atr21', 'atr16', 'atr17', 'atr28', 'atr35', 'atr33', 'arxiv', 'atr18', 'atr4', 'sigkdd', 'atr29', 'atr3', 'atr26', 'cvpr', 'ieee_tran', 'atr22', 'atr0', 'atr1', 'atr8']\n",
      "Accuracy: 65.84%\n",
      "Selected Feature Names: ['atr39', 'atr38', 'atr25', 'atr19', 'atr12', 'acl', 'atr20', 'atr23', 'atr6', 'naacl', 'ijcai', 'atr27', 'atr9', 'atr7', 'atr32', 'atr36', 'jmlr', 'atr11', 'atr15', 'eccv', 'atr37', 'num_ref_3years', 'atr31', 'neurips', 'neuralcom', 'emnlp', 'iclr', 'num_ref', 'atr21', 'atr16', 'atr17', 'atr28', 'atr35', 'atr33', 'arxiv', 'atr18', 'atr4', 'sigkdd', 'atr29', 'atr3', 'atr26', 'cvpr', 'ieee_tran', 'atr22', 'atr0', 'atr1', 'atr8', 'acm_tran']\n",
      "Accuracy: 65.84%\n",
      "Selected Feature Names: ['atr39', 'atr38', 'atr25', 'atr19', 'atr12', 'acl', 'atr20', 'atr23', 'atr6', 'naacl', 'ijcai', 'atr27', 'atr9', 'atr7', 'atr32', 'atr36', 'jmlr', 'atr11', 'atr15', 'eccv', 'atr37', 'num_ref_3years', 'atr31', 'neurips', 'neuralcom', 'emnlp', 'iclr', 'num_ref', 'atr21', 'atr16', 'atr17', 'atr28', 'atr35', 'atr33', 'arxiv', 'atr18', 'atr4', 'sigkdd', 'atr29', 'atr3', 'atr26', 'cvpr', 'ieee_tran', 'atr22', 'atr0', 'atr1', 'atr8', 'acm_tran', 'nature']\n",
      "Accuracy: 66.67%\n",
      "Selected Feature Names: ['atr39', 'atr38', 'atr25', 'atr19', 'atr12', 'acl', 'atr20', 'atr23', 'atr6', 'naacl', 'ijcai', 'atr27', 'atr9', 'atr7', 'atr32', 'atr36', 'jmlr', 'atr11', 'atr15', 'eccv', 'atr37', 'num_ref_3years', 'atr31', 'neurips', 'neuralcom', 'emnlp', 'iclr', 'num_ref', 'atr21', 'atr16', 'atr17', 'atr28', 'atr35', 'atr33', 'arxiv', 'atr18', 'atr4', 'sigkdd', 'atr29', 'atr3', 'atr26', 'cvpr', 'ieee_tran', 'atr22', 'atr0', 'atr1', 'atr8', 'acm_tran', 'nature', 'atr2']\n",
      "Accuracy: 67.08%\n",
      "Selected Feature Names: ['atr39', 'atr38', 'atr25', 'atr19', 'atr12', 'acl', 'atr20', 'atr23', 'atr6', 'naacl', 'ijcai', 'atr27', 'atr9', 'atr7', 'atr32', 'atr36', 'jmlr', 'atr11', 'atr15', 'eccv', 'atr37', 'num_ref_3years', 'atr31', 'neurips', 'neuralcom', 'emnlp', 'iclr', 'num_ref', 'atr21', 'atr16', 'atr17', 'atr28', 'atr35', 'atr33', 'arxiv', 'atr18', 'atr4', 'sigkdd', 'atr29', 'atr3', 'atr26', 'cvpr', 'ieee_tran', 'atr22', 'atr0', 'atr1', 'atr8', 'acm_tran', 'nature', 'atr2', 'iccv']\n",
      "Accuracy: 67.49%\n",
      "Selected Feature Names: ['atr39', 'atr38', 'atr25', 'atr19', 'atr12', 'acl', 'atr20', 'atr23', 'atr6', 'naacl', 'ijcai', 'atr27', 'atr9', 'atr7', 'atr32', 'atr36', 'jmlr', 'atr11', 'atr15', 'eccv', 'atr37', 'num_ref_3years', 'atr31', 'neurips', 'neuralcom', 'emnlp', 'iclr', 'num_ref', 'atr21', 'atr16', 'atr17', 'atr28', 'atr35', 'atr33', 'arxiv', 'atr18', 'atr4', 'sigkdd', 'atr29', 'atr3', 'atr26', 'cvpr', 'ieee_tran', 'atr22', 'atr0', 'atr1', 'atr8', 'acm_tran', 'nature', 'atr2', 'iccv', 'icra']\n",
      "Accuracy: 67.90%\n",
      "Selected Feature Names: ['atr39', 'atr38', 'atr25', 'atr19', 'atr12', 'acl', 'atr20', 'atr23', 'atr6', 'naacl', 'ijcai', 'atr27', 'atr9', 'atr7', 'atr32', 'atr36', 'jmlr', 'atr11', 'atr15', 'eccv', 'atr37', 'num_ref_3years', 'atr31', 'neurips', 'neuralcom', 'emnlp', 'iclr', 'num_ref', 'atr21', 'atr16', 'atr17', 'atr28', 'atr35', 'atr33', 'arxiv', 'atr18', 'atr4', 'sigkdd', 'atr29', 'atr3', 'atr26', 'cvpr', 'ieee_tran', 'atr22', 'atr0', 'atr1', 'atr8', 'acm_tran', 'nature', 'atr2', 'iccv', 'icra', 'atr10']\n",
      "Accuracy: 67.90%\n",
      "Selected Feature Names: ['atr39', 'atr38', 'atr25', 'atr19', 'atr12', 'acl', 'atr20', 'atr23', 'atr6', 'naacl', 'ijcai', 'atr27', 'atr9', 'atr7', 'atr32', 'atr36', 'jmlr', 'atr11', 'atr15', 'eccv', 'atr37', 'num_ref_3years', 'atr31', 'neurips', 'neuralcom', 'emnlp', 'iclr', 'num_ref', 'atr21', 'atr16', 'atr17', 'atr28', 'atr35', 'atr33', 'arxiv', 'atr18', 'atr4', 'sigkdd', 'atr29', 'atr3', 'atr26', 'cvpr', 'ieee_tran', 'atr22', 'atr0', 'atr1', 'atr8', 'acm_tran', 'nature', 'atr2', 'iccv', 'icra', 'atr10', 'atr5']\n",
      "Accuracy: 67.49%\n",
      "Selected Feature Names: ['atr39', 'atr38', 'atr25', 'atr19', 'atr12', 'acl', 'atr20', 'atr23', 'atr6', 'naacl', 'ijcai', 'atr27', 'atr9', 'atr7', 'atr32', 'atr36', 'jmlr', 'atr11', 'atr15', 'eccv', 'atr37', 'num_ref_3years', 'atr31', 'neurips', 'neuralcom', 'emnlp', 'iclr', 'num_ref', 'atr21', 'atr16', 'atr17', 'atr28', 'atr35', 'atr33', 'arxiv', 'atr18', 'atr4', 'sigkdd', 'atr29', 'atr3', 'atr26', 'cvpr', 'ieee_tran', 'atr22', 'atr0', 'atr1', 'atr8', 'acm_tran', 'nature', 'atr2', 'iccv', 'icra', 'atr10', 'atr5', 'atr24']\n",
      "Accuracy: 67.90%\n",
      "Selected Feature Names: ['atr39', 'atr38', 'atr25', 'atr19', 'atr12', 'acl', 'atr20', 'atr23', 'atr6', 'naacl', 'ijcai', 'atr27', 'atr9', 'atr7', 'atr32', 'atr36', 'jmlr', 'atr11', 'atr15', 'eccv', 'atr37', 'num_ref_3years', 'atr31', 'neurips', 'neuralcom', 'emnlp', 'iclr', 'num_ref', 'atr21', 'atr16', 'atr17', 'atr28', 'atr35', 'atr33', 'arxiv', 'atr18', 'atr4', 'sigkdd', 'atr29', 'atr3', 'atr26', 'cvpr', 'ieee_tran', 'atr22', 'atr0', 'atr1', 'atr8', 'acm_tran', 'nature', 'atr2', 'iccv', 'icra', 'atr10', 'atr5', 'atr24', 'icassp']\n",
      "Accuracy: 67.49%\n",
      "Selected Feature Names: ['atr39', 'atr38', 'atr25', 'atr19', 'atr12', 'acl', 'atr20', 'atr23', 'atr6', 'naacl', 'ijcai', 'atr27', 'atr9', 'atr7', 'atr32', 'atr36', 'jmlr', 'atr11', 'atr15', 'eccv', 'atr37', 'num_ref_3years', 'atr31', 'neurips', 'neuralcom', 'emnlp', 'iclr', 'num_ref', 'atr21', 'atr16', 'atr17', 'atr28', 'atr35', 'atr33', 'arxiv', 'atr18', 'atr4', 'sigkdd', 'atr29', 'atr3', 'atr26', 'cvpr', 'ieee_tran', 'atr22', 'atr0', 'atr1', 'atr8', 'acm_tran', 'nature', 'atr2', 'iccv', 'icra', 'atr10', 'atr5', 'atr24', 'icassp', 'aaai']\n",
      "Accuracy: 67.90%\n",
      "Selected Feature Names: ['atr39', 'atr38', 'atr25', 'atr19', 'atr12', 'acl', 'atr20', 'atr23', 'atr6', 'naacl', 'ijcai', 'atr27', 'atr9', 'atr7', 'atr32', 'atr36', 'jmlr', 'atr11', 'atr15', 'eccv', 'atr37', 'num_ref_3years', 'atr31', 'neurips', 'neuralcom', 'emnlp', 'iclr', 'num_ref', 'atr21', 'atr16', 'atr17', 'atr28', 'atr35', 'atr33', 'arxiv', 'atr18', 'atr4', 'sigkdd', 'atr29', 'atr3', 'atr26', 'cvpr', 'ieee_tran', 'atr22', 'atr0', 'atr1', 'atr8', 'acm_tran', 'nature', 'atr2', 'iccv', 'icra', 'atr10', 'atr5', 'atr24', 'icassp', 'aaai', 'atr14']\n",
      "Accuracy: 67.08%\n",
      "Selected Feature Names: ['atr39', 'atr38', 'atr25', 'atr19', 'atr12', 'acl', 'atr20', 'atr23', 'atr6', 'naacl', 'ijcai', 'atr27', 'atr9', 'atr7', 'atr32', 'atr36', 'jmlr', 'atr11', 'atr15', 'eccv', 'atr37', 'num_ref_3years', 'atr31', 'neurips', 'neuralcom', 'emnlp', 'iclr', 'num_ref', 'atr21', 'atr16', 'atr17', 'atr28', 'atr35', 'atr33', 'arxiv', 'atr18', 'atr4', 'sigkdd', 'atr29', 'atr3', 'atr26', 'cvpr', 'ieee_tran', 'atr22', 'atr0', 'atr1', 'atr8', 'acm_tran', 'nature', 'atr2', 'iccv', 'icra', 'atr10', 'atr5', 'atr24', 'icassp', 'aaai', 'atr14', 'atr30']\n",
      "Accuracy: 65.02%\n",
      "Selected Feature Names: ['atr39', 'atr38', 'atr25', 'atr19', 'atr12', 'acl', 'atr20', 'atr23', 'atr6', 'naacl', 'ijcai', 'atr27', 'atr9', 'atr7', 'atr32', 'atr36', 'jmlr', 'atr11', 'atr15', 'eccv', 'atr37', 'num_ref_3years', 'atr31', 'neurips', 'neuralcom', 'emnlp', 'iclr', 'num_ref', 'atr21', 'atr16', 'atr17', 'atr28', 'atr35', 'atr33', 'arxiv', 'atr18', 'atr4', 'sigkdd', 'atr29', 'atr3', 'atr26', 'cvpr', 'ieee_tran', 'atr22', 'atr0', 'atr1', 'atr8', 'acm_tran', 'nature', 'atr2', 'iccv', 'icra', 'atr10', 'atr5', 'atr24', 'icassp', 'aaai', 'atr14', 'atr30', 'atr13']\n",
      "Accuracy: 64.20%\n",
      "Selected Feature Names: ['atr39', 'atr38', 'atr25', 'atr19', 'atr12', 'acl', 'atr20', 'atr23', 'atr6', 'naacl', 'ijcai', 'atr27', 'atr9', 'atr7', 'atr32', 'atr36', 'jmlr', 'atr11', 'atr15', 'eccv', 'atr37', 'num_ref_3years', 'atr31', 'neurips', 'neuralcom', 'emnlp', 'iclr', 'num_ref', 'atr21', 'atr16', 'atr17', 'atr28', 'atr35', 'atr33', 'arxiv', 'atr18', 'atr4', 'sigkdd', 'atr29', 'atr3', 'atr26', 'cvpr', 'ieee_tran', 'atr22', 'atr0', 'atr1', 'atr8', 'acm_tran', 'nature', 'atr2', 'iccv', 'icra', 'atr10', 'atr5', 'atr24', 'icassp', 'aaai', 'atr14', 'atr30', 'atr13', 'icml']\n",
      "Accuracy: 65.84%\n",
      "Selected Feature Names: ['atr39', 'atr38', 'atr25', 'atr19', 'atr12', 'acl', 'atr20', 'atr23', 'atr6', 'naacl', 'ijcai', 'atr27', 'atr9', 'atr7', 'atr32', 'atr36', 'jmlr', 'atr11', 'atr15', 'eccv', 'atr37', 'num_ref_3years', 'atr31', 'neurips', 'neuralcom', 'emnlp', 'iclr', 'num_ref', 'atr21', 'atr16', 'atr17', 'atr28', 'atr35', 'atr33', 'arxiv', 'atr18', 'atr4', 'sigkdd', 'atr29', 'atr3', 'atr26', 'cvpr', 'ieee_tran', 'atr22', 'atr0', 'atr1', 'atr8', 'acm_tran', 'nature', 'atr2', 'iccv', 'icra', 'atr10', 'atr5', 'atr24', 'icassp', 'aaai', 'atr14', 'atr30', 'atr13', 'icml', 'aistats']\n",
      "Accuracy: 66.67%\n",
      "Selected Feature Names: ['atr39', 'atr38', 'atr25', 'atr19', 'atr12', 'acl', 'atr20', 'atr23', 'atr6', 'naacl', 'ijcai', 'atr27', 'atr9', 'atr7', 'atr32', 'atr36', 'jmlr', 'atr11', 'atr15', 'eccv', 'atr37', 'num_ref_3years', 'atr31', 'neurips', 'neuralcom', 'emnlp', 'iclr', 'num_ref', 'atr21', 'atr16', 'atr17', 'atr28', 'atr35', 'atr33', 'arxiv', 'atr18', 'atr4', 'sigkdd', 'atr29', 'atr3', 'atr26', 'cvpr', 'ieee_tran', 'atr22', 'atr0', 'atr1', 'atr8', 'acm_tran', 'nature', 'atr2', 'iccv', 'icra', 'atr10', 'atr5', 'atr24', 'icassp', 'aaai', 'atr14', 'atr30', 'atr13', 'icml', 'aistats', 'atr34']\n",
      "Accuracy: 66.26%\n",
      "Selected Feature Names: ['atr39', 'atr38', 'atr25', 'atr19', 'atr12', 'acl', 'atr20', 'atr23', 'atr6', 'naacl', 'ijcai', 'atr27', 'atr9', 'atr7', 'atr32', 'atr36', 'jmlr', 'atr11', 'atr15', 'eccv', 'atr37', 'num_ref_3years', 'atr31', 'neurips', 'neuralcom', 'emnlp', 'iclr', 'num_ref', 'atr21', 'atr16', 'atr17', 'atr28', 'atr35', 'atr33', 'arxiv', 'atr18', 'atr4', 'sigkdd', 'atr29', 'atr3', 'atr26', 'cvpr', 'ieee_tran', 'atr22', 'atr0', 'atr1', 'atr8', 'acm_tran', 'nature', 'atr2', 'iccv', 'icra', 'atr10', 'atr5', 'atr24', 'icassp', 'aaai', 'atr14', 'atr30', 'atr13', 'icml', 'aistats', 'atr34', 'mit_press']\n",
      "Accuracy: 66.26%\n"
     ]
    }
   ],
   "source": [
    "for i in dict(enumerate(combination)):\n",
    "    accuracy = model(combination, y, i+1)\n",
    "    print(\"Accuracy: %.2f%%\" % (accuracy * 100.0))"
   ]
  },
  {
   "cell_type": "code",
   "execution_count": 22,
   "metadata": {},
   "outputs": [],
   "source": [
    "test.to_excel('originality.xlsx', index=False)"
   ]
  }
 ],
 "metadata": {
  "kernelspec": {
   "display_name": "Python 3",
   "language": "python",
   "name": "python3"
  },
  "language_info": {
   "codemirror_mode": {
    "name": "ipython",
    "version": 3
   },
   "file_extension": ".py",
   "mimetype": "text/x-python",
   "name": "python",
   "nbconvert_exporter": "python",
   "pygments_lexer": "ipython3",
   "version": "3.10.9"
  }
 },
 "nbformat": 4,
 "nbformat_minor": 2
}
