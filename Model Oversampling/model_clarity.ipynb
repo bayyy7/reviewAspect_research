{
 "cells": [
  {
   "cell_type": "code",
   "execution_count": 1,
   "metadata": {},
   "outputs": [
    {
     "data": {
      "text/html": [
       "<div>\n",
       "<style scoped>\n",
       "    .dataframe tbody tr th:only-of-type {\n",
       "        vertical-align: middle;\n",
       "    }\n",
       "\n",
       "    .dataframe tbody tr th {\n",
       "        vertical-align: top;\n",
       "    }\n",
       "\n",
       "    .dataframe thead th {\n",
       "        text-align: right;\n",
       "    }\n",
       "</style>\n",
       "<table border=\"1\" class=\"dataframe\">\n",
       "  <thead>\n",
       "    <tr style=\"text-align: right;\">\n",
       "      <th></th>\n",
       "      <th>clarity</th>\n",
       "      <th>year</th>\n",
       "      <th>title</th>\n",
       "      <th>num_ref</th>\n",
       "      <th>num_ref_3years</th>\n",
       "      <th>arxiv</th>\n",
       "      <th>neurips</th>\n",
       "      <th>iclr</th>\n",
       "      <th>icml</th>\n",
       "      <th>aaai</th>\n",
       "      <th>...</th>\n",
       "      <th>atr37</th>\n",
       "      <th>atr38</th>\n",
       "      <th>atr39</th>\n",
       "      <th>citation_count</th>\n",
       "      <th>citedIn2018</th>\n",
       "      <th>citedIn2019</th>\n",
       "      <th>citedIn2020</th>\n",
       "      <th>citedIn2021</th>\n",
       "      <th>citedIn2022</th>\n",
       "      <th>citedIn2023</th>\n",
       "    </tr>\n",
       "  </thead>\n",
       "  <tbody>\n",
       "    <tr>\n",
       "      <th>0</th>\n",
       "      <td>1</td>\n",
       "      <td>2019</td>\n",
       "      <td>Learning Latent Superstructures in Variational...</td>\n",
       "      <td>39</td>\n",
       "      <td>9</td>\n",
       "      <td>2</td>\n",
       "      <td>5</td>\n",
       "      <td>2</td>\n",
       "      <td>7</td>\n",
       "      <td>1</td>\n",
       "      <td>...</td>\n",
       "      <td>3</td>\n",
       "      <td>53</td>\n",
       "      <td>150</td>\n",
       "      <td>36</td>\n",
       "      <td>2.0</td>\n",
       "      <td>4.0</td>\n",
       "      <td>10.0</td>\n",
       "      <td>12.0</td>\n",
       "      <td>9.0</td>\n",
       "      <td>2.0</td>\n",
       "    </tr>\n",
       "    <tr>\n",
       "      <th>1</th>\n",
       "      <td>1</td>\n",
       "      <td>2018</td>\n",
       "      <td>A PAC-Bayesian Approach to Spectrally-Normaliz...</td>\n",
       "      <td>19</td>\n",
       "      <td>7</td>\n",
       "      <td>6</td>\n",
       "      <td>1</td>\n",
       "      <td>4</td>\n",
       "      <td>0</td>\n",
       "      <td>0</td>\n",
       "      <td>...</td>\n",
       "      <td>1</td>\n",
       "      <td>59</td>\n",
       "      <td>108</td>\n",
       "      <td>444</td>\n",
       "      <td>65.0</td>\n",
       "      <td>107.0</td>\n",
       "      <td>96.0</td>\n",
       "      <td>83.0</td>\n",
       "      <td>84.0</td>\n",
       "      <td>32.0</td>\n",
       "    </tr>\n",
       "    <tr>\n",
       "      <th>2</th>\n",
       "      <td>0</td>\n",
       "      <td>2020</td>\n",
       "      <td>Hamiltonian Generative Networks</td>\n",
       "      <td>31</td>\n",
       "      <td>12</td>\n",
       "      <td>4</td>\n",
       "      <td>1</td>\n",
       "      <td>6</td>\n",
       "      <td>1</td>\n",
       "      <td>0</td>\n",
       "      <td>...</td>\n",
       "      <td>5</td>\n",
       "      <td>63</td>\n",
       "      <td>186</td>\n",
       "      <td>133</td>\n",
       "      <td>0.0</td>\n",
       "      <td>8.0</td>\n",
       "      <td>52.0</td>\n",
       "      <td>47.0</td>\n",
       "      <td>30.0</td>\n",
       "      <td>9.0</td>\n",
       "    </tr>\n",
       "    <tr>\n",
       "      <th>3</th>\n",
       "      <td>0</td>\n",
       "      <td>2020</td>\n",
       "      <td>CM3: Cooperative Multi-goal Multi-stage Multi-...</td>\n",
       "      <td>55</td>\n",
       "      <td>23</td>\n",
       "      <td>3</td>\n",
       "      <td>6</td>\n",
       "      <td>7</td>\n",
       "      <td>9</td>\n",
       "      <td>4</td>\n",
       "      <td>...</td>\n",
       "      <td>0</td>\n",
       "      <td>111</td>\n",
       "      <td>224</td>\n",
       "      <td>188</td>\n",
       "      <td>2.0</td>\n",
       "      <td>7.0</td>\n",
       "      <td>7.0</td>\n",
       "      <td>14.0</td>\n",
       "      <td>15.0</td>\n",
       "      <td>6.0</td>\n",
       "    </tr>\n",
       "    <tr>\n",
       "      <th>4</th>\n",
       "      <td>1</td>\n",
       "      <td>2020</td>\n",
       "      <td>Why Gradient Clipping Accelerates Training: A ...</td>\n",
       "      <td>60</td>\n",
       "      <td>17</td>\n",
       "      <td>18</td>\n",
       "      <td>1</td>\n",
       "      <td>10</td>\n",
       "      <td>3</td>\n",
       "      <td>0</td>\n",
       "      <td>...</td>\n",
       "      <td>2</td>\n",
       "      <td>65</td>\n",
       "      <td>226</td>\n",
       "      <td>174</td>\n",
       "      <td>0.0</td>\n",
       "      <td>2.0</td>\n",
       "      <td>50.0</td>\n",
       "      <td>71.0</td>\n",
       "      <td>61.0</td>\n",
       "      <td>43.0</td>\n",
       "    </tr>\n",
       "    <tr>\n",
       "      <th>...</th>\n",
       "      <td>...</td>\n",
       "      <td>...</td>\n",
       "      <td>...</td>\n",
       "      <td>...</td>\n",
       "      <td>...</td>\n",
       "      <td>...</td>\n",
       "      <td>...</td>\n",
       "      <td>...</td>\n",
       "      <td>...</td>\n",
       "      <td>...</td>\n",
       "      <td>...</td>\n",
       "      <td>...</td>\n",
       "      <td>...</td>\n",
       "      <td>...</td>\n",
       "      <td>...</td>\n",
       "      <td>...</td>\n",
       "      <td>...</td>\n",
       "      <td>...</td>\n",
       "      <td>...</td>\n",
       "      <td>...</td>\n",
       "      <td>...</td>\n",
       "    </tr>\n",
       "    <tr>\n",
       "      <th>3195</th>\n",
       "      <td>1</td>\n",
       "      <td>2019</td>\n",
       "      <td>Subgradient Descent Learns Orthogonal Dictiona...</td>\n",
       "      <td>44</td>\n",
       "      <td>19</td>\n",
       "      <td>7</td>\n",
       "      <td>0</td>\n",
       "      <td>1</td>\n",
       "      <td>1</td>\n",
       "      <td>0</td>\n",
       "      <td>...</td>\n",
       "      <td>0</td>\n",
       "      <td>135</td>\n",
       "      <td>304</td>\n",
       "      <td>47</td>\n",
       "      <td>4.0</td>\n",
       "      <td>16.0</td>\n",
       "      <td>13.0</td>\n",
       "      <td>10.0</td>\n",
       "      <td>4.0</td>\n",
       "      <td>2.0</td>\n",
       "    </tr>\n",
       "    <tr>\n",
       "      <th>3196</th>\n",
       "      <td>1</td>\n",
       "      <td>2019</td>\n",
       "      <td>Selfless Sequential Learning</td>\n",
       "      <td>48</td>\n",
       "      <td>12</td>\n",
       "      <td>12</td>\n",
       "      <td>0</td>\n",
       "      <td>6</td>\n",
       "      <td>1</td>\n",
       "      <td>0</td>\n",
       "      <td>...</td>\n",
       "      <td>1</td>\n",
       "      <td>34</td>\n",
       "      <td>167</td>\n",
       "      <td>86</td>\n",
       "      <td>3.0</td>\n",
       "      <td>17.0</td>\n",
       "      <td>23.0</td>\n",
       "      <td>24.0</td>\n",
       "      <td>22.0</td>\n",
       "      <td>6.0</td>\n",
       "    </tr>\n",
       "    <tr>\n",
       "      <th>3197</th>\n",
       "      <td>0</td>\n",
       "      <td>2018</td>\n",
       "      <td>Deep Bayesian Bandits Showdown:  An Empirical ...</td>\n",
       "      <td>47</td>\n",
       "      <td>12</td>\n",
       "      <td>4</td>\n",
       "      <td>1</td>\n",
       "      <td>8</td>\n",
       "      <td>7</td>\n",
       "      <td>1</td>\n",
       "      <td>...</td>\n",
       "      <td>3</td>\n",
       "      <td>76</td>\n",
       "      <td>266</td>\n",
       "      <td>253</td>\n",
       "      <td>15.0</td>\n",
       "      <td>45.0</td>\n",
       "      <td>70.0</td>\n",
       "      <td>80.0</td>\n",
       "      <td>47.0</td>\n",
       "      <td>21.0</td>\n",
       "    </tr>\n",
       "    <tr>\n",
       "      <th>3198</th>\n",
       "      <td>1</td>\n",
       "      <td>2017</td>\n",
       "      <td>Adversarial Training Methods for Semi-Supervis...</td>\n",
       "      <td>38</td>\n",
       "      <td>14</td>\n",
       "      <td>2</td>\n",
       "      <td>4</td>\n",
       "      <td>6</td>\n",
       "      <td>5</td>\n",
       "      <td>0</td>\n",
       "      <td>...</td>\n",
       "      <td>2</td>\n",
       "      <td>20</td>\n",
       "      <td>119</td>\n",
       "      <td>89</td>\n",
       "      <td>66.0</td>\n",
       "      <td>106.0</td>\n",
       "      <td>169.0</td>\n",
       "      <td>170.0</td>\n",
       "      <td>186.0</td>\n",
       "      <td>56.0</td>\n",
       "    </tr>\n",
       "    <tr>\n",
       "      <th>3199</th>\n",
       "      <td>0</td>\n",
       "      <td>2020</td>\n",
       "      <td>Maximum Likelihood Constraint Inference for In...</td>\n",
       "      <td>10</td>\n",
       "      <td>5</td>\n",
       "      <td>0</td>\n",
       "      <td>0</td>\n",
       "      <td>1</td>\n",
       "      <td>2</td>\n",
       "      <td>0</td>\n",
       "      <td>...</td>\n",
       "      <td>2</td>\n",
       "      <td>32</td>\n",
       "      <td>162</td>\n",
       "      <td>21</td>\n",
       "      <td>0.0</td>\n",
       "      <td>7.0</td>\n",
       "      <td>34.0</td>\n",
       "      <td>65.0</td>\n",
       "      <td>64.0</td>\n",
       "      <td>17.0</td>\n",
       "    </tr>\n",
       "  </tbody>\n",
       "</table>\n",
       "<p>3200 rows × 82 columns</p>\n",
       "</div>"
      ],
      "text/plain": [
       "      clarity  year                                              title  \\\n",
       "0           1  2019  Learning Latent Superstructures in Variational...   \n",
       "1           1  2018  A PAC-Bayesian Approach to Spectrally-Normaliz...   \n",
       "2           0  2020                    Hamiltonian Generative Networks   \n",
       "3           0  2020  CM3: Cooperative Multi-goal Multi-stage Multi-...   \n",
       "4           1  2020  Why Gradient Clipping Accelerates Training: A ...   \n",
       "...       ...   ...                                                ...   \n",
       "3195        1  2019  Subgradient Descent Learns Orthogonal Dictiona...   \n",
       "3196        1  2019                       Selfless Sequential Learning   \n",
       "3197        0  2018  Deep Bayesian Bandits Showdown:  An Empirical ...   \n",
       "3198        1  2017  Adversarial Training Methods for Semi-Supervis...   \n",
       "3199        0  2020  Maximum Likelihood Constraint Inference for In...   \n",
       "\n",
       "      num_ref  num_ref_3years  arxiv  neurips  iclr  icml  aaai  ...  atr37  \\\n",
       "0          39               9      2        5     2     7     1  ...      3   \n",
       "1          19               7      6        1     4     0     0  ...      1   \n",
       "2          31              12      4        1     6     1     0  ...      5   \n",
       "3          55              23      3        6     7     9     4  ...      0   \n",
       "4          60              17     18        1    10     3     0  ...      2   \n",
       "...       ...             ...    ...      ...   ...   ...   ...  ...    ...   \n",
       "3195       44              19      7        0     1     1     0  ...      0   \n",
       "3196       48              12     12        0     6     1     0  ...      1   \n",
       "3197       47              12      4        1     8     7     1  ...      3   \n",
       "3198       38              14      2        4     6     5     0  ...      2   \n",
       "3199       10               5      0        0     1     2     0  ...      2   \n",
       "\n",
       "      atr38  atr39  citation_count  citedIn2018  citedIn2019  citedIn2020  \\\n",
       "0        53    150              36          2.0          4.0         10.0   \n",
       "1        59    108             444         65.0        107.0         96.0   \n",
       "2        63    186             133          0.0          8.0         52.0   \n",
       "3       111    224             188          2.0          7.0          7.0   \n",
       "4        65    226             174          0.0          2.0         50.0   \n",
       "...     ...    ...             ...          ...          ...          ...   \n",
       "3195    135    304              47          4.0         16.0         13.0   \n",
       "3196     34    167              86          3.0         17.0         23.0   \n",
       "3197     76    266             253         15.0         45.0         70.0   \n",
       "3198     20    119              89         66.0        106.0        169.0   \n",
       "3199     32    162              21          0.0          7.0         34.0   \n",
       "\n",
       "      citedIn2021  citedIn2022  citedIn2023  \n",
       "0            12.0          9.0          2.0  \n",
       "1            83.0         84.0         32.0  \n",
       "2            47.0         30.0          9.0  \n",
       "3            14.0         15.0          6.0  \n",
       "4            71.0         61.0         43.0  \n",
       "...           ...          ...          ...  \n",
       "3195         10.0          4.0          2.0  \n",
       "3196         24.0         22.0          6.0  \n",
       "3197         80.0         47.0         21.0  \n",
       "3198        170.0        186.0         56.0  \n",
       "3199         65.0         64.0         17.0  \n",
       "\n",
       "[3200 rows x 82 columns]"
      ]
     },
     "execution_count": 1,
     "metadata": {},
     "output_type": "execute_result"
    }
   ],
   "source": [
    "import pandas as pd \n",
    "\n",
    "data = pd.read_csv('../Dataset/clarity.csv')\n",
    "data"
   ]
  },
  {
   "cell_type": "code",
   "execution_count": 2,
   "metadata": {},
   "outputs": [],
   "source": [
    "label_counts = data.groupby(['title', 'clarity']).size().unstack(fill_value=0)\n",
    "dominant_labels = label_counts.idxmax(axis=1)\n",
    "data = data.merge(dominant_labels.rename('dominant_label'), left_on='title', right_index=True)\n",
    "df_filtered = data[data['clarity'] == data['dominant_label']]\n",
    "\n",
    "label_counts_0 = data[data['clarity'] == 0].groupby('title').size().rename('count_0')\n",
    "label_counts_1 = data[data['clarity'] == 1].groupby('title').size().rename('count_1')\n",
    "\n",
    "df_filtered = df_filtered.merge(label_counts_0, left_on='title', right_index=True, how='left')\n",
    "df_filtered = df_filtered.merge(label_counts_1, left_on='title', right_index=True, how='left')\n",
    "\n",
    "df_filtered = df_filtered[df_filtered['count_0'] != df_filtered['count_1']]\n",
    "df_filtered = df_filtered.drop(['dominant_label', 'count_0', 'count_1'], axis=1)"
   ]
  },
  {
   "cell_type": "code",
   "execution_count": 3,
   "metadata": {},
   "outputs": [
    {
     "name": "stdout",
     "output_type": "stream",
     "text": [
      "<class 'pandas.core.frame.DataFrame'>\n",
      "Int64Index: 1275 entries, 1 to 3195\n",
      "Data columns (total 82 columns):\n",
      " #   Column          Non-Null Count  Dtype  \n",
      "---  ------          --------------  -----  \n",
      " 0   clarity         1275 non-null   int64  \n",
      " 1   year            1275 non-null   int64  \n",
      " 2   title           1275 non-null   object \n",
      " 3   num_ref         1275 non-null   int64  \n",
      " 4   num_ref_3years  1275 non-null   int64  \n",
      " 5   arxiv           1275 non-null   int64  \n",
      " 6   neurips         1275 non-null   int64  \n",
      " 7   iclr            1275 non-null   int64  \n",
      " 8   icml            1275 non-null   int64  \n",
      " 9   aaai            1275 non-null   int64  \n",
      " 10  iccv            1275 non-null   int64  \n",
      " 11  cvpr            1275 non-null   int64  \n",
      " 12  emnlp           1275 non-null   int64  \n",
      " 13  acl             1275 non-null   int64  \n",
      " 14  naacl           1275 non-null   int64  \n",
      " 15  eccv            1275 non-null   int64  \n",
      " 16  icra            1275 non-null   int64  \n",
      " 17  icassp          1275 non-null   int64  \n",
      " 18  ijcai           1275 non-null   int64  \n",
      " 19  aistats         1275 non-null   int64  \n",
      " 20  sigkdd          1275 non-null   int64  \n",
      " 21  neuralcom       1275 non-null   int64  \n",
      " 22  ieee_tran       1275 non-null   int64  \n",
      " 23  acm_tran        1275 non-null   int64  \n",
      " 24  mit_press       1275 non-null   int64  \n",
      " 25  nature          1275 non-null   int64  \n",
      " 26  jmlr            1275 non-null   int64  \n",
      " 27  decision_ori    1275 non-null   object \n",
      " 28  decision_final  1275 non-null   object \n",
      " 29  rating1         1275 non-null   int64  \n",
      " 30  rating2         1275 non-null   int64  \n",
      " 31  rating3         1255 non-null   float64\n",
      " 32  mean            1275 non-null   float64\n",
      " 33  class_label     1275 non-null   object \n",
      " 34  filetype2       1275 non-null   object \n",
      " 35  atr0            1275 non-null   int64  \n",
      " 36  atr1            1275 non-null   int64  \n",
      " 37  atr2            1275 non-null   int64  \n",
      " 38  atr3            1275 non-null   int64  \n",
      " 39  atr4            1275 non-null   int64  \n",
      " 40  atr5            1275 non-null   int64  \n",
      " 41  atr6            1275 non-null   int64  \n",
      " 42  atr7            1275 non-null   int64  \n",
      " 43  atr8            1275 non-null   int64  \n",
      " 44  atr9            1275 non-null   int64  \n",
      " 45  atr10           1275 non-null   int64  \n",
      " 46  atr11           1275 non-null   int64  \n",
      " 47  atr12           1275 non-null   int64  \n",
      " 48  atr13           1275 non-null   int64  \n",
      " 49  atr14           1275 non-null   int64  \n",
      " 50  atr15           1275 non-null   int64  \n",
      " 51  atr16           1275 non-null   int64  \n",
      " 52  atr17           1275 non-null   int64  \n",
      " 53  atr18           1275 non-null   int64  \n",
      " 54  atr19           1275 non-null   int64  \n",
      " 55  atr20           1275 non-null   int64  \n",
      " 56  atr21           1275 non-null   int64  \n",
      " 57  atr22           1275 non-null   int64  \n",
      " 58  atr23           1275 non-null   int64  \n",
      " 59  atr24           1275 non-null   int64  \n",
      " 60  atr25           1275 non-null   int64  \n",
      " 61  atr26           1275 non-null   int64  \n",
      " 62  atr27           1275 non-null   int64  \n",
      " 63  atr28           1275 non-null   int64  \n",
      " 64  atr29           1275 non-null   int64  \n",
      " 65  atr30           1275 non-null   int64  \n",
      " 66  atr31           1275 non-null   int64  \n",
      " 67  atr32           1275 non-null   int64  \n",
      " 68  atr33           1275 non-null   int64  \n",
      " 69  atr34           1275 non-null   int64  \n",
      " 70  atr35           1275 non-null   int64  \n",
      " 71  atr36           1275 non-null   int64  \n",
      " 72  atr37           1275 non-null   int64  \n",
      " 73  atr38           1275 non-null   int64  \n",
      " 74  atr39           1275 non-null   int64  \n",
      " 75  citation_count  1275 non-null   int64  \n",
      " 76  citedIn2018     1273 non-null   float64\n",
      " 77  citedIn2019     1273 non-null   float64\n",
      " 78  citedIn2020     1273 non-null   float64\n",
      " 79  citedIn2021     1273 non-null   float64\n",
      " 80  citedIn2022     1273 non-null   float64\n",
      " 81  citedIn2023     1273 non-null   float64\n",
      "dtypes: float64(8), int64(69), object(5)\n",
      "memory usage: 826.8+ KB\n"
     ]
    }
   ],
   "source": [
    "data = df_filtered.drop_duplicates()\n",
    "data.info()"
   ]
  },
  {
   "cell_type": "code",
   "execution_count": 4,
   "metadata": {},
   "outputs": [
    {
     "data": {
      "text/plain": [
       "<Axes: xlabel='clarity', ylabel='count'>"
      ]
     },
     "execution_count": 4,
     "metadata": {},
     "output_type": "execute_result"
    },
    {
     "data": {
      "image/png": "[encoded data removed]",
      "text/plain": [
       "<Figure size 640x480 with 1 Axes>"
      ]
     },
     "metadata": {},
     "output_type": "display_data"
    }
   ],
   "source": [
    "import seaborn as sns\n",
    "\n",
    "sns.countplot(x=data['clarity'])"
   ]
  },
  {
   "cell_type": "code",
   "execution_count": 5,
   "metadata": {},
   "outputs": [],
   "source": [
    "import plotly.graph_objects as go\n",
    "import numpy as np\n",
    "\n",
    "def correlation_matrix(dataframe):\n",
    "    df_corr = dataframe.corr()\n",
    "    fig = go.Figure()\n",
    "    fig.add_trace(\n",
    "        go.Heatmap(\n",
    "            x = df_corr.columns,\n",
    "            y = df_corr.index,\n",
    "            z = np.array(df_corr),\n",
    "            text=df_corr.values,\n",
    "            texttemplate='%{text:.2f}'\n",
    "        )\n",
    "    )\n",
    "    fig.show()"
   ]
  },
  {
   "cell_type": "markdown",
   "metadata": {},
   "source": [
    "## Citing Sentence Predictor"
   ]
  },
  {
   "cell_type": "code",
   "execution_count": 6,
   "metadata": {},
   "outputs": [],
   "source": [
    "citing_sentence = data[['atr0', 'atr1', 'atr2', 'atr3', 'atr4', 'atr5', 'atr6', 'atr7', 'atr8', 'atr9', 'atr10', 'atr11', 'atr12', 'atr13', 'atr14', 'atr15', 'atr16', 'atr17', 'atr18', 'atr19']]\n",
    "y = data['clarity']"
   ]
  },
  {
   "cell_type": "code",
   "execution_count": 7,
   "metadata": {},
   "outputs": [
    {
     "data": {
      "application/vnd.plotly.v1+json": {
       "config": {
        "plotlyServerURL": "https://plot.ly"
       },
       "data": [
        {
         "text": [
          [
           1,
           -0.013664830566013197,
           0.12437327917486636,
           0.17148685500440458,
           0.07489106445967474,
           0.05393766647682423,
           0.03695919738593579,
           0.08789516523042863,
           -0.01771573916424714,
           0.009451719915455847,
           0.013726710834537203,
           0.04180117634721876,
           -0.031932588554075096,
           0.03554209363333937,
           -0.014438281649722683,
           -0.006621456078328327,
           0.052998181219000885,
           0.04083809809257174,
           0.11430455101908399,
           0.26716121825752914,
           -0.0008836217337423941
          ],
          [
           -0.013664830566013197,
           1,
           0.04632632907669742,
           0.029074866497464668,
           0.05352884188501561,
           0.12031562627730114,
           0.07390829356666748,
           0.05717496692093983,
           0.026419323860542836,
           0.014503286869252419,
           0.02862135749254825,
           -0.0014098139558442002,
           -0.020259892361602763,
           0.05758942262738933,
           0.044149188004107484,
           0.014065325698037543,
           0.04775035862425696,
           0.03536124504630195,
           0.08410228572989688,
           0.1667806515740272,
           0.0621651733610954
          ],
          [
           0.12437327917486636,
           0.04632632907669742,
           1,
           0.23185680754750282,
           0.10325285521204314,
           0.20873409724521708,
           0.10746063824096949,
           0.07142758829015311,
           0.007584344652477876,
           0.10490909164765831,
           0.03523540934151334,
           -0.060355432205906306,
           0.03651764263520139,
           0.05544309397515094,
           0.13565137912712857,
           0.026445080771318807,
           0.06166337078922405,
           0.09248983793058181,
           0.17216056972091387,
           0.4573315346408958,
           0.013696750009920497
          ],
          [
           0.17148685500440458,
           0.029074866497464668,
           0.23185680754750282,
           1,
           0.08570461534742267,
           0.11544786086561142,
           0.11474512781081059,
           0.16934209529840993,
           0.07820525713379614,
           0.011843329424364571,
           -0.0039594156534946846,
           0.10331423073698451,
           -0.00589088351644485,
           0.012035198839080987,
           -0.0365437679624465,
           0.05675074471402823,
           0.06813923121113295,
           0.03699734463971129,
           0.19886691770789086,
           0.42707341827554546,
           -0.01560283463199172
          ],
          [
           0.07489106445967474,
           0.05352884188501561,
           0.10325285521204314,
           0.08570461534742267,
           1,
           0.06074888925420227,
           0.0955582788516837,
           0.06742205802176622,
           0.042913913241133875,
           0.014628995861172911,
           0.016725901715703484,
           0.07940563957181304,
           0.010384371633906814,
           0.02684111093207675,
           -0.015005962645202875,
           0.037765301982599475,
           0.012389745760682523,
           0.012014074317904813,
           0.07242645924308432,
           0.27332594218797446,
           0.03403397000203466
          ],
          [
           0.05393766647682423,
           0.12031562627730114,
           0.20873409724521708,
           0.11544786086561142,
           0.06074888925420227,
           1,
           0.18933032405766595,
           0.15103320889286828,
           0.11566258305341788,
           0.12671417650006972,
           0.08967816601657068,
           0.03964875131516121,
           0.01059639305798085,
           0.058516416768532906,
           0.16195959439647614,
           -0.0010774893014377422,
           0.08053967354981596,
           0.1367597650777138,
           0.19659013453771465,
           0.45023112412129895,
           0.005257977561103721
          ],
          [
           0.03695919738593579,
           0.07390829356666748,
           0.10746063824096949,
           0.11474512781081059,
           0.0955582788516837,
           0.18933032405766595,
           1,
           0.2992104475782991,
           0.09372922175252525,
           0.13622472269364236,
           0.018579290472734006,
           0.17963911838705982,
           0.05449931288527023,
           0.0075644254420990905,
           0.05212880208707993,
           0.027067378198959244,
           0.13224376571166255,
           0.08069498449877871,
           0.14558912285006834,
           0.47423666958255806,
           0.010541287436073382
          ],
          [
           0.08789516523042863,
           0.05717496692093983,
           0.07142758829015311,
           0.16934209529840993,
           0.06742205802176622,
           0.15103320889286828,
           0.2992104475782991,
           1,
           0.08650573492556506,
           0.24097006511841848,
           0.05036667014365922,
           0.20013729678113168,
           0.04250241622416798,
           0.06367687449017587,
           -0.06293508373775845,
           0.057122751697240744,
           0.18592533129439687,
           0.10906431792120942,
           0.10216059365011716,
           0.5530174598312475,
           0.0433372059839053
          ],
          [
           -0.01771573916424714,
           0.026419323860542836,
           0.007584344652477876,
           0.07820525713379614,
           0.042913913241133875,
           0.11566258305341788,
           0.09372922175252525,
           0.08650573492556506,
           1,
           0.0781936761927623,
           0.060581929178260614,
           0.06600926497059084,
           0.003655636009357106,
           0.0116583823809987,
           0.05051075723793342,
           0.03726652096558128,
           0.12125579189331005,
           0.08629962611458308,
           0.15739270784169587,
           0.2559815813498714,
           -0.01690434980731517
          ],
          [
           0.009451719915455847,
           0.014503286869252419,
           0.10490909164765831,
           0.011843329424364571,
           0.014628995861172911,
           0.12671417650006972,
           0.13622472269364236,
           0.24097006511841848,
           0.0781936761927623,
           1,
           -0.00990806694767514,
           0.07270470305996969,
           0.13147307187369228,
           0.10204504085097137,
           0.04209005115631709,
           0.101073827558319,
           0.0953790757477462,
           0.14066096769849193,
           0.08137961140203814,
           0.3329333931727327,
           0.03547070677092706
          ],
          [
           0.013726710834537203,
           0.02862135749254825,
           0.03523540934151334,
           -0.0039594156534946846,
           0.016725901715703484,
           0.08967816601657068,
           0.018579290472734006,
           0.05036667014365922,
           0.060581929178260614,
           -0.00990806694767514,
           1,
           0.016200322217389467,
           -0.0319113794048709,
           0.016122513828849876,
           0.011046433042886897,
           -0.04016884466222571,
           0.09536116989550755,
           0.015116204388758525,
           0.03846792392265341,
           0.10509466424143786,
           0.015720100696025318
          ],
          [
           0.04180117634721876,
           -0.0014098139558442002,
           -0.060355432205906306,
           0.10331423073698451,
           0.07940563957181304,
           0.03964875131516121,
           0.17963911838705982,
           0.20013729678113168,
           0.06600926497059084,
           0.07270470305996969,
           0.016200322217389467,
           1,
           0.13159015018701417,
           0.03949335798386528,
           0.06834910391281437,
           0.06967830961643698,
           0.09830831518496311,
           0.10906026478395191,
           0.09028265305876843,
           0.4551630959044301,
           0.013171525426605317
          ],
          [
           -0.031932588554075096,
           -0.020259892361602763,
           0.03651764263520139,
           -0.00589088351644485,
           0.010384371633906814,
           0.01059639305798085,
           0.05449931288527023,
           0.04250241622416798,
           0.003655636009357106,
           0.13147307187369228,
           -0.0319113794048709,
           0.13159015018701417,
           1,
           0.06952048619342349,
           0.10389642046497455,
           0.15758124162333603,
           0.022336871573652963,
           0.055594004306452706,
           0.05422629856148938,
           0.20961217958110695,
           0.04095765041269803
          ],
          [
           0.03554209363333937,
           0.05758942262738933,
           0.05544309397515094,
           0.012035198839080987,
           0.02684111093207675,
           0.058516416768532906,
           0.0075644254420990905,
           0.06367687449017587,
           0.0116583823809987,
           0.10204504085097137,
           0.016122513828849876,
           0.03949335798386528,
           0.06952048619342349,
           1,
           0.08664620806023983,
           0.018995690377463466,
           0.06220858022263706,
           0.08180190340569081,
           0.09590561059406394,
           0.1821715890474032,
           -0.029766402642605713
          ],
          [
           -0.014438281649722683,
           0.044149188004107484,
           0.13565137912712857,
           -0.0365437679624465,
           -0.015005962645202875,
           0.16195959439647614,
           0.05212880208707993,
           -0.06293508373775845,
           0.05051075723793342,
           0.04209005115631709,
           0.011046433042886897,
           0.06834910391281437,
           0.10389642046497455,
           0.08664620806023983,
           1,
           0.05793400591552837,
           0.019394225613621197,
           0.06510406370029005,
           0.15945126380849628,
           0.273238528378969,
           0.021761960745818758
          ],
          [
           -0.006621456078328327,
           0.014065325698037543,
           0.026445080771318807,
           0.05675074471402823,
           0.037765301982599475,
           -0.0010774893014377422,
           0.027067378198959244,
           0.057122751697240744,
           0.03726652096558128,
           0.101073827558319,
           -0.04016884466222571,
           0.06967830961643698,
           0.15758124162333603,
           0.018995690377463466,
           0.05793400591552837,
           1,
           0.0059880171901565615,
           0.06526611576421108,
           0.057001931668311794,
           0.14273232875257616,
           -0.012795309150674483
          ],
          [
           0.052998181219000885,
           0.04775035862425696,
           0.06166337078922405,
           0.06813923121113295,
           0.012389745760682523,
           0.08053967354981596,
           0.13224376571166255,
           0.18592533129439687,
           0.12125579189331005,
           0.0953790757477462,
           0.09536116989550755,
           0.09830831518496311,
           0.022336871573652963,
           0.06220858022263706,
           0.019394225613621197,
           0.0059880171901565615,
           1,
           0.17455903905663622,
           0.08567185232782355,
           0.3348840523918223,
           0.005538434051805225
          ],
          [
           0.04083809809257174,
           0.03536124504630195,
           0.09248983793058181,
           0.03699734463971129,
           0.012014074317904813,
           0.1367597650777138,
           0.08069498449877871,
           0.10906431792120942,
           0.08629962611458308,
           0.14066096769849193,
           0.015116204388758525,
           0.10906026478395191,
           0.055594004306452706,
           0.08180190340569081,
           0.06510406370029005,
           0.06526611576421108,
           0.17455903905663622,
           1,
           0.1196562340379553,
           0.29995834256888343,
           0.008070278732934023
          ],
          [
           0.11430455101908399,
           0.08410228572989688,
           0.17216056972091387,
           0.19886691770789086,
           0.07242645924308432,
           0.19659013453771465,
           0.14558912285006834,
           0.10216059365011716,
           0.15739270784169587,
           0.08137961140203814,
           0.03846792392265341,
           0.09028265305876843,
           0.05422629856148938,
           0.09590561059406394,
           0.15945126380849628,
           0.057001931668311794,
           0.08567185232782355,
           0.1196562340379553,
           1,
           0.534259841942794,
           -0.023362276279814968
          ],
          [
           0.26716121825752914,
           0.1667806515740272,
           0.4573315346408958,
           0.42707341827554546,
           0.27332594218797446,
           0.45023112412129895,
           0.47423666958255806,
           0.5530174598312475,
           0.2559815813498714,
           0.3329333931727327,
           0.10509466424143786,
           0.4551630959044301,
           0.20961217958110695,
           0.1821715890474032,
           0.273238528378969,
           0.14273232875257616,
           0.3348840523918223,
           0.29995834256888343,
           0.534259841942794,
           1,
           0.02968535481486742
          ],
          [
           -0.0008836217337423941,
           0.0621651733610954,
           0.013696750009920497,
           -0.01560283463199172,
           0.03403397000203466,
           0.005257977561103721,
           0.010541287436073382,
           0.0433372059839053,
           -0.01690434980731517,
           0.03547070677092706,
           0.015720100696025318,
           0.013171525426605317,
           0.04095765041269803,
           -0.029766402642605713,
           0.021761960745818758,
           -0.012795309150674483,
           0.005538434051805225,
           0.008070278732934023,
           -0.023362276279814968,
           0.02968535481486742,
           1
          ]
         ],
         "texttemplate": "%{text:.2f}",
         "type": "heatmap",
         "x": [
          "atr0",
          "atr1",
          "atr2",
          "atr3",
          "atr4",
          "atr5",
          "atr6",
          "atr7",
          "atr8",
          "atr9",
          "atr10",
          "atr11",
          "atr12",
          "atr13",
          "atr14",
          "atr15",
          "atr16",
          "atr17",
          "atr18",
          "atr19",
          "clarity"
         ],
         "y": [
          "atr0",
          "atr1",
          "atr2",
          "atr3",
          "atr4",
          "atr5",
          "atr6",
          "atr7",
          "atr8",
          "atr9",
          "atr10",
          "atr11",
          "atr12",
          "atr13",
          "atr14",
          "atr15",
          "atr16",
          "atr17",
          "atr18",
          "atr19",
          "clarity"
         ],
         "z": [
          [
           1,
           -0.013664830566013197,
           0.12437327917486636,
           0.17148685500440458,
           0.07489106445967474,
           0.05393766647682423,
           0.03695919738593579,
           0.08789516523042863,
           -0.01771573916424714,
           0.009451719915455847,
           0.013726710834537203,
           0.04180117634721876,
           -0.031932588554075096,
           0.03554209363333937,
           -0.014438281649722683,
           -0.006621456078328327,
           0.052998181219000885,
           0.04083809809257174,
           0.11430455101908399,
           0.26716121825752914,
           -0.0008836217337423941
          ],
          [
           -0.013664830566013197,
           1,
           0.04632632907669742,
           0.029074866497464668,
           0.05352884188501561,
           0.12031562627730114,
           0.07390829356666748,
           0.05717496692093983,
           0.026419323860542836,
           0.014503286869252419,
           0.02862135749254825,
           -0.0014098139558442002,
           -0.020259892361602763,
           0.05758942262738933,
           0.044149188004107484,
           0.014065325698037543,
           0.04775035862425696,
           0.03536124504630195,
           0.08410228572989688,
           0.1667806515740272,
           0.0621651733610954
          ],
          [
           0.12437327917486636,
           0.04632632907669742,
           1,
           0.23185680754750282,
           0.10325285521204314,
           0.20873409724521708,
           0.10746063824096949,
           0.07142758829015311,
           0.007584344652477876,
           0.10490909164765831,
           0.03523540934151334,
           -0.060355432205906306,
           0.03651764263520139,
           0.05544309397515094,
           0.13565137912712857,
           0.026445080771318807,
           0.06166337078922405,
           0.09248983793058181,
           0.17216056972091387,
           0.4573315346408958,
           0.013696750009920497
          ],
          [
           0.17148685500440458,
           0.029074866497464668,
           0.23185680754750282,
           1,
           0.08570461534742267,
           0.11544786086561142,
           0.11474512781081059,
           0.16934209529840993,
           0.07820525713379614,
           0.011843329424364571,
           -0.0039594156534946846,
           0.10331423073698451,
           -0.00589088351644485,
           0.012035198839080987,
           -0.0365437679624465,
           0.05675074471402823,
           0.06813923121113295,
           0.03699734463971129,
           0.19886691770789086,
           0.42707341827554546,
           -0.01560283463199172
          ],
          [
           0.07489106445967474,
           0.05352884188501561,
           0.10325285521204314,
           0.08570461534742267,
           1,
           0.06074888925420227,
           0.0955582788516837,
           0.06742205802176622,
           0.042913913241133875,
           0.014628995861172911,
           0.016725901715703484,
           0.07940563957181304,
           0.010384371633906814,
           0.02684111093207675,
           -0.015005962645202875,
           0.037765301982599475,
           0.012389745760682523,
           0.012014074317904813,
           0.07242645924308432,
           0.27332594218797446,
           0.03403397000203466
          ],
          [
           0.05393766647682423,
           0.12031562627730114,
           0.20873409724521708,
           0.11544786086561142,
           0.06074888925420227,
           1,
           0.18933032405766595,
           0.15103320889286828,
           0.11566258305341788,
           0.12671417650006972,
           0.08967816601657068,
           0.03964875131516121,
           0.01059639305798085,
           0.058516416768532906,
           0.16195959439647614,
           -0.0010774893014377422,
           0.08053967354981596,
           0.1367597650777138,
           0.19659013453771465,
           0.45023112412129895,
           0.005257977561103721
          ],
          [
           0.03695919738593579,
           0.07390829356666748,
           0.10746063824096949,
           0.11474512781081059,
           0.0955582788516837,
           0.18933032405766595,
           1,
           0.2992104475782991,
           0.09372922175252525,
           0.13622472269364236,
           0.018579290472734006,
           0.17963911838705982,
           0.05449931288527023,
           0.0075644254420990905,
           0.05212880208707993,
           0.027067378198959244,
           0.13224376571166255,
           0.08069498449877871,
           0.14558912285006834,
           0.47423666958255806,
           0.010541287436073382
          ],
          [
           0.08789516523042863,
           0.05717496692093983,
           0.07142758829015311,
           0.16934209529840993,
           0.06742205802176622,
           0.15103320889286828,
           0.2992104475782991,
           1,
           0.08650573492556506,
           0.24097006511841848,
           0.05036667014365922,
           0.20013729678113168,
           0.04250241622416798,
           0.06367687449017587,
           -0.06293508373775845,
           0.057122751697240744,
           0.18592533129439687,
           0.10906431792120942,
           0.10216059365011716,
           0.5530174598312475,
           0.0433372059839053
          ],
          [
           -0.01771573916424714,
           0.026419323860542836,
           0.007584344652477876,
           0.07820525713379614,
           0.042913913241133875,
           0.11566258305341788,
           0.09372922175252525,
           0.08650573492556506,
           1,
           0.0781936761927623,
           0.060581929178260614,
           0.06600926497059084,
           0.003655636009357106,
           0.0116583823809987,
           0.05051075723793342,
           0.03726652096558128,
           0.12125579189331005,
           0.08629962611458308,
           0.15739270784169587,
           0.2559815813498714,
           -0.01690434980731517
          ],
          [
           0.009451719915455847,
           0.014503286869252419,
           0.10490909164765831,
           0.011843329424364571,
           0.014628995861172911,
           0.12671417650006972,
           0.13622472269364236,
           0.24097006511841848,
           0.0781936761927623,
           1,
           -0.00990806694767514,
           0.07270470305996969,
           0.13147307187369228,
           0.10204504085097137,
           0.04209005115631709,
           0.101073827558319,
           0.0953790757477462,
           0.14066096769849193,
           0.08137961140203814,
           0.3329333931727327,
           0.03547070677092706
          ],
          [
           0.013726710834537203,
           0.02862135749254825,
           0.03523540934151334,
           -0.0039594156534946846,
           0.016725901715703484,
           0.08967816601657068,
           0.018579290472734006,
           0.05036667014365922,
           0.060581929178260614,
           -0.00990806694767514,
           1,
           0.016200322217389467,
           -0.0319113794048709,
           0.016122513828849876,
           0.011046433042886897,
           -0.04016884466222571,
           0.09536116989550755,
           0.015116204388758525,
           0.03846792392265341,
           0.10509466424143786,
           0.015720100696025318
          ],
          [
           0.04180117634721876,
           -0.0014098139558442002,
           -0.060355432205906306,
           0.10331423073698451,
           0.07940563957181304,
           0.03964875131516121,
           0.17963911838705982,
           0.20013729678113168,
           0.06600926497059084,
           0.07270470305996969,
           0.016200322217389467,
           1,
           0.13159015018701417,
           0.03949335798386528,
           0.06834910391281437,
           0.06967830961643698,
           0.09830831518496311,
           0.10906026478395191,
           0.09028265305876843,
           0.4551630959044301,
           0.013171525426605317
          ],
          [
           -0.031932588554075096,
           -0.020259892361602763,
           0.03651764263520139,
           -0.00589088351644485,
           0.010384371633906814,
           0.01059639305798085,
           0.05449931288527023,
           0.04250241622416798,
           0.003655636009357106,
           0.13147307187369228,
           -0.0319113794048709,
           0.13159015018701417,
           1,
           0.06952048619342349,
           0.10389642046497455,
           0.15758124162333603,
           0.022336871573652963,
           0.055594004306452706,
           0.05422629856148938,
           0.20961217958110695,
           0.04095765041269803
          ],
          [
           0.03554209363333937,
           0.05758942262738933,
           0.05544309397515094,
           0.012035198839080987,
           0.02684111093207675,
           0.058516416768532906,
           0.0075644254420990905,
           0.06367687449017587,
           0.0116583823809987,
           0.10204504085097137,
           0.016122513828849876,
           0.03949335798386528,
           0.06952048619342349,
           1,
           0.08664620806023983,
           0.018995690377463466,
           0.06220858022263706,
           0.08180190340569081,
           0.09590561059406394,
           0.1821715890474032,
           -0.029766402642605713
          ],
          [
           -0.014438281649722683,
           0.044149188004107484,
           0.13565137912712857,
           -0.0365437679624465,
           -0.015005962645202875,
           0.16195959439647614,
           0.05212880208707993,
           -0.06293508373775845,
           0.05051075723793342,
           0.04209005115631709,
           0.011046433042886897,
           0.06834910391281437,
           0.10389642046497455,
           0.08664620806023983,
           1,
           0.05793400591552837,
           0.019394225613621197,
           0.06510406370029005,
           0.15945126380849628,
           0.273238528378969,
           0.021761960745818758
          ],
          [
           -0.006621456078328327,
           0.014065325698037543,
           0.026445080771318807,
           0.05675074471402823,
           0.037765301982599475,
           -0.0010774893014377422,
           0.027067378198959244,
           0.057122751697240744,
           0.03726652096558128,
           0.101073827558319,
           -0.04016884466222571,
           0.06967830961643698,
           0.15758124162333603,
           0.018995690377463466,
           0.05793400591552837,
           1,
           0.0059880171901565615,
           0.06526611576421108,
           0.057001931668311794,
           0.14273232875257616,
           -0.012795309150674483
          ],
          [
           0.052998181219000885,
           0.04775035862425696,
           0.06166337078922405,
           0.06813923121113295,
           0.012389745760682523,
           0.08053967354981596,
           0.13224376571166255,
           0.18592533129439687,
           0.12125579189331005,
           0.0953790757477462,
           0.09536116989550755,
           0.09830831518496311,
           0.022336871573652963,
           0.06220858022263706,
           0.019394225613621197,
           0.0059880171901565615,
           1,
           0.17455903905663622,
           0.08567185232782355,
           0.3348840523918223,
           0.005538434051805225
          ],
          [
           0.04083809809257174,
           0.03536124504630195,
           0.09248983793058181,
           0.03699734463971129,
           0.012014074317904813,
           0.1367597650777138,
           0.08069498449877871,
           0.10906431792120942,
           0.08629962611458308,
           0.14066096769849193,
           0.015116204388758525,
           0.10906026478395191,
           0.055594004306452706,
           0.08180190340569081,
           0.06510406370029005,
           0.06526611576421108,
           0.17455903905663622,
           1,
           0.1196562340379553,
           0.29995834256888343,
           0.008070278732934023
          ],
          [
           0.11430455101908399,
           0.08410228572989688,
           0.17216056972091387,
           0.19886691770789086,
           0.07242645924308432,
           0.19659013453771465,
           0.14558912285006834,
           0.10216059365011716,
           0.15739270784169587,
           0.08137961140203814,
           0.03846792392265341,
           0.09028265305876843,
           0.05422629856148938,
           0.09590561059406394,
           0.15945126380849628,
           0.057001931668311794,
           0.08567185232782355,
           0.1196562340379553,
           1,
           0.534259841942794,
           -0.023362276279814968
          ],
          [
           0.26716121825752914,
           0.1667806515740272,
           0.4573315346408958,
           0.42707341827554546,
           0.27332594218797446,
           0.45023112412129895,
           0.47423666958255806,
           0.5530174598312475,
           0.2559815813498714,
           0.3329333931727327,
           0.10509466424143786,
           0.4551630959044301,
           0.20961217958110695,
           0.1821715890474032,
           0.273238528378969,
           0.14273232875257616,
           0.3348840523918223,
           0.29995834256888343,
           0.534259841942794,
           1,
           0.02968535481486742
          ],
          [
           -0.0008836217337423941,
           0.0621651733610954,
           0.013696750009920497,
           -0.01560283463199172,
           0.03403397000203466,
           0.005257977561103721,
           0.010541287436073382,
           0.0433372059839053,
           -0.01690434980731517,
           0.03547070677092706,
           0.015720100696025318,
           0.013171525426605317,
           0.04095765041269803,
           -0.029766402642605713,
           0.021761960745818758,
           -0.012795309150674483,
           0.005538434051805225,
           0.008070278732934023,
           -0.023362276279814968,
           0.02968535481486742,
           1
          ]
         ]
        }
       ],
       "layout": {
        "template": {
         "data": {
          "bar": [
           {
            "error_x": {
             "color": "#2a3f5f"
            },
            "error_y": {
             "color": "#2a3f5f"
            },
            "marker": {
             "line": {
              "color": "#E5ECF6",
              "width": 0.5
             },
             "pattern": {
              "fillmode": "overlay",
              "size": 10,
              "solidity": 0.2
             }
            },
            "type": "bar"
           }
          ],
          "barpolar": [
           {
            "marker": {
             "line": {
              "color": "#E5ECF6",
              "width": 0.5
             },
             "pattern": {
              "fillmode": "overlay",
              "size": 10,
              "solidity": 0.2
             }
            },
            "type": "barpolar"
           }
          ],
          "carpet": [
           {
            "aaxis": {
             "endlinecolor": "#2a3f5f",
             "gridcolor": "white",
             "linecolor": "white",
             "minorgridcolor": "white",
             "startlinecolor": "#2a3f5f"
            },
            "baxis": {
             "endlinecolor": "#2a3f5f",
             "gridcolor": "white",
             "linecolor": "white",
             "minorgridcolor": "white",
             "startlinecolor": "#2a3f5f"
            },
            "type": "carpet"
           }
          ],
          "choropleth": [
           {
            "colorbar": {
             "outlinewidth": 0,
             "ticks": ""
            },
            "type": "choropleth"
           }
          ],
          "contour": [
           {
            "colorbar": {
             "outlinewidth": 0,
             "ticks": ""
            },
            "colorscale": [
             [
              0,
              "#0d0887"
             ],
             [
              0.1111111111111111,
              "#46039f"
             ],
             [
              0.2222222222222222,
              "#7201a8"
             ],
             [
              0.3333333333333333,
              "#9c179e"
             ],
             [
              0.4444444444444444,
              "#bd3786"
             ],
             [
              0.5555555555555556,
              "#d8576b"
             ],
             [
              0.6666666666666666,
              "#ed7953"
             ],
             [
              0.7777777777777778,
              "#fb9f3a"
             ],
             [
              0.8888888888888888,
              "#fdca26"
             ],
             [
              1,
              "#f0f921"
             ]
            ],
            "type": "contour"
           }
          ],
          "contourcarpet": [
           {
            "colorbar": {
             "outlinewidth": 0,
             "ticks": ""
            },
            "type": "contourcarpet"
           }
          ],
          "heatmap": [
           {
            "colorbar": {
             "outlinewidth": 0,
             "ticks": ""
            },
            "colorscale": [
             [
              0,
              "#0d0887"
             ],
             [
              0.1111111111111111,
              "#46039f"
             ],
             [
              0.2222222222222222,
              "#7201a8"
             ],
             [
              0.3333333333333333,
              "#9c179e"
             ],
             [
              0.4444444444444444,
              "#bd3786"
             ],
             [
              0.5555555555555556,
              "#d8576b"
             ],
             [
              0.6666666666666666,
              "#ed7953"
             ],
             [
              0.7777777777777778,
              "#fb9f3a"
             ],
             [
              0.8888888888888888,
              "#fdca26"
             ],
             [
              1,
              "#f0f921"
             ]
            ],
            "type": "heatmap"
           }
          ],
          "heatmapgl": [
           {
            "colorbar": {
             "outlinewidth": 0,
             "ticks": ""
            },
            "colorscale": [
             [
              0,
              "#0d0887"
             ],
             [
              0.1111111111111111,
              "#46039f"
             ],
             [
              0.2222222222222222,
              "#7201a8"
             ],
             [
              0.3333333333333333,
              "#9c179e"
             ],
             [
              0.4444444444444444,
              "#bd3786"
             ],
             [
              0.5555555555555556,
              "#d8576b"
             ],
             [
              0.6666666666666666,
              "#ed7953"
             ],
             [
              0.7777777777777778,
              "#fb9f3a"
             ],
             [
              0.8888888888888888,
              "#fdca26"
             ],
             [
              1,
              "#f0f921"
             ]
            ],
            "type": "heatmapgl"
           }
          ],
          "histogram": [
           {
            "marker": {
             "pattern": {
              "fillmode": "overlay",
              "size": 10,
              "solidity": 0.2
             }
            },
            "type": "histogram"
           }
          ],
          "histogram2d": [
           {
            "colorbar": {
             "outlinewidth": 0,
             "ticks": ""
            },
            "colorscale": [
             [
              0,
              "#0d0887"
             ],
             [
              0.1111111111111111,
              "#46039f"
             ],
             [
              0.2222222222222222,
              "#7201a8"
             ],
             [
              0.3333333333333333,
              "#9c179e"
             ],
             [
              0.4444444444444444,
              "#bd3786"
             ],
             [
              0.5555555555555556,
              "#d8576b"
             ],
             [
              0.6666666666666666,
              "#ed7953"
             ],
             [
              0.7777777777777778,
              "#fb9f3a"
             ],
             [
              0.8888888888888888,
              "#fdca26"
             ],
             [
              1,
              "#f0f921"
             ]
            ],
            "type": "histogram2d"
           }
          ],
          "histogram2dcontour": [
           {
            "colorbar": {
             "outlinewidth": 0,
             "ticks": ""
            },
            "colorscale": [
             [
              0,
              "#0d0887"
             ],
             [
              0.1111111111111111,
              "#46039f"
             ],
             [
              0.2222222222222222,
              "#7201a8"
             ],
             [
              0.3333333333333333,
              "#9c179e"
             ],
             [
              0.4444444444444444,
              "#bd3786"
             ],
             [
              0.5555555555555556,
              "#d8576b"
             ],
             [
              0.6666666666666666,
              "#ed7953"
             ],
             [
              0.7777777777777778,
              "#fb9f3a"
             ],
             [
              0.8888888888888888,
              "#fdca26"
             ],
             [
              1,
              "#f0f921"
             ]
            ],
            "type": "histogram2dcontour"
           }
          ],
          "mesh3d": [
           {
            "colorbar": {
             "outlinewidth": 0,
             "ticks": ""
            },
            "type": "mesh3d"
           }
          ],
          "parcoords": [
           {
            "line": {
             "colorbar": {
              "outlinewidth": 0,
              "ticks": ""
             }
            },
            "type": "parcoords"
           }
          ],
          "pie": [
           {
            "automargin": true,
            "type": "pie"
           }
          ],
          "scatter": [
           {
            "fillpattern": {
             "fillmode": "overlay",
             "size": 10,
             "solidity": 0.2
            },
            "type": "scatter"
           }
          ],
          "scatter3d": [
           {
            "line": {
             "colorbar": {
              "outlinewidth": 0,
              "ticks": ""
             }
            },
            "marker": {
             "colorbar": {
              "outlinewidth": 0,
              "ticks": ""
             }
            },
            "type": "scatter3d"
           }
          ],
          "scattercarpet": [
           {
            "marker": {
             "colorbar": {
              "outlinewidth": 0,
              "ticks": ""
             }
            },
            "type": "scattercarpet"
           }
          ],
          "scattergeo": [
           {
            "marker": {
             "colorbar": {
              "outlinewidth": 0,
              "ticks": ""
             }
            },
            "type": "scattergeo"
           }
          ],
          "scattergl": [
           {
            "marker": {
             "colorbar": {
              "outlinewidth": 0,
              "ticks": ""
             }
            },
            "type": "scattergl"
           }
          ],
          "scattermapbox": [
           {
            "marker": {
             "colorbar": {
              "outlinewidth": 0,
              "ticks": ""
             }
            },
            "type": "scattermapbox"
           }
          ],
          "scatterpolar": [
           {
            "marker": {
             "colorbar": {
              "outlinewidth": 0,
              "ticks": ""
             }
            },
            "type": "scatterpolar"
           }
          ],
          "scatterpolargl": [
           {
            "marker": {
             "colorbar": {
              "outlinewidth": 0,
              "ticks": ""
             }
            },
            "type": "scatterpolargl"
           }
          ],
          "scatterternary": [
           {
            "marker": {
             "colorbar": {
              "outlinewidth": 0,
              "ticks": ""
             }
            },
            "type": "scatterternary"
           }
          ],
          "surface": [
           {
            "colorbar": {
             "outlinewidth": 0,
             "ticks": ""
            },
            "colorscale": [
             [
              0,
              "#0d0887"
             ],
             [
              0.1111111111111111,
              "#46039f"
             ],
             [
              0.2222222222222222,
              "#7201a8"
             ],
             [
              0.3333333333333333,
              "#9c179e"
             ],
             [
              0.4444444444444444,
              "#bd3786"
             ],
             [
              0.5555555555555556,
              "#d8576b"
             ],
             [
              0.6666666666666666,
              "#ed7953"
             ],
             [
              0.7777777777777778,
              "#fb9f3a"
             ],
             [
              0.8888888888888888,
              "#fdca26"
             ],
             [
              1,
              "#f0f921"
             ]
            ],
            "type": "surface"
           }
          ],
          "table": [
           {
            "cells": {
             "fill": {
              "color": "#EBF0F8"
             },
             "line": {
              "color": "white"
             }
            },
            "header": {
             "fill": {
              "color": "#C8D4E3"
             },
             "line": {
              "color": "white"
             }
            },
            "type": "table"
           }
          ]
         },
         "layout": {
          "annotationdefaults": {
           "arrowcolor": "#2a3f5f",
           "arrowhead": 0,
           "arrowwidth": 1
          },
          "autotypenumbers": "strict",
          "coloraxis": {
           "colorbar": {
            "outlinewidth": 0,
            "ticks": ""
           }
          },
          "colorscale": {
           "diverging": [
            [
             0,
             "#8e0152"
            ],
            [
             0.1,
             "#c51b7d"
            ],
            [
             0.2,
             "#de77ae"
            ],
            [
             0.3,
             "#f1b6da"
            ],
            [
             0.4,
             "#fde0ef"
            ],
            [
             0.5,
             "#f7f7f7"
            ],
            [
             0.6,
             "#e6f5d0"
            ],
            [
             0.7,
             "#b8e186"
            ],
            [
             0.8,
             "#7fbc41"
            ],
            [
             0.9,
             "#4d9221"
            ],
            [
             1,
             "#276419"
            ]
           ],
           "sequential": [
            [
             0,
             "#0d0887"
            ],
            [
             0.1111111111111111,
             "#46039f"
            ],
            [
             0.2222222222222222,
             "#7201a8"
            ],
            [
             0.3333333333333333,
             "#9c179e"
            ],
            [
             0.4444444444444444,
             "#bd3786"
            ],
            [
             0.5555555555555556,
             "#d8576b"
            ],
            [
             0.6666666666666666,
             "#ed7953"
            ],
            [
             0.7777777777777778,
             "#fb9f3a"
            ],
            [
             0.8888888888888888,
             "#fdca26"
            ],
            [
             1,
             "#f0f921"
            ]
           ],
           "sequentialminus": [
            [
             0,
             "#0d0887"
            ],
            [
             0.1111111111111111,
             "#46039f"
            ],
            [
             0.2222222222222222,
             "#7201a8"
            ],
            [
             0.3333333333333333,
             "#9c179e"
            ],
            [
             0.4444444444444444,
             "#bd3786"
            ],
            [
             0.5555555555555556,
             "#d8576b"
            ],
            [
             0.6666666666666666,
             "#ed7953"
            ],
            [
             0.7777777777777778,
             "#fb9f3a"
            ],
            [
             0.8888888888888888,
             "#fdca26"
            ],
            [
             1,
             "#f0f921"
            ]
           ]
          },
          "colorway": [
           "#636efa",
           "#EF553B",
           "#00cc96",
           "#ab63fa",
           "#FFA15A",
           "#19d3f3",
           "#FF6692",
           "#B6E880",
           "#FF97FF",
           "#FECB52"
          ],
          "font": {
           "color": "#2a3f5f"
          },
          "geo": {
           "bgcolor": "white",
           "lakecolor": "white",
           "landcolor": "#E5ECF6",
           "showlakes": true,
           "showland": true,
           "subunitcolor": "white"
          },
          "hoverlabel": {
           "align": "left"
          },
          "hovermode": "closest",
          "mapbox": {
           "style": "light"
          },
          "paper_bgcolor": "white",
          "plot_bgcolor": "#E5ECF6",
          "polar": {
           "angularaxis": {
            "gridcolor": "white",
            "linecolor": "white",
            "ticks": ""
           },
           "bgcolor": "#E5ECF6",
           "radialaxis": {
            "gridcolor": "white",
            "linecolor": "white",
            "ticks": ""
           }
          },
          "scene": {
           "xaxis": {
            "backgroundcolor": "#E5ECF6",
            "gridcolor": "white",
            "gridwidth": 2,
            "linecolor": "white",
            "showbackground": true,
            "ticks": "",
            "zerolinecolor": "white"
           },
           "yaxis": {
            "backgroundcolor": "#E5ECF6",
            "gridcolor": "white",
            "gridwidth": 2,
            "linecolor": "white",
            "showbackground": true,
            "ticks": "",
            "zerolinecolor": "white"
           },
           "zaxis": {
            "backgroundcolor": "#E5ECF6",
            "gridcolor": "white",
            "gridwidth": 2,
            "linecolor": "white",
            "showbackground": true,
            "ticks": "",
            "zerolinecolor": "white"
           }
          },
          "shapedefaults": {
           "line": {
            "color": "#2a3f5f"
           }
          },
          "ternary": {
           "aaxis": {
            "gridcolor": "white",
            "linecolor": "white",
            "ticks": ""
           },
           "baxis": {
            "gridcolor": "white",
            "linecolor": "white",
            "ticks": ""
           },
           "bgcolor": "#E5ECF6",
           "caxis": {
            "gridcolor": "white",
            "linecolor": "white",
            "ticks": ""
           }
          },
          "title": {
           "x": 0.05
          },
          "xaxis": {
           "automargin": true,
           "gridcolor": "white",
           "linecolor": "white",
           "ticks": "",
           "title": {
            "standoff": 15
           },
           "zerolinecolor": "white",
           "zerolinewidth": 2
          },
          "yaxis": {
           "automargin": true,
           "gridcolor": "white",
           "linecolor": "white",
           "ticks": "",
           "title": {
            "standoff": 15
           },
           "zerolinecolor": "white",
           "zerolinewidth": 2
          }
         }
        }
       }
      }
     },
     "metadata": {},
     "output_type": "display_data"
    }
   ],
   "source": [
    "dataframe = citing_sentence.join([y])\n",
    "correlation_matrix(dataframe)"
   ]
  },
  {
   "cell_type": "code",
   "execution_count": 8,
   "metadata": {},
   "outputs": [],
   "source": [
    "from sklearn.feature_selection import chi2, SelectKBest\n",
    "from sklearn.preprocessing import MinMaxScaler\n",
    "\n",
    "def find_chi(features, y, k):\n",
    "    chi_square = SelectKBest(score_func=chi2, k=k)\n",
    "    fit = chi_square.fit(features, y)\n",
    "    \n",
    "    selected_feature_indices = chi_square.get_support(indices=True)\n",
    "    feature_names = features.columns\n",
    "    chi2_scores = fit.scores_\n",
    "    feature_score_dict = dict(zip(feature_names, chi2_scores))\n",
    "    sorted_features = sorted(feature_score_dict.items(), key=lambda x: x[1], reverse=True)\n",
    "    selected_feature_names = [feature[0] for feature in sorted_features[:k]]\n",
    "    \n",
    "    print(\"Selected Feature Names:\", selected_feature_names)\n",
    "    x_chi = chi_square.fit_transform(features, y)\n",
    "    \n",
    "    scaler = MinMaxScaler()\n",
    "    x = scaler.fit_transform(x_chi)\n",
    "    \n",
    "    x_res, y_res = oversampling(x, y)\n",
    "    x_train, x_test, y_train, y_test = train_split(x_res, y_res)\n",
    "    return x_train, x_test, y_train, y_test, selected_feature_names"
   ]
  },
  {
   "cell_type": "code",
   "execution_count": 9,
   "metadata": {},
   "outputs": [],
   "source": [
    "from imblearn.over_sampling import SMOTE\n",
    "\n",
    "def oversampling(x, y):\n",
    "    sm = SMOTE(random_state=123)\n",
    "    x_res, y_res = sm.fit_resample(x, y)\n",
    "    return x_res, y_res"
   ]
  },
  {
   "cell_type": "code",
   "execution_count": 10,
   "metadata": {},
   "outputs": [],
   "source": [
    "from sklearn.model_selection import train_test_split\n",
    "\n",
    "def train_split(x, y):\n",
    "    x_train, x_test, y_train, y_test = train_test_split(x, y, test_size=0.2, random_state=123)\n",
    "    return x_train, x_test, y_train, y_test"
   ]
  },
  {
   "cell_type": "code",
   "execution_count": 11,
   "metadata": {},
   "outputs": [],
   "source": [
    "test = pd.DataFrame(columns=['Features', 'Accuracy'])"
   ]
  },
  {
   "cell_type": "code",
   "execution_count": 12,
   "metadata": {},
   "outputs": [],
   "source": [
    "from xgboost import XGBClassifier\n",
    "from sklearn.metrics import accuracy_score\n",
    "\n",
    "def model(features, y, i):\n",
    "    model = XGBClassifier()\n",
    "    x_train, x_test, y_train, y_test, selected_feature_names = find_chi(features, y, i)\n",
    "    model.fit(x_train, y_train)\n",
    "    \n",
    "    y_pred = model.predict(x_test)\n",
    "    predictions = [round(value) for value in y_pred]\n",
    "    \n",
    "    accuracy = accuracy_score(y_test, predictions)\n",
    "    new_data = pd.DataFrame({'Features': [selected_feature_names], 'Accuracy': [\"%.2f%%\" % (accuracy * 100.0)]})\n",
    "    global test\n",
    "    test = pd.concat([test, new_data], ignore_index=True)\n",
    "    return accuracy"
   ]
  },
  {
   "cell_type": "code",
   "execution_count": 13,
   "metadata": {},
   "outputs": [
    {
     "name": "stdout",
     "output_type": "stream",
     "text": [
      "Selected Feature Names: ['atr1']\n",
      "Accuracy: 44.87%\n",
      "Selected Feature Names: ['atr1', 'atr7']\n",
      "Accuracy: 45.63%\n",
      "Selected Feature Names: ['atr1', 'atr7', 'atr19']\n",
      "Accuracy: 51.33%\n",
      "Selected Feature Names: ['atr1', 'atr7', 'atr19', 'atr12']\n",
      "Accuracy: 51.71%\n",
      "Selected Feature Names: ['atr1', 'atr7', 'atr19', 'atr12', 'atr9']\n",
      "Accuracy: 53.61%\n",
      "Selected Feature Names: ['atr1', 'atr7', 'atr19', 'atr12', 'atr9', 'atr4']\n",
      "Accuracy: 54.75%\n",
      "Selected Feature Names: ['atr1', 'atr7', 'atr19', 'atr12', 'atr9', 'atr4', 'atr18']\n",
      "Accuracy: 55.51%\n",
      "Selected Feature Names: ['atr1', 'atr7', 'atr19', 'atr12', 'atr9', 'atr4', 'atr18', 'atr13']\n",
      "Accuracy: 51.33%\n",
      "Selected Feature Names: ['atr1', 'atr7', 'atr19', 'atr12', 'atr9', 'atr4', 'atr18', 'atr13', 'atr14']\n",
      "Accuracy: 53.99%\n",
      "Selected Feature Names: ['atr1', 'atr7', 'atr19', 'atr12', 'atr9', 'atr4', 'atr18', 'atr13', 'atr14', 'atr8']\n",
      "Accuracy: 53.99%\n",
      "Selected Feature Names: ['atr1', 'atr7', 'atr19', 'atr12', 'atr9', 'atr4', 'atr18', 'atr13', 'atr14', 'atr8', 'atr3']\n",
      "Accuracy: 52.09%\n",
      "Selected Feature Names: ['atr1', 'atr7', 'atr19', 'atr12', 'atr9', 'atr4', 'atr18', 'atr13', 'atr14', 'atr8', 'atr3', 'atr11']\n",
      "Accuracy: 49.81%\n",
      "Selected Feature Names: ['atr1', 'atr7', 'atr19', 'atr12', 'atr9', 'atr4', 'atr18', 'atr13', 'atr14', 'atr8', 'atr3', 'atr11', 'atr2']\n",
      "Accuracy: 51.33%\n",
      "Selected Feature Names: ['atr1', 'atr7', 'atr19', 'atr12', 'atr9', 'atr4', 'atr18', 'atr13', 'atr14', 'atr8', 'atr3', 'atr11', 'atr2', 'atr10']\n",
      "Accuracy: 52.47%\n",
      "Selected Feature Names: ['atr1', 'atr7', 'atr19', 'atr12', 'atr9', 'atr4', 'atr18', 'atr13', 'atr14', 'atr8', 'atr3', 'atr11', 'atr2', 'atr10', 'atr6']\n",
      "Accuracy: 52.47%\n",
      "Selected Feature Names: ['atr1', 'atr7', 'atr19', 'atr12', 'atr9', 'atr4', 'atr18', 'atr13', 'atr14', 'atr8', 'atr3', 'atr11', 'atr2', 'atr10', 'atr6', 'atr15']\n",
      "Accuracy: 52.09%\n",
      "Selected Feature Names: ['atr1', 'atr7', 'atr19', 'atr12', 'atr9', 'atr4', 'atr18', 'atr13', 'atr14', 'atr8', 'atr3', 'atr11', 'atr2', 'atr10', 'atr6', 'atr15', 'atr17']\n",
      "Accuracy: 52.09%\n",
      "Selected Feature Names: ['atr1', 'atr7', 'atr19', 'atr12', 'atr9', 'atr4', 'atr18', 'atr13', 'atr14', 'atr8', 'atr3', 'atr11', 'atr2', 'atr10', 'atr6', 'atr15', 'atr17', 'atr16']\n",
      "Accuracy: 52.47%\n",
      "Selected Feature Names: ['atr1', 'atr7', 'atr19', 'atr12', 'atr9', 'atr4', 'atr18', 'atr13', 'atr14', 'atr8', 'atr3', 'atr11', 'atr2', 'atr10', 'atr6', 'atr15', 'atr17', 'atr16', 'atr5']\n",
      "Accuracy: 54.37%\n",
      "Selected Feature Names: ['atr1', 'atr7', 'atr19', 'atr12', 'atr9', 'atr4', 'atr18', 'atr13', 'atr14', 'atr8', 'atr3', 'atr11', 'atr2', 'atr10', 'atr6', 'atr15', 'atr17', 'atr16', 'atr5', 'atr0']\n",
      "Accuracy: 54.37%\n"
     ]
    }
   ],
   "source": [
    "for i in dict(enumerate(citing_sentence)):\n",
    "    accuracy = model(citing_sentence, y, i+1)\n",
    "    print(\"Accuracy: %.2f%%\" % (accuracy * 100.0))"
   ]
  },
  {
   "cell_type": "markdown",
   "metadata": {},
   "source": [
    "## Regular Sentences Predictor"
   ]
  },
  {
   "cell_type": "code",
   "execution_count": 14,
   "metadata": {},
   "outputs": [],
   "source": [
    "regular_sentences = data[['atr20', 'atr21', 'atr22', 'atr23', 'atr24', 'atr25', 'atr26', 'atr27', 'atr28', 'atr29', 'atr30', 'atr31', 'atr32', 'atr33', 'atr34', 'atr35', 'atr36', 'atr37', 'atr38', 'atr39']]"
   ]
  },
  {
   "cell_type": "code",
   "execution_count": 15,
   "metadata": {},
   "outputs": [
    {
     "data": {
      "application/vnd.plotly.v1+json": {
       "config": {
        "plotlyServerURL": "https://plot.ly"
       },
       "data": [
        {
         "text": [
          [
           1,
           0.17098753973402886,
           0.24146646358797585,
           0.2549135471085087,
           0.10956455150940059,
           0.26787311960683546,
           0.10584390719156145,
           0.0995828377473979,
           0.04345624616734931,
           -0.041923713641108855,
           0.021917967890142383,
           0.05106121890210739,
           0.002736371781257448,
           0.04693650051298544,
           0.1429466085285985,
           0.005255380372447934,
           0.058520629083480366,
           0.00407389103206312,
           0.39942808716671124,
           0.43682429594697947,
           -0.024183230925410876
          ],
          [
           0.17098753973402886,
           1,
           0.1880532231805417,
           0.12799237378203357,
           0.08026497547296427,
           0.23765783658787484,
           0.1704802142529396,
           0.17816479428651488,
           0.072484999884338,
           0.05634865198586772,
           0.06347350539171014,
           0.0775248488307409,
           0.10534302766430412,
           0.09801793854550987,
           0.12828859506537912,
           0.05296842282239357,
           0.11596581513775686,
           0.013084679296228155,
           0.21832944856726738,
           0.3175366663807603,
           -0.0200095376819396
          ],
          [
           0.24146646358797585,
           0.1880532231805417,
           1,
           0.2856108106942245,
           0.11290620472553799,
           0.257633769231314,
           0.14084482404060913,
           0.13897195336849907,
           0.09588954632176365,
           0.04987630766270335,
           0.1673098413874661,
           0.10357526268289285,
           0.14462825283505973,
           0.1893626808843347,
           0.20835745191949753,
           0.12257132379443231,
           0.1411472474410419,
           0.03915650324014039,
           0.28359486337445344,
           0.49434085993321775,
           0.0017725225120464269
          ],
          [
           0.2549135471085087,
           0.12799237378203357,
           0.2856108106942245,
           1,
           -0.00518150932961229,
           0.05029756333650037,
           0.09053214233186489,
           0.18114610707568296,
           0.07132482791610863,
           0.006860870928035211,
           0.05312539411909165,
           0.1443083381577783,
           0.14912897833456096,
           0.06814778509409021,
           0.14593357059414222,
           0.06729612189230949,
           0.005998373429329534,
           0.0839846401307381,
           0.22514986894848893,
           0.3291045514048938,
           -0.0644734442596647
          ],
          [
           0.10956455150940059,
           0.08026497547296427,
           0.11290620472553799,
           -0.00518150932961229,
           1,
           0.04644182445611995,
           0.08952015324378201,
           0.10668714209165464,
           0.04207879690720345,
           0.09395056200664977,
           0.02281391741374741,
           0.09221404956235338,
           0.06438039703987254,
           -0.018709678731180762,
           0.1706868692748369,
           -0.011191524723442184,
           0.046030155421574084,
           -0.011299533301726488,
           0.06939929806691778,
           0.12731935307305176,
           -0.0003982138225312247
          ],
          [
           0.26787311960683546,
           0.23765783658787484,
           0.257633769231314,
           0.05029756333650037,
           0.04644182445611995,
           1,
           0.3713227989194494,
           0.3432956082290108,
           0.21047762115104016,
           0.13572811142047964,
           0.06407557808433673,
           -0.011633976999513462,
           -0.058395142636463365,
           0.0706186529410125,
           0.023201442250690416,
           -0.05287611391005252,
           0.3549977326409882,
           0.11622352889959582,
           0.6394311220337968,
           0.8321182747928502,
           -0.009025873096977388
          ],
          [
           0.10584390719156145,
           0.1704802142529396,
           0.14084482404060913,
           0.09053214233186489,
           0.08952015324378201,
           0.3713227989194494,
           1,
           0.27766580190521134,
           0.16599790596058375,
           0.15436179583864912,
           0.05140021325564945,
           0.07723140108459788,
           0.01504386523124504,
           0.04743766756196404,
           0.08246943918924274,
           0.03565889001021599,
           0.21331611384977486,
           0.06360452365119064,
           0.26370863710844117,
           0.3989338713951297,
           -0.05214547362202294
          ],
          [
           0.0995828377473979,
           0.17816479428651488,
           0.13897195336849907,
           0.18114610707568296,
           0.10668714209165464,
           0.3432956082290108,
           0.27766580190521134,
           1,
           0.25456845117977067,
           0.4177962170269758,
           0.13410273591328117,
           0.10604435274905981,
           0.14254867852885483,
           0.1709173126856309,
           0.08825328477438457,
           0.13680567445614425,
           0.29986667085332386,
           0.2567124437659912,
           0.10687122223464764,
           0.40191945338122026,
           0.003497779278397335
          ],
          [
           0.04345624616734931,
           0.072484999884338,
           0.09588954632176365,
           0.07132482791610863,
           0.04207879690720345,
           0.21047762115104016,
           0.16599790596058375,
           0.25456845117977067,
           1,
           0.1881195822372555,
           0.07663866652034637,
           0.11017251348821927,
           0.02824655204418767,
           0.0167963915763684,
           0.010325431385102063,
           0.07437152140901114,
           0.18452697760479497,
           0.11016306292800064,
           0.13202719531914214,
           0.25845802335838686,
           -0.0214186401838764
          ],
          [
           -0.041923713641108855,
           0.05634865198586772,
           0.04987630766270335,
           0.006860870928035211,
           0.09395056200664977,
           0.13572811142047964,
           0.15436179583864912,
           0.4177962170269758,
           0.1881195822372555,
           1,
           0.0638993640709649,
           0.07654439674175126,
           0.14117539170974933,
           0.15545525079040828,
           0.049704960355195775,
           0.11560546669364252,
           0.15529628960236125,
           0.19433623346803247,
           -0.13380362604544085,
           0.131693539572068,
           0.02974260464352015
          ],
          [
           0.021917967890142383,
           0.06347350539171014,
           0.1673098413874661,
           0.05312539411909165,
           0.02281391741374741,
           0.06407557808433673,
           0.05140021325564945,
           0.13410273591328117,
           0.07663866652034637,
           0.0638993640709649,
           1,
           0.04639276990500372,
           -0.006462477391125545,
           0.07559118965734808,
           0.034826570698294555,
           -0.0060564273252596895,
           0.09642610032764752,
           0.06416542982107208,
           -0.013254122421389136,
           0.1013848388363566,
           0.011809467202294368
          ],
          [
           0.05106121890210739,
           0.0775248488307409,
           0.10357526268289285,
           0.1443083381577783,
           0.09221404956235338,
           -0.011633976999513462,
           0.07723140108459788,
           0.10604435274905981,
           0.11017251348821927,
           0.07654439674175126,
           0.04639276990500372,
           1,
           0.10468966320849582,
           0.11612642678092813,
           0.13139905624436274,
           0.10022020166143976,
           0.06907145311540577,
           0.054766524766003785,
           -0.01201274366925149,
           0.07747873749865193,
           -0.005527197188550755
          ],
          [
           0.002736371781257448,
           0.10534302766430412,
           0.14462825283505973,
           0.14912897833456096,
           0.06438039703987254,
           -0.058395142636463365,
           0.01504386523124504,
           0.14254867852885483,
           0.02824655204418767,
           0.14117539170974933,
           -0.006462477391125545,
           0.10468966320849582,
           1,
           0.11748991271961268,
           0.1903619902966441,
           0.11411241626564805,
           0.01543005602596372,
           0.02438594635835991,
           -0.04409859530496446,
           0.05563112891042489,
           0.0020433524246518883
          ],
          [
           0.04693650051298544,
           0.09801793854550987,
           0.1893626808843347,
           0.06814778509409021,
           -0.018709678731180762,
           0.0706186529410125,
           0.04743766756196404,
           0.1709173126856309,
           0.0167963915763684,
           0.15545525079040828,
           0.07559118965734808,
           0.11612642678092813,
           0.11748991271961268,
           1,
           0.04944362250896608,
           0.13992357855399506,
           0.06581241045633046,
           0.1852726875290448,
           -0.011520972701563364,
           0.12525988122884227,
           0.0031655785633126895
          ],
          [
           0.1429466085285985,
           0.12828859506537912,
           0.20835745191949753,
           0.14593357059414222,
           0.1706868692748369,
           0.023201442250690416,
           0.08246943918924274,
           0.08825328477438457,
           0.010325431385102063,
           0.049704960355195775,
           0.034826570698294555,
           0.13139905624436274,
           0.1903619902966441,
           0.04944362250896608,
           1,
           0.11780615838899079,
           0.07471924499247609,
           0.00014965147152772569,
           0.14433250957490673,
           0.19926105910455796,
           -0.028298725274662366
          ],
          [
           0.005255380372447934,
           0.05296842282239357,
           0.12257132379443231,
           0.06729612189230949,
           -0.011191524723442184,
           -0.05287611391005252,
           0.03565889001021599,
           0.13680567445614425,
           0.07437152140901114,
           0.11560546669364252,
           -0.0060564273252596895,
           0.10022020166143976,
           0.11411241626564805,
           0.13992357855399506,
           0.11780615838899079,
           1,
           0.07273628682697682,
           0.09641430800908421,
           -0.03143340542341935,
           0.04685791404786917,
           0.014379348574568516
          ],
          [
           0.058520629083480366,
           0.11596581513775686,
           0.1411472474410419,
           0.005998373429329534,
           0.046030155421574084,
           0.3549977326409882,
           0.21331611384977486,
           0.29986667085332386,
           0.18452697760479497,
           0.15529628960236125,
           0.09642610032764752,
           0.06907145311540577,
           0.01543005602596372,
           0.06581241045633046,
           0.07471924499247609,
           0.07273628682697682,
           1,
           0.1808847971029383,
           0.19692842774894612,
           0.35267408307635695,
           0.018838868837835972
          ],
          [
           0.00407389103206312,
           0.013084679296228155,
           0.03915650324014039,
           0.0839846401307381,
           -0.011299533301726488,
           0.11622352889959582,
           0.06360452365119064,
           0.2567124437659912,
           0.11016306292800064,
           0.19433623346803247,
           0.06416542982107208,
           0.054766524766003785,
           0.02438594635835991,
           0.1852726875290448,
           0.00014965147152772569,
           0.09641430800908421,
           0.1808847971029383,
           1,
           0.025496375260190374,
           0.1529229877174704,
           0.010568893160585796
          ],
          [
           0.39942808716671124,
           0.21832944856726738,
           0.28359486337445344,
           0.22514986894848893,
           0.06939929806691778,
           0.6394311220337968,
           0.26370863710844117,
           0.10687122223464764,
           0.13202719531914214,
           -0.13380362604544085,
           -0.013254122421389136,
           -0.01201274366925149,
           -0.04409859530496446,
           -0.011520972701563364,
           0.14433250957490673,
           -0.03143340542341935,
           0.19692842774894612,
           0.025496375260190374,
           1,
           0.8776646349650797,
           -0.06313165943191533
          ],
          [
           0.43682429594697947,
           0.3175366663807603,
           0.49434085993321775,
           0.3291045514048938,
           0.12731935307305176,
           0.8321182747928502,
           0.3989338713951297,
           0.40191945338122026,
           0.25845802335838686,
           0.131693539572068,
           0.1013848388363566,
           0.07747873749865193,
           0.05563112891042489,
           0.12525988122884227,
           0.19926105910455796,
           0.04685791404786917,
           0.35267408307635695,
           0.1529229877174704,
           0.8776646349650797,
           1,
           -0.04383987473620573
          ],
          [
           -0.024183230925410876,
           -0.0200095376819396,
           0.0017725225120464269,
           -0.0644734442596647,
           -0.0003982138225312247,
           -0.009025873096977388,
           -0.05214547362202294,
           0.003497779278397335,
           -0.0214186401838764,
           0.02974260464352015,
           0.011809467202294368,
           -0.005527197188550755,
           0.0020433524246518883,
           0.0031655785633126895,
           -0.028298725274662366,
           0.014379348574568516,
           0.018838868837835972,
           0.010568893160585796,
           -0.06313165943191533,
           -0.04383987473620573,
           1
          ]
         ],
         "texttemplate": "%{text:.2f}",
         "type": "heatmap",
         "x": [
          "atr20",
          "atr21",
          "atr22",
          "atr23",
          "atr24",
          "atr25",
          "atr26",
          "atr27",
          "atr28",
          "atr29",
          "atr30",
          "atr31",
          "atr32",
          "atr33",
          "atr34",
          "atr35",
          "atr36",
          "atr37",
          "atr38",
          "atr39",
          "clarity"
         ],
         "y": [
          "atr20",
          "atr21",
          "atr22",
          "atr23",
          "atr24",
          "atr25",
          "atr26",
          "atr27",
          "atr28",
          "atr29",
          "atr30",
          "atr31",
          "atr32",
          "atr33",
          "atr34",
          "atr35",
          "atr36",
          "atr37",
          "atr38",
          "atr39",
          "clarity"
         ],
         "z": [
          [
           1,
           0.17098753973402886,
           0.24146646358797585,
           0.2549135471085087,
           0.10956455150940059,
           0.26787311960683546,
           0.10584390719156145,
           0.0995828377473979,
           0.04345624616734931,
           -0.041923713641108855,
           0.021917967890142383,
           0.05106121890210739,
           0.002736371781257448,
           0.04693650051298544,
           0.1429466085285985,
           0.005255380372447934,
           0.058520629083480366,
           0.00407389103206312,
           0.39942808716671124,
           0.43682429594697947,
           -0.024183230925410876
          ],
          [
           0.17098753973402886,
           1,
           0.1880532231805417,
           0.12799237378203357,
           0.08026497547296427,
           0.23765783658787484,
           0.1704802142529396,
           0.17816479428651488,
           0.072484999884338,
           0.05634865198586772,
           0.06347350539171014,
           0.0775248488307409,
           0.10534302766430412,
           0.09801793854550987,
           0.12828859506537912,
           0.05296842282239357,
           0.11596581513775686,
           0.013084679296228155,
           0.21832944856726738,
           0.3175366663807603,
           -0.0200095376819396
          ],
          [
           0.24146646358797585,
           0.1880532231805417,
           1,
           0.2856108106942245,
           0.11290620472553799,
           0.257633769231314,
           0.14084482404060913,
           0.13897195336849907,
           0.09588954632176365,
           0.04987630766270335,
           0.1673098413874661,
           0.10357526268289285,
           0.14462825283505973,
           0.1893626808843347,
           0.20835745191949753,
           0.12257132379443231,
           0.1411472474410419,
           0.03915650324014039,
           0.28359486337445344,
           0.49434085993321775,
           0.0017725225120464269
          ],
          [
           0.2549135471085087,
           0.12799237378203357,
           0.2856108106942245,
           1,
           -0.00518150932961229,
           0.05029756333650037,
           0.09053214233186489,
           0.18114610707568296,
           0.07132482791610863,
           0.006860870928035211,
           0.05312539411909165,
           0.1443083381577783,
           0.14912897833456096,
           0.06814778509409021,
           0.14593357059414222,
           0.06729612189230949,
           0.005998373429329534,
           0.0839846401307381,
           0.22514986894848893,
           0.3291045514048938,
           -0.0644734442596647
          ],
          [
           0.10956455150940059,
           0.08026497547296427,
           0.11290620472553799,
           -0.00518150932961229,
           1,
           0.04644182445611995,
           0.08952015324378201,
           0.10668714209165464,
           0.04207879690720345,
           0.09395056200664977,
           0.02281391741374741,
           0.09221404956235338,
           0.06438039703987254,
           -0.018709678731180762,
           0.1706868692748369,
           -0.011191524723442184,
           0.046030155421574084,
           -0.011299533301726488,
           0.06939929806691778,
           0.12731935307305176,
           -0.0003982138225312247
          ],
          [
           0.26787311960683546,
           0.23765783658787484,
           0.257633769231314,
           0.05029756333650037,
           0.04644182445611995,
           1,
           0.3713227989194494,
           0.3432956082290108,
           0.21047762115104016,
           0.13572811142047964,
           0.06407557808433673,
           -0.011633976999513462,
           -0.058395142636463365,
           0.0706186529410125,
           0.023201442250690416,
           -0.05287611391005252,
           0.3549977326409882,
           0.11622352889959582,
           0.6394311220337968,
           0.8321182747928502,
           -0.009025873096977388
          ],
          [
           0.10584390719156145,
           0.1704802142529396,
           0.14084482404060913,
           0.09053214233186489,
           0.08952015324378201,
           0.3713227989194494,
           1,
           0.27766580190521134,
           0.16599790596058375,
           0.15436179583864912,
           0.05140021325564945,
           0.07723140108459788,
           0.01504386523124504,
           0.04743766756196404,
           0.08246943918924274,
           0.03565889001021599,
           0.21331611384977486,
           0.06360452365119064,
           0.26370863710844117,
           0.3989338713951297,
           -0.05214547362202294
          ],
          [
           0.0995828377473979,
           0.17816479428651488,
           0.13897195336849907,
           0.18114610707568296,
           0.10668714209165464,
           0.3432956082290108,
           0.27766580190521134,
           1,
           0.25456845117977067,
           0.4177962170269758,
           0.13410273591328117,
           0.10604435274905981,
           0.14254867852885483,
           0.1709173126856309,
           0.08825328477438457,
           0.13680567445614425,
           0.29986667085332386,
           0.2567124437659912,
           0.10687122223464764,
           0.40191945338122026,
           0.003497779278397335
          ],
          [
           0.04345624616734931,
           0.072484999884338,
           0.09588954632176365,
           0.07132482791610863,
           0.04207879690720345,
           0.21047762115104016,
           0.16599790596058375,
           0.25456845117977067,
           1,
           0.1881195822372555,
           0.07663866652034637,
           0.11017251348821927,
           0.02824655204418767,
           0.0167963915763684,
           0.010325431385102063,
           0.07437152140901114,
           0.18452697760479497,
           0.11016306292800064,
           0.13202719531914214,
           0.25845802335838686,
           -0.0214186401838764
          ],
          [
           -0.041923713641108855,
           0.05634865198586772,
           0.04987630766270335,
           0.006860870928035211,
           0.09395056200664977,
           0.13572811142047964,
           0.15436179583864912,
           0.4177962170269758,
           0.1881195822372555,
           1,
           0.0638993640709649,
           0.07654439674175126,
           0.14117539170974933,
           0.15545525079040828,
           0.049704960355195775,
           0.11560546669364252,
           0.15529628960236125,
           0.19433623346803247,
           -0.13380362604544085,
           0.131693539572068,
           0.02974260464352015
          ],
          [
           0.021917967890142383,
           0.06347350539171014,
           0.1673098413874661,
           0.05312539411909165,
           0.02281391741374741,
           0.06407557808433673,
           0.05140021325564945,
           0.13410273591328117,
           0.07663866652034637,
           0.0638993640709649,
           1,
           0.04639276990500372,
           -0.006462477391125545,
           0.07559118965734808,
           0.034826570698294555,
           -0.0060564273252596895,
           0.09642610032764752,
           0.06416542982107208,
           -0.013254122421389136,
           0.1013848388363566,
           0.011809467202294368
          ],
          [
           0.05106121890210739,
           0.0775248488307409,
           0.10357526268289285,
           0.1443083381577783,
           0.09221404956235338,
           -0.011633976999513462,
           0.07723140108459788,
           0.10604435274905981,
           0.11017251348821927,
           0.07654439674175126,
           0.04639276990500372,
           1,
           0.10468966320849582,
           0.11612642678092813,
           0.13139905624436274,
           0.10022020166143976,
           0.06907145311540577,
           0.054766524766003785,
           -0.01201274366925149,
           0.07747873749865193,
           -0.005527197188550755
          ],
          [
           0.002736371781257448,
           0.10534302766430412,
           0.14462825283505973,
           0.14912897833456096,
           0.06438039703987254,
           -0.058395142636463365,
           0.01504386523124504,
           0.14254867852885483,
           0.02824655204418767,
           0.14117539170974933,
           -0.006462477391125545,
           0.10468966320849582,
           1,
           0.11748991271961268,
           0.1903619902966441,
           0.11411241626564805,
           0.01543005602596372,
           0.02438594635835991,
           -0.04409859530496446,
           0.05563112891042489,
           0.0020433524246518883
          ],
          [
           0.04693650051298544,
           0.09801793854550987,
           0.1893626808843347,
           0.06814778509409021,
           -0.018709678731180762,
           0.0706186529410125,
           0.04743766756196404,
           0.1709173126856309,
           0.0167963915763684,
           0.15545525079040828,
           0.07559118965734808,
           0.11612642678092813,
           0.11748991271961268,
           1,
           0.04944362250896608,
           0.13992357855399506,
           0.06581241045633046,
           0.1852726875290448,
           -0.011520972701563364,
           0.12525988122884227,
           0.0031655785633126895
          ],
          [
           0.1429466085285985,
           0.12828859506537912,
           0.20835745191949753,
           0.14593357059414222,
           0.1706868692748369,
           0.023201442250690416,
           0.08246943918924274,
           0.08825328477438457,
           0.010325431385102063,
           0.049704960355195775,
           0.034826570698294555,
           0.13139905624436274,
           0.1903619902966441,
           0.04944362250896608,
           1,
           0.11780615838899079,
           0.07471924499247609,
           0.00014965147152772569,
           0.14433250957490673,
           0.19926105910455796,
           -0.028298725274662366
          ],
          [
           0.005255380372447934,
           0.05296842282239357,
           0.12257132379443231,
           0.06729612189230949,
           -0.011191524723442184,
           -0.05287611391005252,
           0.03565889001021599,
           0.13680567445614425,
           0.07437152140901114,
           0.11560546669364252,
           -0.0060564273252596895,
           0.10022020166143976,
           0.11411241626564805,
           0.13992357855399506,
           0.11780615838899079,
           1,
           0.07273628682697682,
           0.09641430800908421,
           -0.03143340542341935,
           0.04685791404786917,
           0.014379348574568516
          ],
          [
           0.058520629083480366,
           0.11596581513775686,
           0.1411472474410419,
           0.005998373429329534,
           0.046030155421574084,
           0.3549977326409882,
           0.21331611384977486,
           0.29986667085332386,
           0.18452697760479497,
           0.15529628960236125,
           0.09642610032764752,
           0.06907145311540577,
           0.01543005602596372,
           0.06581241045633046,
           0.07471924499247609,
           0.07273628682697682,
           1,
           0.1808847971029383,
           0.19692842774894612,
           0.35267408307635695,
           0.018838868837835972
          ],
          [
           0.00407389103206312,
           0.013084679296228155,
           0.03915650324014039,
           0.0839846401307381,
           -0.011299533301726488,
           0.11622352889959582,
           0.06360452365119064,
           0.2567124437659912,
           0.11016306292800064,
           0.19433623346803247,
           0.06416542982107208,
           0.054766524766003785,
           0.02438594635835991,
           0.1852726875290448,
           0.00014965147152772569,
           0.09641430800908421,
           0.1808847971029383,
           1,
           0.025496375260190374,
           0.1529229877174704,
           0.010568893160585796
          ],
          [
           0.39942808716671124,
           0.21832944856726738,
           0.28359486337445344,
           0.22514986894848893,
           0.06939929806691778,
           0.6394311220337968,
           0.26370863710844117,
           0.10687122223464764,
           0.13202719531914214,
           -0.13380362604544085,
           -0.013254122421389136,
           -0.01201274366925149,
           -0.04409859530496446,
           -0.011520972701563364,
           0.14433250957490673,
           -0.03143340542341935,
           0.19692842774894612,
           0.025496375260190374,
           1,
           0.8776646349650797,
           -0.06313165943191533
          ],
          [
           0.43682429594697947,
           0.3175366663807603,
           0.49434085993321775,
           0.3291045514048938,
           0.12731935307305176,
           0.8321182747928502,
           0.3989338713951297,
           0.40191945338122026,
           0.25845802335838686,
           0.131693539572068,
           0.1013848388363566,
           0.07747873749865193,
           0.05563112891042489,
           0.12525988122884227,
           0.19926105910455796,
           0.04685791404786917,
           0.35267408307635695,
           0.1529229877174704,
           0.8776646349650797,
           1,
           -0.04383987473620573
          ],
          [
           -0.024183230925410876,
           -0.0200095376819396,
           0.0017725225120464269,
           -0.0644734442596647,
           -0.0003982138225312247,
           -0.009025873096977388,
           -0.05214547362202294,
           0.003497779278397335,
           -0.0214186401838764,
           0.02974260464352015,
           0.011809467202294368,
           -0.005527197188550755,
           0.0020433524246518883,
           0.0031655785633126895,
           -0.028298725274662366,
           0.014379348574568516,
           0.018838868837835972,
           0.010568893160585796,
           -0.06313165943191533,
           -0.04383987473620573,
           1
          ]
         ]
        }
       ],
       "layout": {
        "template": {
         "data": {
          "bar": [
           {
            "error_x": {
             "color": "#2a3f5f"
            },
            "error_y": {
             "color": "#2a3f5f"
            },
            "marker": {
             "line": {
              "color": "#E5ECF6",
              "width": 0.5
             },
             "pattern": {
              "fillmode": "overlay",
              "size": 10,
              "solidity": 0.2
             }
            },
            "type": "bar"
           }
          ],
          "barpolar": [
           {
            "marker": {
             "line": {
              "color": "#E5ECF6",
              "width": 0.5
             },
             "pattern": {
              "fillmode": "overlay",
              "size": 10,
              "solidity": 0.2
             }
            },
            "type": "barpolar"
           }
          ],
          "carpet": [
           {
            "aaxis": {
             "endlinecolor": "#2a3f5f",
             "gridcolor": "white",
             "linecolor": "white",
             "minorgridcolor": "white",
             "startlinecolor": "#2a3f5f"
            },
            "baxis": {
             "endlinecolor": "#2a3f5f",
             "gridcolor": "white",
             "linecolor": "white",
             "minorgridcolor": "white",
             "startlinecolor": "#2a3f5f"
            },
            "type": "carpet"
           }
          ],
          "choropleth": [
           {
            "colorbar": {
             "outlinewidth": 0,
             "ticks": ""
            },
            "type": "choropleth"
           }
          ],
          "contour": [
           {
            "colorbar": {
             "outlinewidth": 0,
             "ticks": ""
            },
            "colorscale": [
             [
              0,
              "#0d0887"
             ],
             [
              0.1111111111111111,
              "#46039f"
             ],
             [
              0.2222222222222222,
              "#7201a8"
             ],
             [
              0.3333333333333333,
              "#9c179e"
             ],
             [
              0.4444444444444444,
              "#bd3786"
             ],
             [
              0.5555555555555556,
              "#d8576b"
             ],
             [
              0.6666666666666666,
              "#ed7953"
             ],
             [
              0.7777777777777778,
              "#fb9f3a"
             ],
             [
              0.8888888888888888,
              "#fdca26"
             ],
             [
              1,
              "#f0f921"
             ]
            ],
            "type": "contour"
           }
          ],
          "contourcarpet": [
           {
            "colorbar": {
             "outlinewidth": 0,
             "ticks": ""
            },
            "type": "contourcarpet"
           }
          ],
          "heatmap": [
           {
            "colorbar": {
             "outlinewidth": 0,
             "ticks": ""
            },
            "colorscale": [
             [
              0,
              "#0d0887"
             ],
             [
              0.1111111111111111,
              "#46039f"
             ],
             [
              0.2222222222222222,
              "#7201a8"
             ],
             [
              0.3333333333333333,
              "#9c179e"
             ],
             [
              0.4444444444444444,
              "#bd3786"
             ],
             [
              0.5555555555555556,
              "#d8576b"
             ],
             [
              0.6666666666666666,
              "#ed7953"
             ],
             [
              0.7777777777777778,
              "#fb9f3a"
             ],
             [
              0.8888888888888888,
              "#fdca26"
             ],
             [
              1,
              "#f0f921"
             ]
            ],
            "type": "heatmap"
           }
          ],
          "heatmapgl": [
           {
            "colorbar": {
             "outlinewidth": 0,
             "ticks": ""
            },
            "colorscale": [
             [
              0,
              "#0d0887"
             ],
             [
              0.1111111111111111,
              "#46039f"
             ],
             [
              0.2222222222222222,
              "#7201a8"
             ],
             [
              0.3333333333333333,
              "#9c179e"
             ],
             [
              0.4444444444444444,
              "#bd3786"
             ],
             [
              0.5555555555555556,
              "#d8576b"
             ],
             [
              0.6666666666666666,
              "#ed7953"
             ],
             [
              0.7777777777777778,
              "#fb9f3a"
             ],
             [
              0.8888888888888888,
              "#fdca26"
             ],
             [
              1,
              "#f0f921"
             ]
            ],
            "type": "heatmapgl"
           }
          ],
          "histogram": [
           {
            "marker": {
             "pattern": {
              "fillmode": "overlay",
              "size": 10,
              "solidity": 0.2
             }
            },
            "type": "histogram"
           }
          ],
          "histogram2d": [
           {
            "colorbar": {
             "outlinewidth": 0,
             "ticks": ""
            },
            "colorscale": [
             [
              0,
              "#0d0887"
             ],
             [
              0.1111111111111111,
              "#46039f"
             ],
             [
              0.2222222222222222,
              "#7201a8"
             ],
             [
              0.3333333333333333,
              "#9c179e"
             ],
             [
              0.4444444444444444,
              "#bd3786"
             ],
             [
              0.5555555555555556,
              "#d8576b"
             ],
             [
              0.6666666666666666,
              "#ed7953"
             ],
             [
              0.7777777777777778,
              "#fb9f3a"
             ],
             [
              0.8888888888888888,
              "#fdca26"
             ],
             [
              1,
              "#f0f921"
             ]
            ],
            "type": "histogram2d"
           }
          ],
          "histogram2dcontour": [
           {
            "colorbar": {
             "outlinewidth": 0,
             "ticks": ""
            },
            "colorscale": [
             [
              0,
              "#0d0887"
             ],
             [
              0.1111111111111111,
              "#46039f"
             ],
             [
              0.2222222222222222,
              "#7201a8"
             ],
             [
              0.3333333333333333,
              "#9c179e"
             ],
             [
              0.4444444444444444,
              "#bd3786"
             ],
             [
              0.5555555555555556,
              "#d8576b"
             ],
             [
              0.6666666666666666,
              "#ed7953"
             ],
             [
              0.7777777777777778,
              "#fb9f3a"
             ],
             [
              0.8888888888888888,
              "#fdca26"
             ],
             [
              1,
              "#f0f921"
             ]
            ],
            "type": "histogram2dcontour"
           }
          ],
          "mesh3d": [
           {
            "colorbar": {
             "outlinewidth": 0,
             "ticks": ""
            },
            "type": "mesh3d"
           }
          ],
          "parcoords": [
           {
            "line": {
             "colorbar": {
              "outlinewidth": 0,
              "ticks": ""
             }
            },
            "type": "parcoords"
           }
          ],
          "pie": [
           {
            "automargin": true,
            "type": "pie"
           }
          ],
          "scatter": [
           {
            "fillpattern": {
             "fillmode": "overlay",
             "size": 10,
             "solidity": 0.2
            },
            "type": "scatter"
           }
          ],
          "scatter3d": [
           {
            "line": {
             "colorbar": {
              "outlinewidth": 0,
              "ticks": ""
             }
            },
            "marker": {
             "colorbar": {
              "outlinewidth": 0,
              "ticks": ""
             }
            },
            "type": "scatter3d"
           }
          ],
          "scattercarpet": [
           {
            "marker": {
             "colorbar": {
              "outlinewidth": 0,
              "ticks": ""
             }
            },
            "type": "scattercarpet"
           }
          ],
          "scattergeo": [
           {
            "marker": {
             "colorbar": {
              "outlinewidth": 0,
              "ticks": ""
             }
            },
            "type": "scattergeo"
           }
          ],
          "scattergl": [
           {
            "marker": {
             "colorbar": {
              "outlinewidth": 0,
              "ticks": ""
             }
            },
            "type": "scattergl"
           }
          ],
          "scattermapbox": [
           {
            "marker": {
             "colorbar": {
              "outlinewidth": 0,
              "ticks": ""
             }
            },
            "type": "scattermapbox"
           }
          ],
          "scatterpolar": [
           {
            "marker": {
             "colorbar": {
              "outlinewidth": 0,
              "ticks": ""
             }
            },
            "type": "scatterpolar"
           }
          ],
          "scatterpolargl": [
           {
            "marker": {
             "colorbar": {
              "outlinewidth": 0,
              "ticks": ""
             }
            },
            "type": "scatterpolargl"
           }
          ],
          "scatterternary": [
           {
            "marker": {
             "colorbar": {
              "outlinewidth": 0,
              "ticks": ""
             }
            },
            "type": "scatterternary"
           }
          ],
          "surface": [
           {
            "colorbar": {
             "outlinewidth": 0,
             "ticks": ""
            },
            "colorscale": [
             [
              0,
              "#0d0887"
             ],
             [
              0.1111111111111111,
              "#46039f"
             ],
             [
              0.2222222222222222,
              "#7201a8"
             ],
             [
              0.3333333333333333,
              "#9c179e"
             ],
             [
              0.4444444444444444,
              "#bd3786"
             ],
             [
              0.5555555555555556,
              "#d8576b"
             ],
             [
              0.6666666666666666,
              "#ed7953"
             ],
             [
              0.7777777777777778,
              "#fb9f3a"
             ],
             [
              0.8888888888888888,
              "#fdca26"
             ],
             [
              1,
              "#f0f921"
             ]
            ],
            "type": "surface"
           }
          ],
          "table": [
           {
            "cells": {
             "fill": {
              "color": "#EBF0F8"
             },
             "line": {
              "color": "white"
             }
            },
            "header": {
             "fill": {
              "color": "#C8D4E3"
             },
             "line": {
              "color": "white"
             }
            },
            "type": "table"
           }
          ]
         },
         "layout": {
          "annotationdefaults": {
           "arrowcolor": "#2a3f5f",
           "arrowhead": 0,
           "arrowwidth": 1
          },
          "autotypenumbers": "strict",
          "coloraxis": {
           "colorbar": {
            "outlinewidth": 0,
            "ticks": ""
           }
          },
          "colorscale": {
           "diverging": [
            [
             0,
             "#8e0152"
            ],
            [
             0.1,
             "#c51b7d"
            ],
            [
             0.2,
             "#de77ae"
            ],
            [
             0.3,
             "#f1b6da"
            ],
            [
             0.4,
             "#fde0ef"
            ],
            [
             0.5,
             "#f7f7f7"
            ],
            [
             0.6,
             "#e6f5d0"
            ],
            [
             0.7,
             "#b8e186"
            ],
            [
             0.8,
             "#7fbc41"
            ],
            [
             0.9,
             "#4d9221"
            ],
            [
             1,
             "#276419"
            ]
           ],
           "sequential": [
            [
             0,
             "#0d0887"
            ],
            [
             0.1111111111111111,
             "#46039f"
            ],
            [
             0.2222222222222222,
             "#7201a8"
            ],
            [
             0.3333333333333333,
             "#9c179e"
            ],
            [
             0.4444444444444444,
             "#bd3786"
            ],
            [
             0.5555555555555556,
             "#d8576b"
            ],
            [
             0.6666666666666666,
             "#ed7953"
            ],
            [
             0.7777777777777778,
             "#fb9f3a"
            ],
            [
             0.8888888888888888,
             "#fdca26"
            ],
            [
             1,
             "#f0f921"
            ]
           ],
           "sequentialminus": [
            [
             0,
             "#0d0887"
            ],
            [
             0.1111111111111111,
             "#46039f"
            ],
            [
             0.2222222222222222,
             "#7201a8"
            ],
            [
             0.3333333333333333,
             "#9c179e"
            ],
            [
             0.4444444444444444,
             "#bd3786"
            ],
            [
             0.5555555555555556,
             "#d8576b"
            ],
            [
             0.6666666666666666,
             "#ed7953"
            ],
            [
             0.7777777777777778,
             "#fb9f3a"
            ],
            [
             0.8888888888888888,
             "#fdca26"
            ],
            [
             1,
             "#f0f921"
            ]
           ]
          },
          "colorway": [
           "#636efa",
           "#EF553B",
           "#00cc96",
           "#ab63fa",
           "#FFA15A",
           "#19d3f3",
           "#FF6692",
           "#B6E880",
           "#FF97FF",
           "#FECB52"
          ],
          "font": {
           "color": "#2a3f5f"
          },
          "geo": {
           "bgcolor": "white",
           "lakecolor": "white",
           "landcolor": "#E5ECF6",
           "showlakes": true,
           "showland": true,
           "subunitcolor": "white"
          },
          "hoverlabel": {
           "align": "left"
          },
          "hovermode": "closest",
          "mapbox": {
           "style": "light"
          },
          "paper_bgcolor": "white",
          "plot_bgcolor": "#E5ECF6",
          "polar": {
           "angularaxis": {
            "gridcolor": "white",
            "linecolor": "white",
            "ticks": ""
           },
           "bgcolor": "#E5ECF6",
           "radialaxis": {
            "gridcolor": "white",
            "linecolor": "white",
            "ticks": ""
           }
          },
          "scene": {
           "xaxis": {
            "backgroundcolor": "#E5ECF6",
            "gridcolor": "white",
            "gridwidth": 2,
            "linecolor": "white",
            "showbackground": true,
            "ticks": "",
            "zerolinecolor": "white"
           },
           "yaxis": {
            "backgroundcolor": "#E5ECF6",
            "gridcolor": "white",
            "gridwidth": 2,
            "linecolor": "white",
            "showbackground": true,
            "ticks": "",
            "zerolinecolor": "white"
           },
           "zaxis": {
            "backgroundcolor": "#E5ECF6",
            "gridcolor": "white",
            "gridwidth": 2,
            "linecolor": "white",
            "showbackground": true,
            "ticks": "",
            "zerolinecolor": "white"
           }
          },
          "shapedefaults": {
           "line": {
            "color": "#2a3f5f"
           }
          },
          "ternary": {
           "aaxis": {
            "gridcolor": "white",
            "linecolor": "white",
            "ticks": ""
           },
           "baxis": {
            "gridcolor": "white",
            "linecolor": "white",
            "ticks": ""
           },
           "bgcolor": "#E5ECF6",
           "caxis": {
            "gridcolor": "white",
            "linecolor": "white",
            "ticks": ""
           }
          },
          "title": {
           "x": 0.05
          },
          "xaxis": {
           "automargin": true,
           "gridcolor": "white",
           "linecolor": "white",
           "ticks": "",
           "title": {
            "standoff": 15
           },
           "zerolinecolor": "white",
           "zerolinewidth": 2
          },
          "yaxis": {
           "automargin": true,
           "gridcolor": "white",
           "linecolor": "white",
           "ticks": "",
           "title": {
            "standoff": 15
           },
           "zerolinecolor": "white",
           "zerolinewidth": 2
          }
         }
        }
       }
      }
     },
     "metadata": {},
     "output_type": "display_data"
    }
   ],
   "source": [
    "dataframe = regular_sentences.join([y])\n",
    "correlation_matrix(dataframe)"
   ]
  },
  {
   "cell_type": "code",
   "execution_count": 16,
   "metadata": {},
   "outputs": [
    {
     "name": "stdout",
     "output_type": "stream",
     "text": [
      "Selected Feature Names: ['atr38']\n",
      "Accuracy: 51.71%\n",
      "Selected Feature Names: ['atr38', 'atr39']\n",
      "Accuracy: 52.47%\n",
      "Selected Feature Names: ['atr38', 'atr39', 'atr23']\n",
      "Accuracy: 49.43%\n",
      "Selected Feature Names: ['atr38', 'atr39', 'atr23', 'atr26']\n",
      "Accuracy: 46.39%\n",
      "Selected Feature Names: ['atr38', 'atr39', 'atr23', 'atr26', 'atr29']\n",
      "Accuracy: 50.19%\n",
      "Selected Feature Names: ['atr38', 'atr39', 'atr23', 'atr26', 'atr29', 'atr34']\n",
      "Accuracy: 50.19%\n",
      "Selected Feature Names: ['atr38', 'atr39', 'atr23', 'atr26', 'atr29', 'atr34', 'atr20']\n",
      "Accuracy: 52.09%\n",
      "Selected Feature Names: ['atr38', 'atr39', 'atr23', 'atr26', 'atr29', 'atr34', 'atr20', 'atr25']\n",
      "Accuracy: 55.13%\n",
      "Selected Feature Names: ['atr38', 'atr39', 'atr23', 'atr26', 'atr29', 'atr34', 'atr20', 'atr25', 'atr28']\n",
      "Accuracy: 49.81%\n",
      "Selected Feature Names: ['atr38', 'atr39', 'atr23', 'atr26', 'atr29', 'atr34', 'atr20', 'atr25', 'atr28', 'atr21']\n",
      "Accuracy: 49.81%\n",
      "Selected Feature Names: ['atr38', 'atr39', 'atr23', 'atr26', 'atr29', 'atr34', 'atr20', 'atr25', 'atr28', 'atr21', 'atr36']\n",
      "Accuracy: 49.43%\n",
      "Selected Feature Names: ['atr38', 'atr39', 'atr23', 'atr26', 'atr29', 'atr34', 'atr20', 'atr25', 'atr28', 'atr21', 'atr36', 'atr35']\n",
      "Accuracy: 52.09%\n",
      "Selected Feature Names: ['atr38', 'atr39', 'atr23', 'atr26', 'atr29', 'atr34', 'atr20', 'atr25', 'atr28', 'atr21', 'atr36', 'atr35', 'atr30']\n",
      "Accuracy: 52.09%\n",
      "Selected Feature Names: ['atr38', 'atr39', 'atr23', 'atr26', 'atr29', 'atr34', 'atr20', 'atr25', 'atr28', 'atr21', 'atr36', 'atr35', 'atr30', 'atr37']\n",
      "Accuracy: 48.29%\n",
      "Selected Feature Names: ['atr38', 'atr39', 'atr23', 'atr26', 'atr29', 'atr34', 'atr20', 'atr25', 'atr28', 'atr21', 'atr36', 'atr35', 'atr30', 'atr37', 'atr31']\n",
      "Accuracy: 51.71%\n",
      "Selected Feature Names: ['atr38', 'atr39', 'atr23', 'atr26', 'atr29', 'atr34', 'atr20', 'atr25', 'atr28', 'atr21', 'atr36', 'atr35', 'atr30', 'atr37', 'atr31', 'atr27']\n",
      "Accuracy: 50.19%\n",
      "Selected Feature Names: ['atr38', 'atr39', 'atr23', 'atr26', 'atr29', 'atr34', 'atr20', 'atr25', 'atr28', 'atr21', 'atr36', 'atr35', 'atr30', 'atr37', 'atr31', 'atr27', 'atr22']\n",
      "Accuracy: 54.37%\n",
      "Selected Feature Names: ['atr38', 'atr39', 'atr23', 'atr26', 'atr29', 'atr34', 'atr20', 'atr25', 'atr28', 'atr21', 'atr36', 'atr35', 'atr30', 'atr37', 'atr31', 'atr27', 'atr22', 'atr33']\n",
      "Accuracy: 54.75%\n",
      "Selected Feature Names: ['atr38', 'atr39', 'atr23', 'atr26', 'atr29', 'atr34', 'atr20', 'atr25', 'atr28', 'atr21', 'atr36', 'atr35', 'atr30', 'atr37', 'atr31', 'atr27', 'atr22', 'atr33', 'atr32']\n",
      "Accuracy: 56.27%\n",
      "Selected Feature Names: ['atr38', 'atr39', 'atr23', 'atr26', 'atr29', 'atr34', 'atr20', 'atr25', 'atr28', 'atr21', 'atr36', 'atr35', 'atr30', 'atr37', 'atr31', 'atr27', 'atr22', 'atr33', 'atr32', 'atr24']\n",
      "Accuracy: 57.03%\n"
     ]
    }
   ],
   "source": [
    "for i in dict(enumerate(regular_sentences)):\n",
    "    accuracy = model(regular_sentences, y, i+1)\n",
    "    print(\"Accuracy: %.2f%%\" % (accuracy * 100.0))"
   ]
  },
  {
   "cell_type": "markdown",
   "metadata": {},
   "source": [
    "## Reference-Based Predictor"
   ]
  },
  {
   "cell_type": "code",
   "execution_count": 17,
   "metadata": {},
   "outputs": [],
   "source": [
    "reference_based = data[['num_ref', 'num_ref_3years', 'arxiv', 'neurips', 'iclr', 'icml', 'aaai', 'iccv', 'cvpr', 'emnlp', 'acl', 'naacl', 'eccv', 'icra', 'icassp', 'ijcai', 'aistats', 'sigkdd', 'neuralcom', 'ieee_tran', 'acm_tran', 'mit_press', 'nature', 'jmlr']]"
   ]
  },
  {
   "cell_type": "code",
   "execution_count": 18,
   "metadata": {},
   "outputs": [
    {
     "data": {
      "application/vnd.plotly.v1+json": {
       "config": {
        "plotlyServerURL": "https://plot.ly"
       },
       "data": [
        {
         "text": [
          [
           1,
           0.63825428212116,
           0.3007473856710247,
           0.30372352828856475,
           0.5431220342345815,
           0.40455719741299057,
           0.21422513040278904,
           0.2292749092589597,
           0.23230538197272405,
           0.08485246736602609,
           0.15778228396201377,
           0.1271948747487985,
           0.18315386572076908,
           0.12582078941501812,
           0.08855778209486306,
           0.16879538591334955,
           0.16591605258112913,
           0.1149324755084172,
           0.10740826287109392,
           0.22214185913344342,
           0.0879423015847633,
           0.14567072630701394,
           0.11984081596237027,
           0.22039282206917715,
           -0.0038613121998766044
          ],
          [
           0.63825428212116,
           1,
           0.35294515913969265,
           0.4473529627921609,
           0.35955062982265146,
           0.2735950561011461,
           0.08959776786015729,
           0.15311922586644697,
           0.16651101244696484,
           0.12045876308413939,
           0.12499189680372257,
           0.10693382521802766,
           0.16073784225451376,
           0.07853506315574035,
           0.04810215063033444,
           0.0640972223251453,
           0.042967962324119265,
           -0.01205064428191533,
           0.005126135973428765,
           -0.012798249795768959,
           0.002584307712201108,
           -0.01034279856748103,
           -0.0266001231764784,
           -0.025192132519890876,
           0.04770088651589186
          ],
          [
           0.3007473856710247,
           0.35294515913969265,
           1,
           -0.17901188608377225,
           0.11765834115429533,
           0.008501988753441228,
           -0.0016935216548341833,
           -0.04376551835825549,
           -0.024482010986446073,
           -0.046791401574665326,
           -0.04158078766220858,
           -0.04651721819077853,
           -0.019658919803493,
           0.007730065337091366,
           -0.04183940147006043,
           -0.048730989662600935,
           -0.03256354669373012,
           -0.00964112470250943,
           0.06252656775778284,
           -0.06297064837897823,
           -0.06352164390887348,
           0.10113373723814215,
           -0.008983481585699423,
           0.01386423854864028,
           -0.01553233320095748
          ],
          [
           0.30372352828856475,
           0.4473529627921609,
           -0.17901188608377225,
           1,
           0.3374710384726962,
           0.31666492329899304,
           0.0878761693950899,
           0.10637785734251448,
           0.10757825001128549,
           0.03194580766164728,
           0.05069859560278069,
           0.056070034427409515,
           0.09317270054421302,
           -0.020914564295970627,
           0.015286339715024138,
           0.05409889983618754,
           0.10418717162693063,
           -0.006433590430027811,
           -0.019934418817946192,
           -0.06799679661922362,
           -0.06308336201747283,
           -0.051873089001205006,
           -0.050973457874949155,
           -0.017304883735005664,
           0.08540977044718492
          ],
          [
           0.5431220342345815,
           0.35955062982265146,
           0.11765834115429533,
           0.3374710384726962,
           1,
           0.45961819814826943,
           0.1468565555299774,
           0.11793054140544722,
           0.0807400572306788,
           -0.03185289417263555,
           -0.06602316939770218,
           -0.03315375129344274,
           0.06044088105136509,
           0.052503154922996474,
           -0.011011214156712548,
           0.0812939346644915,
           0.22051363845551294,
           0.029546208773096397,
           0.06102505196586656,
           0.046234706834375854,
           -0.023162841382671683,
           0.08558587621453281,
           -0.014124072114997803,
           0.20192885506064873,
           -0.045860724357267256
          ],
          [
           0.40455719741299057,
           0.2735950561011461,
           0.008501988753441228,
           0.31666492329899304,
           0.45961819814826943,
           1,
           0.20250311196612925,
           -0.01717667527082087,
           -0.0482337361652668,
           -0.08731186626893837,
           -0.07316797305222089,
           -0.0448274172940566,
           -0.06894291514836513,
           0.07663104767190357,
           -0.024160213113872103,
           0.12676844023662973,
           0.2640984641746367,
           0.031016634437516427,
           0.07946000578461945,
           0.020320905108240035,
           -0.03434213020792199,
           0.0909870081569777,
           0.0004062460444644179,
           0.24551049247249182,
           0.005600328772634284
          ],
          [
           0.21422513040278904,
           0.08959776786015729,
           -0.0016935216548341833,
           0.0878761693950899,
           0.1468565555299774,
           0.20250311196612925,
           1,
           -0.002906120035265434,
           -0.01776158027648155,
           0.11737851309631729,
           0.14493525415281125,
           0.0902477652032088,
           -0.02774282224853005,
           0.09388745469200512,
           -0.05929481569301941,
           0.22155688306258295,
           0.05456835437269101,
           0.07731576926195641,
           -0.011602040987671158,
           -0.02045716844584957,
           -0.020772960849995057,
           0.05593382703884467,
           -0.004304458825888174,
           0.08700463807764647,
           0.0020277818555761006
          ],
          [
           0.2292749092589597,
           0.15311922586644697,
           -0.04376551835825549,
           0.10637785734251448,
           0.11793054140544722,
           -0.01717667527082087,
           -0.002906120035265434,
           1,
           0.5953890533130336,
           -0.03992790043269456,
           -0.06765283548809242,
           -0.06428952445903292,
           0.5688247283854141,
           0.006075218218465357,
           0.012052625039383667,
           -0.004958494940936661,
           -0.024823380551542082,
           -0.017484483907457472,
           -0.04723683385028669,
           0.17457453121777952,
           0.0670349515665437,
           -0.07240632364507511,
           -0.05999078325085351,
           -0.06497305318404921,
           -0.008941117296773975
          ],
          [
           0.23230538197272405,
           0.16651101244696484,
           -0.024482010986446073,
           0.10757825001128549,
           0.0807400572306788,
           -0.0482337361652668,
           -0.01776158027648155,
           0.5953890533130336,
           1,
           -0.07304087326044312,
           -0.08974833954769239,
           -0.07118369157534495,
           0.6361811454843758,
           0.022969291437734723,
           0.005884238180453447,
           -0.032493120066787916,
           -0.08609727007561348,
           -0.029031205990709356,
           -0.0795383658484321,
           0.17243528793268018,
           0.0855446150514246,
           -0.08286648768718638,
           -0.09187697130970147,
           -0.07133993345069717,
           0.0020584581109753804
          ],
          [
           0.08485246736602609,
           0.12045876308413939,
           -0.046791401574665326,
           0.03194580766164728,
           -0.03185289417263555,
           -0.08731186626893837,
           0.11737851309631729,
           -0.03992790043269456,
           -0.07304087326044312,
           1,
           0.5917617568155488,
           0.535916922291524,
           -0.042633916548673774,
           -0.05158974032418814,
           0.02866422264319241,
           0.025622225025062617,
           -0.0011920489477491372,
           -0.015017150617084755,
           0.04805341060245227,
           -0.0765895561200963,
           -0.026313788124620555,
           -0.016537017689480474,
           -0.07681201634431617,
           -0.04597183080750468,
           0.03676546731760811
          ],
          [
           0.15778228396201377,
           0.12499189680372257,
           -0.04158078766220858,
           0.05069859560278069,
           -0.06602316939770218,
           -0.07316797305222089,
           0.14493525415281125,
           -0.06765283548809242,
           -0.08974833954769239,
           0.5917617568155488,
           1,
           0.7699759976500141,
           -0.07730787365439319,
           -0.06738001661434218,
           0.06127305770297725,
           0.05340169675426798,
           -0.017348257948212747,
           -0.00857188521441035,
           0.01773781625022333,
           -0.08582133061460004,
           -0.02571386894115559,
           -0.03202643738512852,
           -0.08049255703788695,
           -0.03988096467351597,
           -0.019307033147678895
          ],
          [
           0.1271948747487985,
           0.10693382521802766,
           -0.04651721819077853,
           0.056070034427409515,
           -0.03315375129344274,
           -0.0448274172940566,
           0.0902477652032088,
           -0.06428952445903292,
           -0.07118369157534495,
           0.535916922291524,
           0.7699759976500141,
           1,
           -0.06087908072543524,
           -0.055654466892550984,
           0.0372230163064594,
           0.061174777200228014,
           0.009342594439524317,
           0.003969436110012756,
           0.012687712018455598,
           -0.08125952237416073,
           -0.028604410831853992,
           -0.036493884070181636,
           -0.07080233909313145,
           -0.03479159736176826,
           0.0028594259362097435
          ],
          [
           0.18315386572076908,
           0.16073784225451376,
           -0.019658919803493,
           0.09317270054421302,
           0.06044088105136509,
           -0.06894291514836513,
           -0.02774282224853005,
           0.5688247283854141,
           0.6361811454843758,
           -0.042633916548673774,
           -0.07730787365439319,
           -0.06087908072543524,
           1,
           0.020980223487960137,
           0.02304394806345829,
           -0.03729916024675872,
           -0.08453281526004316,
           -0.03190819946698114,
           -0.07808595044095762,
           0.06263497551121865,
           0.095156518732664,
           -0.07781844283094018,
           -0.07429414414593052,
           -0.07030240334207832,
           0.0017470598706001165
          ],
          [
           0.12582078941501812,
           0.07853506315574035,
           0.007730065337091366,
           -0.020914564295970627,
           0.052503154922996474,
           0.07663104767190357,
           0.09388745469200512,
           0.006075218218465357,
           0.022969291437734723,
           -0.05158974032418814,
           -0.06738001661434218,
           -0.055654466892550984,
           0.020980223487960137,
           1,
           -0.046525799885581046,
           0.06905826330217264,
           0.008957613001550402,
           -0.04906197324744021,
           -0.035715917987610465,
           0.11451077093788341,
           0.03662267615411746,
           0.08888810904913141,
           0.020480290431178272,
           0.025477717008512705,
           0.04511674368902326
          ],
          [
           0.08855778209486306,
           0.04810215063033444,
           -0.04183940147006043,
           0.015286339715024138,
           -0.011011214156712548,
           -0.024160213113872103,
           -0.05929481569301941,
           0.012052625039383667,
           0.005884238180453447,
           0.02866422264319241,
           0.06127305770297725,
           0.0372230163064594,
           0.02304394806345829,
           -0.046525799885581046,
           1,
           -0.003793001492532368,
           -0.010685088549616365,
           -0.000040275595099968215,
           0.018399902238962623,
           0.16378701803928358,
           0.03453535809352266,
           -0.037408045503970144,
           -0.017763212454406065,
           -0.014028433056637995,
           -0.028417607377492462
          ],
          [
           0.16879538591334955,
           0.0640972223251453,
           -0.048730989662600935,
           0.05409889983618754,
           0.0812939346644915,
           0.12676844023662973,
           0.22155688306258295,
           -0.004958494940936661,
           -0.032493120066787916,
           0.025622225025062617,
           0.05340169675426798,
           0.061174777200228014,
           -0.03729916024675872,
           0.06905826330217264,
           -0.003793001492532368,
           1,
           0.01014337861024353,
           0.11113260877003339,
           -0.03821582793152665,
           0.07231265180996273,
           -0.01358305657573024,
           0.05562085904372915,
           0.03270346920790299,
           0.07343324663193274,
           -0.0733711467881135
          ],
          [
           0.16591605258112913,
           0.042967962324119265,
           -0.03256354669373012,
           0.10418717162693063,
           0.22051363845551294,
           0.2640984641746367,
           0.05456835437269101,
           -0.024823380551542082,
           -0.08609727007561348,
           -0.0011920489477491372,
           -0.017348257948212747,
           0.009342594439524317,
           -0.08453281526004316,
           0.008957613001550402,
           -0.010685088549616365,
           0.01014337861024353,
           1,
           -0.012957072481784137,
           0.09474051185871488,
           0.029971690724528335,
           -0.00452318909221052,
           0.05563170931017758,
           -0.025319632446221284,
           0.18692902048385202,
           -0.012233565885949364
          ],
          [
           0.1149324755084172,
           -0.01205064428191533,
           -0.00964112470250943,
           -0.006433590430027811,
           0.029546208773096397,
           0.031016634437516427,
           0.07731576926195641,
           -0.017484483907457472,
           -0.029031205990709356,
           -0.015017150617084755,
           -0.00857188521441035,
           0.003969436110012756,
           -0.03190819946698114,
           -0.04906197324744021,
           -0.000040275595099968215,
           0.11113260877003339,
           -0.012957072481784137,
           1,
           -0.047210250819546724,
           0.06799184678429351,
           0.01130951775438504,
           0.006868435718616823,
           -0.0020241016314540223,
           0.09967185174676602,
           0.008828606290831438
          ],
          [
           0.10740826287109392,
           0.005126135973428765,
           0.06252656775778284,
           -0.019934418817946192,
           0.06102505196586656,
           0.07946000578461945,
           -0.011602040987671158,
           -0.04723683385028669,
           -0.0795383658484321,
           0.04805341060245227,
           0.01773781625022333,
           0.012687712018455598,
           -0.07808595044095762,
           -0.035715917987610465,
           0.018399902238962623,
           -0.03821582793152665,
           0.09474051185871488,
           -0.047210250819546724,
           1,
           -0.008002481093038511,
           -0.046017904468440556,
           0.017769165714258166,
           0.0947463059849127,
           0.10266975481291067,
           -0.015421732304203819
          ],
          [
           0.22214185913344342,
           -0.012798249795768959,
           -0.06297064837897823,
           -0.06799679661922362,
           0.046234706834375854,
           0.020320905108240035,
           -0.02045716844584957,
           0.17457453121777952,
           0.17243528793268018,
           -0.0765895561200963,
           -0.08582133061460004,
           -0.08125952237416073,
           0.06263497551121865,
           0.11451077093788341,
           0.16378701803928358,
           0.07231265180996273,
           0.029971690724528335,
           0.06799184678429351,
           -0.008002481093038511,
           1,
           0.07914124160419386,
           0.02768784907095258,
           0.02505232505428673,
           0.1243143247293927,
           -0.02581832136900923
          ],
          [
           0.0879423015847633,
           0.002584307712201108,
           -0.06352164390887348,
           -0.06308336201747283,
           -0.023162841382671683,
           -0.03434213020792199,
           -0.020772960849995057,
           0.0670349515665437,
           0.0855446150514246,
           -0.026313788124620555,
           -0.02571386894115559,
           -0.028604410831853992,
           0.095156518732664,
           0.03662267615411746,
           0.03453535809352266,
           -0.01358305657573024,
           -0.00452318909221052,
           0.01130951775438504,
           -0.046017904468440556,
           0.07914124160419386,
           1,
           -0.0092344815580485,
           -0.007857060920082015,
           -0.036783779029557075,
           0.014511486666622652
          ],
          [
           0.14567072630701394,
           -0.01034279856748103,
           0.10113373723814215,
           -0.051873089001205006,
           0.08558587621453281,
           0.0909870081569777,
           0.05593382703884467,
           -0.07240632364507511,
           -0.08286648768718638,
           -0.016537017689480474,
           -0.03202643738512852,
           -0.036493884070181636,
           -0.07781844283094018,
           0.08888810904913141,
           -0.037408045503970144,
           0.05562085904372915,
           0.05563170931017758,
           0.006868435718616823,
           0.017769165714258166,
           0.02768784907095258,
           -0.0092344815580485,
           1,
           0.13263191859346035,
           0.10741720992678352,
           0.01904339267291124
          ],
          [
           0.11984081596237027,
           -0.0266001231764784,
           -0.008983481585699423,
           -0.050973457874949155,
           -0.014124072114997803,
           0.0004062460444644179,
           -0.004304458825888174,
           -0.05999078325085351,
           -0.09187697130970147,
           -0.07681201634431617,
           -0.08049255703788695,
           -0.07080233909313145,
           -0.07429414414593052,
           0.020480290431178272,
           -0.017763212454406065,
           0.03270346920790299,
           -0.025319632446221284,
           -0.0020241016314540223,
           0.0947463059849127,
           0.02505232505428673,
           -0.007857060920082015,
           0.13263191859346035,
           1,
           0.03164688269139939,
           0.004675680743845246
          ],
          [
           0.22039282206917715,
           -0.025192132519890876,
           0.01386423854864028,
           -0.017304883735005664,
           0.20192885506064873,
           0.24551049247249182,
           0.08700463807764647,
           -0.06497305318404921,
           -0.07133993345069717,
           -0.04597183080750468,
           -0.03988096467351597,
           -0.03479159736176826,
           -0.07030240334207832,
           0.025477717008512705,
           -0.014028433056637995,
           0.07343324663193274,
           0.18692902048385202,
           0.09967185174676602,
           0.10266975481291067,
           0.1243143247293927,
           -0.036783779029557075,
           0.10741720992678352,
           0.03164688269139939,
           1,
           -0.005282480386670084
          ],
          [
           -0.0038613121998766044,
           0.04770088651589186,
           -0.01553233320095748,
           0.08540977044718492,
           -0.045860724357267256,
           0.005600328772634284,
           0.0020277818555761006,
           -0.008941117296773975,
           0.0020584581109753804,
           0.03676546731760811,
           -0.019307033147678895,
           0.0028594259362097435,
           0.0017470598706001165,
           0.04511674368902326,
           -0.028417607377492462,
           -0.0733711467881135,
           -0.012233565885949364,
           0.008828606290831438,
           -0.015421732304203819,
           -0.02581832136900923,
           0.014511486666622652,
           0.01904339267291124,
           0.004675680743845246,
           -0.005282480386670084,
           1
          ]
         ],
         "texttemplate": "%{text:.2f}",
         "type": "heatmap",
         "x": [
          "num_ref",
          "num_ref_3years",
          "arxiv",
          "neurips",
          "iclr",
          "icml",
          "aaai",
          "iccv",
          "cvpr",
          "emnlp",
          "acl",
          "naacl",
          "eccv",
          "icra",
          "icassp",
          "ijcai",
          "aistats",
          "sigkdd",
          "neuralcom",
          "ieee_tran",
          "acm_tran",
          "mit_press",
          "nature",
          "jmlr",
          "clarity"
         ],
         "y": [
          "num_ref",
          "num_ref_3years",
          "arxiv",
          "neurips",
          "iclr",
          "icml",
          "aaai",
          "iccv",
          "cvpr",
          "emnlp",
          "acl",
          "naacl",
          "eccv",
          "icra",
          "icassp",
          "ijcai",
          "aistats",
          "sigkdd",
          "neuralcom",
          "ieee_tran",
          "acm_tran",
          "mit_press",
          "nature",
          "jmlr",
          "clarity"
         ],
         "z": [
          [
           1,
           0.63825428212116,
           0.3007473856710247,
           0.30372352828856475,
           0.5431220342345815,
           0.40455719741299057,
           0.21422513040278904,
           0.2292749092589597,
           0.23230538197272405,
           0.08485246736602609,
           0.15778228396201377,
           0.1271948747487985,
           0.18315386572076908,
           0.12582078941501812,
           0.08855778209486306,
           0.16879538591334955,
           0.16591605258112913,
           0.1149324755084172,
           0.10740826287109392,
           0.22214185913344342,
           0.0879423015847633,
           0.14567072630701394,
           0.11984081596237027,
           0.22039282206917715,
           -0.0038613121998766044
          ],
          [
           0.63825428212116,
           1,
           0.35294515913969265,
           0.4473529627921609,
           0.35955062982265146,
           0.2735950561011461,
           0.08959776786015729,
           0.15311922586644697,
           0.16651101244696484,
           0.12045876308413939,
           0.12499189680372257,
           0.10693382521802766,
           0.16073784225451376,
           0.07853506315574035,
           0.04810215063033444,
           0.0640972223251453,
           0.042967962324119265,
           -0.01205064428191533,
           0.005126135973428765,
           -0.012798249795768959,
           0.002584307712201108,
           -0.01034279856748103,
           -0.0266001231764784,
           -0.025192132519890876,
           0.04770088651589186
          ],
          [
           0.3007473856710247,
           0.35294515913969265,
           1,
           -0.17901188608377225,
           0.11765834115429533,
           0.008501988753441228,
           -0.0016935216548341833,
           -0.04376551835825549,
           -0.024482010986446073,
           -0.046791401574665326,
           -0.04158078766220858,
           -0.04651721819077853,
           -0.019658919803493,
           0.007730065337091366,
           -0.04183940147006043,
           -0.048730989662600935,
           -0.03256354669373012,
           -0.00964112470250943,
           0.06252656775778284,
           -0.06297064837897823,
           -0.06352164390887348,
           0.10113373723814215,
           -0.008983481585699423,
           0.01386423854864028,
           -0.01553233320095748
          ],
          [
           0.30372352828856475,
           0.4473529627921609,
           -0.17901188608377225,
           1,
           0.3374710384726962,
           0.31666492329899304,
           0.0878761693950899,
           0.10637785734251448,
           0.10757825001128549,
           0.03194580766164728,
           0.05069859560278069,
           0.056070034427409515,
           0.09317270054421302,
           -0.020914564295970627,
           0.015286339715024138,
           0.05409889983618754,
           0.10418717162693063,
           -0.006433590430027811,
           -0.019934418817946192,
           -0.06799679661922362,
           -0.06308336201747283,
           -0.051873089001205006,
           -0.050973457874949155,
           -0.017304883735005664,
           0.08540977044718492
          ],
          [
           0.5431220342345815,
           0.35955062982265146,
           0.11765834115429533,
           0.3374710384726962,
           1,
           0.45961819814826943,
           0.1468565555299774,
           0.11793054140544722,
           0.0807400572306788,
           -0.03185289417263555,
           -0.06602316939770218,
           -0.03315375129344274,
           0.06044088105136509,
           0.052503154922996474,
           -0.011011214156712548,
           0.0812939346644915,
           0.22051363845551294,
           0.029546208773096397,
           0.06102505196586656,
           0.046234706834375854,
           -0.023162841382671683,
           0.08558587621453281,
           -0.014124072114997803,
           0.20192885506064873,
           -0.045860724357267256
          ],
          [
           0.40455719741299057,
           0.2735950561011461,
           0.008501988753441228,
           0.31666492329899304,
           0.45961819814826943,
           1,
           0.20250311196612925,
           -0.01717667527082087,
           -0.0482337361652668,
           -0.08731186626893837,
           -0.07316797305222089,
           -0.0448274172940566,
           -0.06894291514836513,
           0.07663104767190357,
           -0.024160213113872103,
           0.12676844023662973,
           0.2640984641746367,
           0.031016634437516427,
           0.07946000578461945,
           0.020320905108240035,
           -0.03434213020792199,
           0.0909870081569777,
           0.0004062460444644179,
           0.24551049247249182,
           0.005600328772634284
          ],
          [
           0.21422513040278904,
           0.08959776786015729,
           -0.0016935216548341833,
           0.0878761693950899,
           0.1468565555299774,
           0.20250311196612925,
           1,
           -0.002906120035265434,
           -0.01776158027648155,
           0.11737851309631729,
           0.14493525415281125,
           0.0902477652032088,
           -0.02774282224853005,
           0.09388745469200512,
           -0.05929481569301941,
           0.22155688306258295,
           0.05456835437269101,
           0.07731576926195641,
           -0.011602040987671158,
           -0.02045716844584957,
           -0.020772960849995057,
           0.05593382703884467,
           -0.004304458825888174,
           0.08700463807764647,
           0.0020277818555761006
          ],
          [
           0.2292749092589597,
           0.15311922586644697,
           -0.04376551835825549,
           0.10637785734251448,
           0.11793054140544722,
           -0.01717667527082087,
           -0.002906120035265434,
           1,
           0.5953890533130336,
           -0.03992790043269456,
           -0.06765283548809242,
           -0.06428952445903292,
           0.5688247283854141,
           0.006075218218465357,
           0.012052625039383667,
           -0.004958494940936661,
           -0.024823380551542082,
           -0.017484483907457472,
           -0.04723683385028669,
           0.17457453121777952,
           0.0670349515665437,
           -0.07240632364507511,
           -0.05999078325085351,
           -0.06497305318404921,
           -0.008941117296773975
          ],
          [
           0.23230538197272405,
           0.16651101244696484,
           -0.024482010986446073,
           0.10757825001128549,
           0.0807400572306788,
           -0.0482337361652668,
           -0.01776158027648155,
           0.5953890533130336,
           1,
           -0.07304087326044312,
           -0.08974833954769239,
           -0.07118369157534495,
           0.6361811454843758,
           0.022969291437734723,
           0.005884238180453447,
           -0.032493120066787916,
           -0.08609727007561348,
           -0.029031205990709356,
           -0.0795383658484321,
           0.17243528793268018,
           0.0855446150514246,
           -0.08286648768718638,
           -0.09187697130970147,
           -0.07133993345069717,
           0.0020584581109753804
          ],
          [
           0.08485246736602609,
           0.12045876308413939,
           -0.046791401574665326,
           0.03194580766164728,
           -0.03185289417263555,
           -0.08731186626893837,
           0.11737851309631729,
           -0.03992790043269456,
           -0.07304087326044312,
           1,
           0.5917617568155488,
           0.535916922291524,
           -0.042633916548673774,
           -0.05158974032418814,
           0.02866422264319241,
           0.025622225025062617,
           -0.0011920489477491372,
           -0.015017150617084755,
           0.04805341060245227,
           -0.0765895561200963,
           -0.026313788124620555,
           -0.016537017689480474,
           -0.07681201634431617,
           -0.04597183080750468,
           0.03676546731760811
          ],
          [
           0.15778228396201377,
           0.12499189680372257,
           -0.04158078766220858,
           0.05069859560278069,
           -0.06602316939770218,
           -0.07316797305222089,
           0.14493525415281125,
           -0.06765283548809242,
           -0.08974833954769239,
           0.5917617568155488,
           1,
           0.7699759976500141,
           -0.07730787365439319,
           -0.06738001661434218,
           0.06127305770297725,
           0.05340169675426798,
           -0.017348257948212747,
           -0.00857188521441035,
           0.01773781625022333,
           -0.08582133061460004,
           -0.02571386894115559,
           -0.03202643738512852,
           -0.08049255703788695,
           -0.03988096467351597,
           -0.019307033147678895
          ],
          [
           0.1271948747487985,
           0.10693382521802766,
           -0.04651721819077853,
           0.056070034427409515,
           -0.03315375129344274,
           -0.0448274172940566,
           0.0902477652032088,
           -0.06428952445903292,
           -0.07118369157534495,
           0.535916922291524,
           0.7699759976500141,
           1,
           -0.06087908072543524,
           -0.055654466892550984,
           0.0372230163064594,
           0.061174777200228014,
           0.009342594439524317,
           0.003969436110012756,
           0.012687712018455598,
           -0.08125952237416073,
           -0.028604410831853992,
           -0.036493884070181636,
           -0.07080233909313145,
           -0.03479159736176826,
           0.0028594259362097435
          ],
          [
           0.18315386572076908,
           0.16073784225451376,
           -0.019658919803493,
           0.09317270054421302,
           0.06044088105136509,
           -0.06894291514836513,
           -0.02774282224853005,
           0.5688247283854141,
           0.6361811454843758,
           -0.042633916548673774,
           -0.07730787365439319,
           -0.06087908072543524,
           1,
           0.020980223487960137,
           0.02304394806345829,
           -0.03729916024675872,
           -0.08453281526004316,
           -0.03190819946698114,
           -0.07808595044095762,
           0.06263497551121865,
           0.095156518732664,
           -0.07781844283094018,
           -0.07429414414593052,
           -0.07030240334207832,
           0.0017470598706001165
          ],
          [
           0.12582078941501812,
           0.07853506315574035,
           0.007730065337091366,
           -0.020914564295970627,
           0.052503154922996474,
           0.07663104767190357,
           0.09388745469200512,
           0.006075218218465357,
           0.022969291437734723,
           -0.05158974032418814,
           -0.06738001661434218,
           -0.055654466892550984,
           0.020980223487960137,
           1,
           -0.046525799885581046,
           0.06905826330217264,
           0.008957613001550402,
           -0.04906197324744021,
           -0.035715917987610465,
           0.11451077093788341,
           0.03662267615411746,
           0.08888810904913141,
           0.020480290431178272,
           0.025477717008512705,
           0.04511674368902326
          ],
          [
           0.08855778209486306,
           0.04810215063033444,
           -0.04183940147006043,
           0.015286339715024138,
           -0.011011214156712548,
           -0.024160213113872103,
           -0.05929481569301941,
           0.012052625039383667,
           0.005884238180453447,
           0.02866422264319241,
           0.06127305770297725,
           0.0372230163064594,
           0.02304394806345829,
           -0.046525799885581046,
           1,
           -0.003793001492532368,
           -0.010685088549616365,
           -0.000040275595099968215,
           0.018399902238962623,
           0.16378701803928358,
           0.03453535809352266,
           -0.037408045503970144,
           -0.017763212454406065,
           -0.014028433056637995,
           -0.028417607377492462
          ],
          [
           0.16879538591334955,
           0.0640972223251453,
           -0.048730989662600935,
           0.05409889983618754,
           0.0812939346644915,
           0.12676844023662973,
           0.22155688306258295,
           -0.004958494940936661,
           -0.032493120066787916,
           0.025622225025062617,
           0.05340169675426798,
           0.061174777200228014,
           -0.03729916024675872,
           0.06905826330217264,
           -0.003793001492532368,
           1,
           0.01014337861024353,
           0.11113260877003339,
           -0.03821582793152665,
           0.07231265180996273,
           -0.01358305657573024,
           0.05562085904372915,
           0.03270346920790299,
           0.07343324663193274,
           -0.0733711467881135
          ],
          [
           0.16591605258112913,
           0.042967962324119265,
           -0.03256354669373012,
           0.10418717162693063,
           0.22051363845551294,
           0.2640984641746367,
           0.05456835437269101,
           -0.024823380551542082,
           -0.08609727007561348,
           -0.0011920489477491372,
           -0.017348257948212747,
           0.009342594439524317,
           -0.08453281526004316,
           0.008957613001550402,
           -0.010685088549616365,
           0.01014337861024353,
           1,
           -0.012957072481784137,
           0.09474051185871488,
           0.029971690724528335,
           -0.00452318909221052,
           0.05563170931017758,
           -0.025319632446221284,
           0.18692902048385202,
           -0.012233565885949364
          ],
          [
           0.1149324755084172,
           -0.01205064428191533,
           -0.00964112470250943,
           -0.006433590430027811,
           0.029546208773096397,
           0.031016634437516427,
           0.07731576926195641,
           -0.017484483907457472,
           -0.029031205990709356,
           -0.015017150617084755,
           -0.00857188521441035,
           0.003969436110012756,
           -0.03190819946698114,
           -0.04906197324744021,
           -0.000040275595099968215,
           0.11113260877003339,
           -0.012957072481784137,
           1,
           -0.047210250819546724,
           0.06799184678429351,
           0.01130951775438504,
           0.006868435718616823,
           -0.0020241016314540223,
           0.09967185174676602,
           0.008828606290831438
          ],
          [
           0.10740826287109392,
           0.005126135973428765,
           0.06252656775778284,
           -0.019934418817946192,
           0.06102505196586656,
           0.07946000578461945,
           -0.011602040987671158,
           -0.04723683385028669,
           -0.0795383658484321,
           0.04805341060245227,
           0.01773781625022333,
           0.012687712018455598,
           -0.07808595044095762,
           -0.035715917987610465,
           0.018399902238962623,
           -0.03821582793152665,
           0.09474051185871488,
           -0.047210250819546724,
           1,
           -0.008002481093038511,
           -0.046017904468440556,
           0.017769165714258166,
           0.0947463059849127,
           0.10266975481291067,
           -0.015421732304203819
          ],
          [
           0.22214185913344342,
           -0.012798249795768959,
           -0.06297064837897823,
           -0.06799679661922362,
           0.046234706834375854,
           0.020320905108240035,
           -0.02045716844584957,
           0.17457453121777952,
           0.17243528793268018,
           -0.0765895561200963,
           -0.08582133061460004,
           -0.08125952237416073,
           0.06263497551121865,
           0.11451077093788341,
           0.16378701803928358,
           0.07231265180996273,
           0.029971690724528335,
           0.06799184678429351,
           -0.008002481093038511,
           1,
           0.07914124160419386,
           0.02768784907095258,
           0.02505232505428673,
           0.1243143247293927,
           -0.02581832136900923
          ],
          [
           0.0879423015847633,
           0.002584307712201108,
           -0.06352164390887348,
           -0.06308336201747283,
           -0.023162841382671683,
           -0.03434213020792199,
           -0.020772960849995057,
           0.0670349515665437,
           0.0855446150514246,
           -0.026313788124620555,
           -0.02571386894115559,
           -0.028604410831853992,
           0.095156518732664,
           0.03662267615411746,
           0.03453535809352266,
           -0.01358305657573024,
           -0.00452318909221052,
           0.01130951775438504,
           -0.046017904468440556,
           0.07914124160419386,
           1,
           -0.0092344815580485,
           -0.007857060920082015,
           -0.036783779029557075,
           0.014511486666622652
          ],
          [
           0.14567072630701394,
           -0.01034279856748103,
           0.10113373723814215,
           -0.051873089001205006,
           0.08558587621453281,
           0.0909870081569777,
           0.05593382703884467,
           -0.07240632364507511,
           -0.08286648768718638,
           -0.016537017689480474,
           -0.03202643738512852,
           -0.036493884070181636,
           -0.07781844283094018,
           0.08888810904913141,
           -0.037408045503970144,
           0.05562085904372915,
           0.05563170931017758,
           0.006868435718616823,
           0.017769165714258166,
           0.02768784907095258,
           -0.0092344815580485,
           1,
           0.13263191859346035,
           0.10741720992678352,
           0.01904339267291124
          ],
          [
           0.11984081596237027,
           -0.0266001231764784,
           -0.008983481585699423,
           -0.050973457874949155,
           -0.014124072114997803,
           0.0004062460444644179,
           -0.004304458825888174,
           -0.05999078325085351,
           -0.09187697130970147,
           -0.07681201634431617,
           -0.08049255703788695,
           -0.07080233909313145,
           -0.07429414414593052,
           0.020480290431178272,
           -0.017763212454406065,
           0.03270346920790299,
           -0.025319632446221284,
           -0.0020241016314540223,
           0.0947463059849127,
           0.02505232505428673,
           -0.007857060920082015,
           0.13263191859346035,
           1,
           0.03164688269139939,
           0.004675680743845246
          ],
          [
           0.22039282206917715,
           -0.025192132519890876,
           0.01386423854864028,
           -0.017304883735005664,
           0.20192885506064873,
           0.24551049247249182,
           0.08700463807764647,
           -0.06497305318404921,
           -0.07133993345069717,
           -0.04597183080750468,
           -0.03988096467351597,
           -0.03479159736176826,
           -0.07030240334207832,
           0.025477717008512705,
           -0.014028433056637995,
           0.07343324663193274,
           0.18692902048385202,
           0.09967185174676602,
           0.10266975481291067,
           0.1243143247293927,
           -0.036783779029557075,
           0.10741720992678352,
           0.03164688269139939,
           1,
           -0.005282480386670084
          ],
          [
           -0.0038613121998766044,
           0.04770088651589186,
           -0.01553233320095748,
           0.08540977044718492,
           -0.045860724357267256,
           0.005600328772634284,
           0.0020277818555761006,
           -0.008941117296773975,
           0.0020584581109753804,
           0.03676546731760811,
           -0.019307033147678895,
           0.0028594259362097435,
           0.0017470598706001165,
           0.04511674368902326,
           -0.028417607377492462,
           -0.0733711467881135,
           -0.012233565885949364,
           0.008828606290831438,
           -0.015421732304203819,
           -0.02581832136900923,
           0.014511486666622652,
           0.01904339267291124,
           0.004675680743845246,
           -0.005282480386670084,
           1
          ]
         ]
        }
       ],
       "layout": {
        "template": {
         "data": {
          "bar": [
           {
            "error_x": {
             "color": "#2a3f5f"
            },
            "error_y": {
             "color": "#2a3f5f"
            },
            "marker": {
             "line": {
              "color": "#E5ECF6",
              "width": 0.5
             },
             "pattern": {
              "fillmode": "overlay",
              "size": 10,
              "solidity": 0.2
             }
            },
            "type": "bar"
           }
          ],
          "barpolar": [
           {
            "marker": {
             "line": {
              "color": "#E5ECF6",
              "width": 0.5
             },
             "pattern": {
              "fillmode": "overlay",
              "size": 10,
              "solidity": 0.2
             }
            },
            "type": "barpolar"
           }
          ],
          "carpet": [
           {
            "aaxis": {
             "endlinecolor": "#2a3f5f",
             "gridcolor": "white",
             "linecolor": "white",
             "minorgridcolor": "white",
             "startlinecolor": "#2a3f5f"
            },
            "baxis": {
             "endlinecolor": "#2a3f5f",
             "gridcolor": "white",
             "linecolor": "white",
             "minorgridcolor": "white",
             "startlinecolor": "#2a3f5f"
            },
            "type": "carpet"
           }
          ],
          "choropleth": [
           {
            "colorbar": {
             "outlinewidth": 0,
             "ticks": ""
            },
            "type": "choropleth"
           }
          ],
          "contour": [
           {
            "colorbar": {
             "outlinewidth": 0,
             "ticks": ""
            },
            "colorscale": [
             [
              0,
              "#0d0887"
             ],
             [
              0.1111111111111111,
              "#46039f"
             ],
             [
              0.2222222222222222,
              "#7201a8"
             ],
             [
              0.3333333333333333,
              "#9c179e"
             ],
             [
              0.4444444444444444,
              "#bd3786"
             ],
             [
              0.5555555555555556,
              "#d8576b"
             ],
             [
              0.6666666666666666,
              "#ed7953"
             ],
             [
              0.7777777777777778,
              "#fb9f3a"
             ],
             [
              0.8888888888888888,
              "#fdca26"
             ],
             [
              1,
              "#f0f921"
             ]
            ],
            "type": "contour"
           }
          ],
          "contourcarpet": [
           {
            "colorbar": {
             "outlinewidth": 0,
             "ticks": ""
            },
            "type": "contourcarpet"
           }
          ],
          "heatmap": [
           {
            "colorbar": {
             "outlinewidth": 0,
             "ticks": ""
            },
            "colorscale": [
             [
              0,
              "#0d0887"
             ],
             [
              0.1111111111111111,
              "#46039f"
             ],
             [
              0.2222222222222222,
              "#7201a8"
             ],
             [
              0.3333333333333333,
              "#9c179e"
             ],
             [
              0.4444444444444444,
              "#bd3786"
             ],
             [
              0.5555555555555556,
              "#d8576b"
             ],
             [
              0.6666666666666666,
              "#ed7953"
             ],
             [
              0.7777777777777778,
              "#fb9f3a"
             ],
             [
              0.8888888888888888,
              "#fdca26"
             ],
             [
              1,
              "#f0f921"
             ]
            ],
            "type": "heatmap"
           }
          ],
          "heatmapgl": [
           {
            "colorbar": {
             "outlinewidth": 0,
             "ticks": ""
            },
            "colorscale": [
             [
              0,
              "#0d0887"
             ],
             [
              0.1111111111111111,
              "#46039f"
             ],
             [
              0.2222222222222222,
              "#7201a8"
             ],
             [
              0.3333333333333333,
              "#9c179e"
             ],
             [
              0.4444444444444444,
              "#bd3786"
             ],
             [
              0.5555555555555556,
              "#d8576b"
             ],
             [
              0.6666666666666666,
              "#ed7953"
             ],
             [
              0.7777777777777778,
              "#fb9f3a"
             ],
             [
              0.8888888888888888,
              "#fdca26"
             ],
             [
              1,
              "#f0f921"
             ]
            ],
            "type": "heatmapgl"
           }
          ],
          "histogram": [
           {
            "marker": {
             "pattern": {
              "fillmode": "overlay",
              "size": 10,
              "solidity": 0.2
             }
            },
            "type": "histogram"
           }
          ],
          "histogram2d": [
           {
            "colorbar": {
             "outlinewidth": 0,
             "ticks": ""
            },
            "colorscale": [
             [
              0,
              "#0d0887"
             ],
             [
              0.1111111111111111,
              "#46039f"
             ],
             [
              0.2222222222222222,
              "#7201a8"
             ],
             [
              0.3333333333333333,
              "#9c179e"
             ],
             [
              0.4444444444444444,
              "#bd3786"
             ],
             [
              0.5555555555555556,
              "#d8576b"
             ],
             [
              0.6666666666666666,
              "#ed7953"
             ],
             [
              0.7777777777777778,
              "#fb9f3a"
             ],
             [
              0.8888888888888888,
              "#fdca26"
             ],
             [
              1,
              "#f0f921"
             ]
            ],
            "type": "histogram2d"
           }
          ],
          "histogram2dcontour": [
           {
            "colorbar": {
             "outlinewidth": 0,
             "ticks": ""
            },
            "colorscale": [
             [
              0,
              "#0d0887"
             ],
             [
              0.1111111111111111,
              "#46039f"
             ],
             [
              0.2222222222222222,
              "#7201a8"
             ],
             [
              0.3333333333333333,
              "#9c179e"
             ],
             [
              0.4444444444444444,
              "#bd3786"
             ],
             [
              0.5555555555555556,
              "#d8576b"
             ],
             [
              0.6666666666666666,
              "#ed7953"
             ],
             [
              0.7777777777777778,
              "#fb9f3a"
             ],
             [
              0.8888888888888888,
              "#fdca26"
             ],
             [
              1,
              "#f0f921"
             ]
            ],
            "type": "histogram2dcontour"
           }
          ],
          "mesh3d": [
           {
            "colorbar": {
             "outlinewidth": 0,
             "ticks": ""
            },
            "type": "mesh3d"
           }
          ],
          "parcoords": [
           {
            "line": {
             "colorbar": {
              "outlinewidth": 0,
              "ticks": ""
             }
            },
            "type": "parcoords"
           }
          ],
          "pie": [
           {
            "automargin": true,
            "type": "pie"
           }
          ],
          "scatter": [
           {
            "fillpattern": {
             "fillmode": "overlay",
             "size": 10,
             "solidity": 0.2
            },
            "type": "scatter"
           }
          ],
          "scatter3d": [
           {
            "line": {
             "colorbar": {
              "outlinewidth": 0,
              "ticks": ""
             }
            },
            "marker": {
             "colorbar": {
              "outlinewidth": 0,
              "ticks": ""
             }
            },
            "type": "scatter3d"
           }
          ],
          "scattercarpet": [
           {
            "marker": {
             "colorbar": {
              "outlinewidth": 0,
              "ticks": ""
             }
            },
            "type": "scattercarpet"
           }
          ],
          "scattergeo": [
           {
            "marker": {
             "colorbar": {
              "outlinewidth": 0,
              "ticks": ""
             }
            },
            "type": "scattergeo"
           }
          ],
          "scattergl": [
           {
            "marker": {
             "colorbar": {
              "outlinewidth": 0,
              "ticks": ""
             }
            },
            "type": "scattergl"
           }
          ],
          "scattermapbox": [
           {
            "marker": {
             "colorbar": {
              "outlinewidth": 0,
              "ticks": ""
             }
            },
            "type": "scattermapbox"
           }
          ],
          "scatterpolar": [
           {
            "marker": {
             "colorbar": {
              "outlinewidth": 0,
              "ticks": ""
             }
            },
            "type": "scatterpolar"
           }
          ],
          "scatterpolargl": [
           {
            "marker": {
             "colorbar": {
              "outlinewidth": 0,
              "ticks": ""
             }
            },
            "type": "scatterpolargl"
           }
          ],
          "scatterternary": [
           {
            "marker": {
             "colorbar": {
              "outlinewidth": 0,
              "ticks": ""
             }
            },
            "type": "scatterternary"
           }
          ],
          "surface": [
           {
            "colorbar": {
             "outlinewidth": 0,
             "ticks": ""
            },
            "colorscale": [
             [
              0,
              "#0d0887"
             ],
             [
              0.1111111111111111,
              "#46039f"
             ],
             [
              0.2222222222222222,
              "#7201a8"
             ],
             [
              0.3333333333333333,
              "#9c179e"
             ],
             [
              0.4444444444444444,
              "#bd3786"
             ],
             [
              0.5555555555555556,
              "#d8576b"
             ],
             [
              0.6666666666666666,
              "#ed7953"
             ],
             [
              0.7777777777777778,
              "#fb9f3a"
             ],
             [
              0.8888888888888888,
              "#fdca26"
             ],
             [
              1,
              "#f0f921"
             ]
            ],
            "type": "surface"
           }
          ],
          "table": [
           {
            "cells": {
             "fill": {
              "color": "#EBF0F8"
             },
             "line": {
              "color": "white"
             }
            },
            "header": {
             "fill": {
              "color": "#C8D4E3"
             },
             "line": {
              "color": "white"
             }
            },
            "type": "table"
           }
          ]
         },
         "layout": {
          "annotationdefaults": {
           "arrowcolor": "#2a3f5f",
           "arrowhead": 0,
           "arrowwidth": 1
          },
          "autotypenumbers": "strict",
          "coloraxis": {
           "colorbar": {
            "outlinewidth": 0,
            "ticks": ""
           }
          },
          "colorscale": {
           "diverging": [
            [
             0,
             "#8e0152"
            ],
            [
             0.1,
             "#c51b7d"
            ],
            [
             0.2,
             "#de77ae"
            ],
            [
             0.3,
             "#f1b6da"
            ],
            [
             0.4,
             "#fde0ef"
            ],
            [
             0.5,
             "#f7f7f7"
            ],
            [
             0.6,
             "#e6f5d0"
            ],
            [
             0.7,
             "#b8e186"
            ],
            [
             0.8,
             "#7fbc41"
            ],
            [
             0.9,
             "#4d9221"
            ],
            [
             1,
             "#276419"
            ]
           ],
           "sequential": [
            [
             0,
             "#0d0887"
            ],
            [
             0.1111111111111111,
             "#46039f"
            ],
            [
             0.2222222222222222,
             "#7201a8"
            ],
            [
             0.3333333333333333,
             "#9c179e"
            ],
            [
             0.4444444444444444,
             "#bd3786"
            ],
            [
             0.5555555555555556,
             "#d8576b"
            ],
            [
             0.6666666666666666,
             "#ed7953"
            ],
            [
             0.7777777777777778,
             "#fb9f3a"
            ],
            [
             0.8888888888888888,
             "#fdca26"
            ],
            [
             1,
             "#f0f921"
            ]
           ],
           "sequentialminus": [
            [
             0,
             "#0d0887"
            ],
            [
             0.1111111111111111,
             "#46039f"
            ],
            [
             0.2222222222222222,
             "#7201a8"
            ],
            [
             0.3333333333333333,
             "#9c179e"
            ],
            [
             0.4444444444444444,
             "#bd3786"
            ],
            [
             0.5555555555555556,
             "#d8576b"
            ],
            [
             0.6666666666666666,
             "#ed7953"
            ],
            [
             0.7777777777777778,
             "#fb9f3a"
            ],
            [
             0.8888888888888888,
             "#fdca26"
            ],
            [
             1,
             "#f0f921"
            ]
           ]
          },
          "colorway": [
           "#636efa",
           "#EF553B",
           "#00cc96",
           "#ab63fa",
           "#FFA15A",
           "#19d3f3",
           "#FF6692",
           "#B6E880",
           "#FF97FF",
           "#FECB52"
          ],
          "font": {
           "color": "#2a3f5f"
          },
          "geo": {
           "bgcolor": "white",
           "lakecolor": "white",
           "landcolor": "#E5ECF6",
           "showlakes": true,
           "showland": true,
           "subunitcolor": "white"
          },
          "hoverlabel": {
           "align": "left"
          },
          "hovermode": "closest",
          "mapbox": {
           "style": "light"
          },
          "paper_bgcolor": "white",
          "plot_bgcolor": "#E5ECF6",
          "polar": {
           "angularaxis": {
            "gridcolor": "white",
            "linecolor": "white",
            "ticks": ""
           },
           "bgcolor": "#E5ECF6",
           "radialaxis": {
            "gridcolor": "white",
            "linecolor": "white",
            "ticks": ""
           }
          },
          "scene": {
           "xaxis": {
            "backgroundcolor": "#E5ECF6",
            "gridcolor": "white",
            "gridwidth": 2,
            "linecolor": "white",
            "showbackground": true,
            "ticks": "",
            "zerolinecolor": "white"
           },
           "yaxis": {
            "backgroundcolor": "#E5ECF6",
            "gridcolor": "white",
            "gridwidth": 2,
            "linecolor": "white",
            "showbackground": true,
            "ticks": "",
            "zerolinecolor": "white"
           },
           "zaxis": {
            "backgroundcolor": "#E5ECF6",
            "gridcolor": "white",
            "gridwidth": 2,
            "linecolor": "white",
            "showbackground": true,
            "ticks": "",
            "zerolinecolor": "white"
           }
          },
          "shapedefaults": {
           "line": {
            "color": "#2a3f5f"
           }
          },
          "ternary": {
           "aaxis": {
            "gridcolor": "white",
            "linecolor": "white",
            "ticks": ""
           },
           "baxis": {
            "gridcolor": "white",
            "linecolor": "white",
            "ticks": ""
           },
           "bgcolor": "#E5ECF6",
           "caxis": {
            "gridcolor": "white",
            "linecolor": "white",
            "ticks": ""
           }
          },
          "title": {
           "x": 0.05
          },
          "xaxis": {
           "automargin": true,
           "gridcolor": "white",
           "linecolor": "white",
           "ticks": "",
           "title": {
            "standoff": 15
           },
           "zerolinecolor": "white",
           "zerolinewidth": 2
          },
          "yaxis": {
           "automargin": true,
           "gridcolor": "white",
           "linecolor": "white",
           "ticks": "",
           "title": {
            "standoff": 15
           },
           "zerolinecolor": "white",
           "zerolinewidth": 2
          }
         }
        }
       }
      }
     },
     "metadata": {},
     "output_type": "display_data"
    }
   ],
   "source": [
    "dataframe = reference_based.join([y])\n",
    "correlation_matrix(dataframe)"
   ]
  },
  {
   "cell_type": "code",
   "execution_count": 19,
   "metadata": {},
   "outputs": [
    {
     "name": "stdout",
     "output_type": "stream",
     "text": [
      "Selected Feature Names: ['neurips']\n",
      "Accuracy: 50.19%\n",
      "Selected Feature Names: ['neurips', 'num_ref_3years']\n",
      "Accuracy: 55.51%\n",
      "Selected Feature Names: ['neurips', 'num_ref_3years', 'ijcai']\n",
      "Accuracy: 53.99%\n",
      "Selected Feature Names: ['neurips', 'num_ref_3years', 'ijcai', 'icra']\n",
      "Accuracy: 53.23%\n",
      "Selected Feature Names: ['neurips', 'num_ref_3years', 'ijcai', 'icra', 'emnlp']\n",
      "Accuracy: 55.13%\n",
      "Selected Feature Names: ['neurips', 'num_ref_3years', 'ijcai', 'icra', 'emnlp', 'iclr']\n",
      "Accuracy: 58.94%\n",
      "Selected Feature Names: ['neurips', 'num_ref_3years', 'ijcai', 'icra', 'emnlp', 'iclr', 'acl']\n",
      "Accuracy: 57.41%\n",
      "Selected Feature Names: ['neurips', 'num_ref_3years', 'ijcai', 'icra', 'emnlp', 'iclr', 'acl', 'icassp']\n",
      "Accuracy: 57.41%\n",
      "Selected Feature Names: ['neurips', 'num_ref_3years', 'ijcai', 'icra', 'emnlp', 'iclr', 'acl', 'icassp', 'arxiv']\n",
      "Accuracy: 58.17%\n",
      "Selected Feature Names: ['neurips', 'num_ref_3years', 'ijcai', 'icra', 'emnlp', 'iclr', 'acl', 'icassp', 'arxiv', 'ieee_tran']\n",
      "Accuracy: 52.85%\n",
      "Selected Feature Names: ['neurips', 'num_ref_3years', 'ijcai', 'icra', 'emnlp', 'iclr', 'acl', 'icassp', 'arxiv', 'ieee_tran', 'acm_tran']\n",
      "Accuracy: 55.51%\n",
      "Selected Feature Names: ['neurips', 'num_ref_3years', 'ijcai', 'icra', 'emnlp', 'iclr', 'acl', 'icassp', 'arxiv', 'ieee_tran', 'acm_tran', 'mit_press']\n",
      "Accuracy: 55.13%\n",
      "Selected Feature Names: ['neurips', 'num_ref_3years', 'ijcai', 'icra', 'emnlp', 'iclr', 'acl', 'icassp', 'arxiv', 'ieee_tran', 'acm_tran', 'mit_press', 'neuralcom']\n",
      "Accuracy: 50.57%\n",
      "Selected Feature Names: ['neurips', 'num_ref_3years', 'ijcai', 'icra', 'emnlp', 'iclr', 'acl', 'icassp', 'arxiv', 'ieee_tran', 'acm_tran', 'mit_press', 'neuralcom', 'aistats']\n",
      "Accuracy: 52.47%\n",
      "Selected Feature Names: ['neurips', 'num_ref_3years', 'ijcai', 'icra', 'emnlp', 'iclr', 'acl', 'icassp', 'arxiv', 'ieee_tran', 'acm_tran', 'mit_press', 'neuralcom', 'aistats', 'iccv']\n",
      "Accuracy: 55.13%\n",
      "Selected Feature Names: ['neurips', 'num_ref_3years', 'ijcai', 'icra', 'emnlp', 'iclr', 'acl', 'icassp', 'arxiv', 'ieee_tran', 'acm_tran', 'mit_press', 'neuralcom', 'aistats', 'iccv', 'sigkdd']\n",
      "Accuracy: 55.51%\n",
      "Selected Feature Names: ['neurips', 'num_ref_3years', 'ijcai', 'icra', 'emnlp', 'iclr', 'acl', 'icassp', 'arxiv', 'ieee_tran', 'acm_tran', 'mit_press', 'neuralcom', 'aistats', 'iccv', 'sigkdd', 'num_ref']\n",
      "Accuracy: 53.23%\n",
      "Selected Feature Names: ['neurips', 'num_ref_3years', 'ijcai', 'icra', 'emnlp', 'iclr', 'acl', 'icassp', 'arxiv', 'ieee_tran', 'acm_tran', 'mit_press', 'neuralcom', 'aistats', 'iccv', 'sigkdd', 'num_ref', 'icml']\n",
      "Accuracy: 56.27%\n",
      "Selected Feature Names: ['neurips', 'num_ref_3years', 'ijcai', 'icra', 'emnlp', 'iclr', 'acl', 'icassp', 'arxiv', 'ieee_tran', 'acm_tran', 'mit_press', 'neuralcom', 'aistats', 'iccv', 'sigkdd', 'num_ref', 'icml', 'nature']\n",
      "Accuracy: 52.47%\n",
      "Selected Feature Names: ['neurips', 'num_ref_3years', 'ijcai', 'icra', 'emnlp', 'iclr', 'acl', 'icassp', 'arxiv', 'ieee_tran', 'acm_tran', 'mit_press', 'neuralcom', 'aistats', 'iccv', 'sigkdd', 'num_ref', 'icml', 'nature', 'jmlr']\n",
      "Accuracy: 48.67%\n",
      "Selected Feature Names: ['neurips', 'num_ref_3years', 'ijcai', 'icra', 'emnlp', 'iclr', 'acl', 'icassp', 'arxiv', 'ieee_tran', 'acm_tran', 'mit_press', 'neuralcom', 'aistats', 'iccv', 'sigkdd', 'num_ref', 'icml', 'nature', 'jmlr', 'cvpr']\n",
      "Accuracy: 50.95%\n",
      "Selected Feature Names: ['neurips', 'num_ref_3years', 'ijcai', 'icra', 'emnlp', 'iclr', 'acl', 'icassp', 'arxiv', 'ieee_tran', 'acm_tran', 'mit_press', 'neuralcom', 'aistats', 'iccv', 'sigkdd', 'num_ref', 'icml', 'nature', 'jmlr', 'cvpr', 'naacl']\n",
      "Accuracy: 51.71%\n",
      "Selected Feature Names: ['neurips', 'num_ref_3years', 'ijcai', 'icra', 'emnlp', 'iclr', 'acl', 'icassp', 'arxiv', 'ieee_tran', 'acm_tran', 'mit_press', 'neuralcom', 'aistats', 'iccv', 'sigkdd', 'num_ref', 'icml', 'nature', 'jmlr', 'cvpr', 'naacl', 'eccv']\n",
      "Accuracy: 54.75%\n",
      "Selected Feature Names: ['neurips', 'num_ref_3years', 'ijcai', 'icra', 'emnlp', 'iclr', 'acl', 'icassp', 'arxiv', 'ieee_tran', 'acm_tran', 'mit_press', 'neuralcom', 'aistats', 'iccv', 'sigkdd', 'num_ref', 'icml', 'nature', 'jmlr', 'cvpr', 'naacl', 'eccv', 'aaai']\n",
      "Accuracy: 47.91%\n"
     ]
    }
   ],
   "source": [
    "for i in dict(enumerate(reference_based)):\n",
    "    accuracy = model(reference_based, y, i+1)\n",
    "    print(\"Accuracy: %.2f%%\" % (accuracy * 100.0))"
   ]
  },
  {
   "cell_type": "markdown",
   "metadata": {},
   "source": [
    "## Combination Predictor"
   ]
  },
  {
   "cell_type": "code",
   "execution_count": 20,
   "metadata": {},
   "outputs": [],
   "source": [
    "combination = citing_sentence.join([regular_sentences, reference_based])"
   ]
  },
  {
   "cell_type": "code",
   "execution_count": 21,
   "metadata": {},
   "outputs": [
    {
     "name": "stdout",
     "output_type": "stream",
     "text": [
      "Selected Feature Names: ['atr38']\n",
      "Accuracy: 51.71%\n",
      "Selected Feature Names: ['atr38', 'atr39']\n",
      "Accuracy: 52.47%\n",
      "Selected Feature Names: ['atr38', 'atr39', 'neurips']\n",
      "Accuracy: 49.81%\n",
      "Selected Feature Names: ['atr38', 'atr39', 'neurips', 'atr23']\n",
      "Accuracy: 50.19%\n",
      "Selected Feature Names: ['atr38', 'atr39', 'neurips', 'atr23', 'num_ref_3years']\n",
      "Accuracy: 56.27%\n",
      "Selected Feature Names: ['atr38', 'atr39', 'neurips', 'atr23', 'num_ref_3years', 'ijcai']\n",
      "Accuracy: 57.03%\n",
      "Selected Feature Names: ['atr38', 'atr39', 'neurips', 'atr23', 'num_ref_3years', 'ijcai', 'atr1']\n",
      "Accuracy: 54.75%\n",
      "Selected Feature Names: ['atr38', 'atr39', 'neurips', 'atr23', 'num_ref_3years', 'ijcai', 'atr1', 'atr26']\n",
      "Accuracy: 52.09%\n",
      "Selected Feature Names: ['atr38', 'atr39', 'neurips', 'atr23', 'num_ref_3years', 'ijcai', 'atr1', 'atr26', 'icra']\n",
      "Accuracy: 52.47%\n",
      "Selected Feature Names: ['atr38', 'atr39', 'neurips', 'atr23', 'num_ref_3years', 'ijcai', 'atr1', 'atr26', 'icra', 'emnlp']\n",
      "Accuracy: 52.85%\n",
      "Selected Feature Names: ['atr38', 'atr39', 'neurips', 'atr23', 'num_ref_3years', 'ijcai', 'atr1', 'atr26', 'icra', 'emnlp', 'iclr']\n",
      "Accuracy: 52.09%\n",
      "Selected Feature Names: ['atr38', 'atr39', 'neurips', 'atr23', 'num_ref_3years', 'ijcai', 'atr1', 'atr26', 'icra', 'emnlp', 'iclr', 'atr7']\n",
      "Accuracy: 51.33%\n",
      "Selected Feature Names: ['atr38', 'atr39', 'neurips', 'atr23', 'num_ref_3years', 'ijcai', 'atr1', 'atr26', 'icra', 'emnlp', 'iclr', 'atr7', 'atr19']\n",
      "Accuracy: 50.95%\n",
      "Selected Feature Names: ['atr38', 'atr39', 'neurips', 'atr23', 'num_ref_3years', 'ijcai', 'atr1', 'atr26', 'icra', 'emnlp', 'iclr', 'atr7', 'atr19', 'atr29']\n",
      "Accuracy: 53.99%\n",
      "Selected Feature Names: ['atr38', 'atr39', 'neurips', 'atr23', 'num_ref_3years', 'ijcai', 'atr1', 'atr26', 'icra', 'emnlp', 'iclr', 'atr7', 'atr19', 'atr29', 'acl']\n",
      "Accuracy: 55.13%\n",
      "Selected Feature Names: ['atr38', 'atr39', 'neurips', 'atr23', 'num_ref_3years', 'ijcai', 'atr1', 'atr26', 'icra', 'emnlp', 'iclr', 'atr7', 'atr19', 'atr29', 'acl', 'atr12']\n",
      "Accuracy: 51.33%\n",
      "Selected Feature Names: ['atr38', 'atr39', 'neurips', 'atr23', 'num_ref_3years', 'ijcai', 'atr1', 'atr26', 'icra', 'emnlp', 'iclr', 'atr7', 'atr19', 'atr29', 'acl', 'atr12', 'atr9']\n",
      "Accuracy: 53.99%\n",
      "Selected Feature Names: ['atr38', 'atr39', 'neurips', 'atr23', 'num_ref_3years', 'ijcai', 'atr1', 'atr26', 'icra', 'emnlp', 'iclr', 'atr7', 'atr19', 'atr29', 'acl', 'atr12', 'atr9', 'icassp']\n",
      "Accuracy: 53.61%\n",
      "Selected Feature Names: ['atr38', 'atr39', 'neurips', 'atr23', 'num_ref_3years', 'ijcai', 'atr1', 'atr26', 'icra', 'emnlp', 'iclr', 'atr7', 'atr19', 'atr29', 'acl', 'atr12', 'atr9', 'icassp', 'atr34']\n",
      "Accuracy: 55.89%\n",
      "Selected Feature Names: ['atr38', 'atr39', 'neurips', 'atr23', 'num_ref_3years', 'ijcai', 'atr1', 'atr26', 'icra', 'emnlp', 'iclr', 'atr7', 'atr19', 'atr29', 'acl', 'atr12', 'atr9', 'icassp', 'atr34', 'atr4']\n",
      "Accuracy: 55.13%\n",
      "Selected Feature Names: ['atr38', 'atr39', 'neurips', 'atr23', 'num_ref_3years', 'ijcai', 'atr1', 'atr26', 'icra', 'emnlp', 'iclr', 'atr7', 'atr19', 'atr29', 'acl', 'atr12', 'atr9', 'icassp', 'atr34', 'atr4', 'arxiv']\n",
      "Accuracy: 53.23%\n",
      "Selected Feature Names: ['atr38', 'atr39', 'neurips', 'atr23', 'num_ref_3years', 'ijcai', 'atr1', 'atr26', 'icra', 'emnlp', 'iclr', 'atr7', 'atr19', 'atr29', 'acl', 'atr12', 'atr9', 'icassp', 'atr34', 'atr4', 'arxiv', 'ieee_tran']\n",
      "Accuracy: 55.13%\n",
      "Selected Feature Names: ['atr38', 'atr39', 'neurips', 'atr23', 'num_ref_3years', 'ijcai', 'atr1', 'atr26', 'icra', 'emnlp', 'iclr', 'atr7', 'atr19', 'atr29', 'acl', 'atr12', 'atr9', 'icassp', 'atr34', 'atr4', 'arxiv', 'ieee_tran', 'atr20']\n",
      "Accuracy: 57.41%\n",
      "Selected Feature Names: ['atr38', 'atr39', 'neurips', 'atr23', 'num_ref_3years', 'ijcai', 'atr1', 'atr26', 'icra', 'emnlp', 'iclr', 'atr7', 'atr19', 'atr29', 'acl', 'atr12', 'atr9', 'icassp', 'atr34', 'atr4', 'arxiv', 'ieee_tran', 'atr20', 'atr18']\n",
      "Accuracy: 57.41%\n",
      "Selected Feature Names: ['atr38', 'atr39', 'neurips', 'atr23', 'num_ref_3years', 'ijcai', 'atr1', 'atr26', 'icra', 'emnlp', 'iclr', 'atr7', 'atr19', 'atr29', 'acl', 'atr12', 'atr9', 'icassp', 'atr34', 'atr4', 'arxiv', 'ieee_tran', 'atr20', 'atr18', 'acm_tran']\n",
      "Accuracy: 55.13%\n",
      "Selected Feature Names: ['atr38', 'atr39', 'neurips', 'atr23', 'num_ref_3years', 'ijcai', 'atr1', 'atr26', 'icra', 'emnlp', 'iclr', 'atr7', 'atr19', 'atr29', 'acl', 'atr12', 'atr9', 'icassp', 'atr34', 'atr4', 'arxiv', 'ieee_tran', 'atr20', 'atr18', 'acm_tran', 'atr13']\n",
      "Accuracy: 54.75%\n",
      "Selected Feature Names: ['atr38', 'atr39', 'neurips', 'atr23', 'num_ref_3years', 'ijcai', 'atr1', 'atr26', 'icra', 'emnlp', 'iclr', 'atr7', 'atr19', 'atr29', 'acl', 'atr12', 'atr9', 'icassp', 'atr34', 'atr4', 'arxiv', 'ieee_tran', 'atr20', 'atr18', 'acm_tran', 'atr13', 'atr25']\n",
      "Accuracy: 52.47%\n",
      "Selected Feature Names: ['atr38', 'atr39', 'neurips', 'atr23', 'num_ref_3years', 'ijcai', 'atr1', 'atr26', 'icra', 'emnlp', 'iclr', 'atr7', 'atr19', 'atr29', 'acl', 'atr12', 'atr9', 'icassp', 'atr34', 'atr4', 'arxiv', 'ieee_tran', 'atr20', 'atr18', 'acm_tran', 'atr13', 'atr25', 'atr14']\n",
      "Accuracy: 54.75%\n",
      "Selected Feature Names: ['atr38', 'atr39', 'neurips', 'atr23', 'num_ref_3years', 'ijcai', 'atr1', 'atr26', 'icra', 'emnlp', 'iclr', 'atr7', 'atr19', 'atr29', 'acl', 'atr12', 'atr9', 'icassp', 'atr34', 'atr4', 'arxiv', 'ieee_tran', 'atr20', 'atr18', 'acm_tran', 'atr13', 'atr25', 'atr14', 'atr28']\n",
      "Accuracy: 54.75%\n",
      "Selected Feature Names: ['atr38', 'atr39', 'neurips', 'atr23', 'num_ref_3years', 'ijcai', 'atr1', 'atr26', 'icra', 'emnlp', 'iclr', 'atr7', 'atr19', 'atr29', 'acl', 'atr12', 'atr9', 'icassp', 'atr34', 'atr4', 'arxiv', 'ieee_tran', 'atr20', 'atr18', 'acm_tran', 'atr13', 'atr25', 'atr14', 'atr28', 'atr21']\n",
      "Accuracy: 57.79%\n",
      "Selected Feature Names: ['atr38', 'atr39', 'neurips', 'atr23', 'num_ref_3years', 'ijcai', 'atr1', 'atr26', 'icra', 'emnlp', 'iclr', 'atr7', 'atr19', 'atr29', 'acl', 'atr12', 'atr9', 'icassp', 'atr34', 'atr4', 'arxiv', 'ieee_tran', 'atr20', 'atr18', 'acm_tran', 'atr13', 'atr25', 'atr14', 'atr28', 'atr21', 'atr36']\n",
      "Accuracy: 56.65%\n",
      "Selected Feature Names: ['atr38', 'atr39', 'neurips', 'atr23', 'num_ref_3years', 'ijcai', 'atr1', 'atr26', 'icra', 'emnlp', 'iclr', 'atr7', 'atr19', 'atr29', 'acl', 'atr12', 'atr9', 'icassp', 'atr34', 'atr4', 'arxiv', 'ieee_tran', 'atr20', 'atr18', 'acm_tran', 'atr13', 'atr25', 'atr14', 'atr28', 'atr21', 'atr36', 'atr8']\n",
      "Accuracy: 54.37%\n",
      "Selected Feature Names: ['atr38', 'atr39', 'neurips', 'atr23', 'num_ref_3years', 'ijcai', 'atr1', 'atr26', 'icra', 'emnlp', 'iclr', 'atr7', 'atr19', 'atr29', 'acl', 'atr12', 'atr9', 'icassp', 'atr34', 'atr4', 'arxiv', 'ieee_tran', 'atr20', 'atr18', 'acm_tran', 'atr13', 'atr25', 'atr14', 'atr28', 'atr21', 'atr36', 'atr8', 'atr3']\n",
      "Accuracy: 54.37%\n",
      "Selected Feature Names: ['atr38', 'atr39', 'neurips', 'atr23', 'num_ref_3years', 'ijcai', 'atr1', 'atr26', 'icra', 'emnlp', 'iclr', 'atr7', 'atr19', 'atr29', 'acl', 'atr12', 'atr9', 'icassp', 'atr34', 'atr4', 'arxiv', 'ieee_tran', 'atr20', 'atr18', 'acm_tran', 'atr13', 'atr25', 'atr14', 'atr28', 'atr21', 'atr36', 'atr8', 'atr3', 'mit_press']\n",
      "Accuracy: 53.61%\n",
      "Selected Feature Names: ['atr38', 'atr39', 'neurips', 'atr23', 'num_ref_3years', 'ijcai', 'atr1', 'atr26', 'icra', 'emnlp', 'iclr', 'atr7', 'atr19', 'atr29', 'acl', 'atr12', 'atr9', 'icassp', 'atr34', 'atr4', 'arxiv', 'ieee_tran', 'atr20', 'atr18', 'acm_tran', 'atr13', 'atr25', 'atr14', 'atr28', 'atr21', 'atr36', 'atr8', 'atr3', 'mit_press', 'atr11']\n",
      "Accuracy: 58.17%\n",
      "Selected Feature Names: ['atr38', 'atr39', 'neurips', 'atr23', 'num_ref_3years', 'ijcai', 'atr1', 'atr26', 'icra', 'emnlp', 'iclr', 'atr7', 'atr19', 'atr29', 'acl', 'atr12', 'atr9', 'icassp', 'atr34', 'atr4', 'arxiv', 'ieee_tran', 'atr20', 'atr18', 'acm_tran', 'atr13', 'atr25', 'atr14', 'atr28', 'atr21', 'atr36', 'atr8', 'atr3', 'mit_press', 'atr11', 'atr2']\n",
      "Accuracy: 55.89%\n",
      "Selected Feature Names: ['atr38', 'atr39', 'neurips', 'atr23', 'num_ref_3years', 'ijcai', 'atr1', 'atr26', 'icra', 'emnlp', 'iclr', 'atr7', 'atr19', 'atr29', 'acl', 'atr12', 'atr9', 'icassp', 'atr34', 'atr4', 'arxiv', 'ieee_tran', 'atr20', 'atr18', 'acm_tran', 'atr13', 'atr25', 'atr14', 'atr28', 'atr21', 'atr36', 'atr8', 'atr3', 'mit_press', 'atr11', 'atr2', 'atr35']\n",
      "Accuracy: 56.65%\n",
      "Selected Feature Names: ['atr38', 'atr39', 'neurips', 'atr23', 'num_ref_3years', 'ijcai', 'atr1', 'atr26', 'icra', 'emnlp', 'iclr', 'atr7', 'atr19', 'atr29', 'acl', 'atr12', 'atr9', 'icassp', 'atr34', 'atr4', 'arxiv', 'ieee_tran', 'atr20', 'atr18', 'acm_tran', 'atr13', 'atr25', 'atr14', 'atr28', 'atr21', 'atr36', 'atr8', 'atr3', 'mit_press', 'atr11', 'atr2', 'atr35', 'neuralcom']\n",
      "Accuracy: 54.75%\n",
      "Selected Feature Names: ['atr38', 'atr39', 'neurips', 'atr23', 'num_ref_3years', 'ijcai', 'atr1', 'atr26', 'icra', 'emnlp', 'iclr', 'atr7', 'atr19', 'atr29', 'acl', 'atr12', 'atr9', 'icassp', 'atr34', 'atr4', 'arxiv', 'ieee_tran', 'atr20', 'atr18', 'acm_tran', 'atr13', 'atr25', 'atr14', 'atr28', 'atr21', 'atr36', 'atr8', 'atr3', 'mit_press', 'atr11', 'atr2', 'atr35', 'neuralcom', 'atr30']\n",
      "Accuracy: 55.13%\n",
      "Selected Feature Names: ['atr38', 'atr39', 'neurips', 'atr23', 'num_ref_3years', 'ijcai', 'atr1', 'atr26', 'icra', 'emnlp', 'iclr', 'atr7', 'atr19', 'atr29', 'acl', 'atr12', 'atr9', 'icassp', 'atr34', 'atr4', 'arxiv', 'ieee_tran', 'atr20', 'atr18', 'acm_tran', 'atr13', 'atr25', 'atr14', 'atr28', 'atr21', 'atr36', 'atr8', 'atr3', 'mit_press', 'atr11', 'atr2', 'atr35', 'neuralcom', 'atr30', 'atr10']\n",
      "Accuracy: 56.65%\n",
      "Selected Feature Names: ['atr38', 'atr39', 'neurips', 'atr23', 'num_ref_3years', 'ijcai', 'atr1', 'atr26', 'icra', 'emnlp', 'iclr', 'atr7', 'atr19', 'atr29', 'acl', 'atr12', 'atr9', 'icassp', 'atr34', 'atr4', 'arxiv', 'ieee_tran', 'atr20', 'atr18', 'acm_tran', 'atr13', 'atr25', 'atr14', 'atr28', 'atr21', 'atr36', 'atr8', 'atr3', 'mit_press', 'atr11', 'atr2', 'atr35', 'neuralcom', 'atr30', 'atr10', 'aistats']\n",
      "Accuracy: 61.22%\n",
      "Selected Feature Names: ['atr38', 'atr39', 'neurips', 'atr23', 'num_ref_3years', 'ijcai', 'atr1', 'atr26', 'icra', 'emnlp', 'iclr', 'atr7', 'atr19', 'atr29', 'acl', 'atr12', 'atr9', 'icassp', 'atr34', 'atr4', 'arxiv', 'ieee_tran', 'atr20', 'atr18', 'acm_tran', 'atr13', 'atr25', 'atr14', 'atr28', 'atr21', 'atr36', 'atr8', 'atr3', 'mit_press', 'atr11', 'atr2', 'atr35', 'neuralcom', 'atr30', 'atr10', 'aistats', 'atr6']\n",
      "Accuracy: 55.89%\n",
      "Selected Feature Names: ['atr38', 'atr39', 'neurips', 'atr23', 'num_ref_3years', 'ijcai', 'atr1', 'atr26', 'icra', 'emnlp', 'iclr', 'atr7', 'atr19', 'atr29', 'acl', 'atr12', 'atr9', 'icassp', 'atr34', 'atr4', 'arxiv', 'ieee_tran', 'atr20', 'atr18', 'acm_tran', 'atr13', 'atr25', 'atr14', 'atr28', 'atr21', 'atr36', 'atr8', 'atr3', 'mit_press', 'atr11', 'atr2', 'atr35', 'neuralcom', 'atr30', 'atr10', 'aistats', 'atr6', 'iccv']\n",
      "Accuracy: 55.89%\n",
      "Selected Feature Names: ['atr38', 'atr39', 'neurips', 'atr23', 'num_ref_3years', 'ijcai', 'atr1', 'atr26', 'icra', 'emnlp', 'iclr', 'atr7', 'atr19', 'atr29', 'acl', 'atr12', 'atr9', 'icassp', 'atr34', 'atr4', 'arxiv', 'ieee_tran', 'atr20', 'atr18', 'acm_tran', 'atr13', 'atr25', 'atr14', 'atr28', 'atr21', 'atr36', 'atr8', 'atr3', 'mit_press', 'atr11', 'atr2', 'atr35', 'neuralcom', 'atr30', 'atr10', 'aistats', 'atr6', 'iccv', 'sigkdd']\n",
      "Accuracy: 59.70%\n",
      "Selected Feature Names: ['atr38', 'atr39', 'neurips', 'atr23', 'num_ref_3years', 'ijcai', 'atr1', 'atr26', 'icra', 'emnlp', 'iclr', 'atr7', 'atr19', 'atr29', 'acl', 'atr12', 'atr9', 'icassp', 'atr34', 'atr4', 'arxiv', 'ieee_tran', 'atr20', 'atr18', 'acm_tran', 'atr13', 'atr25', 'atr14', 'atr28', 'atr21', 'atr36', 'atr8', 'atr3', 'mit_press', 'atr11', 'atr2', 'atr35', 'neuralcom', 'atr30', 'atr10', 'aistats', 'atr6', 'iccv', 'sigkdd', 'atr15']\n",
      "Accuracy: 56.65%\n",
      "Selected Feature Names: ['atr38', 'atr39', 'neurips', 'atr23', 'num_ref_3years', 'ijcai', 'atr1', 'atr26', 'icra', 'emnlp', 'iclr', 'atr7', 'atr19', 'atr29', 'acl', 'atr12', 'atr9', 'icassp', 'atr34', 'atr4', 'arxiv', 'ieee_tran', 'atr20', 'atr18', 'acm_tran', 'atr13', 'atr25', 'atr14', 'atr28', 'atr21', 'atr36', 'atr8', 'atr3', 'mit_press', 'atr11', 'atr2', 'atr35', 'neuralcom', 'atr30', 'atr10', 'aistats', 'atr6', 'iccv', 'sigkdd', 'atr15', 'atr37']\n",
      "Accuracy: 55.89%\n",
      "Selected Feature Names: ['atr38', 'atr39', 'neurips', 'atr23', 'num_ref_3years', 'ijcai', 'atr1', 'atr26', 'icra', 'emnlp', 'iclr', 'atr7', 'atr19', 'atr29', 'acl', 'atr12', 'atr9', 'icassp', 'atr34', 'atr4', 'arxiv', 'ieee_tran', 'atr20', 'atr18', 'acm_tran', 'atr13', 'atr25', 'atr14', 'atr28', 'atr21', 'atr36', 'atr8', 'atr3', 'mit_press', 'atr11', 'atr2', 'atr35', 'neuralcom', 'atr30', 'atr10', 'aistats', 'atr6', 'iccv', 'sigkdd', 'atr15', 'atr37', 'atr17']\n",
      "Accuracy: 54.37%\n",
      "Selected Feature Names: ['atr38', 'atr39', 'neurips', 'atr23', 'num_ref_3years', 'ijcai', 'atr1', 'atr26', 'icra', 'emnlp', 'iclr', 'atr7', 'atr19', 'atr29', 'acl', 'atr12', 'atr9', 'icassp', 'atr34', 'atr4', 'arxiv', 'ieee_tran', 'atr20', 'atr18', 'acm_tran', 'atr13', 'atr25', 'atr14', 'atr28', 'atr21', 'atr36', 'atr8', 'atr3', 'mit_press', 'atr11', 'atr2', 'atr35', 'neuralcom', 'atr30', 'atr10', 'aistats', 'atr6', 'iccv', 'sigkdd', 'atr15', 'atr37', 'atr17', 'num_ref']\n",
      "Accuracy: 59.32%\n",
      "Selected Feature Names: ['atr38', 'atr39', 'neurips', 'atr23', 'num_ref_3years', 'ijcai', 'atr1', 'atr26', 'icra', 'emnlp', 'iclr', 'atr7', 'atr19', 'atr29', 'acl', 'atr12', 'atr9', 'icassp', 'atr34', 'atr4', 'arxiv', 'ieee_tran', 'atr20', 'atr18', 'acm_tran', 'atr13', 'atr25', 'atr14', 'atr28', 'atr21', 'atr36', 'atr8', 'atr3', 'mit_press', 'atr11', 'atr2', 'atr35', 'neuralcom', 'atr30', 'atr10', 'aistats', 'atr6', 'iccv', 'sigkdd', 'atr15', 'atr37', 'atr17', 'num_ref', 'icml']\n",
      "Accuracy: 59.70%\n",
      "Selected Feature Names: ['atr38', 'atr39', 'neurips', 'atr23', 'num_ref_3years', 'ijcai', 'atr1', 'atr26', 'icra', 'emnlp', 'iclr', 'atr7', 'atr19', 'atr29', 'acl', 'atr12', 'atr9', 'icassp', 'atr34', 'atr4', 'arxiv', 'ieee_tran', 'atr20', 'atr18', 'acm_tran', 'atr13', 'atr25', 'atr14', 'atr28', 'atr21', 'atr36', 'atr8', 'atr3', 'mit_press', 'atr11', 'atr2', 'atr35', 'neuralcom', 'atr30', 'atr10', 'aistats', 'atr6', 'iccv', 'sigkdd', 'atr15', 'atr37', 'atr17', 'num_ref', 'icml', 'nature']\n",
      "Accuracy: 55.13%\n",
      "Selected Feature Names: ['atr38', 'atr39', 'neurips', 'atr23', 'num_ref_3years', 'ijcai', 'atr1', 'atr26', 'icra', 'emnlp', 'iclr', 'atr7', 'atr19', 'atr29', 'acl', 'atr12', 'atr9', 'icassp', 'atr34', 'atr4', 'arxiv', 'ieee_tran', 'atr20', 'atr18', 'acm_tran', 'atr13', 'atr25', 'atr14', 'atr28', 'atr21', 'atr36', 'atr8', 'atr3', 'mit_press', 'atr11', 'atr2', 'atr35', 'neuralcom', 'atr30', 'atr10', 'aistats', 'atr6', 'iccv', 'sigkdd', 'atr15', 'atr37', 'atr17', 'num_ref', 'icml', 'nature', 'atr16']\n",
      "Accuracy: 53.61%\n",
      "Selected Feature Names: ['atr38', 'atr39', 'neurips', 'atr23', 'num_ref_3years', 'ijcai', 'atr1', 'atr26', 'icra', 'emnlp', 'iclr', 'atr7', 'atr19', 'atr29', 'acl', 'atr12', 'atr9', 'icassp', 'atr34', 'atr4', 'arxiv', 'ieee_tran', 'atr20', 'atr18', 'acm_tran', 'atr13', 'atr25', 'atr14', 'atr28', 'atr21', 'atr36', 'atr8', 'atr3', 'mit_press', 'atr11', 'atr2', 'atr35', 'neuralcom', 'atr30', 'atr10', 'aistats', 'atr6', 'iccv', 'sigkdd', 'atr15', 'atr37', 'atr17', 'num_ref', 'icml', 'nature', 'atr16', 'atr31']\n",
      "Accuracy: 52.85%\n",
      "Selected Feature Names: ['atr38', 'atr39', 'neurips', 'atr23', 'num_ref_3years', 'ijcai', 'atr1', 'atr26', 'icra', 'emnlp', 'iclr', 'atr7', 'atr19', 'atr29', 'acl', 'atr12', 'atr9', 'icassp', 'atr34', 'atr4', 'arxiv', 'ieee_tran', 'atr20', 'atr18', 'acm_tran', 'atr13', 'atr25', 'atr14', 'atr28', 'atr21', 'atr36', 'atr8', 'atr3', 'mit_press', 'atr11', 'atr2', 'atr35', 'neuralcom', 'atr30', 'atr10', 'aistats', 'atr6', 'iccv', 'sigkdd', 'atr15', 'atr37', 'atr17', 'num_ref', 'icml', 'nature', 'atr16', 'atr31', 'atr27']\n",
      "Accuracy: 53.99%\n",
      "Selected Feature Names: ['atr38', 'atr39', 'neurips', 'atr23', 'num_ref_3years', 'ijcai', 'atr1', 'atr26', 'icra', 'emnlp', 'iclr', 'atr7', 'atr19', 'atr29', 'acl', 'atr12', 'atr9', 'icassp', 'atr34', 'atr4', 'arxiv', 'ieee_tran', 'atr20', 'atr18', 'acm_tran', 'atr13', 'atr25', 'atr14', 'atr28', 'atr21', 'atr36', 'atr8', 'atr3', 'mit_press', 'atr11', 'atr2', 'atr35', 'neuralcom', 'atr30', 'atr10', 'aistats', 'atr6', 'iccv', 'sigkdd', 'atr15', 'atr37', 'atr17', 'num_ref', 'icml', 'nature', 'atr16', 'atr31', 'atr27', 'jmlr']\n",
      "Accuracy: 54.75%\n",
      "Selected Feature Names: ['atr38', 'atr39', 'neurips', 'atr23', 'num_ref_3years', 'ijcai', 'atr1', 'atr26', 'icra', 'emnlp', 'iclr', 'atr7', 'atr19', 'atr29', 'acl', 'atr12', 'atr9', 'icassp', 'atr34', 'atr4', 'arxiv', 'ieee_tran', 'atr20', 'atr18', 'acm_tran', 'atr13', 'atr25', 'atr14', 'atr28', 'atr21', 'atr36', 'atr8', 'atr3', 'mit_press', 'atr11', 'atr2', 'atr35', 'neuralcom', 'atr30', 'atr10', 'aistats', 'atr6', 'iccv', 'sigkdd', 'atr15', 'atr37', 'atr17', 'num_ref', 'icml', 'nature', 'atr16', 'atr31', 'atr27', 'jmlr', 'atr5']\n",
      "Accuracy: 55.89%\n",
      "Selected Feature Names: ['atr38', 'atr39', 'neurips', 'atr23', 'num_ref_3years', 'ijcai', 'atr1', 'atr26', 'icra', 'emnlp', 'iclr', 'atr7', 'atr19', 'atr29', 'acl', 'atr12', 'atr9', 'icassp', 'atr34', 'atr4', 'arxiv', 'ieee_tran', 'atr20', 'atr18', 'acm_tran', 'atr13', 'atr25', 'atr14', 'atr28', 'atr21', 'atr36', 'atr8', 'atr3', 'mit_press', 'atr11', 'atr2', 'atr35', 'neuralcom', 'atr30', 'atr10', 'aistats', 'atr6', 'iccv', 'sigkdd', 'atr15', 'atr37', 'atr17', 'num_ref', 'icml', 'nature', 'atr16', 'atr31', 'atr27', 'jmlr', 'atr5', 'cvpr']\n",
      "Accuracy: 60.08%\n",
      "Selected Feature Names: ['atr38', 'atr39', 'neurips', 'atr23', 'num_ref_3years', 'ijcai', 'atr1', 'atr26', 'icra', 'emnlp', 'iclr', 'atr7', 'atr19', 'atr29', 'acl', 'atr12', 'atr9', 'icassp', 'atr34', 'atr4', 'arxiv', 'ieee_tran', 'atr20', 'atr18', 'acm_tran', 'atr13', 'atr25', 'atr14', 'atr28', 'atr21', 'atr36', 'atr8', 'atr3', 'mit_press', 'atr11', 'atr2', 'atr35', 'neuralcom', 'atr30', 'atr10', 'aistats', 'atr6', 'iccv', 'sigkdd', 'atr15', 'atr37', 'atr17', 'num_ref', 'icml', 'nature', 'atr16', 'atr31', 'atr27', 'jmlr', 'atr5', 'cvpr', 'naacl']\n",
      "Accuracy: 55.13%\n",
      "Selected Feature Names: ['atr38', 'atr39', 'neurips', 'atr23', 'num_ref_3years', 'ijcai', 'atr1', 'atr26', 'icra', 'emnlp', 'iclr', 'atr7', 'atr19', 'atr29', 'acl', 'atr12', 'atr9', 'icassp', 'atr34', 'atr4', 'arxiv', 'ieee_tran', 'atr20', 'atr18', 'acm_tran', 'atr13', 'atr25', 'atr14', 'atr28', 'atr21', 'atr36', 'atr8', 'atr3', 'mit_press', 'atr11', 'atr2', 'atr35', 'neuralcom', 'atr30', 'atr10', 'aistats', 'atr6', 'iccv', 'sigkdd', 'atr15', 'atr37', 'atr17', 'num_ref', 'icml', 'nature', 'atr16', 'atr31', 'atr27', 'jmlr', 'atr5', 'cvpr', 'naacl', 'atr22']\n",
      "Accuracy: 55.89%\n",
      "Selected Feature Names: ['atr38', 'atr39', 'neurips', 'atr23', 'num_ref_3years', 'ijcai', 'atr1', 'atr26', 'icra', 'emnlp', 'iclr', 'atr7', 'atr19', 'atr29', 'acl', 'atr12', 'atr9', 'icassp', 'atr34', 'atr4', 'arxiv', 'ieee_tran', 'atr20', 'atr18', 'acm_tran', 'atr13', 'atr25', 'atr14', 'atr28', 'atr21', 'atr36', 'atr8', 'atr3', 'mit_press', 'atr11', 'atr2', 'atr35', 'neuralcom', 'atr30', 'atr10', 'aistats', 'atr6', 'iccv', 'sigkdd', 'atr15', 'atr37', 'atr17', 'num_ref', 'icml', 'nature', 'atr16', 'atr31', 'atr27', 'jmlr', 'atr5', 'cvpr', 'naacl', 'atr22', 'atr33']\n",
      "Accuracy: 56.65%\n",
      "Selected Feature Names: ['atr38', 'atr39', 'neurips', 'atr23', 'num_ref_3years', 'ijcai', 'atr1', 'atr26', 'icra', 'emnlp', 'iclr', 'atr7', 'atr19', 'atr29', 'acl', 'atr12', 'atr9', 'icassp', 'atr34', 'atr4', 'arxiv', 'ieee_tran', 'atr20', 'atr18', 'acm_tran', 'atr13', 'atr25', 'atr14', 'atr28', 'atr21', 'atr36', 'atr8', 'atr3', 'mit_press', 'atr11', 'atr2', 'atr35', 'neuralcom', 'atr30', 'atr10', 'aistats', 'atr6', 'iccv', 'sigkdd', 'atr15', 'atr37', 'atr17', 'num_ref', 'icml', 'nature', 'atr16', 'atr31', 'atr27', 'jmlr', 'atr5', 'cvpr', 'naacl', 'atr22', 'atr33', 'eccv']\n",
      "Accuracy: 58.56%\n",
      "Selected Feature Names: ['atr38', 'atr39', 'neurips', 'atr23', 'num_ref_3years', 'ijcai', 'atr1', 'atr26', 'icra', 'emnlp', 'iclr', 'atr7', 'atr19', 'atr29', 'acl', 'atr12', 'atr9', 'icassp', 'atr34', 'atr4', 'arxiv', 'ieee_tran', 'atr20', 'atr18', 'acm_tran', 'atr13', 'atr25', 'atr14', 'atr28', 'atr21', 'atr36', 'atr8', 'atr3', 'mit_press', 'atr11', 'atr2', 'atr35', 'neuralcom', 'atr30', 'atr10', 'aistats', 'atr6', 'iccv', 'sigkdd', 'atr15', 'atr37', 'atr17', 'num_ref', 'icml', 'nature', 'atr16', 'atr31', 'atr27', 'jmlr', 'atr5', 'cvpr', 'naacl', 'atr22', 'atr33', 'eccv', 'atr32']\n",
      "Accuracy: 57.41%\n",
      "Selected Feature Names: ['atr38', 'atr39', 'neurips', 'atr23', 'num_ref_3years', 'ijcai', 'atr1', 'atr26', 'icra', 'emnlp', 'iclr', 'atr7', 'atr19', 'atr29', 'acl', 'atr12', 'atr9', 'icassp', 'atr34', 'atr4', 'arxiv', 'ieee_tran', 'atr20', 'atr18', 'acm_tran', 'atr13', 'atr25', 'atr14', 'atr28', 'atr21', 'atr36', 'atr8', 'atr3', 'mit_press', 'atr11', 'atr2', 'atr35', 'neuralcom', 'atr30', 'atr10', 'aistats', 'atr6', 'iccv', 'sigkdd', 'atr15', 'atr37', 'atr17', 'num_ref', 'icml', 'nature', 'atr16', 'atr31', 'atr27', 'jmlr', 'atr5', 'cvpr', 'naacl', 'atr22', 'atr33', 'eccv', 'atr32', 'aaai']\n",
      "Accuracy: 53.23%\n",
      "Selected Feature Names: ['atr38', 'atr39', 'neurips', 'atr23', 'num_ref_3years', 'ijcai', 'atr1', 'atr26', 'icra', 'emnlp', 'iclr', 'atr7', 'atr19', 'atr29', 'acl', 'atr12', 'atr9', 'icassp', 'atr34', 'atr4', 'arxiv', 'ieee_tran', 'atr20', 'atr18', 'acm_tran', 'atr13', 'atr25', 'atr14', 'atr28', 'atr21', 'atr36', 'atr8', 'atr3', 'mit_press', 'atr11', 'atr2', 'atr35', 'neuralcom', 'atr30', 'atr10', 'aistats', 'atr6', 'iccv', 'sigkdd', 'atr15', 'atr37', 'atr17', 'num_ref', 'icml', 'nature', 'atr16', 'atr31', 'atr27', 'jmlr', 'atr5', 'cvpr', 'naacl', 'atr22', 'atr33', 'eccv', 'atr32', 'aaai', 'atr0']\n",
      "Accuracy: 56.65%\n",
      "Selected Feature Names: ['atr38', 'atr39', 'neurips', 'atr23', 'num_ref_3years', 'ijcai', 'atr1', 'atr26', 'icra', 'emnlp', 'iclr', 'atr7', 'atr19', 'atr29', 'acl', 'atr12', 'atr9', 'icassp', 'atr34', 'atr4', 'arxiv', 'ieee_tran', 'atr20', 'atr18', 'acm_tran', 'atr13', 'atr25', 'atr14', 'atr28', 'atr21', 'atr36', 'atr8', 'atr3', 'mit_press', 'atr11', 'atr2', 'atr35', 'neuralcom', 'atr30', 'atr10', 'aistats', 'atr6', 'iccv', 'sigkdd', 'atr15', 'atr37', 'atr17', 'num_ref', 'icml', 'nature', 'atr16', 'atr31', 'atr27', 'jmlr', 'atr5', 'cvpr', 'naacl', 'atr22', 'atr33', 'eccv', 'atr32', 'aaai', 'atr0', 'atr24']\n",
      "Accuracy: 56.65%\n"
     ]
    }
   ],
   "source": [
    "for i in dict(enumerate(combination)):\n",
    "    accuracy = model(combination, y, i+1)\n",
    "    print(\"Accuracy: %.2f%%\" % (accuracy * 100.0))"
   ]
  },
  {
   "cell_type": "code",
   "execution_count": 22,
   "metadata": {},
   "outputs": [],
   "source": [
    "test.to_excel('clarity.xlsx', index=False)"
   ]
  }
 ],
 "metadata": {
  "kernelspec": {
   "display_name": "Python 3",
   "language": "python",
   "name": "python3"
  },
  "language_info": {
   "codemirror_mode": {
    "name": "ipython",
    "version": 3
   },
   "file_extension": ".py",
   "mimetype": "text/x-python",
   "name": "python",
   "nbconvert_exporter": "python",
   "pygments_lexer": "ipython3",
   "version": "3.10.9"
  }
 },
 "nbformat": 4,
 "nbformat_minor": 2
}
