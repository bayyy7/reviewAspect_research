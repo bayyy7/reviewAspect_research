{
 "cells": [
  {
   "cell_type": "code",
   "execution_count": 1,
   "metadata": {},
   "outputs": [
    {
     "data": {
      "text/html": [
       "<div>\n",
       "<style scoped>\n",
       "    .dataframe tbody tr th:only-of-type {\n",
       "        vertical-align: middle;\n",
       "    }\n",
       "\n",
       "    .dataframe tbody tr th {\n",
       "        vertical-align: top;\n",
       "    }\n",
       "\n",
       "    .dataframe thead th {\n",
       "        text-align: right;\n",
       "    }\n",
       "</style>\n",
       "<table border=\"1\" class=\"dataframe\">\n",
       "  <thead>\n",
       "    <tr style=\"text-align: right;\">\n",
       "      <th></th>\n",
       "      <th>motivation</th>\n",
       "      <th>year</th>\n",
       "      <th>title</th>\n",
       "      <th>num_ref</th>\n",
       "      <th>num_ref_3years</th>\n",
       "      <th>arxiv</th>\n",
       "      <th>neurips</th>\n",
       "      <th>iclr</th>\n",
       "      <th>icml</th>\n",
       "      <th>aaai</th>\n",
       "      <th>...</th>\n",
       "      <th>atr37</th>\n",
       "      <th>atr38</th>\n",
       "      <th>atr39</th>\n",
       "      <th>citation_count</th>\n",
       "      <th>citedIn2018</th>\n",
       "      <th>citedIn2019</th>\n",
       "      <th>citedIn2020</th>\n",
       "      <th>citedIn2021</th>\n",
       "      <th>citedIn2022</th>\n",
       "      <th>citedIn2023</th>\n",
       "    </tr>\n",
       "  </thead>\n",
       "  <tbody>\n",
       "    <tr>\n",
       "      <th>0</th>\n",
       "      <td>1</td>\n",
       "      <td>2018</td>\n",
       "      <td>A PAC-Bayesian Approach to Spectrally-Normaliz...</td>\n",
       "      <td>19</td>\n",
       "      <td>7</td>\n",
       "      <td>6</td>\n",
       "      <td>1</td>\n",
       "      <td>4</td>\n",
       "      <td>0</td>\n",
       "      <td>0</td>\n",
       "      <td>...</td>\n",
       "      <td>1</td>\n",
       "      <td>59</td>\n",
       "      <td>108</td>\n",
       "      <td>444</td>\n",
       "      <td>65.0</td>\n",
       "      <td>107.0</td>\n",
       "      <td>96.0</td>\n",
       "      <td>83.0</td>\n",
       "      <td>84.0</td>\n",
       "      <td>32.0</td>\n",
       "    </tr>\n",
       "    <tr>\n",
       "      <th>1</th>\n",
       "      <td>1</td>\n",
       "      <td>2019</td>\n",
       "      <td>Unsupervised Speech Recognition via Segmental ...</td>\n",
       "      <td>42</td>\n",
       "      <td>10</td>\n",
       "      <td>6</td>\n",
       "      <td>2</td>\n",
       "      <td>1</td>\n",
       "      <td>1</td>\n",
       "      <td>0</td>\n",
       "      <td>...</td>\n",
       "      <td>8</td>\n",
       "      <td>42</td>\n",
       "      <td>161</td>\n",
       "      <td>31</td>\n",
       "      <td>0.0</td>\n",
       "      <td>6.0</td>\n",
       "      <td>6.0</td>\n",
       "      <td>6.0</td>\n",
       "      <td>14.0</td>\n",
       "      <td>0.0</td>\n",
       "    </tr>\n",
       "    <tr>\n",
       "      <th>2</th>\n",
       "      <td>1</td>\n",
       "      <td>2017</td>\n",
       "      <td>Unsupervised Cross-Domain Image Generation</td>\n",
       "      <td>27</td>\n",
       "      <td>15</td>\n",
       "      <td>6</td>\n",
       "      <td>1</td>\n",
       "      <td>3</td>\n",
       "      <td>2</td>\n",
       "      <td>0</td>\n",
       "      <td>...</td>\n",
       "      <td>6</td>\n",
       "      <td>45</td>\n",
       "      <td>154</td>\n",
       "      <td>16</td>\n",
       "      <td>162.0</td>\n",
       "      <td>197.0</td>\n",
       "      <td>164.0</td>\n",
       "      <td>118.0</td>\n",
       "      <td>87.0</td>\n",
       "      <td>18.0</td>\n",
       "    </tr>\n",
       "    <tr>\n",
       "      <th>3</th>\n",
       "      <td>1</td>\n",
       "      <td>2017</td>\n",
       "      <td>Entropy-SGD: Biasing Gradient Descent Into Wid...</td>\n",
       "      <td>62</td>\n",
       "      <td>31</td>\n",
       "      <td>0</td>\n",
       "      <td>2</td>\n",
       "      <td>6</td>\n",
       "      <td>4</td>\n",
       "      <td>0</td>\n",
       "      <td>...</td>\n",
       "      <td>3</td>\n",
       "      <td>65</td>\n",
       "      <td>209</td>\n",
       "      <td>561</td>\n",
       "      <td>94.0</td>\n",
       "      <td>116.0</td>\n",
       "      <td>119.0</td>\n",
       "      <td>91.0</td>\n",
       "      <td>95.0</td>\n",
       "      <td>39.0</td>\n",
       "    </tr>\n",
       "    <tr>\n",
       "      <th>4</th>\n",
       "      <td>1</td>\n",
       "      <td>2019</td>\n",
       "      <td>TimbreTron: A WaveNet(CycleGAN(CQT(Audio))) Pi...</td>\n",
       "      <td>42</td>\n",
       "      <td>20</td>\n",
       "      <td>14</td>\n",
       "      <td>0</td>\n",
       "      <td>1</td>\n",
       "      <td>0</td>\n",
       "      <td>0</td>\n",
       "      <td>...</td>\n",
       "      <td>1</td>\n",
       "      <td>48</td>\n",
       "      <td>182</td>\n",
       "      <td>87</td>\n",
       "      <td>0.0</td>\n",
       "      <td>9.0</td>\n",
       "      <td>20.0</td>\n",
       "      <td>16.0</td>\n",
       "      <td>13.0</td>\n",
       "      <td>5.0</td>\n",
       "    </tr>\n",
       "    <tr>\n",
       "      <th>...</th>\n",
       "      <td>...</td>\n",
       "      <td>...</td>\n",
       "      <td>...</td>\n",
       "      <td>...</td>\n",
       "      <td>...</td>\n",
       "      <td>...</td>\n",
       "      <td>...</td>\n",
       "      <td>...</td>\n",
       "      <td>...</td>\n",
       "      <td>...</td>\n",
       "      <td>...</td>\n",
       "      <td>...</td>\n",
       "      <td>...</td>\n",
       "      <td>...</td>\n",
       "      <td>...</td>\n",
       "      <td>...</td>\n",
       "      <td>...</td>\n",
       "      <td>...</td>\n",
       "      <td>...</td>\n",
       "      <td>...</td>\n",
       "      <td>...</td>\n",
       "    </tr>\n",
       "    <tr>\n",
       "      <th>2107</th>\n",
       "      <td>1</td>\n",
       "      <td>2020</td>\n",
       "      <td>Neural Module Networks for Reasoning over Text</td>\n",
       "      <td>29</td>\n",
       "      <td>13</td>\n",
       "      <td>2</td>\n",
       "      <td>2</td>\n",
       "      <td>0</td>\n",
       "      <td>1</td>\n",
       "      <td>0</td>\n",
       "      <td>...</td>\n",
       "      <td>1</td>\n",
       "      <td>77</td>\n",
       "      <td>215</td>\n",
       "      <td>94</td>\n",
       "      <td>0.0</td>\n",
       "      <td>0.0</td>\n",
       "      <td>26.0</td>\n",
       "      <td>31.0</td>\n",
       "      <td>39.0</td>\n",
       "      <td>8.0</td>\n",
       "    </tr>\n",
       "    <tr>\n",
       "      <th>2108</th>\n",
       "      <td>1</td>\n",
       "      <td>2018</td>\n",
       "      <td>NerveNet: Learning Structured Policy with Grap...</td>\n",
       "      <td>54</td>\n",
       "      <td>27</td>\n",
       "      <td>18</td>\n",
       "      <td>1</td>\n",
       "      <td>7</td>\n",
       "      <td>4</td>\n",
       "      <td>0</td>\n",
       "      <td>...</td>\n",
       "      <td>2</td>\n",
       "      <td>65</td>\n",
       "      <td>276</td>\n",
       "      <td>190</td>\n",
       "      <td>14.0</td>\n",
       "      <td>44.0</td>\n",
       "      <td>42.0</td>\n",
       "      <td>44.0</td>\n",
       "      <td>50.0</td>\n",
       "      <td>11.0</td>\n",
       "    </tr>\n",
       "    <tr>\n",
       "      <th>2109</th>\n",
       "      <td>1</td>\n",
       "      <td>2017</td>\n",
       "      <td>Deep Variational Bayes Filters: Unsupervised L...</td>\n",
       "      <td>24</td>\n",
       "      <td>8</td>\n",
       "      <td>7</td>\n",
       "      <td>0</td>\n",
       "      <td>1</td>\n",
       "      <td>2</td>\n",
       "      <td>0</td>\n",
       "      <td>...</td>\n",
       "      <td>2</td>\n",
       "      <td>44</td>\n",
       "      <td>123</td>\n",
       "      <td>304</td>\n",
       "      <td>45.0</td>\n",
       "      <td>47.0</td>\n",
       "      <td>59.0</td>\n",
       "      <td>67.0</td>\n",
       "      <td>64.0</td>\n",
       "      <td>12.0</td>\n",
       "    </tr>\n",
       "    <tr>\n",
       "      <th>2110</th>\n",
       "      <td>1</td>\n",
       "      <td>2019</td>\n",
       "      <td>Subgradient Descent Learns Orthogonal Dictiona...</td>\n",
       "      <td>44</td>\n",
       "      <td>19</td>\n",
       "      <td>7</td>\n",
       "      <td>0</td>\n",
       "      <td>1</td>\n",
       "      <td>1</td>\n",
       "      <td>0</td>\n",
       "      <td>...</td>\n",
       "      <td>0</td>\n",
       "      <td>135</td>\n",
       "      <td>304</td>\n",
       "      <td>47</td>\n",
       "      <td>4.0</td>\n",
       "      <td>16.0</td>\n",
       "      <td>13.0</td>\n",
       "      <td>10.0</td>\n",
       "      <td>4.0</td>\n",
       "      <td>2.0</td>\n",
       "    </tr>\n",
       "    <tr>\n",
       "      <th>2111</th>\n",
       "      <td>1</td>\n",
       "      <td>2020</td>\n",
       "      <td>Maximum Likelihood Constraint Inference for In...</td>\n",
       "      <td>10</td>\n",
       "      <td>5</td>\n",
       "      <td>0</td>\n",
       "      <td>0</td>\n",
       "      <td>1</td>\n",
       "      <td>2</td>\n",
       "      <td>0</td>\n",
       "      <td>...</td>\n",
       "      <td>2</td>\n",
       "      <td>32</td>\n",
       "      <td>162</td>\n",
       "      <td>21</td>\n",
       "      <td>0.0</td>\n",
       "      <td>7.0</td>\n",
       "      <td>34.0</td>\n",
       "      <td>65.0</td>\n",
       "      <td>64.0</td>\n",
       "      <td>17.0</td>\n",
       "    </tr>\n",
       "  </tbody>\n",
       "</table>\n",
       "<p>2112 rows × 82 columns</p>\n",
       "</div>"
      ],
      "text/plain": [
       "      motivation  year                                              title  \\\n",
       "0              1  2018  A PAC-Bayesian Approach to Spectrally-Normaliz...   \n",
       "1              1  2019  Unsupervised Speech Recognition via Segmental ...   \n",
       "2              1  2017         Unsupervised Cross-Domain Image Generation   \n",
       "3              1  2017  Entropy-SGD: Biasing Gradient Descent Into Wid...   \n",
       "4              1  2019  TimbreTron: A WaveNet(CycleGAN(CQT(Audio))) Pi...   \n",
       "...          ...   ...                                                ...   \n",
       "2107           1  2020     Neural Module Networks for Reasoning over Text   \n",
       "2108           1  2018  NerveNet: Learning Structured Policy with Grap...   \n",
       "2109           1  2017  Deep Variational Bayes Filters: Unsupervised L...   \n",
       "2110           1  2019  Subgradient Descent Learns Orthogonal Dictiona...   \n",
       "2111           1  2020  Maximum Likelihood Constraint Inference for In...   \n",
       "\n",
       "      num_ref  num_ref_3years  arxiv  neurips  iclr  icml  aaai  ...  atr37  \\\n",
       "0          19               7      6        1     4     0     0  ...      1   \n",
       "1          42              10      6        2     1     1     0  ...      8   \n",
       "2          27              15      6        1     3     2     0  ...      6   \n",
       "3          62              31      0        2     6     4     0  ...      3   \n",
       "4          42              20     14        0     1     0     0  ...      1   \n",
       "...       ...             ...    ...      ...   ...   ...   ...  ...    ...   \n",
       "2107       29              13      2        2     0     1     0  ...      1   \n",
       "2108       54              27     18        1     7     4     0  ...      2   \n",
       "2109       24               8      7        0     1     2     0  ...      2   \n",
       "2110       44              19      7        0     1     1     0  ...      0   \n",
       "2111       10               5      0        0     1     2     0  ...      2   \n",
       "\n",
       "      atr38  atr39  citation_count  citedIn2018  citedIn2019  citedIn2020  \\\n",
       "0        59    108             444         65.0        107.0         96.0   \n",
       "1        42    161              31          0.0          6.0          6.0   \n",
       "2        45    154              16        162.0        197.0        164.0   \n",
       "3        65    209             561         94.0        116.0        119.0   \n",
       "4        48    182              87          0.0          9.0         20.0   \n",
       "...     ...    ...             ...          ...          ...          ...   \n",
       "2107     77    215              94          0.0          0.0         26.0   \n",
       "2108     65    276             190         14.0         44.0         42.0   \n",
       "2109     44    123             304         45.0         47.0         59.0   \n",
       "2110    135    304              47          4.0         16.0         13.0   \n",
       "2111     32    162              21          0.0          7.0         34.0   \n",
       "\n",
       "      citedIn2021  citedIn2022  citedIn2023  \n",
       "0            83.0         84.0         32.0  \n",
       "1             6.0         14.0          0.0  \n",
       "2           118.0         87.0         18.0  \n",
       "3            91.0         95.0         39.0  \n",
       "4            16.0         13.0          5.0  \n",
       "...           ...          ...          ...  \n",
       "2107         31.0         39.0          8.0  \n",
       "2108         44.0         50.0         11.0  \n",
       "2109         67.0         64.0         12.0  \n",
       "2110         10.0          4.0          2.0  \n",
       "2111         65.0         64.0         17.0  \n",
       "\n",
       "[2112 rows x 82 columns]"
      ]
     },
     "execution_count": 1,
     "metadata": {},
     "output_type": "execute_result"
    }
   ],
   "source": [
    "import pandas as pd \n",
    "\n",
    "data = pd.read_csv('../Dataset/motivation.csv')\n",
    "data"
   ]
  },
  {
   "cell_type": "code",
   "execution_count": 2,
   "metadata": {},
   "outputs": [],
   "source": [
    "label_counts = data.groupby(['title', 'motivation']).size().unstack(fill_value=0)\n",
    "dominant_labels = label_counts.idxmax(axis=1)\n",
    "data = data.merge(dominant_labels.rename('dominant_label'), left_on='title', right_index=True)\n",
    "df_filtered = data[data['motivation'] == data['dominant_label']]\n",
    "\n",
    "label_counts_0 = data[data['motivation'] == 0].groupby('title').size().rename('count_0')\n",
    "label_counts_1 = data[data['motivation'] == 1].groupby('title').size().rename('count_1')\n",
    "\n",
    "df_filtered = df_filtered.merge(label_counts_0, left_on='title', right_index=True, how='left')\n",
    "df_filtered = df_filtered.merge(label_counts_1, left_on='title', right_index=True, how='left')\n",
    "\n",
    "df_filtered = df_filtered[df_filtered['count_0'] != df_filtered['count_1']]\n",
    "df_filtered = df_filtered.drop(['dominant_label', 'count_0', 'count_1'], axis=1)"
   ]
  },
  {
   "cell_type": "code",
   "execution_count": 3,
   "metadata": {},
   "outputs": [
    {
     "name": "stdout",
     "output_type": "stream",
     "text": [
      "<class 'pandas.core.frame.DataFrame'>\n",
      "Int64Index: 1221 entries, 0 to 2110\n",
      "Data columns (total 82 columns):\n",
      " #   Column          Non-Null Count  Dtype  \n",
      "---  ------          --------------  -----  \n",
      " 0   motivation      1221 non-null   int64  \n",
      " 1   year            1221 non-null   int64  \n",
      " 2   title           1221 non-null   object \n",
      " 3   num_ref         1221 non-null   int64  \n",
      " 4   num_ref_3years  1221 non-null   int64  \n",
      " 5   arxiv           1221 non-null   int64  \n",
      " 6   neurips         1221 non-null   int64  \n",
      " 7   iclr            1221 non-null   int64  \n",
      " 8   icml            1221 non-null   int64  \n",
      " 9   aaai            1221 non-null   int64  \n",
      " 10  iccv            1221 non-null   int64  \n",
      " 11  cvpr            1221 non-null   int64  \n",
      " 12  emnlp           1221 non-null   int64  \n",
      " 13  acl             1221 non-null   int64  \n",
      " 14  naacl           1221 non-null   int64  \n",
      " 15  eccv            1221 non-null   int64  \n",
      " 16  icra            1221 non-null   int64  \n",
      " 17  icassp          1221 non-null   int64  \n",
      " 18  ijcai           1221 non-null   int64  \n",
      " 19  aistats         1221 non-null   int64  \n",
      " 20  sigkdd          1221 non-null   int64  \n",
      " 21  neuralcom       1221 non-null   int64  \n",
      " 22  ieee_tran       1221 non-null   int64  \n",
      " 23  acm_tran        1221 non-null   int64  \n",
      " 24  mit_press       1221 non-null   int64  \n",
      " 25  nature          1221 non-null   int64  \n",
      " 26  jmlr            1221 non-null   int64  \n",
      " 27  decision_ori    1221 non-null   object \n",
      " 28  decision_final  1221 non-null   object \n",
      " 29  rating1         1221 non-null   int64  \n",
      " 30  rating2         1221 non-null   int64  \n",
      " 31  rating3         1198 non-null   float64\n",
      " 32  mean            1221 non-null   float64\n",
      " 33  class_label     1221 non-null   object \n",
      " 34  filetype2       1221 non-null   object \n",
      " 35  atr0            1221 non-null   int64  \n",
      " 36  atr1            1221 non-null   int64  \n",
      " 37  atr2            1221 non-null   int64  \n",
      " 38  atr3            1221 non-null   int64  \n",
      " 39  atr4            1221 non-null   int64  \n",
      " 40  atr5            1221 non-null   int64  \n",
      " 41  atr6            1221 non-null   int64  \n",
      " 42  atr7            1221 non-null   int64  \n",
      " 43  atr8            1221 non-null   int64  \n",
      " 44  atr9            1221 non-null   int64  \n",
      " 45  atr10           1221 non-null   int64  \n",
      " 46  atr11           1221 non-null   int64  \n",
      " 47  atr12           1221 non-null   int64  \n",
      " 48  atr13           1221 non-null   int64  \n",
      " 49  atr14           1221 non-null   int64  \n",
      " 50  atr15           1221 non-null   int64  \n",
      " 51  atr16           1221 non-null   int64  \n",
      " 52  atr17           1221 non-null   int64  \n",
      " 53  atr18           1221 non-null   int64  \n",
      " 54  atr19           1221 non-null   int64  \n",
      " 55  atr20           1221 non-null   int64  \n",
      " 56  atr21           1221 non-null   int64  \n",
      " 57  atr22           1221 non-null   int64  \n",
      " 58  atr23           1221 non-null   int64  \n",
      " 59  atr24           1221 non-null   int64  \n",
      " 60  atr25           1221 non-null   int64  \n",
      " 61  atr26           1221 non-null   int64  \n",
      " 62  atr27           1221 non-null   int64  \n",
      " 63  atr28           1221 non-null   int64  \n",
      " 64  atr29           1221 non-null   int64  \n",
      " 65  atr30           1221 non-null   int64  \n",
      " 66  atr31           1221 non-null   int64  \n",
      " 67  atr32           1221 non-null   int64  \n",
      " 68  atr33           1221 non-null   int64  \n",
      " 69  atr34           1221 non-null   int64  \n",
      " 70  atr35           1221 non-null   int64  \n",
      " 71  atr36           1221 non-null   int64  \n",
      " 72  atr37           1221 non-null   int64  \n",
      " 73  atr38           1221 non-null   int64  \n",
      " 74  atr39           1221 non-null   int64  \n",
      " 75  citation_count  1221 non-null   int64  \n",
      " 76  citedIn2018     1219 non-null   float64\n",
      " 77  citedIn2019     1219 non-null   float64\n",
      " 78  citedIn2020     1219 non-null   float64\n",
      " 79  citedIn2021     1219 non-null   float64\n",
      " 80  citedIn2022     1218 non-null   float64\n",
      " 81  citedIn2023     1218 non-null   float64\n",
      "dtypes: float64(8), int64(69), object(5)\n",
      "memory usage: 791.7+ KB\n"
     ]
    }
   ],
   "source": [
    "data = df_filtered.drop_duplicates()\n",
    "data.info()"
   ]
  },
  {
   "cell_type": "code",
   "execution_count": 4,
   "metadata": {},
   "outputs": [
    {
     "data": {
      "text/plain": [
       "<Axes: xlabel='motivation', ylabel='count'>"
      ]
     },
     "execution_count": 4,
     "metadata": {},
     "output_type": "execute_result"
    },
    {
     "data": {
      "image/png": "[encoded data removed]",
      "text/plain": [
       "<Figure size 640x480 with 1 Axes>"
      ]
     },
     "metadata": {},
     "output_type": "display_data"
    }
   ],
   "source": [
    "import seaborn as sns\n",
    "\n",
    "sns.countplot(x=data['motivation'])"
   ]
  },
  {
   "cell_type": "code",
   "execution_count": 5,
   "metadata": {},
   "outputs": [],
   "source": [
    "import plotly.graph_objects as go\n",
    "import numpy as np\n",
    "\n",
    "def correlation_matrix(dataframe):\n",
    "    df_corr = dataframe.corr()\n",
    "    fig = go.Figure()\n",
    "    fig.add_trace(\n",
    "        go.Heatmap(\n",
    "            x = df_corr.columns,\n",
    "            y = df_corr.index,\n",
    "            z = np.array(df_corr),\n",
    "            text=df_corr.values,\n",
    "            texttemplate='%{text:.2f}'\n",
    "        )\n",
    "    )\n",
    "    fig.show()"
   ]
  },
  {
   "cell_type": "markdown",
   "metadata": {},
   "source": [
    "## Citing Sentence Predictor"
   ]
  },
  {
   "cell_type": "code",
   "execution_count": 6,
   "metadata": {},
   "outputs": [],
   "source": [
    "citing_sentence = data[['atr0', 'atr1', 'atr2', 'atr3', 'atr4', 'atr5', 'atr6', 'atr7', 'atr8', 'atr9', 'atr10', 'atr11', 'atr12', 'atr13', 'atr14', 'atr15', 'atr16', 'atr17', 'atr18', 'atr19']]\n",
    "y = data['motivation']"
   ]
  },
  {
   "cell_type": "code",
   "execution_count": 7,
   "metadata": {},
   "outputs": [
    {
     "data": {
      "application/vnd.plotly.v1+json": {
       "config": {
        "plotlyServerURL": "https://plot.ly"
       },
       "data": [
        {
         "text": [
          [
           1,
           0.005331485235416997,
           0.1350975824944221,
           0.16348617626608453,
           0.0707943133306963,
           0.07742790775313776,
           0.10458056044492238,
           0.12959295064964382,
           0.030947102504838068,
           0.039187378630255426,
           0.030491151556695868,
           0.04587650018006989,
           -0.022385073016564734,
           0.03271233382127073,
           -0.01486572787447353,
           0.006350077359710568,
           0.05593153084533293,
           0.019740548528923228,
           0.0977812131671683,
           0.2961054029033963,
           0.019581049830523292
          ],
          [
           0.005331485235416997,
           1,
           0.04053291525868832,
           0.027407820004322226,
           0.0382297239841252,
           0.10632781523968862,
           0.026291202764558548,
           -0.01397532328273544,
           0.03155991276289184,
           0.035695752308146866,
           0.039557001528443395,
           -0.012391856925484212,
           -0.009264583651580354,
           0.04670936578331656,
           0.08765100529929681,
           0.017569428399130425,
           0.02768952412060652,
           0.03757230815263489,
           0.07981307993658868,
           0.14156089258410406,
           0.03568633258113166
          ],
          [
           0.1350975824944221,
           0.04053291525868832,
           1,
           0.20878491665571405,
           0.09820391178051657,
           0.2176216040870156,
           0.12223599229803635,
           0.07350270511053342,
           0.013479465928470156,
           0.12763291551837436,
           0.03897415382796441,
           -0.042881614429388065,
           0.06801599629457794,
           0.045725920901186,
           0.15703098922310027,
           0.036075315590233296,
           0.02666554329655046,
           0.0933145782230702,
           0.17609683373838192,
           0.4755680072912603,
           0.0387273816423367
          ],
          [
           0.16348617626608453,
           0.027407820004322226,
           0.20878491665571405,
           1,
           0.08669744739642482,
           0.11897757547743008,
           0.12851916417644585,
           0.16066119650236507,
           0.07426435778755783,
           0.055317683552970655,
           0.0025758787046035814,
           0.12291120661399073,
           0.016107240382746385,
           0.024782168574844037,
           -0.02415026122825068,
           0.06150040552479213,
           0.10186795334455992,
           0.06380798489304987,
           0.1862350604625889,
           0.43739744325613844,
           0.027040444938198252
          ],
          [
           0.0707943133306963,
           0.0382297239841252,
           0.09820391178051657,
           0.08669744739642482,
           1,
           0.06826759717199338,
           0.09604496628710801,
           0.04560119021696118,
           0.045833293090860316,
           0.03215781860433626,
           0.0436716947294163,
           0.07705729766334748,
           -0.010778941667672489,
           0.051161716018562065,
           -0.018058003969259113,
           0.0009892014169662904,
           0.006283006662644466,
           0.017271010389907172,
           0.05124694284384,
           0.2583999655434716,
           0.021243982156153432
          ],
          [
           0.07742790775313776,
           0.10632781523968862,
           0.2176216040870156,
           0.11897757547743008,
           0.06826759717199338,
           1,
           0.19425147832879314,
           0.14781251993689165,
           0.12444387698456186,
           0.1170947060773674,
           0.05490393388732107,
           0.009140707061451208,
           0.03174869666831353,
           0.03828108752401386,
           0.14638306926376177,
           -0.001347478145331211,
           0.054350742642329704,
           0.12315394998499699,
           0.19814331117493672,
           0.4447244564554826,
           0.007902615566139479
          ],
          [
           0.10458056044492238,
           0.026291202764558548,
           0.12223599229803635,
           0.12851916417644585,
           0.09604496628710801,
           0.19425147832879314,
           1,
           0.2919363242596807,
           0.111198164668237,
           0.1719672311924094,
           0.03846617299703777,
           0.15907670498050266,
           0.049273550570314496,
           -0.009801746065679733,
           0.07770095552327758,
           0.028447163960029317,
           0.15766048598399784,
           0.08658250067522352,
           0.15389484999855269,
           0.4965061347101827,
           0.014210922928124117
          ],
          [
           0.12959295064964382,
           -0.01397532328273544,
           0.07350270511053342,
           0.16066119650236507,
           0.04560119021696118,
           0.14781251993689165,
           0.2919363242596807,
           1,
           0.10193095532253091,
           0.23314952514086826,
           0.0512844756644836,
           0.16442484972053564,
           0.0161894161268855,
           0.0342827653337036,
           -0.10642089933100236,
           0.02172916416419322,
           0.15458448567879404,
           0.09794316494084085,
           0.07189387678363207,
           0.5094840286869606,
           -0.01130028798390408
          ],
          [
           0.030947102504838068,
           0.03155991276289184,
           0.013479465928470156,
           0.07426435778755783,
           0.045833293090860316,
           0.12444387698456186,
           0.111198164668237,
           0.10193095532253091,
           1,
           0.12325825538924795,
           0.041318802504784334,
           0.07206982330337287,
           0.03347676443201539,
           -0.0048462614220204205,
           0.056711998517691126,
           0.00639729332205197,
           0.1336197245202578,
           0.09405666254202004,
           0.1374863730978714,
           0.2752712142125244,
           0.035989864943535795
          ],
          [
           0.039187378630255426,
           0.035695752308146866,
           0.12763291551837436,
           0.055317683552970655,
           0.03215781860433626,
           0.1170947060773674,
           0.1719672311924094,
           0.23314952514086826,
           0.12325825538924795,
           1,
           -0.0014842486031000262,
           0.055047158795206656,
           0.09637321839261889,
           0.07648851332148818,
           0.0420478305347638,
           0.08423514613967599,
           0.120400122258375,
           0.1514842333065156,
           0.09201151934890192,
           0.3571211714578803,
           0.04357105745754143
          ],
          [
           0.030491151556695868,
           0.039557001528443395,
           0.03897415382796441,
           0.0025758787046035814,
           0.0436716947294163,
           0.05490393388732107,
           0.03846617299703777,
           0.0512844756644836,
           0.041318802504784334,
           -0.0014842486031000262,
           1,
           0.019476681690701995,
           -0.03212660100831737,
           -0.022891236201406925,
           0.006909745758991032,
           -0.03762131462773592,
           0.12423611739246772,
           -0.0047353604555367985,
           0.03212896475922632,
           0.10952191675370201,
           0.049985644858608735
          ],
          [
           0.04587650018006989,
           -0.012391856925484212,
           -0.042881614429388065,
           0.12291120661399073,
           0.07705729766334748,
           0.009140707061451208,
           0.15907670498050266,
           0.16442484972053564,
           0.07206982330337287,
           0.055047158795206656,
           0.019476681690701995,
           1,
           0.12843704718215093,
           0.04884110218409036,
           0.07364655215142052,
           0.06044134698433672,
           0.07762456186297731,
           0.1358965899442548,
           0.11348243862275259,
           0.45227650161475985,
           -0.09481464681870368
          ],
          [
           -0.022385073016564734,
           -0.009264583651580354,
           0.06801599629457794,
           0.016107240382746385,
           -0.010778941667672489,
           0.03174869666831353,
           0.049273550570314496,
           0.0161894161268855,
           0.03347676443201539,
           0.09637321839261889,
           -0.03212660100831737,
           0.12843704718215093,
           1,
           0.0856605639189017,
           0.10557368581065996,
           0.18366767224258576,
           -0.02582048688458015,
           0.05057709005589668,
           0.040492775486681606,
           0.2048740543076462,
           0.006847756450178623
          ],
          [
           0.03271233382127073,
           0.04670936578331656,
           0.045725920901186,
           0.024782168574844037,
           0.051161716018562065,
           0.03828108752401386,
           -0.009801746065679733,
           0.0342827653337036,
           -0.0048462614220204205,
           0.07648851332148818,
           -0.022891236201406925,
           0.04884110218409036,
           0.0856605639189017,
           1,
           0.10426265529938507,
           0.034176544546261844,
           0.05116629149289536,
           0.061325319735055325,
           0.08971974053502191,
           0.16659208771949577,
           0.014239980422506748
          ],
          [
           -0.01486572787447353,
           0.08765100529929681,
           0.15703098922310027,
           -0.02415026122825068,
           -0.018058003969259113,
           0.14638306926376177,
           0.07770095552327758,
           -0.10642089933100236,
           0.056711998517691126,
           0.0420478305347638,
           0.006909745758991032,
           0.07364655215142052,
           0.10557368581065996,
           0.10426265529938507,
           1,
           0.062219067293856206,
           0.005911823236886359,
           0.06431445613401204,
           0.1807282678486206,
           0.28805448181651516,
           -0.021577972254214012
          ],
          [
           0.006350077359710568,
           0.017569428399130425,
           0.036075315590233296,
           0.06150040552479213,
           0.0009892014169662904,
           -0.001347478145331211,
           0.028447163960029317,
           0.02172916416419322,
           0.00639729332205197,
           0.08423514613967599,
           -0.03762131462773592,
           0.06044134698433672,
           0.18366767224258576,
           0.034176544546261844,
           0.062219067293856206,
           1,
           -0.008907774582219065,
           0.08607190416865686,
           0.0898869506493412,
           0.13726495010658882,
           -0.015057304004489574
          ],
          [
           0.05593153084533293,
           0.02768952412060652,
           0.02666554329655046,
           0.10186795334455992,
           0.006283006662644466,
           0.054350742642329704,
           0.15766048598399784,
           0.15458448567879404,
           0.1336197245202578,
           0.120400122258375,
           0.12423611739246772,
           0.07762456186297731,
           -0.02582048688458015,
           0.05116629149289536,
           0.005911823236886359,
           -0.008907774582219065,
           1,
           0.1790023382651491,
           0.07318824077434337,
           0.311059705087776,
           -0.01693081193342112
          ],
          [
           0.019740548528923228,
           0.03757230815263489,
           0.0933145782230702,
           0.06380798489304987,
           0.017271010389907172,
           0.12315394998499699,
           0.08658250067522352,
           0.09794316494084085,
           0.09405666254202004,
           0.1514842333065156,
           -0.0047353604555367985,
           0.1358965899442548,
           0.05057709005589668,
           0.061325319735055325,
           0.06431445613401204,
           0.08607190416865686,
           0.1790023382651491,
           1,
           0.09568699085147753,
           0.3043288458660998,
           -0.012948317065565032
          ],
          [
           0.0977812131671683,
           0.07981307993658868,
           0.17609683373838192,
           0.1862350604625889,
           0.05124694284384,
           0.19814331117493672,
           0.15389484999855269,
           0.07189387678363207,
           0.1374863730978714,
           0.09201151934890192,
           0.03212896475922632,
           0.11348243862275259,
           0.040492775486681606,
           0.08971974053502191,
           0.1807282678486206,
           0.0898869506493412,
           0.07318824077434337,
           0.09568699085147753,
           1,
           0.5266110075374945,
           -0.01937312456712666
          ],
          [
           0.2961054029033963,
           0.14156089258410406,
           0.4755680072912603,
           0.43739744325613844,
           0.2583999655434716,
           0.4447244564554826,
           0.4965061347101827,
           0.5094840286869606,
           0.2752712142125244,
           0.3571211714578803,
           0.10952191675370201,
           0.45227650161475985,
           0.2048740543076462,
           0.16659208771949577,
           0.28805448181651516,
           0.13726495010658882,
           0.311059705087776,
           0.3043288458660998,
           0.5266110075374945,
           1,
           -0.005386312424351663
          ],
          [
           0.019581049830523292,
           0.03568633258113166,
           0.0387273816423367,
           0.027040444938198252,
           0.021243982156153432,
           0.007902615566139479,
           0.014210922928124117,
           -0.01130028798390408,
           0.035989864943535795,
           0.04357105745754143,
           0.049985644858608735,
           -0.09481464681870368,
           0.006847756450178623,
           0.014239980422506748,
           -0.021577972254214012,
           -0.015057304004489574,
           -0.01693081193342112,
           -0.012948317065565032,
           -0.01937312456712666,
           -0.005386312424351663,
           1
          ]
         ],
         "texttemplate": "%{text:.2f}",
         "type": "heatmap",
         "x": [
          "atr0",
          "atr1",
          "atr2",
          "atr3",
          "atr4",
          "atr5",
          "atr6",
          "atr7",
          "atr8",
          "atr9",
          "atr10",
          "atr11",
          "atr12",
          "atr13",
          "atr14",
          "atr15",
          "atr16",
          "atr17",
          "atr18",
          "atr19",
          "motivation"
         ],
         "y": [
          "atr0",
          "atr1",
          "atr2",
          "atr3",
          "atr4",
          "atr5",
          "atr6",
          "atr7",
          "atr8",
          "atr9",
          "atr10",
          "atr11",
          "atr12",
          "atr13",
          "atr14",
          "atr15",
          "atr16",
          "atr17",
          "atr18",
          "atr19",
          "motivation"
         ],
         "z": [
          [
           1,
           0.005331485235416997,
           0.1350975824944221,
           0.16348617626608453,
           0.0707943133306963,
           0.07742790775313776,
           0.10458056044492238,
           0.12959295064964382,
           0.030947102504838068,
           0.039187378630255426,
           0.030491151556695868,
           0.04587650018006989,
           -0.022385073016564734,
           0.03271233382127073,
           -0.01486572787447353,
           0.006350077359710568,
           0.05593153084533293,
           0.019740548528923228,
           0.0977812131671683,
           0.2961054029033963,
           0.019581049830523292
          ],
          [
           0.005331485235416997,
           1,
           0.04053291525868832,
           0.027407820004322226,
           0.0382297239841252,
           0.10632781523968862,
           0.026291202764558548,
           -0.01397532328273544,
           0.03155991276289184,
           0.035695752308146866,
           0.039557001528443395,
           -0.012391856925484212,
           -0.009264583651580354,
           0.04670936578331656,
           0.08765100529929681,
           0.017569428399130425,
           0.02768952412060652,
           0.03757230815263489,
           0.07981307993658868,
           0.14156089258410406,
           0.03568633258113166
          ],
          [
           0.1350975824944221,
           0.04053291525868832,
           1,
           0.20878491665571405,
           0.09820391178051657,
           0.2176216040870156,
           0.12223599229803635,
           0.07350270511053342,
           0.013479465928470156,
           0.12763291551837436,
           0.03897415382796441,
           -0.042881614429388065,
           0.06801599629457794,
           0.045725920901186,
           0.15703098922310027,
           0.036075315590233296,
           0.02666554329655046,
           0.0933145782230702,
           0.17609683373838192,
           0.4755680072912603,
           0.0387273816423367
          ],
          [
           0.16348617626608453,
           0.027407820004322226,
           0.20878491665571405,
           1,
           0.08669744739642482,
           0.11897757547743008,
           0.12851916417644585,
           0.16066119650236507,
           0.07426435778755783,
           0.055317683552970655,
           0.0025758787046035814,
           0.12291120661399073,
           0.016107240382746385,
           0.024782168574844037,
           -0.02415026122825068,
           0.06150040552479213,
           0.10186795334455992,
           0.06380798489304987,
           0.1862350604625889,
           0.43739744325613844,
           0.027040444938198252
          ],
          [
           0.0707943133306963,
           0.0382297239841252,
           0.09820391178051657,
           0.08669744739642482,
           1,
           0.06826759717199338,
           0.09604496628710801,
           0.04560119021696118,
           0.045833293090860316,
           0.03215781860433626,
           0.0436716947294163,
           0.07705729766334748,
           -0.010778941667672489,
           0.051161716018562065,
           -0.018058003969259113,
           0.0009892014169662904,
           0.006283006662644466,
           0.017271010389907172,
           0.05124694284384,
           0.2583999655434716,
           0.021243982156153432
          ],
          [
           0.07742790775313776,
           0.10632781523968862,
           0.2176216040870156,
           0.11897757547743008,
           0.06826759717199338,
           1,
           0.19425147832879314,
           0.14781251993689165,
           0.12444387698456186,
           0.1170947060773674,
           0.05490393388732107,
           0.009140707061451208,
           0.03174869666831353,
           0.03828108752401386,
           0.14638306926376177,
           -0.001347478145331211,
           0.054350742642329704,
           0.12315394998499699,
           0.19814331117493672,
           0.4447244564554826,
           0.007902615566139479
          ],
          [
           0.10458056044492238,
           0.026291202764558548,
           0.12223599229803635,
           0.12851916417644585,
           0.09604496628710801,
           0.19425147832879314,
           1,
           0.2919363242596807,
           0.111198164668237,
           0.1719672311924094,
           0.03846617299703777,
           0.15907670498050266,
           0.049273550570314496,
           -0.009801746065679733,
           0.07770095552327758,
           0.028447163960029317,
           0.15766048598399784,
           0.08658250067522352,
           0.15389484999855269,
           0.4965061347101827,
           0.014210922928124117
          ],
          [
           0.12959295064964382,
           -0.01397532328273544,
           0.07350270511053342,
           0.16066119650236507,
           0.04560119021696118,
           0.14781251993689165,
           0.2919363242596807,
           1,
           0.10193095532253091,
           0.23314952514086826,
           0.0512844756644836,
           0.16442484972053564,
           0.0161894161268855,
           0.0342827653337036,
           -0.10642089933100236,
           0.02172916416419322,
           0.15458448567879404,
           0.09794316494084085,
           0.07189387678363207,
           0.5094840286869606,
           -0.01130028798390408
          ],
          [
           0.030947102504838068,
           0.03155991276289184,
           0.013479465928470156,
           0.07426435778755783,
           0.045833293090860316,
           0.12444387698456186,
           0.111198164668237,
           0.10193095532253091,
           1,
           0.12325825538924795,
           0.041318802504784334,
           0.07206982330337287,
           0.03347676443201539,
           -0.0048462614220204205,
           0.056711998517691126,
           0.00639729332205197,
           0.1336197245202578,
           0.09405666254202004,
           0.1374863730978714,
           0.2752712142125244,
           0.035989864943535795
          ],
          [
           0.039187378630255426,
           0.035695752308146866,
           0.12763291551837436,
           0.055317683552970655,
           0.03215781860433626,
           0.1170947060773674,
           0.1719672311924094,
           0.23314952514086826,
           0.12325825538924795,
           1,
           -0.0014842486031000262,
           0.055047158795206656,
           0.09637321839261889,
           0.07648851332148818,
           0.0420478305347638,
           0.08423514613967599,
           0.120400122258375,
           0.1514842333065156,
           0.09201151934890192,
           0.3571211714578803,
           0.04357105745754143
          ],
          [
           0.030491151556695868,
           0.039557001528443395,
           0.03897415382796441,
           0.0025758787046035814,
           0.0436716947294163,
           0.05490393388732107,
           0.03846617299703777,
           0.0512844756644836,
           0.041318802504784334,
           -0.0014842486031000262,
           1,
           0.019476681690701995,
           -0.03212660100831737,
           -0.022891236201406925,
           0.006909745758991032,
           -0.03762131462773592,
           0.12423611739246772,
           -0.0047353604555367985,
           0.03212896475922632,
           0.10952191675370201,
           0.049985644858608735
          ],
          [
           0.04587650018006989,
           -0.012391856925484212,
           -0.042881614429388065,
           0.12291120661399073,
           0.07705729766334748,
           0.009140707061451208,
           0.15907670498050266,
           0.16442484972053564,
           0.07206982330337287,
           0.055047158795206656,
           0.019476681690701995,
           1,
           0.12843704718215093,
           0.04884110218409036,
           0.07364655215142052,
           0.06044134698433672,
           0.07762456186297731,
           0.1358965899442548,
           0.11348243862275259,
           0.45227650161475985,
           -0.09481464681870368
          ],
          [
           -0.022385073016564734,
           -0.009264583651580354,
           0.06801599629457794,
           0.016107240382746385,
           -0.010778941667672489,
           0.03174869666831353,
           0.049273550570314496,
           0.0161894161268855,
           0.03347676443201539,
           0.09637321839261889,
           -0.03212660100831737,
           0.12843704718215093,
           1,
           0.0856605639189017,
           0.10557368581065996,
           0.18366767224258576,
           -0.02582048688458015,
           0.05057709005589668,
           0.040492775486681606,
           0.2048740543076462,
           0.006847756450178623
          ],
          [
           0.03271233382127073,
           0.04670936578331656,
           0.045725920901186,
           0.024782168574844037,
           0.051161716018562065,
           0.03828108752401386,
           -0.009801746065679733,
           0.0342827653337036,
           -0.0048462614220204205,
           0.07648851332148818,
           -0.022891236201406925,
           0.04884110218409036,
           0.0856605639189017,
           1,
           0.10426265529938507,
           0.034176544546261844,
           0.05116629149289536,
           0.061325319735055325,
           0.08971974053502191,
           0.16659208771949577,
           0.014239980422506748
          ],
          [
           -0.01486572787447353,
           0.08765100529929681,
           0.15703098922310027,
           -0.02415026122825068,
           -0.018058003969259113,
           0.14638306926376177,
           0.07770095552327758,
           -0.10642089933100236,
           0.056711998517691126,
           0.0420478305347638,
           0.006909745758991032,
           0.07364655215142052,
           0.10557368581065996,
           0.10426265529938507,
           1,
           0.062219067293856206,
           0.005911823236886359,
           0.06431445613401204,
           0.1807282678486206,
           0.28805448181651516,
           -0.021577972254214012
          ],
          [
           0.006350077359710568,
           0.017569428399130425,
           0.036075315590233296,
           0.06150040552479213,
           0.0009892014169662904,
           -0.001347478145331211,
           0.028447163960029317,
           0.02172916416419322,
           0.00639729332205197,
           0.08423514613967599,
           -0.03762131462773592,
           0.06044134698433672,
           0.18366767224258576,
           0.034176544546261844,
           0.062219067293856206,
           1,
           -0.008907774582219065,
           0.08607190416865686,
           0.0898869506493412,
           0.13726495010658882,
           -0.015057304004489574
          ],
          [
           0.05593153084533293,
           0.02768952412060652,
           0.02666554329655046,
           0.10186795334455992,
           0.006283006662644466,
           0.054350742642329704,
           0.15766048598399784,
           0.15458448567879404,
           0.1336197245202578,
           0.120400122258375,
           0.12423611739246772,
           0.07762456186297731,
           -0.02582048688458015,
           0.05116629149289536,
           0.005911823236886359,
           -0.008907774582219065,
           1,
           0.1790023382651491,
           0.07318824077434337,
           0.311059705087776,
           -0.01693081193342112
          ],
          [
           0.019740548528923228,
           0.03757230815263489,
           0.0933145782230702,
           0.06380798489304987,
           0.017271010389907172,
           0.12315394998499699,
           0.08658250067522352,
           0.09794316494084085,
           0.09405666254202004,
           0.1514842333065156,
           -0.0047353604555367985,
           0.1358965899442548,
           0.05057709005589668,
           0.061325319735055325,
           0.06431445613401204,
           0.08607190416865686,
           0.1790023382651491,
           1,
           0.09568699085147753,
           0.3043288458660998,
           -0.012948317065565032
          ],
          [
           0.0977812131671683,
           0.07981307993658868,
           0.17609683373838192,
           0.1862350604625889,
           0.05124694284384,
           0.19814331117493672,
           0.15389484999855269,
           0.07189387678363207,
           0.1374863730978714,
           0.09201151934890192,
           0.03212896475922632,
           0.11348243862275259,
           0.040492775486681606,
           0.08971974053502191,
           0.1807282678486206,
           0.0898869506493412,
           0.07318824077434337,
           0.09568699085147753,
           1,
           0.5266110075374945,
           -0.01937312456712666
          ],
          [
           0.2961054029033963,
           0.14156089258410406,
           0.4755680072912603,
           0.43739744325613844,
           0.2583999655434716,
           0.4447244564554826,
           0.4965061347101827,
           0.5094840286869606,
           0.2752712142125244,
           0.3571211714578803,
           0.10952191675370201,
           0.45227650161475985,
           0.2048740543076462,
           0.16659208771949577,
           0.28805448181651516,
           0.13726495010658882,
           0.311059705087776,
           0.3043288458660998,
           0.5266110075374945,
           1,
           -0.005386312424351663
          ],
          [
           0.019581049830523292,
           0.03568633258113166,
           0.0387273816423367,
           0.027040444938198252,
           0.021243982156153432,
           0.007902615566139479,
           0.014210922928124117,
           -0.01130028798390408,
           0.035989864943535795,
           0.04357105745754143,
           0.049985644858608735,
           -0.09481464681870368,
           0.006847756450178623,
           0.014239980422506748,
           -0.021577972254214012,
           -0.015057304004489574,
           -0.01693081193342112,
           -0.012948317065565032,
           -0.01937312456712666,
           -0.005386312424351663,
           1
          ]
         ]
        }
       ],
       "layout": {
        "template": {
         "data": {
          "bar": [
           {
            "error_x": {
             "color": "#2a3f5f"
            },
            "error_y": {
             "color": "#2a3f5f"
            },
            "marker": {
             "line": {
              "color": "#E5ECF6",
              "width": 0.5
             },
             "pattern": {
              "fillmode": "overlay",
              "size": 10,
              "solidity": 0.2
             }
            },
            "type": "bar"
           }
          ],
          "barpolar": [
           {
            "marker": {
             "line": {
              "color": "#E5ECF6",
              "width": 0.5
             },
             "pattern": {
              "fillmode": "overlay",
              "size": 10,
              "solidity": 0.2
             }
            },
            "type": "barpolar"
           }
          ],
          "carpet": [
           {
            "aaxis": {
             "endlinecolor": "#2a3f5f",
             "gridcolor": "white",
             "linecolor": "white",
             "minorgridcolor": "white",
             "startlinecolor": "#2a3f5f"
            },
            "baxis": {
             "endlinecolor": "#2a3f5f",
             "gridcolor": "white",
             "linecolor": "white",
             "minorgridcolor": "white",
             "startlinecolor": "#2a3f5f"
            },
            "type": "carpet"
           }
          ],
          "choropleth": [
           {
            "colorbar": {
             "outlinewidth": 0,
             "ticks": ""
            },
            "type": "choropleth"
           }
          ],
          "contour": [
           {
            "colorbar": {
             "outlinewidth": 0,
             "ticks": ""
            },
            "colorscale": [
             [
              0,
              "#0d0887"
             ],
             [
              0.1111111111111111,
              "#46039f"
             ],
             [
              0.2222222222222222,
              "#7201a8"
             ],
             [
              0.3333333333333333,
              "#9c179e"
             ],
             [
              0.4444444444444444,
              "#bd3786"
             ],
             [
              0.5555555555555556,
              "#d8576b"
             ],
             [
              0.6666666666666666,
              "#ed7953"
             ],
             [
              0.7777777777777778,
              "#fb9f3a"
             ],
             [
              0.8888888888888888,
              "#fdca26"
             ],
             [
              1,
              "#f0f921"
             ]
            ],
            "type": "contour"
           }
          ],
          "contourcarpet": [
           {
            "colorbar": {
             "outlinewidth": 0,
             "ticks": ""
            },
            "type": "contourcarpet"
           }
          ],
          "heatmap": [
           {
            "colorbar": {
             "outlinewidth": 0,
             "ticks": ""
            },
            "colorscale": [
             [
              0,
              "#0d0887"
             ],
             [
              0.1111111111111111,
              "#46039f"
             ],
             [
              0.2222222222222222,
              "#7201a8"
             ],
             [
              0.3333333333333333,
              "#9c179e"
             ],
             [
              0.4444444444444444,
              "#bd3786"
             ],
             [
              0.5555555555555556,
              "#d8576b"
             ],
             [
              0.6666666666666666,
              "#ed7953"
             ],
             [
              0.7777777777777778,
              "#fb9f3a"
             ],
             [
              0.8888888888888888,
              "#fdca26"
             ],
             [
              1,
              "#f0f921"
             ]
            ],
            "type": "heatmap"
           }
          ],
          "heatmapgl": [
           {
            "colorbar": {
             "outlinewidth": 0,
             "ticks": ""
            },
            "colorscale": [
             [
              0,
              "#0d0887"
             ],
             [
              0.1111111111111111,
              "#46039f"
             ],
             [
              0.2222222222222222,
              "#7201a8"
             ],
             [
              0.3333333333333333,
              "#9c179e"
             ],
             [
              0.4444444444444444,
              "#bd3786"
             ],
             [
              0.5555555555555556,
              "#d8576b"
             ],
             [
              0.6666666666666666,
              "#ed7953"
             ],
             [
              0.7777777777777778,
              "#fb9f3a"
             ],
             [
              0.8888888888888888,
              "#fdca26"
             ],
             [
              1,
              "#f0f921"
             ]
            ],
            "type": "heatmapgl"
           }
          ],
          "histogram": [
           {
            "marker": {
             "pattern": {
              "fillmode": "overlay",
              "size": 10,
              "solidity": 0.2
             }
            },
            "type": "histogram"
           }
          ],
          "histogram2d": [
           {
            "colorbar": {
             "outlinewidth": 0,
             "ticks": ""
            },
            "colorscale": [
             [
              0,
              "#0d0887"
             ],
             [
              0.1111111111111111,
              "#46039f"
             ],
             [
              0.2222222222222222,
              "#7201a8"
             ],
             [
              0.3333333333333333,
              "#9c179e"
             ],
             [
              0.4444444444444444,
              "#bd3786"
             ],
             [
              0.5555555555555556,
              "#d8576b"
             ],
             [
              0.6666666666666666,
              "#ed7953"
             ],
             [
              0.7777777777777778,
              "#fb9f3a"
             ],
             [
              0.8888888888888888,
              "#fdca26"
             ],
             [
              1,
              "#f0f921"
             ]
            ],
            "type": "histogram2d"
           }
          ],
          "histogram2dcontour": [
           {
            "colorbar": {
             "outlinewidth": 0,
             "ticks": ""
            },
            "colorscale": [
             [
              0,
              "#0d0887"
             ],
             [
              0.1111111111111111,
              "#46039f"
             ],
             [
              0.2222222222222222,
              "#7201a8"
             ],
             [
              0.3333333333333333,
              "#9c179e"
             ],
             [
              0.4444444444444444,
              "#bd3786"
             ],
             [
              0.5555555555555556,
              "#d8576b"
             ],
             [
              0.6666666666666666,
              "#ed7953"
             ],
             [
              0.7777777777777778,
              "#fb9f3a"
             ],
             [
              0.8888888888888888,
              "#fdca26"
             ],
             [
              1,
              "#f0f921"
             ]
            ],
            "type": "histogram2dcontour"
           }
          ],
          "mesh3d": [
           {
            "colorbar": {
             "outlinewidth": 0,
             "ticks": ""
            },
            "type": "mesh3d"
           }
          ],
          "parcoords": [
           {
            "line": {
             "colorbar": {
              "outlinewidth": 0,
              "ticks": ""
             }
            },
            "type": "parcoords"
           }
          ],
          "pie": [
           {
            "automargin": true,
            "type": "pie"
           }
          ],
          "scatter": [
           {
            "fillpattern": {
             "fillmode": "overlay",
             "size": 10,
             "solidity": 0.2
            },
            "type": "scatter"
           }
          ],
          "scatter3d": [
           {
            "line": {
             "colorbar": {
              "outlinewidth": 0,
              "ticks": ""
             }
            },
            "marker": {
             "colorbar": {
              "outlinewidth": 0,
              "ticks": ""
             }
            },
            "type": "scatter3d"
           }
          ],
          "scattercarpet": [
           {
            "marker": {
             "colorbar": {
              "outlinewidth": 0,
              "ticks": ""
             }
            },
            "type": "scattercarpet"
           }
          ],
          "scattergeo": [
           {
            "marker": {
             "colorbar": {
              "outlinewidth": 0,
              "ticks": ""
             }
            },
            "type": "scattergeo"
           }
          ],
          "scattergl": [
           {
            "marker": {
             "colorbar": {
              "outlinewidth": 0,
              "ticks": ""
             }
            },
            "type": "scattergl"
           }
          ],
          "scattermapbox": [
           {
            "marker": {
             "colorbar": {
              "outlinewidth": 0,
              "ticks": ""
             }
            },
            "type": "scattermapbox"
           }
          ],
          "scatterpolar": [
           {
            "marker": {
             "colorbar": {
              "outlinewidth": 0,
              "ticks": ""
             }
            },
            "type": "scatterpolar"
           }
          ],
          "scatterpolargl": [
           {
            "marker": {
             "colorbar": {
              "outlinewidth": 0,
              "ticks": ""
             }
            },
            "type": "scatterpolargl"
           }
          ],
          "scatterternary": [
           {
            "marker": {
             "colorbar": {
              "outlinewidth": 0,
              "ticks": ""
             }
            },
            "type": "scatterternary"
           }
          ],
          "surface": [
           {
            "colorbar": {
             "outlinewidth": 0,
             "ticks": ""
            },
            "colorscale": [
             [
              0,
              "#0d0887"
             ],
             [
              0.1111111111111111,
              "#46039f"
             ],
             [
              0.2222222222222222,
              "#7201a8"
             ],
             [
              0.3333333333333333,
              "#9c179e"
             ],
             [
              0.4444444444444444,
              "#bd3786"
             ],
             [
              0.5555555555555556,
              "#d8576b"
             ],
             [
              0.6666666666666666,
              "#ed7953"
             ],
             [
              0.7777777777777778,
              "#fb9f3a"
             ],
             [
              0.8888888888888888,
              "#fdca26"
             ],
             [
              1,
              "#f0f921"
             ]
            ],
            "type": "surface"
           }
          ],
          "table": [
           {
            "cells": {
             "fill": {
              "color": "#EBF0F8"
             },
             "line": {
              "color": "white"
             }
            },
            "header": {
             "fill": {
              "color": "#C8D4E3"
             },
             "line": {
              "color": "white"
             }
            },
            "type": "table"
           }
          ]
         },
         "layout": {
          "annotationdefaults": {
           "arrowcolor": "#2a3f5f",
           "arrowhead": 0,
           "arrowwidth": 1
          },
          "autotypenumbers": "strict",
          "coloraxis": {
           "colorbar": {
            "outlinewidth": 0,
            "ticks": ""
           }
          },
          "colorscale": {
           "diverging": [
            [
             0,
             "#8e0152"
            ],
            [
             0.1,
             "#c51b7d"
            ],
            [
             0.2,
             "#de77ae"
            ],
            [
             0.3,
             "#f1b6da"
            ],
            [
             0.4,
             "#fde0ef"
            ],
            [
             0.5,
             "#f7f7f7"
            ],
            [
             0.6,
             "#e6f5d0"
            ],
            [
             0.7,
             "#b8e186"
            ],
            [
             0.8,
             "#7fbc41"
            ],
            [
             0.9,
             "#4d9221"
            ],
            [
             1,
             "#276419"
            ]
           ],
           "sequential": [
            [
             0,
             "#0d0887"
            ],
            [
             0.1111111111111111,
             "#46039f"
            ],
            [
             0.2222222222222222,
             "#7201a8"
            ],
            [
             0.3333333333333333,
             "#9c179e"
            ],
            [
             0.4444444444444444,
             "#bd3786"
            ],
            [
             0.5555555555555556,
             "#d8576b"
            ],
            [
             0.6666666666666666,
             "#ed7953"
            ],
            [
             0.7777777777777778,
             "#fb9f3a"
            ],
            [
             0.8888888888888888,
             "#fdca26"
            ],
            [
             1,
             "#f0f921"
            ]
           ],
           "sequentialminus": [
            [
             0,
             "#0d0887"
            ],
            [
             0.1111111111111111,
             "#46039f"
            ],
            [
             0.2222222222222222,
             "#7201a8"
            ],
            [
             0.3333333333333333,
             "#9c179e"
            ],
            [
             0.4444444444444444,
             "#bd3786"
            ],
            [
             0.5555555555555556,
             "#d8576b"
            ],
            [
             0.6666666666666666,
             "#ed7953"
            ],
            [
             0.7777777777777778,
             "#fb9f3a"
            ],
            [
             0.8888888888888888,
             "#fdca26"
            ],
            [
             1,
             "#f0f921"
            ]
           ]
          },
          "colorway": [
           "#636efa",
           "#EF553B",
           "#00cc96",
           "#ab63fa",
           "#FFA15A",
           "#19d3f3",
           "#FF6692",
           "#B6E880",
           "#FF97FF",
           "#FECB52"
          ],
          "font": {
           "color": "#2a3f5f"
          },
          "geo": {
           "bgcolor": "white",
           "lakecolor": "white",
           "landcolor": "#E5ECF6",
           "showlakes": true,
           "showland": true,
           "subunitcolor": "white"
          },
          "hoverlabel": {
           "align": "left"
          },
          "hovermode": "closest",
          "mapbox": {
           "style": "light"
          },
          "paper_bgcolor": "white",
          "plot_bgcolor": "#E5ECF6",
          "polar": {
           "angularaxis": {
            "gridcolor": "white",
            "linecolor": "white",
            "ticks": ""
           },
           "bgcolor": "#E5ECF6",
           "radialaxis": {
            "gridcolor": "white",
            "linecolor": "white",
            "ticks": ""
           }
          },
          "scene": {
           "xaxis": {
            "backgroundcolor": "#E5ECF6",
            "gridcolor": "white",
            "gridwidth": 2,
            "linecolor": "white",
            "showbackground": true,
            "ticks": "",
            "zerolinecolor": "white"
           },
           "yaxis": {
            "backgroundcolor": "#E5ECF6",
            "gridcolor": "white",
            "gridwidth": 2,
            "linecolor": "white",
            "showbackground": true,
            "ticks": "",
            "zerolinecolor": "white"
           },
           "zaxis": {
            "backgroundcolor": "#E5ECF6",
            "gridcolor": "white",
            "gridwidth": 2,
            "linecolor": "white",
            "showbackground": true,
            "ticks": "",
            "zerolinecolor": "white"
           }
          },
          "shapedefaults": {
           "line": {
            "color": "#2a3f5f"
           }
          },
          "ternary": {
           "aaxis": {
            "gridcolor": "white",
            "linecolor": "white",
            "ticks": ""
           },
           "baxis": {
            "gridcolor": "white",
            "linecolor": "white",
            "ticks": ""
           },
           "bgcolor": "#E5ECF6",
           "caxis": {
            "gridcolor": "white",
            "linecolor": "white",
            "ticks": ""
           }
          },
          "title": {
           "x": 0.05
          },
          "xaxis": {
           "automargin": true,
           "gridcolor": "white",
           "linecolor": "white",
           "ticks": "",
           "title": {
            "standoff": 15
           },
           "zerolinecolor": "white",
           "zerolinewidth": 2
          },
          "yaxis": {
           "automargin": true,
           "gridcolor": "white",
           "linecolor": "white",
           "ticks": "",
           "title": {
            "standoff": 15
           },
           "zerolinecolor": "white",
           "zerolinewidth": 2
          }
         }
        }
       }
      }
     },
     "metadata": {},
     "output_type": "display_data"
    }
   ],
   "source": [
    "dataframe = citing_sentence.join([y])\n",
    "correlation_matrix(dataframe)"
   ]
  },
  {
   "cell_type": "code",
   "execution_count": 8,
   "metadata": {},
   "outputs": [],
   "source": [
    "from sklearn.feature_selection import chi2, SelectKBest\n",
    "from sklearn.preprocessing import MinMaxScaler\n",
    "\n",
    "def find_chi(features, y, k):\n",
    "    chi_square = SelectKBest(score_func=chi2, k=k)\n",
    "    fit = chi_square.fit(features, y)\n",
    "    \n",
    "    selected_feature_indices = chi_square.get_support(indices=True)\n",
    "    feature_names = features.columns\n",
    "    chi2_scores = fit.scores_\n",
    "    feature_score_dict = dict(zip(feature_names, chi2_scores))\n",
    "    sorted_features = sorted(feature_score_dict.items(), key=lambda x: x[1], reverse=True)\n",
    "    selected_feature_names = [feature[0] for feature in sorted_features[:k]]\n",
    "    \n",
    "    print(\"Selected Feature Names:\", selected_feature_names)\n",
    "    x_chi = chi_square.fit_transform(features, y)\n",
    "    \n",
    "    scaler = MinMaxScaler()\n",
    "    x = scaler.fit_transform(x_chi)\n",
    "    \n",
    "    x_res, y_res = oversampling(x, y)\n",
    "    x_train, x_test, y_train, y_test = train_split(x_res, y_res)\n",
    "    return x_train, x_test, y_train, y_test, selected_feature_names"
   ]
  },
  {
   "cell_type": "code",
   "execution_count": 9,
   "metadata": {},
   "outputs": [],
   "source": [
    "from imblearn.over_sampling import SMOTE\n",
    "\n",
    "def oversampling(x, y):\n",
    "    sm = SMOTE(random_state=123)\n",
    "    x_res, y_res = sm.fit_resample(x, y)\n",
    "    return x_res, y_res"
   ]
  },
  {
   "cell_type": "code",
   "execution_count": 10,
   "metadata": {},
   "outputs": [],
   "source": [
    "from sklearn.model_selection import train_test_split\n",
    "\n",
    "def train_split(x, y):\n",
    "    x_train, x_test, y_train, y_test = train_test_split(x, y, test_size=0.2, random_state=123)\n",
    "    return x_train, x_test, y_train, y_test"
   ]
  },
  {
   "cell_type": "code",
   "execution_count": 11,
   "metadata": {},
   "outputs": [],
   "source": [
    "test = pd.DataFrame(columns=['Features', 'Accuracy'])"
   ]
  },
  {
   "cell_type": "code",
   "execution_count": 12,
   "metadata": {},
   "outputs": [],
   "source": [
    "from xgboost import XGBClassifier\n",
    "from sklearn.metrics import accuracy_score\n",
    "\n",
    "def model(features, y, i):\n",
    "    model = XGBClassifier()\n",
    "    x_train, x_test, y_train, y_test, selected_feature_names = find_chi(features, y, i)\n",
    "    model.fit(x_train, y_train)\n",
    "    \n",
    "    y_pred = model.predict(x_test)\n",
    "    predictions = [round(value) for value in y_pred]\n",
    "    \n",
    "    accuracy = accuracy_score(y_test, predictions)\n",
    "    new_data = pd.DataFrame({'Features': [selected_feature_names], 'Accuracy': [\"%.2f%%\" % (accuracy * 100.0)]})\n",
    "    global test\n",
    "    test = pd.concat([test, new_data], ignore_index=True)\n",
    "    return accuracy"
   ]
  },
  {
   "cell_type": "code",
   "execution_count": 13,
   "metadata": {},
   "outputs": [
    {
     "name": "stdout",
     "output_type": "stream",
     "text": [
      "Selected Feature Names: ['atr11']\n",
      "Accuracy: 57.04%\n",
      "Selected Feature Names: ['atr11', 'atr9']\n",
      "Accuracy: 64.44%\n",
      "Selected Feature Names: ['atr11', 'atr9', 'atr2']\n",
      "Accuracy: 85.68%\n",
      "Selected Feature Names: ['atr11', 'atr9', 'atr2', 'atr10']\n",
      "Accuracy: 86.87%\n",
      "Selected Feature Names: ['atr11', 'atr9', 'atr2', 'atr10', 'atr8']\n",
      "Accuracy: 88.78%\n",
      "Selected Feature Names: ['atr11', 'atr9', 'atr2', 'atr10', 'atr8', 'atr1']\n",
      "Accuracy: 88.78%\n",
      "Selected Feature Names: ['atr11', 'atr9', 'atr2', 'atr10', 'atr8', 'atr1', 'atr3']\n",
      "Accuracy: 90.69%\n",
      "Selected Feature Names: ['atr11', 'atr9', 'atr2', 'atr10', 'atr8', 'atr1', 'atr3', 'atr14']\n",
      "Accuracy: 91.89%\n",
      "Selected Feature Names: ['atr11', 'atr9', 'atr2', 'atr10', 'atr8', 'atr1', 'atr3', 'atr14', 'atr18']\n",
      "Accuracy: 91.65%\n",
      "Selected Feature Names: ['atr11', 'atr9', 'atr2', 'atr10', 'atr8', 'atr1', 'atr3', 'atr14', 'atr18', 'atr0']\n",
      "Accuracy: 91.41%\n",
      "Selected Feature Names: ['atr11', 'atr9', 'atr2', 'atr10', 'atr8', 'atr1', 'atr3', 'atr14', 'atr18', 'atr0', 'atr4']\n",
      "Accuracy: 91.17%\n",
      "Selected Feature Names: ['atr11', 'atr9', 'atr2', 'atr10', 'atr8', 'atr1', 'atr3', 'atr14', 'atr18', 'atr0', 'atr4', 'atr16']\n",
      "Accuracy: 90.69%\n",
      "Selected Feature Names: ['atr11', 'atr9', 'atr2', 'atr10', 'atr8', 'atr1', 'atr3', 'atr14', 'atr18', 'atr0', 'atr4', 'atr16', 'atr6']\n",
      "Accuracy: 91.89%\n",
      "Selected Feature Names: ['atr11', 'atr9', 'atr2', 'atr10', 'atr8', 'atr1', 'atr3', 'atr14', 'atr18', 'atr0', 'atr4', 'atr16', 'atr6', 'atr7']\n",
      "Accuracy: 91.17%\n",
      "Selected Feature Names: ['atr11', 'atr9', 'atr2', 'atr10', 'atr8', 'atr1', 'atr3', 'atr14', 'atr18', 'atr0', 'atr4', 'atr16', 'atr6', 'atr7', 'atr15']\n",
      "Accuracy: 90.21%\n",
      "Selected Feature Names: ['atr11', 'atr9', 'atr2', 'atr10', 'atr8', 'atr1', 'atr3', 'atr14', 'atr18', 'atr0', 'atr4', 'atr16', 'atr6', 'atr7', 'atr15', 'atr17']\n",
      "Accuracy: 90.69%\n",
      "Selected Feature Names: ['atr11', 'atr9', 'atr2', 'atr10', 'atr8', 'atr1', 'atr3', 'atr14', 'atr18', 'atr0', 'atr4', 'atr16', 'atr6', 'atr7', 'atr15', 'atr17', 'atr13']\n",
      "Accuracy: 92.36%\n",
      "Selected Feature Names: ['atr11', 'atr9', 'atr2', 'atr10', 'atr8', 'atr1', 'atr3', 'atr14', 'atr18', 'atr0', 'atr4', 'atr16', 'atr6', 'atr7', 'atr15', 'atr17', 'atr13', 'atr19']\n",
      "Accuracy: 92.12%\n",
      "Selected Feature Names: ['atr11', 'atr9', 'atr2', 'atr10', 'atr8', 'atr1', 'atr3', 'atr14', 'atr18', 'atr0', 'atr4', 'atr16', 'atr6', 'atr7', 'atr15', 'atr17', 'atr13', 'atr19', 'atr5']\n",
      "Accuracy: 91.65%\n",
      "Selected Feature Names: ['atr11', 'atr9', 'atr2', 'atr10', 'atr8', 'atr1', 'atr3', 'atr14', 'atr18', 'atr0', 'atr4', 'atr16', 'atr6', 'atr7', 'atr15', 'atr17', 'atr13', 'atr19', 'atr5', 'atr12']\n",
      "Accuracy: 91.41%\n"
     ]
    }
   ],
   "source": [
    "for i in dict(enumerate(citing_sentence)):\n",
    "    accuracy = model(citing_sentence, y, i+1)\n",
    "    print(\"Accuracy: %.2f%%\" % (accuracy * 100.0))"
   ]
  },
  {
   "cell_type": "markdown",
   "metadata": {},
   "source": [
    "## Regular Sentences Predictor"
   ]
  },
  {
   "cell_type": "code",
   "execution_count": 14,
   "metadata": {},
   "outputs": [],
   "source": [
    "regular_sentences = data[['atr20', 'atr21', 'atr22', 'atr23', 'atr24', 'atr25', 'atr26', 'atr27', 'atr28', 'atr29', 'atr30', 'atr31', 'atr32', 'atr33', 'atr34', 'atr35', 'atr36', 'atr37', 'atr38', 'atr39']]"
   ]
  },
  {
   "cell_type": "code",
   "execution_count": 15,
   "metadata": {},
   "outputs": [
    {
     "data": {
      "application/vnd.plotly.v1+json": {
       "config": {
        "plotlyServerURL": "https://plot.ly"
       },
       "data": [
        {
         "text": [
          [
           1,
           0.16225462235644283,
           0.22084181849223786,
           0.24124549115468705,
           0.11940566083942439,
           0.262971239423704,
           0.1300803807865249,
           0.11575402524260203,
           0.0356653218284973,
           -0.033978505591834046,
           0.026459048999574852,
           0.08824127799768632,
           0.034010402831147604,
           0.046622740871172796,
           0.14226311471194747,
           -0.013683109950391768,
           0.09598785823723295,
           -0.012173114817666341,
           0.4172788550904688,
           0.4416763627189423,
           0.030353224690378003
          ],
          [
           0.16225462235644283,
           1,
           0.19487097321144392,
           0.12461033420917023,
           0.06183130963005959,
           0.24903399708206014,
           0.18212480070269166,
           0.16853709730731936,
           0.06677807076477296,
           0.10747824494609634,
           0.04533069980514099,
           0.057675732782426097,
           0.10737087453152316,
           0.08596869583733863,
           0.14440526380819402,
           0.05683896663815368,
           0.14864000571630717,
           -0.005020020526800826,
           0.23898800698618852,
           0.3341285247385542,
           -0.009595736249498284
          ],
          [
           0.22084181849223786,
           0.19487097321144392,
           1,
           0.27073253736756453,
           0.0956141771685197,
           0.22565644198774598,
           0.13580281633423377,
           0.1018699892825487,
           0.09136009938535791,
           0.0507356726371519,
           0.15510670365663987,
           0.11824746635450345,
           0.1280371805118682,
           0.1825295223935798,
           0.22390443015762576,
           0.11356683011174044,
           0.13891572474058014,
           0.0732703232530254,
           0.27344736940082276,
           0.4643802063680467,
           0.05033045468010192
          ],
          [
           0.24124549115468705,
           0.12461033420917023,
           0.27073253736756453,
           1,
           -0.008410833475271514,
           0.044477667391660494,
           0.11281783926171672,
           0.22609348870708018,
           0.08158379003891912,
           0.02132071248341413,
           0.08531458224092317,
           0.17033164329267406,
           0.16110471372611224,
           0.09805810028068147,
           0.170809083848786,
           0.05870165576852596,
           0.013456538966638483,
           0.11990242836561843,
           0.1878359309345817,
           0.30731599880139127,
           0.0034025157891948076
          ],
          [
           0.11940566083942439,
           0.06183130963005959,
           0.0956141771685197,
           -0.008410833475271514,
           1,
           0.04391860275713049,
           0.105116505620606,
           0.08880591578609674,
           0.03206284172988378,
           0.09928086285571383,
           0.024811524444690668,
           0.06394295547821718,
           0.03861813763362134,
           -0.008132884622945556,
           0.19029191435313314,
           -0.014125959236732849,
           0.08398460470410378,
           0.04915096641996704,
           0.0544754453204812,
           0.1138320266109258,
           0.005275096457226196
          ],
          [
           0.262971239423704,
           0.24903399708206014,
           0.22565644198774598,
           0.044477667391660494,
           0.04391860275713049,
           1,
           0.33899247402737426,
           0.31130193721168814,
           0.2106718268248367,
           0.1275096744687715,
           0.07223040074037175,
           -0.04163910701541887,
           -0.09508005501753401,
           0.07681140096125899,
           0.02490040151070905,
           -0.048070335625054285,
           0.3993103363736507,
           0.11843240720004168,
           0.6811987542492822,
           0.8495422157208873,
           0.02275139674706957
          ],
          [
           0.1300803807865249,
           0.18212480070269166,
           0.13580281633423377,
           0.11281783926171672,
           0.105116505620606,
           0.33899247402737426,
           1,
           0.2914317300787018,
           0.15490487798628833,
           0.1796700310111665,
           0.09103228603907845,
           0.03801727707651943,
           0.006432618243550344,
           0.04361740560361712,
           0.048469662673269076,
           0.04244531707973437,
           0.21769791791016663,
           0.1164557554019486,
           0.2302107971755616,
           0.374691471313212,
           -0.012399049323170099
          ],
          [
           0.11575402524260203,
           0.16853709730731936,
           0.1018699892825487,
           0.22609348870708018,
           0.08880591578609674,
           0.31130193721168814,
           0.2914317300787018,
           1,
           0.24463886945861157,
           0.4129244595673745,
           0.14735471371266273,
           0.09539398230193244,
           0.14053432941571353,
           0.20474521774981022,
           0.10223031561662085,
           0.19130625171560642,
           0.29737814780425653,
           0.2698351613585594,
           0.07848088314748064,
           0.3721075773222131,
           -0.028025404236032326
          ],
          [
           0.0356653218284973,
           0.06677807076477296,
           0.09136009938535791,
           0.08158379003891912,
           0.03206284172988378,
           0.2106718268248367,
           0.15490487798628833,
           0.24463886945861157,
           1,
           0.18045938797521194,
           0.09652609200202507,
           0.07805138121971737,
           -0.0019081797001376602,
           0.038809913332982005,
           0.025860726886988327,
           0.051881898493285235,
           0.20615977154663717,
           0.11811382042181735,
           0.14957944924090633,
           0.26447438188393607,
           0.012252644655845402
          ],
          [
           -0.033978505591834046,
           0.10747824494609634,
           0.0507356726371519,
           0.02132071248341413,
           0.09928086285571383,
           0.1275096744687715,
           0.1796700310111665,
           0.4129244595673745,
           0.18045938797521194,
           1,
           0.049384697924299954,
           0.030792731637750075,
           0.13825675209859034,
           0.16783368698041456,
           0.0714851108565669,
           0.15300488815535304,
           0.16209792767668932,
           0.20514092479173862,
           -0.09838657848541596,
           0.14800409312770338,
           -0.004588984535747343
          ],
          [
           0.026459048999574852,
           0.04533069980514099,
           0.15510670365663987,
           0.08531458224092317,
           0.024811524444690668,
           0.07223040074037175,
           0.09103228603907845,
           0.14735471371266273,
           0.09652609200202507,
           0.049384697924299954,
           1,
           0.0769110368687036,
           -0.03609940040216088,
           0.07590485173824663,
           0.03828474131843424,
           0.0018696995639159862,
           0.09848596556275524,
           0.07130898176467668,
           -0.0021691803338780664,
           0.112206818090348,
           0.011330363137772049
          ],
          [
           0.08824127799768632,
           0.057675732782426097,
           0.11824746635450345,
           0.17033164329267406,
           0.06394295547821718,
           -0.04163910701541887,
           0.03801727707651943,
           0.09539398230193244,
           0.07805138121971737,
           0.030792731637750075,
           0.0769110368687036,
           1,
           0.13325727031318055,
           0.1377862268589438,
           0.15790465749854934,
           0.0744869112347285,
           0.048007081252828016,
           0.08956995165911127,
           -0.013192192507094108,
           0.06435233856820845,
           0.03534874220357837
          ],
          [
           0.034010402831147604,
           0.10737087453152316,
           0.1280371805118682,
           0.16110471372611224,
           0.03861813763362134,
           -0.09508005501753401,
           0.006432618243550344,
           0.14053432941571353,
           -0.0019081797001376602,
           0.13825675209859034,
           -0.03609940040216088,
           0.13325727031318055,
           1,
           0.07699944119711445,
           0.15688968331209405,
           0.14029950201552344,
           -0.015345238511392668,
           0.020902471766530376,
           -0.05716136072471527,
           0.027519462736195568,
           -0.06192013598284627
          ],
          [
           0.046622740871172796,
           0.08596869583733863,
           0.1825295223935798,
           0.09805810028068147,
           -0.008132884622945556,
           0.07681140096125899,
           0.04361740560361712,
           0.20474521774981022,
           0.038809913332982005,
           0.16783368698041456,
           0.07590485173824663,
           0.1377862268589438,
           0.07699944119711445,
           1,
           0.051911566553633146,
           0.09035675422286739,
           0.081897953452766,
           0.21200490809744763,
           -0.012145270519124734,
           0.13059477969170585,
           -0.0023085793645292564
          ],
          [
           0.14226311471194747,
           0.14440526380819402,
           0.22390443015762576,
           0.170809083848786,
           0.19029191435313314,
           0.02490040151070905,
           0.048469662673269076,
           0.10223031561662085,
           0.025860726886988327,
           0.0714851108565669,
           0.03828474131843424,
           0.15790465749854934,
           0.15688968331209405,
           0.051911566553633146,
           1,
           0.10898850864655472,
           0.0706818013417027,
           0.03000726311002903,
           0.12188334151280178,
           0.1922004608079474,
           -0.04896531737012331
          ],
          [
           -0.013683109950391768,
           0.05683896663815368,
           0.11356683011174044,
           0.05870165576852596,
           -0.014125959236732849,
           -0.048070335625054285,
           0.04244531707973437,
           0.19130625171560642,
           0.051881898493285235,
           0.15300488815535304,
           0.0018696995639159862,
           0.0744869112347285,
           0.14029950201552344,
           0.09035675422286739,
           0.10898850864655472,
           1,
           0.1036071634556043,
           0.11280126971808803,
           -0.07553899306674687,
           0.025912819972507287,
           0.02318706848932912
          ],
          [
           0.09598785823723295,
           0.14864000571630717,
           0.13891572474058014,
           0.013456538966638483,
           0.08398460470410378,
           0.3993103363736507,
           0.21769791791016663,
           0.29737814780425653,
           0.20615977154663717,
           0.16209792767668932,
           0.09848596556275524,
           0.048007081252828016,
           -0.015345238511392668,
           0.081897953452766,
           0.0706818013417027,
           0.1036071634556043,
           1,
           0.2012331656967847,
           0.2510847075327851,
           0.4023815849083996,
           0.016870192414207133
          ],
          [
           -0.012173114817666341,
           -0.005020020526800826,
           0.0732703232530254,
           0.11990242836561843,
           0.04915096641996704,
           0.11843240720004168,
           0.1164557554019486,
           0.2698351613585594,
           0.11811382042181735,
           0.20514092479173862,
           0.07130898176467668,
           0.08956995165911127,
           0.020902471766530376,
           0.21200490809744763,
           0.03000726311002903,
           0.11280126971808803,
           0.2012331656967847,
           1,
           0.022402944999677946,
           0.16554619966705897,
           0.008339082814009016
          ],
          [
           0.4172788550904688,
           0.23898800698618852,
           0.27344736940082276,
           0.1878359309345817,
           0.0544754453204812,
           0.6811987542492822,
           0.2302107971755616,
           0.07848088314748064,
           0.14957944924090633,
           -0.09838657848541596,
           -0.0021691803338780664,
           -0.013192192507094108,
           -0.05716136072471527,
           -0.012145270519124734,
           0.12188334151280178,
           -0.07553899306674687,
           0.2510847075327851,
           0.022402944999677946,
           1,
           0.8857055303228025,
           0.0007125688911569071
          ],
          [
           0.4416763627189423,
           0.3341285247385542,
           0.4643802063680467,
           0.30731599880139127,
           0.1138320266109258,
           0.8495422157208873,
           0.374691471313212,
           0.3721075773222131,
           0.26447438188393607,
           0.14800409312770338,
           0.112206818090348,
           0.06435233856820845,
           0.027519462736195568,
           0.13059477969170585,
           0.1922004608079474,
           0.025912819972507287,
           0.4023815849083996,
           0.16554619966705897,
           0.8857055303228025,
           1,
           0.013615457682163474
          ],
          [
           0.030353224690378003,
           -0.009595736249498284,
           0.05033045468010192,
           0.0034025157891948076,
           0.005275096457226196,
           0.02275139674706957,
           -0.012399049323170099,
           -0.028025404236032326,
           0.012252644655845402,
           -0.004588984535747343,
           0.011330363137772049,
           0.03534874220357837,
           -0.06192013598284627,
           -0.0023085793645292564,
           -0.04896531737012331,
           0.02318706848932912,
           0.016870192414207133,
           0.008339082814009016,
           0.0007125688911569071,
           0.013615457682163474,
           1
          ]
         ],
         "texttemplate": "%{text:.2f}",
         "type": "heatmap",
         "x": [
          "atr20",
          "atr21",
          "atr22",
          "atr23",
          "atr24",
          "atr25",
          "atr26",
          "atr27",
          "atr28",
          "atr29",
          "atr30",
          "atr31",
          "atr32",
          "atr33",
          "atr34",
          "atr35",
          "atr36",
          "atr37",
          "atr38",
          "atr39",
          "motivation"
         ],
         "y": [
          "atr20",
          "atr21",
          "atr22",
          "atr23",
          "atr24",
          "atr25",
          "atr26",
          "atr27",
          "atr28",
          "atr29",
          "atr30",
          "atr31",
          "atr32",
          "atr33",
          "atr34",
          "atr35",
          "atr36",
          "atr37",
          "atr38",
          "atr39",
          "motivation"
         ],
         "z": [
          [
           1,
           0.16225462235644283,
           0.22084181849223786,
           0.24124549115468705,
           0.11940566083942439,
           0.262971239423704,
           0.1300803807865249,
           0.11575402524260203,
           0.0356653218284973,
           -0.033978505591834046,
           0.026459048999574852,
           0.08824127799768632,
           0.034010402831147604,
           0.046622740871172796,
           0.14226311471194747,
           -0.013683109950391768,
           0.09598785823723295,
           -0.012173114817666341,
           0.4172788550904688,
           0.4416763627189423,
           0.030353224690378003
          ],
          [
           0.16225462235644283,
           1,
           0.19487097321144392,
           0.12461033420917023,
           0.06183130963005959,
           0.24903399708206014,
           0.18212480070269166,
           0.16853709730731936,
           0.06677807076477296,
           0.10747824494609634,
           0.04533069980514099,
           0.057675732782426097,
           0.10737087453152316,
           0.08596869583733863,
           0.14440526380819402,
           0.05683896663815368,
           0.14864000571630717,
           -0.005020020526800826,
           0.23898800698618852,
           0.3341285247385542,
           -0.009595736249498284
          ],
          [
           0.22084181849223786,
           0.19487097321144392,
           1,
           0.27073253736756453,
           0.0956141771685197,
           0.22565644198774598,
           0.13580281633423377,
           0.1018699892825487,
           0.09136009938535791,
           0.0507356726371519,
           0.15510670365663987,
           0.11824746635450345,
           0.1280371805118682,
           0.1825295223935798,
           0.22390443015762576,
           0.11356683011174044,
           0.13891572474058014,
           0.0732703232530254,
           0.27344736940082276,
           0.4643802063680467,
           0.05033045468010192
          ],
          [
           0.24124549115468705,
           0.12461033420917023,
           0.27073253736756453,
           1,
           -0.008410833475271514,
           0.044477667391660494,
           0.11281783926171672,
           0.22609348870708018,
           0.08158379003891912,
           0.02132071248341413,
           0.08531458224092317,
           0.17033164329267406,
           0.16110471372611224,
           0.09805810028068147,
           0.170809083848786,
           0.05870165576852596,
           0.013456538966638483,
           0.11990242836561843,
           0.1878359309345817,
           0.30731599880139127,
           0.0034025157891948076
          ],
          [
           0.11940566083942439,
           0.06183130963005959,
           0.0956141771685197,
           -0.008410833475271514,
           1,
           0.04391860275713049,
           0.105116505620606,
           0.08880591578609674,
           0.03206284172988378,
           0.09928086285571383,
           0.024811524444690668,
           0.06394295547821718,
           0.03861813763362134,
           -0.008132884622945556,
           0.19029191435313314,
           -0.014125959236732849,
           0.08398460470410378,
           0.04915096641996704,
           0.0544754453204812,
           0.1138320266109258,
           0.005275096457226196
          ],
          [
           0.262971239423704,
           0.24903399708206014,
           0.22565644198774598,
           0.044477667391660494,
           0.04391860275713049,
           1,
           0.33899247402737426,
           0.31130193721168814,
           0.2106718268248367,
           0.1275096744687715,
           0.07223040074037175,
           -0.04163910701541887,
           -0.09508005501753401,
           0.07681140096125899,
           0.02490040151070905,
           -0.048070335625054285,
           0.3993103363736507,
           0.11843240720004168,
           0.6811987542492822,
           0.8495422157208873,
           0.02275139674706957
          ],
          [
           0.1300803807865249,
           0.18212480070269166,
           0.13580281633423377,
           0.11281783926171672,
           0.105116505620606,
           0.33899247402737426,
           1,
           0.2914317300787018,
           0.15490487798628833,
           0.1796700310111665,
           0.09103228603907845,
           0.03801727707651943,
           0.006432618243550344,
           0.04361740560361712,
           0.048469662673269076,
           0.04244531707973437,
           0.21769791791016663,
           0.1164557554019486,
           0.2302107971755616,
           0.374691471313212,
           -0.012399049323170099
          ],
          [
           0.11575402524260203,
           0.16853709730731936,
           0.1018699892825487,
           0.22609348870708018,
           0.08880591578609674,
           0.31130193721168814,
           0.2914317300787018,
           1,
           0.24463886945861157,
           0.4129244595673745,
           0.14735471371266273,
           0.09539398230193244,
           0.14053432941571353,
           0.20474521774981022,
           0.10223031561662085,
           0.19130625171560642,
           0.29737814780425653,
           0.2698351613585594,
           0.07848088314748064,
           0.3721075773222131,
           -0.028025404236032326
          ],
          [
           0.0356653218284973,
           0.06677807076477296,
           0.09136009938535791,
           0.08158379003891912,
           0.03206284172988378,
           0.2106718268248367,
           0.15490487798628833,
           0.24463886945861157,
           1,
           0.18045938797521194,
           0.09652609200202507,
           0.07805138121971737,
           -0.0019081797001376602,
           0.038809913332982005,
           0.025860726886988327,
           0.051881898493285235,
           0.20615977154663717,
           0.11811382042181735,
           0.14957944924090633,
           0.26447438188393607,
           0.012252644655845402
          ],
          [
           -0.033978505591834046,
           0.10747824494609634,
           0.0507356726371519,
           0.02132071248341413,
           0.09928086285571383,
           0.1275096744687715,
           0.1796700310111665,
           0.4129244595673745,
           0.18045938797521194,
           1,
           0.049384697924299954,
           0.030792731637750075,
           0.13825675209859034,
           0.16783368698041456,
           0.0714851108565669,
           0.15300488815535304,
           0.16209792767668932,
           0.20514092479173862,
           -0.09838657848541596,
           0.14800409312770338,
           -0.004588984535747343
          ],
          [
           0.026459048999574852,
           0.04533069980514099,
           0.15510670365663987,
           0.08531458224092317,
           0.024811524444690668,
           0.07223040074037175,
           0.09103228603907845,
           0.14735471371266273,
           0.09652609200202507,
           0.049384697924299954,
           1,
           0.0769110368687036,
           -0.03609940040216088,
           0.07590485173824663,
           0.03828474131843424,
           0.0018696995639159862,
           0.09848596556275524,
           0.07130898176467668,
           -0.0021691803338780664,
           0.112206818090348,
           0.011330363137772049
          ],
          [
           0.08824127799768632,
           0.057675732782426097,
           0.11824746635450345,
           0.17033164329267406,
           0.06394295547821718,
           -0.04163910701541887,
           0.03801727707651943,
           0.09539398230193244,
           0.07805138121971737,
           0.030792731637750075,
           0.0769110368687036,
           1,
           0.13325727031318055,
           0.1377862268589438,
           0.15790465749854934,
           0.0744869112347285,
           0.048007081252828016,
           0.08956995165911127,
           -0.013192192507094108,
           0.06435233856820845,
           0.03534874220357837
          ],
          [
           0.034010402831147604,
           0.10737087453152316,
           0.1280371805118682,
           0.16110471372611224,
           0.03861813763362134,
           -0.09508005501753401,
           0.006432618243550344,
           0.14053432941571353,
           -0.0019081797001376602,
           0.13825675209859034,
           -0.03609940040216088,
           0.13325727031318055,
           1,
           0.07699944119711445,
           0.15688968331209405,
           0.14029950201552344,
           -0.015345238511392668,
           0.020902471766530376,
           -0.05716136072471527,
           0.027519462736195568,
           -0.06192013598284627
          ],
          [
           0.046622740871172796,
           0.08596869583733863,
           0.1825295223935798,
           0.09805810028068147,
           -0.008132884622945556,
           0.07681140096125899,
           0.04361740560361712,
           0.20474521774981022,
           0.038809913332982005,
           0.16783368698041456,
           0.07590485173824663,
           0.1377862268589438,
           0.07699944119711445,
           1,
           0.051911566553633146,
           0.09035675422286739,
           0.081897953452766,
           0.21200490809744763,
           -0.012145270519124734,
           0.13059477969170585,
           -0.0023085793645292564
          ],
          [
           0.14226311471194747,
           0.14440526380819402,
           0.22390443015762576,
           0.170809083848786,
           0.19029191435313314,
           0.02490040151070905,
           0.048469662673269076,
           0.10223031561662085,
           0.025860726886988327,
           0.0714851108565669,
           0.03828474131843424,
           0.15790465749854934,
           0.15688968331209405,
           0.051911566553633146,
           1,
           0.10898850864655472,
           0.0706818013417027,
           0.03000726311002903,
           0.12188334151280178,
           0.1922004608079474,
           -0.04896531737012331
          ],
          [
           -0.013683109950391768,
           0.05683896663815368,
           0.11356683011174044,
           0.05870165576852596,
           -0.014125959236732849,
           -0.048070335625054285,
           0.04244531707973437,
           0.19130625171560642,
           0.051881898493285235,
           0.15300488815535304,
           0.0018696995639159862,
           0.0744869112347285,
           0.14029950201552344,
           0.09035675422286739,
           0.10898850864655472,
           1,
           0.1036071634556043,
           0.11280126971808803,
           -0.07553899306674687,
           0.025912819972507287,
           0.02318706848932912
          ],
          [
           0.09598785823723295,
           0.14864000571630717,
           0.13891572474058014,
           0.013456538966638483,
           0.08398460470410378,
           0.3993103363736507,
           0.21769791791016663,
           0.29737814780425653,
           0.20615977154663717,
           0.16209792767668932,
           0.09848596556275524,
           0.048007081252828016,
           -0.015345238511392668,
           0.081897953452766,
           0.0706818013417027,
           0.1036071634556043,
           1,
           0.2012331656967847,
           0.2510847075327851,
           0.4023815849083996,
           0.016870192414207133
          ],
          [
           -0.012173114817666341,
           -0.005020020526800826,
           0.0732703232530254,
           0.11990242836561843,
           0.04915096641996704,
           0.11843240720004168,
           0.1164557554019486,
           0.2698351613585594,
           0.11811382042181735,
           0.20514092479173862,
           0.07130898176467668,
           0.08956995165911127,
           0.020902471766530376,
           0.21200490809744763,
           0.03000726311002903,
           0.11280126971808803,
           0.2012331656967847,
           1,
           0.022402944999677946,
           0.16554619966705897,
           0.008339082814009016
          ],
          [
           0.4172788550904688,
           0.23898800698618852,
           0.27344736940082276,
           0.1878359309345817,
           0.0544754453204812,
           0.6811987542492822,
           0.2302107971755616,
           0.07848088314748064,
           0.14957944924090633,
           -0.09838657848541596,
           -0.0021691803338780664,
           -0.013192192507094108,
           -0.05716136072471527,
           -0.012145270519124734,
           0.12188334151280178,
           -0.07553899306674687,
           0.2510847075327851,
           0.022402944999677946,
           1,
           0.8857055303228025,
           0.0007125688911569071
          ],
          [
           0.4416763627189423,
           0.3341285247385542,
           0.4643802063680467,
           0.30731599880139127,
           0.1138320266109258,
           0.8495422157208873,
           0.374691471313212,
           0.3721075773222131,
           0.26447438188393607,
           0.14800409312770338,
           0.112206818090348,
           0.06435233856820845,
           0.027519462736195568,
           0.13059477969170585,
           0.1922004608079474,
           0.025912819972507287,
           0.4023815849083996,
           0.16554619966705897,
           0.8857055303228025,
           1,
           0.013615457682163474
          ],
          [
           0.030353224690378003,
           -0.009595736249498284,
           0.05033045468010192,
           0.0034025157891948076,
           0.005275096457226196,
           0.02275139674706957,
           -0.012399049323170099,
           -0.028025404236032326,
           0.012252644655845402,
           -0.004588984535747343,
           0.011330363137772049,
           0.03534874220357837,
           -0.06192013598284627,
           -0.0023085793645292564,
           -0.04896531737012331,
           0.02318706848932912,
           0.016870192414207133,
           0.008339082814009016,
           0.0007125688911569071,
           0.013615457682163474,
           1
          ]
         ]
        }
       ],
       "layout": {
        "template": {
         "data": {
          "bar": [
           {
            "error_x": {
             "color": "#2a3f5f"
            },
            "error_y": {
             "color": "#2a3f5f"
            },
            "marker": {
             "line": {
              "color": "#E5ECF6",
              "width": 0.5
             },
             "pattern": {
              "fillmode": "overlay",
              "size": 10,
              "solidity": 0.2
             }
            },
            "type": "bar"
           }
          ],
          "barpolar": [
           {
            "marker": {
             "line": {
              "color": "#E5ECF6",
              "width": 0.5
             },
             "pattern": {
              "fillmode": "overlay",
              "size": 10,
              "solidity": 0.2
             }
            },
            "type": "barpolar"
           }
          ],
          "carpet": [
           {
            "aaxis": {
             "endlinecolor": "#2a3f5f",
             "gridcolor": "white",
             "linecolor": "white",
             "minorgridcolor": "white",
             "startlinecolor": "#2a3f5f"
            },
            "baxis": {
             "endlinecolor": "#2a3f5f",
             "gridcolor": "white",
             "linecolor": "white",
             "minorgridcolor": "white",
             "startlinecolor": "#2a3f5f"
            },
            "type": "carpet"
           }
          ],
          "choropleth": [
           {
            "colorbar": {
             "outlinewidth": 0,
             "ticks": ""
            },
            "type": "choropleth"
           }
          ],
          "contour": [
           {
            "colorbar": {
             "outlinewidth": 0,
             "ticks": ""
            },
            "colorscale": [
             [
              0,
              "#0d0887"
             ],
             [
              0.1111111111111111,
              "#46039f"
             ],
             [
              0.2222222222222222,
              "#7201a8"
             ],
             [
              0.3333333333333333,
              "#9c179e"
             ],
             [
              0.4444444444444444,
              "#bd3786"
             ],
             [
              0.5555555555555556,
              "#d8576b"
             ],
             [
              0.6666666666666666,
              "#ed7953"
             ],
             [
              0.7777777777777778,
              "#fb9f3a"
             ],
             [
              0.8888888888888888,
              "#fdca26"
             ],
             [
              1,
              "#f0f921"
             ]
            ],
            "type": "contour"
           }
          ],
          "contourcarpet": [
           {
            "colorbar": {
             "outlinewidth": 0,
             "ticks": ""
            },
            "type": "contourcarpet"
           }
          ],
          "heatmap": [
           {
            "colorbar": {
             "outlinewidth": 0,
             "ticks": ""
            },
            "colorscale": [
             [
              0,
              "#0d0887"
             ],
             [
              0.1111111111111111,
              "#46039f"
             ],
             [
              0.2222222222222222,
              "#7201a8"
             ],
             [
              0.3333333333333333,
              "#9c179e"
             ],
             [
              0.4444444444444444,
              "#bd3786"
             ],
             [
              0.5555555555555556,
              "#d8576b"
             ],
             [
              0.6666666666666666,
              "#ed7953"
             ],
             [
              0.7777777777777778,
              "#fb9f3a"
             ],
             [
              0.8888888888888888,
              "#fdca26"
             ],
             [
              1,
              "#f0f921"
             ]
            ],
            "type": "heatmap"
           }
          ],
          "heatmapgl": [
           {
            "colorbar": {
             "outlinewidth": 0,
             "ticks": ""
            },
            "colorscale": [
             [
              0,
              "#0d0887"
             ],
             [
              0.1111111111111111,
              "#46039f"
             ],
             [
              0.2222222222222222,
              "#7201a8"
             ],
             [
              0.3333333333333333,
              "#9c179e"
             ],
             [
              0.4444444444444444,
              "#bd3786"
             ],
             [
              0.5555555555555556,
              "#d8576b"
             ],
             [
              0.6666666666666666,
              "#ed7953"
             ],
             [
              0.7777777777777778,
              "#fb9f3a"
             ],
             [
              0.8888888888888888,
              "#fdca26"
             ],
             [
              1,
              "#f0f921"
             ]
            ],
            "type": "heatmapgl"
           }
          ],
          "histogram": [
           {
            "marker": {
             "pattern": {
              "fillmode": "overlay",
              "size": 10,
              "solidity": 0.2
             }
            },
            "type": "histogram"
           }
          ],
          "histogram2d": [
           {
            "colorbar": {
             "outlinewidth": 0,
             "ticks": ""
            },
            "colorscale": [
             [
              0,
              "#0d0887"
             ],
             [
              0.1111111111111111,
              "#46039f"
             ],
             [
              0.2222222222222222,
              "#7201a8"
             ],
             [
              0.3333333333333333,
              "#9c179e"
             ],
             [
              0.4444444444444444,
              "#bd3786"
             ],
             [
              0.5555555555555556,
              "#d8576b"
             ],
             [
              0.6666666666666666,
              "#ed7953"
             ],
             [
              0.7777777777777778,
              "#fb9f3a"
             ],
             [
              0.8888888888888888,
              "#fdca26"
             ],
             [
              1,
              "#f0f921"
             ]
            ],
            "type": "histogram2d"
           }
          ],
          "histogram2dcontour": [
           {
            "colorbar": {
             "outlinewidth": 0,
             "ticks": ""
            },
            "colorscale": [
             [
              0,
              "#0d0887"
             ],
             [
              0.1111111111111111,
              "#46039f"
             ],
             [
              0.2222222222222222,
              "#7201a8"
             ],
             [
              0.3333333333333333,
              "#9c179e"
             ],
             [
              0.4444444444444444,
              "#bd3786"
             ],
             [
              0.5555555555555556,
              "#d8576b"
             ],
             [
              0.6666666666666666,
              "#ed7953"
             ],
             [
              0.7777777777777778,
              "#fb9f3a"
             ],
             [
              0.8888888888888888,
              "#fdca26"
             ],
             [
              1,
              "#f0f921"
             ]
            ],
            "type": "histogram2dcontour"
           }
          ],
          "mesh3d": [
           {
            "colorbar": {
             "outlinewidth": 0,
             "ticks": ""
            },
            "type": "mesh3d"
           }
          ],
          "parcoords": [
           {
            "line": {
             "colorbar": {
              "outlinewidth": 0,
              "ticks": ""
             }
            },
            "type": "parcoords"
           }
          ],
          "pie": [
           {
            "automargin": true,
            "type": "pie"
           }
          ],
          "scatter": [
           {
            "fillpattern": {
             "fillmode": "overlay",
             "size": 10,
             "solidity": 0.2
            },
            "type": "scatter"
           }
          ],
          "scatter3d": [
           {
            "line": {
             "colorbar": {
              "outlinewidth": 0,
              "ticks": ""
             }
            },
            "marker": {
             "colorbar": {
              "outlinewidth": 0,
              "ticks": ""
             }
            },
            "type": "scatter3d"
           }
          ],
          "scattercarpet": [
           {
            "marker": {
             "colorbar": {
              "outlinewidth": 0,
              "ticks": ""
             }
            },
            "type": "scattercarpet"
           }
          ],
          "scattergeo": [
           {
            "marker": {
             "colorbar": {
              "outlinewidth": 0,
              "ticks": ""
             }
            },
            "type": "scattergeo"
           }
          ],
          "scattergl": [
           {
            "marker": {
             "colorbar": {
              "outlinewidth": 0,
              "ticks": ""
             }
            },
            "type": "scattergl"
           }
          ],
          "scattermapbox": [
           {
            "marker": {
             "colorbar": {
              "outlinewidth": 0,
              "ticks": ""
             }
            },
            "type": "scattermapbox"
           }
          ],
          "scatterpolar": [
           {
            "marker": {
             "colorbar": {
              "outlinewidth": 0,
              "ticks": ""
             }
            },
            "type": "scatterpolar"
           }
          ],
          "scatterpolargl": [
           {
            "marker": {
             "colorbar": {
              "outlinewidth": 0,
              "ticks": ""
             }
            },
            "type": "scatterpolargl"
           }
          ],
          "scatterternary": [
           {
            "marker": {
             "colorbar": {
              "outlinewidth": 0,
              "ticks": ""
             }
            },
            "type": "scatterternary"
           }
          ],
          "surface": [
           {
            "colorbar": {
             "outlinewidth": 0,
             "ticks": ""
            },
            "colorscale": [
             [
              0,
              "#0d0887"
             ],
             [
              0.1111111111111111,
              "#46039f"
             ],
             [
              0.2222222222222222,
              "#7201a8"
             ],
             [
              0.3333333333333333,
              "#9c179e"
             ],
             [
              0.4444444444444444,
              "#bd3786"
             ],
             [
              0.5555555555555556,
              "#d8576b"
             ],
             [
              0.6666666666666666,
              "#ed7953"
             ],
             [
              0.7777777777777778,
              "#fb9f3a"
             ],
             [
              0.8888888888888888,
              "#fdca26"
             ],
             [
              1,
              "#f0f921"
             ]
            ],
            "type": "surface"
           }
          ],
          "table": [
           {
            "cells": {
             "fill": {
              "color": "#EBF0F8"
             },
             "line": {
              "color": "white"
             }
            },
            "header": {
             "fill": {
              "color": "#C8D4E3"
             },
             "line": {
              "color": "white"
             }
            },
            "type": "table"
           }
          ]
         },
         "layout": {
          "annotationdefaults": {
           "arrowcolor": "#2a3f5f",
           "arrowhead": 0,
           "arrowwidth": 1
          },
          "autotypenumbers": "strict",
          "coloraxis": {
           "colorbar": {
            "outlinewidth": 0,
            "ticks": ""
           }
          },
          "colorscale": {
           "diverging": [
            [
             0,
             "#8e0152"
            ],
            [
             0.1,
             "#c51b7d"
            ],
            [
             0.2,
             "#de77ae"
            ],
            [
             0.3,
             "#f1b6da"
            ],
            [
             0.4,
             "#fde0ef"
            ],
            [
             0.5,
             "#f7f7f7"
            ],
            [
             0.6,
             "#e6f5d0"
            ],
            [
             0.7,
             "#b8e186"
            ],
            [
             0.8,
             "#7fbc41"
            ],
            [
             0.9,
             "#4d9221"
            ],
            [
             1,
             "#276419"
            ]
           ],
           "sequential": [
            [
             0,
             "#0d0887"
            ],
            [
             0.1111111111111111,
             "#46039f"
            ],
            [
             0.2222222222222222,
             "#7201a8"
            ],
            [
             0.3333333333333333,
             "#9c179e"
            ],
            [
             0.4444444444444444,
             "#bd3786"
            ],
            [
             0.5555555555555556,
             "#d8576b"
            ],
            [
             0.6666666666666666,
             "#ed7953"
            ],
            [
             0.7777777777777778,
             "#fb9f3a"
            ],
            [
             0.8888888888888888,
             "#fdca26"
            ],
            [
             1,
             "#f0f921"
            ]
           ],
           "sequentialminus": [
            [
             0,
             "#0d0887"
            ],
            [
             0.1111111111111111,
             "#46039f"
            ],
            [
             0.2222222222222222,
             "#7201a8"
            ],
            [
             0.3333333333333333,
             "#9c179e"
            ],
            [
             0.4444444444444444,
             "#bd3786"
            ],
            [
             0.5555555555555556,
             "#d8576b"
            ],
            [
             0.6666666666666666,
             "#ed7953"
            ],
            [
             0.7777777777777778,
             "#fb9f3a"
            ],
            [
             0.8888888888888888,
             "#fdca26"
            ],
            [
             1,
             "#f0f921"
            ]
           ]
          },
          "colorway": [
           "#636efa",
           "#EF553B",
           "#00cc96",
           "#ab63fa",
           "#FFA15A",
           "#19d3f3",
           "#FF6692",
           "#B6E880",
           "#FF97FF",
           "#FECB52"
          ],
          "font": {
           "color": "#2a3f5f"
          },
          "geo": {
           "bgcolor": "white",
           "lakecolor": "white",
           "landcolor": "#E5ECF6",
           "showlakes": true,
           "showland": true,
           "subunitcolor": "white"
          },
          "hoverlabel": {
           "align": "left"
          },
          "hovermode": "closest",
          "mapbox": {
           "style": "light"
          },
          "paper_bgcolor": "white",
          "plot_bgcolor": "#E5ECF6",
          "polar": {
           "angularaxis": {
            "gridcolor": "white",
            "linecolor": "white",
            "ticks": ""
           },
           "bgcolor": "#E5ECF6",
           "radialaxis": {
            "gridcolor": "white",
            "linecolor": "white",
            "ticks": ""
           }
          },
          "scene": {
           "xaxis": {
            "backgroundcolor": "#E5ECF6",
            "gridcolor": "white",
            "gridwidth": 2,
            "linecolor": "white",
            "showbackground": true,
            "ticks": "",
            "zerolinecolor": "white"
           },
           "yaxis": {
            "backgroundcolor": "#E5ECF6",
            "gridcolor": "white",
            "gridwidth": 2,
            "linecolor": "white",
            "showbackground": true,
            "ticks": "",
            "zerolinecolor": "white"
           },
           "zaxis": {
            "backgroundcolor": "#E5ECF6",
            "gridcolor": "white",
            "gridwidth": 2,
            "linecolor": "white",
            "showbackground": true,
            "ticks": "",
            "zerolinecolor": "white"
           }
          },
          "shapedefaults": {
           "line": {
            "color": "#2a3f5f"
           }
          },
          "ternary": {
           "aaxis": {
            "gridcolor": "white",
            "linecolor": "white",
            "ticks": ""
           },
           "baxis": {
            "gridcolor": "white",
            "linecolor": "white",
            "ticks": ""
           },
           "bgcolor": "#E5ECF6",
           "caxis": {
            "gridcolor": "white",
            "linecolor": "white",
            "ticks": ""
           }
          },
          "title": {
           "x": 0.05
          },
          "xaxis": {
           "automargin": true,
           "gridcolor": "white",
           "linecolor": "white",
           "ticks": "",
           "title": {
            "standoff": 15
           },
           "zerolinecolor": "white",
           "zerolinewidth": 2
          },
          "yaxis": {
           "automargin": true,
           "gridcolor": "white",
           "linecolor": "white",
           "ticks": "",
           "title": {
            "standoff": 15
           },
           "zerolinecolor": "white",
           "zerolinewidth": 2
          }
         }
        }
       }
      }
     },
     "metadata": {},
     "output_type": "display_data"
    }
   ],
   "source": [
    "dataframe = regular_sentences.join([y])\n",
    "correlation_matrix(dataframe)"
   ]
  },
  {
   "cell_type": "code",
   "execution_count": 16,
   "metadata": {},
   "outputs": [
    {
     "name": "stdout",
     "output_type": "stream",
     "text": [
      "Selected Feature Names: ['atr22']\n",
      "Accuracy: 61.34%\n",
      "Selected Feature Names: ['atr22', 'atr25']\n",
      "Accuracy: 83.29%\n",
      "Selected Feature Names: ['atr22', 'atr25', 'atr32']\n",
      "Accuracy: 87.83%\n",
      "Selected Feature Names: ['atr22', 'atr25', 'atr32', 'atr34']\n",
      "Accuracy: 86.63%\n",
      "Selected Feature Names: ['atr22', 'atr25', 'atr32', 'atr34', 'atr39']\n",
      "Accuracy: 90.45%\n",
      "Selected Feature Names: ['atr22', 'atr25', 'atr32', 'atr34', 'atr39', 'atr27']\n",
      "Accuracy: 88.78%\n",
      "Selected Feature Names: ['atr22', 'atr25', 'atr32', 'atr34', 'atr39', 'atr27', 'atr20']\n",
      "Accuracy: 89.98%\n",
      "Selected Feature Names: ['atr22', 'atr25', 'atr32', 'atr34', 'atr39', 'atr27', 'atr20', 'atr31']\n",
      "Accuracy: 90.45%\n",
      "Selected Feature Names: ['atr22', 'atr25', 'atr32', 'atr34', 'atr39', 'atr27', 'atr20', 'atr31', 'atr35']\n",
      "Accuracy: 91.89%\n",
      "Selected Feature Names: ['atr22', 'atr25', 'atr32', 'atr34', 'atr39', 'atr27', 'atr20', 'atr31', 'atr35', 'atr36']\n",
      "Accuracy: 92.12%\n",
      "Selected Feature Names: ['atr22', 'atr25', 'atr32', 'atr34', 'atr39', 'atr27', 'atr20', 'atr31', 'atr35', 'atr36', 'atr28']\n",
      "Accuracy: 91.65%\n",
      "Selected Feature Names: ['atr22', 'atr25', 'atr32', 'atr34', 'atr39', 'atr27', 'atr20', 'atr31', 'atr35', 'atr36', 'atr28', 'atr26']\n",
      "Accuracy: 91.65%\n",
      "Selected Feature Names: ['atr22', 'atr25', 'atr32', 'atr34', 'atr39', 'atr27', 'atr20', 'atr31', 'atr35', 'atr36', 'atr28', 'atr26', 'atr30']\n",
      "Accuracy: 92.60%\n",
      "Selected Feature Names: ['atr22', 'atr25', 'atr32', 'atr34', 'atr39', 'atr27', 'atr20', 'atr31', 'atr35', 'atr36', 'atr28', 'atr26', 'atr30', 'atr21']\n",
      "Accuracy: 90.93%\n",
      "Selected Feature Names: ['atr22', 'atr25', 'atr32', 'atr34', 'atr39', 'atr27', 'atr20', 'atr31', 'atr35', 'atr36', 'atr28', 'atr26', 'atr30', 'atr21', 'atr37']\n",
      "Accuracy: 91.17%\n",
      "Selected Feature Names: ['atr22', 'atr25', 'atr32', 'atr34', 'atr39', 'atr27', 'atr20', 'atr31', 'atr35', 'atr36', 'atr28', 'atr26', 'atr30', 'atr21', 'atr37', 'atr29']\n",
      "Accuracy: 91.41%\n",
      "Selected Feature Names: ['atr22', 'atr25', 'atr32', 'atr34', 'atr39', 'atr27', 'atr20', 'atr31', 'atr35', 'atr36', 'atr28', 'atr26', 'atr30', 'atr21', 'atr37', 'atr29', 'atr23']\n",
      "Accuracy: 91.17%\n",
      "Selected Feature Names: ['atr22', 'atr25', 'atr32', 'atr34', 'atr39', 'atr27', 'atr20', 'atr31', 'atr35', 'atr36', 'atr28', 'atr26', 'atr30', 'atr21', 'atr37', 'atr29', 'atr23', 'atr24']\n",
      "Accuracy: 92.84%\n",
      "Selected Feature Names: ['atr22', 'atr25', 'atr32', 'atr34', 'atr39', 'atr27', 'atr20', 'atr31', 'atr35', 'atr36', 'atr28', 'atr26', 'atr30', 'atr21', 'atr37', 'atr29', 'atr23', 'atr24', 'atr38']\n",
      "Accuracy: 93.08%\n",
      "Selected Feature Names: ['atr22', 'atr25', 'atr32', 'atr34', 'atr39', 'atr27', 'atr20', 'atr31', 'atr35', 'atr36', 'atr28', 'atr26', 'atr30', 'atr21', 'atr37', 'atr29', 'atr23', 'atr24', 'atr38', 'atr33']\n",
      "Accuracy: 92.84%\n"
     ]
    }
   ],
   "source": [
    "for i in dict(enumerate(regular_sentences)):\n",
    "    accuracy = model(regular_sentences, y, i+1)\n",
    "    print(\"Accuracy: %.2f%%\" % (accuracy * 100.0))"
   ]
  },
  {
   "cell_type": "markdown",
   "metadata": {},
   "source": [
    "## Reference-Based Predictor"
   ]
  },
  {
   "cell_type": "code",
   "execution_count": 17,
   "metadata": {},
   "outputs": [],
   "source": [
    "reference_based = data[['num_ref', 'num_ref_3years', 'arxiv', 'neurips', 'iclr', 'icml', 'aaai', 'iccv', 'cvpr', 'emnlp', 'acl', 'naacl', 'eccv', 'icra', 'icassp', 'ijcai', 'aistats', 'sigkdd', 'neuralcom', 'ieee_tran', 'acm_tran', 'mit_press', 'nature', 'jmlr']]"
   ]
  },
  {
   "cell_type": "code",
   "execution_count": 18,
   "metadata": {},
   "outputs": [
    {
     "data": {
      "application/vnd.plotly.v1+json": {
       "config": {
        "plotlyServerURL": "https://plot.ly"
       },
       "data": [
        {
         "text": [
          [
           1,
           0.618564439585256,
           0.28514902991304036,
           0.2911172609568261,
           0.562387587811429,
           0.425805461337196,
           0.1867791313618497,
           0.23621779970327536,
           0.23359690115974643,
           0.06888712235888796,
           0.11671076804878835,
           0.10802117900359365,
           0.1756277322539761,
           0.11576260462997397,
           0.06577961350885297,
           0.20506658810691297,
           0.1370431576650089,
           0.0982488058643687,
           0.17822920868607908,
           0.21747427902472016,
           0.08907405770602024,
           0.13806948500827274,
           0.12336231248273653,
           0.22110390501478597,
           0.035089384557280556
          ],
          [
           0.618564439585256,
           1,
           0.34758924433452554,
           0.42747485650424955,
           0.3405358269977733,
           0.2643051052379455,
           0.08324740439056538,
           0.16823407884679806,
           0.16944994162282095,
           0.08595777570839071,
           0.10305290843163797,
           0.09551494546263216,
           0.1508566594037321,
           0.04526547559681503,
           0.037067096569538084,
           0.07281618160635359,
           -0.014386936064086647,
           -0.018304871187521353,
           0.03906197548266514,
           -0.04186166446352655,
           0.01094792210515529,
           -0.011607371115509147,
           -0.014094985949771457,
           -0.05691200684487127,
           -0.007812704591817899
          ],
          [
           0.28514902991304036,
           0.34758924433452554,
           1,
           -0.19623626637178457,
           0.10785695077180109,
           0.004025368085268062,
           -0.01820041999912637,
           -0.0418082043055321,
           -0.027336381911168394,
           -0.06397383129305699,
           -0.06483575904324473,
           -0.054706045448242216,
           -0.023272789010167577,
           -0.008177905090689608,
           -0.026672278842421317,
           -0.06815650144715835,
           -0.03649352161017298,
           -0.022611937459891984,
           0.10588485281121525,
           -0.07796802185584852,
           -0.05690900899230082,
           0.10698442582340989,
           -0.0034798672242825654,
           -0.007565236084386631,
           0.03972492745793689
          ],
          [
           0.2911172609568261,
           0.42747485650424955,
           -0.19623626637178457,
           1,
           0.3201721804656471,
           0.33770256816098254,
           0.095651897095484,
           0.11127995138915184,
           0.10025341897366788,
           0.02765898890246131,
           0.03456874960833103,
           0.037673894704716604,
           0.07382769781400313,
           -0.010113869096172099,
           0.0029780570458976703,
           0.09803486570743733,
           0.06601978122899367,
           0.016127425428680287,
           -0.013472861508786774,
           -0.08861748655793347,
           -0.05112864083326312,
           -0.04780276154233499,
           -0.0519523744754812,
           -0.040082808910736296,
           -0.01276324969203747
          ],
          [
           0.562387587811429,
           0.3405358269977733,
           0.10785695077180109,
           0.3201721804656471,
           1,
           0.48480301819576943,
           0.13880390835927006,
           0.134272561832402,
           0.08945040253493089,
           -0.039112504962437025,
           -0.07746410323871372,
           -0.056295863300406555,
           0.07253862408650853,
           0.041254626742580576,
           -0.024843136532536603,
           0.14023093109390572,
           0.16621538079854517,
           0.012193263765291177,
           0.10724043703284615,
           0.06040638249527514,
           0.017737084104035652,
           0.12487534730391119,
           -0.029985562751620922,
           0.22213017407580288,
           -0.011478233111339765
          ],
          [
           0.425805461337196,
           0.2643051052379455,
           0.004025368085268062,
           0.33770256816098254,
           0.48480301819576943,
           1,
           0.19050959315948035,
           -0.002476841007256178,
           -0.05950649201859267,
           -0.09218543917545245,
           -0.10505366054114532,
           -0.061073107537693516,
           -0.0763063218308943,
           0.06616994401455062,
           -0.03508735154045923,
           0.20282117797643476,
           0.23439226708235836,
           0.05508353076867993,
           0.09073557214289842,
           0.0014063068014455568,
           -0.027067109015556035,
           0.10407296361400918,
           0.009937690777370875,
           0.254967747314644,
           0.011803343523226576
          ],
          [
           0.1867791313618497,
           0.08324740439056538,
           -0.01820041999912637,
           0.095651897095484,
           0.13880390835927006,
           0.19050959315948035,
           1,
           0.010276963622400817,
           -0.024014101637904912,
           0.12180010501406273,
           0.1189495691866269,
           0.07339434474311764,
           -0.010528772803846745,
           0.05776753160287354,
           -0.07431020185232856,
           0.19413623456704504,
           0.007216680546275143,
           0.10708910396974115,
           -0.010766505190451615,
           -0.05601651538960578,
           -0.0003068632859869955,
           0.04429001968484876,
           -0.006138083469154294,
           0.0730358387167705,
           -0.032259432153616825
          ],
          [
           0.23621779970327536,
           0.16823407884679806,
           -0.0418082043055321,
           0.11127995138915184,
           0.134272561832402,
           -0.002476841007256178,
           0.010276963622400817,
           1,
           0.606689143103999,
           -0.03790176007754153,
           -0.06894527001873772,
           -0.061236739900027225,
           0.5727714153686937,
           0.0038588434163000025,
           0.0009970968891229793,
           0.00032866834449925535,
           -0.036610959673032226,
           -0.011757628736770963,
           -0.01426382578788669,
           0.17059620326544017,
           0.06227296338666089,
           -0.07901914626522605,
           -0.07545170628493063,
           -0.063450800600264,
           -0.027034026499903052
          ],
          [
           0.23359690115974643,
           0.16944994162282095,
           -0.027336381911168394,
           0.10025341897366788,
           0.08945040253493089,
           -0.05950649201859267,
           -0.024014101637904912,
           0.606689143103999,
           1,
           -0.06089877639865119,
           -0.09185492590073563,
           -0.07729121486111801,
           0.6491254663759121,
           0.01660102242422319,
           -0.019386746427457066,
           -0.04525232238040063,
           -0.07384002574356033,
           -0.03138429376485353,
           -0.0529894912547473,
           0.15786602541482467,
           0.11444845058058131,
           -0.09300961243574357,
           -0.10389515037045662,
           -0.07654500717640184,
           -0.019476820232847927
          ],
          [
           0.06888712235888796,
           0.08595777570839071,
           -0.06397383129305699,
           0.02765898890246131,
           -0.039112504962437025,
           -0.09218543917545245,
           0.12180010501406273,
           -0.03790176007754153,
           -0.06089877639865119,
           1,
           0.6095778560960655,
           0.551204757042871,
           -0.05278661393480574,
           -0.054151750072744524,
           0.028055171203475494,
           0.00426610492775412,
           -0.0008130874890659304,
           -0.024346004276454728,
           0.031506028455408244,
           -0.06971704137017656,
           -0.0364311557719117,
           -0.018265566097166373,
           -0.07610329293759764,
           -0.07032024565542885,
           -0.020766529532006132
          ],
          [
           0.11671076804878835,
           0.10305290843163797,
           -0.06483575904324473,
           0.03456874960833103,
           -0.07746410323871372,
           -0.10505366054114532,
           0.1189495691866269,
           -0.06894527001873772,
           -0.09185492590073563,
           0.6095778560960655,
           1,
           0.8008707216490571,
           -0.08685807832098108,
           -0.07109139752784935,
           0.10832755491544592,
           0.02533946913785835,
           -0.02072048000067776,
           -0.00012959419955245436,
           0.017645591811642117,
           -0.08202877327959153,
           -0.03556921195386944,
           -0.031122548140165376,
           -0.08260974276205395,
           -0.03921109735566091,
           -0.01342809854284189
          ],
          [
           0.10802117900359365,
           0.09551494546263216,
           -0.054706045448242216,
           0.037673894704716604,
           -0.056295863300406555,
           -0.061073107537693516,
           0.07339434474311764,
           -0.061236739900027225,
           -0.07729121486111801,
           0.551204757042871,
           0.8008707216490571,
           1,
           -0.07205615169278018,
           -0.05387307309558488,
           0.05997605237291885,
           0.02456335355651758,
           0.0023799647363856344,
           0.021167645932412226,
           0.018647196307648706,
           -0.08522099880775726,
           -0.029881217702742446,
           -0.03829801923380035,
           -0.07323985884180094,
           -0.02832612698094201,
           -0.007599954281442132
          ],
          [
           0.1756277322539761,
           0.1508566594037321,
           -0.023272789010167577,
           0.07382769781400313,
           0.07253862408650853,
           -0.0763063218308943,
           -0.010528772803846745,
           0.5727714153686937,
           0.6491254663759121,
           -0.05278661393480574,
           -0.08685807832098108,
           -0.07205615169278018,
           1,
           0.03943471883502437,
           -0.011599267726911429,
           -0.04154700587583609,
           -0.0885318850881801,
           -0.019844408749204796,
           -0.05853216651634709,
           0.06660443293776304,
           0.02653960932968464,
           -0.07475031696352098,
           -0.07829977998540204,
           -0.06906273852161171,
           0.007623286116490402
          ],
          [
           0.11576260462997397,
           0.04526547559681503,
           -0.008177905090689608,
           -0.010113869096172099,
           0.041254626742580576,
           0.06616994401455062,
           0.05776753160287354,
           0.0038588434163000025,
           0.01660102242422319,
           -0.054151750072744524,
           -0.07109139752784935,
           -0.05387307309558488,
           0.03943471883502437,
           1,
           -0.05352275854600423,
           0.06904249232838587,
           0.008817269074314753,
           -0.05241755815570904,
           -0.035442753947584636,
           0.11521415820678073,
           0.03616706643367872,
           0.00774323230222164,
           0.029773287062911626,
           0.011413881812653454,
           0.011283738072788558
          ],
          [
           0.06577961350885297,
           0.037067096569538084,
           -0.026672278842421317,
           0.0029780570458976703,
           -0.024843136532536603,
           -0.03508735154045923,
           -0.07431020185232856,
           0.0009970968891229793,
           -0.019386746427457066,
           0.028055171203475494,
           0.10832755491544592,
           0.05997605237291885,
           -0.011599267726911429,
           -0.05352275854600423,
           1,
           -0.023722161436499228,
           0.009171492084812702,
           0.018991217437760038,
           0.055616492655003714,
           0.14380127480942698,
           -0.00954976679613127,
           -0.0405273185043877,
           -0.04125657747002377,
           -0.014866139517874926,
           0.0003155107254318456
          ],
          [
           0.20506658810691297,
           0.07281618160635359,
           -0.06815650144715835,
           0.09803486570743733,
           0.14023093109390572,
           0.20282117797643476,
           0.19413623456704504,
           0.00032866834449925535,
           -0.04525232238040063,
           0.00426610492775412,
           0.02533946913785835,
           0.02456335355651758,
           -0.04154700587583609,
           0.06904249232838587,
           -0.023722161436499228,
           1,
           -0.009145362150269573,
           0.13987011646293812,
           -0.033447472906155,
           0.04713942158467831,
           -0.013402120274421017,
           0.137927416826197,
           0.029100728007937112,
           0.08959015512549773,
           0.033960598472173295
          ],
          [
           0.1370431576650089,
           -0.014386936064086647,
           -0.03649352161017298,
           0.06601978122899367,
           0.16621538079854517,
           0.23439226708235836,
           0.007216680546275143,
           -0.036610959673032226,
           -0.07384002574356033,
           -0.0008130874890659304,
           -0.02072048000067776,
           0.0023799647363856344,
           -0.0885318850881801,
           0.008817269074314753,
           0.009171492084812702,
           -0.009145362150269573,
           1,
           -0.023632658883579016,
           0.1088768118737698,
           0.007895228193448331,
           0.0021166522557443525,
           0.03898400337033683,
           -0.03962791456224319,
           0.17352672323536986,
           -0.04542030330880743
          ],
          [
           0.0982488058643687,
           -0.018304871187521353,
           -0.022611937459891984,
           0.016127425428680287,
           0.012193263765291177,
           0.05508353076867993,
           0.10708910396974115,
           -0.011757628736770963,
           -0.03138429376485353,
           -0.024346004276454728,
           -0.00012959419955245436,
           0.021167645932412226,
           -0.019844408749204796,
           -0.05241755815570904,
           0.018991217437760038,
           0.13987011646293812,
           -0.023632658883579016,
           1,
           -0.045567164004327275,
           0.08129491592515604,
           0.023743566790832178,
           -0.00679810303911431,
           -0.005653195387662702,
           0.11197187933153882,
           0.030421250082433855
          ],
          [
           0.17822920868607908,
           0.03906197548266514,
           0.10588485281121525,
           -0.013472861508786774,
           0.10724043703284615,
           0.09073557214289842,
           -0.010766505190451615,
           -0.01426382578788669,
           -0.0529894912547473,
           0.031506028455408244,
           0.017645591811642117,
           0.018647196307648706,
           -0.05853216651634709,
           -0.035442753947584636,
           0.055616492655003714,
           -0.033447472906155,
           0.1088768118737698,
           -0.045567164004327275,
           1,
           0.015413611940854749,
           -0.04462717967500131,
           0.00933151316212425,
           0.0953848227965915,
           0.09570085630159578,
           -0.007157733807124337
          ],
          [
           0.21747427902472016,
           -0.04186166446352655,
           -0.07796802185584852,
           -0.08861748655793347,
           0.06040638249527514,
           0.0014063068014455568,
           -0.05601651538960578,
           0.17059620326544017,
           0.15786602541482467,
           -0.06971704137017656,
           -0.08202877327959153,
           -0.08522099880775726,
           0.06660443293776304,
           0.11521415820678073,
           0.14380127480942698,
           0.04713942158467831,
           0.007895228193448331,
           0.08129491592515604,
           0.015413611940854749,
           1,
           0.0998612973202943,
           -0.0021078877479077432,
           0.00027388847543251336,
           0.08958569310604021,
           0.013927725510560441
          ],
          [
           0.08907405770602024,
           0.01094792210515529,
           -0.05690900899230082,
           -0.05112864083326312,
           0.017737084104035652,
           -0.027067109015556035,
           -0.0003068632859869955,
           0.06227296338666089,
           0.11444845058058131,
           -0.0364311557719117,
           -0.03556921195386944,
           -0.029881217702742446,
           0.02653960932968464,
           0.03616706643367872,
           -0.00954976679613127,
           -0.013402120274421017,
           0.0021166522557443525,
           0.023743566790832178,
           -0.04462717967500131,
           0.0998612973202943,
           1,
           -0.004432574560518884,
           -0.02487586381249553,
           -0.02345208449585431,
           -0.021054794846311276
          ],
          [
           0.13806948500827274,
           -0.011607371115509147,
           0.10698442582340989,
           -0.04780276154233499,
           0.12487534730391119,
           0.10407296361400918,
           0.04429001968484876,
           -0.07901914626522605,
           -0.09300961243574357,
           -0.018265566097166373,
           -0.031122548140165376,
           -0.03829801923380035,
           -0.07475031696352098,
           0.00774323230222164,
           -0.0405273185043877,
           0.137927416826197,
           0.03898400337033683,
           -0.00679810303911431,
           0.00933151316212425,
           -0.0021078877479077432,
           -0.004432574560518884,
           1,
           0.09502813878898474,
           0.13846803879359304,
           0.0015376826337488874
          ],
          [
           0.12336231248273653,
           -0.014094985949771457,
           -0.0034798672242825654,
           -0.0519523744754812,
           -0.029985562751620922,
           0.009937690777370875,
           -0.006138083469154294,
           -0.07545170628493063,
           -0.10389515037045662,
           -0.07610329293759764,
           -0.08260974276205395,
           -0.07323985884180094,
           -0.07829977998540204,
           0.029773287062911626,
           -0.04125657747002377,
           0.029100728007937112,
           -0.03962791456224319,
           -0.005653195387662702,
           0.0953848227965915,
           0.00027388847543251336,
           -0.02487586381249553,
           0.09502813878898474,
           1,
           0.028217453840193564,
           0.02877602576546867
          ],
          [
           0.22110390501478597,
           -0.05691200684487127,
           -0.007565236084386631,
           -0.040082808910736296,
           0.22213017407580288,
           0.254967747314644,
           0.0730358387167705,
           -0.063450800600264,
           -0.07654500717640184,
           -0.07032024565542885,
           -0.03921109735566091,
           -0.02832612698094201,
           -0.06906273852161171,
           0.011413881812653454,
           -0.014866139517874926,
           0.08959015512549773,
           0.17352672323536986,
           0.11197187933153882,
           0.09570085630159578,
           0.08958569310604021,
           -0.02345208449585431,
           0.13846803879359304,
           0.028217453840193564,
           1,
           -0.021057430523818154
          ],
          [
           0.035089384557280556,
           -0.007812704591817899,
           0.03972492745793689,
           -0.01276324969203747,
           -0.011478233111339765,
           0.011803343523226576,
           -0.032259432153616825,
           -0.027034026499903052,
           -0.019476820232847927,
           -0.020766529532006132,
           -0.01342809854284189,
           -0.007599954281442132,
           0.007623286116490402,
           0.011283738072788558,
           0.0003155107254318456,
           0.033960598472173295,
           -0.04542030330880743,
           0.030421250082433855,
           -0.007157733807124337,
           0.013927725510560441,
           -0.021054794846311276,
           0.0015376826337488874,
           0.02877602576546867,
           -0.021057430523818154,
           1
          ]
         ],
         "texttemplate": "%{text:.2f}",
         "type": "heatmap",
         "x": [
          "num_ref",
          "num_ref_3years",
          "arxiv",
          "neurips",
          "iclr",
          "icml",
          "aaai",
          "iccv",
          "cvpr",
          "emnlp",
          "acl",
          "naacl",
          "eccv",
          "icra",
          "icassp",
          "ijcai",
          "aistats",
          "sigkdd",
          "neuralcom",
          "ieee_tran",
          "acm_tran",
          "mit_press",
          "nature",
          "jmlr",
          "motivation"
         ],
         "y": [
          "num_ref",
          "num_ref_3years",
          "arxiv",
          "neurips",
          "iclr",
          "icml",
          "aaai",
          "iccv",
          "cvpr",
          "emnlp",
          "acl",
          "naacl",
          "eccv",
          "icra",
          "icassp",
          "ijcai",
          "aistats",
          "sigkdd",
          "neuralcom",
          "ieee_tran",
          "acm_tran",
          "mit_press",
          "nature",
          "jmlr",
          "motivation"
         ],
         "z": [
          [
           1,
           0.618564439585256,
           0.28514902991304036,
           0.2911172609568261,
           0.562387587811429,
           0.425805461337196,
           0.1867791313618497,
           0.23621779970327536,
           0.23359690115974643,
           0.06888712235888796,
           0.11671076804878835,
           0.10802117900359365,
           0.1756277322539761,
           0.11576260462997397,
           0.06577961350885297,
           0.20506658810691297,
           0.1370431576650089,
           0.0982488058643687,
           0.17822920868607908,
           0.21747427902472016,
           0.08907405770602024,
           0.13806948500827274,
           0.12336231248273653,
           0.22110390501478597,
           0.035089384557280556
          ],
          [
           0.618564439585256,
           1,
           0.34758924433452554,
           0.42747485650424955,
           0.3405358269977733,
           0.2643051052379455,
           0.08324740439056538,
           0.16823407884679806,
           0.16944994162282095,
           0.08595777570839071,
           0.10305290843163797,
           0.09551494546263216,
           0.1508566594037321,
           0.04526547559681503,
           0.037067096569538084,
           0.07281618160635359,
           -0.014386936064086647,
           -0.018304871187521353,
           0.03906197548266514,
           -0.04186166446352655,
           0.01094792210515529,
           -0.011607371115509147,
           -0.014094985949771457,
           -0.05691200684487127,
           -0.007812704591817899
          ],
          [
           0.28514902991304036,
           0.34758924433452554,
           1,
           -0.19623626637178457,
           0.10785695077180109,
           0.004025368085268062,
           -0.01820041999912637,
           -0.0418082043055321,
           -0.027336381911168394,
           -0.06397383129305699,
           -0.06483575904324473,
           -0.054706045448242216,
           -0.023272789010167577,
           -0.008177905090689608,
           -0.026672278842421317,
           -0.06815650144715835,
           -0.03649352161017298,
           -0.022611937459891984,
           0.10588485281121525,
           -0.07796802185584852,
           -0.05690900899230082,
           0.10698442582340989,
           -0.0034798672242825654,
           -0.007565236084386631,
           0.03972492745793689
          ],
          [
           0.2911172609568261,
           0.42747485650424955,
           -0.19623626637178457,
           1,
           0.3201721804656471,
           0.33770256816098254,
           0.095651897095484,
           0.11127995138915184,
           0.10025341897366788,
           0.02765898890246131,
           0.03456874960833103,
           0.037673894704716604,
           0.07382769781400313,
           -0.010113869096172099,
           0.0029780570458976703,
           0.09803486570743733,
           0.06601978122899367,
           0.016127425428680287,
           -0.013472861508786774,
           -0.08861748655793347,
           -0.05112864083326312,
           -0.04780276154233499,
           -0.0519523744754812,
           -0.040082808910736296,
           -0.01276324969203747
          ],
          [
           0.562387587811429,
           0.3405358269977733,
           0.10785695077180109,
           0.3201721804656471,
           1,
           0.48480301819576943,
           0.13880390835927006,
           0.134272561832402,
           0.08945040253493089,
           -0.039112504962437025,
           -0.07746410323871372,
           -0.056295863300406555,
           0.07253862408650853,
           0.041254626742580576,
           -0.024843136532536603,
           0.14023093109390572,
           0.16621538079854517,
           0.012193263765291177,
           0.10724043703284615,
           0.06040638249527514,
           0.017737084104035652,
           0.12487534730391119,
           -0.029985562751620922,
           0.22213017407580288,
           -0.011478233111339765
          ],
          [
           0.425805461337196,
           0.2643051052379455,
           0.004025368085268062,
           0.33770256816098254,
           0.48480301819576943,
           1,
           0.19050959315948035,
           -0.002476841007256178,
           -0.05950649201859267,
           -0.09218543917545245,
           -0.10505366054114532,
           -0.061073107537693516,
           -0.0763063218308943,
           0.06616994401455062,
           -0.03508735154045923,
           0.20282117797643476,
           0.23439226708235836,
           0.05508353076867993,
           0.09073557214289842,
           0.0014063068014455568,
           -0.027067109015556035,
           0.10407296361400918,
           0.009937690777370875,
           0.254967747314644,
           0.011803343523226576
          ],
          [
           0.1867791313618497,
           0.08324740439056538,
           -0.01820041999912637,
           0.095651897095484,
           0.13880390835927006,
           0.19050959315948035,
           1,
           0.010276963622400817,
           -0.024014101637904912,
           0.12180010501406273,
           0.1189495691866269,
           0.07339434474311764,
           -0.010528772803846745,
           0.05776753160287354,
           -0.07431020185232856,
           0.19413623456704504,
           0.007216680546275143,
           0.10708910396974115,
           -0.010766505190451615,
           -0.05601651538960578,
           -0.0003068632859869955,
           0.04429001968484876,
           -0.006138083469154294,
           0.0730358387167705,
           -0.032259432153616825
          ],
          [
           0.23621779970327536,
           0.16823407884679806,
           -0.0418082043055321,
           0.11127995138915184,
           0.134272561832402,
           -0.002476841007256178,
           0.010276963622400817,
           1,
           0.606689143103999,
           -0.03790176007754153,
           -0.06894527001873772,
           -0.061236739900027225,
           0.5727714153686937,
           0.0038588434163000025,
           0.0009970968891229793,
           0.00032866834449925535,
           -0.036610959673032226,
           -0.011757628736770963,
           -0.01426382578788669,
           0.17059620326544017,
           0.06227296338666089,
           -0.07901914626522605,
           -0.07545170628493063,
           -0.063450800600264,
           -0.027034026499903052
          ],
          [
           0.23359690115974643,
           0.16944994162282095,
           -0.027336381911168394,
           0.10025341897366788,
           0.08945040253493089,
           -0.05950649201859267,
           -0.024014101637904912,
           0.606689143103999,
           1,
           -0.06089877639865119,
           -0.09185492590073563,
           -0.07729121486111801,
           0.6491254663759121,
           0.01660102242422319,
           -0.019386746427457066,
           -0.04525232238040063,
           -0.07384002574356033,
           -0.03138429376485353,
           -0.0529894912547473,
           0.15786602541482467,
           0.11444845058058131,
           -0.09300961243574357,
           -0.10389515037045662,
           -0.07654500717640184,
           -0.019476820232847927
          ],
          [
           0.06888712235888796,
           0.08595777570839071,
           -0.06397383129305699,
           0.02765898890246131,
           -0.039112504962437025,
           -0.09218543917545245,
           0.12180010501406273,
           -0.03790176007754153,
           -0.06089877639865119,
           1,
           0.6095778560960655,
           0.551204757042871,
           -0.05278661393480574,
           -0.054151750072744524,
           0.028055171203475494,
           0.00426610492775412,
           -0.0008130874890659304,
           -0.024346004276454728,
           0.031506028455408244,
           -0.06971704137017656,
           -0.0364311557719117,
           -0.018265566097166373,
           -0.07610329293759764,
           -0.07032024565542885,
           -0.020766529532006132
          ],
          [
           0.11671076804878835,
           0.10305290843163797,
           -0.06483575904324473,
           0.03456874960833103,
           -0.07746410323871372,
           -0.10505366054114532,
           0.1189495691866269,
           -0.06894527001873772,
           -0.09185492590073563,
           0.6095778560960655,
           1,
           0.8008707216490571,
           -0.08685807832098108,
           -0.07109139752784935,
           0.10832755491544592,
           0.02533946913785835,
           -0.02072048000067776,
           -0.00012959419955245436,
           0.017645591811642117,
           -0.08202877327959153,
           -0.03556921195386944,
           -0.031122548140165376,
           -0.08260974276205395,
           -0.03921109735566091,
           -0.01342809854284189
          ],
          [
           0.10802117900359365,
           0.09551494546263216,
           -0.054706045448242216,
           0.037673894704716604,
           -0.056295863300406555,
           -0.061073107537693516,
           0.07339434474311764,
           -0.061236739900027225,
           -0.07729121486111801,
           0.551204757042871,
           0.8008707216490571,
           1,
           -0.07205615169278018,
           -0.05387307309558488,
           0.05997605237291885,
           0.02456335355651758,
           0.0023799647363856344,
           0.021167645932412226,
           0.018647196307648706,
           -0.08522099880775726,
           -0.029881217702742446,
           -0.03829801923380035,
           -0.07323985884180094,
           -0.02832612698094201,
           -0.007599954281442132
          ],
          [
           0.1756277322539761,
           0.1508566594037321,
           -0.023272789010167577,
           0.07382769781400313,
           0.07253862408650853,
           -0.0763063218308943,
           -0.010528772803846745,
           0.5727714153686937,
           0.6491254663759121,
           -0.05278661393480574,
           -0.08685807832098108,
           -0.07205615169278018,
           1,
           0.03943471883502437,
           -0.011599267726911429,
           -0.04154700587583609,
           -0.0885318850881801,
           -0.019844408749204796,
           -0.05853216651634709,
           0.06660443293776304,
           0.02653960932968464,
           -0.07475031696352098,
           -0.07829977998540204,
           -0.06906273852161171,
           0.007623286116490402
          ],
          [
           0.11576260462997397,
           0.04526547559681503,
           -0.008177905090689608,
           -0.010113869096172099,
           0.041254626742580576,
           0.06616994401455062,
           0.05776753160287354,
           0.0038588434163000025,
           0.01660102242422319,
           -0.054151750072744524,
           -0.07109139752784935,
           -0.05387307309558488,
           0.03943471883502437,
           1,
           -0.05352275854600423,
           0.06904249232838587,
           0.008817269074314753,
           -0.05241755815570904,
           -0.035442753947584636,
           0.11521415820678073,
           0.03616706643367872,
           0.00774323230222164,
           0.029773287062911626,
           0.011413881812653454,
           0.011283738072788558
          ],
          [
           0.06577961350885297,
           0.037067096569538084,
           -0.026672278842421317,
           0.0029780570458976703,
           -0.024843136532536603,
           -0.03508735154045923,
           -0.07431020185232856,
           0.0009970968891229793,
           -0.019386746427457066,
           0.028055171203475494,
           0.10832755491544592,
           0.05997605237291885,
           -0.011599267726911429,
           -0.05352275854600423,
           1,
           -0.023722161436499228,
           0.009171492084812702,
           0.018991217437760038,
           0.055616492655003714,
           0.14380127480942698,
           -0.00954976679613127,
           -0.0405273185043877,
           -0.04125657747002377,
           -0.014866139517874926,
           0.0003155107254318456
          ],
          [
           0.20506658810691297,
           0.07281618160635359,
           -0.06815650144715835,
           0.09803486570743733,
           0.14023093109390572,
           0.20282117797643476,
           0.19413623456704504,
           0.00032866834449925535,
           -0.04525232238040063,
           0.00426610492775412,
           0.02533946913785835,
           0.02456335355651758,
           -0.04154700587583609,
           0.06904249232838587,
           -0.023722161436499228,
           1,
           -0.009145362150269573,
           0.13987011646293812,
           -0.033447472906155,
           0.04713942158467831,
           -0.013402120274421017,
           0.137927416826197,
           0.029100728007937112,
           0.08959015512549773,
           0.033960598472173295
          ],
          [
           0.1370431576650089,
           -0.014386936064086647,
           -0.03649352161017298,
           0.06601978122899367,
           0.16621538079854517,
           0.23439226708235836,
           0.007216680546275143,
           -0.036610959673032226,
           -0.07384002574356033,
           -0.0008130874890659304,
           -0.02072048000067776,
           0.0023799647363856344,
           -0.0885318850881801,
           0.008817269074314753,
           0.009171492084812702,
           -0.009145362150269573,
           1,
           -0.023632658883579016,
           0.1088768118737698,
           0.007895228193448331,
           0.0021166522557443525,
           0.03898400337033683,
           -0.03962791456224319,
           0.17352672323536986,
           -0.04542030330880743
          ],
          [
           0.0982488058643687,
           -0.018304871187521353,
           -0.022611937459891984,
           0.016127425428680287,
           0.012193263765291177,
           0.05508353076867993,
           0.10708910396974115,
           -0.011757628736770963,
           -0.03138429376485353,
           -0.024346004276454728,
           -0.00012959419955245436,
           0.021167645932412226,
           -0.019844408749204796,
           -0.05241755815570904,
           0.018991217437760038,
           0.13987011646293812,
           -0.023632658883579016,
           1,
           -0.045567164004327275,
           0.08129491592515604,
           0.023743566790832178,
           -0.00679810303911431,
           -0.005653195387662702,
           0.11197187933153882,
           0.030421250082433855
          ],
          [
           0.17822920868607908,
           0.03906197548266514,
           0.10588485281121525,
           -0.013472861508786774,
           0.10724043703284615,
           0.09073557214289842,
           -0.010766505190451615,
           -0.01426382578788669,
           -0.0529894912547473,
           0.031506028455408244,
           0.017645591811642117,
           0.018647196307648706,
           -0.05853216651634709,
           -0.035442753947584636,
           0.055616492655003714,
           -0.033447472906155,
           0.1088768118737698,
           -0.045567164004327275,
           1,
           0.015413611940854749,
           -0.04462717967500131,
           0.00933151316212425,
           0.0953848227965915,
           0.09570085630159578,
           -0.007157733807124337
          ],
          [
           0.21747427902472016,
           -0.04186166446352655,
           -0.07796802185584852,
           -0.08861748655793347,
           0.06040638249527514,
           0.0014063068014455568,
           -0.05601651538960578,
           0.17059620326544017,
           0.15786602541482467,
           -0.06971704137017656,
           -0.08202877327959153,
           -0.08522099880775726,
           0.06660443293776304,
           0.11521415820678073,
           0.14380127480942698,
           0.04713942158467831,
           0.007895228193448331,
           0.08129491592515604,
           0.015413611940854749,
           1,
           0.0998612973202943,
           -0.0021078877479077432,
           0.00027388847543251336,
           0.08958569310604021,
           0.013927725510560441
          ],
          [
           0.08907405770602024,
           0.01094792210515529,
           -0.05690900899230082,
           -0.05112864083326312,
           0.017737084104035652,
           -0.027067109015556035,
           -0.0003068632859869955,
           0.06227296338666089,
           0.11444845058058131,
           -0.0364311557719117,
           -0.03556921195386944,
           -0.029881217702742446,
           0.02653960932968464,
           0.03616706643367872,
           -0.00954976679613127,
           -0.013402120274421017,
           0.0021166522557443525,
           0.023743566790832178,
           -0.04462717967500131,
           0.0998612973202943,
           1,
           -0.004432574560518884,
           -0.02487586381249553,
           -0.02345208449585431,
           -0.021054794846311276
          ],
          [
           0.13806948500827274,
           -0.011607371115509147,
           0.10698442582340989,
           -0.04780276154233499,
           0.12487534730391119,
           0.10407296361400918,
           0.04429001968484876,
           -0.07901914626522605,
           -0.09300961243574357,
           -0.018265566097166373,
           -0.031122548140165376,
           -0.03829801923380035,
           -0.07475031696352098,
           0.00774323230222164,
           -0.0405273185043877,
           0.137927416826197,
           0.03898400337033683,
           -0.00679810303911431,
           0.00933151316212425,
           -0.0021078877479077432,
           -0.004432574560518884,
           1,
           0.09502813878898474,
           0.13846803879359304,
           0.0015376826337488874
          ],
          [
           0.12336231248273653,
           -0.014094985949771457,
           -0.0034798672242825654,
           -0.0519523744754812,
           -0.029985562751620922,
           0.009937690777370875,
           -0.006138083469154294,
           -0.07545170628493063,
           -0.10389515037045662,
           -0.07610329293759764,
           -0.08260974276205395,
           -0.07323985884180094,
           -0.07829977998540204,
           0.029773287062911626,
           -0.04125657747002377,
           0.029100728007937112,
           -0.03962791456224319,
           -0.005653195387662702,
           0.0953848227965915,
           0.00027388847543251336,
           -0.02487586381249553,
           0.09502813878898474,
           1,
           0.028217453840193564,
           0.02877602576546867
          ],
          [
           0.22110390501478597,
           -0.05691200684487127,
           -0.007565236084386631,
           -0.040082808910736296,
           0.22213017407580288,
           0.254967747314644,
           0.0730358387167705,
           -0.063450800600264,
           -0.07654500717640184,
           -0.07032024565542885,
           -0.03921109735566091,
           -0.02832612698094201,
           -0.06906273852161171,
           0.011413881812653454,
           -0.014866139517874926,
           0.08959015512549773,
           0.17352672323536986,
           0.11197187933153882,
           0.09570085630159578,
           0.08958569310604021,
           -0.02345208449585431,
           0.13846803879359304,
           0.028217453840193564,
           1,
           -0.021057430523818154
          ],
          [
           0.035089384557280556,
           -0.007812704591817899,
           0.03972492745793689,
           -0.01276324969203747,
           -0.011478233111339765,
           0.011803343523226576,
           -0.032259432153616825,
           -0.027034026499903052,
           -0.019476820232847927,
           -0.020766529532006132,
           -0.01342809854284189,
           -0.007599954281442132,
           0.007623286116490402,
           0.011283738072788558,
           0.0003155107254318456,
           0.033960598472173295,
           -0.04542030330880743,
           0.030421250082433855,
           -0.007157733807124337,
           0.013927725510560441,
           -0.021054794846311276,
           0.0015376826337488874,
           0.02877602576546867,
           -0.021057430523818154,
           1
          ]
         ]
        }
       ],
       "layout": {
        "template": {
         "data": {
          "bar": [
           {
            "error_x": {
             "color": "#2a3f5f"
            },
            "error_y": {
             "color": "#2a3f5f"
            },
            "marker": {
             "line": {
              "color": "#E5ECF6",
              "width": 0.5
             },
             "pattern": {
              "fillmode": "overlay",
              "size": 10,
              "solidity": 0.2
             }
            },
            "type": "bar"
           }
          ],
          "barpolar": [
           {
            "marker": {
             "line": {
              "color": "#E5ECF6",
              "width": 0.5
             },
             "pattern": {
              "fillmode": "overlay",
              "size": 10,
              "solidity": 0.2
             }
            },
            "type": "barpolar"
           }
          ],
          "carpet": [
           {
            "aaxis": {
             "endlinecolor": "#2a3f5f",
             "gridcolor": "white",
             "linecolor": "white",
             "minorgridcolor": "white",
             "startlinecolor": "#2a3f5f"
            },
            "baxis": {
             "endlinecolor": "#2a3f5f",
             "gridcolor": "white",
             "linecolor": "white",
             "minorgridcolor": "white",
             "startlinecolor": "#2a3f5f"
            },
            "type": "carpet"
           }
          ],
          "choropleth": [
           {
            "colorbar": {
             "outlinewidth": 0,
             "ticks": ""
            },
            "type": "choropleth"
           }
          ],
          "contour": [
           {
            "colorbar": {
             "outlinewidth": 0,
             "ticks": ""
            },
            "colorscale": [
             [
              0,
              "#0d0887"
             ],
             [
              0.1111111111111111,
              "#46039f"
             ],
             [
              0.2222222222222222,
              "#7201a8"
             ],
             [
              0.3333333333333333,
              "#9c179e"
             ],
             [
              0.4444444444444444,
              "#bd3786"
             ],
             [
              0.5555555555555556,
              "#d8576b"
             ],
             [
              0.6666666666666666,
              "#ed7953"
             ],
             [
              0.7777777777777778,
              "#fb9f3a"
             ],
             [
              0.8888888888888888,
              "#fdca26"
             ],
             [
              1,
              "#f0f921"
             ]
            ],
            "type": "contour"
           }
          ],
          "contourcarpet": [
           {
            "colorbar": {
             "outlinewidth": 0,
             "ticks": ""
            },
            "type": "contourcarpet"
           }
          ],
          "heatmap": [
           {
            "colorbar": {
             "outlinewidth": 0,
             "ticks": ""
            },
            "colorscale": [
             [
              0,
              "#0d0887"
             ],
             [
              0.1111111111111111,
              "#46039f"
             ],
             [
              0.2222222222222222,
              "#7201a8"
             ],
             [
              0.3333333333333333,
              "#9c179e"
             ],
             [
              0.4444444444444444,
              "#bd3786"
             ],
             [
              0.5555555555555556,
              "#d8576b"
             ],
             [
              0.6666666666666666,
              "#ed7953"
             ],
             [
              0.7777777777777778,
              "#fb9f3a"
             ],
             [
              0.8888888888888888,
              "#fdca26"
             ],
             [
              1,
              "#f0f921"
             ]
            ],
            "type": "heatmap"
           }
          ],
          "heatmapgl": [
           {
            "colorbar": {
             "outlinewidth": 0,
             "ticks": ""
            },
            "colorscale": [
             [
              0,
              "#0d0887"
             ],
             [
              0.1111111111111111,
              "#46039f"
             ],
             [
              0.2222222222222222,
              "#7201a8"
             ],
             [
              0.3333333333333333,
              "#9c179e"
             ],
             [
              0.4444444444444444,
              "#bd3786"
             ],
             [
              0.5555555555555556,
              "#d8576b"
             ],
             [
              0.6666666666666666,
              "#ed7953"
             ],
             [
              0.7777777777777778,
              "#fb9f3a"
             ],
             [
              0.8888888888888888,
              "#fdca26"
             ],
             [
              1,
              "#f0f921"
             ]
            ],
            "type": "heatmapgl"
           }
          ],
          "histogram": [
           {
            "marker": {
             "pattern": {
              "fillmode": "overlay",
              "size": 10,
              "solidity": 0.2
             }
            },
            "type": "histogram"
           }
          ],
          "histogram2d": [
           {
            "colorbar": {
             "outlinewidth": 0,
             "ticks": ""
            },
            "colorscale": [
             [
              0,
              "#0d0887"
             ],
             [
              0.1111111111111111,
              "#46039f"
             ],
             [
              0.2222222222222222,
              "#7201a8"
             ],
             [
              0.3333333333333333,
              "#9c179e"
             ],
             [
              0.4444444444444444,
              "#bd3786"
             ],
             [
              0.5555555555555556,
              "#d8576b"
             ],
             [
              0.6666666666666666,
              "#ed7953"
             ],
             [
              0.7777777777777778,
              "#fb9f3a"
             ],
             [
              0.8888888888888888,
              "#fdca26"
             ],
             [
              1,
              "#f0f921"
             ]
            ],
            "type": "histogram2d"
           }
          ],
          "histogram2dcontour": [
           {
            "colorbar": {
             "outlinewidth": 0,
             "ticks": ""
            },
            "colorscale": [
             [
              0,
              "#0d0887"
             ],
             [
              0.1111111111111111,
              "#46039f"
             ],
             [
              0.2222222222222222,
              "#7201a8"
             ],
             [
              0.3333333333333333,
              "#9c179e"
             ],
             [
              0.4444444444444444,
              "#bd3786"
             ],
             [
              0.5555555555555556,
              "#d8576b"
             ],
             [
              0.6666666666666666,
              "#ed7953"
             ],
             [
              0.7777777777777778,
              "#fb9f3a"
             ],
             [
              0.8888888888888888,
              "#fdca26"
             ],
             [
              1,
              "#f0f921"
             ]
            ],
            "type": "histogram2dcontour"
           }
          ],
          "mesh3d": [
           {
            "colorbar": {
             "outlinewidth": 0,
             "ticks": ""
            },
            "type": "mesh3d"
           }
          ],
          "parcoords": [
           {
            "line": {
             "colorbar": {
              "outlinewidth": 0,
              "ticks": ""
             }
            },
            "type": "parcoords"
           }
          ],
          "pie": [
           {
            "automargin": true,
            "type": "pie"
           }
          ],
          "scatter": [
           {
            "fillpattern": {
             "fillmode": "overlay",
             "size": 10,
             "solidity": 0.2
            },
            "type": "scatter"
           }
          ],
          "scatter3d": [
           {
            "line": {
             "colorbar": {
              "outlinewidth": 0,
              "ticks": ""
             }
            },
            "marker": {
             "colorbar": {
              "outlinewidth": 0,
              "ticks": ""
             }
            },
            "type": "scatter3d"
           }
          ],
          "scattercarpet": [
           {
            "marker": {
             "colorbar": {
              "outlinewidth": 0,
              "ticks": ""
             }
            },
            "type": "scattercarpet"
           }
          ],
          "scattergeo": [
           {
            "marker": {
             "colorbar": {
              "outlinewidth": 0,
              "ticks": ""
             }
            },
            "type": "scattergeo"
           }
          ],
          "scattergl": [
           {
            "marker": {
             "colorbar": {
              "outlinewidth": 0,
              "ticks": ""
             }
            },
            "type": "scattergl"
           }
          ],
          "scattermapbox": [
           {
            "marker": {
             "colorbar": {
              "outlinewidth": 0,
              "ticks": ""
             }
            },
            "type": "scattermapbox"
           }
          ],
          "scatterpolar": [
           {
            "marker": {
             "colorbar": {
              "outlinewidth": 0,
              "ticks": ""
             }
            },
            "type": "scatterpolar"
           }
          ],
          "scatterpolargl": [
           {
            "marker": {
             "colorbar": {
              "outlinewidth": 0,
              "ticks": ""
             }
            },
            "type": "scatterpolargl"
           }
          ],
          "scatterternary": [
           {
            "marker": {
             "colorbar": {
              "outlinewidth": 0,
              "ticks": ""
             }
            },
            "type": "scatterternary"
           }
          ],
          "surface": [
           {
            "colorbar": {
             "outlinewidth": 0,
             "ticks": ""
            },
            "colorscale": [
             [
              0,
              "#0d0887"
             ],
             [
              0.1111111111111111,
              "#46039f"
             ],
             [
              0.2222222222222222,
              "#7201a8"
             ],
             [
              0.3333333333333333,
              "#9c179e"
             ],
             [
              0.4444444444444444,
              "#bd3786"
             ],
             [
              0.5555555555555556,
              "#d8576b"
             ],
             [
              0.6666666666666666,
              "#ed7953"
             ],
             [
              0.7777777777777778,
              "#fb9f3a"
             ],
             [
              0.8888888888888888,
              "#fdca26"
             ],
             [
              1,
              "#f0f921"
             ]
            ],
            "type": "surface"
           }
          ],
          "table": [
           {
            "cells": {
             "fill": {
              "color": "#EBF0F8"
             },
             "line": {
              "color": "white"
             }
            },
            "header": {
             "fill": {
              "color": "#C8D4E3"
             },
             "line": {
              "color": "white"
             }
            },
            "type": "table"
           }
          ]
         },
         "layout": {
          "annotationdefaults": {
           "arrowcolor": "#2a3f5f",
           "arrowhead": 0,
           "arrowwidth": 1
          },
          "autotypenumbers": "strict",
          "coloraxis": {
           "colorbar": {
            "outlinewidth": 0,
            "ticks": ""
           }
          },
          "colorscale": {
           "diverging": [
            [
             0,
             "#8e0152"
            ],
            [
             0.1,
             "#c51b7d"
            ],
            [
             0.2,
             "#de77ae"
            ],
            [
             0.3,
             "#f1b6da"
            ],
            [
             0.4,
             "#fde0ef"
            ],
            [
             0.5,
             "#f7f7f7"
            ],
            [
             0.6,
             "#e6f5d0"
            ],
            [
             0.7,
             "#b8e186"
            ],
            [
             0.8,
             "#7fbc41"
            ],
            [
             0.9,
             "#4d9221"
            ],
            [
             1,
             "#276419"
            ]
           ],
           "sequential": [
            [
             0,
             "#0d0887"
            ],
            [
             0.1111111111111111,
             "#46039f"
            ],
            [
             0.2222222222222222,
             "#7201a8"
            ],
            [
             0.3333333333333333,
             "#9c179e"
            ],
            [
             0.4444444444444444,
             "#bd3786"
            ],
            [
             0.5555555555555556,
             "#d8576b"
            ],
            [
             0.6666666666666666,
             "#ed7953"
            ],
            [
             0.7777777777777778,
             "#fb9f3a"
            ],
            [
             0.8888888888888888,
             "#fdca26"
            ],
            [
             1,
             "#f0f921"
            ]
           ],
           "sequentialminus": [
            [
             0,
             "#0d0887"
            ],
            [
             0.1111111111111111,
             "#46039f"
            ],
            [
             0.2222222222222222,
             "#7201a8"
            ],
            [
             0.3333333333333333,
             "#9c179e"
            ],
            [
             0.4444444444444444,
             "#bd3786"
            ],
            [
             0.5555555555555556,
             "#d8576b"
            ],
            [
             0.6666666666666666,
             "#ed7953"
            ],
            [
             0.7777777777777778,
             "#fb9f3a"
            ],
            [
             0.8888888888888888,
             "#fdca26"
            ],
            [
             1,
             "#f0f921"
            ]
           ]
          },
          "colorway": [
           "#636efa",
           "#EF553B",
           "#00cc96",
           "#ab63fa",
           "#FFA15A",
           "#19d3f3",
           "#FF6692",
           "#B6E880",
           "#FF97FF",
           "#FECB52"
          ],
          "font": {
           "color": "#2a3f5f"
          },
          "geo": {
           "bgcolor": "white",
           "lakecolor": "white",
           "landcolor": "#E5ECF6",
           "showlakes": true,
           "showland": true,
           "subunitcolor": "white"
          },
          "hoverlabel": {
           "align": "left"
          },
          "hovermode": "closest",
          "mapbox": {
           "style": "light"
          },
          "paper_bgcolor": "white",
          "plot_bgcolor": "#E5ECF6",
          "polar": {
           "angularaxis": {
            "gridcolor": "white",
            "linecolor": "white",
            "ticks": ""
           },
           "bgcolor": "#E5ECF6",
           "radialaxis": {
            "gridcolor": "white",
            "linecolor": "white",
            "ticks": ""
           }
          },
          "scene": {
           "xaxis": {
            "backgroundcolor": "#E5ECF6",
            "gridcolor": "white",
            "gridwidth": 2,
            "linecolor": "white",
            "showbackground": true,
            "ticks": "",
            "zerolinecolor": "white"
           },
           "yaxis": {
            "backgroundcolor": "#E5ECF6",
            "gridcolor": "white",
            "gridwidth": 2,
            "linecolor": "white",
            "showbackground": true,
            "ticks": "",
            "zerolinecolor": "white"
           },
           "zaxis": {
            "backgroundcolor": "#E5ECF6",
            "gridcolor": "white",
            "gridwidth": 2,
            "linecolor": "white",
            "showbackground": true,
            "ticks": "",
            "zerolinecolor": "white"
           }
          },
          "shapedefaults": {
           "line": {
            "color": "#2a3f5f"
           }
          },
          "ternary": {
           "aaxis": {
            "gridcolor": "white",
            "linecolor": "white",
            "ticks": ""
           },
           "baxis": {
            "gridcolor": "white",
            "linecolor": "white",
            "ticks": ""
           },
           "bgcolor": "#E5ECF6",
           "caxis": {
            "gridcolor": "white",
            "linecolor": "white",
            "ticks": ""
           }
          },
          "title": {
           "x": 0.05
          },
          "xaxis": {
           "automargin": true,
           "gridcolor": "white",
           "linecolor": "white",
           "ticks": "",
           "title": {
            "standoff": 15
           },
           "zerolinecolor": "white",
           "zerolinewidth": 2
          },
          "yaxis": {
           "automargin": true,
           "gridcolor": "white",
           "linecolor": "white",
           "ticks": "",
           "title": {
            "standoff": 15
           },
           "zerolinecolor": "white",
           "zerolinewidth": 2
          }
         }
        }
       }
      }
     },
     "metadata": {},
     "output_type": "display_data"
    }
   ],
   "source": [
    "dataframe = reference_based.join([y])\n",
    "correlation_matrix(dataframe)"
   ]
  },
  {
   "cell_type": "code",
   "execution_count": 19,
   "metadata": {},
   "outputs": [
    {
     "name": "stdout",
     "output_type": "stream",
     "text": [
      "Selected Feature Names: ['arxiv']\n",
      "Accuracy: 54.42%\n",
      "Selected Feature Names: ['arxiv', 'num_ref']\n",
      "Accuracy: 87.59%\n",
      "Selected Feature Names: ['arxiv', 'num_ref', 'aistats']\n",
      "Accuracy: 87.59%\n",
      "Selected Feature Names: ['arxiv', 'num_ref', 'aistats', 'sigkdd']\n",
      "Accuracy: 87.83%\n",
      "Selected Feature Names: ['arxiv', 'num_ref', 'aistats', 'sigkdd', 'iccv']\n",
      "Accuracy: 87.59%\n",
      "Selected Feature Names: ['arxiv', 'num_ref', 'aistats', 'sigkdd', 'iccv', 'cvpr']\n",
      "Accuracy: 89.26%\n",
      "Selected Feature Names: ['arxiv', 'num_ref', 'aistats', 'sigkdd', 'iccv', 'cvpr', 'nature']\n",
      "Accuracy: 89.26%\n",
      "Selected Feature Names: ['arxiv', 'num_ref', 'aistats', 'sigkdd', 'iccv', 'cvpr', 'nature', 'aaai']\n",
      "Accuracy: 90.69%\n",
      "Selected Feature Names: ['arxiv', 'num_ref', 'aistats', 'sigkdd', 'iccv', 'cvpr', 'nature', 'aaai', 'ijcai']\n",
      "Accuracy: 91.17%\n",
      "Selected Feature Names: ['arxiv', 'num_ref', 'aistats', 'sigkdd', 'iccv', 'cvpr', 'nature', 'aaai', 'ijcai', 'acm_tran']\n",
      "Accuracy: 89.98%\n",
      "Selected Feature Names: ['arxiv', 'num_ref', 'aistats', 'sigkdd', 'iccv', 'cvpr', 'nature', 'aaai', 'ijcai', 'acm_tran', 'emnlp']\n",
      "Accuracy: 89.98%\n",
      "Selected Feature Names: ['arxiv', 'num_ref', 'aistats', 'sigkdd', 'iccv', 'cvpr', 'nature', 'aaai', 'ijcai', 'acm_tran', 'emnlp', 'acl']\n",
      "Accuracy: 89.98%\n",
      "Selected Feature Names: ['arxiv', 'num_ref', 'aistats', 'sigkdd', 'iccv', 'cvpr', 'nature', 'aaai', 'ijcai', 'acm_tran', 'emnlp', 'acl', 'jmlr']\n",
      "Accuracy: 89.26%\n",
      "Selected Feature Names: ['arxiv', 'num_ref', 'aistats', 'sigkdd', 'iccv', 'cvpr', 'nature', 'aaai', 'ijcai', 'acm_tran', 'emnlp', 'acl', 'jmlr', 'neurips']\n",
      "Accuracy: 90.69%\n",
      "Selected Feature Names: ['arxiv', 'num_ref', 'aistats', 'sigkdd', 'iccv', 'cvpr', 'nature', 'aaai', 'ijcai', 'acm_tran', 'emnlp', 'acl', 'jmlr', 'neurips', 'ieee_tran']\n",
      "Accuracy: 90.69%\n",
      "Selected Feature Names: ['arxiv', 'num_ref', 'aistats', 'sigkdd', 'iccv', 'cvpr', 'nature', 'aaai', 'ijcai', 'acm_tran', 'emnlp', 'acl', 'jmlr', 'neurips', 'ieee_tran', 'icml']\n",
      "Accuracy: 90.69%\n",
      "Selected Feature Names: ['arxiv', 'num_ref', 'aistats', 'sigkdd', 'iccv', 'cvpr', 'nature', 'aaai', 'ijcai', 'acm_tran', 'emnlp', 'acl', 'jmlr', 'neurips', 'ieee_tran', 'icml', 'iclr']\n",
      "Accuracy: 91.17%\n",
      "Selected Feature Names: ['arxiv', 'num_ref', 'aistats', 'sigkdd', 'iccv', 'cvpr', 'nature', 'aaai', 'ijcai', 'acm_tran', 'emnlp', 'acl', 'jmlr', 'neurips', 'ieee_tran', 'icml', 'iclr', 'icra']\n",
      "Accuracy: 91.65%\n",
      "Selected Feature Names: ['arxiv', 'num_ref', 'aistats', 'sigkdd', 'iccv', 'cvpr', 'nature', 'aaai', 'ijcai', 'acm_tran', 'emnlp', 'acl', 'jmlr', 'neurips', 'ieee_tran', 'icml', 'iclr', 'icra', 'num_ref_3years']\n",
      "Accuracy: 90.21%\n",
      "Selected Feature Names: ['arxiv', 'num_ref', 'aistats', 'sigkdd', 'iccv', 'cvpr', 'nature', 'aaai', 'ijcai', 'acm_tran', 'emnlp', 'acl', 'jmlr', 'neurips', 'ieee_tran', 'icml', 'iclr', 'icra', 'num_ref_3years', 'eccv']\n",
      "Accuracy: 90.45%\n",
      "Selected Feature Names: ['arxiv', 'num_ref', 'aistats', 'sigkdd', 'iccv', 'cvpr', 'nature', 'aaai', 'ijcai', 'acm_tran', 'emnlp', 'acl', 'jmlr', 'neurips', 'ieee_tran', 'icml', 'iclr', 'icra', 'num_ref_3years', 'eccv', 'naacl']\n",
      "Accuracy: 89.50%\n",
      "Selected Feature Names: ['arxiv', 'num_ref', 'aistats', 'sigkdd', 'iccv', 'cvpr', 'nature', 'aaai', 'ijcai', 'acm_tran', 'emnlp', 'acl', 'jmlr', 'neurips', 'ieee_tran', 'icml', 'iclr', 'icra', 'num_ref_3years', 'eccv', 'naacl', 'neuralcom']\n",
      "Accuracy: 89.50%\n",
      "Selected Feature Names: ['arxiv', 'num_ref', 'aistats', 'sigkdd', 'iccv', 'cvpr', 'nature', 'aaai', 'ijcai', 'acm_tran', 'emnlp', 'acl', 'jmlr', 'neurips', 'ieee_tran', 'icml', 'iclr', 'icra', 'num_ref_3years', 'eccv', 'naacl', 'neuralcom', 'mit_press']\n",
      "Accuracy: 89.50%\n",
      "Selected Feature Names: ['arxiv', 'num_ref', 'aistats', 'sigkdd', 'iccv', 'cvpr', 'nature', 'aaai', 'ijcai', 'acm_tran', 'emnlp', 'acl', 'jmlr', 'neurips', 'ieee_tran', 'icml', 'iclr', 'icra', 'num_ref_3years', 'eccv', 'naacl', 'neuralcom', 'mit_press', 'icassp']\n",
      "Accuracy: 90.45%\n"
     ]
    }
   ],
   "source": [
    "for i in dict(enumerate(reference_based)):\n",
    "    accuracy = model(reference_based, y, i+1)\n",
    "    print(\"Accuracy: %.2f%%\" % (accuracy * 100.0))"
   ]
  },
  {
   "cell_type": "markdown",
   "metadata": {},
   "source": [
    "## Combination Predictor"
   ]
  },
  {
   "cell_type": "code",
   "execution_count": 20,
   "metadata": {},
   "outputs": [],
   "source": [
    "combination = citing_sentence.join([regular_sentences, reference_based])"
   ]
  },
  {
   "cell_type": "code",
   "execution_count": 21,
   "metadata": {},
   "outputs": [
    {
     "name": "stdout",
     "output_type": "stream",
     "text": [
      "Selected Feature Names: ['atr11']\n",
      "Accuracy: 57.04%\n",
      "Selected Feature Names: ['atr11', 'atr22']\n",
      "Accuracy: 83.29%\n",
      "Selected Feature Names: ['atr11', 'atr22', 'arxiv']\n",
      "Accuracy: 86.87%\n",
      "Selected Feature Names: ['atr11', 'atr22', 'arxiv', 'atr25']\n",
      "Accuracy: 88.07%\n",
      "Selected Feature Names: ['atr11', 'atr22', 'arxiv', 'atr25', 'atr32']\n",
      "Accuracy: 88.78%\n",
      "Selected Feature Names: ['atr11', 'atr22', 'arxiv', 'atr25', 'atr32', 'num_ref']\n",
      "Accuracy: 88.31%\n",
      "Selected Feature Names: ['atr11', 'atr22', 'arxiv', 'atr25', 'atr32', 'num_ref', 'atr34']\n",
      "Accuracy: 88.31%\n",
      "Selected Feature Names: ['atr11', 'atr22', 'arxiv', 'atr25', 'atr32', 'num_ref', 'atr34', 'atr39']\n",
      "Accuracy: 89.50%\n",
      "Selected Feature Names: ['atr11', 'atr22', 'arxiv', 'atr25', 'atr32', 'num_ref', 'atr34', 'atr39', 'atr9']\n",
      "Accuracy: 89.50%\n",
      "Selected Feature Names: ['atr11', 'atr22', 'arxiv', 'atr25', 'atr32', 'num_ref', 'atr34', 'atr39', 'atr9', 'atr2']\n",
      "Accuracy: 89.50%\n",
      "Selected Feature Names: ['atr11', 'atr22', 'arxiv', 'atr25', 'atr32', 'num_ref', 'atr34', 'atr39', 'atr9', 'atr2', 'atr27']\n",
      "Accuracy: 91.65%\n",
      "Selected Feature Names: ['atr11', 'atr22', 'arxiv', 'atr25', 'atr32', 'num_ref', 'atr34', 'atr39', 'atr9', 'atr2', 'atr27', 'aistats']\n",
      "Accuracy: 90.69%\n",
      "Selected Feature Names: ['atr11', 'atr22', 'arxiv', 'atr25', 'atr32', 'num_ref', 'atr34', 'atr39', 'atr9', 'atr2', 'atr27', 'aistats', 'atr10']\n",
      "Accuracy: 90.93%\n",
      "Selected Feature Names: ['atr11', 'atr22', 'arxiv', 'atr25', 'atr32', 'num_ref', 'atr34', 'atr39', 'atr9', 'atr2', 'atr27', 'aistats', 'atr10', 'atr20']\n",
      "Accuracy: 90.69%\n",
      "Selected Feature Names: ['atr11', 'atr22', 'arxiv', 'atr25', 'atr32', 'num_ref', 'atr34', 'atr39', 'atr9', 'atr2', 'atr27', 'aistats', 'atr10', 'atr20', 'sigkdd']\n",
      "Accuracy: 90.69%\n",
      "Selected Feature Names: ['atr11', 'atr22', 'arxiv', 'atr25', 'atr32', 'num_ref', 'atr34', 'atr39', 'atr9', 'atr2', 'atr27', 'aistats', 'atr10', 'atr20', 'sigkdd', 'iccv']\n",
      "Accuracy: 91.41%\n",
      "Selected Feature Names: ['atr11', 'atr22', 'arxiv', 'atr25', 'atr32', 'num_ref', 'atr34', 'atr39', 'atr9', 'atr2', 'atr27', 'aistats', 'atr10', 'atr20', 'sigkdd', 'iccv', 'atr8']\n",
      "Accuracy: 90.69%\n",
      "Selected Feature Names: ['atr11', 'atr22', 'arxiv', 'atr25', 'atr32', 'num_ref', 'atr34', 'atr39', 'atr9', 'atr2', 'atr27', 'aistats', 'atr10', 'atr20', 'sigkdd', 'iccv', 'atr8', 'cvpr']\n",
      "Accuracy: 92.12%\n",
      "Selected Feature Names: ['atr11', 'atr22', 'arxiv', 'atr25', 'atr32', 'num_ref', 'atr34', 'atr39', 'atr9', 'atr2', 'atr27', 'aistats', 'atr10', 'atr20', 'sigkdd', 'iccv', 'atr8', 'cvpr', 'atr31']\n",
      "Accuracy: 90.69%\n",
      "Selected Feature Names: ['atr11', 'atr22', 'arxiv', 'atr25', 'atr32', 'num_ref', 'atr34', 'atr39', 'atr9', 'atr2', 'atr27', 'aistats', 'atr10', 'atr20', 'sigkdd', 'iccv', 'atr8', 'cvpr', 'atr31', 'nature']\n",
      "Accuracy: 91.41%\n",
      "Selected Feature Names: ['atr11', 'atr22', 'arxiv', 'atr25', 'atr32', 'num_ref', 'atr34', 'atr39', 'atr9', 'atr2', 'atr27', 'aistats', 'atr10', 'atr20', 'sigkdd', 'iccv', 'atr8', 'cvpr', 'atr31', 'nature', 'aaai']\n",
      "Accuracy: 91.41%\n",
      "Selected Feature Names: ['atr11', 'atr22', 'arxiv', 'atr25', 'atr32', 'num_ref', 'atr34', 'atr39', 'atr9', 'atr2', 'atr27', 'aistats', 'atr10', 'atr20', 'sigkdd', 'iccv', 'atr8', 'cvpr', 'atr31', 'nature', 'aaai', 'atr1']\n",
      "Accuracy: 90.93%\n",
      "Selected Feature Names: ['atr11', 'atr22', 'arxiv', 'atr25', 'atr32', 'num_ref', 'atr34', 'atr39', 'atr9', 'atr2', 'atr27', 'aistats', 'atr10', 'atr20', 'sigkdd', 'iccv', 'atr8', 'cvpr', 'atr31', 'nature', 'aaai', 'atr1', 'ijcai']\n",
      "Accuracy: 90.69%\n",
      "Selected Feature Names: ['atr11', 'atr22', 'arxiv', 'atr25', 'atr32', 'num_ref', 'atr34', 'atr39', 'atr9', 'atr2', 'atr27', 'aistats', 'atr10', 'atr20', 'sigkdd', 'iccv', 'atr8', 'cvpr', 'atr31', 'nature', 'aaai', 'atr1', 'ijcai', 'acm_tran']\n",
      "Accuracy: 90.45%\n",
      "Selected Feature Names: ['atr11', 'atr22', 'arxiv', 'atr25', 'atr32', 'num_ref', 'atr34', 'atr39', 'atr9', 'atr2', 'atr27', 'aistats', 'atr10', 'atr20', 'sigkdd', 'iccv', 'atr8', 'cvpr', 'atr31', 'nature', 'aaai', 'atr1', 'ijcai', 'acm_tran', 'emnlp']\n",
      "Accuracy: 91.41%\n",
      "Selected Feature Names: ['atr11', 'atr22', 'arxiv', 'atr25', 'atr32', 'num_ref', 'atr34', 'atr39', 'atr9', 'atr2', 'atr27', 'aistats', 'atr10', 'atr20', 'sigkdd', 'iccv', 'atr8', 'cvpr', 'atr31', 'nature', 'aaai', 'atr1', 'ijcai', 'acm_tran', 'emnlp', 'atr3']\n",
      "Accuracy: 90.21%\n",
      "Selected Feature Names: ['atr11', 'atr22', 'arxiv', 'atr25', 'atr32', 'num_ref', 'atr34', 'atr39', 'atr9', 'atr2', 'atr27', 'aistats', 'atr10', 'atr20', 'sigkdd', 'iccv', 'atr8', 'cvpr', 'atr31', 'nature', 'aaai', 'atr1', 'ijcai', 'acm_tran', 'emnlp', 'atr3', 'acl']\n",
      "Accuracy: 91.41%\n",
      "Selected Feature Names: ['atr11', 'atr22', 'arxiv', 'atr25', 'atr32', 'num_ref', 'atr34', 'atr39', 'atr9', 'atr2', 'atr27', 'aistats', 'atr10', 'atr20', 'sigkdd', 'iccv', 'atr8', 'cvpr', 'atr31', 'nature', 'aaai', 'atr1', 'ijcai', 'acm_tran', 'emnlp', 'atr3', 'acl', 'atr14']\n",
      "Accuracy: 90.93%\n",
      "Selected Feature Names: ['atr11', 'atr22', 'arxiv', 'atr25', 'atr32', 'num_ref', 'atr34', 'atr39', 'atr9', 'atr2', 'atr27', 'aistats', 'atr10', 'atr20', 'sigkdd', 'iccv', 'atr8', 'cvpr', 'atr31', 'nature', 'aaai', 'atr1', 'ijcai', 'acm_tran', 'emnlp', 'atr3', 'acl', 'atr14', 'atr35']\n",
      "Accuracy: 91.65%\n",
      "Selected Feature Names: ['atr11', 'atr22', 'arxiv', 'atr25', 'atr32', 'num_ref', 'atr34', 'atr39', 'atr9', 'atr2', 'atr27', 'aistats', 'atr10', 'atr20', 'sigkdd', 'iccv', 'atr8', 'cvpr', 'atr31', 'nature', 'aaai', 'atr1', 'ijcai', 'acm_tran', 'emnlp', 'atr3', 'acl', 'atr14', 'atr35', 'atr18']\n",
      "Accuracy: 91.89%\n",
      "Selected Feature Names: ['atr11', 'atr22', 'arxiv', 'atr25', 'atr32', 'num_ref', 'atr34', 'atr39', 'atr9', 'atr2', 'atr27', 'aistats', 'atr10', 'atr20', 'sigkdd', 'iccv', 'atr8', 'cvpr', 'atr31', 'nature', 'aaai', 'atr1', 'ijcai', 'acm_tran', 'emnlp', 'atr3', 'acl', 'atr14', 'atr35', 'atr18', 'jmlr']\n",
      "Accuracy: 90.45%\n",
      "Selected Feature Names: ['atr11', 'atr22', 'arxiv', 'atr25', 'atr32', 'num_ref', 'atr34', 'atr39', 'atr9', 'atr2', 'atr27', 'aistats', 'atr10', 'atr20', 'sigkdd', 'iccv', 'atr8', 'cvpr', 'atr31', 'nature', 'aaai', 'atr1', 'ijcai', 'acm_tran', 'emnlp', 'atr3', 'acl', 'atr14', 'atr35', 'atr18', 'jmlr', 'atr0']\n",
      "Accuracy: 90.93%\n",
      "Selected Feature Names: ['atr11', 'atr22', 'arxiv', 'atr25', 'atr32', 'num_ref', 'atr34', 'atr39', 'atr9', 'atr2', 'atr27', 'aistats', 'atr10', 'atr20', 'sigkdd', 'iccv', 'atr8', 'cvpr', 'atr31', 'nature', 'aaai', 'atr1', 'ijcai', 'acm_tran', 'emnlp', 'atr3', 'acl', 'atr14', 'atr35', 'atr18', 'jmlr', 'atr0', 'neurips']\n",
      "Accuracy: 90.69%\n",
      "Selected Feature Names: ['atr11', 'atr22', 'arxiv', 'atr25', 'atr32', 'num_ref', 'atr34', 'atr39', 'atr9', 'atr2', 'atr27', 'aistats', 'atr10', 'atr20', 'sigkdd', 'iccv', 'atr8', 'cvpr', 'atr31', 'nature', 'aaai', 'atr1', 'ijcai', 'acm_tran', 'emnlp', 'atr3', 'acl', 'atr14', 'atr35', 'atr18', 'jmlr', 'atr0', 'neurips', 'atr4']\n",
      "Accuracy: 91.65%\n",
      "Selected Feature Names: ['atr11', 'atr22', 'arxiv', 'atr25', 'atr32', 'num_ref', 'atr34', 'atr39', 'atr9', 'atr2', 'atr27', 'aistats', 'atr10', 'atr20', 'sigkdd', 'iccv', 'atr8', 'cvpr', 'atr31', 'nature', 'aaai', 'atr1', 'ijcai', 'acm_tran', 'emnlp', 'atr3', 'acl', 'atr14', 'atr35', 'atr18', 'jmlr', 'atr0', 'neurips', 'atr4', 'atr36']\n",
      "Accuracy: 91.65%\n",
      "Selected Feature Names: ['atr11', 'atr22', 'arxiv', 'atr25', 'atr32', 'num_ref', 'atr34', 'atr39', 'atr9', 'atr2', 'atr27', 'aistats', 'atr10', 'atr20', 'sigkdd', 'iccv', 'atr8', 'cvpr', 'atr31', 'nature', 'aaai', 'atr1', 'ijcai', 'acm_tran', 'emnlp', 'atr3', 'acl', 'atr14', 'atr35', 'atr18', 'jmlr', 'atr0', 'neurips', 'atr4', 'atr36', 'atr16']\n",
      "Accuracy: 91.41%\n",
      "Selected Feature Names: ['atr11', 'atr22', 'arxiv', 'atr25', 'atr32', 'num_ref', 'atr34', 'atr39', 'atr9', 'atr2', 'atr27', 'aistats', 'atr10', 'atr20', 'sigkdd', 'iccv', 'atr8', 'cvpr', 'atr31', 'nature', 'aaai', 'atr1', 'ijcai', 'acm_tran', 'emnlp', 'atr3', 'acl', 'atr14', 'atr35', 'atr18', 'jmlr', 'atr0', 'neurips', 'atr4', 'atr36', 'atr16', 'ieee_tran']\n",
      "Accuracy: 91.89%\n",
      "Selected Feature Names: ['atr11', 'atr22', 'arxiv', 'atr25', 'atr32', 'num_ref', 'atr34', 'atr39', 'atr9', 'atr2', 'atr27', 'aistats', 'atr10', 'atr20', 'sigkdd', 'iccv', 'atr8', 'cvpr', 'atr31', 'nature', 'aaai', 'atr1', 'ijcai', 'acm_tran', 'emnlp', 'atr3', 'acl', 'atr14', 'atr35', 'atr18', 'jmlr', 'atr0', 'neurips', 'atr4', 'atr36', 'atr16', 'ieee_tran', 'atr6']\n",
      "Accuracy: 92.12%\n",
      "Selected Feature Names: ['atr11', 'atr22', 'arxiv', 'atr25', 'atr32', 'num_ref', 'atr34', 'atr39', 'atr9', 'atr2', 'atr27', 'aistats', 'atr10', 'atr20', 'sigkdd', 'iccv', 'atr8', 'cvpr', 'atr31', 'nature', 'aaai', 'atr1', 'ijcai', 'acm_tran', 'emnlp', 'atr3', 'acl', 'atr14', 'atr35', 'atr18', 'jmlr', 'atr0', 'neurips', 'atr4', 'atr36', 'atr16', 'ieee_tran', 'atr6', 'icml']\n",
      "Accuracy: 92.60%\n",
      "Selected Feature Names: ['atr11', 'atr22', 'arxiv', 'atr25', 'atr32', 'num_ref', 'atr34', 'atr39', 'atr9', 'atr2', 'atr27', 'aistats', 'atr10', 'atr20', 'sigkdd', 'iccv', 'atr8', 'cvpr', 'atr31', 'nature', 'aaai', 'atr1', 'ijcai', 'acm_tran', 'emnlp', 'atr3', 'acl', 'atr14', 'atr35', 'atr18', 'jmlr', 'atr0', 'neurips', 'atr4', 'atr36', 'atr16', 'ieee_tran', 'atr6', 'icml', 'iclr']\n",
      "Accuracy: 92.36%\n",
      "Selected Feature Names: ['atr11', 'atr22', 'arxiv', 'atr25', 'atr32', 'num_ref', 'atr34', 'atr39', 'atr9', 'atr2', 'atr27', 'aistats', 'atr10', 'atr20', 'sigkdd', 'iccv', 'atr8', 'cvpr', 'atr31', 'nature', 'aaai', 'atr1', 'ijcai', 'acm_tran', 'emnlp', 'atr3', 'acl', 'atr14', 'atr35', 'atr18', 'jmlr', 'atr0', 'neurips', 'atr4', 'atr36', 'atr16', 'ieee_tran', 'atr6', 'icml', 'iclr', 'icra']\n",
      "Accuracy: 92.36%\n",
      "Selected Feature Names: ['atr11', 'atr22', 'arxiv', 'atr25', 'atr32', 'num_ref', 'atr34', 'atr39', 'atr9', 'atr2', 'atr27', 'aistats', 'atr10', 'atr20', 'sigkdd', 'iccv', 'atr8', 'cvpr', 'atr31', 'nature', 'aaai', 'atr1', 'ijcai', 'acm_tran', 'emnlp', 'atr3', 'acl', 'atr14', 'atr35', 'atr18', 'jmlr', 'atr0', 'neurips', 'atr4', 'atr36', 'atr16', 'ieee_tran', 'atr6', 'icml', 'iclr', 'icra', 'atr28']\n",
      "Accuracy: 91.65%\n",
      "Selected Feature Names: ['atr11', 'atr22', 'arxiv', 'atr25', 'atr32', 'num_ref', 'atr34', 'atr39', 'atr9', 'atr2', 'atr27', 'aistats', 'atr10', 'atr20', 'sigkdd', 'iccv', 'atr8', 'cvpr', 'atr31', 'nature', 'aaai', 'atr1', 'ijcai', 'acm_tran', 'emnlp', 'atr3', 'acl', 'atr14', 'atr35', 'atr18', 'jmlr', 'atr0', 'neurips', 'atr4', 'atr36', 'atr16', 'ieee_tran', 'atr6', 'icml', 'iclr', 'icra', 'atr28', 'atr26']\n",
      "Accuracy: 91.89%\n",
      "Selected Feature Names: ['atr11', 'atr22', 'arxiv', 'atr25', 'atr32', 'num_ref', 'atr34', 'atr39', 'atr9', 'atr2', 'atr27', 'aistats', 'atr10', 'atr20', 'sigkdd', 'iccv', 'atr8', 'cvpr', 'atr31', 'nature', 'aaai', 'atr1', 'ijcai', 'acm_tran', 'emnlp', 'atr3', 'acl', 'atr14', 'atr35', 'atr18', 'jmlr', 'atr0', 'neurips', 'atr4', 'atr36', 'atr16', 'ieee_tran', 'atr6', 'icml', 'iclr', 'icra', 'atr28', 'atr26', 'atr30']\n",
      "Accuracy: 93.08%\n",
      "Selected Feature Names: ['atr11', 'atr22', 'arxiv', 'atr25', 'atr32', 'num_ref', 'atr34', 'atr39', 'atr9', 'atr2', 'atr27', 'aistats', 'atr10', 'atr20', 'sigkdd', 'iccv', 'atr8', 'cvpr', 'atr31', 'nature', 'aaai', 'atr1', 'ijcai', 'acm_tran', 'emnlp', 'atr3', 'acl', 'atr14', 'atr35', 'atr18', 'jmlr', 'atr0', 'neurips', 'atr4', 'atr36', 'atr16', 'ieee_tran', 'atr6', 'icml', 'iclr', 'icra', 'atr28', 'atr26', 'atr30', 'atr7']\n",
      "Accuracy: 90.93%\n",
      "Selected Feature Names: ['atr11', 'atr22', 'arxiv', 'atr25', 'atr32', 'num_ref', 'atr34', 'atr39', 'atr9', 'atr2', 'atr27', 'aistats', 'atr10', 'atr20', 'sigkdd', 'iccv', 'atr8', 'cvpr', 'atr31', 'nature', 'aaai', 'atr1', 'ijcai', 'acm_tran', 'emnlp', 'atr3', 'acl', 'atr14', 'atr35', 'atr18', 'jmlr', 'atr0', 'neurips', 'atr4', 'atr36', 'atr16', 'ieee_tran', 'atr6', 'icml', 'iclr', 'icra', 'atr28', 'atr26', 'atr30', 'atr7', 'num_ref_3years']\n",
      "Accuracy: 91.65%\n",
      "Selected Feature Names: ['atr11', 'atr22', 'arxiv', 'atr25', 'atr32', 'num_ref', 'atr34', 'atr39', 'atr9', 'atr2', 'atr27', 'aistats', 'atr10', 'atr20', 'sigkdd', 'iccv', 'atr8', 'cvpr', 'atr31', 'nature', 'aaai', 'atr1', 'ijcai', 'acm_tran', 'emnlp', 'atr3', 'acl', 'atr14', 'atr35', 'atr18', 'jmlr', 'atr0', 'neurips', 'atr4', 'atr36', 'atr16', 'ieee_tran', 'atr6', 'icml', 'iclr', 'icra', 'atr28', 'atr26', 'atr30', 'atr7', 'num_ref_3years', 'atr15']\n",
      "Accuracy: 91.89%\n",
      "Selected Feature Names: ['atr11', 'atr22', 'arxiv', 'atr25', 'atr32', 'num_ref', 'atr34', 'atr39', 'atr9', 'atr2', 'atr27', 'aistats', 'atr10', 'atr20', 'sigkdd', 'iccv', 'atr8', 'cvpr', 'atr31', 'nature', 'aaai', 'atr1', 'ijcai', 'acm_tran', 'emnlp', 'atr3', 'acl', 'atr14', 'atr35', 'atr18', 'jmlr', 'atr0', 'neurips', 'atr4', 'atr36', 'atr16', 'ieee_tran', 'atr6', 'icml', 'iclr', 'icra', 'atr28', 'atr26', 'atr30', 'atr7', 'num_ref_3years', 'atr15', 'atr17']\n",
      "Accuracy: 91.41%\n",
      "Selected Feature Names: ['atr11', 'atr22', 'arxiv', 'atr25', 'atr32', 'num_ref', 'atr34', 'atr39', 'atr9', 'atr2', 'atr27', 'aistats', 'atr10', 'atr20', 'sigkdd', 'iccv', 'atr8', 'cvpr', 'atr31', 'nature', 'aaai', 'atr1', 'ijcai', 'acm_tran', 'emnlp', 'atr3', 'acl', 'atr14', 'atr35', 'atr18', 'jmlr', 'atr0', 'neurips', 'atr4', 'atr36', 'atr16', 'ieee_tran', 'atr6', 'icml', 'iclr', 'icra', 'atr28', 'atr26', 'atr30', 'atr7', 'num_ref_3years', 'atr15', 'atr17', 'atr13']\n",
      "Accuracy: 91.41%\n",
      "Selected Feature Names: ['atr11', 'atr22', 'arxiv', 'atr25', 'atr32', 'num_ref', 'atr34', 'atr39', 'atr9', 'atr2', 'atr27', 'aistats', 'atr10', 'atr20', 'sigkdd', 'iccv', 'atr8', 'cvpr', 'atr31', 'nature', 'aaai', 'atr1', 'ijcai', 'acm_tran', 'emnlp', 'atr3', 'acl', 'atr14', 'atr35', 'atr18', 'jmlr', 'atr0', 'neurips', 'atr4', 'atr36', 'atr16', 'ieee_tran', 'atr6', 'icml', 'iclr', 'icra', 'atr28', 'atr26', 'atr30', 'atr7', 'num_ref_3years', 'atr15', 'atr17', 'atr13', 'atr21']\n",
      "Accuracy: 91.41%\n",
      "Selected Feature Names: ['atr11', 'atr22', 'arxiv', 'atr25', 'atr32', 'num_ref', 'atr34', 'atr39', 'atr9', 'atr2', 'atr27', 'aistats', 'atr10', 'atr20', 'sigkdd', 'iccv', 'atr8', 'cvpr', 'atr31', 'nature', 'aaai', 'atr1', 'ijcai', 'acm_tran', 'emnlp', 'atr3', 'acl', 'atr14', 'atr35', 'atr18', 'jmlr', 'atr0', 'neurips', 'atr4', 'atr36', 'atr16', 'ieee_tran', 'atr6', 'icml', 'iclr', 'icra', 'atr28', 'atr26', 'atr30', 'atr7', 'num_ref_3years', 'atr15', 'atr17', 'atr13', 'atr21', 'eccv']\n",
      "Accuracy: 92.36%\n",
      "Selected Feature Names: ['atr11', 'atr22', 'arxiv', 'atr25', 'atr32', 'num_ref', 'atr34', 'atr39', 'atr9', 'atr2', 'atr27', 'aistats', 'atr10', 'atr20', 'sigkdd', 'iccv', 'atr8', 'cvpr', 'atr31', 'nature', 'aaai', 'atr1', 'ijcai', 'acm_tran', 'emnlp', 'atr3', 'acl', 'atr14', 'atr35', 'atr18', 'jmlr', 'atr0', 'neurips', 'atr4', 'atr36', 'atr16', 'ieee_tran', 'atr6', 'icml', 'iclr', 'icra', 'atr28', 'atr26', 'atr30', 'atr7', 'num_ref_3years', 'atr15', 'atr17', 'atr13', 'atr21', 'eccv', 'naacl']\n",
      "Accuracy: 92.60%\n",
      "Selected Feature Names: ['atr11', 'atr22', 'arxiv', 'atr25', 'atr32', 'num_ref', 'atr34', 'atr39', 'atr9', 'atr2', 'atr27', 'aistats', 'atr10', 'atr20', 'sigkdd', 'iccv', 'atr8', 'cvpr', 'atr31', 'nature', 'aaai', 'atr1', 'ijcai', 'acm_tran', 'emnlp', 'atr3', 'acl', 'atr14', 'atr35', 'atr18', 'jmlr', 'atr0', 'neurips', 'atr4', 'atr36', 'atr16', 'ieee_tran', 'atr6', 'icml', 'iclr', 'icra', 'atr28', 'atr26', 'atr30', 'atr7', 'num_ref_3years', 'atr15', 'atr17', 'atr13', 'atr21', 'eccv', 'naacl', 'atr19']\n",
      "Accuracy: 91.65%\n",
      "Selected Feature Names: ['atr11', 'atr22', 'arxiv', 'atr25', 'atr32', 'num_ref', 'atr34', 'atr39', 'atr9', 'atr2', 'atr27', 'aistats', 'atr10', 'atr20', 'sigkdd', 'iccv', 'atr8', 'cvpr', 'atr31', 'nature', 'aaai', 'atr1', 'ijcai', 'acm_tran', 'emnlp', 'atr3', 'acl', 'atr14', 'atr35', 'atr18', 'jmlr', 'atr0', 'neurips', 'atr4', 'atr36', 'atr16', 'ieee_tran', 'atr6', 'icml', 'iclr', 'icra', 'atr28', 'atr26', 'atr30', 'atr7', 'num_ref_3years', 'atr15', 'atr17', 'atr13', 'atr21', 'eccv', 'naacl', 'atr19', 'atr37']\n",
      "Accuracy: 92.84%\n",
      "Selected Feature Names: ['atr11', 'atr22', 'arxiv', 'atr25', 'atr32', 'num_ref', 'atr34', 'atr39', 'atr9', 'atr2', 'atr27', 'aistats', 'atr10', 'atr20', 'sigkdd', 'iccv', 'atr8', 'cvpr', 'atr31', 'nature', 'aaai', 'atr1', 'ijcai', 'acm_tran', 'emnlp', 'atr3', 'acl', 'atr14', 'atr35', 'atr18', 'jmlr', 'atr0', 'neurips', 'atr4', 'atr36', 'atr16', 'ieee_tran', 'atr6', 'icml', 'iclr', 'icra', 'atr28', 'atr26', 'atr30', 'atr7', 'num_ref_3years', 'atr15', 'atr17', 'atr13', 'atr21', 'eccv', 'naacl', 'atr19', 'atr37', 'atr5']\n",
      "Accuracy: 92.36%\n",
      "Selected Feature Names: ['atr11', 'atr22', 'arxiv', 'atr25', 'atr32', 'num_ref', 'atr34', 'atr39', 'atr9', 'atr2', 'atr27', 'aistats', 'atr10', 'atr20', 'sigkdd', 'iccv', 'atr8', 'cvpr', 'atr31', 'nature', 'aaai', 'atr1', 'ijcai', 'acm_tran', 'emnlp', 'atr3', 'acl', 'atr14', 'atr35', 'atr18', 'jmlr', 'atr0', 'neurips', 'atr4', 'atr36', 'atr16', 'ieee_tran', 'atr6', 'icml', 'iclr', 'icra', 'atr28', 'atr26', 'atr30', 'atr7', 'num_ref_3years', 'atr15', 'atr17', 'atr13', 'atr21', 'eccv', 'naacl', 'atr19', 'atr37', 'atr5', 'neuralcom']\n",
      "Accuracy: 91.89%\n",
      "Selected Feature Names: ['atr11', 'atr22', 'arxiv', 'atr25', 'atr32', 'num_ref', 'atr34', 'atr39', 'atr9', 'atr2', 'atr27', 'aistats', 'atr10', 'atr20', 'sigkdd', 'iccv', 'atr8', 'cvpr', 'atr31', 'nature', 'aaai', 'atr1', 'ijcai', 'acm_tran', 'emnlp', 'atr3', 'acl', 'atr14', 'atr35', 'atr18', 'jmlr', 'atr0', 'neurips', 'atr4', 'atr36', 'atr16', 'ieee_tran', 'atr6', 'icml', 'iclr', 'icra', 'atr28', 'atr26', 'atr30', 'atr7', 'num_ref_3years', 'atr15', 'atr17', 'atr13', 'atr21', 'eccv', 'naacl', 'atr19', 'atr37', 'atr5', 'neuralcom', 'atr29']\n",
      "Accuracy: 92.36%\n",
      "Selected Feature Names: ['atr11', 'atr22', 'arxiv', 'atr25', 'atr32', 'num_ref', 'atr34', 'atr39', 'atr9', 'atr2', 'atr27', 'aistats', 'atr10', 'atr20', 'sigkdd', 'iccv', 'atr8', 'cvpr', 'atr31', 'nature', 'aaai', 'atr1', 'ijcai', 'acm_tran', 'emnlp', 'atr3', 'acl', 'atr14', 'atr35', 'atr18', 'jmlr', 'atr0', 'neurips', 'atr4', 'atr36', 'atr16', 'ieee_tran', 'atr6', 'icml', 'iclr', 'icra', 'atr28', 'atr26', 'atr30', 'atr7', 'num_ref_3years', 'atr15', 'atr17', 'atr13', 'atr21', 'eccv', 'naacl', 'atr19', 'atr37', 'atr5', 'neuralcom', 'atr29', 'atr12']\n",
      "Accuracy: 92.36%\n",
      "Selected Feature Names: ['atr11', 'atr22', 'arxiv', 'atr25', 'atr32', 'num_ref', 'atr34', 'atr39', 'atr9', 'atr2', 'atr27', 'aistats', 'atr10', 'atr20', 'sigkdd', 'iccv', 'atr8', 'cvpr', 'atr31', 'nature', 'aaai', 'atr1', 'ijcai', 'acm_tran', 'emnlp', 'atr3', 'acl', 'atr14', 'atr35', 'atr18', 'jmlr', 'atr0', 'neurips', 'atr4', 'atr36', 'atr16', 'ieee_tran', 'atr6', 'icml', 'iclr', 'icra', 'atr28', 'atr26', 'atr30', 'atr7', 'num_ref_3years', 'atr15', 'atr17', 'atr13', 'atr21', 'eccv', 'naacl', 'atr19', 'atr37', 'atr5', 'neuralcom', 'atr29', 'atr12', 'atr23']\n",
      "Accuracy: 92.60%\n",
      "Selected Feature Names: ['atr11', 'atr22', 'arxiv', 'atr25', 'atr32', 'num_ref', 'atr34', 'atr39', 'atr9', 'atr2', 'atr27', 'aistats', 'atr10', 'atr20', 'sigkdd', 'iccv', 'atr8', 'cvpr', 'atr31', 'nature', 'aaai', 'atr1', 'ijcai', 'acm_tran', 'emnlp', 'atr3', 'acl', 'atr14', 'atr35', 'atr18', 'jmlr', 'atr0', 'neurips', 'atr4', 'atr36', 'atr16', 'ieee_tran', 'atr6', 'icml', 'iclr', 'icra', 'atr28', 'atr26', 'atr30', 'atr7', 'num_ref_3years', 'atr15', 'atr17', 'atr13', 'atr21', 'eccv', 'naacl', 'atr19', 'atr37', 'atr5', 'neuralcom', 'atr29', 'atr12', 'atr23', 'atr24']\n",
      "Accuracy: 92.36%\n",
      "Selected Feature Names: ['atr11', 'atr22', 'arxiv', 'atr25', 'atr32', 'num_ref', 'atr34', 'atr39', 'atr9', 'atr2', 'atr27', 'aistats', 'atr10', 'atr20', 'sigkdd', 'iccv', 'atr8', 'cvpr', 'atr31', 'nature', 'aaai', 'atr1', 'ijcai', 'acm_tran', 'emnlp', 'atr3', 'acl', 'atr14', 'atr35', 'atr18', 'jmlr', 'atr0', 'neurips', 'atr4', 'atr36', 'atr16', 'ieee_tran', 'atr6', 'icml', 'iclr', 'icra', 'atr28', 'atr26', 'atr30', 'atr7', 'num_ref_3years', 'atr15', 'atr17', 'atr13', 'atr21', 'eccv', 'naacl', 'atr19', 'atr37', 'atr5', 'neuralcom', 'atr29', 'atr12', 'atr23', 'atr24', 'atr38']\n",
      "Accuracy: 92.12%\n",
      "Selected Feature Names: ['atr11', 'atr22', 'arxiv', 'atr25', 'atr32', 'num_ref', 'atr34', 'atr39', 'atr9', 'atr2', 'atr27', 'aistats', 'atr10', 'atr20', 'sigkdd', 'iccv', 'atr8', 'cvpr', 'atr31', 'nature', 'aaai', 'atr1', 'ijcai', 'acm_tran', 'emnlp', 'atr3', 'acl', 'atr14', 'atr35', 'atr18', 'jmlr', 'atr0', 'neurips', 'atr4', 'atr36', 'atr16', 'ieee_tran', 'atr6', 'icml', 'iclr', 'icra', 'atr28', 'atr26', 'atr30', 'atr7', 'num_ref_3years', 'atr15', 'atr17', 'atr13', 'atr21', 'eccv', 'naacl', 'atr19', 'atr37', 'atr5', 'neuralcom', 'atr29', 'atr12', 'atr23', 'atr24', 'atr38', 'atr33']\n",
      "Accuracy: 92.60%\n",
      "Selected Feature Names: ['atr11', 'atr22', 'arxiv', 'atr25', 'atr32', 'num_ref', 'atr34', 'atr39', 'atr9', 'atr2', 'atr27', 'aistats', 'atr10', 'atr20', 'sigkdd', 'iccv', 'atr8', 'cvpr', 'atr31', 'nature', 'aaai', 'atr1', 'ijcai', 'acm_tran', 'emnlp', 'atr3', 'acl', 'atr14', 'atr35', 'atr18', 'jmlr', 'atr0', 'neurips', 'atr4', 'atr36', 'atr16', 'ieee_tran', 'atr6', 'icml', 'iclr', 'icra', 'atr28', 'atr26', 'atr30', 'atr7', 'num_ref_3years', 'atr15', 'atr17', 'atr13', 'atr21', 'eccv', 'naacl', 'atr19', 'atr37', 'atr5', 'neuralcom', 'atr29', 'atr12', 'atr23', 'atr24', 'atr38', 'atr33', 'mit_press']\n",
      "Accuracy: 92.84%\n",
      "Selected Feature Names: ['atr11', 'atr22', 'arxiv', 'atr25', 'atr32', 'num_ref', 'atr34', 'atr39', 'atr9', 'atr2', 'atr27', 'aistats', 'atr10', 'atr20', 'sigkdd', 'iccv', 'atr8', 'cvpr', 'atr31', 'nature', 'aaai', 'atr1', 'ijcai', 'acm_tran', 'emnlp', 'atr3', 'acl', 'atr14', 'atr35', 'atr18', 'jmlr', 'atr0', 'neurips', 'atr4', 'atr36', 'atr16', 'ieee_tran', 'atr6', 'icml', 'iclr', 'icra', 'atr28', 'atr26', 'atr30', 'atr7', 'num_ref_3years', 'atr15', 'atr17', 'atr13', 'atr21', 'eccv', 'naacl', 'atr19', 'atr37', 'atr5', 'neuralcom', 'atr29', 'atr12', 'atr23', 'atr24', 'atr38', 'atr33', 'mit_press', 'icassp']\n",
      "Accuracy: 92.36%\n"
     ]
    }
   ],
   "source": [
    "for i in dict(enumerate(combination)):\n",
    "    accuracy = model(combination, y, i+1)\n",
    "    print(\"Accuracy: %.2f%%\" % (accuracy * 100.0))"
   ]
  },
  {
   "cell_type": "code",
   "execution_count": 22,
   "metadata": {},
   "outputs": [],
   "source": [
    "test.to_excel('motivation.xlsx', index=False)"
   ]
  }
 ],
 "metadata": {
  "kernelspec": {
   "display_name": "Python 3",
   "language": "python",
   "name": "python3"
  },
  "language_info": {
   "codemirror_mode": {
    "name": "ipython",
    "version": 3
   },
   "file_extension": ".py",
   "mimetype": "text/x-python",
   "name": "python",
   "nbconvert_exporter": "python",
   "pygments_lexer": "ipython3",
   "version": "3.10.9"
  }
 },
 "nbformat": 4,
 "nbformat_minor": 2
}
